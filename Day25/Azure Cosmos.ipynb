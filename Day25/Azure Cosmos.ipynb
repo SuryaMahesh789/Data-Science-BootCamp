{
 "cells": [
  {
   "cell_type": "code",
   "execution_count": 1,
   "id": "7dcd9a57",
   "metadata": {},
   "outputs": [],
   "source": [
    "from azure.cosmos import CosmosClient\n",
    " \n",
    "# Define the endpoint and key as strings\n",
    "endpoint = \"https://suryaaccount.documents.azure.com:443/\"\n",
    "key = \"FFVCMMG4wYZOWTCHERzOyOUCMVQqQePqkSSSOaweRprFOWWkIAS4gsF2obWPvAW0Em7ElD2WaLe8ACDbTIgeHQ==\"\n",
    " \n",
    "# Create a CosmosClient instance\n",
    "client = CosmosClient(endpoint, key)"
   ]
  },
  {
   "cell_type": "code",
   "execution_count": 3,
   "id": "ae3593d9",
   "metadata": {},
   "outputs": [],
   "source": [
    "from azure.cosmos import CosmosClient, PartitionKey, exceptions"
   ]
  },
  {
   "cell_type": "code",
   "execution_count": 5,
   "id": "0c18588a",
   "metadata": {},
   "outputs": [
    {
     "name": "stdout",
     "output_type": "stream",
     "text": [
      "Database 'mydatabase' created successfully.\n"
     ]
    }
   ],
   "source": [
    "# Define a unique name for your database\n",
    "database_name = \"mydatabase\"\n",
    " \n",
    "# Create a database if it doesn't exist\n",
    "try:\n",
    "    database = client.create_database_if_not_exists(id=\"mydatabase\")\n",
    "    print(f\"Database 'mydatabase' created successfully.\")\n",
    "except exceptions.CosmosResourceExistsError:\n",
    "    print(f\"Database 'mydatabase' already exists.\")"
   ]
  },
  {
   "cell_type": "code",
   "execution_count": 6,
   "id": "9415d3ca",
   "metadata": {},
   "outputs": [
    {
     "data": {
      "text/plain": [
       "{'id': 'A011',\n",
       " 'name': 'Jane',\n",
       " '_rid': 'LEhiAI2lPa0LAAAAAAAAAA==',\n",
       " '_self': 'dbs/LEhiAA==/colls/LEhiAI2lPa0=/docs/LEhiAI2lPa0LAAAAAAAAAA==/',\n",
       " '_etag': '\"00006027-0000-0300-0000-66cef8f70000\"',\n",
       " '_attachments': 'attachments/',\n",
       " '_ts': 1724840183}"
      ]
     },
     "execution_count": 6,
     "metadata": {},
     "output_type": "execute_result"
    }
   ],
   "source": [
    "database = client.get_database_client(\"suriicdb\")\n",
    "container = database.get_container_client(\"suriicdb\")\n",
    "# Create an item\n",
    "item = {\"id\": \"A011\", \"name\": \"Jane\"}\n",
    "container.upsert_item(item)"
   ]
  },
  {
   "cell_type": "code",
   "execution_count": 7,
   "id": "350b175c",
   "metadata": {},
   "outputs": [
    {
     "name": "stdout",
     "output_type": "stream",
     "text": [
      "{'name': 'John Doe', 'id': 'A001', 'uni': 'University of Example', 'grade': 'A', 'placed': True, '_rid': 'LEhiAI2lPa0BAAAAAAAAAA==', '_self': 'dbs/LEhiAA==/colls/LEhiAI2lPa0=/docs/LEhiAI2lPa0BAAAAAAAAAA==/', '_etag': '\"00009826-0000-0300-0000-66ceedc80000\"', '_attachments': 'attachments/', '_ts': 1724837320}\n"
     ]
    }
   ],
   "source": [
    "# Define a query to select items\n",
    "query = \"SELECT * FROM c WHERE c.name = 'John Doe'\"\n",
    " \n",
    "# Execute the query\n",
    "items = list(container.query_items(\n",
    "    query=query,\n",
    "    enable_cross_partition_query=True\n",
    "))\n",
    " \n",
    "# Print the results\n",
    "for item in items:\n",
    "    print(item)"
   ]
  },
  {
   "cell_type": "code",
   "execution_count": 10,
   "id": "be98d304",
   "metadata": {},
   "outputs": [
    {
     "name": "stdout",
     "output_type": "stream",
     "text": [
      "{'name': 'John Doe', 'id': 'A001', 'uni': 'University of Example', 'grade': 'A', 'placed': True, '_rid': 'LEhiAI2lPa0BAAAAAAAAAA==', '_self': 'dbs/LEhiAA==/colls/LEhiAI2lPa0=/docs/LEhiAI2lPa0BAAAAAAAAAA==/', '_etag': '\"00009826-0000-0300-0000-66ceedc80000\"', '_attachments': 'attachments/', '_ts': 1724837320}\n",
      "{'name': 'Jane Smith', 'id': 'A002', 'uni': 'College of Example', 'grade': 'B', 'placed': False, '_rid': 'LEhiAI2lPa0CAAAAAAAAAA==', '_self': 'dbs/LEhiAA==/colls/LEhiAI2lPa0=/docs/LEhiAI2lPa0CAAAAAAAAAA==/', '_etag': '\"00009926-0000-0300-0000-66ceedc80000\"', '_attachments': 'attachments/', '_ts': 1724837320}\n",
      "{'name': 'Alice Johnson', 'id': 'A003', 'uni': 'Institute of Example', 'grade': 'A', 'placed': True, '_rid': 'LEhiAI2lPa0DAAAAAAAAAA==', '_self': 'dbs/LEhiAA==/colls/LEhiAI2lPa0=/docs/LEhiAI2lPa0DAAAAAAAAAA==/', '_etag': '\"00009a26-0000-0300-0000-66ceedc80000\"', '_attachments': 'attachments/', '_ts': 1724837320}\n",
      "{'name': 'Bob Brown', 'id': 'A004', 'uni': 'Example University', 'grade': 'C', 'placed': False, '_rid': 'LEhiAI2lPa0EAAAAAAAAAA==', '_self': 'dbs/LEhiAA==/colls/LEhiAI2lPa0=/docs/LEhiAI2lPa0EAAAAAAAAAA==/', '_etag': '\"00009b26-0000-0300-0000-66ceedc80000\"', '_attachments': 'attachments/', '_ts': 1724837320}\n",
      "{'name': 'Emily Davis', 'id': 'A005', 'uni': 'Example College', 'grade': 'B', 'placed': True, '_rid': 'LEhiAI2lPa0FAAAAAAAAAA==', '_self': 'dbs/LEhiAA==/colls/LEhiAI2lPa0=/docs/LEhiAI2lPa0FAAAAAAAAAA==/', '_etag': '\"00009c26-0000-0300-0000-66ceedc80000\"', '_attachments': 'attachments/', '_ts': 1724837320}\n",
      "{'name': 'Michael Wilson', 'id': 'A006', 'uni': 'Tech University', 'grade': 'A', 'placed': True, '_rid': 'LEhiAI2lPa0GAAAAAAAAAA==', '_self': 'dbs/LEhiAA==/colls/LEhiAI2lPa0=/docs/LEhiAI2lPa0GAAAAAAAAAA==/', '_etag': '\"00009d26-0000-0300-0000-66ceedc80000\"', '_attachments': 'attachments/', '_ts': 1724837320}\n",
      "{'name': 'Sarah Lee', 'id': 'A007', 'uni': 'University of Example', 'grade': 'B', 'placed': False, '_rid': 'LEhiAI2lPa0HAAAAAAAAAA==', '_self': 'dbs/LEhiAA==/colls/LEhiAI2lPa0=/docs/LEhiAI2lPa0HAAAAAAAAAA==/', '_etag': '\"00009e26-0000-0300-0000-66ceedc80000\"', '_attachments': 'attachments/', '_ts': 1724837320}\n",
      "{'name': 'David Martinez', 'id': 'A008', 'uni': 'Engineering Institute', 'grade': 'A', 'placed': True, '_rid': 'LEhiAI2lPa0IAAAAAAAAAA==', '_self': 'dbs/LEhiAA==/colls/LEhiAI2lPa0=/docs/LEhiAI2lPa0IAAAAAAAAAA==/', '_etag': '\"00009f26-0000-0300-0000-66ceedc80000\"', '_attachments': 'attachments/', '_ts': 1724837320}\n",
      "{'name': 'Laura Garcia', 'id': 'A009', 'uni': 'College of Example', 'grade': 'C', 'placed': False, '_rid': 'LEhiAI2lPa0JAAAAAAAAAA==', '_self': 'dbs/LEhiAA==/colls/LEhiAI2lPa0=/docs/LEhiAI2lPa0JAAAAAAAAAA==/', '_etag': '\"0000a026-0000-0300-0000-66ceedc80000\"', '_attachments': 'attachments/', '_ts': 1724837320}\n",
      "{'name': 'James Brown', 'id': 'A010', 'uni': 'Arts University', 'grade': 'B', 'placed': True, '_rid': 'LEhiAI2lPa0KAAAAAAAAAA==', '_self': 'dbs/LEhiAA==/colls/LEhiAI2lPa0=/docs/LEhiAI2lPa0KAAAAAAAAAA==/', '_etag': '\"0000a126-0000-0300-0000-66ceedc80000\"', '_attachments': 'attachments/', '_ts': 1724837320}\n",
      "{'id': 'A011', 'name': 'Jane', '_rid': 'LEhiAI2lPa0LAAAAAAAAAA==', '_self': 'dbs/LEhiAA==/colls/LEhiAI2lPa0=/docs/LEhiAI2lPa0LAAAAAAAAAA==/', '_etag': '\"00006027-0000-0300-0000-66cef8f70000\"', '_attachments': 'attachments/', '_ts': 1724840183}\n"
     ]
    }
   ],
   "source": [
    "# Define a query to select items\n",
    "query = \"SELECT * FROM c\"\n",
    " \n",
    "# Execute the query\n",
    "items = list(container.query_items(\n",
    "    query=query,\n",
    "    enable_cross_partition_query=True\n",
    "))\n",
    " \n",
    "# Print the results\n",
    "for item in items:\n",
    "    print(item)"
   ]
  },
  {
   "cell_type": "code",
   "execution_count": 14,
   "id": "ae5454ed",
   "metadata": {},
   "outputs": [
    {
     "name": "stdout",
     "output_type": "stream",
     "text": [
      "Containers in the database:\n",
      "suriicdb\n"
     ]
    }
   ],
   "source": [
    "try:\n",
    "    # Get a reference to the database\n",
    "    database = client.get_database_client(\"suriicdb\")\n",
    " \n",
    "    # List all containers in the database\n",
    "    containers = list(database.list_containers())\n",
    " \n",
    "    # Print container names\n",
    "    print(\"Containers in the database:\")\n",
    "    for container in containers:\n",
    "        print(container['id'])\n",
    " \n",
    "except exceptions.CosmosResourceNotFoundError:\n",
    "    print(f\"Database '{database_name}' not found.\")\n",
    "except exceptions.CosmosHttpResponseError as e:\n",
    "    print(f\"An error occurred: {e}\")"
   ]
  },
  {
   "cell_type": "code",
   "execution_count": null,
   "id": "8c94524a",
   "metadata": {},
   "outputs": [],
   "source": []
  }
 ],
 "metadata": {
  "kernelspec": {
   "display_name": "Python 3 (ipykernel)",
   "language": "python",
   "name": "python3"
  },
  "language_info": {
   "codemirror_mode": {
    "name": "ipython",
    "version": 3
   },
   "file_extension": ".py",
   "mimetype": "text/x-python",
   "name": "python",
   "nbconvert_exporter": "python",
   "pygments_lexer": "ipython3",
   "version": "3.11.4"
  }
 },
 "nbformat": 4,
 "nbformat_minor": 5
}
