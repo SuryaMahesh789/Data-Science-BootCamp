{
 "cells": [
  {
   "cell_type": "code",
   "execution_count": 104,
   "metadata": {
    "application/vnd.databricks.v1+cell": {
     "cellMetadata": {
      "byteLimit": 2048000,
      "rowLimit": 10000
     },
     "inputWidgets": {},
     "nuid": "bd9c07fb-01f7-4332-ae43-fea1592fe420",
     "showTitle": false,
     "title": ""
    }
   },
   "outputs": [],
   "source": [
    "# pip install pyspark"
   ]
  },
  {
   "cell_type": "code",
   "execution_count": 105,
   "metadata": {
    "application/vnd.databricks.v1+cell": {
     "cellMetadata": {
      "byteLimit": 2048000,
      "rowLimit": 10000
     },
     "inputWidgets": {},
     "nuid": "467c2f5a-c33d-4217-9efe-49eae60fad0d",
     "showTitle": false,
     "title": ""
    }
   },
   "outputs": [],
   "source": [
    "from pyspark.sql import SparkSession\n",
    "from pyspark.sql.functions import col, concat_ws, split"
   ]
  },
  {
   "cell_type": "code",
   "execution_count": 106,
   "metadata": {
    "application/vnd.databricks.v1+cell": {
     "cellMetadata": {
      "byteLimit": 2048000,
      "rowLimit": 10000
     },
     "inputWidgets": {},
     "nuid": "179389f1-646a-4049-82ca-f9eee2927092",
     "showTitle": false,
     "title": ""
    }
   },
   "outputs": [
    {
     "data": {
      "text/plain": [
       "pyspark.sql.session.SparkSession"
      ]
     },
     "execution_count": 106,
     "metadata": {},
     "output_type": "execute_result"
    }
   ],
   "source": [
    "SparkSession"
   ]
  },
  {
   "cell_type": "code",
   "execution_count": 107,
   "metadata": {
    "application/vnd.databricks.v1+cell": {
     "cellMetadata": {
      "byteLimit": 2048000,
      "rowLimit": 10000
     },
     "inputWidgets": {},
     "nuid": "02755e18-925c-44af-bdb5-aa3a3e449556",
     "showTitle": false,
     "title": ""
    }
   },
   "outputs": [],
   "source": [
    "spark = SparkSession.builder.appName('Youtube_Data_Analysis').getOrCreate()"
   ]
  },
  {
   "cell_type": "code",
   "execution_count": 108,
   "metadata": {
    "application/vnd.databricks.v1+cell": {
     "cellMetadata": {
      "byteLimit": 2048000,
      "rowLimit": 10000
     },
     "inputWidgets": {},
     "nuid": "2f01fc2f-9dfc-4dd5-87e9-cbcdccfb81cf",
     "showTitle": false,
     "title": ""
    }
   },
   "outputs": [
    {
     "data": {
      "text/html": [
       "\n",
       "            <div>\n",
       "                <p><b>SparkSession - in-memory</b></p>\n",
       "                \n",
       "        <div>\n",
       "            <p><b>SparkContext</b></p>\n",
       "\n",
       "            <p><a href=\"http://SPNRNT0370.hosur.tvsmotor.co.in:4040\">Spark UI</a></p>\n",
       "\n",
       "            <dl>\n",
       "              <dt>Version</dt>\n",
       "                <dd><code>v3.5.2</code></dd>\n",
       "              <dt>Master</dt>\n",
       "                <dd><code>local[*]</code></dd>\n",
       "              <dt>AppName</dt>\n",
       "                <dd><code>Youtube_Data_Analysis</code></dd>\n",
       "            </dl>\n",
       "        </div>\n",
       "        \n",
       "            </div>\n",
       "        "
      ],
      "text/plain": [
       "<pyspark.sql.session.SparkSession at 0x1fe2d0951f0>"
      ]
     },
     "execution_count": 108,
     "metadata": {},
     "output_type": "execute_result"
    }
   ],
   "source": [
    "spark"
   ]
  },
  {
   "cell_type": "code",
   "execution_count": 109,
   "metadata": {
    "application/vnd.databricks.v1+cell": {
     "cellMetadata": {
      "byteLimit": 2048000,
      "rowLimit": 10000
     },
     "inputWidgets": {},
     "nuid": "3d5bb3c1-af5b-4dd4-a7c8-7d3b0f6a9f2b",
     "showTitle": false,
     "title": ""
    }
   },
   "outputs": [
    {
     "data": {
      "text/html": [
       "\n",
       "        <div>\n",
       "            <p><b>SparkContext</b></p>\n",
       "\n",
       "            <p><a href=\"http://SPNRNT0370.hosur.tvsmotor.co.in:4040\">Spark UI</a></p>\n",
       "\n",
       "            <dl>\n",
       "              <dt>Version</dt>\n",
       "                <dd><code>v3.5.2</code></dd>\n",
       "              <dt>Master</dt>\n",
       "                <dd><code>local[*]</code></dd>\n",
       "              <dt>AppName</dt>\n",
       "                <dd><code>Youtube_Data_Analysis</code></dd>\n",
       "            </dl>\n",
       "        </div>\n",
       "        "
      ],
      "text/plain": [
       "<SparkContext master=local[*] appName=Youtube_Data_Analysis>"
      ]
     },
     "execution_count": 109,
     "metadata": {},
     "output_type": "execute_result"
    }
   ],
   "source": [
    "spark.sparkContext"
   ]
  },
  {
   "cell_type": "code",
   "execution_count": 110,
   "metadata": {
    "application/vnd.databricks.v1+cell": {
     "cellMetadata": {
      "byteLimit": 2048000,
      "rowLimit": 10000
     },
     "inputWidgets": {},
     "nuid": "cfc3a807-5118-41c3-945f-3a1ee3534253",
     "showTitle": false,
     "title": ""
    }
   },
   "outputs": [],
   "source": [
    "from pyspark.sql.types import StructType,StructField,StringType,IntegerType\n",
    "from pyspark.sql.functions import *"
   ]
  },
  {
   "cell_type": "code",
   "execution_count": 111,
   "metadata": {
    "application/vnd.databricks.v1+cell": {
     "cellMetadata": {
      "byteLimit": 2048000,
      "rowLimit": 10000
     },
     "inputWidgets": {},
     "nuid": "6b43354e-5166-4606-9d06-d5365e3fdef1",
     "showTitle": false,
     "title": ""
    }
   },
   "outputs": [
    {
     "data": {
      "text/html": [
       "<div>\n",
       "<style scoped>\n",
       "    .dataframe tbody tr th:only-of-type {\n",
       "        vertical-align: middle;\n",
       "    }\n",
       "\n",
       "    .dataframe tbody tr th {\n",
       "        vertical-align: top;\n",
       "    }\n",
       "\n",
       "    .dataframe thead th {\n",
       "        text-align: right;\n",
       "    }\n",
       "</style>\n",
       "<table border=\"1\" class=\"dataframe\">\n",
       "  <thead>\n",
       "    <tr style=\"text-align: right;\">\n",
       "      <th></th>\n",
       "      <th>_c0</th>\n",
       "      <th>_c1</th>\n",
       "      <th>_c2</th>\n",
       "      <th>_c3</th>\n",
       "      <th>_c4</th>\n",
       "      <th>_c5</th>\n",
       "      <th>_c6</th>\n",
       "      <th>_c7</th>\n",
       "      <th>_c8</th>\n",
       "      <th>_c9</th>\n",
       "      <th>...</th>\n",
       "      <th>_c13</th>\n",
       "      <th>_c14</th>\n",
       "      <th>_c15</th>\n",
       "      <th>_c16</th>\n",
       "      <th>_c17</th>\n",
       "      <th>_c18</th>\n",
       "      <th>_c19</th>\n",
       "      <th>_c20</th>\n",
       "      <th>_c21</th>\n",
       "      <th>_c22</th>\n",
       "    </tr>\n",
       "  </thead>\n",
       "  <tbody>\n",
       "    <tr>\n",
       "      <th>0</th>\n",
       "      <td>QuRYeRnAuXM</td>\n",
       "      <td>EvilSquirrelPictures</td>\n",
       "      <td>1135.0</td>\n",
       "      <td>Pets &amp; Animals</td>\n",
       "      <td>252.0</td>\n",
       "      <td>1075.0</td>\n",
       "      <td>4.96</td>\n",
       "      <td>46.0</td>\n",
       "      <td>86.0</td>\n",
       "      <td>gFa1YMEJFag</td>\n",
       "      <td>...</td>\n",
       "      <td>0TZqX5MbXMA</td>\n",
       "      <td>UEvVksP91kg</td>\n",
       "      <td>ZTopArY7Nbg</td>\n",
       "      <td>0RViGi2Rne8</td>\n",
       "      <td>HT_QlOJbDpg</td>\n",
       "      <td>YZev1imoxX8</td>\n",
       "      <td>8qQrrfUTmh0</td>\n",
       "      <td>zQ83d_D2MGs</td>\n",
       "      <td>u6_DQQjLsAw</td>\n",
       "      <td>73Wz9CQFDtE</td>\n",
       "    </tr>\n",
       "    <tr>\n",
       "      <th>1</th>\n",
       "      <td>3TYqkBJ9YRk</td>\n",
       "      <td>hggh22</td>\n",
       "      <td>1135.0</td>\n",
       "      <td>Comedy</td>\n",
       "      <td>169.0</td>\n",
       "      <td>228.0</td>\n",
       "      <td>5.00</td>\n",
       "      <td>5.0</td>\n",
       "      <td>3.0</td>\n",
       "      <td>QuRYeRnAuXM</td>\n",
       "      <td>...</td>\n",
       "      <td>nRcovJn9xHg</td>\n",
       "      <td>sVkuOk4jmCo</td>\n",
       "      <td>ZTopArY7Nbg</td>\n",
       "      <td>HT_QlOJbDpg</td>\n",
       "      <td>0RViGi2Rne8</td>\n",
       "      <td>ShhClb6J-NA</td>\n",
       "      <td>g9e1alirMhc</td>\n",
       "      <td>YZev1imoxX8</td>\n",
       "      <td>I4yKEK9o8gA</td>\n",
       "      <td>zQ83d_D2MGs</td>\n",
       "    </tr>\n",
       "    <tr>\n",
       "      <th>2</th>\n",
       "      <td>rSJ8QZWBegU</td>\n",
       "      <td>TimeGem</td>\n",
       "      <td>1135.0</td>\n",
       "      <td>Entertainment</td>\n",
       "      <td>95.0</td>\n",
       "      <td>356.0</td>\n",
       "      <td>4.31</td>\n",
       "      <td>13.0</td>\n",
       "      <td>1.0</td>\n",
       "      <td>QuRYeRnAuXM</td>\n",
       "      <td>...</td>\n",
       "      <td>nRcovJn9xHg</td>\n",
       "      <td>sVkuOk4jmCo</td>\n",
       "      <td>ZTopArY7Nbg</td>\n",
       "      <td>gBcu22Vv1nY</td>\n",
       "      <td>HT_QlOJbDpg</td>\n",
       "      <td>0RViGi2Rne8</td>\n",
       "      <td>ShhClb6J-NA</td>\n",
       "      <td>g9e1alirMhc</td>\n",
       "      <td>YZev1imoxX8</td>\n",
       "      <td>I4yKEK9o8gA</td>\n",
       "    </tr>\n",
       "    <tr>\n",
       "      <th>3</th>\n",
       "      <td>nRcovJn9xHg</td>\n",
       "      <td>wooochacha</td>\n",
       "      <td>1135.0</td>\n",
       "      <td>Entertainment</td>\n",
       "      <td>118.0</td>\n",
       "      <td>1115.0</td>\n",
       "      <td>2.23</td>\n",
       "      <td>57.0</td>\n",
       "      <td>73.0</td>\n",
       "      <td>QuRYeRnAuXM</td>\n",
       "      <td>...</td>\n",
       "      <td>ZTopArY7Nbg</td>\n",
       "      <td>gBcu22Vv1nY</td>\n",
       "      <td>HT_QlOJbDpg</td>\n",
       "      <td>0RViGi2Rne8</td>\n",
       "      <td>ShhClb6J-NA</td>\n",
       "      <td>g9e1alirMhc</td>\n",
       "      <td>YZev1imoxX8</td>\n",
       "      <td>I4yKEK9o8gA</td>\n",
       "      <td>zQ83d_D2MGs</td>\n",
       "      <td>1GKaVzNDbuI</td>\n",
       "    </tr>\n",
       "    <tr>\n",
       "      <th>4</th>\n",
       "      <td>UEvVksP91kg</td>\n",
       "      <td>johnx113</td>\n",
       "      <td>1135.0</td>\n",
       "      <td>Entertainment</td>\n",
       "      <td>83.0</td>\n",
       "      <td>281.0</td>\n",
       "      <td>2.67</td>\n",
       "      <td>9.0</td>\n",
       "      <td>16.0</td>\n",
       "      <td>gFa1YMEJFag</td>\n",
       "      <td>...</td>\n",
       "      <td>rSJ8QZWBegU</td>\n",
       "      <td>nRcovJn9xHg</td>\n",
       "      <td>sVkuOk4jmCo</td>\n",
       "      <td>ZTopArY7Nbg</td>\n",
       "      <td>HT_QlOJbDpg</td>\n",
       "      <td>0RViGi2Rne8</td>\n",
       "      <td>g9e1alirMhc</td>\n",
       "      <td>YZev1imoxX8</td>\n",
       "      <td>I4yKEK9o8gA</td>\n",
       "      <td>zQ83d_D2MGs</td>\n",
       "    </tr>\n",
       "    <tr>\n",
       "      <th>...</th>\n",
       "      <td>...</td>\n",
       "      <td>...</td>\n",
       "      <td>...</td>\n",
       "      <td>...</td>\n",
       "      <td>...</td>\n",
       "      <td>...</td>\n",
       "      <td>...</td>\n",
       "      <td>...</td>\n",
       "      <td>...</td>\n",
       "      <td>...</td>\n",
       "      <td>...</td>\n",
       "      <td>...</td>\n",
       "      <td>...</td>\n",
       "      <td>...</td>\n",
       "      <td>...</td>\n",
       "      <td>...</td>\n",
       "      <td>...</td>\n",
       "      <td>...</td>\n",
       "      <td>...</td>\n",
       "      <td>...</td>\n",
       "      <td>...</td>\n",
       "    </tr>\n",
       "    <tr>\n",
       "      <th>4095</th>\n",
       "      <td>esCvu46qDaA</td>\n",
       "      <td>RSMFD</td>\n",
       "      <td>863.0</td>\n",
       "      <td>Entertainment</td>\n",
       "      <td>63.0</td>\n",
       "      <td>116929.0</td>\n",
       "      <td>4.84</td>\n",
       "      <td>182.0</td>\n",
       "      <td>222.0</td>\n",
       "      <td>8t4m5JM5r6Y</td>\n",
       "      <td>...</td>\n",
       "      <td>bhLbFGVduTA</td>\n",
       "      <td>tJGDW674hVo</td>\n",
       "      <td>TecLbWk8A3w</td>\n",
       "      <td>3Yb5YTEVlEo</td>\n",
       "      <td>e4yx1s-l6f8</td>\n",
       "      <td>yB62b8S3Ra4</td>\n",
       "      <td>2GHiAEeFQs0</td>\n",
       "      <td>pxcDZ9AohLM</td>\n",
       "      <td>G8OlUZEnyOA</td>\n",
       "      <td>M80K51DosFo</td>\n",
       "    </tr>\n",
       "    <tr>\n",
       "      <th>4096</th>\n",
       "      <td>kOZ8bRAO7YQ</td>\n",
       "      <td>RockstarGames</td>\n",
       "      <td>0.0</td>\n",
       "      <td>UNA</td>\n",
       "      <td>63.0</td>\n",
       "      <td>199361.0</td>\n",
       "      <td>4.79</td>\n",
       "      <td>1256.0</td>\n",
       "      <td>2410.0</td>\n",
       "      <td>None</td>\n",
       "      <td>...</td>\n",
       "      <td>None</td>\n",
       "      <td>None</td>\n",
       "      <td>None</td>\n",
       "      <td>None</td>\n",
       "      <td>None</td>\n",
       "      <td>None</td>\n",
       "      <td>None</td>\n",
       "      <td>None</td>\n",
       "      <td>None</td>\n",
       "      <td>None</td>\n",
       "    </tr>\n",
       "    <tr>\n",
       "      <th>4097</th>\n",
       "      <td>GSsVZcKHues</td>\n",
       "      <td>GTASite</td>\n",
       "      <td>1024.0</td>\n",
       "      <td>Entertainment</td>\n",
       "      <td>123.0</td>\n",
       "      <td>486752.0</td>\n",
       "      <td>4.86</td>\n",
       "      <td>1098.0</td>\n",
       "      <td>1764.0</td>\n",
       "      <td>TecLbWk8A3w</td>\n",
       "      <td>...</td>\n",
       "      <td>5-reBn0gUkg</td>\n",
       "      <td>PHLmbD_dLh4</td>\n",
       "      <td>bhLbFGVduTA</td>\n",
       "      <td>zwp3HEwA1oM</td>\n",
       "      <td>XjR5e2W8n8E</td>\n",
       "      <td>ka8xZhlMvps</td>\n",
       "      <td>pP3oC2pf_EU</td>\n",
       "      <td>YDgd4V0ILNw</td>\n",
       "      <td>q3qdBVDZrmE</td>\n",
       "      <td>hKSk1bW9qzw</td>\n",
       "    </tr>\n",
       "    <tr>\n",
       "      <th>4098</th>\n",
       "      <td>foKRqJGcbPQ</td>\n",
       "      <td>scrambledeggsTV</td>\n",
       "      <td>1100.0</td>\n",
       "      <td>Entertainment</td>\n",
       "      <td>136.0</td>\n",
       "      <td>13115.0</td>\n",
       "      <td>4.45</td>\n",
       "      <td>33.0</td>\n",
       "      <td>37.0</td>\n",
       "      <td>LzI9VyIjpDI</td>\n",
       "      <td>...</td>\n",
       "      <td>e4yx1s-l6f8</td>\n",
       "      <td>hKSk1bW9qzw</td>\n",
       "      <td>WWdESkWpKvI</td>\n",
       "      <td>2GHiAEeFQs0</td>\n",
       "      <td>GSsVZcKHues</td>\n",
       "      <td>q3qdBVDZrmE</td>\n",
       "      <td>IbEW4N3DmI0</td>\n",
       "      <td>odXW0Uaj8aU</td>\n",
       "      <td>z84ko4Xzn40</td>\n",
       "      <td>Qjj_uMubxP0</td>\n",
       "    </tr>\n",
       "    <tr>\n",
       "      <th>4099</th>\n",
       "      <td>-CYhSNHbeC8</td>\n",
       "      <td>rehab07</td>\n",
       "      <td>771.0</td>\n",
       "      <td>Entertainment</td>\n",
       "      <td>186.0</td>\n",
       "      <td>103556.0</td>\n",
       "      <td>4.30</td>\n",
       "      <td>277.0</td>\n",
       "      <td>220.0</td>\n",
       "      <td>wtVeF5bT6YQ</td>\n",
       "      <td>...</td>\n",
       "      <td>e4yx1s-l6f8</td>\n",
       "      <td>47EWHY3E5AM</td>\n",
       "      <td>uWIXSr5H_SI</td>\n",
       "      <td>cRqUsvTsbho</td>\n",
       "      <td>TecLbWk8A3w</td>\n",
       "      <td>yB62b8S3Ra4</td>\n",
       "      <td>27q5bD9e_ew</td>\n",
       "      <td>F5m4wyZxLq4</td>\n",
       "      <td>0n1plrwQwrk</td>\n",
       "      <td>GZ_ct8ad-dY</td>\n",
       "    </tr>\n",
       "  </tbody>\n",
       "</table>\n",
       "<p>4100 rows × 23 columns</p>\n",
       "</div>"
      ],
      "text/plain": [
       "              _c0                   _c1     _c2             _c3    _c4  \\\n",
       "0     QuRYeRnAuXM  EvilSquirrelPictures  1135.0  Pets & Animals  252.0   \n",
       "1     3TYqkBJ9YRk                hggh22  1135.0          Comedy  169.0   \n",
       "2     rSJ8QZWBegU               TimeGem  1135.0   Entertainment   95.0   \n",
       "3     nRcovJn9xHg            wooochacha  1135.0   Entertainment  118.0   \n",
       "4     UEvVksP91kg              johnx113  1135.0   Entertainment   83.0   \n",
       "...           ...                   ...     ...             ...    ...   \n",
       "4095  esCvu46qDaA                 RSMFD   863.0   Entertainment   63.0   \n",
       "4096  kOZ8bRAO7YQ         RockstarGames     0.0            UNA    63.0   \n",
       "4097  GSsVZcKHues               GTASite  1024.0   Entertainment  123.0   \n",
       "4098  foKRqJGcbPQ       scrambledeggsTV  1100.0   Entertainment  136.0   \n",
       "4099  -CYhSNHbeC8               rehab07   771.0   Entertainment  186.0   \n",
       "\n",
       "           _c5   _c6     _c7     _c8          _c9  ...         _c13  \\\n",
       "0       1075.0  4.96    46.0    86.0  gFa1YMEJFag  ...  0TZqX5MbXMA   \n",
       "1        228.0  5.00     5.0     3.0  QuRYeRnAuXM  ...  nRcovJn9xHg   \n",
       "2        356.0  4.31    13.0     1.0  QuRYeRnAuXM  ...  nRcovJn9xHg   \n",
       "3       1115.0  2.23    57.0    73.0  QuRYeRnAuXM  ...  ZTopArY7Nbg   \n",
       "4        281.0  2.67     9.0    16.0  gFa1YMEJFag  ...  rSJ8QZWBegU   \n",
       "...        ...   ...     ...     ...          ...  ...          ...   \n",
       "4095  116929.0  4.84   182.0   222.0  8t4m5JM5r6Y  ...  bhLbFGVduTA   \n",
       "4096  199361.0  4.79  1256.0  2410.0         None  ...         None   \n",
       "4097  486752.0  4.86  1098.0  1764.0  TecLbWk8A3w  ...  5-reBn0gUkg   \n",
       "4098   13115.0  4.45    33.0    37.0  LzI9VyIjpDI  ...  e4yx1s-l6f8   \n",
       "4099  103556.0  4.30   277.0   220.0  wtVeF5bT6YQ  ...  e4yx1s-l6f8   \n",
       "\n",
       "             _c14         _c15         _c16         _c17         _c18  \\\n",
       "0     UEvVksP91kg  ZTopArY7Nbg  0RViGi2Rne8  HT_QlOJbDpg  YZev1imoxX8   \n",
       "1     sVkuOk4jmCo  ZTopArY7Nbg  HT_QlOJbDpg  0RViGi2Rne8  ShhClb6J-NA   \n",
       "2     sVkuOk4jmCo  ZTopArY7Nbg  gBcu22Vv1nY  HT_QlOJbDpg  0RViGi2Rne8   \n",
       "3     gBcu22Vv1nY  HT_QlOJbDpg  0RViGi2Rne8  ShhClb6J-NA  g9e1alirMhc   \n",
       "4     nRcovJn9xHg  sVkuOk4jmCo  ZTopArY7Nbg  HT_QlOJbDpg  0RViGi2Rne8   \n",
       "...           ...          ...          ...          ...          ...   \n",
       "4095  tJGDW674hVo  TecLbWk8A3w  3Yb5YTEVlEo  e4yx1s-l6f8  yB62b8S3Ra4   \n",
       "4096         None         None         None         None         None   \n",
       "4097  PHLmbD_dLh4  bhLbFGVduTA  zwp3HEwA1oM  XjR5e2W8n8E  ka8xZhlMvps   \n",
       "4098  hKSk1bW9qzw  WWdESkWpKvI  2GHiAEeFQs0  GSsVZcKHues  q3qdBVDZrmE   \n",
       "4099  47EWHY3E5AM  uWIXSr5H_SI  cRqUsvTsbho  TecLbWk8A3w  yB62b8S3Ra4   \n",
       "\n",
       "             _c19         _c20         _c21         _c22  \n",
       "0     8qQrrfUTmh0  zQ83d_D2MGs  u6_DQQjLsAw  73Wz9CQFDtE  \n",
       "1     g9e1alirMhc  YZev1imoxX8  I4yKEK9o8gA  zQ83d_D2MGs  \n",
       "2     ShhClb6J-NA  g9e1alirMhc  YZev1imoxX8  I4yKEK9o8gA  \n",
       "3     YZev1imoxX8  I4yKEK9o8gA  zQ83d_D2MGs  1GKaVzNDbuI  \n",
       "4     g9e1alirMhc  YZev1imoxX8  I4yKEK9o8gA  zQ83d_D2MGs  \n",
       "...           ...          ...          ...          ...  \n",
       "4095  2GHiAEeFQs0  pxcDZ9AohLM  G8OlUZEnyOA  M80K51DosFo  \n",
       "4096         None         None         None         None  \n",
       "4097  pP3oC2pf_EU  YDgd4V0ILNw  q3qdBVDZrmE  hKSk1bW9qzw  \n",
       "4098  IbEW4N3DmI0  odXW0Uaj8aU  z84ko4Xzn40  Qjj_uMubxP0  \n",
       "4099  27q5bD9e_ew  F5m4wyZxLq4  0n1plrwQwrk  GZ_ct8ad-dY  \n",
       "\n",
       "[4100 rows x 23 columns]"
      ]
     },
     "execution_count": 111,
     "metadata": {},
     "output_type": "execute_result"
    }
   ],
   "source": [
    "# Load the CSV file without headers\n",
    "# Read the CSV file with space separator\n",
    "df = spark.read.csv('youtubedata.csv',header=False,inferSchema=True)\n",
    "df.toPandas()"
   ]
  },
  {
   "cell_type": "code",
   "execution_count": 112,
   "metadata": {
    "application/vnd.databricks.v1+cell": {
     "cellMetadata": {
      "byteLimit": 2048000,
      "rowLimit": 10000
     },
     "inputWidgets": {},
     "nuid": "950474b3-e219-4f8a-8a31-1a45047f1a3c",
     "showTitle": false,
     "title": ""
    }
   },
   "outputs": [],
   "source": [
    "# Define the column names\n",
    "column_names = [\n",
    "    \"Video ID\", \n",
    "    \"Video Uploader\", \n",
    "    \"Interval between YouTube Establishment and Video Upload\",\n",
    "    \"Video Category\", \n",
    "    \"Video Length\", \n",
    "    \"Number of Views\", \n",
    "    \"Rating on the Video\", \n",
    "    \"Number of Ratings\", \n",
    "    \"Number of Comments\", \n",
    "    \"Related Video IDs\"\n",
    "]\n",
    "\n",
    "\n",
    "# Rename the first 9 columns using the provided names\n",
    "for i in range(len(column_names)):\n",
    "    df = df.withColumnRenamed(f\"_c{i}\", column_names[i])    \n",
    "    "
   ]
  },
  {
   "cell_type": "code",
   "execution_count": 113,
   "metadata": {
    "application/vnd.databricks.v1+cell": {
     "cellMetadata": {
      "byteLimit": 2048000,
      "rowLimit": 10000
     },
     "inputWidgets": {},
     "nuid": "60e07c8c-48b0-4e0e-b448-306404e712fb",
     "showTitle": false,
     "title": ""
    }
   },
   "outputs": [
    {
     "name": "stdout",
     "output_type": "stream",
     "text": [
      "+-----------+--------------------+-------------------------------------------------------+----------------+------------+---------------+-------------------+-----------------+------------------+-----------------+-----------+-----------+-----------+-----------+-----------+-----------+-----------+-----------+-----------+-----------+-----------+-----------+-----------+\n",
      "|   Video ID|      Video Uploader|Interval between YouTube Establishment and Video Upload|  Video Category|Video Length|Number of Views|Rating on the Video|Number of Ratings|Number of Comments|Related Video IDs|       _c10|       _c11|       _c12|       _c13|       _c14|       _c15|       _c16|       _c17|       _c18|       _c19|       _c20|       _c21|       _c22|\n",
      "+-----------+--------------------+-------------------------------------------------------+----------------+------------+---------------+-------------------+-----------------+------------------+-----------------+-----------+-----------+-----------+-----------+-----------+-----------+-----------+-----------+-----------+-----------+-----------+-----------+-----------+\n",
      "|QuRYeRnAuXM|EvilSquirrelPictures|                                                 1135.0|  Pets & Animals|         252|           1075|               4.96|               46|                86|      gFa1YMEJFag|nRcovJn9xHg|3TYqkBJ9YRk|rSJ8QZWBegU|0TZqX5MbXMA|UEvVksP91kg|ZTopArY7Nbg|0RViGi2Rne8|HT_QlOJbDpg|YZev1imoxX8|8qQrrfUTmh0|zQ83d_D2MGs|u6_DQQjLsAw|73Wz9CQFDtE|\n",
      "|3TYqkBJ9YRk|              hggh22|                                                 1135.0|          Comedy|         169|            228|                5.0|                5|                 3|      QuRYeRnAuXM|gFa1YMEJFag|UEvVksP91kg|rSJ8QZWBegU|nRcovJn9xHg|sVkuOk4jmCo|ZTopArY7Nbg|HT_QlOJbDpg|0RViGi2Rne8|ShhClb6J-NA|g9e1alirMhc|YZev1imoxX8|I4yKEK9o8gA|zQ83d_D2MGs|\n",
      "|rSJ8QZWBegU|             TimeGem|                                                 1135.0|   Entertainment|          95|            356|               4.31|               13|                 1|      QuRYeRnAuXM|gFa1YMEJFag|UEvVksP91kg|3TYqkBJ9YRk|nRcovJn9xHg|sVkuOk4jmCo|ZTopArY7Nbg|gBcu22Vv1nY|HT_QlOJbDpg|0RViGi2Rne8|ShhClb6J-NA|g9e1alirMhc|YZev1imoxX8|I4yKEK9o8gA|\n",
      "|nRcovJn9xHg|          wooochacha|                                                 1135.0|   Entertainment|         118|           1115|               2.23|               57|                73|      QuRYeRnAuXM|gFa1YMEJFag|UEvVksP91kg|3TYqkBJ9YRk|ZTopArY7Nbg|gBcu22Vv1nY|HT_QlOJbDpg|0RViGi2Rne8|ShhClb6J-NA|g9e1alirMhc|YZev1imoxX8|I4yKEK9o8gA|zQ83d_D2MGs|1GKaVzNDbuI|\n",
      "|UEvVksP91kg|            johnx113|                                                 1135.0|   Entertainment|          83|            281|               2.67|                9|                16|      gFa1YMEJFag|QuRYeRnAuXM|3TYqkBJ9YRk|0TZqX5MbXMA|rSJ8QZWBegU|nRcovJn9xHg|sVkuOk4jmCo|ZTopArY7Nbg|HT_QlOJbDpg|0RViGi2Rne8|g9e1alirMhc|YZev1imoxX8|I4yKEK9o8gA|zQ83d_D2MGs|\n",
      "|sVkuOk4jmCo|       marcosoycadiz|                                                 1135.0|  People & Blogs|          49|           1196|               3.67|                6|                 5|      yjt5v88-6Aw|sLrWjhvCoW8|dergWtU1tnE|Cs3TbaYxg_A|OOHsD-akNw0|9Vajm_u9TsI|ZW62z2-QfpA|4ki_fVDDlzs|WJ2WTPtijSc|8TknA5BqRBc|M2fcueuny7s|8Wd6y3Pb2yA|0aKz7qdtMj0|x50W-TW6yGg|\n",
      "|ZTopArY7Nbg|         TroyChannel|                                                 1136.0|   Entertainment|         145|             11|                0.0|                0|                 0|      THM3FYUNyr8|pQPhV1mzh-g|NeIGddkjxJI|8-vZvDjh_3g|N6RuQAW1ALc|Dc_MIs3NzIQ|LsSendGJARs|MHADThckgkE|OTJGrqVOubA|BjU-c_aBXtc|dT1Hmv_2Qg8|apqOIWiKaXc|vX0vqQuXI9g|Gb7ztQ-baqo|\n",
      "|0RViGi2Rne8|        OmnipotentSI|                                                 1135.0|   Entertainment|           9|            490|               2.31|               26|                15|      rSJ8QZWBegU|nRcovJn9xHg|0TZqX5MbXMA|UEvVksP91kg|gFa1YMEJFag|QuRYeRnAuXM|3TYqkBJ9YRk|HT_QlOJbDpg|ZTopArY7Nbg|g9e1alirMhc|YZev1imoxX8|I4yKEK9o8gA|zQ83d_D2MGs|1GKaVzNDbuI|\n",
      "|HT_QlOJbDpg|   dumbasstheredneck|                                                 1095.0|          Comedy|          14|           1349|               2.09|               22|                13|      cdbp6rCVzRs|jVxz9wKEa3A|mUoRI-VnV6w|bGRB0Pwx_iM|B09qqpGr4Xo|6Xdg_elOGaY|8-7axRRXpfE|VO_mUdKmyds|1vGH08qoclk|eP94rcWKMNM|jFGu4xEvWUc|e7SnPCWPFxE|G_my4iaIYIM|e9y0_BgZU7g|\n",
      "|ShhClb6J-NA|         thecrashguy|                                                 1136.0|   Entertainment|          61|             29|                0.0|                0|                 0|      8dEezTw8J_o|6DK-CJh6hTY|SArJyLS6T_Y|boRch04lh0I|yop2Ipym-ls|Ydnc_c4Afj0|HFaCubSrqdQ|tpUcCvJ9cio|8MrfxlBkHMQ|_CNGEzIuf_I|bKOzgNvNgTE|JJtHjzlBigU|fGkPWRrOTXA|oBqH_5mPxsc|\n",
      "|g9e1alirMhc|      iamdanielisaac|                                                  541.0|          Comedy|         152|         483053|               4.65|             2689|              2932|      _i6OD_y_-AI|1GKaVzNDbuI|Bd61LnxqSng|97cWs8tW8mY|I4yKEK9o8gA|IBqQWAjBgmE|myQpL8_M980|WWqed9u6rr4|-mQH9DloKD8|2l6vwAIAqNU|E3XaD3Yu3qA|pFUYi7dp1WU|Dto7-3aOt8w|hiSmlmXp-aU|\n",
      "|YZev1imoxX8|     threefirstnames|                                                 1135.0|   Entertainment|         253|             63|                5.0|                3|                 2|      ldZPDf2cwqI|-UvVtpmh4EQ|BzwpvskqHa4|OJtAoLrGA8Q|q5QOvQ8ZYUQ|MFmMssHR0Rc|vDuIB8Gv9GQ|3kITDVTeo-c|Dt5X1_3S_kM|P2OguaWyfzQ|vOAYUoiPkzA|_6ruNbrssO4|sSUu4ROj3FQ|n5Ngq0mKKzA|\n",
      "|I4yKEK9o8gA|           djlogitek|                                                  964.0| News & Politics|         173|         106929|               4.39|             1010|              1484|      g9e1alirMhc|1GKaVzNDbuI|qCUYgddlvRM|J0Qu6eyyr4c|8n-nT-luFIw|q8XToX7aSdg|dzUNvEfYDEQ|WWqed9u6rr4|2l6vwAIAqNU|VWYX-LiQggc|gMuxyRbNLFM|IBqQWAjBgmE|JZekosYOmXc|DomumdGQSg8|\n",
      "|1GKaVzNDbuI|             fatvids|                                                  690.0|          Comedy|         176|        2464486|                4.5|            13342|             11997|      Bd61LnxqSng|g9e1alirMhc|UrNqx1p95qs|sEJLOmVOpcU|WGV4u6GhGhw|Dto7-3aOt8w|I4yKEK9o8gA|p9CypIsNSvM|qJXYN3wFhgo|Vqiw-Kqtlr0|bnuaPr4hlCU|CKjha-rohzc|hSlo0T0CNI4|_i6OD_y_-AI|\n",
      "|yuZhwV24PmM|          weneedhelp|                                                 1082.0| News & Politics|         213|          46183|               4.71|              280|               247|      hU9iCANi02o|xq8aopATYyw|g9e1alirMhc|I4yKEK9o8gA|HuTqgqhxVMc|QoMCoMMgeO0|6h3G-lMZxjo|b4LuFQJmS1Y|7ZVpPGxuafA|bfZ_gXCHaMw|1GKaVzNDbuI|9Fr1dm2Qdls|WWqed9u6rr4|L3gQfz8GC0o|\n",
      "|zQ83d_D2MGs|   dumbasstheredneck|                                                 1095.0|          Comedy|          14|           1550|               1.57|               14|                 4|      HT_QlOJbDpg|cdbp6rCVzRs|gAHZ7DRyIgY|mUoRI-VnV6w|jFGu4xEvWUc|TEPH9ScDy1E|AK9_-sLF5M0|6Xdg_elOGaY|p4NVl4W6FHM|mCLw4iGZ7Ms|bGRB0Pwx_iM|ifTbWQW0w64|tPi04TrYskw|n00wAO4hg-U|\n",
      "|DomumdGQSg8|           imgrown18|                                                  910.0|          Comedy|         224|         392908|                4.8|             1261|               829|      lVTS0iuo1EY|eOIFF_5ORGo|n7rlp3SLtus|u_9vYy-TCCk|kpq0zL-oW4M|J5z4Vs26-TI|b-iTzU_ZD4k|CvCqT9hkZiA|s5CqcdpwEq8|pvVo1290j1w|6g0XGKuC-ek|7TXjtbl2y3U|hpsra8ojBHQ|pqhlG9qYsR8|\n",
      "|pFUYi7dp1WU|      StanleyJenkins|                                                 1106.0|          Comedy|         200|         110272|               4.07|             1011|               482|      _1haYY5pV18|ue5lVJuNlzQ|AkjUOT67hcU|Xw6xEYeUfj4|5e5tKtCoBfY|ZNfFc4-gV38|T4X8uj_SYPQ|IgVHe9CDQnU|l7Z818lnTK0|1piuJzS7H-4|1OErkBJ8Ha4|5MOriOpcgeQ|J5z4Vs26-TI|LpGZWsCapX4|\n",
      "|2l6vwAIAqNU|        makemagazine|                                                  460.0|Film & Animation|         294|          71966|               4.07|              260|               229|      g9e1alirMhc|hiSmlmXp-aU|I4yKEK9o8gA|EGzHBtoVvpc|-mQH9DloKD8|IBqQWAjBgmE|LY0-Ya2YEoE|voQACEw_9EE|IiDQwQQsrL8|DomumdGQSg8|97cWs8tW8mY|NVOFmu2ZIqI|NfOPi0QO0FQ|gqHPYTUTToc|\n",
      "|hiSmlmXp-aU|       bravenewfilms|                                                  440.0|   Entertainment|         168|         653840|               4.43|              198|               377|      ED6YaRl93CE|IBqQWAjBgmE|EGzHBtoVvpc|2l6vwAIAqNU|g9e1alirMhc|-mQH9DloKD8|I4yKEK9o8gA|1GKaVzNDbuI|wnDATe6MPrg|WWqed9u6rr4|97cWs8tW8mY|q65SsORdRO8|DomumdGQSg8|0GXjcE4gy7g|\n",
      "+-----------+--------------------+-------------------------------------------------------+----------------+------------+---------------+-------------------+-----------------+------------------+-----------------+-----------+-----------+-----------+-----------+-----------+-----------+-----------+-----------+-----------+-----------+-----------+-----------+-----------+\n",
      "only showing top 20 rows\n",
      "\n"
     ]
    }
   ],
   "source": [
    "df.show()"
   ]
  },
  {
   "cell_type": "code",
   "execution_count": 114,
   "metadata": {
    "application/vnd.databricks.v1+cell": {
     "cellMetadata": {
      "byteLimit": 2048000,
      "rowLimit": 10000
     },
     "inputWidgets": {},
     "nuid": "60f8d83a-178d-49e3-9112-e3d241638789",
     "showTitle": false,
     "title": ""
    }
   },
   "outputs": [],
   "source": [
    "from pyspark.sql.functions import concat_ws, col\n",
    "\n",
    "# Columns to combine: from _c10 to _c22\n",
    "columns_to_combine = [col(f'_c{i}') for i in range(10, 23)]\n",
    "\n",
    "# Combine all relevant columns into a single column called \"Related Video IDs\"\n",
    "df = df.withColumn(\"Related Video IDs\", concat_ws(\" \", *columns_to_combine))\n",
    "\n",
    "# Drop the original _c10 to _c22 columns\n",
    "columns_to_drop = [f'_c{i}' for i in range(10, 23)]\n",
    "df = df.drop(*columns_to_drop)"
   ]
  },
  {
   "cell_type": "code",
   "execution_count": 115,
   "metadata": {
    "application/vnd.databricks.v1+cell": {
     "cellMetadata": {
      "byteLimit": 2048000,
      "rowLimit": 10000
     },
     "inputWidgets": {},
     "nuid": "11c42f38-5462-4c2d-a9ab-85742d87780c",
     "showTitle": false,
     "title": ""
    }
   },
   "outputs": [
    {
     "name": "stdout",
     "output_type": "stream",
     "text": [
      "+-----------+--------------------+-------------------------------------------------------+----------------+------------+---------------+-------------------+-----------------+------------------+--------------------+\n",
      "|   Video ID|      Video Uploader|Interval between YouTube Establishment and Video Upload|  Video Category|Video Length|Number of Views|Rating on the Video|Number of Ratings|Number of Comments|   Related Video IDs|\n",
      "+-----------+--------------------+-------------------------------------------------------+----------------+------------+---------------+-------------------+-----------------+------------------+--------------------+\n",
      "|QuRYeRnAuXM|EvilSquirrelPictures|                                                 1135.0|  Pets & Animals|         252|           1075|               4.96|               46|                86|nRcovJn9xHg 3TYqk...|\n",
      "|3TYqkBJ9YRk|              hggh22|                                                 1135.0|          Comedy|         169|            228|                5.0|                5|                 3|gFa1YMEJFag UEvVk...|\n",
      "|rSJ8QZWBegU|             TimeGem|                                                 1135.0|   Entertainment|          95|            356|               4.31|               13|                 1|gFa1YMEJFag UEvVk...|\n",
      "|nRcovJn9xHg|          wooochacha|                                                 1135.0|   Entertainment|         118|           1115|               2.23|               57|                73|gFa1YMEJFag UEvVk...|\n",
      "|UEvVksP91kg|            johnx113|                                                 1135.0|   Entertainment|          83|            281|               2.67|                9|                16|QuRYeRnAuXM 3TYqk...|\n",
      "|sVkuOk4jmCo|       marcosoycadiz|                                                 1135.0|  People & Blogs|          49|           1196|               3.67|                6|                 5|sLrWjhvCoW8 dergW...|\n",
      "|ZTopArY7Nbg|         TroyChannel|                                                 1136.0|   Entertainment|         145|             11|                0.0|                0|                 0|pQPhV1mzh-g NeIGd...|\n",
      "|0RViGi2Rne8|        OmnipotentSI|                                                 1135.0|   Entertainment|           9|            490|               2.31|               26|                15|nRcovJn9xHg 0TZqX...|\n",
      "|HT_QlOJbDpg|   dumbasstheredneck|                                                 1095.0|          Comedy|          14|           1349|               2.09|               22|                13|jVxz9wKEa3A mUoRI...|\n",
      "|ShhClb6J-NA|         thecrashguy|                                                 1136.0|   Entertainment|          61|             29|                0.0|                0|                 0|6DK-CJh6hTY SArJy...|\n",
      "|g9e1alirMhc|      iamdanielisaac|                                                  541.0|          Comedy|         152|         483053|               4.65|             2689|              2932|1GKaVzNDbuI Bd61L...|\n",
      "|YZev1imoxX8|     threefirstnames|                                                 1135.0|   Entertainment|         253|             63|                5.0|                3|                 2|-UvVtpmh4EQ Bzwpv...|\n",
      "|I4yKEK9o8gA|           djlogitek|                                                  964.0| News & Politics|         173|         106929|               4.39|             1010|              1484|1GKaVzNDbuI qCUYg...|\n",
      "|1GKaVzNDbuI|             fatvids|                                                  690.0|          Comedy|         176|        2464486|                4.5|            13342|             11997|g9e1alirMhc UrNqx...|\n",
      "|yuZhwV24PmM|          weneedhelp|                                                 1082.0| News & Politics|         213|          46183|               4.71|              280|               247|xq8aopATYyw g9e1a...|\n",
      "|zQ83d_D2MGs|   dumbasstheredneck|                                                 1095.0|          Comedy|          14|           1550|               1.57|               14|                 4|cdbp6rCVzRs gAHZ7...|\n",
      "|DomumdGQSg8|           imgrown18|                                                  910.0|          Comedy|         224|         392908|                4.8|             1261|               829|eOIFF_5ORGo n7rlp...|\n",
      "|pFUYi7dp1WU|      StanleyJenkins|                                                 1106.0|          Comedy|         200|         110272|               4.07|             1011|               482|ue5lVJuNlzQ AkjUO...|\n",
      "|2l6vwAIAqNU|        makemagazine|                                                  460.0|Film & Animation|         294|          71966|               4.07|              260|               229|hiSmlmXp-aU I4yKE...|\n",
      "|hiSmlmXp-aU|       bravenewfilms|                                                  440.0|   Entertainment|         168|         653840|               4.43|              198|               377|IBqQWAjBgmE EGzHB...|\n",
      "+-----------+--------------------+-------------------------------------------------------+----------------+------------+---------------+-------------------+-----------------+------------------+--------------------+\n",
      "only showing top 20 rows\n",
      "\n"
     ]
    }
   ],
   "source": [
    "\n",
    "# Show the result\n",
    "df.show()"
   ]
  },
  {
   "cell_type": "code",
   "execution_count": 116,
   "metadata": {
    "application/vnd.databricks.v1+cell": {
     "cellMetadata": {
      "byteLimit": 2048000,
      "rowLimit": 10000
     },
     "inputWidgets": {},
     "nuid": "c043dff4-d948-47bf-9249-b7f14af76776",
     "showTitle": false,
     "title": ""
    }
   },
   "outputs": [],
   "source": [
    "\n",
    "from pyspark.sql.functions import col, regexp_replace\n",
    "\n",
    "# Replace spaces with commas in the 'final_column' column\n",
    "df = df.withColumn('Related Video IDs', regexp_replace(col('Related Video IDs'), ' ', ','))"
   ]
  },
  {
   "cell_type": "code",
   "execution_count": 117,
   "metadata": {
    "application/vnd.databricks.v1+cell": {
     "cellMetadata": {
      "byteLimit": 2048000,
      "rowLimit": 10000
     },
     "inputWidgets": {},
     "nuid": "d3b3b937-c9ec-45f2-bc6b-fbe9830c6470",
     "showTitle": false,
     "title": ""
    }
   },
   "outputs": [
    {
     "data": {
      "text/html": [
       "<div>\n",
       "<style scoped>\n",
       "    .dataframe tbody tr th:only-of-type {\n",
       "        vertical-align: middle;\n",
       "    }\n",
       "\n",
       "    .dataframe tbody tr th {\n",
       "        vertical-align: top;\n",
       "    }\n",
       "\n",
       "    .dataframe thead th {\n",
       "        text-align: right;\n",
       "    }\n",
       "</style>\n",
       "<table border=\"1\" class=\"dataframe\">\n",
       "  <thead>\n",
       "    <tr style=\"text-align: right;\">\n",
       "      <th></th>\n",
       "      <th>Video ID</th>\n",
       "      <th>Video Uploader</th>\n",
       "      <th>Interval between YouTube Establishment and Video Upload</th>\n",
       "      <th>Video Category</th>\n",
       "      <th>Video Length</th>\n",
       "      <th>Number of Views</th>\n",
       "      <th>Rating on the Video</th>\n",
       "      <th>Number of Ratings</th>\n",
       "      <th>Number of Comments</th>\n",
       "      <th>Related Video IDs</th>\n",
       "    </tr>\n",
       "  </thead>\n",
       "  <tbody>\n",
       "    <tr>\n",
       "      <th>0</th>\n",
       "      <td>QuRYeRnAuXM</td>\n",
       "      <td>EvilSquirrelPictures</td>\n",
       "      <td>1135.0</td>\n",
       "      <td>Pets &amp; Animals</td>\n",
       "      <td>252.0</td>\n",
       "      <td>1075.0</td>\n",
       "      <td>4.96</td>\n",
       "      <td>46.0</td>\n",
       "      <td>86.0</td>\n",
       "      <td>nRcovJn9xHg,3TYqkBJ9YRk,rSJ8QZWBegU,0TZqX5MbXM...</td>\n",
       "    </tr>\n",
       "    <tr>\n",
       "      <th>1</th>\n",
       "      <td>3TYqkBJ9YRk</td>\n",
       "      <td>hggh22</td>\n",
       "      <td>1135.0</td>\n",
       "      <td>Comedy</td>\n",
       "      <td>169.0</td>\n",
       "      <td>228.0</td>\n",
       "      <td>5.00</td>\n",
       "      <td>5.0</td>\n",
       "      <td>3.0</td>\n",
       "      <td>gFa1YMEJFag,UEvVksP91kg,rSJ8QZWBegU,nRcovJn9xH...</td>\n",
       "    </tr>\n",
       "    <tr>\n",
       "      <th>2</th>\n",
       "      <td>rSJ8QZWBegU</td>\n",
       "      <td>TimeGem</td>\n",
       "      <td>1135.0</td>\n",
       "      <td>Entertainment</td>\n",
       "      <td>95.0</td>\n",
       "      <td>356.0</td>\n",
       "      <td>4.31</td>\n",
       "      <td>13.0</td>\n",
       "      <td>1.0</td>\n",
       "      <td>gFa1YMEJFag,UEvVksP91kg,3TYqkBJ9YRk,nRcovJn9xH...</td>\n",
       "    </tr>\n",
       "    <tr>\n",
       "      <th>3</th>\n",
       "      <td>nRcovJn9xHg</td>\n",
       "      <td>wooochacha</td>\n",
       "      <td>1135.0</td>\n",
       "      <td>Entertainment</td>\n",
       "      <td>118.0</td>\n",
       "      <td>1115.0</td>\n",
       "      <td>2.23</td>\n",
       "      <td>57.0</td>\n",
       "      <td>73.0</td>\n",
       "      <td>gFa1YMEJFag,UEvVksP91kg,3TYqkBJ9YRk,ZTopArY7Nb...</td>\n",
       "    </tr>\n",
       "    <tr>\n",
       "      <th>4</th>\n",
       "      <td>UEvVksP91kg</td>\n",
       "      <td>johnx113</td>\n",
       "      <td>1135.0</td>\n",
       "      <td>Entertainment</td>\n",
       "      <td>83.0</td>\n",
       "      <td>281.0</td>\n",
       "      <td>2.67</td>\n",
       "      <td>9.0</td>\n",
       "      <td>16.0</td>\n",
       "      <td>QuRYeRnAuXM,3TYqkBJ9YRk,0TZqX5MbXMA,rSJ8QZWBeg...</td>\n",
       "    </tr>\n",
       "    <tr>\n",
       "      <th>...</th>\n",
       "      <td>...</td>\n",
       "      <td>...</td>\n",
       "      <td>...</td>\n",
       "      <td>...</td>\n",
       "      <td>...</td>\n",
       "      <td>...</td>\n",
       "      <td>...</td>\n",
       "      <td>...</td>\n",
       "      <td>...</td>\n",
       "      <td>...</td>\n",
       "    </tr>\n",
       "    <tr>\n",
       "      <th>4095</th>\n",
       "      <td>esCvu46qDaA</td>\n",
       "      <td>RSMFD</td>\n",
       "      <td>863.0</td>\n",
       "      <td>Entertainment</td>\n",
       "      <td>63.0</td>\n",
       "      <td>116929.0</td>\n",
       "      <td>4.84</td>\n",
       "      <td>182.0</td>\n",
       "      <td>222.0</td>\n",
       "      <td>vOskZNJJII8,q3qdBVDZrmE,mLDLe024T_I,bhLbFGVduT...</td>\n",
       "    </tr>\n",
       "    <tr>\n",
       "      <th>4096</th>\n",
       "      <td>kOZ8bRAO7YQ</td>\n",
       "      <td>RockstarGames</td>\n",
       "      <td>0.0</td>\n",
       "      <td>UNA</td>\n",
       "      <td>63.0</td>\n",
       "      <td>199361.0</td>\n",
       "      <td>4.79</td>\n",
       "      <td>1256.0</td>\n",
       "      <td>2410.0</td>\n",
       "      <td></td>\n",
       "    </tr>\n",
       "    <tr>\n",
       "      <th>4097</th>\n",
       "      <td>GSsVZcKHues</td>\n",
       "      <td>GTASite</td>\n",
       "      <td>1024.0</td>\n",
       "      <td>Entertainment</td>\n",
       "      <td>123.0</td>\n",
       "      <td>486752.0</td>\n",
       "      <td>4.86</td>\n",
       "      <td>1098.0</td>\n",
       "      <td>1764.0</td>\n",
       "      <td>vOskZNJJII8,_X5nHLOiAVo,cNION6wGuso,5-reBn0gUk...</td>\n",
       "    </tr>\n",
       "    <tr>\n",
       "      <th>4098</th>\n",
       "      <td>foKRqJGcbPQ</td>\n",
       "      <td>scrambledeggsTV</td>\n",
       "      <td>1100.0</td>\n",
       "      <td>Entertainment</td>\n",
       "      <td>136.0</td>\n",
       "      <td>13115.0</td>\n",
       "      <td>4.45</td>\n",
       "      <td>33.0</td>\n",
       "      <td>37.0</td>\n",
       "      <td>_X5nHLOiAVo,5-reBn0gUkg,e8bEzU2Tx7c,e4yx1s-l6f...</td>\n",
       "    </tr>\n",
       "    <tr>\n",
       "      <th>4099</th>\n",
       "      <td>-CYhSNHbeC8</td>\n",
       "      <td>rehab07</td>\n",
       "      <td>771.0</td>\n",
       "      <td>Entertainment</td>\n",
       "      <td>186.0</td>\n",
       "      <td>103556.0</td>\n",
       "      <td>4.30</td>\n",
       "      <td>277.0</td>\n",
       "      <td>220.0</td>\n",
       "      <td>EOj-iWkcJPU,pg3j4IBMRZE,2GHiAEeFQs0,e4yx1s-l6f...</td>\n",
       "    </tr>\n",
       "  </tbody>\n",
       "</table>\n",
       "<p>4100 rows × 10 columns</p>\n",
       "</div>"
      ],
      "text/plain": [
       "         Video ID        Video Uploader  \\\n",
       "0     QuRYeRnAuXM  EvilSquirrelPictures   \n",
       "1     3TYqkBJ9YRk                hggh22   \n",
       "2     rSJ8QZWBegU               TimeGem   \n",
       "3     nRcovJn9xHg            wooochacha   \n",
       "4     UEvVksP91kg              johnx113   \n",
       "...           ...                   ...   \n",
       "4095  esCvu46qDaA                 RSMFD   \n",
       "4096  kOZ8bRAO7YQ         RockstarGames   \n",
       "4097  GSsVZcKHues               GTASite   \n",
       "4098  foKRqJGcbPQ       scrambledeggsTV   \n",
       "4099  -CYhSNHbeC8               rehab07   \n",
       "\n",
       "      Interval between YouTube Establishment and Video Upload  Video Category  \\\n",
       "0                                                1135.0        Pets & Animals   \n",
       "1                                                1135.0                Comedy   \n",
       "2                                                1135.0         Entertainment   \n",
       "3                                                1135.0         Entertainment   \n",
       "4                                                1135.0         Entertainment   \n",
       "...                                                 ...                   ...   \n",
       "4095                                              863.0         Entertainment   \n",
       "4096                                                0.0                  UNA    \n",
       "4097                                             1024.0         Entertainment   \n",
       "4098                                             1100.0         Entertainment   \n",
       "4099                                              771.0         Entertainment   \n",
       "\n",
       "      Video Length  Number of Views  Rating on the Video  Number of Ratings  \\\n",
       "0            252.0           1075.0                 4.96               46.0   \n",
       "1            169.0            228.0                 5.00                5.0   \n",
       "2             95.0            356.0                 4.31               13.0   \n",
       "3            118.0           1115.0                 2.23               57.0   \n",
       "4             83.0            281.0                 2.67                9.0   \n",
       "...            ...              ...                  ...                ...   \n",
       "4095          63.0         116929.0                 4.84              182.0   \n",
       "4096          63.0         199361.0                 4.79             1256.0   \n",
       "4097         123.0         486752.0                 4.86             1098.0   \n",
       "4098         136.0          13115.0                 4.45               33.0   \n",
       "4099         186.0         103556.0                 4.30              277.0   \n",
       "\n",
       "      Number of Comments                                  Related Video IDs  \n",
       "0                   86.0  nRcovJn9xHg,3TYqkBJ9YRk,rSJ8QZWBegU,0TZqX5MbXM...  \n",
       "1                    3.0  gFa1YMEJFag,UEvVksP91kg,rSJ8QZWBegU,nRcovJn9xH...  \n",
       "2                    1.0  gFa1YMEJFag,UEvVksP91kg,3TYqkBJ9YRk,nRcovJn9xH...  \n",
       "3                   73.0  gFa1YMEJFag,UEvVksP91kg,3TYqkBJ9YRk,ZTopArY7Nb...  \n",
       "4                   16.0  QuRYeRnAuXM,3TYqkBJ9YRk,0TZqX5MbXMA,rSJ8QZWBeg...  \n",
       "...                  ...                                                ...  \n",
       "4095               222.0  vOskZNJJII8,q3qdBVDZrmE,mLDLe024T_I,bhLbFGVduT...  \n",
       "4096              2410.0                                                     \n",
       "4097              1764.0  vOskZNJJII8,_X5nHLOiAVo,cNION6wGuso,5-reBn0gUk...  \n",
       "4098                37.0  _X5nHLOiAVo,5-reBn0gUkg,e8bEzU2Tx7c,e4yx1s-l6f...  \n",
       "4099               220.0  EOj-iWkcJPU,pg3j4IBMRZE,2GHiAEeFQs0,e4yx1s-l6f...  \n",
       "\n",
       "[4100 rows x 10 columns]"
      ]
     },
     "execution_count": 117,
     "metadata": {},
     "output_type": "execute_result"
    }
   ],
   "source": [
    "df.toPandas()"
   ]
  },
  {
   "cell_type": "code",
   "execution_count": 118,
   "metadata": {
    "application/vnd.databricks.v1+cell": {
     "cellMetadata": {
      "byteLimit": 2048000,
      "rowLimit": 10000
     },
     "inputWidgets": {},
     "nuid": "1937ea4c-2ad4-478c-abf2-1ab6f6a8292d",
     "showTitle": false,
     "title": ""
    }
   },
   "outputs": [
    {
     "data": {
      "text/plain": [
       "4100"
      ]
     },
     "execution_count": 118,
     "metadata": {},
     "output_type": "execute_result"
    }
   ],
   "source": [
    "df.count()"
   ]
  },
  {
   "cell_type": "code",
   "execution_count": 119,
   "metadata": {
    "application/vnd.databricks.v1+cell": {
     "cellMetadata": {
      "byteLimit": 2048000,
      "rowLimit": 10000
     },
     "inputWidgets": {},
     "nuid": "07d90758-a95b-4a03-b23d-4cbd1e167158",
     "showTitle": false,
     "title": ""
    }
   },
   "outputs": [],
   "source": [
    "# Drop Null Values "
   ]
  },
  {
   "cell_type": "code",
   "execution_count": 120,
   "metadata": {
    "application/vnd.databricks.v1+cell": {
     "cellMetadata": {
      "byteLimit": 2048000,
      "rowLimit": 10000
     },
     "inputWidgets": {},
     "nuid": "559ec36e-221b-4a99-9255-9d011df362cd",
     "showTitle": false,
     "title": ""
    }
   },
   "outputs": [],
   "source": [
    "df_cleaned=df.dropna(how=\"any\")"
   ]
  },
  {
   "cell_type": "code",
   "execution_count": 121,
   "metadata": {
    "application/vnd.databricks.v1+cell": {
     "cellMetadata": {
      "byteLimit": 2048000,
      "rowLimit": 10000
     },
     "inputWidgets": {},
     "nuid": "6d2a9fcc-8478-48cf-9881-f2e64c394828",
     "showTitle": false,
     "title": ""
    }
   },
   "outputs": [
    {
     "data": {
      "text/plain": [
       "4066"
      ]
     },
     "execution_count": 121,
     "metadata": {},
     "output_type": "execute_result"
    }
   ],
   "source": [
    "df_cleaned.count()"
   ]
  },
  {
   "cell_type": "code",
   "execution_count": 122,
   "metadata": {
    "application/vnd.databricks.v1+cell": {
     "cellMetadata": {
      "byteLimit": 2048000,
      "rowLimit": 10000
     },
     "inputWidgets": {},
     "nuid": "2c345204-5387-4a93-b6ef-5c74b649a943",
     "showTitle": false,
     "title": ""
    }
   },
   "outputs": [
    {
     "name": "stdout",
     "output_type": "stream",
     "text": [
      "root\n",
      " |-- Video ID: string (nullable = true)\n",
      " |-- Video Uploader: string (nullable = true)\n",
      " |-- Interval between YouTube Establishment and Video Upload: double (nullable = true)\n",
      " |-- Video Category: string (nullable = true)\n",
      " |-- Video Length: integer (nullable = true)\n",
      " |-- Number of Views: integer (nullable = true)\n",
      " |-- Rating on the Video: double (nullable = true)\n",
      " |-- Number of Ratings: integer (nullable = true)\n",
      " |-- Number of Comments: integer (nullable = true)\n",
      " |-- Related Video IDs: string (nullable = false)\n",
      "\n"
     ]
    }
   ],
   "source": [
    "df_cleaned.printSchema()"
   ]
  },
  {
   "cell_type": "code",
   "execution_count": 123,
   "metadata": {
    "application/vnd.databricks.v1+cell": {
     "cellMetadata": {
      "byteLimit": 2048000,
      "rowLimit": 10000
     },
     "inputWidgets": {},
     "nuid": "80c3f7fb-d836-4850-8742-967ab58411e1",
     "showTitle": false,
     "title": ""
    }
   },
   "outputs": [],
   "source": [
    "data=df_cleaned"
   ]
  },
  {
   "cell_type": "code",
   "execution_count": 124,
   "metadata": {
    "application/vnd.databricks.v1+cell": {
     "cellMetadata": {
      "byteLimit": 2048000,
      "rowLimit": 10000
     },
     "inputWidgets": {},
     "nuid": "d2cfc050-e356-4c4e-bc4b-67991284a782",
     "showTitle": false,
     "title": ""
    }
   },
   "outputs": [
    {
     "data": {
      "text/plain": [
       "4066"
      ]
     },
     "execution_count": 124,
     "metadata": {},
     "output_type": "execute_result"
    }
   ],
   "source": [
    "data.count()"
   ]
  },
  {
   "cell_type": "code",
   "execution_count": 125,
   "metadata": {
    "application/vnd.databricks.v1+cell": {
     "cellMetadata": {
      "byteLimit": 2048000,
      "rowLimit": 10000
     },
     "inputWidgets": {},
     "nuid": "34d43ae8-1357-4292-84ec-9c36fac4c4fc",
     "showTitle": false,
     "title": ""
    }
   },
   "outputs": [
    {
     "data": {
      "text/html": [
       "<div>\n",
       "<style scoped>\n",
       "    .dataframe tbody tr th:only-of-type {\n",
       "        vertical-align: middle;\n",
       "    }\n",
       "\n",
       "    .dataframe tbody tr th {\n",
       "        vertical-align: top;\n",
       "    }\n",
       "\n",
       "    .dataframe thead th {\n",
       "        text-align: right;\n",
       "    }\n",
       "</style>\n",
       "<table border=\"1\" class=\"dataframe\">\n",
       "  <thead>\n",
       "    <tr style=\"text-align: right;\">\n",
       "      <th></th>\n",
       "      <th>Video ID</th>\n",
       "      <th>Video Uploader</th>\n",
       "      <th>Interval between YouTube Establishment and Video Upload</th>\n",
       "      <th>Video Category</th>\n",
       "      <th>Video Length</th>\n",
       "      <th>Number of Views</th>\n",
       "      <th>Rating on the Video</th>\n",
       "      <th>Number of Ratings</th>\n",
       "      <th>Number of Comments</th>\n",
       "      <th>Related Video IDs</th>\n",
       "    </tr>\n",
       "  </thead>\n",
       "  <tbody>\n",
       "    <tr>\n",
       "      <th>0</th>\n",
       "      <td>QuRYeRnAuXM</td>\n",
       "      <td>EvilSquirrelPictures</td>\n",
       "      <td>1135.0</td>\n",
       "      <td>Pets &amp; Animals</td>\n",
       "      <td>252</td>\n",
       "      <td>1075</td>\n",
       "      <td>4.96</td>\n",
       "      <td>46</td>\n",
       "      <td>86</td>\n",
       "      <td>nRcovJn9xHg,3TYqkBJ9YRk,rSJ8QZWBegU,0TZqX5MbXM...</td>\n",
       "    </tr>\n",
       "    <tr>\n",
       "      <th>1</th>\n",
       "      <td>3TYqkBJ9YRk</td>\n",
       "      <td>hggh22</td>\n",
       "      <td>1135.0</td>\n",
       "      <td>Comedy</td>\n",
       "      <td>169</td>\n",
       "      <td>228</td>\n",
       "      <td>5.00</td>\n",
       "      <td>5</td>\n",
       "      <td>3</td>\n",
       "      <td>gFa1YMEJFag,UEvVksP91kg,rSJ8QZWBegU,nRcovJn9xH...</td>\n",
       "    </tr>\n",
       "    <tr>\n",
       "      <th>2</th>\n",
       "      <td>rSJ8QZWBegU</td>\n",
       "      <td>TimeGem</td>\n",
       "      <td>1135.0</td>\n",
       "      <td>Entertainment</td>\n",
       "      <td>95</td>\n",
       "      <td>356</td>\n",
       "      <td>4.31</td>\n",
       "      <td>13</td>\n",
       "      <td>1</td>\n",
       "      <td>gFa1YMEJFag,UEvVksP91kg,3TYqkBJ9YRk,nRcovJn9xH...</td>\n",
       "    </tr>\n",
       "    <tr>\n",
       "      <th>3</th>\n",
       "      <td>nRcovJn9xHg</td>\n",
       "      <td>wooochacha</td>\n",
       "      <td>1135.0</td>\n",
       "      <td>Entertainment</td>\n",
       "      <td>118</td>\n",
       "      <td>1115</td>\n",
       "      <td>2.23</td>\n",
       "      <td>57</td>\n",
       "      <td>73</td>\n",
       "      <td>gFa1YMEJFag,UEvVksP91kg,3TYqkBJ9YRk,ZTopArY7Nb...</td>\n",
       "    </tr>\n",
       "    <tr>\n",
       "      <th>4</th>\n",
       "      <td>UEvVksP91kg</td>\n",
       "      <td>johnx113</td>\n",
       "      <td>1135.0</td>\n",
       "      <td>Entertainment</td>\n",
       "      <td>83</td>\n",
       "      <td>281</td>\n",
       "      <td>2.67</td>\n",
       "      <td>9</td>\n",
       "      <td>16</td>\n",
       "      <td>QuRYeRnAuXM,3TYqkBJ9YRk,0TZqX5MbXMA,rSJ8QZWBeg...</td>\n",
       "    </tr>\n",
       "    <tr>\n",
       "      <th>...</th>\n",
       "      <td>...</td>\n",
       "      <td>...</td>\n",
       "      <td>...</td>\n",
       "      <td>...</td>\n",
       "      <td>...</td>\n",
       "      <td>...</td>\n",
       "      <td>...</td>\n",
       "      <td>...</td>\n",
       "      <td>...</td>\n",
       "      <td>...</td>\n",
       "    </tr>\n",
       "    <tr>\n",
       "      <th>4061</th>\n",
       "      <td>esCvu46qDaA</td>\n",
       "      <td>RSMFD</td>\n",
       "      <td>863.0</td>\n",
       "      <td>Entertainment</td>\n",
       "      <td>63</td>\n",
       "      <td>116929</td>\n",
       "      <td>4.84</td>\n",
       "      <td>182</td>\n",
       "      <td>222</td>\n",
       "      <td>vOskZNJJII8,q3qdBVDZrmE,mLDLe024T_I,bhLbFGVduT...</td>\n",
       "    </tr>\n",
       "    <tr>\n",
       "      <th>4062</th>\n",
       "      <td>kOZ8bRAO7YQ</td>\n",
       "      <td>RockstarGames</td>\n",
       "      <td>0.0</td>\n",
       "      <td>UNA</td>\n",
       "      <td>63</td>\n",
       "      <td>199361</td>\n",
       "      <td>4.79</td>\n",
       "      <td>1256</td>\n",
       "      <td>2410</td>\n",
       "      <td></td>\n",
       "    </tr>\n",
       "    <tr>\n",
       "      <th>4063</th>\n",
       "      <td>GSsVZcKHues</td>\n",
       "      <td>GTASite</td>\n",
       "      <td>1024.0</td>\n",
       "      <td>Entertainment</td>\n",
       "      <td>123</td>\n",
       "      <td>486752</td>\n",
       "      <td>4.86</td>\n",
       "      <td>1098</td>\n",
       "      <td>1764</td>\n",
       "      <td>vOskZNJJII8,_X5nHLOiAVo,cNION6wGuso,5-reBn0gUk...</td>\n",
       "    </tr>\n",
       "    <tr>\n",
       "      <th>4064</th>\n",
       "      <td>foKRqJGcbPQ</td>\n",
       "      <td>scrambledeggsTV</td>\n",
       "      <td>1100.0</td>\n",
       "      <td>Entertainment</td>\n",
       "      <td>136</td>\n",
       "      <td>13115</td>\n",
       "      <td>4.45</td>\n",
       "      <td>33</td>\n",
       "      <td>37</td>\n",
       "      <td>_X5nHLOiAVo,5-reBn0gUkg,e8bEzU2Tx7c,e4yx1s-l6f...</td>\n",
       "    </tr>\n",
       "    <tr>\n",
       "      <th>4065</th>\n",
       "      <td>-CYhSNHbeC8</td>\n",
       "      <td>rehab07</td>\n",
       "      <td>771.0</td>\n",
       "      <td>Entertainment</td>\n",
       "      <td>186</td>\n",
       "      <td>103556</td>\n",
       "      <td>4.30</td>\n",
       "      <td>277</td>\n",
       "      <td>220</td>\n",
       "      <td>EOj-iWkcJPU,pg3j4IBMRZE,2GHiAEeFQs0,e4yx1s-l6f...</td>\n",
       "    </tr>\n",
       "  </tbody>\n",
       "</table>\n",
       "<p>4066 rows × 10 columns</p>\n",
       "</div>"
      ],
      "text/plain": [
       "         Video ID        Video Uploader  \\\n",
       "0     QuRYeRnAuXM  EvilSquirrelPictures   \n",
       "1     3TYqkBJ9YRk                hggh22   \n",
       "2     rSJ8QZWBegU               TimeGem   \n",
       "3     nRcovJn9xHg            wooochacha   \n",
       "4     UEvVksP91kg              johnx113   \n",
       "...           ...                   ...   \n",
       "4061  esCvu46qDaA                 RSMFD   \n",
       "4062  kOZ8bRAO7YQ         RockstarGames   \n",
       "4063  GSsVZcKHues               GTASite   \n",
       "4064  foKRqJGcbPQ       scrambledeggsTV   \n",
       "4065  -CYhSNHbeC8               rehab07   \n",
       "\n",
       "      Interval between YouTube Establishment and Video Upload  Video Category  \\\n",
       "0                                                1135.0        Pets & Animals   \n",
       "1                                                1135.0                Comedy   \n",
       "2                                                1135.0         Entertainment   \n",
       "3                                                1135.0         Entertainment   \n",
       "4                                                1135.0         Entertainment   \n",
       "...                                                 ...                   ...   \n",
       "4061                                              863.0         Entertainment   \n",
       "4062                                                0.0                  UNA    \n",
       "4063                                             1024.0         Entertainment   \n",
       "4064                                             1100.0         Entertainment   \n",
       "4065                                              771.0         Entertainment   \n",
       "\n",
       "      Video Length  Number of Views  Rating on the Video  Number of Ratings  \\\n",
       "0              252             1075                 4.96                 46   \n",
       "1              169              228                 5.00                  5   \n",
       "2               95              356                 4.31                 13   \n",
       "3              118             1115                 2.23                 57   \n",
       "4               83              281                 2.67                  9   \n",
       "...            ...              ...                  ...                ...   \n",
       "4061            63           116929                 4.84                182   \n",
       "4062            63           199361                 4.79               1256   \n",
       "4063           123           486752                 4.86               1098   \n",
       "4064           136            13115                 4.45                 33   \n",
       "4065           186           103556                 4.30                277   \n",
       "\n",
       "      Number of Comments                                  Related Video IDs  \n",
       "0                     86  nRcovJn9xHg,3TYqkBJ9YRk,rSJ8QZWBegU,0TZqX5MbXM...  \n",
       "1                      3  gFa1YMEJFag,UEvVksP91kg,rSJ8QZWBegU,nRcovJn9xH...  \n",
       "2                      1  gFa1YMEJFag,UEvVksP91kg,3TYqkBJ9YRk,nRcovJn9xH...  \n",
       "3                     73  gFa1YMEJFag,UEvVksP91kg,3TYqkBJ9YRk,ZTopArY7Nb...  \n",
       "4                     16  QuRYeRnAuXM,3TYqkBJ9YRk,0TZqX5MbXMA,rSJ8QZWBeg...  \n",
       "...                  ...                                                ...  \n",
       "4061                 222  vOskZNJJII8,q3qdBVDZrmE,mLDLe024T_I,bhLbFGVduT...  \n",
       "4062                2410                                                     \n",
       "4063                1764  vOskZNJJII8,_X5nHLOiAVo,cNION6wGuso,5-reBn0gUk...  \n",
       "4064                  37  _X5nHLOiAVo,5-reBn0gUkg,e8bEzU2Tx7c,e4yx1s-l6f...  \n",
       "4065                 220  EOj-iWkcJPU,pg3j4IBMRZE,2GHiAEeFQs0,e4yx1s-l6f...  \n",
       "\n",
       "[4066 rows x 10 columns]"
      ]
     },
     "execution_count": 125,
     "metadata": {},
     "output_type": "execute_result"
    }
   ],
   "source": [
    "data.toPandas()"
   ]
  },
  {
   "cell_type": "code",
   "execution_count": 126,
   "metadata": {
    "application/vnd.databricks.v1+cell": {
     "cellMetadata": {
      "byteLimit": 2048000,
      "rowLimit": 10000
     },
     "inputWidgets": {},
     "nuid": "0230ed95-b4c1-4c6e-80e9-ee21599a1bfd",
     "showTitle": false,
     "title": ""
    }
   },
   "outputs": [
    {
     "data": {
      "text/html": [
       "<div>\n",
       "<style scoped>\n",
       "    .dataframe tbody tr th:only-of-type {\n",
       "        vertical-align: middle;\n",
       "    }\n",
       "\n",
       "    .dataframe tbody tr th {\n",
       "        vertical-align: top;\n",
       "    }\n",
       "\n",
       "    .dataframe thead th {\n",
       "        text-align: right;\n",
       "    }\n",
       "</style>\n",
       "<table border=\"1\" class=\"dataframe\">\n",
       "  <thead>\n",
       "    <tr style=\"text-align: right;\">\n",
       "      <th></th>\n",
       "      <th>summary</th>\n",
       "      <th>Video ID</th>\n",
       "      <th>Video Uploader</th>\n",
       "      <th>Interval between YouTube Establishment and Video Upload</th>\n",
       "      <th>Video Category</th>\n",
       "      <th>Video Length</th>\n",
       "      <th>Number of Views</th>\n",
       "      <th>Rating on the Video</th>\n",
       "      <th>Number of Ratings</th>\n",
       "      <th>Number of Comments</th>\n",
       "      <th>Related Video IDs</th>\n",
       "    </tr>\n",
       "  </thead>\n",
       "  <tbody>\n",
       "    <tr>\n",
       "      <th>0</th>\n",
       "      <td>count</td>\n",
       "      <td>4066</td>\n",
       "      <td>4066</td>\n",
       "      <td>4066</td>\n",
       "      <td>4066</td>\n",
       "      <td>4066</td>\n",
       "      <td>4066</td>\n",
       "      <td>4066</td>\n",
       "      <td>4066</td>\n",
       "      <td>4066</td>\n",
       "      <td>4066</td>\n",
       "    </tr>\n",
       "    <tr>\n",
       "      <th>1</th>\n",
       "      <td>mean</td>\n",
       "      <td>None</td>\n",
       "      <td>1.5376751983333333E9</td>\n",
       "      <td>956.7144613871127</td>\n",
       "      <td>None</td>\n",
       "      <td>232.90629611411705</td>\n",
       "      <td>194695.10944417116</td>\n",
       "      <td>3.7562592228234193</td>\n",
       "      <td>588.5696015740285</td>\n",
       "      <td>534.873831775701</td>\n",
       "      <td>None</td>\n",
       "    </tr>\n",
       "    <tr>\n",
       "      <th>2</th>\n",
       "      <td>stddev</td>\n",
       "      <td>None</td>\n",
       "      <td>3.7656233115157094E9</td>\n",
       "      <td>214.1813221148062</td>\n",
       "      <td>None</td>\n",
       "      <td>219.47567245418742</td>\n",
       "      <td>1488250.2854682275</td>\n",
       "      <td>1.6787591038040413</td>\n",
       "      <td>3767.8937760638273</td>\n",
       "      <td>5032.528303622258</td>\n",
       "      <td>None</td>\n",
       "    </tr>\n",
       "    <tr>\n",
       "      <th>3</th>\n",
       "      <td>min</td>\n",
       "      <td>-08YZF87OBQ</td>\n",
       "      <td>000ILoveNaruto000</td>\n",
       "      <td>0.0</td>\n",
       "      <td>UNA</td>\n",
       "      <td>1</td>\n",
       "      <td>0</td>\n",
       "      <td>0.0</td>\n",
       "      <td>0</td>\n",
       "      <td>0</td>\n",
       "      <td></td>\n",
       "    </tr>\n",
       "    <tr>\n",
       "      <th>4</th>\n",
       "      <td>max</td>\n",
       "      <td>zzlDKaXAIgE</td>\n",
       "      <td>zzzzzzzzap</td>\n",
       "      <td>1136.0</td>\n",
       "      <td>Travel &amp; Events</td>\n",
       "      <td>5202</td>\n",
       "      <td>65341925</td>\n",
       "      <td>5.0</td>\n",
       "      <td>122129</td>\n",
       "      <td>259683</td>\n",
       "      <td>zzlDKaXAIgE,e_Oun_GTKDo,4ira1eUOQGY,RWS45QqP1l...</td>\n",
       "    </tr>\n",
       "  </tbody>\n",
       "</table>\n",
       "</div>"
      ],
      "text/plain": [
       "  summary     Video ID        Video Uploader  \\\n",
       "0   count         4066                  4066   \n",
       "1    mean         None  1.5376751983333333E9   \n",
       "2  stddev         None  3.7656233115157094E9   \n",
       "3     min  -08YZF87OBQ     000ILoveNaruto000   \n",
       "4     max  zzlDKaXAIgE            zzzzzzzzap   \n",
       "\n",
       "  Interval between YouTube Establishment and Video Upload   Video Category  \\\n",
       "0                                               4066                  4066   \n",
       "1                                  956.7144613871127                  None   \n",
       "2                                  214.1813221148062                  None   \n",
       "3                                                0.0                  UNA    \n",
       "4                                             1136.0       Travel & Events   \n",
       "\n",
       "         Video Length     Number of Views Rating on the Video  \\\n",
       "0                4066                4066                4066   \n",
       "1  232.90629611411705  194695.10944417116  3.7562592228234193   \n",
       "2  219.47567245418742  1488250.2854682275  1.6787591038040413   \n",
       "3                   1                   0                 0.0   \n",
       "4                5202            65341925                 5.0   \n",
       "\n",
       "    Number of Ratings Number of Comments  \\\n",
       "0                4066               4066   \n",
       "1   588.5696015740285   534.873831775701   \n",
       "2  3767.8937760638273  5032.528303622258   \n",
       "3                   0                  0   \n",
       "4              122129             259683   \n",
       "\n",
       "                                   Related Video IDs  \n",
       "0                                               4066  \n",
       "1                                               None  \n",
       "2                                               None  \n",
       "3                                                     \n",
       "4  zzlDKaXAIgE,e_Oun_GTKDo,4ira1eUOQGY,RWS45QqP1l...  "
      ]
     },
     "execution_count": 126,
     "metadata": {},
     "output_type": "execute_result"
    }
   ],
   "source": [
    "data.describe().toPandas()"
   ]
  },
  {
   "cell_type": "code",
   "execution_count": 127,
   "metadata": {
    "application/vnd.databricks.v1+cell": {
     "cellMetadata": {
      "byteLimit": 2048000,
      "rowLimit": 10000
     },
     "inputWidgets": {},
     "nuid": "4302dcf8-c79b-40a3-8a7d-bcd16adcfaec",
     "showTitle": false,
     "title": ""
    }
   },
   "outputs": [
    {
     "data": {
      "text/plain": [
       "0"
      ]
     },
     "execution_count": 127,
     "metadata": {},
     "output_type": "execute_result"
    }
   ],
   "source": [
    "null_count=data.filter(data[\"Related Video IDs\"].isNull()).count()\n",
    "null_count"
   ]
  },
  {
   "cell_type": "code",
   "execution_count": 128,
   "metadata": {
    "application/vnd.databricks.v1+cell": {
     "cellMetadata": {
      "byteLimit": 2048000,
      "rowLimit": 10000
     },
     "inputWidgets": {},
     "nuid": "d5f6589c-a698-4151-ad01-c995ad79e942",
     "showTitle": false,
     "title": ""
    }
   },
   "outputs": [
    {
     "data": {
      "text/html": [
       "<div>\n",
       "<style scoped>\n",
       "    .dataframe tbody tr th:only-of-type {\n",
       "        vertical-align: middle;\n",
       "    }\n",
       "\n",
       "    .dataframe tbody tr th {\n",
       "        vertical-align: top;\n",
       "    }\n",
       "\n",
       "    .dataframe thead th {\n",
       "        text-align: right;\n",
       "    }\n",
       "</style>\n",
       "<table border=\"1\" class=\"dataframe\">\n",
       "  <thead>\n",
       "    <tr style=\"text-align: right;\">\n",
       "      <th></th>\n",
       "      <th>Related Video IDs</th>\n",
       "    </tr>\n",
       "  </thead>\n",
       "  <tbody>\n",
       "    <tr>\n",
       "      <th>0</th>\n",
       "      <td>nRcovJn9xHg,3TYqkBJ9YRk,rSJ8QZWBegU,0TZqX5MbXM...</td>\n",
       "    </tr>\n",
       "    <tr>\n",
       "      <th>1</th>\n",
       "      <td>gFa1YMEJFag,UEvVksP91kg,rSJ8QZWBegU,nRcovJn9xH...</td>\n",
       "    </tr>\n",
       "    <tr>\n",
       "      <th>2</th>\n",
       "      <td>gFa1YMEJFag,UEvVksP91kg,3TYqkBJ9YRk,nRcovJn9xH...</td>\n",
       "    </tr>\n",
       "    <tr>\n",
       "      <th>3</th>\n",
       "      <td>gFa1YMEJFag,UEvVksP91kg,3TYqkBJ9YRk,ZTopArY7Nb...</td>\n",
       "    </tr>\n",
       "    <tr>\n",
       "      <th>4</th>\n",
       "      <td>QuRYeRnAuXM,3TYqkBJ9YRk,0TZqX5MbXMA,rSJ8QZWBeg...</td>\n",
       "    </tr>\n",
       "    <tr>\n",
       "      <th>...</th>\n",
       "      <td>...</td>\n",
       "    </tr>\n",
       "    <tr>\n",
       "      <th>4061</th>\n",
       "      <td>vOskZNJJII8,q3qdBVDZrmE,mLDLe024T_I,bhLbFGVduT...</td>\n",
       "    </tr>\n",
       "    <tr>\n",
       "      <th>4062</th>\n",
       "      <td></td>\n",
       "    </tr>\n",
       "    <tr>\n",
       "      <th>4063</th>\n",
       "      <td>vOskZNJJII8,_X5nHLOiAVo,cNION6wGuso,5-reBn0gUk...</td>\n",
       "    </tr>\n",
       "    <tr>\n",
       "      <th>4064</th>\n",
       "      <td>_X5nHLOiAVo,5-reBn0gUkg,e8bEzU2Tx7c,e4yx1s-l6f...</td>\n",
       "    </tr>\n",
       "    <tr>\n",
       "      <th>4065</th>\n",
       "      <td>EOj-iWkcJPU,pg3j4IBMRZE,2GHiAEeFQs0,e4yx1s-l6f...</td>\n",
       "    </tr>\n",
       "  </tbody>\n",
       "</table>\n",
       "<p>4066 rows × 1 columns</p>\n",
       "</div>"
      ],
      "text/plain": [
       "                                      Related Video IDs\n",
       "0     nRcovJn9xHg,3TYqkBJ9YRk,rSJ8QZWBegU,0TZqX5MbXM...\n",
       "1     gFa1YMEJFag,UEvVksP91kg,rSJ8QZWBegU,nRcovJn9xH...\n",
       "2     gFa1YMEJFag,UEvVksP91kg,3TYqkBJ9YRk,nRcovJn9xH...\n",
       "3     gFa1YMEJFag,UEvVksP91kg,3TYqkBJ9YRk,ZTopArY7Nb...\n",
       "4     QuRYeRnAuXM,3TYqkBJ9YRk,0TZqX5MbXMA,rSJ8QZWBeg...\n",
       "...                                                 ...\n",
       "4061  vOskZNJJII8,q3qdBVDZrmE,mLDLe024T_I,bhLbFGVduT...\n",
       "4062                                                   \n",
       "4063  vOskZNJJII8,_X5nHLOiAVo,cNION6wGuso,5-reBn0gUk...\n",
       "4064  _X5nHLOiAVo,5-reBn0gUkg,e8bEzU2Tx7c,e4yx1s-l6f...\n",
       "4065  EOj-iWkcJPU,pg3j4IBMRZE,2GHiAEeFQs0,e4yx1s-l6f...\n",
       "\n",
       "[4066 rows x 1 columns]"
      ]
     },
     "execution_count": 128,
     "metadata": {},
     "output_type": "execute_result"
    }
   ],
   "source": [
    "data.select('Related Video IDs').toPandas()"
   ]
  },
  {
   "cell_type": "code",
   "execution_count": 129,
   "metadata": {
    "application/vnd.databricks.v1+cell": {
     "cellMetadata": {
      "byteLimit": 2048000,
      "rowLimit": 10000
     },
     "inputWidgets": {},
     "nuid": "9bad5ac5-a404-4057-a1e8-8419ace69272",
     "showTitle": false,
     "title": ""
    }
   },
   "outputs": [
    {
     "data": {
      "text/plain": [
       "827"
      ]
     },
     "execution_count": 129,
     "metadata": {},
     "output_type": "execute_result"
    }
   ],
   "source": [
    "data[data['Related Video IDs']==''].count()"
   ]
  },
  {
   "cell_type": "code",
   "execution_count": 130,
   "metadata": {
    "application/vnd.databricks.v1+cell": {
     "cellMetadata": {
      "byteLimit": 2048000,
      "rowLimit": 10000
     },
     "inputWidgets": {},
     "nuid": "091d7f8d-1051-4126-8151-4cf043511938",
     "showTitle": false,
     "title": ""
    }
   },
   "outputs": [],
   "source": [
    "# Replace empty strings with null in 'Related Video IDs'\n",
    "data_cleaned = data.withColumn(\n",
    "    'Related Video IDs',\n",
    "    when(col('Related Video IDs') == '', None).otherwise(col('Related Video IDs'))\n",
    ")"
   ]
  },
  {
   "cell_type": "code",
   "execution_count": 131,
   "metadata": {
    "application/vnd.databricks.v1+cell": {
     "cellMetadata": {
      "byteLimit": 2048000,
      "rowLimit": 10000
     },
     "inputWidgets": {},
     "nuid": "80dce373-12ca-421d-b461-f69c58da3781",
     "showTitle": false,
     "title": ""
    }
   },
   "outputs": [
    {
     "data": {
      "text/plain": [
       "0"
      ]
     },
     "execution_count": 131,
     "metadata": {},
     "output_type": "execute_result"
    }
   ],
   "source": [
    "data_cleaned[data_cleaned['Related Video IDs']==''].count()"
   ]
  },
  {
   "cell_type": "code",
   "execution_count": 132,
   "metadata": {
    "application/vnd.databricks.v1+cell": {
     "cellMetadata": {
      "byteLimit": 2048000,
      "rowLimit": 10000
     },
     "inputWidgets": {},
     "nuid": "9b51c18c-48df-4749-a5a8-34b6b1532851",
     "showTitle": false,
     "title": ""
    }
   },
   "outputs": [],
   "source": [
    "data=data_cleaned"
   ]
  },
  {
   "cell_type": "code",
   "execution_count": 133,
   "metadata": {
    "application/vnd.databricks.v1+cell": {
     "cellMetadata": {
      "byteLimit": 2048000,
      "rowLimit": 10000
     },
     "inputWidgets": {},
     "nuid": "b92ba7bb-3975-48a5-af60-8e8371950d9d",
     "showTitle": false,
     "title": ""
    }
   },
   "outputs": [
    {
     "data": {
      "text/plain": [
       "4066"
      ]
     },
     "execution_count": 133,
     "metadata": {},
     "output_type": "execute_result"
    }
   ],
   "source": [
    "data.count()"
   ]
  },
  {
   "cell_type": "code",
   "execution_count": 134,
   "metadata": {
    "application/vnd.databricks.v1+cell": {
     "cellMetadata": {
      "byteLimit": 2048000,
      "rowLimit": 10000
     },
     "inputWidgets": {},
     "nuid": "7b664275-c2f8-42dd-bcd7-ebc0fbf51915",
     "showTitle": false,
     "title": ""
    }
   },
   "outputs": [
    {
     "data": {
      "text/plain": [
       "DataFrame[Video ID: string, Video Uploader: string, Interval between YouTube Establishment and Video Upload: double, Video Category: string, Video Length: int, Number of Views: int, Rating on the Video: double, Number of Ratings: int, Number of Comments: int, Related Video IDs: string]"
      ]
     },
     "execution_count": 134,
     "metadata": {},
     "output_type": "execute_result"
    }
   ],
   "source": [
    "data.dropna()"
   ]
  },
  {
   "cell_type": "code",
   "execution_count": 135,
   "metadata": {
    "application/vnd.databricks.v1+cell": {
     "cellMetadata": {
      "byteLimit": 2048000,
      "rowLimit": 10000
     },
     "inputWidgets": {},
     "nuid": "6ea3a24d-d4dd-464a-bef1-0189fd5974ea",
     "showTitle": false,
     "title": ""
    }
   },
   "outputs": [
    {
     "data": {
      "text/plain": [
       "4066"
      ]
     },
     "execution_count": 135,
     "metadata": {},
     "output_type": "execute_result"
    }
   ],
   "source": [
    "data.count()"
   ]
  },
  {
   "cell_type": "code",
   "execution_count": 136,
   "metadata": {
    "application/vnd.databricks.v1+cell": {
     "cellMetadata": {
      "byteLimit": 2048000,
      "rowLimit": 10000
     },
     "inputWidgets": {},
     "nuid": "bd35016c-10d8-484b-b371-075f36b3baed",
     "showTitle": false,
     "title": ""
    }
   },
   "outputs": [],
   "source": [
    "data = data.filter(col('Related Video IDs').isNotNull())"
   ]
  },
  {
   "cell_type": "code",
   "execution_count": 137,
   "metadata": {
    "application/vnd.databricks.v1+cell": {
     "cellMetadata": {
      "byteLimit": 2048000,
      "rowLimit": 10000
     },
     "inputWidgets": {},
     "nuid": "9ed47cda-4c7a-4527-ab14-b22389fc69af",
     "showTitle": false,
     "title": ""
    }
   },
   "outputs": [
    {
     "data": {
      "text/plain": [
       "3239"
      ]
     },
     "execution_count": 137,
     "metadata": {},
     "output_type": "execute_result"
    }
   ],
   "source": [
    "data.count()"
   ]
  },
  {
   "cell_type": "code",
   "execution_count": 138,
   "metadata": {
    "application/vnd.databricks.v1+cell": {
     "cellMetadata": {
      "byteLimit": 2048000,
      "rowLimit": 10000
     },
     "inputWidgets": {},
     "nuid": "90641120-4a23-403f-8850-84e6f983b492",
     "showTitle": false,
     "title": ""
    }
   },
   "outputs": [
    {
     "data": {
      "text/html": [
       "<div>\n",
       "<style scoped>\n",
       "    .dataframe tbody tr th:only-of-type {\n",
       "        vertical-align: middle;\n",
       "    }\n",
       "\n",
       "    .dataframe tbody tr th {\n",
       "        vertical-align: top;\n",
       "    }\n",
       "\n",
       "    .dataframe thead th {\n",
       "        text-align: right;\n",
       "    }\n",
       "</style>\n",
       "<table border=\"1\" class=\"dataframe\">\n",
       "  <thead>\n",
       "    <tr style=\"text-align: right;\">\n",
       "      <th></th>\n",
       "      <th>Video ID</th>\n",
       "      <th>Video Uploader</th>\n",
       "      <th>Interval between YouTube Establishment and Video Upload</th>\n",
       "      <th>Video Category</th>\n",
       "      <th>Video Length</th>\n",
       "      <th>Number of Views</th>\n",
       "      <th>Rating on the Video</th>\n",
       "      <th>Number of Ratings</th>\n",
       "      <th>Number of Comments</th>\n",
       "      <th>Related Video IDs</th>\n",
       "    </tr>\n",
       "  </thead>\n",
       "  <tbody>\n",
       "    <tr>\n",
       "      <th>0</th>\n",
       "      <td>QuRYeRnAuXM</td>\n",
       "      <td>EvilSquirrelPictures</td>\n",
       "      <td>1135.0</td>\n",
       "      <td>Pets &amp; Animals</td>\n",
       "      <td>252</td>\n",
       "      <td>1075</td>\n",
       "      <td>4.96</td>\n",
       "      <td>46</td>\n",
       "      <td>86</td>\n",
       "      <td>nRcovJn9xHg,3TYqkBJ9YRk,rSJ8QZWBegU,0TZqX5MbXM...</td>\n",
       "    </tr>\n",
       "    <tr>\n",
       "      <th>1</th>\n",
       "      <td>3TYqkBJ9YRk</td>\n",
       "      <td>hggh22</td>\n",
       "      <td>1135.0</td>\n",
       "      <td>Comedy</td>\n",
       "      <td>169</td>\n",
       "      <td>228</td>\n",
       "      <td>5.00</td>\n",
       "      <td>5</td>\n",
       "      <td>3</td>\n",
       "      <td>gFa1YMEJFag,UEvVksP91kg,rSJ8QZWBegU,nRcovJn9xH...</td>\n",
       "    </tr>\n",
       "    <tr>\n",
       "      <th>2</th>\n",
       "      <td>rSJ8QZWBegU</td>\n",
       "      <td>TimeGem</td>\n",
       "      <td>1135.0</td>\n",
       "      <td>Entertainment</td>\n",
       "      <td>95</td>\n",
       "      <td>356</td>\n",
       "      <td>4.31</td>\n",
       "      <td>13</td>\n",
       "      <td>1</td>\n",
       "      <td>gFa1YMEJFag,UEvVksP91kg,3TYqkBJ9YRk,nRcovJn9xH...</td>\n",
       "    </tr>\n",
       "    <tr>\n",
       "      <th>3</th>\n",
       "      <td>nRcovJn9xHg</td>\n",
       "      <td>wooochacha</td>\n",
       "      <td>1135.0</td>\n",
       "      <td>Entertainment</td>\n",
       "      <td>118</td>\n",
       "      <td>1115</td>\n",
       "      <td>2.23</td>\n",
       "      <td>57</td>\n",
       "      <td>73</td>\n",
       "      <td>gFa1YMEJFag,UEvVksP91kg,3TYqkBJ9YRk,ZTopArY7Nb...</td>\n",
       "    </tr>\n",
       "    <tr>\n",
       "      <th>4</th>\n",
       "      <td>UEvVksP91kg</td>\n",
       "      <td>johnx113</td>\n",
       "      <td>1135.0</td>\n",
       "      <td>Entertainment</td>\n",
       "      <td>83</td>\n",
       "      <td>281</td>\n",
       "      <td>2.67</td>\n",
       "      <td>9</td>\n",
       "      <td>16</td>\n",
       "      <td>QuRYeRnAuXM,3TYqkBJ9YRk,0TZqX5MbXMA,rSJ8QZWBeg...</td>\n",
       "    </tr>\n",
       "    <tr>\n",
       "      <th>...</th>\n",
       "      <td>...</td>\n",
       "      <td>...</td>\n",
       "      <td>...</td>\n",
       "      <td>...</td>\n",
       "      <td>...</td>\n",
       "      <td>...</td>\n",
       "      <td>...</td>\n",
       "      <td>...</td>\n",
       "      <td>...</td>\n",
       "      <td>...</td>\n",
       "    </tr>\n",
       "    <tr>\n",
       "      <th>3234</th>\n",
       "      <td>S95602a7cFE</td>\n",
       "      <td>mattCTB</td>\n",
       "      <td>1045.0</td>\n",
       "      <td>Entertainment</td>\n",
       "      <td>87</td>\n",
       "      <td>39885</td>\n",
       "      <td>4.51</td>\n",
       "      <td>63</td>\n",
       "      <td>131</td>\n",
       "      <td>bLAP45F4UCw,URIaUbRjIrU,x2TUkfeO-gM,Ydm5IedLYS...</td>\n",
       "    </tr>\n",
       "    <tr>\n",
       "      <th>3235</th>\n",
       "      <td>esCvu46qDaA</td>\n",
       "      <td>RSMFD</td>\n",
       "      <td>863.0</td>\n",
       "      <td>Entertainment</td>\n",
       "      <td>63</td>\n",
       "      <td>116929</td>\n",
       "      <td>4.84</td>\n",
       "      <td>182</td>\n",
       "      <td>222</td>\n",
       "      <td>vOskZNJJII8,q3qdBVDZrmE,mLDLe024T_I,bhLbFGVduT...</td>\n",
       "    </tr>\n",
       "    <tr>\n",
       "      <th>3236</th>\n",
       "      <td>GSsVZcKHues</td>\n",
       "      <td>GTASite</td>\n",
       "      <td>1024.0</td>\n",
       "      <td>Entertainment</td>\n",
       "      <td>123</td>\n",
       "      <td>486752</td>\n",
       "      <td>4.86</td>\n",
       "      <td>1098</td>\n",
       "      <td>1764</td>\n",
       "      <td>vOskZNJJII8,_X5nHLOiAVo,cNION6wGuso,5-reBn0gUk...</td>\n",
       "    </tr>\n",
       "    <tr>\n",
       "      <th>3237</th>\n",
       "      <td>foKRqJGcbPQ</td>\n",
       "      <td>scrambledeggsTV</td>\n",
       "      <td>1100.0</td>\n",
       "      <td>Entertainment</td>\n",
       "      <td>136</td>\n",
       "      <td>13115</td>\n",
       "      <td>4.45</td>\n",
       "      <td>33</td>\n",
       "      <td>37</td>\n",
       "      <td>_X5nHLOiAVo,5-reBn0gUkg,e8bEzU2Tx7c,e4yx1s-l6f...</td>\n",
       "    </tr>\n",
       "    <tr>\n",
       "      <th>3238</th>\n",
       "      <td>-CYhSNHbeC8</td>\n",
       "      <td>rehab07</td>\n",
       "      <td>771.0</td>\n",
       "      <td>Entertainment</td>\n",
       "      <td>186</td>\n",
       "      <td>103556</td>\n",
       "      <td>4.30</td>\n",
       "      <td>277</td>\n",
       "      <td>220</td>\n",
       "      <td>EOj-iWkcJPU,pg3j4IBMRZE,2GHiAEeFQs0,e4yx1s-l6f...</td>\n",
       "    </tr>\n",
       "  </tbody>\n",
       "</table>\n",
       "<p>3239 rows × 10 columns</p>\n",
       "</div>"
      ],
      "text/plain": [
       "         Video ID        Video Uploader  \\\n",
       "0     QuRYeRnAuXM  EvilSquirrelPictures   \n",
       "1     3TYqkBJ9YRk                hggh22   \n",
       "2     rSJ8QZWBegU               TimeGem   \n",
       "3     nRcovJn9xHg            wooochacha   \n",
       "4     UEvVksP91kg              johnx113   \n",
       "...           ...                   ...   \n",
       "3234  S95602a7cFE               mattCTB   \n",
       "3235  esCvu46qDaA                 RSMFD   \n",
       "3236  GSsVZcKHues               GTASite   \n",
       "3237  foKRqJGcbPQ       scrambledeggsTV   \n",
       "3238  -CYhSNHbeC8               rehab07   \n",
       "\n",
       "      Interval between YouTube Establishment and Video Upload  Video Category  \\\n",
       "0                                                1135.0        Pets & Animals   \n",
       "1                                                1135.0                Comedy   \n",
       "2                                                1135.0         Entertainment   \n",
       "3                                                1135.0         Entertainment   \n",
       "4                                                1135.0         Entertainment   \n",
       "...                                                 ...                   ...   \n",
       "3234                                             1045.0         Entertainment   \n",
       "3235                                              863.0         Entertainment   \n",
       "3236                                             1024.0         Entertainment   \n",
       "3237                                             1100.0         Entertainment   \n",
       "3238                                              771.0         Entertainment   \n",
       "\n",
       "      Video Length  Number of Views  Rating on the Video  Number of Ratings  \\\n",
       "0              252             1075                 4.96                 46   \n",
       "1              169              228                 5.00                  5   \n",
       "2               95              356                 4.31                 13   \n",
       "3              118             1115                 2.23                 57   \n",
       "4               83              281                 2.67                  9   \n",
       "...            ...              ...                  ...                ...   \n",
       "3234            87            39885                 4.51                 63   \n",
       "3235            63           116929                 4.84                182   \n",
       "3236           123           486752                 4.86               1098   \n",
       "3237           136            13115                 4.45                 33   \n",
       "3238           186           103556                 4.30                277   \n",
       "\n",
       "      Number of Comments                                  Related Video IDs  \n",
       "0                     86  nRcovJn9xHg,3TYqkBJ9YRk,rSJ8QZWBegU,0TZqX5MbXM...  \n",
       "1                      3  gFa1YMEJFag,UEvVksP91kg,rSJ8QZWBegU,nRcovJn9xH...  \n",
       "2                      1  gFa1YMEJFag,UEvVksP91kg,3TYqkBJ9YRk,nRcovJn9xH...  \n",
       "3                     73  gFa1YMEJFag,UEvVksP91kg,3TYqkBJ9YRk,ZTopArY7Nb...  \n",
       "4                     16  QuRYeRnAuXM,3TYqkBJ9YRk,0TZqX5MbXMA,rSJ8QZWBeg...  \n",
       "...                  ...                                                ...  \n",
       "3234                 131  bLAP45F4UCw,URIaUbRjIrU,x2TUkfeO-gM,Ydm5IedLYS...  \n",
       "3235                 222  vOskZNJJII8,q3qdBVDZrmE,mLDLe024T_I,bhLbFGVduT...  \n",
       "3236                1764  vOskZNJJII8,_X5nHLOiAVo,cNION6wGuso,5-reBn0gUk...  \n",
       "3237                  37  _X5nHLOiAVo,5-reBn0gUkg,e8bEzU2Tx7c,e4yx1s-l6f...  \n",
       "3238                 220  EOj-iWkcJPU,pg3j4IBMRZE,2GHiAEeFQs0,e4yx1s-l6f...  \n",
       "\n",
       "[3239 rows x 10 columns]"
      ]
     },
     "execution_count": 138,
     "metadata": {},
     "output_type": "execute_result"
    }
   ],
   "source": [
    "data.toPandas()"
   ]
  },
  {
   "cell_type": "code",
   "execution_count": 139,
   "metadata": {
    "application/vnd.databricks.v1+cell": {
     "cellMetadata": {
      "byteLimit": 2048000,
      "rowLimit": 10000
     },
     "inputWidgets": {},
     "nuid": "38da9db7-ad98-438d-8922-6693d61c7af5",
     "showTitle": false,
     "title": ""
    }
   },
   "outputs": [],
   "source": [
    "# # Define the directory path to save the CSV files in DBFS\n",
    "# output_path = 'D:/OneDrive - TVS Motor Company Ltd/Desktop/TRAINING/Day30/output.csv'\n",
    "\n",
    "# # Export the DataFrame to a CSV file\n",
    "# data.write.csv(output_path, header=True,mode='overwrite')"
   ]
  },
  {
   "cell_type": "code",
   "execution_count": 140,
   "metadata": {
    "application/vnd.databricks.v1+cell": {
     "cellMetadata": {
      "byteLimit": 2048000,
      "rowLimit": 10000
     },
     "inputWidgets": {},
     "nuid": "f153ad50-436a-4e80-8c25-f83bf232c49e",
     "showTitle": false,
     "title": ""
    }
   },
   "outputs": [
    {
     "ename": "NameError",
     "evalue": "name 'dbutils' is not defined",
     "output_type": "error",
     "traceback": [
      "\u001b[1;31m---------------------------------------------------------------------------\u001b[0m",
      "\u001b[1;31mNameError\u001b[0m                                 Traceback (most recent call last)",
      "Cell \u001b[1;32mIn[140], line 2\u001b[0m\n\u001b[0;32m      1\u001b[0m \u001b[38;5;66;03m# List files in a directory\u001b[39;00m\n\u001b[1;32m----> 2\u001b[0m dbutils\u001b[38;5;241m.\u001b[39mfs\u001b[38;5;241m.\u001b[39mls(\u001b[38;5;124m\"\u001b[39m\u001b[38;5;124m/dbfs/Workspace/Users/d-user11@heu.ai/\u001b[39m\u001b[38;5;124m\"\u001b[39m)\n",
      "\u001b[1;31mNameError\u001b[0m: name 'dbutils' is not defined"
     ]
    }
   ],
   "source": [
    "# List files in a directory\n",
    "dbutils.fs.ls(\"/dbfs/Workspace/Users/d-user11@heu.ai/\")"
   ]
  },
  {
   "cell_type": "code",
   "execution_count": null,
   "metadata": {
    "application/vnd.databricks.v1+cell": {
     "cellMetadata": {
      "byteLimit": 2048000,
      "rowLimit": 10000
     },
     "inputWidgets": {},
     "nuid": "55f695d4-1eff-49b6-a61e-059853459b70",
     "showTitle": false,
     "title": ""
    }
   },
   "outputs": [],
   "source": [
    "# # Read a CSV file from DBFS\n",
    "# dfo = spark.read.csv(\"/dbfs/Workspace/Users/d-user11@heu.ai/output.csv\", header=True, inferSchema=True)\n",
    "# dfo.toPandas()\n",
    "\n"
   ]
  },
  {
   "cell_type": "code",
   "execution_count": null,
   "metadata": {
    "application/vnd.databricks.v1+cell": {
     "cellMetadata": {
      "byteLimit": 2048000,
      "rowLimit": 10000
     },
     "inputWidgets": {},
     "nuid": "81eb02cb-36da-49fb-b792-1e9861bfb9cf",
     "showTitle": false,
     "title": ""
    }
   },
   "outputs": [],
   "source": [
    "# Analysis and Insights\n",
    "# 1. Top Video Categories\n",
    "# Objective: Find the top video categories with the maximum number of videos uploaded.\n",
    "\n"
   ]
  },
  {
   "cell_type": "code",
   "execution_count": null,
   "metadata": {
    "application/vnd.databricks.v1+cell": {
     "cellMetadata": {
      "byteLimit": 2048000,
      "rowLimit": 10000
     },
     "inputWidgets": {},
     "nuid": "93092685-ee43-406a-b39c-c6c536f90bf3",
     "showTitle": false,
     "title": ""
    }
   },
   "outputs": [
    {
     "data": {
      "text/html": [
       "<div>\n",
       "<style scoped>\n",
       "    .dataframe tbody tr th:only-of-type {\n",
       "        vertical-align: middle;\n",
       "    }\n",
       "\n",
       "    .dataframe tbody tr th {\n",
       "        vertical-align: top;\n",
       "    }\n",
       "\n",
       "    .dataframe thead th {\n",
       "        text-align: right;\n",
       "    }\n",
       "</style>\n",
       "<table border=\"1\" class=\"dataframe\">\n",
       "  <thead>\n",
       "    <tr style=\"text-align: right;\">\n",
       "      <th></th>\n",
       "      <th>Video Category</th>\n",
       "      <th>count</th>\n",
       "    </tr>\n",
       "  </thead>\n",
       "  <tbody>\n",
       "    <tr>\n",
       "      <th>0</th>\n",
       "      <td>Education</td>\n",
       "      <td>43</td>\n",
       "    </tr>\n",
       "    <tr>\n",
       "      <th>1</th>\n",
       "      <td>Entertainment</td>\n",
       "      <td>715</td>\n",
       "    </tr>\n",
       "    <tr>\n",
       "      <th>2</th>\n",
       "      <td>Travel &amp; Events</td>\n",
       "      <td>60</td>\n",
       "    </tr>\n",
       "    <tr>\n",
       "      <th>3</th>\n",
       "      <td>Science &amp; Technology</td>\n",
       "      <td>74</td>\n",
       "    </tr>\n",
       "    <tr>\n",
       "      <th>4</th>\n",
       "      <td>Sports</td>\n",
       "      <td>205</td>\n",
       "    </tr>\n",
       "    <tr>\n",
       "      <th>5</th>\n",
       "      <td>Howto &amp; Style</td>\n",
       "      <td>111</td>\n",
       "    </tr>\n",
       "    <tr>\n",
       "      <th>6</th>\n",
       "      <td>Nonprofits &amp; Activism</td>\n",
       "      <td>34</td>\n",
       "    </tr>\n",
       "    <tr>\n",
       "      <th>7</th>\n",
       "      <td>Film &amp; Animation</td>\n",
       "      <td>204</td>\n",
       "    </tr>\n",
       "    <tr>\n",
       "      <th>8</th>\n",
       "      <td>People &amp; Blogs</td>\n",
       "      <td>306</td>\n",
       "    </tr>\n",
       "    <tr>\n",
       "      <th>9</th>\n",
       "      <td>News &amp; Politics</td>\n",
       "      <td>268</td>\n",
       "    </tr>\n",
       "    <tr>\n",
       "      <th>10</th>\n",
       "      <td>Pets &amp; Animals</td>\n",
       "      <td>70</td>\n",
       "    </tr>\n",
       "    <tr>\n",
       "      <th>11</th>\n",
       "      <td>Autos &amp; Vehicles</td>\n",
       "      <td>62</td>\n",
       "    </tr>\n",
       "    <tr>\n",
       "      <th>12</th>\n",
       "      <td>Music</td>\n",
       "      <td>741</td>\n",
       "    </tr>\n",
       "    <tr>\n",
       "      <th>13</th>\n",
       "      <td>Comedy</td>\n",
       "      <td>346</td>\n",
       "    </tr>\n",
       "  </tbody>\n",
       "</table>\n",
       "</div>"
      ],
      "text/plain": [
       "           Video Category  count\n",
       "0               Education     43\n",
       "1           Entertainment    715\n",
       "2         Travel & Events     60\n",
       "3    Science & Technology     74\n",
       "4                  Sports    205\n",
       "5           Howto & Style    111\n",
       "6   Nonprofits & Activism     34\n",
       "7        Film & Animation    204\n",
       "8          People & Blogs    306\n",
       "9         News & Politics    268\n",
       "10         Pets & Animals     70\n",
       "11       Autos & Vehicles     62\n",
       "12                  Music    741\n",
       "13                 Comedy    346"
      ]
     },
     "execution_count": 43,
     "metadata": {},
     "output_type": "execute_result"
    }
   ],
   "source": [
    "# Group by 'Category' and count the number of videos in each category\n",
    "category_data = data.groupBy('Video Category').count()\n",
    "\n",
    "# Display the result\n",
    "category_data.toPandas()"
   ]
  },
  {
   "cell_type": "code",
   "execution_count": null,
   "metadata": {
    "application/vnd.databricks.v1+cell": {
     "cellMetadata": {
      "byteLimit": 2048000,
      "rowLimit": 10000
     },
     "inputWidgets": {},
     "nuid": "89b56341-983e-42b9-a0c7-7e8e6aca0ea4",
     "showTitle": false,
     "title": ""
    }
   },
   "outputs": [],
   "source": [
    "from pyspark.sql import functions as F"
   ]
  },
  {
   "cell_type": "code",
   "execution_count": null,
   "metadata": {
    "application/vnd.databricks.v1+cell": {
     "cellMetadata": {
      "byteLimit": 2048000,
      "rowLimit": 10000
     },
     "inputWidgets": {},
     "nuid": "39b9a0c7-e551-4493-80cb-031cf1201cc5",
     "showTitle": false,
     "title": ""
    }
   },
   "outputs": [
    {
     "name": "stdout",
     "output_type": "stream",
     "text": [
      "+--------------------+-----+\n",
      "|      Video Category|count|\n",
      "+--------------------+-----+\n",
      "|               Music|  741|\n",
      "|       Entertainment|  715|\n",
      "|              Comedy|  346|\n",
      "|      People & Blogs|  306|\n",
      "|     News & Politics|  268|\n",
      "|              Sports|  205|\n",
      "|    Film & Animation|  204|\n",
      "|       Howto & Style|  111|\n",
      "|Science & Technology|   74|\n",
      "|      Pets & Animals|   70|\n",
      "|    Autos & Vehicles|   62|\n",
      "|     Travel & Events|   60|\n",
      "|           Education|   43|\n",
      "|Nonprofits & Acti...|   34|\n",
      "+--------------------+-----+\n",
      "\n"
     ]
    }
   ],
   "source": [
    "# Group by 'Video Category' and count the number of videos in each category\n",
    "category_data = data.groupBy('Video Category').count()\n",
    "\n",
    "# Sort the result by 'count' in descending order\n",
    "sorted_category_data = category_data.orderBy(F.desc('count'))\n",
    "\n",
    "# Display the result\n",
    "sorted_category_data.show()"
   ]
  },
  {
   "cell_type": "code",
   "execution_count": null,
   "metadata": {
    "application/vnd.databricks.v1+cell": {
     "cellMetadata": {
      "byteLimit": 2048000,
      "rowLimit": 10000
     },
     "inputWidgets": {},
     "nuid": "720cd967-2cb0-49dd-a90d-280cce9f661a",
     "showTitle": false,
     "title": ""
    }
   },
   "outputs": [
    {
     "name": "stdout",
     "output_type": "stream",
     "text": [
      "           Video Category  count\n",
      "0                   Music    741\n",
      "1           Entertainment    715\n",
      "2                  Comedy    346\n",
      "3          People & Blogs    306\n",
      "4         News & Politics    268\n",
      "5                  Sports    205\n",
      "6        Film & Animation    204\n",
      "7           Howto & Style    111\n",
      "8    Science & Technology     74\n",
      "9          Pets & Animals     70\n",
      "10       Autos & Vehicles     62\n",
      "11        Travel & Events     60\n",
      "12              Education     43\n",
      "13  Nonprofits & Activism     34\n"
     ]
    }
   ],
   "source": [
    "# Convert to Pandas DataFrame\n",
    "sorted_category_df = sorted_category_data.toPandas()\n",
    "print(sorted_category_df)"
   ]
  },
  {
   "cell_type": "code",
   "execution_count": null,
   "metadata": {
    "application/vnd.databricks.v1+cell": {
     "cellMetadata": {
      "byteLimit": 2048000,
      "rowLimit": 10000
     },
     "inputWidgets": {},
     "nuid": "b4364b43-6c86-47e3-bbb6-66cb40cfb7c8",
     "showTitle": false,
     "title": ""
    }
   },
   "outputs": [
    {
     "name": "stdout",
     "output_type": "stream",
     "text": [
      "+--------------------+-----+\n",
      "|      Video Category|count|\n",
      "+--------------------+-----+\n",
      "|               Music|  741|\n",
      "|       Entertainment|  715|\n",
      "|              Comedy|  346|\n",
      "|      People & Blogs|  306|\n",
      "|     News & Politics|  268|\n",
      "|              Sports|  205|\n",
      "|    Film & Animation|  204|\n",
      "|       Howto & Style|  111|\n",
      "|Science & Technology|   74|\n",
      "|      Pets & Animals|   70|\n",
      "+--------------------+-----+\n",
      "\n"
     ]
    }
   ],
   "source": [
    "# Sort the result by 'count' in descending order\n",
    "sorted_category_data = category_data.orderBy(F.desc('count')).limit(10)\n",
    "\n",
    "# Display the result\n",
    "sorted_category_data.show()"
   ]
  },
  {
   "cell_type": "code",
   "execution_count": null,
   "metadata": {
    "application/vnd.databricks.v1+cell": {
     "cellMetadata": {
      "byteLimit": 2048000,
      "rowLimit": 10000
     },
     "inputWidgets": {},
     "nuid": "77a0deb9-9e17-4728-b593-2b325e77402d",
     "showTitle": false,
     "title": ""
    }
   },
   "outputs": [],
   "source": [
    "# 2. Top Rated Videos\n",
    "# Objective: Identify the top-rated videos on YouTube."
   ]
  },
  {
   "cell_type": "code",
   "execution_count": null,
   "metadata": {
    "application/vnd.databricks.v1+cell": {
     "cellMetadata": {
      "byteLimit": 2048000,
      "rowLimit": 10000
     },
     "inputWidgets": {},
     "nuid": "6e73cfeb-30f6-4a6e-9dc8-47bf9126f2d7",
     "showTitle": false,
     "title": ""
    }
   },
   "outputs": [],
   "source": [
    "df=data.select('Video ID','Rating on the Video')"
   ]
  },
  {
   "cell_type": "code",
   "execution_count": null,
   "metadata": {
    "application/vnd.databricks.v1+cell": {
     "cellMetadata": {
      "byteLimit": 2048000,
      "rowLimit": 10000
     },
     "inputWidgets": {},
     "nuid": "e2b12042-21f5-49c6-abcb-0711107c20e8",
     "showTitle": false,
     "title": ""
    }
   },
   "outputs": [
    {
     "data": {
      "text/html": [
       "<div>\n",
       "<style scoped>\n",
       "    .dataframe tbody tr th:only-of-type {\n",
       "        vertical-align: middle;\n",
       "    }\n",
       "\n",
       "    .dataframe tbody tr th {\n",
       "        vertical-align: top;\n",
       "    }\n",
       "\n",
       "    .dataframe thead th {\n",
       "        text-align: right;\n",
       "    }\n",
       "</style>\n",
       "<table border=\"1\" class=\"dataframe\">\n",
       "  <thead>\n",
       "    <tr style=\"text-align: right;\">\n",
       "      <th></th>\n",
       "      <th>Video ID</th>\n",
       "      <th>Rating on the Video</th>\n",
       "    </tr>\n",
       "  </thead>\n",
       "  <tbody>\n",
       "    <tr>\n",
       "      <th>0</th>\n",
       "      <td>QuRYeRnAuXM</td>\n",
       "      <td>4.96</td>\n",
       "    </tr>\n",
       "    <tr>\n",
       "      <th>1</th>\n",
       "      <td>3TYqkBJ9YRk</td>\n",
       "      <td>5.00</td>\n",
       "    </tr>\n",
       "    <tr>\n",
       "      <th>2</th>\n",
       "      <td>rSJ8QZWBegU</td>\n",
       "      <td>4.31</td>\n",
       "    </tr>\n",
       "    <tr>\n",
       "      <th>3</th>\n",
       "      <td>nRcovJn9xHg</td>\n",
       "      <td>2.23</td>\n",
       "    </tr>\n",
       "    <tr>\n",
       "      <th>4</th>\n",
       "      <td>UEvVksP91kg</td>\n",
       "      <td>2.67</td>\n",
       "    </tr>\n",
       "    <tr>\n",
       "      <th>...</th>\n",
       "      <td>...</td>\n",
       "      <td>...</td>\n",
       "    </tr>\n",
       "    <tr>\n",
       "      <th>3234</th>\n",
       "      <td>S95602a7cFE</td>\n",
       "      <td>4.51</td>\n",
       "    </tr>\n",
       "    <tr>\n",
       "      <th>3235</th>\n",
       "      <td>esCvu46qDaA</td>\n",
       "      <td>4.84</td>\n",
       "    </tr>\n",
       "    <tr>\n",
       "      <th>3236</th>\n",
       "      <td>GSsVZcKHues</td>\n",
       "      <td>4.86</td>\n",
       "    </tr>\n",
       "    <tr>\n",
       "      <th>3237</th>\n",
       "      <td>foKRqJGcbPQ</td>\n",
       "      <td>4.45</td>\n",
       "    </tr>\n",
       "    <tr>\n",
       "      <th>3238</th>\n",
       "      <td>-CYhSNHbeC8</td>\n",
       "      <td>4.30</td>\n",
       "    </tr>\n",
       "  </tbody>\n",
       "</table>\n",
       "<p>3239 rows × 2 columns</p>\n",
       "</div>"
      ],
      "text/plain": [
       "         Video ID  Rating on the Video\n",
       "0     QuRYeRnAuXM                 4.96\n",
       "1     3TYqkBJ9YRk                 5.00\n",
       "2     rSJ8QZWBegU                 4.31\n",
       "3     nRcovJn9xHg                 2.23\n",
       "4     UEvVksP91kg                 2.67\n",
       "...           ...                  ...\n",
       "3234  S95602a7cFE                 4.51\n",
       "3235  esCvu46qDaA                 4.84\n",
       "3236  GSsVZcKHues                 4.86\n",
       "3237  foKRqJGcbPQ                 4.45\n",
       "3238  -CYhSNHbeC8                 4.30\n",
       "\n",
       "[3239 rows x 2 columns]"
      ]
     },
     "execution_count": 50,
     "metadata": {},
     "output_type": "execute_result"
    }
   ],
   "source": [
    "df.toPandas()"
   ]
  },
  {
   "cell_type": "code",
   "execution_count": null,
   "metadata": {
    "application/vnd.databricks.v1+cell": {
     "cellMetadata": {
      "byteLimit": 2048000,
      "rowLimit": 10000
     },
     "inputWidgets": {},
     "nuid": "9cdcf3f2-7afa-4467-b052-a08fb12b9dc7",
     "showTitle": false,
     "title": ""
    }
   },
   "outputs": [],
   "source": [
    "sorted_rating_data=df.orderBy('Rating on the Video',ascending=False)"
   ]
  },
  {
   "cell_type": "code",
   "execution_count": null,
   "metadata": {
    "application/vnd.databricks.v1+cell": {
     "cellMetadata": {
      "byteLimit": 2048000,
      "rowLimit": 10000
     },
     "inputWidgets": {},
     "nuid": "8f0a4d8b-fa1e-4ed6-8b1e-6e2f209e310f",
     "showTitle": false,
     "title": ""
    }
   },
   "outputs": [
    {
     "name": "stdout",
     "output_type": "stream",
     "text": [
      "+-----------+-------------------+\n",
      "|   Video ID|Rating on the Video|\n",
      "+-----------+-------------------+\n",
      "|nPEOr55j0Fs|                5.0|\n",
      "|5vLbA7n8EG0|                5.0|\n",
      "|f9_yEORBJK0|                5.0|\n",
      "|3TYqkBJ9YRk|                5.0|\n",
      "|4z31fXh-UEY|                5.0|\n",
      "|Y_hAXbgxXp8|                5.0|\n",
      "|p3KqyCDaH28|                5.0|\n",
      "|osqnkdc349s|                5.0|\n",
      "|muaTrM7Ouxw|                5.0|\n",
      "|2hZx3yBoNw4|                5.0|\n",
      "|bIP1V1u2q-E|                5.0|\n",
      "|Cj_S_rut3LQ|                5.0|\n",
      "|zokUPp_nj_c|                5.0|\n",
      "|IU78CciLDh8|                5.0|\n",
      "|AkYFKuGJEsE|                5.0|\n",
      "|L3mR8syHNIg|                5.0|\n",
      "|l6-J82_3utA|                5.0|\n",
      "|-zDIXUSL174|                5.0|\n",
      "|Zs4H9Itl40c|                5.0|\n",
      "|YZev1imoxX8|                5.0|\n",
      "+-----------+-------------------+\n",
      "only showing top 20 rows\n",
      "\n"
     ]
    }
   ],
   "source": [
    "sorted_rating_data.show()"
   ]
  },
  {
   "cell_type": "code",
   "execution_count": null,
   "metadata": {
    "application/vnd.databricks.v1+cell": {
     "cellMetadata": {
      "byteLimit": 2048000,
      "rowLimit": 10000
     },
     "inputWidgets": {},
     "nuid": "0e4c8c54-8cdf-4c71-8e23-0bdc83895e11",
     "showTitle": false,
     "title": ""
    }
   },
   "outputs": [
    {
     "name": "stdout",
     "output_type": "stream",
     "text": [
      "+-----------+-------------------+\n",
      "|   Video ID|Rating on the Video|\n",
      "+-----------+-------------------+\n",
      "|Cj_S_rut3LQ|                5.0|\n",
      "|AkYFKuGJEsE|                5.0|\n",
      "|ZEDYzwdqHrU|                5.0|\n",
      "|3TYqkBJ9YRk|                5.0|\n",
      "|5vLbA7n8EG0|                5.0|\n",
      "|osqnkdc349s|                5.0|\n",
      "|L3mR8syHNIg|                5.0|\n",
      "|-zDIXUSL174|                5.0|\n",
      "|Y_hAXbgxXp8|                5.0|\n",
      "|p3KqyCDaH28|                5.0|\n",
      "+-----------+-------------------+\n",
      "\n"
     ]
    }
   ],
   "source": [
    "sorted_rating_data.limit(10).show()"
   ]
  },
  {
   "cell_type": "code",
   "execution_count": null,
   "metadata": {
    "application/vnd.databricks.v1+cell": {
     "cellMetadata": {
      "byteLimit": 2048000,
      "rowLimit": 10000
     },
     "inputWidgets": {},
     "nuid": "a1b38b4a-a6b4-4b91-84e8-f5fc6fad6fe3",
     "showTitle": false,
     "title": ""
    }
   },
   "outputs": [],
   "source": [
    "# 3. Evolution of Uploaded Videos Over Time\n",
    "# Objective: Analyze how the number of videos uploaded has changed over time."
   ]
  },
  {
   "cell_type": "code",
   "execution_count": null,
   "metadata": {
    "application/vnd.databricks.v1+cell": {
     "cellMetadata": {
      "byteLimit": 2048000,
      "rowLimit": 10000
     },
     "inputWidgets": {},
     "nuid": "1c7c5e48-71e5-4dd5-bc23-60af69d0beb8",
     "showTitle": false,
     "title": ""
    }
   },
   "outputs": [],
   "source": [
    "# Group by 'Upload Interval' and count the number of videos uploaded\n",
    "upload_trend = data.groupBy('Interval between YouTube Establishment and Video Upload').count()"
   ]
  },
  {
   "cell_type": "code",
   "execution_count": null,
   "metadata": {
    "application/vnd.databricks.v1+cell": {
     "cellMetadata": {
      "byteLimit": 2048000,
      "rowLimit": 10000
     },
     "inputWidgets": {},
     "nuid": "833bad19-5c9a-4e4b-953a-cd41f11c13c8",
     "showTitle": false,
     "title": ""
    }
   },
   "outputs": [
    {
     "data": {
      "text/plain": [
       "DataFrame[Interval between YouTube Establishment and Video Upload: double, count: bigint]"
      ]
     },
     "metadata": {},
     "output_type": "display_data"
    }
   ],
   "source": [
    "display(upload_trend)"
   ]
  },
  {
   "cell_type": "code",
   "execution_count": null,
   "metadata": {
    "application/vnd.databricks.v1+cell": {
     "cellMetadata": {
      "byteLimit": 2048000,
      "rowLimit": 10000
     },
     "inputWidgets": {},
     "nuid": "e8fcfe55-abe1-43a8-9620-3fcf706b885a",
     "showTitle": false,
     "title": ""
    }
   },
   "outputs": [
    {
     "data": {
      "text/html": [
       "<div>\n",
       "<style scoped>\n",
       "    .dataframe tbody tr th:only-of-type {\n",
       "        vertical-align: middle;\n",
       "    }\n",
       "\n",
       "    .dataframe tbody tr th {\n",
       "        vertical-align: top;\n",
       "    }\n",
       "\n",
       "    .dataframe thead th {\n",
       "        text-align: right;\n",
       "    }\n",
       "</style>\n",
       "<table border=\"1\" class=\"dataframe\">\n",
       "  <thead>\n",
       "    <tr style=\"text-align: right;\">\n",
       "      <th></th>\n",
       "      <th>Interval between YouTube Establishment and Video Upload</th>\n",
       "      <th>count</th>\n",
       "    </tr>\n",
       "  </thead>\n",
       "  <tbody>\n",
       "    <tr>\n",
       "      <th>0</th>\n",
       "      <td>215.0</td>\n",
       "      <td>1</td>\n",
       "    </tr>\n",
       "    <tr>\n",
       "      <th>1</th>\n",
       "      <td>265.0</td>\n",
       "      <td>1</td>\n",
       "    </tr>\n",
       "    <tr>\n",
       "      <th>2</th>\n",
       "      <td>284.0</td>\n",
       "      <td>1</td>\n",
       "    </tr>\n",
       "    <tr>\n",
       "      <th>3</th>\n",
       "      <td>285.0</td>\n",
       "      <td>1</td>\n",
       "    </tr>\n",
       "    <tr>\n",
       "      <th>4</th>\n",
       "      <td>286.0</td>\n",
       "      <td>1</td>\n",
       "    </tr>\n",
       "    <tr>\n",
       "      <th>...</th>\n",
       "      <td>...</td>\n",
       "      <td>...</td>\n",
       "    </tr>\n",
       "    <tr>\n",
       "      <th>660</th>\n",
       "      <td>1132.0</td>\n",
       "      <td>59</td>\n",
       "    </tr>\n",
       "    <tr>\n",
       "      <th>661</th>\n",
       "      <td>1133.0</td>\n",
       "      <td>98</td>\n",
       "    </tr>\n",
       "    <tr>\n",
       "      <th>662</th>\n",
       "      <td>1134.0</td>\n",
       "      <td>161</td>\n",
       "    </tr>\n",
       "    <tr>\n",
       "      <th>663</th>\n",
       "      <td>1135.0</td>\n",
       "      <td>198</td>\n",
       "    </tr>\n",
       "    <tr>\n",
       "      <th>664</th>\n",
       "      <td>1136.0</td>\n",
       "      <td>30</td>\n",
       "    </tr>\n",
       "  </tbody>\n",
       "</table>\n",
       "<p>665 rows × 2 columns</p>\n",
       "</div>"
      ],
      "text/plain": [
       "     Interval between YouTube Establishment and Video Upload  count\n",
       "0                                                215.0            1\n",
       "1                                                265.0            1\n",
       "2                                                284.0            1\n",
       "3                                                285.0            1\n",
       "4                                                286.0            1\n",
       "..                                                 ...          ...\n",
       "660                                             1132.0           59\n",
       "661                                             1133.0           98\n",
       "662                                             1134.0          161\n",
       "663                                             1135.0          198\n",
       "664                                             1136.0           30\n",
       "\n",
       "[665 rows x 2 columns]"
      ]
     },
     "execution_count": 57,
     "metadata": {},
     "output_type": "execute_result"
    }
   ],
   "source": [
    "# Sort the result by 'Upload Interval' in ascending order to see the trend over time\n",
    "upload_trend = upload_trend.orderBy(asc('Interval between YouTube Establishment and Video Upload'))\n",
    "\n",
    "# Display the result\n",
    "upload_trend.toPandas()"
   ]
  },
  {
   "cell_type": "code",
   "execution_count": null,
   "metadata": {
    "application/vnd.databricks.v1+cell": {
     "cellMetadata": {
      "byteLimit": 2048000,
      "rowLimit": 10000
     },
     "inputWidgets": {},
     "nuid": "956d7c5f-33ba-4838-a646-fb445eee8a88",
     "showTitle": false,
     "title": ""
    }
   },
   "outputs": [
    {
     "data": {
      "text/html": [
       "<div>\n",
       "<style scoped>\n",
       "    .dataframe tbody tr th:only-of-type {\n",
       "        vertical-align: middle;\n",
       "    }\n",
       "\n",
       "    .dataframe tbody tr th {\n",
       "        vertical-align: top;\n",
       "    }\n",
       "\n",
       "    .dataframe thead th {\n",
       "        text-align: right;\n",
       "    }\n",
       "</style>\n",
       "<table border=\"1\" class=\"dataframe\">\n",
       "  <thead>\n",
       "    <tr style=\"text-align: right;\">\n",
       "      <th></th>\n",
       "      <th>Interval between YouTube Establishment and Video Upload</th>\n",
       "      <th>count</th>\n",
       "    </tr>\n",
       "  </thead>\n",
       "  <tbody>\n",
       "    <tr>\n",
       "      <th>0</th>\n",
       "      <td>1135.0</td>\n",
       "      <td>198</td>\n",
       "    </tr>\n",
       "    <tr>\n",
       "      <th>1</th>\n",
       "      <td>1134.0</td>\n",
       "      <td>161</td>\n",
       "    </tr>\n",
       "    <tr>\n",
       "      <th>2</th>\n",
       "      <td>1133.0</td>\n",
       "      <td>98</td>\n",
       "    </tr>\n",
       "    <tr>\n",
       "      <th>3</th>\n",
       "      <td>1131.0</td>\n",
       "      <td>77</td>\n",
       "    </tr>\n",
       "    <tr>\n",
       "      <th>4</th>\n",
       "      <td>1132.0</td>\n",
       "      <td>59</td>\n",
       "    </tr>\n",
       "    <tr>\n",
       "      <th>...</th>\n",
       "      <td>...</td>\n",
       "      <td>...</td>\n",
       "    </tr>\n",
       "    <tr>\n",
       "      <th>660</th>\n",
       "      <td>398.0</td>\n",
       "      <td>1</td>\n",
       "    </tr>\n",
       "    <tr>\n",
       "      <th>661</th>\n",
       "      <td>382.0</td>\n",
       "      <td>1</td>\n",
       "    </tr>\n",
       "    <tr>\n",
       "      <th>662</th>\n",
       "      <td>512.0</td>\n",
       "      <td>1</td>\n",
       "    </tr>\n",
       "    <tr>\n",
       "      <th>663</th>\n",
       "      <td>814.0</td>\n",
       "      <td>1</td>\n",
       "    </tr>\n",
       "    <tr>\n",
       "      <th>664</th>\n",
       "      <td>505.0</td>\n",
       "      <td>1</td>\n",
       "    </tr>\n",
       "  </tbody>\n",
       "</table>\n",
       "<p>665 rows × 2 columns</p>\n",
       "</div>"
      ],
      "text/plain": [
       "     Interval between YouTube Establishment and Video Upload  count\n",
       "0                                               1135.0          198\n",
       "1                                               1134.0          161\n",
       "2                                               1133.0           98\n",
       "3                                               1131.0           77\n",
       "4                                               1132.0           59\n",
       "..                                                 ...          ...\n",
       "660                                              398.0            1\n",
       "661                                              382.0            1\n",
       "662                                              512.0            1\n",
       "663                                              814.0            1\n",
       "664                                              505.0            1\n",
       "\n",
       "[665 rows x 2 columns]"
      ]
     },
     "execution_count": 58,
     "metadata": {},
     "output_type": "execute_result"
    }
   ],
   "source": [
    "# Sort the result by 'Count' in descending order to see the trend over time\n",
    "upload_trend = upload_trend.orderBy(desc('count'))\n",
    "\n",
    "# Display the result\n",
    "upload_trend.toPandas()"
   ]
  },
  {
   "cell_type": "code",
   "execution_count": null,
   "metadata": {
    "application/vnd.databricks.v1+cell": {
     "cellMetadata": {
      "byteLimit": 2048000,
      "rowLimit": 10000
     },
     "inputWidgets": {},
     "nuid": "72890d23-dcab-45d6-b236-65001f41ae47",
     "showTitle": false,
     "title": ""
    }
   },
   "outputs": [],
   "source": [
    "# 4. Correlation between Establishment Interval and Video Popularity\n",
    "# Objective: Investigate if there is a correlation between the interval between YouTube establishment and video upload date and video popularity."
   ]
  },
  {
   "cell_type": "code",
   "execution_count": null,
   "metadata": {
    "application/vnd.databricks.v1+cell": {
     "cellMetadata": {
      "byteLimit": 2048000,
      "rowLimit": 10000
     },
     "inputWidgets": {},
     "nuid": "198ff71d-6ff6-4a19-b849-81e72a672560",
     "showTitle": false,
     "title": ""
    }
   },
   "outputs": [],
   "source": [
    "# Select relevant columns for correlation analysis\n",
    "columns_for_corr = [\n",
    "    'Interval between YouTube Establishment and Video Upload',\n",
    "    'Number of Views',\n",
    "    'Rating on the Video',\n",
    "    'Number of Ratings',\n",
    "    'Number of Comments'\n",
    "]\n"
   ]
  },
  {
   "cell_type": "code",
   "execution_count": null,
   "metadata": {
    "application/vnd.databricks.v1+cell": {
     "cellMetadata": {
      "byteLimit": 2048000,
      "rowLimit": 10000
     },
     "inputWidgets": {},
     "nuid": "0580e4d3-efae-495f-9573-0a8023f2de8a",
     "showTitle": false,
     "title": ""
    }
   },
   "outputs": [],
   "source": [
    "# Filter the data to include only the relevant columns\n",
    "filtered_data = data.select(columns_for_corr)"
   ]
  },
  {
   "cell_type": "code",
   "execution_count": null,
   "metadata": {
    "application/vnd.databricks.v1+cell": {
     "cellMetadata": {
      "byteLimit": 2048000,
      "rowLimit": 10000
     },
     "inputWidgets": {},
     "nuid": "03561662-e8d6-4380-9f16-08fb97ca72e8",
     "showTitle": false,
     "title": ""
    }
   },
   "outputs": [],
   "source": [
    "# Calculate the correlation between 'Interval between YouTube Establishment and Video Upload' and other metrics\n",
    "correlation_views = filtered_data.stat.corr('Interval between YouTube Establishment and Video Upload', 'Number of Views')\n",
    "correlation_ratings = filtered_data.stat.corr('Interval between YouTube Establishment and Video Upload', 'Rating on the Video')\n",
    "correlation_num_ratings = filtered_data.stat.corr('Interval between YouTube Establishment and Video Upload', 'Number of Ratings')\n",
    "correlation_comments = filtered_data.stat.corr('Interval between YouTube Establishment and Video Upload', 'Number of Comments')\n"
   ]
  },
  {
   "cell_type": "code",
   "execution_count": null,
   "metadata": {
    "application/vnd.databricks.v1+cell": {
     "cellMetadata": {
      "byteLimit": 2048000,
      "rowLimit": 10000
     },
     "inputWidgets": {},
     "nuid": "b1cca2f6-d961-4ccc-ad78-a9401c82794e",
     "showTitle": false,
     "title": ""
    }
   },
   "outputs": [
    {
     "name": "stdout",
     "output_type": "stream",
     "text": [
      "Correlation between Interval and Number of Views: -0.15727255139253954\n",
      "Correlation between Interval and Rating on the Video: -0.2274867398784343\n",
      "Correlation between Interval and Number of Ratings: -0.1184893103517689\n",
      "Correlation between Interval and Number of Comments: -0.05905373629326029\n"
     ]
    }
   ],
   "source": [
    "# Display the correlation results\n",
    "print(f\"Correlation between Interval and Number of Views: {correlation_views}\")\n",
    "print(f\"Correlation between Interval and Rating on the Video: {correlation_ratings}\")\n",
    "print(f\"Correlation between Interval and Number of Ratings: {correlation_num_ratings}\")\n",
    "print(f\"Correlation between Interval and Number of Comments: {correlation_comments}\")"
   ]
  },
  {
   "cell_type": "code",
   "execution_count": null,
   "metadata": {
    "application/vnd.databricks.v1+cell": {
     "cellMetadata": {
      "byteLimit": 2048000,
      "rowLimit": 10000
     },
     "inputWidgets": {},
     "nuid": "ec753a84-633b-4f22-b799-c53e95aaa482",
     "showTitle": false,
     "title": ""
    }
   },
   "outputs": [],
   "source": [
    "# Correlation Coefficients:\n",
    "# The correlation coefficient ranges from -1 to 1.\n",
    "# A value closer to 1 indicates a strong positive correlation.\n",
    "# A value closer to -1 indicates a strong negative correlation.\n",
    "# A value near 0 indicates no correlation."
   ]
  },
  {
   "cell_type": "code",
   "execution_count": null,
   "metadata": {
    "application/vnd.databricks.v1+cell": {
     "cellMetadata": {
      "byteLimit": 2048000,
      "rowLimit": 10000
     },
     "inputWidgets": {},
     "nuid": "3e2f1f05-b6c1-470e-b599-c3564ab5021b",
     "showTitle": false,
     "title": ""
    }
   },
   "outputs": [
    {
     "data": {
      "text/plain": [
       "DataFrame[Video ID: string, Video Uploader: string, Interval between YouTube Establishment and Video Upload: double, Video Category: string, Video Length: int, Number of Views: int, Rating on the Video: double, Number of Ratings: int, Number of Comments: int, Related Video IDs: string]"
      ]
     },
     "metadata": {},
     "output_type": "display_data"
    }
   ],
   "source": [
    "df=data\n",
    "display(df)"
   ]
  },
  {
   "cell_type": "code",
   "execution_count": null,
   "metadata": {
    "application/vnd.databricks.v1+cell": {
     "cellMetadata": {
      "byteLimit": 2048000,
      "rowLimit": 10000
     },
     "inputWidgets": {},
     "nuid": "32f3fa7f-2751-4db1-aca0-a56b1f39fbb8",
     "showTitle": false,
     "title": ""
    }
   },
   "outputs": [
    {
     "data": {
      "text/plain": [
       "DataFrame[Video ID: string, Video Uploader: string, Interval between YouTube Establishment and Video Upload: double, Video Category: string, Video Length: int, Number of Views: int, Rating on the Video: double, Number of Ratings: int, Number of Comments: int, Related Video IDs: string, Video Popularity: double]"
      ]
     },
     "metadata": {},
     "output_type": "display_data"
    }
   ],
   "source": [
    "# Create the \"Video Popularity\" column by summing the specified columns\n",
    "# If you need to apply weights, you can multiply each column by its respective weight before summing\n",
    "df = df.withColumn(\n",
    "    'Video Popularity',\n",
    "    F.col('Number of Views') + F.col('Rating on the Video') + F.col('Number of Ratings') + F.col('Number of Comments')\n",
    ")\n",
    "\n",
    "display(df)"
   ]
  },
  {
   "cell_type": "code",
   "execution_count": null,
   "metadata": {
    "application/vnd.databricks.v1+cell": {
     "cellMetadata": {
      "byteLimit": 2048000,
      "rowLimit": 10000
     },
     "inputWidgets": {},
     "nuid": "406a95ab-c89e-4bcc-829d-6d950054f5ae",
     "showTitle": false,
     "title": ""
    }
   },
   "outputs": [],
   "source": [
    "df=df.select(['Interval between YouTube Establishment and Video Upload','Video Popularity'])"
   ]
  },
  {
   "cell_type": "code",
   "execution_count": null,
   "metadata": {
    "application/vnd.databricks.v1+cell": {
     "cellMetadata": {
      "byteLimit": 2048000,
      "rowLimit": 10000
     },
     "inputWidgets": {},
     "nuid": "31467a28-21db-4ef5-a78a-eb3bb0b8bfce",
     "showTitle": false,
     "title": ""
    }
   },
   "outputs": [
    {
     "data": {
      "text/html": [
       "<div>\n",
       "<style scoped>\n",
       "    .dataframe tbody tr th:only-of-type {\n",
       "        vertical-align: middle;\n",
       "    }\n",
       "\n",
       "    .dataframe tbody tr th {\n",
       "        vertical-align: top;\n",
       "    }\n",
       "\n",
       "    .dataframe thead th {\n",
       "        text-align: right;\n",
       "    }\n",
       "</style>\n",
       "<table border=\"1\" class=\"dataframe\">\n",
       "  <thead>\n",
       "    <tr style=\"text-align: right;\">\n",
       "      <th></th>\n",
       "      <th>Interval between YouTube Establishment and Video Upload</th>\n",
       "      <th>Video Popularity</th>\n",
       "    </tr>\n",
       "  </thead>\n",
       "  <tbody>\n",
       "    <tr>\n",
       "      <th>0</th>\n",
       "      <td>1135.0</td>\n",
       "      <td>1211.96</td>\n",
       "    </tr>\n",
       "    <tr>\n",
       "      <th>1</th>\n",
       "      <td>1135.0</td>\n",
       "      <td>241.00</td>\n",
       "    </tr>\n",
       "    <tr>\n",
       "      <th>2</th>\n",
       "      <td>1135.0</td>\n",
       "      <td>374.31</td>\n",
       "    </tr>\n",
       "    <tr>\n",
       "      <th>3</th>\n",
       "      <td>1135.0</td>\n",
       "      <td>1247.23</td>\n",
       "    </tr>\n",
       "    <tr>\n",
       "      <th>4</th>\n",
       "      <td>1135.0</td>\n",
       "      <td>308.67</td>\n",
       "    </tr>\n",
       "    <tr>\n",
       "      <th>...</th>\n",
       "      <td>...</td>\n",
       "      <td>...</td>\n",
       "    </tr>\n",
       "    <tr>\n",
       "      <th>3234</th>\n",
       "      <td>1045.0</td>\n",
       "      <td>40083.51</td>\n",
       "    </tr>\n",
       "    <tr>\n",
       "      <th>3235</th>\n",
       "      <td>863.0</td>\n",
       "      <td>117337.84</td>\n",
       "    </tr>\n",
       "    <tr>\n",
       "      <th>3236</th>\n",
       "      <td>1024.0</td>\n",
       "      <td>489618.86</td>\n",
       "    </tr>\n",
       "    <tr>\n",
       "      <th>3237</th>\n",
       "      <td>1100.0</td>\n",
       "      <td>13189.45</td>\n",
       "    </tr>\n",
       "    <tr>\n",
       "      <th>3238</th>\n",
       "      <td>771.0</td>\n",
       "      <td>104057.30</td>\n",
       "    </tr>\n",
       "  </tbody>\n",
       "</table>\n",
       "<p>3239 rows × 2 columns</p>\n",
       "</div>"
      ],
      "text/plain": [
       "      Interval between YouTube Establishment and Video Upload  \\\n",
       "0                                                1135.0         \n",
       "1                                                1135.0         \n",
       "2                                                1135.0         \n",
       "3                                                1135.0         \n",
       "4                                                1135.0         \n",
       "...                                                 ...         \n",
       "3234                                             1045.0         \n",
       "3235                                              863.0         \n",
       "3236                                             1024.0         \n",
       "3237                                             1100.0         \n",
       "3238                                              771.0         \n",
       "\n",
       "      Video Popularity  \n",
       "0              1211.96  \n",
       "1               241.00  \n",
       "2               374.31  \n",
       "3              1247.23  \n",
       "4               308.67  \n",
       "...                ...  \n",
       "3234          40083.51  \n",
       "3235         117337.84  \n",
       "3236         489618.86  \n",
       "3237          13189.45  \n",
       "3238         104057.30  \n",
       "\n",
       "[3239 rows x 2 columns]"
      ]
     },
     "execution_count": 68,
     "metadata": {},
     "output_type": "execute_result"
    }
   ],
   "source": [
    "df.toPandas()"
   ]
  },
  {
   "cell_type": "code",
   "execution_count": null,
   "metadata": {
    "application/vnd.databricks.v1+cell": {
     "cellMetadata": {
      "byteLimit": 2048000,
      "rowLimit": 10000
     },
     "inputWidgets": {},
     "nuid": "20829823-7f31-4e6f-8392-3e8a7c9e331d",
     "showTitle": false,
     "title": ""
    }
   },
   "outputs": [
    {
     "data": {
      "text/html": [
       "<div>\n",
       "<style scoped>\n",
       "    .dataframe tbody tr th:only-of-type {\n",
       "        vertical-align: middle;\n",
       "    }\n",
       "\n",
       "    .dataframe tbody tr th {\n",
       "        vertical-align: top;\n",
       "    }\n",
       "\n",
       "    .dataframe thead th {\n",
       "        text-align: right;\n",
       "    }\n",
       "</style>\n",
       "<table border=\"1\" class=\"dataframe\">\n",
       "  <thead>\n",
       "    <tr style=\"text-align: right;\">\n",
       "      <th></th>\n",
       "      <th>Interval between YouTube Establishment and Video Upload</th>\n",
       "      <th>Video Popularity</th>\n",
       "    </tr>\n",
       "  </thead>\n",
       "  <tbody>\n",
       "    <tr>\n",
       "      <th>0</th>\n",
       "      <td>404.0</td>\n",
       "      <td>65356625.03</td>\n",
       "    </tr>\n",
       "    <tr>\n",
       "      <th>1</th>\n",
       "      <td>933.0</td>\n",
       "      <td>33877912.84</td>\n",
       "    </tr>\n",
       "    <tr>\n",
       "      <th>2</th>\n",
       "      <td>807.0</td>\n",
       "      <td>27804548.88</td>\n",
       "    </tr>\n",
       "    <tr>\n",
       "      <th>3</th>\n",
       "      <td>937.0</td>\n",
       "      <td>18617277.42</td>\n",
       "    </tr>\n",
       "    <tr>\n",
       "      <th>4</th>\n",
       "      <td>857.0</td>\n",
       "      <td>18194029.83</td>\n",
       "    </tr>\n",
       "    <tr>\n",
       "      <th>...</th>\n",
       "      <td>...</td>\n",
       "      <td>...</td>\n",
       "    </tr>\n",
       "    <tr>\n",
       "      <th>3234</th>\n",
       "      <td>1134.0</td>\n",
       "      <td>8.00</td>\n",
       "    </tr>\n",
       "    <tr>\n",
       "      <th>3235</th>\n",
       "      <td>1135.0</td>\n",
       "      <td>8.00</td>\n",
       "    </tr>\n",
       "    <tr>\n",
       "      <th>3236</th>\n",
       "      <td>1135.0</td>\n",
       "      <td>7.00</td>\n",
       "    </tr>\n",
       "    <tr>\n",
       "      <th>3237</th>\n",
       "      <td>1135.0</td>\n",
       "      <td>5.00</td>\n",
       "    </tr>\n",
       "    <tr>\n",
       "      <th>3238</th>\n",
       "      <td>1135.0</td>\n",
       "      <td>0.00</td>\n",
       "    </tr>\n",
       "  </tbody>\n",
       "</table>\n",
       "<p>3239 rows × 2 columns</p>\n",
       "</div>"
      ],
      "text/plain": [
       "      Interval between YouTube Establishment and Video Upload  \\\n",
       "0                                                 404.0         \n",
       "1                                                 933.0         \n",
       "2                                                 807.0         \n",
       "3                                                 937.0         \n",
       "4                                                 857.0         \n",
       "...                                                 ...         \n",
       "3234                                             1134.0         \n",
       "3235                                             1135.0         \n",
       "3236                                             1135.0         \n",
       "3237                                             1135.0         \n",
       "3238                                             1135.0         \n",
       "\n",
       "      Video Popularity  \n",
       "0          65356625.03  \n",
       "1          33877912.84  \n",
       "2          27804548.88  \n",
       "3          18617277.42  \n",
       "4          18194029.83  \n",
       "...                ...  \n",
       "3234              8.00  \n",
       "3235              8.00  \n",
       "3236              7.00  \n",
       "3237              5.00  \n",
       "3238              0.00  \n",
       "\n",
       "[3239 rows x 2 columns]"
      ]
     },
     "execution_count": 69,
     "metadata": {},
     "output_type": "execute_result"
    }
   ],
   "source": [
    "df=df.orderBy(desc('Video Popularity'))\n",
    "df.toPandas()"
   ]
  },
  {
   "cell_type": "code",
   "execution_count": null,
   "metadata": {
    "application/vnd.databricks.v1+cell": {
     "cellMetadata": {
      "byteLimit": 2048000,
      "rowLimit": 10000
     },
     "inputWidgets": {},
     "nuid": "2a7a3863-c439-4736-96af-3357d217c0e6",
     "showTitle": false,
     "title": ""
    }
   },
   "outputs": [],
   "source": [
    "# Normalize the Video Popularity Column using Min-Max Normalization"
   ]
  },
  {
   "cell_type": "code",
   "execution_count": null,
   "metadata": {
    "application/vnd.databricks.v1+cell": {
     "cellMetadata": {
      "byteLimit": 2048000,
      "rowLimit": 10000
     },
     "inputWidgets": {},
     "nuid": "b5d46486-bdfe-4bdc-b4f8-efb89a457f64",
     "showTitle": false,
     "title": ""
    }
   },
   "outputs": [
    {
     "name": "stdout",
     "output_type": "stream",
     "text": [
      "0.0 65356625.03\n"
     ]
    }
   ],
   "source": [
    "# Calculate the minimum and maximum values of the column\n",
    "min_value = df.agg(F.min('Video Popularity')).collect()[0][0]\n",
    "max_value = df.agg(F.max('Video Popularity')).collect()[0][0]\n",
    "\n",
    "print(min_value,max_value)"
   ]
  },
  {
   "cell_type": "code",
   "execution_count": null,
   "metadata": {
    "application/vnd.databricks.v1+cell": {
     "cellMetadata": {
      "byteLimit": 2048000,
      "rowLimit": 10000
     },
     "inputWidgets": {},
     "nuid": "9419b3f4-6c9d-4ea7-b461-02239eefbcf6",
     "showTitle": false,
     "title": ""
    }
   },
   "outputs": [],
   "source": [
    "# Normalized Value= (Original Value−Min Value) / (Max Value−Min Value)\n"
   ]
  },
  {
   "cell_type": "code",
   "execution_count": null,
   "metadata": {
    "application/vnd.databricks.v1+cell": {
     "cellMetadata": {
      "byteLimit": 2048000,
      "rowLimit": 10000
     },
     "inputWidgets": {},
     "nuid": "8676311b-037b-45dd-afbb-950a51120d82",
     "showTitle": false,
     "title": ""
    }
   },
   "outputs": [],
   "source": [
    "# Normalize the column 'Video Popularity' to the range 0-1\n",
    "df = df.withColumn('Normalized Video Popularity',(F.col('Video Popularity') - min_value)/ (max_value -min_value))"
   ]
  },
  {
   "cell_type": "code",
   "execution_count": null,
   "metadata": {
    "application/vnd.databricks.v1+cell": {
     "cellMetadata": {
      "byteLimit": 2048000,
      "rowLimit": 10000
     },
     "inputWidgets": {},
     "nuid": "c3c039c8-47f8-41cc-a12a-337c54b9a18f",
     "showTitle": false,
     "title": ""
    }
   },
   "outputs": [
    {
     "name": "stdout",
     "output_type": "stream",
     "text": [
      "+-------------------------------------------------------+----------------+---------------------------+\n",
      "|Interval between YouTube Establishment and Video Upload|Video Popularity|Normalized Video Popularity|\n",
      "+-------------------------------------------------------+----------------+---------------------------+\n",
      "|                                                  404.0|   6.535662503E7|                        1.0|\n",
      "|                                                  933.0|   3.387791284E7|         0.5183546859166819|\n",
      "|                                                  807.0|   2.780454888E7|         0.4254281622901604|\n",
      "|                                                  937.0|   1.861727742E7|         0.2848567748327625|\n",
      "|                                                  857.0|   1.819402983E7|         0.2783808041135627|\n",
      "|                                                  796.0|   1.705428723E7|          0.260941981354939|\n",
      "|                                                  751.0|    1.30684338E7|        0.19995576261781156|\n",
      "|                                                  848.0|   1.111287583E7|        0.17003441999795685|\n",
      "|                                                  215.0|    1.02452809E7|         0.1567596382967635|\n",
      "|                                                  529.0|      8967824.86|        0.13721370795819993|\n",
      "|                                                  458.0|      8908592.61|         0.1363074149852563|\n",
      "|                                                  857.0|      8380954.87|        0.12823420527227306|\n",
      "|                                                  832.0|      8172224.64|        0.12504049338913667|\n",
      "|                                                  932.0|      8035541.76|        0.12294915406527686|\n",
      "|                                                  849.0|       8012639.9|        0.12259874031625773|\n",
      "|                                                  284.0|      7576268.69|        0.11592196944873363|\n",
      "|                                                  918.0|      7190516.81|        0.11001970812751435|\n",
      "|                                                  484.0|      7069874.86|        0.10817380574279632|\n",
      "|                                                  404.0|      6650761.73|        0.10176109502207568|\n",
      "|                                                  998.0|      6153052.47|        0.09414581103561613|\n",
      "+-------------------------------------------------------+----------------+---------------------------+\n",
      "only showing top 20 rows\n",
      "\n"
     ]
    }
   ],
   "source": [
    "df.show()"
   ]
  },
  {
   "cell_type": "code",
   "execution_count": null,
   "metadata": {
    "application/vnd.databricks.v1+cell": {
     "cellMetadata": {
      "byteLimit": 2048000,
      "rowLimit": 10000
     },
     "inputWidgets": {},
     "nuid": "bc3779c6-1afb-414e-bcc3-2929c361422a",
     "showTitle": false,
     "title": ""
    }
   },
   "outputs": [],
   "source": [
    "df=df.select([\"Interval between YouTube Establishment and Video Upload\",\"Normalized Video Popularity\"])"
   ]
  },
  {
   "cell_type": "code",
   "execution_count": null,
   "metadata": {
    "application/vnd.databricks.v1+cell": {
     "cellMetadata": {
      "byteLimit": 2048000,
      "rowLimit": 10000
     },
     "inputWidgets": {},
     "nuid": "f9030cd6-163e-42fb-a001-27225ea0e1d6",
     "showTitle": false,
     "title": ""
    }
   },
   "outputs": [
    {
     "name": "stdout",
     "output_type": "stream",
     "text": [
      "+-------------------------------------------------------+---------------------------+\n",
      "|Interval between YouTube Establishment and Video Upload|Normalized Video Popularity|\n",
      "+-------------------------------------------------------+---------------------------+\n",
      "|                                                  404.0|                        1.0|\n",
      "|                                                  933.0|         0.5183546859166819|\n",
      "|                                                  807.0|         0.4254281622901604|\n",
      "|                                                  937.0|         0.2848567748327625|\n",
      "|                                                  857.0|         0.2783808041135627|\n",
      "|                                                  796.0|          0.260941981354939|\n",
      "|                                                  751.0|        0.19995576261781156|\n",
      "|                                                  848.0|        0.17003441999795685|\n",
      "|                                                  215.0|         0.1567596382967635|\n",
      "|                                                  529.0|        0.13721370795819993|\n",
      "|                                                  458.0|         0.1363074149852563|\n",
      "|                                                  857.0|        0.12823420527227306|\n",
      "|                                                  832.0|        0.12504049338913667|\n",
      "|                                                  932.0|        0.12294915406527686|\n",
      "|                                                  849.0|        0.12259874031625773|\n",
      "|                                                  284.0|        0.11592196944873363|\n",
      "|                                                  918.0|        0.11001970812751435|\n",
      "|                                                  484.0|        0.10817380574279632|\n",
      "|                                                  404.0|        0.10176109502207568|\n",
      "|                                                  998.0|        0.09414581103561613|\n",
      "+-------------------------------------------------------+---------------------------+\n",
      "only showing top 20 rows\n",
      "\n"
     ]
    }
   ],
   "source": [
    "df=df.orderBy(desc(\"Normalized Video Popularity\"))\n",
    "df.show()"
   ]
  },
  {
   "cell_type": "code",
   "execution_count": null,
   "metadata": {
    "application/vnd.databricks.v1+cell": {
     "cellMetadata": {
      "byteLimit": 2048000,
      "rowLimit": 10000
     },
     "inputWidgets": {},
     "nuid": "c474025d-bcbf-46ec-b153-5a454e9ead1f",
     "showTitle": false,
     "title": ""
    }
   },
   "outputs": [
    {
     "name": "stdout",
     "output_type": "stream",
     "text": [
      "+-------------------------------------------------------+---------------------------+\n",
      "|Interval between YouTube Establishment and Video Upload|Normalized Video Popularity|\n",
      "+-------------------------------------------------------+---------------------------+\n",
      "|                                                 1135.0|                        0.0|\n",
      "|                                                 1135.0|       7.650333837931349E-8|\n",
      "|                                                 1135.0|       1.071046737310388...|\n",
      "|                                                 1134.0|       1.224053414069016E-7|\n",
      "|                                                 1135.0|       1.224053414069016E-7|\n",
      "|                                                 1136.0|       1.683073444344896...|\n",
      "|                                                 1135.0|       1.836080121103523...|\n",
      "|                                                 1136.0|       1.989086797862150...|\n",
      "|                                                 1135.0|       1.989086797862150...|\n",
      "|                                                 1135.0|       2.142093474620777...|\n",
      "|                                                 1134.0|       2.295100151379404...|\n",
      "|                                                 1133.0|       2.295100151379404...|\n",
      "|                                                 1121.0|       2.601113504896659E-7|\n",
      "|                                                 1135.0|       2.754120181655285...|\n",
      "|                                                 1135.0|       2.907126858413912...|\n",
      "|                                                 1128.0|       2.907126858413912...|\n",
      "|                                                 1136.0|       2.907126858413912...|\n",
      "|                                                 1135.0|       3.060133535172539...|\n",
      "|                                                 1135.0|       3.060133535172539...|\n",
      "|                                                 1135.0|       3.060133535172539...|\n",
      "+-------------------------------------------------------+---------------------------+\n",
      "only showing top 20 rows\n",
      "\n"
     ]
    }
   ],
   "source": [
    "df=df.orderBy(asc(\"Normalized Video Popularity\"))\n",
    "df.show()"
   ]
  },
  {
   "cell_type": "code",
   "execution_count": null,
   "metadata": {
    "application/vnd.databricks.v1+cell": {
     "cellMetadata": {
      "byteLimit": 2048000,
      "rowLimit": 10000
     },
     "inputWidgets": {},
     "nuid": "b74509aa-9e8c-4457-8574-834a904671bb",
     "showTitle": false,
     "title": ""
    }
   },
   "outputs": [
    {
     "name": "stdout",
     "output_type": "stream",
     "text": [
      "Correlation between Interval and Video Popularity: -0.15727575962518572\n"
     ]
    }
   ],
   "source": [
    "# Calculate the correlation between 'Interval between YouTube Establishment and Video Upload' and 'Normalized Video Popularity'\n",
    "correlation_popularity = df.stat.corr('Interval between YouTube Establishment and Video Upload', 'Normalized Video Popularity')\n",
    "\n",
    "# Display the correlation result\n",
    "print(f\"Correlation between Interval and Video Popularity: {correlation_popularity}\")"
   ]
  },
  {
   "cell_type": "code",
   "execution_count": null,
   "metadata": {
    "application/vnd.databricks.v1+cell": {
     "cellMetadata": {
      "byteLimit": 2048000,
      "rowLimit": 10000
     },
     "inputWidgets": {},
     "nuid": "4839d760-bd0b-4f58-86e1-394de3a31349",
     "showTitle": false,
     "title": ""
    }
   },
   "outputs": [],
   "source": [
    "# 5. Video Categories with Highest Average Ratings\n",
    "# Objective: Determine which video categories have the highest average ratings. Sort videos in decreasing order of their ratings."
   ]
  },
  {
   "cell_type": "code",
   "execution_count": null,
   "metadata": {
    "application/vnd.databricks.v1+cell": {
     "cellMetadata": {
      "byteLimit": 2048000,
      "rowLimit": 10000
     },
     "inputWidgets": {},
     "nuid": "11213675-3251-4cd9-8c8d-be3f69388dda",
     "showTitle": false,
     "title": ""
    }
   },
   "outputs": [
    {
     "name": "stdout",
     "output_type": "stream",
     "text": [
      "+----------------+-------------------+\n",
      "|  Video Category|Rating on the Video|\n",
      "+----------------+-------------------+\n",
      "|  Pets & Animals|               4.96|\n",
      "|          Comedy|                5.0|\n",
      "|   Entertainment|               4.31|\n",
      "|   Entertainment|               2.23|\n",
      "|   Entertainment|               2.67|\n",
      "|  People & Blogs|               3.67|\n",
      "|   Entertainment|                0.0|\n",
      "|   Entertainment|               2.31|\n",
      "|          Comedy|               2.09|\n",
      "|   Entertainment|                0.0|\n",
      "|          Comedy|               4.65|\n",
      "|   Entertainment|                5.0|\n",
      "| News & Politics|               4.39|\n",
      "|          Comedy|                4.5|\n",
      "| News & Politics|               4.71|\n",
      "|          Comedy|               1.57|\n",
      "|          Comedy|                4.8|\n",
      "|          Comedy|               4.07|\n",
      "|Film & Animation|               4.07|\n",
      "|   Entertainment|               4.43|\n",
      "+----------------+-------------------+\n",
      "only showing top 20 rows\n",
      "\n"
     ]
    }
   ],
   "source": [
    "df=data.select([\"Video Category\",\"Rating on the Video\"])\n",
    "df.show()"
   ]
  },
  {
   "cell_type": "code",
   "execution_count": null,
   "metadata": {
    "application/vnd.databricks.v1+cell": {
     "cellMetadata": {
      "byteLimit": 2048000,
      "rowLimit": 10000
     },
     "inputWidgets": {},
     "nuid": "57bfa7ed-aa27-44aa-835c-ae5a6d1c4e35",
     "showTitle": false,
     "title": ""
    }
   },
   "outputs": [
    {
     "data": {
      "text/html": [
       "<div>\n",
       "<style scoped>\n",
       "    .dataframe tbody tr th:only-of-type {\n",
       "        vertical-align: middle;\n",
       "    }\n",
       "\n",
       "    .dataframe tbody tr th {\n",
       "        vertical-align: top;\n",
       "    }\n",
       "\n",
       "    .dataframe thead th {\n",
       "        text-align: right;\n",
       "    }\n",
       "</style>\n",
       "<table border=\"1\" class=\"dataframe\">\n",
       "  <thead>\n",
       "    <tr style=\"text-align: right;\">\n",
       "      <th></th>\n",
       "      <th>Video Category</th>\n",
       "      <th>Average Rating</th>\n",
       "    </tr>\n",
       "  </thead>\n",
       "  <tbody>\n",
       "    <tr>\n",
       "      <th>0</th>\n",
       "      <td>Music</td>\n",
       "      <td>4.360256</td>\n",
       "    </tr>\n",
       "    <tr>\n",
       "      <th>1</th>\n",
       "      <td>Film &amp; Animation</td>\n",
       "      <td>4.317843</td>\n",
       "    </tr>\n",
       "    <tr>\n",
       "      <th>2</th>\n",
       "      <td>Autos &amp; Vehicles</td>\n",
       "      <td>4.000645</td>\n",
       "    </tr>\n",
       "    <tr>\n",
       "      <th>3</th>\n",
       "      <td>Pets &amp; Animals</td>\n",
       "      <td>3.931000</td>\n",
       "    </tr>\n",
       "    <tr>\n",
       "      <th>4</th>\n",
       "      <td>Sports</td>\n",
       "      <td>3.910976</td>\n",
       "    </tr>\n",
       "    <tr>\n",
       "      <th>5</th>\n",
       "      <td>Entertainment</td>\n",
       "      <td>3.894280</td>\n",
       "    </tr>\n",
       "    <tr>\n",
       "      <th>6</th>\n",
       "      <td>News &amp; Politics</td>\n",
       "      <td>3.841567</td>\n",
       "    </tr>\n",
       "    <tr>\n",
       "      <th>7</th>\n",
       "      <td>People &amp; Blogs</td>\n",
       "      <td>3.829314</td>\n",
       "    </tr>\n",
       "    <tr>\n",
       "      <th>8</th>\n",
       "      <td>Comedy</td>\n",
       "      <td>3.747225</td>\n",
       "    </tr>\n",
       "    <tr>\n",
       "      <th>9</th>\n",
       "      <td>Travel &amp; Events</td>\n",
       "      <td>3.682333</td>\n",
       "    </tr>\n",
       "    <tr>\n",
       "      <th>10</th>\n",
       "      <td>Howto &amp; Style</td>\n",
       "      <td>3.640901</td>\n",
       "    </tr>\n",
       "    <tr>\n",
       "      <th>11</th>\n",
       "      <td>Education</td>\n",
       "      <td>3.438605</td>\n",
       "    </tr>\n",
       "    <tr>\n",
       "      <th>12</th>\n",
       "      <td>Nonprofits &amp; Activism</td>\n",
       "      <td>3.334118</td>\n",
       "    </tr>\n",
       "    <tr>\n",
       "      <th>13</th>\n",
       "      <td>Science &amp; Technology</td>\n",
       "      <td>3.296892</td>\n",
       "    </tr>\n",
       "  </tbody>\n",
       "</table>\n",
       "</div>"
      ],
      "text/plain": [
       "           Video Category  Average Rating\n",
       "0                   Music        4.360256\n",
       "1        Film & Animation        4.317843\n",
       "2        Autos & Vehicles        4.000645\n",
       "3          Pets & Animals        3.931000\n",
       "4                  Sports        3.910976\n",
       "5           Entertainment        3.894280\n",
       "6         News & Politics        3.841567\n",
       "7          People & Blogs        3.829314\n",
       "8                  Comedy        3.747225\n",
       "9         Travel & Events        3.682333\n",
       "10          Howto & Style        3.640901\n",
       "11              Education        3.438605\n",
       "12  Nonprofits & Activism        3.334118\n",
       "13   Science & Technology        3.296892"
      ]
     },
     "execution_count": 81,
     "metadata": {},
     "output_type": "execute_result"
    }
   ],
   "source": [
    "from pyspark.sql import functions as F\n",
    "\n",
    "# Group by 'Video Category' and calculate the average rating\n",
    "category_avg_rating = data.groupBy('Video Category').agg(avg('Rating on the Video').alias('Average Rating'))\n",
    "\n",
    "# Sort the categories by the average rating in descending order\n",
    "sorted_categories = category_avg_rating.orderBy(desc('Average Rating'))\n",
    "\n",
    "# Display the result\n",
    "sorted_categories.toPandas()"
   ]
  },
  {
   "cell_type": "code",
   "execution_count": null,
   "metadata": {
    "application/vnd.databricks.v1+cell": {
     "cellMetadata": {
      "byteLimit": 2048000,
      "rowLimit": 10000
     },
     "inputWidgets": {},
     "nuid": "420e62eb-d03c-46c3-9a8d-21c32c7bcaa1",
     "showTitle": false,
     "title": ""
    }
   },
   "outputs": [],
   "source": [
    "# 6. Video Length and Views Relationship\n",
    "# Objective: Explore the relationship between video length and the number of views."
   ]
  },
  {
   "cell_type": "code",
   "execution_count": null,
   "metadata": {
    "application/vnd.databricks.v1+cell": {
     "cellMetadata": {
      "byteLimit": 2048000,
      "rowLimit": 10000
     },
     "inputWidgets": {},
     "nuid": "7a567d77-3b75-4e45-be20-f1d73d66486c",
     "showTitle": false,
     "title": ""
    }
   },
   "outputs": [
    {
     "name": "stdout",
     "output_type": "stream",
     "text": [
      "+------------+---------------+\n",
      "|Video Length|Number of Views|\n",
      "+------------+---------------+\n",
      "|         252|           1075|\n",
      "|         169|            228|\n",
      "|          95|            356|\n",
      "|         118|           1115|\n",
      "|          83|            281|\n",
      "|          49|           1196|\n",
      "|         145|             11|\n",
      "|           9|            490|\n",
      "|          14|           1349|\n",
      "|          61|             29|\n",
      "|         152|         483053|\n",
      "|         253|             63|\n",
      "|         173|         106929|\n",
      "|         176|        2464486|\n",
      "|         213|          46183|\n",
      "|          14|           1550|\n",
      "|         224|         392908|\n",
      "|         200|         110272|\n",
      "|         294|          71966|\n",
      "|         168|         653840|\n",
      "+------------+---------------+\n",
      "only showing top 20 rows\n",
      "\n"
     ]
    }
   ],
   "source": [
    "df = data.select(\"Video Length\", \"Number of Views\")\n",
    "df.show()"
   ]
  },
  {
   "cell_type": "code",
   "execution_count": null,
   "metadata": {
    "application/vnd.databricks.v1+cell": {
     "cellMetadata": {
      "byteLimit": 2048000,
      "rowLimit": 10000
     },
     "inputWidgets": {},
     "nuid": "5bc781f2-99f5-47ac-8093-e877dd5f8e94",
     "showTitle": false,
     "title": ""
    }
   },
   "outputs": [
    {
     "name": "stdout",
     "output_type": "stream",
     "text": [
      "Correlation between Video Length and Number of Views: 0.022353016193049476\n"
     ]
    }
   ],
   "source": [
    "# Calculate the correlation between 'Video Length' and 'Number of Views'\n",
    "correlation = data.stat.corr('Video Length', 'Number of Views')\n",
    "\n",
    "# Display the correlation value\n",
    "print(f\"Correlation between Video Length and Number of Views: {correlation}\")"
   ]
  },
  {
   "cell_type": "code",
   "execution_count": null,
   "metadata": {
    "application/vnd.databricks.v1+cell": {
     "cellMetadata": {
      "byteLimit": 2048000,
      "rowLimit": 10000
     },
     "inputWidgets": {},
     "nuid": "6b23a80a-17a2-4a29-9b38-a4efc7bf5f8f",
     "showTitle": false,
     "title": ""
    }
   },
   "outputs": [],
   "source": [
    "# 7. Comments vs. Ratings\n",
    "# Objective: Investigate whether videos with more comments tend to have higher ratings."
   ]
  },
  {
   "cell_type": "code",
   "execution_count": null,
   "metadata": {
    "application/vnd.databricks.v1+cell": {
     "cellMetadata": {
      "byteLimit": 2048000,
      "rowLimit": 10000
     },
     "inputWidgets": {},
     "nuid": "b6dd01b2-0327-4c66-96d5-0ccb13a6e835",
     "showTitle": false,
     "title": ""
    }
   },
   "outputs": [
    {
     "data": {
      "text/html": [
       "<div>\n",
       "<style scoped>\n",
       "    .dataframe tbody tr th:only-of-type {\n",
       "        vertical-align: middle;\n",
       "    }\n",
       "\n",
       "    .dataframe tbody tr th {\n",
       "        vertical-align: top;\n",
       "    }\n",
       "\n",
       "    .dataframe thead th {\n",
       "        text-align: right;\n",
       "    }\n",
       "</style>\n",
       "<table border=\"1\" class=\"dataframe\">\n",
       "  <thead>\n",
       "    <tr style=\"text-align: right;\">\n",
       "      <th></th>\n",
       "      <th>Video ID</th>\n",
       "      <th>Number of Comments</th>\n",
       "      <th>Rating on the Video</th>\n",
       "    </tr>\n",
       "  </thead>\n",
       "  <tbody>\n",
       "    <tr>\n",
       "      <th>0</th>\n",
       "      <td>QuRYeRnAuXM</td>\n",
       "      <td>86</td>\n",
       "      <td>4.96</td>\n",
       "    </tr>\n",
       "    <tr>\n",
       "      <th>1</th>\n",
       "      <td>3TYqkBJ9YRk</td>\n",
       "      <td>3</td>\n",
       "      <td>5.00</td>\n",
       "    </tr>\n",
       "    <tr>\n",
       "      <th>2</th>\n",
       "      <td>rSJ8QZWBegU</td>\n",
       "      <td>1</td>\n",
       "      <td>4.31</td>\n",
       "    </tr>\n",
       "    <tr>\n",
       "      <th>3</th>\n",
       "      <td>nRcovJn9xHg</td>\n",
       "      <td>73</td>\n",
       "      <td>2.23</td>\n",
       "    </tr>\n",
       "    <tr>\n",
       "      <th>4</th>\n",
       "      <td>UEvVksP91kg</td>\n",
       "      <td>16</td>\n",
       "      <td>2.67</td>\n",
       "    </tr>\n",
       "    <tr>\n",
       "      <th>...</th>\n",
       "      <td>...</td>\n",
       "      <td>...</td>\n",
       "      <td>...</td>\n",
       "    </tr>\n",
       "    <tr>\n",
       "      <th>3234</th>\n",
       "      <td>S95602a7cFE</td>\n",
       "      <td>131</td>\n",
       "      <td>4.51</td>\n",
       "    </tr>\n",
       "    <tr>\n",
       "      <th>3235</th>\n",
       "      <td>esCvu46qDaA</td>\n",
       "      <td>222</td>\n",
       "      <td>4.84</td>\n",
       "    </tr>\n",
       "    <tr>\n",
       "      <th>3236</th>\n",
       "      <td>GSsVZcKHues</td>\n",
       "      <td>1764</td>\n",
       "      <td>4.86</td>\n",
       "    </tr>\n",
       "    <tr>\n",
       "      <th>3237</th>\n",
       "      <td>foKRqJGcbPQ</td>\n",
       "      <td>37</td>\n",
       "      <td>4.45</td>\n",
       "    </tr>\n",
       "    <tr>\n",
       "      <th>3238</th>\n",
       "      <td>-CYhSNHbeC8</td>\n",
       "      <td>220</td>\n",
       "      <td>4.30</td>\n",
       "    </tr>\n",
       "  </tbody>\n",
       "</table>\n",
       "<p>3239 rows × 3 columns</p>\n",
       "</div>"
      ],
      "text/plain": [
       "         Video ID  Number of Comments  Rating on the Video\n",
       "0     QuRYeRnAuXM                  86                 4.96\n",
       "1     3TYqkBJ9YRk                   3                 5.00\n",
       "2     rSJ8QZWBegU                   1                 4.31\n",
       "3     nRcovJn9xHg                  73                 2.23\n",
       "4     UEvVksP91kg                  16                 2.67\n",
       "...           ...                 ...                  ...\n",
       "3234  S95602a7cFE                 131                 4.51\n",
       "3235  esCvu46qDaA                 222                 4.84\n",
       "3236  GSsVZcKHues                1764                 4.86\n",
       "3237  foKRqJGcbPQ                  37                 4.45\n",
       "3238  -CYhSNHbeC8                 220                 4.30\n",
       "\n",
       "[3239 rows x 3 columns]"
      ]
     },
     "execution_count": 86,
     "metadata": {},
     "output_type": "execute_result"
    }
   ],
   "source": [
    "df=data.select([\"Video ID\",\"Number of Comments\",\"Rating on the Video\"])\n",
    "df.toPandas()"
   ]
  },
  {
   "cell_type": "code",
   "execution_count": null,
   "metadata": {
    "application/vnd.databricks.v1+cell": {
     "cellMetadata": {
      "byteLimit": 2048000,
      "rowLimit": 10000
     },
     "inputWidgets": {},
     "nuid": "da7af21e-1c11-4583-bd63-011e2a5db47c",
     "showTitle": false,
     "title": ""
    }
   },
   "outputs": [
    {
     "data": {
      "text/html": [
       "<div>\n",
       "<style scoped>\n",
       "    .dataframe tbody tr th:only-of-type {\n",
       "        vertical-align: middle;\n",
       "    }\n",
       "\n",
       "    .dataframe tbody tr th {\n",
       "        vertical-align: top;\n",
       "    }\n",
       "\n",
       "    .dataframe thead th {\n",
       "        text-align: right;\n",
       "    }\n",
       "</style>\n",
       "<table border=\"1\" class=\"dataframe\">\n",
       "  <thead>\n",
       "    <tr style=\"text-align: right;\">\n",
       "      <th></th>\n",
       "      <th>Video ID</th>\n",
       "      <th>Number of Comments</th>\n",
       "      <th>Rating on the Video</th>\n",
       "    </tr>\n",
       "  </thead>\n",
       "  <tbody>\n",
       "    <tr>\n",
       "      <th>0</th>\n",
       "      <td>kHmvkRoEowc</td>\n",
       "      <td>259683</td>\n",
       "      <td>2.42</td>\n",
       "    </tr>\n",
       "    <tr>\n",
       "      <th>1</th>\n",
       "      <td>EwTZ2xpQwpA</td>\n",
       "      <td>129200</td>\n",
       "      <td>4.23</td>\n",
       "    </tr>\n",
       "    <tr>\n",
       "      <th>2</th>\n",
       "      <td>4DC4Rb9quKk</td>\n",
       "      <td>50036</td>\n",
       "      <td>4.84</td>\n",
       "    </tr>\n",
       "    <tr>\n",
       "      <th>3</th>\n",
       "      <td>Qit3ALTelOo</td>\n",
       "      <td>39418</td>\n",
       "      <td>4.76</td>\n",
       "    </tr>\n",
       "    <tr>\n",
       "      <th>4</th>\n",
       "      <td>UW_1CvDFYVg</td>\n",
       "      <td>33543</td>\n",
       "      <td>4.11</td>\n",
       "    </tr>\n",
       "    <tr>\n",
       "      <th>...</th>\n",
       "      <td>...</td>\n",
       "      <td>...</td>\n",
       "      <td>...</td>\n",
       "    </tr>\n",
       "    <tr>\n",
       "      <th>3234</th>\n",
       "      <td>S2w71WtHlYw</td>\n",
       "      <td>0</td>\n",
       "      <td>0.00</td>\n",
       "    </tr>\n",
       "    <tr>\n",
       "      <th>3235</th>\n",
       "      <td>HyhoLnfqq3o</td>\n",
       "      <td>0</td>\n",
       "      <td>3.00</td>\n",
       "    </tr>\n",
       "    <tr>\n",
       "      <th>3236</th>\n",
       "      <td>St1NTAvmCIE</td>\n",
       "      <td>0</td>\n",
       "      <td>0.00</td>\n",
       "    </tr>\n",
       "    <tr>\n",
       "      <th>3237</th>\n",
       "      <td>RxE8Fl3UBc8</td>\n",
       "      <td>0</td>\n",
       "      <td>0.00</td>\n",
       "    </tr>\n",
       "    <tr>\n",
       "      <th>3238</th>\n",
       "      <td>i4QdWYCoLYs</td>\n",
       "      <td>0</td>\n",
       "      <td>5.00</td>\n",
       "    </tr>\n",
       "  </tbody>\n",
       "</table>\n",
       "<p>3239 rows × 3 columns</p>\n",
       "</div>"
      ],
      "text/plain": [
       "         Video ID  Number of Comments  Rating on the Video\n",
       "0     kHmvkRoEowc              259683                 2.42\n",
       "1     EwTZ2xpQwpA              129200                 4.23\n",
       "2     4DC4Rb9quKk               50036                 4.84\n",
       "3     Qit3ALTelOo               39418                 4.76\n",
       "4     UW_1CvDFYVg               33543                 4.11\n",
       "...           ...                 ...                  ...\n",
       "3234  S2w71WtHlYw                   0                 0.00\n",
       "3235  HyhoLnfqq3o                   0                 3.00\n",
       "3236  St1NTAvmCIE                   0                 0.00\n",
       "3237  RxE8Fl3UBc8                   0                 0.00\n",
       "3238  i4QdWYCoLYs                   0                 5.00\n",
       "\n",
       "[3239 rows x 3 columns]"
      ]
     },
     "execution_count": 87,
     "metadata": {},
     "output_type": "execute_result"
    }
   ],
   "source": [
    "df.orderBy(desc(\"Number of Comments\")).toPandas()"
   ]
  },
  {
   "cell_type": "code",
   "execution_count": null,
   "metadata": {
    "application/vnd.databricks.v1+cell": {
     "cellMetadata": {
      "byteLimit": 2048000,
      "rowLimit": 10000
     },
     "inputWidgets": {},
     "nuid": "b7b6e1f2-864f-477f-af7a-6782ac0d6926",
     "showTitle": false,
     "title": ""
    }
   },
   "outputs": [
    {
     "name": "stdout",
     "output_type": "stream",
     "text": [
      "Correlation between Number of Comments and Rating on the Video: 0.019790520034241522\n"
     ]
    }
   ],
   "source": [
    "# Calculate the correlation between 'Number of Comments' and 'Rating on the Video'\n",
    "correlation_comments_ratings = df.corr('Number of Comments', 'Rating on the Video')\n",
    "\n",
    "# Display the correlation value\n",
    "print(f\"Correlation between Number of Comments and Rating on the Video: {correlation_comments_ratings}\")"
   ]
  },
  {
   "cell_type": "code",
   "execution_count": null,
   "metadata": {
    "application/vnd.databricks.v1+cell": {
     "cellMetadata": {
      "byteLimit": 2048000,
      "rowLimit": 10000
     },
     "inputWidgets": {},
     "nuid": "bb2106d6-b75f-4fba-9ecb-4b080c3d1908",
     "showTitle": false,
     "title": ""
    }
   },
   "outputs": [],
   "source": [
    "# 8. Top Video Uploaders\n",
    "# Objective: Identify the top video uploaders based on the number of views or ratings."
   ]
  },
  {
   "cell_type": "code",
   "execution_count": null,
   "metadata": {
    "application/vnd.databricks.v1+cell": {
     "cellMetadata": {
      "byteLimit": 2048000,
      "rowLimit": 10000
     },
     "inputWidgets": {},
     "nuid": "ac8ece17-f2f1-4a1b-8191-ef16654e20f2",
     "showTitle": false,
     "title": ""
    }
   },
   "outputs": [
    {
     "name": "stdout",
     "output_type": "stream",
     "text": [
      "+---------------+-----------+\n",
      "| Video Uploader|Total Views|\n",
      "+---------------+-----------+\n",
      "|        kaejane|   65341925|\n",
      "|   ChrisBrownTV|   33754615|\n",
      "|    TPainVideos|   30197909|\n",
      "|       Jason275|   27721690|\n",
      "|itschriscrocker|   23473833|\n",
      "|      TayZonday|   20340997|\n",
      "|       RKellyTV|   13038204|\n",
      "|      machinima|   11437210|\n",
      "|    TownIdiot25|   11007201|\n",
      "|    Frozentoast|   10172172|\n",
      "+---------------+-----------+\n",
      "only showing top 10 rows\n",
      "\n"
     ]
    }
   ],
   "source": [
    "# Group by 'Video Uploader' and aggregate by the sum of 'Number of Views'\n",
    "top_uploaders_by_views = data.groupBy('Video Uploader').agg(sum('Number of Views').alias('Total Views'))\n",
    "\n",
    "# Sort the uploaders in descending order of views\n",
    "top_uploaders_by_views = top_uploaders_by_views.orderBy(desc('Total Views'))\n",
    "\n",
    "# Display the top 10 uploaders by views\n",
    "top_uploaders_by_views.show(10)\n"
   ]
  },
  {
   "cell_type": "code",
   "execution_count": null,
   "metadata": {
    "application/vnd.databricks.v1+cell": {
     "cellMetadata": {
      "byteLimit": 2048000,
      "rowLimit": 10000
     },
     "inputWidgets": {},
     "nuid": "8f6dddf2-8a76-4ae5-90de-bb7aba7677aa",
     "showTitle": false,
     "title": ""
    }
   },
   "outputs": [
    {
     "name": "stdout",
     "output_type": "stream",
     "text": [
      "+-------------------+--------------+\n",
      "|     Video Uploader|Average Rating|\n",
      "+-------------------+--------------+\n",
      "|        Wolfwood824|           5.0|\n",
      "|IxLOVExNICKxJONASSS|           5.0|\n",
      "|           Jibriell|           5.0|\n",
      "|         gospel1992|           5.0|\n",
      "|      ANDREASGTRBMW|           5.0|\n",
      "|            ODestre|           5.0|\n",
      "|     manuel14091990|           5.0|\n",
      "|   tokiohotelth4832|           5.0|\n",
      "| kaibachaoschampion|           5.0|\n",
      "|            CNTV121|           5.0|\n",
      "+-------------------+--------------+\n",
      "only showing top 10 rows\n",
      "\n"
     ]
    }
   ],
   "source": [
    "# Group by 'Video Uploader' and aggregate by the average of 'Rating on the Video'\n",
    "top_uploaders_by_rating = data.groupBy('Video Uploader').agg(avg('Rating on the Video').alias('Average Rating'))\n",
    "\n",
    "# Sort the uploaders in descending order of average rating\n",
    "top_uploaders_by_rating = top_uploaders_by_rating.orderBy(desc('Average Rating'))\n",
    "\n",
    "# Display the top 10 uploaders by average rating\n",
    "top_uploaders_by_rating.show(10)\n"
   ]
  },
  {
   "cell_type": "code",
   "execution_count": null,
   "metadata": {
    "application/vnd.databricks.v1+cell": {
     "cellMetadata": {
      "byteLimit": 2048000,
      "rowLimit": 10000
     },
     "inputWidgets": {},
     "nuid": "16cb9528-e1bf-4eac-aaf4-b4077fca9835",
     "showTitle": false,
     "title": ""
    }
   },
   "outputs": [],
   "source": [
    "# 9. Average Related Videos\n",
    "# Objective: Determine how many related videos, on average, are associated with each video."
   ]
  },
  {
   "cell_type": "code",
   "execution_count": null,
   "metadata": {
    "application/vnd.databricks.v1+cell": {
     "cellMetadata": {
      "byteLimit": 2048000,
      "rowLimit": 10000
     },
     "inputWidgets": {},
     "nuid": "c02376ec-ea42-41db-bafe-ef205e07197f",
     "showTitle": false,
     "title": ""
    }
   },
   "outputs": [],
   "source": [
    "# Step 1: Count the number of related videos for each video\n",
    "# Split the 'Related Video IDs' column by a delimiter (e.g., comma, tab) and count the number of elements\n",
    "df = data.withColumn('Number of Related Videos', size(split(data['Related Video IDs'], ',')))"
   ]
  },
  {
   "cell_type": "code",
   "execution_count": null,
   "metadata": {
    "application/vnd.databricks.v1+cell": {
     "cellMetadata": {
      "byteLimit": 2048000,
      "rowLimit": 10000
     },
     "inputWidgets": {},
     "nuid": "3f1033fe-a752-4458-a15e-dddffb8d6d01",
     "showTitle": false,
     "title": ""
    }
   },
   "outputs": [
    {
     "data": {
      "text/html": [
       "<div>\n",
       "<style scoped>\n",
       "    .dataframe tbody tr th:only-of-type {\n",
       "        vertical-align: middle;\n",
       "    }\n",
       "\n",
       "    .dataframe tbody tr th {\n",
       "        vertical-align: top;\n",
       "    }\n",
       "\n",
       "    .dataframe thead th {\n",
       "        text-align: right;\n",
       "    }\n",
       "</style>\n",
       "<table border=\"1\" class=\"dataframe\">\n",
       "  <thead>\n",
       "    <tr style=\"text-align: right;\">\n",
       "      <th></th>\n",
       "      <th>Video ID</th>\n",
       "      <th>Number of Related Videos</th>\n",
       "    </tr>\n",
       "  </thead>\n",
       "  <tbody>\n",
       "    <tr>\n",
       "      <th>0</th>\n",
       "      <td>QuRYeRnAuXM</td>\n",
       "      <td>13</td>\n",
       "    </tr>\n",
       "    <tr>\n",
       "      <th>1</th>\n",
       "      <td>3TYqkBJ9YRk</td>\n",
       "      <td>13</td>\n",
       "    </tr>\n",
       "    <tr>\n",
       "      <th>2</th>\n",
       "      <td>rSJ8QZWBegU</td>\n",
       "      <td>13</td>\n",
       "    </tr>\n",
       "    <tr>\n",
       "      <th>3</th>\n",
       "      <td>nRcovJn9xHg</td>\n",
       "      <td>13</td>\n",
       "    </tr>\n",
       "    <tr>\n",
       "      <th>4</th>\n",
       "      <td>UEvVksP91kg</td>\n",
       "      <td>13</td>\n",
       "    </tr>\n",
       "    <tr>\n",
       "      <th>...</th>\n",
       "      <td>...</td>\n",
       "      <td>...</td>\n",
       "    </tr>\n",
       "    <tr>\n",
       "      <th>3234</th>\n",
       "      <td>RqBWgTXbHsk</td>\n",
       "      <td>4</td>\n",
       "    </tr>\n",
       "    <tr>\n",
       "      <th>3235</th>\n",
       "      <td>U8cmRdpcePc</td>\n",
       "      <td>4</td>\n",
       "    </tr>\n",
       "    <tr>\n",
       "      <th>3236</th>\n",
       "      <td>1suivhh78jE</td>\n",
       "      <td>4</td>\n",
       "    </tr>\n",
       "    <tr>\n",
       "      <th>3237</th>\n",
       "      <td>9eohCbgOwIk</td>\n",
       "      <td>4</td>\n",
       "    </tr>\n",
       "    <tr>\n",
       "      <th>3238</th>\n",
       "      <td>Do9XMt1Tdgs</td>\n",
       "      <td>1</td>\n",
       "    </tr>\n",
       "  </tbody>\n",
       "</table>\n",
       "<p>3239 rows × 2 columns</p>\n",
       "</div>"
      ],
      "text/plain": [
       "         Video ID  Number of Related Videos\n",
       "0     QuRYeRnAuXM                        13\n",
       "1     3TYqkBJ9YRk                        13\n",
       "2     rSJ8QZWBegU                        13\n",
       "3     nRcovJn9xHg                        13\n",
       "4     UEvVksP91kg                        13\n",
       "...           ...                       ...\n",
       "3234  RqBWgTXbHsk                         4\n",
       "3235  U8cmRdpcePc                         4\n",
       "3236  1suivhh78jE                         4\n",
       "3237  9eohCbgOwIk                         4\n",
       "3238  Do9XMt1Tdgs                         1\n",
       "\n",
       "[3239 rows x 2 columns]"
      ]
     },
     "execution_count": 94,
     "metadata": {},
     "output_type": "execute_result"
    }
   ],
   "source": [
    "df.select([\"Video ID\",\"Number of Related Videos\"]).orderBy(desc('Number of Related Videos')).toPandas()"
   ]
  },
  {
   "cell_type": "code",
   "execution_count": null,
   "metadata": {
    "application/vnd.databricks.v1+cell": {
     "cellMetadata": {
      "byteLimit": 2048000,
      "rowLimit": 10000
     },
     "inputWidgets": {},
     "nuid": "eb3d91a2-897d-46ce-bd2a-f2e01ba41fa4",
     "showTitle": false,
     "title": ""
    }
   },
   "outputs": [
    {
     "name": "stdout",
     "output_type": "stream",
     "text": [
      "12.878357517752393\n"
     ]
    }
   ],
   "source": [
    "# Step 2: Calculate the average number of related videos\n",
    "\n",
    "from pyspark.sql.functions import avg # type: ignore\n",
    "\n",
    "from pyspark.sql.functions import split, size, avg\n",
    "\n",
    "# Step 1: Create the `Number of Related Videos` column\n",
    "data_with_related_count = data.withColumn('Number of Related Videos', size(split('Related Video IDs', ',')))\n",
    "\n",
    "# Step 2: Calculate the average number of related videos\n",
    "average_related_videos = data_with_related_count.agg(avg('Number of Related Videos').alias('Average Related Videos')).first()\n",
    "\n",
    "# Display the result\n",
    "print(average_related_videos['Average Related Videos'])\n"
   ]
  },
  {
   "cell_type": "code",
   "execution_count": null,
   "metadata": {
    "application/vnd.databricks.v1+cell": {
     "cellMetadata": {
      "byteLimit": 2048000,
      "rowLimit": 10000
     },
     "inputWidgets": {},
     "nuid": "983ad015-5ef1-4a59-80cc-094433f3584a",
     "showTitle": false,
     "title": ""
    }
   },
   "outputs": [],
   "source": [
    "# 11. Overall Platform Engagement\n",
    "# Objective: Evaluate the overall engagement level on the platform by analyzing the total number of views, ratings, and comments."
   ]
  },
  {
   "cell_type": "code",
   "execution_count": null,
   "metadata": {
    "application/vnd.databricks.v1+cell": {
     "cellMetadata": {
      "byteLimit": 2048000,
      "rowLimit": 10000
     },
     "inputWidgets": {},
     "nuid": "12e80336-9b69-454c-bb49-01e46db80c83",
     "showTitle": false,
     "title": ""
    }
   },
   "outputs": [
    {
     "data": {
      "text/plain": [
       "{'Total Views': 784817870, 'Total Ratings': 2376096, 'Total Comments': 2160663}"
      ]
     },
     "execution_count": 103,
     "metadata": {},
     "output_type": "execute_result"
    }
   ],
   "source": [
    "# Step 1: Sum the total number of views\n",
    "total_views = data.agg(sum('Number of Views').alias('Total Views')).first()\n",
    "\n",
    "# Step 2: Sum the total number of ratings\n",
    "total_ratings = data.agg(sum('Number of Ratings').alias('Total Ratings')).first()\n",
    "\n",
    "# Step 3: Sum the total number of comments\n",
    "total_comments = data.agg(sum('Number of Comments').alias('Total Comments')).first()\n",
    "\n",
    "# Display the overall engagement metrics\n",
    "overall_engagement = {\n",
    "    \"Total Views\": total_views['Total Views'],\n",
    "    \"Total Ratings\": total_ratings['Total Ratings'],\n",
    "    \"Total Comments\": total_comments['Total Comments']\n",
    "}\n",
    "\n",
    "overall_engagement"
   ]
  },
  {
   "cell_type": "code",
   "execution_count": 142,
   "metadata": {},
   "outputs": [],
   "source": [
    "# 1. Find the average interval between YouTube establishment and video upload for each video category."
   ]
  },
  {
   "cell_type": "code",
   "execution_count": 143,
   "metadata": {},
   "outputs": [
    {
     "name": "stdout",
     "output_type": "stream",
     "text": [
      "+--------------------+------------------+\n",
      "|      Video Category|  Average Interval|\n",
      "+--------------------+------------------+\n",
      "|           Education|1077.5581395348838|\n",
      "|       Entertainment|             964.4|\n",
      "|     Travel & Events| 938.7833333333333|\n",
      "|Science & Technology|1097.7432432432433|\n",
      "|              Sports| 928.9707317073171|\n",
      "|       Howto & Style| 947.6486486486486|\n",
      "|Nonprofits & Acti...|1114.2058823529412|\n",
      "|    Film & Animation| 917.6421568627451|\n",
      "|      People & Blogs|1029.1274509803923|\n",
      "|     News & Politics|1033.1305970149253|\n",
      "|      Pets & Animals| 862.1571428571428|\n",
      "|    Autos & Vehicles| 972.4354838709677|\n",
      "|               Music| 934.7462887989204|\n",
      "|              Comedy| 942.6127167630058|\n",
      "+--------------------+------------------+\n",
      "\n"
     ]
    }
   ],
   "source": [
    "from pyspark.sql.functions import avg\n",
    "\n",
    "# Group by 'Video Category' and calculate the average interval\n",
    "average_interval_df = data.groupBy(\"Video Category\").agg(\n",
    "    avg(\"Interval between YouTube Establishment and Video Upload\").alias(\"Average Interval\")\n",
    ")\n",
    "\n",
    "# Show the result\n",
    "average_interval_df.show()"
   ]
  },
  {
   "cell_type": "code",
   "execution_count": 144,
   "metadata": {},
   "outputs": [],
   "source": [
    "# 2. Identify the top three video uploaders with the highest average number of views for videos longer than 10 minutes."
   ]
  },
  {
   "cell_type": "code",
   "execution_count": 145,
   "metadata": {},
   "outputs": [],
   "source": [
    "# Step 1: Filter Videos Longer Than 10 Minutes\n",
    "# First, filter the DataFrame to include only videos longer than 10 minutes.\n",
    "\n",
    "# Step 2: Group by Uploader and Calculate the Average Views\n",
    "# Then, group the data by the uploader and calculate the average number of views for each uploader.\n",
    "\n",
    "# Step 3: Sort and Get the Top Three Uploaders\n",
    "# Finally, sort the uploaders by their average views in descending order and select the top three."
   ]
  },
  {
   "cell_type": "code",
   "execution_count": 149,
   "metadata": {},
   "outputs": [
    {
     "name": "stdout",
     "output_type": "stream",
     "text": [
      "+--------------+-------------+\n",
      "|Video Uploader|Average Views|\n",
      "+--------------+-------------+\n",
      "|       kaejane|  6.5341925E7|\n",
      "|  ChrisBrownTV|  3.3754615E7|\n",
      "|      Jason275|   2.772169E7|\n",
      "+--------------+-------------+\n",
      "\n"
     ]
    }
   ],
   "source": [
    "from pyspark.sql.functions import col, avg, desc\n",
    "\n",
    "# Step 1: Filter videos longer than 10 minutes using the correct column name 'Video Length'\n",
    "videos_longer_than_10_min = data.filter(col(\"Video Length\") > 10)\n",
    "\n",
    "# Step 2: Group by 'Video Uploader' and calculate the average views\n",
    "average_views_df = videos_longer_than_10_min.groupBy(\"Video Uploader\").agg(\n",
    "    avg(\"Number of Views\").alias(\"Average Views\")\n",
    ")\n",
    "\n",
    "# Step 3: Sort by average views in descending order and select the top 3 uploaders\n",
    "top_uploaders = average_views_df.orderBy(desc(\"Average Views\")).limit(3)\n",
    "\n",
    "# Display the result\n",
    "top_uploaders.show()"
   ]
  },
  {
   "cell_type": "code",
   "execution_count": 148,
   "metadata": {},
   "outputs": [
    {
     "name": "stdout",
     "output_type": "stream",
     "text": [
      "+-----------+--------------------+-------------------------------------------------------+----------------+------------+---------------+-------------------+-----------------+------------------+--------------------+\n",
      "|   Video ID|      Video Uploader|Interval between YouTube Establishment and Video Upload|  Video Category|Video Length|Number of Views|Rating on the Video|Number of Ratings|Number of Comments|   Related Video IDs|\n",
      "+-----------+--------------------+-------------------------------------------------------+----------------+------------+---------------+-------------------+-----------------+------------------+--------------------+\n",
      "|QuRYeRnAuXM|EvilSquirrelPictures|                                                 1135.0|  Pets & Animals|         252|           1075|               4.96|               46|                86|nRcovJn9xHg,3TYqk...|\n",
      "|3TYqkBJ9YRk|              hggh22|                                                 1135.0|          Comedy|         169|            228|                5.0|                5|                 3|gFa1YMEJFag,UEvVk...|\n",
      "|rSJ8QZWBegU|             TimeGem|                                                 1135.0|   Entertainment|          95|            356|               4.31|               13|                 1|gFa1YMEJFag,UEvVk...|\n",
      "|nRcovJn9xHg|          wooochacha|                                                 1135.0|   Entertainment|         118|           1115|               2.23|               57|                73|gFa1YMEJFag,UEvVk...|\n",
      "|UEvVksP91kg|            johnx113|                                                 1135.0|   Entertainment|          83|            281|               2.67|                9|                16|QuRYeRnAuXM,3TYqk...|\n",
      "|sVkuOk4jmCo|       marcosoycadiz|                                                 1135.0|  People & Blogs|          49|           1196|               3.67|                6|                 5|sLrWjhvCoW8,dergW...|\n",
      "|ZTopArY7Nbg|         TroyChannel|                                                 1136.0|   Entertainment|         145|             11|                0.0|                0|                 0|pQPhV1mzh-g,NeIGd...|\n",
      "|0RViGi2Rne8|        OmnipotentSI|                                                 1135.0|   Entertainment|           9|            490|               2.31|               26|                15|nRcovJn9xHg,0TZqX...|\n",
      "|HT_QlOJbDpg|   dumbasstheredneck|                                                 1095.0|          Comedy|          14|           1349|               2.09|               22|                13|jVxz9wKEa3A,mUoRI...|\n",
      "|ShhClb6J-NA|         thecrashguy|                                                 1136.0|   Entertainment|          61|             29|                0.0|                0|                 0|6DK-CJh6hTY,SArJy...|\n",
      "|g9e1alirMhc|      iamdanielisaac|                                                  541.0|          Comedy|         152|         483053|               4.65|             2689|              2932|1GKaVzNDbuI,Bd61L...|\n",
      "|YZev1imoxX8|     threefirstnames|                                                 1135.0|   Entertainment|         253|             63|                5.0|                3|                 2|-UvVtpmh4EQ,Bzwpv...|\n",
      "|I4yKEK9o8gA|           djlogitek|                                                  964.0| News & Politics|         173|         106929|               4.39|             1010|              1484|1GKaVzNDbuI,qCUYg...|\n",
      "|1GKaVzNDbuI|             fatvids|                                                  690.0|          Comedy|         176|        2464486|                4.5|            13342|             11997|g9e1alirMhc,UrNqx...|\n",
      "|yuZhwV24PmM|          weneedhelp|                                                 1082.0| News & Politics|         213|          46183|               4.71|              280|               247|xq8aopATYyw,g9e1a...|\n",
      "|zQ83d_D2MGs|   dumbasstheredneck|                                                 1095.0|          Comedy|          14|           1550|               1.57|               14|                 4|cdbp6rCVzRs,gAHZ7...|\n",
      "|DomumdGQSg8|           imgrown18|                                                  910.0|          Comedy|         224|         392908|                4.8|             1261|               829|eOIFF_5ORGo,n7rlp...|\n",
      "|pFUYi7dp1WU|      StanleyJenkins|                                                 1106.0|          Comedy|         200|         110272|               4.07|             1011|               482|ue5lVJuNlzQ,AkjUO...|\n",
      "|2l6vwAIAqNU|        makemagazine|                                                  460.0|Film & Animation|         294|          71966|               4.07|              260|               229|hiSmlmXp-aU,I4yKE...|\n",
      "|hiSmlmXp-aU|       bravenewfilms|                                                  440.0|   Entertainment|         168|         653840|               4.43|              198|               377|IBqQWAjBgmE,EGzHB...|\n",
      "+-----------+--------------------+-------------------------------------------------------+----------------+------------+---------------+-------------------+-----------------+------------------+--------------------+\n",
      "only showing top 20 rows\n",
      "\n"
     ]
    }
   ],
   "source": [
    "data.show()"
   ]
  },
  {
   "cell_type": "code",
   "execution_count": 150,
   "metadata": {},
   "outputs": [],
   "source": [
    "# 3. Calculate the average rating and engagement (comments + ratings) for videos in each category."
   ]
  },
  {
   "cell_type": "code",
   "execution_count": 151,
   "metadata": {},
   "outputs": [
    {
     "name": "stdout",
     "output_type": "stream",
     "text": [
      "+--------------------+------------------+------------------+\n",
      "|      Video Category|    Average Rating|Average Engagement|\n",
      "+--------------------+------------------+------------------+\n",
      "|           Education|3.4386046511627906|192.58139534883722|\n",
      "|       Entertainment| 3.894279720279721|1940.6755244755245|\n",
      "|     Travel & Events|3.6823333333333337|            1162.7|\n",
      "|Science & Technology| 3.296891891891892| 662.6891891891892|\n",
      "|              Sports|3.9109756097560946|412.54146341463417|\n",
      "|       Howto & Style| 3.640900900900901|1078.7207207207207|\n",
      "|Nonprofits & Acti...| 3.334117647058824|              71.5|\n",
      "|    Film & Animation| 4.317843137254902| 611.5343137254902|\n",
      "|      People & Blogs| 3.829313725490196| 666.9738562091503|\n",
      "|     News & Politics|3.8415671641791045| 504.7425373134328|\n",
      "|      Pets & Animals|3.9309999999999996| 3911.385714285714|\n",
      "|    Autos & Vehicles| 4.000645161290323| 87.14516129032258|\n",
      "|               Music|4.3602564102564125|1847.3859649122808|\n",
      "|              Comedy| 3.747225433526014|2032.1473988439307|\n",
      "+--------------------+------------------+------------------+\n",
      "\n"
     ]
    }
   ],
   "source": [
    "from pyspark.sql import SparkSession\n",
    "from pyspark.sql.functions import col, avg, sum\n",
    "\n",
    "\n",
    "# Calculate average rating and engagement for each video category\n",
    "category_stats = data.groupBy(\"Video Category\").agg(\n",
    "    avg(col(\"Rating on the Video\")).alias(\"Average Rating\"),\n",
    "    avg((col(\"Number of Comments\") + col(\"Number of Ratings\"))).alias(\"Average Engagement\")\n",
    ")\n",
    "\n",
    "# Show the result\n",
    "category_stats.show()"
   ]
  },
  {
   "cell_type": "code",
   "execution_count": 152,
   "metadata": {},
   "outputs": [],
   "source": [
    "# 4. Find the correlation between video length and the number of views."
   ]
  },
  {
   "cell_type": "code",
   "execution_count": 153,
   "metadata": {},
   "outputs": [
    {
     "name": "stdout",
     "output_type": "stream",
     "text": [
      "The correlation between video length and number of views is: 0.022353016193049476\n"
     ]
    }
   ],
   "source": [
    "from pyspark.sql import SparkSession\n",
    "from pyspark.sql.functions import corr\n",
    "\n",
    "# Calculate the correlation between video length and the number of views\n",
    "correlation = data.select(corr(\"Video Length\", \"Number of Views\").alias(\"Correlation\")).collect()[0][0]\n",
    "\n",
    "# Show the result\n",
    "print(f\"The correlation between video length and number of views is: {correlation}\")"
   ]
  },
  {
   "cell_type": "code",
   "execution_count": 155,
   "metadata": {},
   "outputs": [
    {
     "name": "stdout",
     "output_type": "stream",
     "text": [
      "The correlation between video length and number of views is: 0.022353016193049476\n"
     ]
    }
   ],
   "source": [
    "from pyspark.sql import SparkSession\n",
    "from pyspark.sql.functions import corr\n",
    "\n",
    "# Calculate the correlation between video length and the number of views\n",
    "correlation = data.corr(\"Video Length\", \"Number of Views\")\n",
    "\n",
    "# Show the result\n",
    "print(f\"The correlation between video length and number of views is: {correlation}\")"
   ]
  },
  {
   "cell_type": "code",
   "execution_count": 156,
   "metadata": {},
   "outputs": [],
   "source": [
    "# 5. Identify the most common related video IDs across all videos."
   ]
  },
  {
   "cell_type": "code",
   "execution_count": 157,
   "metadata": {},
   "outputs": [
    {
     "name": "stdout",
     "output_type": "stream",
     "text": [
      "+----------------+-----+\n",
      "|Related_Video_ID|count|\n",
      "+----------------+-----+\n",
      "|grF934eZqMs     |27   |\n",
      "|bjAuzPnJ82A     |24   |\n",
      "|2hZx3yBoNw4     |22   |\n",
      "|SgMeFJBJCYU     |22   |\n",
      "|oAdyimiHqNs     |20   |\n",
      "|-qczUcQ-VjM     |19   |\n",
      "|TKe2rBbGGEA     |19   |\n",
      "|cCLosO7dQZo     |18   |\n",
      "|T1LjUeLwmrU     |18   |\n",
      "|-6M41YqM_xk     |18   |\n",
      "+----------------+-----+\n",
      "only showing top 10 rows\n",
      "\n"
     ]
    }
   ],
   "source": [
    "from pyspark.sql.functions import explode, split, col\n",
    "from pyspark.sql import functions as F\n",
    "\n",
    "# Assuming 'Related Video IDs' is a string column with IDs separated by commas\n",
    "\n",
    "# Step 1: Split the 'Related Video IDs' column into an array of IDs\n",
    "split_related_videos = data.withColumn(\"Related_Video_IDs_Array\", split(col(\"Related Video IDs\"), \",\"))\n",
    "\n",
    "# Step 2: Explode the array into individual rows for each related video ID\n",
    "exploded_related_videos = split_related_videos.withColumn(\"Related_Video_ID\", explode(col(\"Related_Video_IDs_Array\")))\n",
    "\n",
    "# Step 3: Count occurrences of each related video ID\n",
    "related_video_count = exploded_related_videos.groupBy(\"Related_Video_ID\").count()\n",
    "\n",
    "# Step 4: Sort the counts in descending order to identify the most common related video IDs\n",
    "most_common_related_videos = related_video_count.orderBy(col(\"count\").desc())\n",
    "\n",
    "# Show the result (top 10 most common related video IDs)\n",
    "most_common_related_videos.show(10, truncate=False)\n"
   ]
  },
  {
   "cell_type": "code",
   "execution_count": null,
   "metadata": {},
   "outputs": [],
   "source": []
  }
 ],
 "metadata": {
  "application/vnd.databricks.v1+notebook": {
   "dashboards": [],
   "environmentMetadata": {
    "base_environment": "",
    "client": "1"
   },
   "language": "python",
   "notebookMetadata": {
    "pythonIndentUnit": 4
   },
   "notebookName": "PySpark_Youtube_DataSet_Analysis_DataBricks",
   "widgets": {}
  },
  "kernelspec": {
   "display_name": "Python 3",
   "language": "python",
   "name": "python3"
  },
  "language_info": {
   "codemirror_mode": {
    "name": "ipython",
    "version": 3
   },
   "file_extension": ".py",
   "mimetype": "text/x-python",
   "name": "python",
   "nbconvert_exporter": "python",
   "pygments_lexer": "ipython3",
   "version": "3.12.4"
  }
 },
 "nbformat": 4,
 "nbformat_minor": 0
}
