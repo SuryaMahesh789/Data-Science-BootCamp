{
  "metadata": {
    "kernelspec": {
      "name": "python",
      "display_name": "Python (Pyodide)",
      "language": "python"
    },
    "language_info": {
      "codemirror_mode": {
        "name": "python",
        "version": 3
      },
      "file_extension": ".py",
      "mimetype": "text/x-python",
      "name": "python",
      "nbconvert_exporter": "python",
      "pygments_lexer": "ipython3",
      "version": "3.8"
    }
  },
  "nbformat_minor": 4,
  "nbformat": 4,
  "cells": [
    {
      "cell_type": "code",
      "source": "import numpy as np\nnp.__version__",
      "metadata": {
        "trusted": true
      },
      "outputs": [
        {
          "execution_count": 4,
          "output_type": "execute_result",
          "data": {
            "text/plain": "'1.26.1'"
          },
          "metadata": {}
        }
      ],
      "execution_count": 4
    },
    {
      "cell_type": "code",
      "source": "import pandas as pd\npd.__version__",
      "metadata": {
        "trusted": true
      },
      "outputs": [
        {
          "execution_count": 5,
          "output_type": "execute_result",
          "data": {
            "text/plain": "'1.5.3'"
          },
          "metadata": {}
        }
      ],
      "execution_count": 5
    },
    {
      "cell_type": "code",
      "source": "data={\"Name\":[\"Mahesh\",\"Surya\",\"Sai\"],\"age\":[1,2,3],\"weight\":[1,2,3]}\ndf=pd.DataFrame(data)\ndf",
      "metadata": {
        "trusted": true
      },
      "outputs": [
        {
          "execution_count": 24,
          "output_type": "execute_result",
          "data": {
            "text/plain": "     Name  age  weight\n0  Mahesh    1       1\n1   Surya    2       2\n2     Sai    3       3",
            "text/html": "<div>\n<style scoped>\n    .dataframe tbody tr th:only-of-type {\n        vertical-align: middle;\n    }\n\n    .dataframe tbody tr th {\n        vertical-align: top;\n    }\n\n    .dataframe thead th {\n        text-align: right;\n    }\n</style>\n<table border=\"1\" class=\"dataframe\">\n  <thead>\n    <tr style=\"text-align: right;\">\n      <th></th>\n      <th>Name</th>\n      <th>age</th>\n      <th>weight</th>\n    </tr>\n  </thead>\n  <tbody>\n    <tr>\n      <th>0</th>\n      <td>Mahesh</td>\n      <td>1</td>\n      <td>1</td>\n    </tr>\n    <tr>\n      <th>1</th>\n      <td>Surya</td>\n      <td>2</td>\n      <td>2</td>\n    </tr>\n    <tr>\n      <th>2</th>\n      <td>Sai</td>\n      <td>3</td>\n      <td>3</td>\n    </tr>\n  </tbody>\n</table>\n</div>"
          },
          "metadata": {}
        }
      ],
      "execution_count": 24
    },
    {
      "cell_type": "code",
      "source": "l=[(\"Name\",\"Age\",\"Weight\"),(\"Mahesh\",\"Surya\",\"Sai\"),(1,2,3),(1,2,3)]\ndf=pd.DataFrame(l)\ndf",
      "metadata": {
        "trusted": true
      },
      "outputs": [
        {
          "execution_count": 25,
          "output_type": "execute_result",
          "data": {
            "text/plain": "        0      1       2\n0    Name    Age  Weight\n1  Mahesh  Surya     Sai\n2       1      2       3\n3       1      2       3",
            "text/html": "<div>\n<style scoped>\n    .dataframe tbody tr th:only-of-type {\n        vertical-align: middle;\n    }\n\n    .dataframe tbody tr th {\n        vertical-align: top;\n    }\n\n    .dataframe thead th {\n        text-align: right;\n    }\n</style>\n<table border=\"1\" class=\"dataframe\">\n  <thead>\n    <tr style=\"text-align: right;\">\n      <th></th>\n      <th>0</th>\n      <th>1</th>\n      <th>2</th>\n    </tr>\n  </thead>\n  <tbody>\n    <tr>\n      <th>0</th>\n      <td>Name</td>\n      <td>Age</td>\n      <td>Weight</td>\n    </tr>\n    <tr>\n      <th>1</th>\n      <td>Mahesh</td>\n      <td>Surya</td>\n      <td>Sai</td>\n    </tr>\n    <tr>\n      <th>2</th>\n      <td>1</td>\n      <td>2</td>\n      <td>3</td>\n    </tr>\n    <tr>\n      <th>3</th>\n      <td>1</td>\n      <td>2</td>\n      <td>3</td>\n    </tr>\n  </tbody>\n</table>\n</div>"
          },
          "metadata": {}
        }
      ],
      "execution_count": 25
    },
    {
      "cell_type": "code",
      "source": "data=pd.read_csv('customers-100.csv')\ndf=pd.DataFrame(data)\ndf",
      "metadata": {
        "trusted": true
      },
      "outputs": [
        {
          "execution_count": 31,
          "output_type": "execute_result",
          "data": {
            "text/plain": "    Index      Customer Id First Name Last Name  \\\n0       1  DD37Cf93aecA6Dc     Sheryl    Baxter   \n1       2  1Ef7b82A4CAAD10    Preston    Lozano   \n2       3  6F94879bDAfE5a6        Roy     Berry   \n3       4  5Cef8BFA16c5e3c      Linda     Olsen   \n4       5  053d585Ab6b3159     Joanna    Bender   \n..    ...              ...        ...       ...   \n95     96  cb8E23e48d22Eae       Karl     Greer   \n96     97  CeD220bdAaCfaDf       Lynn  Atkinson   \n97     98  28CDbC0dFe4b1Db       Fred    Guerra   \n98     99  c23d1D9EE8DEB0A     Yvonne    Farmer   \n99    100  2354a0E336A91A1   Clarence    Haynes   \n\n                            Company               City  \\\n0                   Rasmussen Group       East Leonard   \n1                       Vega-Gentry  East Jimmychester   \n2                     Murillo-Perry      Isabelborough   \n3   Dominguez, Mcmillan and Donovan         Bensonview   \n4          Martin, Lang and Andrade     West Priscilla   \n..                              ...                ...   \n95                        Carey LLC       East Richard   \n96            Ware, Burns and Oneal       New Bradview   \n97                    Schmitt-Jones         Ortegaland   \n98               Fitzgerald-Harrell    Lake Elijahview   \n99               Le, Nash and Cross          Judymouth   \n\n                       Country                 Phone 1  \\\n0                        Chile            229.077.5154   \n1                     Djibouti              5153435776   \n2          Antigua and Barbuda         +1-539-402-0259   \n3           Dominican Republic  001-808-617-6467x12895   \n4   Slovakia (Slovak Republic)  001-234-203-0635x76146   \n..                         ...                     ...   \n95                      Guyana     (188)169-1674x58692   \n96                   Sri Lanka         +1-846-706-2218   \n97             Solomon Islands    +1-753-067-8419x7170   \n98                       Aruba           (530)311-9786   \n99                    Honduras           (753)813-6941   \n\n                   Phone 2                           Email Subscription Date  \\\n0         397.884.0519x718        zunigavanessa@smith.info        2020-08-24   \n1         686-620-1820x944                 vmata@colon.com        2021-04-23   \n2      (496)978-3969x58947             beckycarr@hogan.com        2020-03-25   \n3          +1-813-324-8756     stanleyblackwell@benson.org        2020-06-02   \n4    001-199-446-3860x3486         colinalvarado@miles.net        2021-04-17   \n..                     ...                             ...               ...   \n95    001-841-293-3519x614                hhart@jensen.com        2022-01-30   \n96            605.413.3198               vkemp@ferrell.com        2021-07-10   \n97   +1-632-666-7507x92121                swagner@kane.org        2021-09-18   \n98  001-869-452-0943x12424  mccarthystephen@horn-green.biz        2021-08-11   \n99            783.639.1472          colleen91@faulkner.biz        2020-03-11   \n\n                              Website  \n0          http://www.stephenson.com/  \n1               http://www.hobbs.com/  \n2            http://www.lawrence.com/  \n3          http://www.good-lyons.com/  \n4         https://goodwin-ingram.com/  \n..                                ...  \n95            http://hayes-perez.com/  \n96         https://novak-allison.com/  \n97              https://www.ross.com/  \n98               http://watkins.info/  \n99  http://www.hatfield-saunders.net/  \n\n[100 rows x 12 columns]",
            "text/html": "<div>\n<style scoped>\n    .dataframe tbody tr th:only-of-type {\n        vertical-align: middle;\n    }\n\n    .dataframe tbody tr th {\n        vertical-align: top;\n    }\n\n    .dataframe thead th {\n        text-align: right;\n    }\n</style>\n<table border=\"1\" class=\"dataframe\">\n  <thead>\n    <tr style=\"text-align: right;\">\n      <th></th>\n      <th>Index</th>\n      <th>Customer Id</th>\n      <th>First Name</th>\n      <th>Last Name</th>\n      <th>Company</th>\n      <th>City</th>\n      <th>Country</th>\n      <th>Phone 1</th>\n      <th>Phone 2</th>\n      <th>Email</th>\n      <th>Subscription Date</th>\n      <th>Website</th>\n    </tr>\n  </thead>\n  <tbody>\n    <tr>\n      <th>0</th>\n      <td>1</td>\n      <td>DD37Cf93aecA6Dc</td>\n      <td>Sheryl</td>\n      <td>Baxter</td>\n      <td>Rasmussen Group</td>\n      <td>East Leonard</td>\n      <td>Chile</td>\n      <td>229.077.5154</td>\n      <td>397.884.0519x718</td>\n      <td>zunigavanessa@smith.info</td>\n      <td>2020-08-24</td>\n      <td>http://www.stephenson.com/</td>\n    </tr>\n    <tr>\n      <th>1</th>\n      <td>2</td>\n      <td>1Ef7b82A4CAAD10</td>\n      <td>Preston</td>\n      <td>Lozano</td>\n      <td>Vega-Gentry</td>\n      <td>East Jimmychester</td>\n      <td>Djibouti</td>\n      <td>5153435776</td>\n      <td>686-620-1820x944</td>\n      <td>vmata@colon.com</td>\n      <td>2021-04-23</td>\n      <td>http://www.hobbs.com/</td>\n    </tr>\n    <tr>\n      <th>2</th>\n      <td>3</td>\n      <td>6F94879bDAfE5a6</td>\n      <td>Roy</td>\n      <td>Berry</td>\n      <td>Murillo-Perry</td>\n      <td>Isabelborough</td>\n      <td>Antigua and Barbuda</td>\n      <td>+1-539-402-0259</td>\n      <td>(496)978-3969x58947</td>\n      <td>beckycarr@hogan.com</td>\n      <td>2020-03-25</td>\n      <td>http://www.lawrence.com/</td>\n    </tr>\n    <tr>\n      <th>3</th>\n      <td>4</td>\n      <td>5Cef8BFA16c5e3c</td>\n      <td>Linda</td>\n      <td>Olsen</td>\n      <td>Dominguez, Mcmillan and Donovan</td>\n      <td>Bensonview</td>\n      <td>Dominican Republic</td>\n      <td>001-808-617-6467x12895</td>\n      <td>+1-813-324-8756</td>\n      <td>stanleyblackwell@benson.org</td>\n      <td>2020-06-02</td>\n      <td>http://www.good-lyons.com/</td>\n    </tr>\n    <tr>\n      <th>4</th>\n      <td>5</td>\n      <td>053d585Ab6b3159</td>\n      <td>Joanna</td>\n      <td>Bender</td>\n      <td>Martin, Lang and Andrade</td>\n      <td>West Priscilla</td>\n      <td>Slovakia (Slovak Republic)</td>\n      <td>001-234-203-0635x76146</td>\n      <td>001-199-446-3860x3486</td>\n      <td>colinalvarado@miles.net</td>\n      <td>2021-04-17</td>\n      <td>https://goodwin-ingram.com/</td>\n    </tr>\n    <tr>\n      <th>...</th>\n      <td>...</td>\n      <td>...</td>\n      <td>...</td>\n      <td>...</td>\n      <td>...</td>\n      <td>...</td>\n      <td>...</td>\n      <td>...</td>\n      <td>...</td>\n      <td>...</td>\n      <td>...</td>\n      <td>...</td>\n    </tr>\n    <tr>\n      <th>95</th>\n      <td>96</td>\n      <td>cb8E23e48d22Eae</td>\n      <td>Karl</td>\n      <td>Greer</td>\n      <td>Carey LLC</td>\n      <td>East Richard</td>\n      <td>Guyana</td>\n      <td>(188)169-1674x58692</td>\n      <td>001-841-293-3519x614</td>\n      <td>hhart@jensen.com</td>\n      <td>2022-01-30</td>\n      <td>http://hayes-perez.com/</td>\n    </tr>\n    <tr>\n      <th>96</th>\n      <td>97</td>\n      <td>CeD220bdAaCfaDf</td>\n      <td>Lynn</td>\n      <td>Atkinson</td>\n      <td>Ware, Burns and Oneal</td>\n      <td>New Bradview</td>\n      <td>Sri Lanka</td>\n      <td>+1-846-706-2218</td>\n      <td>605.413.3198</td>\n      <td>vkemp@ferrell.com</td>\n      <td>2021-07-10</td>\n      <td>https://novak-allison.com/</td>\n    </tr>\n    <tr>\n      <th>97</th>\n      <td>98</td>\n      <td>28CDbC0dFe4b1Db</td>\n      <td>Fred</td>\n      <td>Guerra</td>\n      <td>Schmitt-Jones</td>\n      <td>Ortegaland</td>\n      <td>Solomon Islands</td>\n      <td>+1-753-067-8419x7170</td>\n      <td>+1-632-666-7507x92121</td>\n      <td>swagner@kane.org</td>\n      <td>2021-09-18</td>\n      <td>https://www.ross.com/</td>\n    </tr>\n    <tr>\n      <th>98</th>\n      <td>99</td>\n      <td>c23d1D9EE8DEB0A</td>\n      <td>Yvonne</td>\n      <td>Farmer</td>\n      <td>Fitzgerald-Harrell</td>\n      <td>Lake Elijahview</td>\n      <td>Aruba</td>\n      <td>(530)311-9786</td>\n      <td>001-869-452-0943x12424</td>\n      <td>mccarthystephen@horn-green.biz</td>\n      <td>2021-08-11</td>\n      <td>http://watkins.info/</td>\n    </tr>\n    <tr>\n      <th>99</th>\n      <td>100</td>\n      <td>2354a0E336A91A1</td>\n      <td>Clarence</td>\n      <td>Haynes</td>\n      <td>Le, Nash and Cross</td>\n      <td>Judymouth</td>\n      <td>Honduras</td>\n      <td>(753)813-6941</td>\n      <td>783.639.1472</td>\n      <td>colleen91@faulkner.biz</td>\n      <td>2020-03-11</td>\n      <td>http://www.hatfield-saunders.net/</td>\n    </tr>\n  </tbody>\n</table>\n<p>100 rows × 12 columns</p>\n</div>"
          },
          "metadata": {}
        }
      ],
      "execution_count": 31
    },
    {
      "cell_type": "code",
      "source": "df.head()",
      "metadata": {
        "trusted": true
      },
      "outputs": [
        {
          "execution_count": 32,
          "output_type": "execute_result",
          "data": {
            "text/plain": "   Index      Customer Id First Name Last Name  \\\n0      1  DD37Cf93aecA6Dc     Sheryl    Baxter   \n1      2  1Ef7b82A4CAAD10    Preston    Lozano   \n2      3  6F94879bDAfE5a6        Roy     Berry   \n3      4  5Cef8BFA16c5e3c      Linda     Olsen   \n4      5  053d585Ab6b3159     Joanna    Bender   \n\n                           Company               City  \\\n0                  Rasmussen Group       East Leonard   \n1                      Vega-Gentry  East Jimmychester   \n2                    Murillo-Perry      Isabelborough   \n3  Dominguez, Mcmillan and Donovan         Bensonview   \n4         Martin, Lang and Andrade     West Priscilla   \n\n                      Country                 Phone 1                Phone 2  \\\n0                       Chile            229.077.5154       397.884.0519x718   \n1                    Djibouti              5153435776       686-620-1820x944   \n2         Antigua and Barbuda         +1-539-402-0259    (496)978-3969x58947   \n3          Dominican Republic  001-808-617-6467x12895        +1-813-324-8756   \n4  Slovakia (Slovak Republic)  001-234-203-0635x76146  001-199-446-3860x3486   \n\n                         Email Subscription Date                      Website  \n0     zunigavanessa@smith.info        2020-08-24   http://www.stephenson.com/  \n1              vmata@colon.com        2021-04-23        http://www.hobbs.com/  \n2          beckycarr@hogan.com        2020-03-25     http://www.lawrence.com/  \n3  stanleyblackwell@benson.org        2020-06-02   http://www.good-lyons.com/  \n4      colinalvarado@miles.net        2021-04-17  https://goodwin-ingram.com/  ",
            "text/html": "<div>\n<style scoped>\n    .dataframe tbody tr th:only-of-type {\n        vertical-align: middle;\n    }\n\n    .dataframe tbody tr th {\n        vertical-align: top;\n    }\n\n    .dataframe thead th {\n        text-align: right;\n    }\n</style>\n<table border=\"1\" class=\"dataframe\">\n  <thead>\n    <tr style=\"text-align: right;\">\n      <th></th>\n      <th>Index</th>\n      <th>Customer Id</th>\n      <th>First Name</th>\n      <th>Last Name</th>\n      <th>Company</th>\n      <th>City</th>\n      <th>Country</th>\n      <th>Phone 1</th>\n      <th>Phone 2</th>\n      <th>Email</th>\n      <th>Subscription Date</th>\n      <th>Website</th>\n    </tr>\n  </thead>\n  <tbody>\n    <tr>\n      <th>0</th>\n      <td>1</td>\n      <td>DD37Cf93aecA6Dc</td>\n      <td>Sheryl</td>\n      <td>Baxter</td>\n      <td>Rasmussen Group</td>\n      <td>East Leonard</td>\n      <td>Chile</td>\n      <td>229.077.5154</td>\n      <td>397.884.0519x718</td>\n      <td>zunigavanessa@smith.info</td>\n      <td>2020-08-24</td>\n      <td>http://www.stephenson.com/</td>\n    </tr>\n    <tr>\n      <th>1</th>\n      <td>2</td>\n      <td>1Ef7b82A4CAAD10</td>\n      <td>Preston</td>\n      <td>Lozano</td>\n      <td>Vega-Gentry</td>\n      <td>East Jimmychester</td>\n      <td>Djibouti</td>\n      <td>5153435776</td>\n      <td>686-620-1820x944</td>\n      <td>vmata@colon.com</td>\n      <td>2021-04-23</td>\n      <td>http://www.hobbs.com/</td>\n    </tr>\n    <tr>\n      <th>2</th>\n      <td>3</td>\n      <td>6F94879bDAfE5a6</td>\n      <td>Roy</td>\n      <td>Berry</td>\n      <td>Murillo-Perry</td>\n      <td>Isabelborough</td>\n      <td>Antigua and Barbuda</td>\n      <td>+1-539-402-0259</td>\n      <td>(496)978-3969x58947</td>\n      <td>beckycarr@hogan.com</td>\n      <td>2020-03-25</td>\n      <td>http://www.lawrence.com/</td>\n    </tr>\n    <tr>\n      <th>3</th>\n      <td>4</td>\n      <td>5Cef8BFA16c5e3c</td>\n      <td>Linda</td>\n      <td>Olsen</td>\n      <td>Dominguez, Mcmillan and Donovan</td>\n      <td>Bensonview</td>\n      <td>Dominican Republic</td>\n      <td>001-808-617-6467x12895</td>\n      <td>+1-813-324-8756</td>\n      <td>stanleyblackwell@benson.org</td>\n      <td>2020-06-02</td>\n      <td>http://www.good-lyons.com/</td>\n    </tr>\n    <tr>\n      <th>4</th>\n      <td>5</td>\n      <td>053d585Ab6b3159</td>\n      <td>Joanna</td>\n      <td>Bender</td>\n      <td>Martin, Lang and Andrade</td>\n      <td>West Priscilla</td>\n      <td>Slovakia (Slovak Republic)</td>\n      <td>001-234-203-0635x76146</td>\n      <td>001-199-446-3860x3486</td>\n      <td>colinalvarado@miles.net</td>\n      <td>2021-04-17</td>\n      <td>https://goodwin-ingram.com/</td>\n    </tr>\n  </tbody>\n</table>\n</div>"
          },
          "metadata": {}
        }
      ],
      "execution_count": 32
    },
    {
      "cell_type": "code",
      "source": "df.tail()",
      "metadata": {
        "trusted": true
      },
      "outputs": [
        {
          "execution_count": 33,
          "output_type": "execute_result",
          "data": {
            "text/plain": "    Index      Customer Id First Name Last Name                Company  \\\n95     96  cb8E23e48d22Eae       Karl     Greer              Carey LLC   \n96     97  CeD220bdAaCfaDf       Lynn  Atkinson  Ware, Burns and Oneal   \n97     98  28CDbC0dFe4b1Db       Fred    Guerra          Schmitt-Jones   \n98     99  c23d1D9EE8DEB0A     Yvonne    Farmer     Fitzgerald-Harrell   \n99    100  2354a0E336A91A1   Clarence    Haynes     Le, Nash and Cross   \n\n               City          Country               Phone 1  \\\n95     East Richard           Guyana   (188)169-1674x58692   \n96     New Bradview        Sri Lanka       +1-846-706-2218   \n97       Ortegaland  Solomon Islands  +1-753-067-8419x7170   \n98  Lake Elijahview            Aruba         (530)311-9786   \n99        Judymouth         Honduras         (753)813-6941   \n\n                   Phone 2                           Email Subscription Date  \\\n95    001-841-293-3519x614                hhart@jensen.com        2022-01-30   \n96            605.413.3198               vkemp@ferrell.com        2021-07-10   \n97   +1-632-666-7507x92121                swagner@kane.org        2021-09-18   \n98  001-869-452-0943x12424  mccarthystephen@horn-green.biz        2021-08-11   \n99            783.639.1472          colleen91@faulkner.biz        2020-03-11   \n\n                              Website  \n95            http://hayes-perez.com/  \n96         https://novak-allison.com/  \n97              https://www.ross.com/  \n98               http://watkins.info/  \n99  http://www.hatfield-saunders.net/  ",
            "text/html": "<div>\n<style scoped>\n    .dataframe tbody tr th:only-of-type {\n        vertical-align: middle;\n    }\n\n    .dataframe tbody tr th {\n        vertical-align: top;\n    }\n\n    .dataframe thead th {\n        text-align: right;\n    }\n</style>\n<table border=\"1\" class=\"dataframe\">\n  <thead>\n    <tr style=\"text-align: right;\">\n      <th></th>\n      <th>Index</th>\n      <th>Customer Id</th>\n      <th>First Name</th>\n      <th>Last Name</th>\n      <th>Company</th>\n      <th>City</th>\n      <th>Country</th>\n      <th>Phone 1</th>\n      <th>Phone 2</th>\n      <th>Email</th>\n      <th>Subscription Date</th>\n      <th>Website</th>\n    </tr>\n  </thead>\n  <tbody>\n    <tr>\n      <th>95</th>\n      <td>96</td>\n      <td>cb8E23e48d22Eae</td>\n      <td>Karl</td>\n      <td>Greer</td>\n      <td>Carey LLC</td>\n      <td>East Richard</td>\n      <td>Guyana</td>\n      <td>(188)169-1674x58692</td>\n      <td>001-841-293-3519x614</td>\n      <td>hhart@jensen.com</td>\n      <td>2022-01-30</td>\n      <td>http://hayes-perez.com/</td>\n    </tr>\n    <tr>\n      <th>96</th>\n      <td>97</td>\n      <td>CeD220bdAaCfaDf</td>\n      <td>Lynn</td>\n      <td>Atkinson</td>\n      <td>Ware, Burns and Oneal</td>\n      <td>New Bradview</td>\n      <td>Sri Lanka</td>\n      <td>+1-846-706-2218</td>\n      <td>605.413.3198</td>\n      <td>vkemp@ferrell.com</td>\n      <td>2021-07-10</td>\n      <td>https://novak-allison.com/</td>\n    </tr>\n    <tr>\n      <th>97</th>\n      <td>98</td>\n      <td>28CDbC0dFe4b1Db</td>\n      <td>Fred</td>\n      <td>Guerra</td>\n      <td>Schmitt-Jones</td>\n      <td>Ortegaland</td>\n      <td>Solomon Islands</td>\n      <td>+1-753-067-8419x7170</td>\n      <td>+1-632-666-7507x92121</td>\n      <td>swagner@kane.org</td>\n      <td>2021-09-18</td>\n      <td>https://www.ross.com/</td>\n    </tr>\n    <tr>\n      <th>98</th>\n      <td>99</td>\n      <td>c23d1D9EE8DEB0A</td>\n      <td>Yvonne</td>\n      <td>Farmer</td>\n      <td>Fitzgerald-Harrell</td>\n      <td>Lake Elijahview</td>\n      <td>Aruba</td>\n      <td>(530)311-9786</td>\n      <td>001-869-452-0943x12424</td>\n      <td>mccarthystephen@horn-green.biz</td>\n      <td>2021-08-11</td>\n      <td>http://watkins.info/</td>\n    </tr>\n    <tr>\n      <th>99</th>\n      <td>100</td>\n      <td>2354a0E336A91A1</td>\n      <td>Clarence</td>\n      <td>Haynes</td>\n      <td>Le, Nash and Cross</td>\n      <td>Judymouth</td>\n      <td>Honduras</td>\n      <td>(753)813-6941</td>\n      <td>783.639.1472</td>\n      <td>colleen91@faulkner.biz</td>\n      <td>2020-03-11</td>\n      <td>http://www.hatfield-saunders.net/</td>\n    </tr>\n  </tbody>\n</table>\n</div>"
          },
          "metadata": {}
        }
      ],
      "execution_count": 33
    },
    {
      "cell_type": "code",
      "source": "df.head(2)",
      "metadata": {
        "trusted": true
      },
      "outputs": [
        {
          "execution_count": 34,
          "output_type": "execute_result",
          "data": {
            "text/plain": "   Index      Customer Id First Name Last Name          Company  \\\n0      1  DD37Cf93aecA6Dc     Sheryl    Baxter  Rasmussen Group   \n1      2  1Ef7b82A4CAAD10    Preston    Lozano      Vega-Gentry   \n\n                City   Country       Phone 1           Phone 2  \\\n0       East Leonard     Chile  229.077.5154  397.884.0519x718   \n1  East Jimmychester  Djibouti    5153435776  686-620-1820x944   \n\n                      Email Subscription Date                     Website  \n0  zunigavanessa@smith.info        2020-08-24  http://www.stephenson.com/  \n1           vmata@colon.com        2021-04-23       http://www.hobbs.com/  ",
            "text/html": "<div>\n<style scoped>\n    .dataframe tbody tr th:only-of-type {\n        vertical-align: middle;\n    }\n\n    .dataframe tbody tr th {\n        vertical-align: top;\n    }\n\n    .dataframe thead th {\n        text-align: right;\n    }\n</style>\n<table border=\"1\" class=\"dataframe\">\n  <thead>\n    <tr style=\"text-align: right;\">\n      <th></th>\n      <th>Index</th>\n      <th>Customer Id</th>\n      <th>First Name</th>\n      <th>Last Name</th>\n      <th>Company</th>\n      <th>City</th>\n      <th>Country</th>\n      <th>Phone 1</th>\n      <th>Phone 2</th>\n      <th>Email</th>\n      <th>Subscription Date</th>\n      <th>Website</th>\n    </tr>\n  </thead>\n  <tbody>\n    <tr>\n      <th>0</th>\n      <td>1</td>\n      <td>DD37Cf93aecA6Dc</td>\n      <td>Sheryl</td>\n      <td>Baxter</td>\n      <td>Rasmussen Group</td>\n      <td>East Leonard</td>\n      <td>Chile</td>\n      <td>229.077.5154</td>\n      <td>397.884.0519x718</td>\n      <td>zunigavanessa@smith.info</td>\n      <td>2020-08-24</td>\n      <td>http://www.stephenson.com/</td>\n    </tr>\n    <tr>\n      <th>1</th>\n      <td>2</td>\n      <td>1Ef7b82A4CAAD10</td>\n      <td>Preston</td>\n      <td>Lozano</td>\n      <td>Vega-Gentry</td>\n      <td>East Jimmychester</td>\n      <td>Djibouti</td>\n      <td>5153435776</td>\n      <td>686-620-1820x944</td>\n      <td>vmata@colon.com</td>\n      <td>2021-04-23</td>\n      <td>http://www.hobbs.com/</td>\n    </tr>\n  </tbody>\n</table>\n</div>"
          },
          "metadata": {}
        }
      ],
      "execution_count": 34
    },
    {
      "cell_type": "code",
      "source": "df.tail(2)",
      "metadata": {
        "trusted": true
      },
      "outputs": [
        {
          "execution_count": 35,
          "output_type": "execute_result",
          "data": {
            "text/plain": "    Index      Customer Id First Name Last Name             Company  \\\n98     99  c23d1D9EE8DEB0A     Yvonne    Farmer  Fitzgerald-Harrell   \n99    100  2354a0E336A91A1   Clarence    Haynes  Le, Nash and Cross   \n\n               City   Country        Phone 1                 Phone 2  \\\n98  Lake Elijahview     Aruba  (530)311-9786  001-869-452-0943x12424   \n99        Judymouth  Honduras  (753)813-6941            783.639.1472   \n\n                             Email Subscription Date  \\\n98  mccarthystephen@horn-green.biz        2021-08-11   \n99          colleen91@faulkner.biz        2020-03-11   \n\n                              Website  \n98               http://watkins.info/  \n99  http://www.hatfield-saunders.net/  ",
            "text/html": "<div>\n<style scoped>\n    .dataframe tbody tr th:only-of-type {\n        vertical-align: middle;\n    }\n\n    .dataframe tbody tr th {\n        vertical-align: top;\n    }\n\n    .dataframe thead th {\n        text-align: right;\n    }\n</style>\n<table border=\"1\" class=\"dataframe\">\n  <thead>\n    <tr style=\"text-align: right;\">\n      <th></th>\n      <th>Index</th>\n      <th>Customer Id</th>\n      <th>First Name</th>\n      <th>Last Name</th>\n      <th>Company</th>\n      <th>City</th>\n      <th>Country</th>\n      <th>Phone 1</th>\n      <th>Phone 2</th>\n      <th>Email</th>\n      <th>Subscription Date</th>\n      <th>Website</th>\n    </tr>\n  </thead>\n  <tbody>\n    <tr>\n      <th>98</th>\n      <td>99</td>\n      <td>c23d1D9EE8DEB0A</td>\n      <td>Yvonne</td>\n      <td>Farmer</td>\n      <td>Fitzgerald-Harrell</td>\n      <td>Lake Elijahview</td>\n      <td>Aruba</td>\n      <td>(530)311-9786</td>\n      <td>001-869-452-0943x12424</td>\n      <td>mccarthystephen@horn-green.biz</td>\n      <td>2021-08-11</td>\n      <td>http://watkins.info/</td>\n    </tr>\n    <tr>\n      <th>99</th>\n      <td>100</td>\n      <td>2354a0E336A91A1</td>\n      <td>Clarence</td>\n      <td>Haynes</td>\n      <td>Le, Nash and Cross</td>\n      <td>Judymouth</td>\n      <td>Honduras</td>\n      <td>(753)813-6941</td>\n      <td>783.639.1472</td>\n      <td>colleen91@faulkner.biz</td>\n      <td>2020-03-11</td>\n      <td>http://www.hatfield-saunders.net/</td>\n    </tr>\n  </tbody>\n</table>\n</div>"
          },
          "metadata": {}
        }
      ],
      "execution_count": 35
    },
    {
      "cell_type": "code",
      "source": "df.head(10)",
      "metadata": {
        "trusted": true
      },
      "outputs": [
        {
          "execution_count": 38,
          "output_type": "execute_result",
          "data": {
            "text/plain": "   Index      Customer Id First Name  Last Name  \\\n0      1  DD37Cf93aecA6Dc     Sheryl     Baxter   \n1      2  1Ef7b82A4CAAD10    Preston     Lozano   \n2      3  6F94879bDAfE5a6        Roy      Berry   \n3      4  5Cef8BFA16c5e3c      Linda      Olsen   \n4      5  053d585Ab6b3159     Joanna     Bender   \n5      6  2d08FB17EE273F4      Aimee      Downs   \n6      7  EA4d384DfDbBf77     Darren       Peck   \n7      8  0e04AFde9f225dE      Brett     Mullen   \n8      9  C2dE4dEEc489ae0     Sheryl     Meyers   \n9     10  8C2811a503C7c5a   Michelle  Gallagher   \n\n                           Company               City  \\\n0                  Rasmussen Group       East Leonard   \n1                      Vega-Gentry  East Jimmychester   \n2                    Murillo-Perry      Isabelborough   \n3  Dominguez, Mcmillan and Donovan         Bensonview   \n4         Martin, Lang and Andrade     West Priscilla   \n5                     Steele Group      Chavezborough   \n6     Lester, Woodard and Mitchell           Lake Ana   \n7     Sanford, Davenport and Giles            Kimport   \n8                   Browning-Simon       Robersonstad   \n9                     Beck-Hendrix         Elaineberg   \n\n                      Country                 Phone 1                Phone 2  \\\n0                       Chile            229.077.5154       397.884.0519x718   \n1                    Djibouti              5153435776       686-620-1820x944   \n2         Antigua and Barbuda         +1-539-402-0259    (496)978-3969x58947   \n3          Dominican Republic  001-808-617-6467x12895        +1-813-324-8756   \n4  Slovakia (Slovak Republic)  001-234-203-0635x76146  001-199-446-3860x3486   \n5      Bosnia and Herzegovina     (283)437-3886x88321           999-728-1637   \n6            Pitcairn Islands      (496)452-6181x3291   +1-247-266-0963x4995   \n7                    Bulgaria    001-583-352-7197x297       001-333-145-0369   \n8                      Cyprus       854-138-4911x5772    +1-448-910-2276x729   \n9                 Timor-Leste        739.218.2516x459   001-054-401-0347x617   \n\n                         Email Subscription Date                      Website  \n0     zunigavanessa@smith.info        2020-08-24   http://www.stephenson.com/  \n1              vmata@colon.com        2021-04-23        http://www.hobbs.com/  \n2          beckycarr@hogan.com        2020-03-25     http://www.lawrence.com/  \n3  stanleyblackwell@benson.org        2020-06-02   http://www.good-lyons.com/  \n4      colinalvarado@miles.net        2021-04-17  https://goodwin-ingram.com/  \n5          louis27@gilbert.com        2020-02-25       http://www.berger.net/  \n6          tgates@cantrell.com        2021-08-24          https://www.le.com/  \n7              asnow@colon.com        2021-04-12  https://hammond-ramsey.com/  \n8      mariokhan@ryan-pope.org        2020-01-13     https://www.bullock.net/  \n9            mdyer@escobar.net        2021-11-08           https://arias.com/  ",
            "text/html": "<div>\n<style scoped>\n    .dataframe tbody tr th:only-of-type {\n        vertical-align: middle;\n    }\n\n    .dataframe tbody tr th {\n        vertical-align: top;\n    }\n\n    .dataframe thead th {\n        text-align: right;\n    }\n</style>\n<table border=\"1\" class=\"dataframe\">\n  <thead>\n    <tr style=\"text-align: right;\">\n      <th></th>\n      <th>Index</th>\n      <th>Customer Id</th>\n      <th>First Name</th>\n      <th>Last Name</th>\n      <th>Company</th>\n      <th>City</th>\n      <th>Country</th>\n      <th>Phone 1</th>\n      <th>Phone 2</th>\n      <th>Email</th>\n      <th>Subscription Date</th>\n      <th>Website</th>\n    </tr>\n  </thead>\n  <tbody>\n    <tr>\n      <th>0</th>\n      <td>1</td>\n      <td>DD37Cf93aecA6Dc</td>\n      <td>Sheryl</td>\n      <td>Baxter</td>\n      <td>Rasmussen Group</td>\n      <td>East Leonard</td>\n      <td>Chile</td>\n      <td>229.077.5154</td>\n      <td>397.884.0519x718</td>\n      <td>zunigavanessa@smith.info</td>\n      <td>2020-08-24</td>\n      <td>http://www.stephenson.com/</td>\n    </tr>\n    <tr>\n      <th>1</th>\n      <td>2</td>\n      <td>1Ef7b82A4CAAD10</td>\n      <td>Preston</td>\n      <td>Lozano</td>\n      <td>Vega-Gentry</td>\n      <td>East Jimmychester</td>\n      <td>Djibouti</td>\n      <td>5153435776</td>\n      <td>686-620-1820x944</td>\n      <td>vmata@colon.com</td>\n      <td>2021-04-23</td>\n      <td>http://www.hobbs.com/</td>\n    </tr>\n    <tr>\n      <th>2</th>\n      <td>3</td>\n      <td>6F94879bDAfE5a6</td>\n      <td>Roy</td>\n      <td>Berry</td>\n      <td>Murillo-Perry</td>\n      <td>Isabelborough</td>\n      <td>Antigua and Barbuda</td>\n      <td>+1-539-402-0259</td>\n      <td>(496)978-3969x58947</td>\n      <td>beckycarr@hogan.com</td>\n      <td>2020-03-25</td>\n      <td>http://www.lawrence.com/</td>\n    </tr>\n    <tr>\n      <th>3</th>\n      <td>4</td>\n      <td>5Cef8BFA16c5e3c</td>\n      <td>Linda</td>\n      <td>Olsen</td>\n      <td>Dominguez, Mcmillan and Donovan</td>\n      <td>Bensonview</td>\n      <td>Dominican Republic</td>\n      <td>001-808-617-6467x12895</td>\n      <td>+1-813-324-8756</td>\n      <td>stanleyblackwell@benson.org</td>\n      <td>2020-06-02</td>\n      <td>http://www.good-lyons.com/</td>\n    </tr>\n    <tr>\n      <th>4</th>\n      <td>5</td>\n      <td>053d585Ab6b3159</td>\n      <td>Joanna</td>\n      <td>Bender</td>\n      <td>Martin, Lang and Andrade</td>\n      <td>West Priscilla</td>\n      <td>Slovakia (Slovak Republic)</td>\n      <td>001-234-203-0635x76146</td>\n      <td>001-199-446-3860x3486</td>\n      <td>colinalvarado@miles.net</td>\n      <td>2021-04-17</td>\n      <td>https://goodwin-ingram.com/</td>\n    </tr>\n    <tr>\n      <th>5</th>\n      <td>6</td>\n      <td>2d08FB17EE273F4</td>\n      <td>Aimee</td>\n      <td>Downs</td>\n      <td>Steele Group</td>\n      <td>Chavezborough</td>\n      <td>Bosnia and Herzegovina</td>\n      <td>(283)437-3886x88321</td>\n      <td>999-728-1637</td>\n      <td>louis27@gilbert.com</td>\n      <td>2020-02-25</td>\n      <td>http://www.berger.net/</td>\n    </tr>\n    <tr>\n      <th>6</th>\n      <td>7</td>\n      <td>EA4d384DfDbBf77</td>\n      <td>Darren</td>\n      <td>Peck</td>\n      <td>Lester, Woodard and Mitchell</td>\n      <td>Lake Ana</td>\n      <td>Pitcairn Islands</td>\n      <td>(496)452-6181x3291</td>\n      <td>+1-247-266-0963x4995</td>\n      <td>tgates@cantrell.com</td>\n      <td>2021-08-24</td>\n      <td>https://www.le.com/</td>\n    </tr>\n    <tr>\n      <th>7</th>\n      <td>8</td>\n      <td>0e04AFde9f225dE</td>\n      <td>Brett</td>\n      <td>Mullen</td>\n      <td>Sanford, Davenport and Giles</td>\n      <td>Kimport</td>\n      <td>Bulgaria</td>\n      <td>001-583-352-7197x297</td>\n      <td>001-333-145-0369</td>\n      <td>asnow@colon.com</td>\n      <td>2021-04-12</td>\n      <td>https://hammond-ramsey.com/</td>\n    </tr>\n    <tr>\n      <th>8</th>\n      <td>9</td>\n      <td>C2dE4dEEc489ae0</td>\n      <td>Sheryl</td>\n      <td>Meyers</td>\n      <td>Browning-Simon</td>\n      <td>Robersonstad</td>\n      <td>Cyprus</td>\n      <td>854-138-4911x5772</td>\n      <td>+1-448-910-2276x729</td>\n      <td>mariokhan@ryan-pope.org</td>\n      <td>2020-01-13</td>\n      <td>https://www.bullock.net/</td>\n    </tr>\n    <tr>\n      <th>9</th>\n      <td>10</td>\n      <td>8C2811a503C7c5a</td>\n      <td>Michelle</td>\n      <td>Gallagher</td>\n      <td>Beck-Hendrix</td>\n      <td>Elaineberg</td>\n      <td>Timor-Leste</td>\n      <td>739.218.2516x459</td>\n      <td>001-054-401-0347x617</td>\n      <td>mdyer@escobar.net</td>\n      <td>2021-11-08</td>\n      <td>https://arias.com/</td>\n    </tr>\n  </tbody>\n</table>\n</div>"
          },
          "metadata": {}
        }
      ],
      "execution_count": 38
    },
    {
      "cell_type": "code",
      "source": "df.tail(10)",
      "metadata": {
        "trusted": true
      },
      "outputs": [
        {
          "execution_count": 39,
          "output_type": "execute_result",
          "data": {
            "text/plain": "    Index      Customer Id First Name Last Name                      Company  \\\n90     91  5ef6d3eefdD43bE       Nina    Chavez                Byrd-Campbell   \n91     92  98b3aeDcC3B9FF3      Shane     Foley                   Rocha-Hart   \n92     93  aAb6AFc7AfD0fF3     Collin     Ayers                Lamb-Peterson   \n93     94  54B5B5Fe9F1B6C5     Sherry     Young      Lee, Lucero and Johnson   \n94     95  BE91A0bdcA49Bbc    Darrell   Douglas  Newton, Petersen and Mathis   \n95     96  cb8E23e48d22Eae       Karl     Greer                    Carey LLC   \n96     97  CeD220bdAaCfaDf       Lynn  Atkinson        Ware, Burns and Oneal   \n97     98  28CDbC0dFe4b1Db       Fred    Guerra                Schmitt-Jones   \n98     99  c23d1D9EE8DEB0A     Yvonne    Farmer           Fitzgerald-Harrell   \n99    100  2354a0E336A91A1   Clarence    Haynes           Le, Nash and Cross   \n\n                City          Country                Phone 1  \\\n90    Cassidychester           Bhutan           053-344-3205   \n91  South Dannymouth          Hungary        +1-822-569-0302   \n92      South Lonnie         Anguilla       404-645-5351x012   \n93      Frankchester  Solomon Islands           158-687-1764   \n94      Daisyborough             Mali  001-084-845-9524x1777   \n95      East Richard           Guyana    (188)169-1674x58692   \n96      New Bradview        Sri Lanka        +1-846-706-2218   \n97        Ortegaland  Solomon Islands   +1-753-067-8419x7170   \n98   Lake Elijahview            Aruba          (530)311-9786   \n99         Judymouth         Honduras          (753)813-6941   \n\n                   Phone 2                           Email Subscription Date  \\\n90     +1-330-920-5422x571            elliserica@frank.com        2020-03-26   \n91  001-626-114-5844x55073              nsteele@sparks.com        2021-07-06   \n92   001-257-582-8850x8516        dudleyemily@gonzales.biz        2021-06-29   \n93       (438)375-6207x003     alan79@gates-mclaughlin.com        2021-04-04   \n94        001-769-564-6303        grayjean@lowery-good.com        2022-02-17   \n95    001-841-293-3519x614                hhart@jensen.com        2022-01-30   \n96            605.413.3198               vkemp@ferrell.com        2021-07-10   \n97   +1-632-666-7507x92121                swagner@kane.org        2021-09-18   \n98  001-869-452-0943x12424  mccarthystephen@horn-green.biz        2021-08-11   \n99            783.639.1472          colleen91@faulkner.biz        2020-03-11   \n\n                              Website  \n90              https://www.pugh.com/  \n91       https://www.holt-sparks.com/  \n92               http://www.ruiz.com/  \n93                https://travis.net/  \n94                 https://banks.biz/  \n95            http://hayes-perez.com/  \n96         https://novak-allison.com/  \n97              https://www.ross.com/  \n98               http://watkins.info/  \n99  http://www.hatfield-saunders.net/  ",
            "text/html": "<div>\n<style scoped>\n    .dataframe tbody tr th:only-of-type {\n        vertical-align: middle;\n    }\n\n    .dataframe tbody tr th {\n        vertical-align: top;\n    }\n\n    .dataframe thead th {\n        text-align: right;\n    }\n</style>\n<table border=\"1\" class=\"dataframe\">\n  <thead>\n    <tr style=\"text-align: right;\">\n      <th></th>\n      <th>Index</th>\n      <th>Customer Id</th>\n      <th>First Name</th>\n      <th>Last Name</th>\n      <th>Company</th>\n      <th>City</th>\n      <th>Country</th>\n      <th>Phone 1</th>\n      <th>Phone 2</th>\n      <th>Email</th>\n      <th>Subscription Date</th>\n      <th>Website</th>\n    </tr>\n  </thead>\n  <tbody>\n    <tr>\n      <th>90</th>\n      <td>91</td>\n      <td>5ef6d3eefdD43bE</td>\n      <td>Nina</td>\n      <td>Chavez</td>\n      <td>Byrd-Campbell</td>\n      <td>Cassidychester</td>\n      <td>Bhutan</td>\n      <td>053-344-3205</td>\n      <td>+1-330-920-5422x571</td>\n      <td>elliserica@frank.com</td>\n      <td>2020-03-26</td>\n      <td>https://www.pugh.com/</td>\n    </tr>\n    <tr>\n      <th>91</th>\n      <td>92</td>\n      <td>98b3aeDcC3B9FF3</td>\n      <td>Shane</td>\n      <td>Foley</td>\n      <td>Rocha-Hart</td>\n      <td>South Dannymouth</td>\n      <td>Hungary</td>\n      <td>+1-822-569-0302</td>\n      <td>001-626-114-5844x55073</td>\n      <td>nsteele@sparks.com</td>\n      <td>2021-07-06</td>\n      <td>https://www.holt-sparks.com/</td>\n    </tr>\n    <tr>\n      <th>92</th>\n      <td>93</td>\n      <td>aAb6AFc7AfD0fF3</td>\n      <td>Collin</td>\n      <td>Ayers</td>\n      <td>Lamb-Peterson</td>\n      <td>South Lonnie</td>\n      <td>Anguilla</td>\n      <td>404-645-5351x012</td>\n      <td>001-257-582-8850x8516</td>\n      <td>dudleyemily@gonzales.biz</td>\n      <td>2021-06-29</td>\n      <td>http://www.ruiz.com/</td>\n    </tr>\n    <tr>\n      <th>93</th>\n      <td>94</td>\n      <td>54B5B5Fe9F1B6C5</td>\n      <td>Sherry</td>\n      <td>Young</td>\n      <td>Lee, Lucero and Johnson</td>\n      <td>Frankchester</td>\n      <td>Solomon Islands</td>\n      <td>158-687-1764</td>\n      <td>(438)375-6207x003</td>\n      <td>alan79@gates-mclaughlin.com</td>\n      <td>2021-04-04</td>\n      <td>https://travis.net/</td>\n    </tr>\n    <tr>\n      <th>94</th>\n      <td>95</td>\n      <td>BE91A0bdcA49Bbc</td>\n      <td>Darrell</td>\n      <td>Douglas</td>\n      <td>Newton, Petersen and Mathis</td>\n      <td>Daisyborough</td>\n      <td>Mali</td>\n      <td>001-084-845-9524x1777</td>\n      <td>001-769-564-6303</td>\n      <td>grayjean@lowery-good.com</td>\n      <td>2022-02-17</td>\n      <td>https://banks.biz/</td>\n    </tr>\n    <tr>\n      <th>95</th>\n      <td>96</td>\n      <td>cb8E23e48d22Eae</td>\n      <td>Karl</td>\n      <td>Greer</td>\n      <td>Carey LLC</td>\n      <td>East Richard</td>\n      <td>Guyana</td>\n      <td>(188)169-1674x58692</td>\n      <td>001-841-293-3519x614</td>\n      <td>hhart@jensen.com</td>\n      <td>2022-01-30</td>\n      <td>http://hayes-perez.com/</td>\n    </tr>\n    <tr>\n      <th>96</th>\n      <td>97</td>\n      <td>CeD220bdAaCfaDf</td>\n      <td>Lynn</td>\n      <td>Atkinson</td>\n      <td>Ware, Burns and Oneal</td>\n      <td>New Bradview</td>\n      <td>Sri Lanka</td>\n      <td>+1-846-706-2218</td>\n      <td>605.413.3198</td>\n      <td>vkemp@ferrell.com</td>\n      <td>2021-07-10</td>\n      <td>https://novak-allison.com/</td>\n    </tr>\n    <tr>\n      <th>97</th>\n      <td>98</td>\n      <td>28CDbC0dFe4b1Db</td>\n      <td>Fred</td>\n      <td>Guerra</td>\n      <td>Schmitt-Jones</td>\n      <td>Ortegaland</td>\n      <td>Solomon Islands</td>\n      <td>+1-753-067-8419x7170</td>\n      <td>+1-632-666-7507x92121</td>\n      <td>swagner@kane.org</td>\n      <td>2021-09-18</td>\n      <td>https://www.ross.com/</td>\n    </tr>\n    <tr>\n      <th>98</th>\n      <td>99</td>\n      <td>c23d1D9EE8DEB0A</td>\n      <td>Yvonne</td>\n      <td>Farmer</td>\n      <td>Fitzgerald-Harrell</td>\n      <td>Lake Elijahview</td>\n      <td>Aruba</td>\n      <td>(530)311-9786</td>\n      <td>001-869-452-0943x12424</td>\n      <td>mccarthystephen@horn-green.biz</td>\n      <td>2021-08-11</td>\n      <td>http://watkins.info/</td>\n    </tr>\n    <tr>\n      <th>99</th>\n      <td>100</td>\n      <td>2354a0E336A91A1</td>\n      <td>Clarence</td>\n      <td>Haynes</td>\n      <td>Le, Nash and Cross</td>\n      <td>Judymouth</td>\n      <td>Honduras</td>\n      <td>(753)813-6941</td>\n      <td>783.639.1472</td>\n      <td>colleen91@faulkner.biz</td>\n      <td>2020-03-11</td>\n      <td>http://www.hatfield-saunders.net/</td>\n    </tr>\n  </tbody>\n</table>\n</div>"
          },
          "metadata": {}
        }
      ],
      "execution_count": 39
    },
    {
      "cell_type": "code",
      "source": "df.describe()",
      "metadata": {
        "trusted": true
      },
      "outputs": [
        {
          "execution_count": 44,
          "output_type": "execute_result",
          "data": {
            "text/plain": "            Index\ncount  100.000000\nmean    50.500000\nstd     29.011492\nmin      1.000000\n25%     25.750000\n50%     50.500000\n75%     75.250000\nmax    100.000000",
            "text/html": "<div>\n<style scoped>\n    .dataframe tbody tr th:only-of-type {\n        vertical-align: middle;\n    }\n\n    .dataframe tbody tr th {\n        vertical-align: top;\n    }\n\n    .dataframe thead th {\n        text-align: right;\n    }\n</style>\n<table border=\"1\" class=\"dataframe\">\n  <thead>\n    <tr style=\"text-align: right;\">\n      <th></th>\n      <th>Index</th>\n    </tr>\n  </thead>\n  <tbody>\n    <tr>\n      <th>count</th>\n      <td>100.000000</td>\n    </tr>\n    <tr>\n      <th>mean</th>\n      <td>50.500000</td>\n    </tr>\n    <tr>\n      <th>std</th>\n      <td>29.011492</td>\n    </tr>\n    <tr>\n      <th>min</th>\n      <td>1.000000</td>\n    </tr>\n    <tr>\n      <th>25%</th>\n      <td>25.750000</td>\n    </tr>\n    <tr>\n      <th>50%</th>\n      <td>50.500000</td>\n    </tr>\n    <tr>\n      <th>75%</th>\n      <td>75.250000</td>\n    </tr>\n    <tr>\n      <th>max</th>\n      <td>100.000000</td>\n    </tr>\n  </tbody>\n</table>\n</div>"
          },
          "metadata": {}
        }
      ],
      "execution_count": 44
    },
    {
      "cell_type": "code",
      "source": "df.shape",
      "metadata": {
        "trusted": true
      },
      "outputs": [
        {
          "execution_count": 45,
          "output_type": "execute_result",
          "data": {
            "text/plain": "(100, 12)"
          },
          "metadata": {}
        }
      ],
      "execution_count": 45
    },
    {
      "cell_type": "code",
      "source": "df",
      "metadata": {
        "trusted": true
      },
      "outputs": [
        {
          "execution_count": 46,
          "output_type": "execute_result",
          "data": {
            "text/plain": "    Index      Customer Id First Name Last Name  \\\n0       1  DD37Cf93aecA6Dc     Sheryl    Baxter   \n1       2  1Ef7b82A4CAAD10    Preston    Lozano   \n2       3  6F94879bDAfE5a6        Roy     Berry   \n3       4  5Cef8BFA16c5e3c      Linda     Olsen   \n4       5  053d585Ab6b3159     Joanna    Bender   \n..    ...              ...        ...       ...   \n95     96  cb8E23e48d22Eae       Karl     Greer   \n96     97  CeD220bdAaCfaDf       Lynn  Atkinson   \n97     98  28CDbC0dFe4b1Db       Fred    Guerra   \n98     99  c23d1D9EE8DEB0A     Yvonne    Farmer   \n99    100  2354a0E336A91A1   Clarence    Haynes   \n\n                            Company               City  \\\n0                   Rasmussen Group       East Leonard   \n1                       Vega-Gentry  East Jimmychester   \n2                     Murillo-Perry      Isabelborough   \n3   Dominguez, Mcmillan and Donovan         Bensonview   \n4          Martin, Lang and Andrade     West Priscilla   \n..                              ...                ...   \n95                        Carey LLC       East Richard   \n96            Ware, Burns and Oneal       New Bradview   \n97                    Schmitt-Jones         Ortegaland   \n98               Fitzgerald-Harrell    Lake Elijahview   \n99               Le, Nash and Cross          Judymouth   \n\n                       Country                 Phone 1  \\\n0                        Chile            229.077.5154   \n1                     Djibouti              5153435776   \n2          Antigua and Barbuda         +1-539-402-0259   \n3           Dominican Republic  001-808-617-6467x12895   \n4   Slovakia (Slovak Republic)  001-234-203-0635x76146   \n..                         ...                     ...   \n95                      Guyana     (188)169-1674x58692   \n96                   Sri Lanka         +1-846-706-2218   \n97             Solomon Islands    +1-753-067-8419x7170   \n98                       Aruba           (530)311-9786   \n99                    Honduras           (753)813-6941   \n\n                   Phone 2                           Email Subscription Date  \\\n0         397.884.0519x718        zunigavanessa@smith.info        2020-08-24   \n1         686-620-1820x944                 vmata@colon.com        2021-04-23   \n2      (496)978-3969x58947             beckycarr@hogan.com        2020-03-25   \n3          +1-813-324-8756     stanleyblackwell@benson.org        2020-06-02   \n4    001-199-446-3860x3486         colinalvarado@miles.net        2021-04-17   \n..                     ...                             ...               ...   \n95    001-841-293-3519x614                hhart@jensen.com        2022-01-30   \n96            605.413.3198               vkemp@ferrell.com        2021-07-10   \n97   +1-632-666-7507x92121                swagner@kane.org        2021-09-18   \n98  001-869-452-0943x12424  mccarthystephen@horn-green.biz        2021-08-11   \n99            783.639.1472          colleen91@faulkner.biz        2020-03-11   \n\n                              Website  \n0          http://www.stephenson.com/  \n1               http://www.hobbs.com/  \n2            http://www.lawrence.com/  \n3          http://www.good-lyons.com/  \n4         https://goodwin-ingram.com/  \n..                                ...  \n95            http://hayes-perez.com/  \n96         https://novak-allison.com/  \n97              https://www.ross.com/  \n98               http://watkins.info/  \n99  http://www.hatfield-saunders.net/  \n\n[100 rows x 12 columns]",
            "text/html": "<div>\n<style scoped>\n    .dataframe tbody tr th:only-of-type {\n        vertical-align: middle;\n    }\n\n    .dataframe tbody tr th {\n        vertical-align: top;\n    }\n\n    .dataframe thead th {\n        text-align: right;\n    }\n</style>\n<table border=\"1\" class=\"dataframe\">\n  <thead>\n    <tr style=\"text-align: right;\">\n      <th></th>\n      <th>Index</th>\n      <th>Customer Id</th>\n      <th>First Name</th>\n      <th>Last Name</th>\n      <th>Company</th>\n      <th>City</th>\n      <th>Country</th>\n      <th>Phone 1</th>\n      <th>Phone 2</th>\n      <th>Email</th>\n      <th>Subscription Date</th>\n      <th>Website</th>\n    </tr>\n  </thead>\n  <tbody>\n    <tr>\n      <th>0</th>\n      <td>1</td>\n      <td>DD37Cf93aecA6Dc</td>\n      <td>Sheryl</td>\n      <td>Baxter</td>\n      <td>Rasmussen Group</td>\n      <td>East Leonard</td>\n      <td>Chile</td>\n      <td>229.077.5154</td>\n      <td>397.884.0519x718</td>\n      <td>zunigavanessa@smith.info</td>\n      <td>2020-08-24</td>\n      <td>http://www.stephenson.com/</td>\n    </tr>\n    <tr>\n      <th>1</th>\n      <td>2</td>\n      <td>1Ef7b82A4CAAD10</td>\n      <td>Preston</td>\n      <td>Lozano</td>\n      <td>Vega-Gentry</td>\n      <td>East Jimmychester</td>\n      <td>Djibouti</td>\n      <td>5153435776</td>\n      <td>686-620-1820x944</td>\n      <td>vmata@colon.com</td>\n      <td>2021-04-23</td>\n      <td>http://www.hobbs.com/</td>\n    </tr>\n    <tr>\n      <th>2</th>\n      <td>3</td>\n      <td>6F94879bDAfE5a6</td>\n      <td>Roy</td>\n      <td>Berry</td>\n      <td>Murillo-Perry</td>\n      <td>Isabelborough</td>\n      <td>Antigua and Barbuda</td>\n      <td>+1-539-402-0259</td>\n      <td>(496)978-3969x58947</td>\n      <td>beckycarr@hogan.com</td>\n      <td>2020-03-25</td>\n      <td>http://www.lawrence.com/</td>\n    </tr>\n    <tr>\n      <th>3</th>\n      <td>4</td>\n      <td>5Cef8BFA16c5e3c</td>\n      <td>Linda</td>\n      <td>Olsen</td>\n      <td>Dominguez, Mcmillan and Donovan</td>\n      <td>Bensonview</td>\n      <td>Dominican Republic</td>\n      <td>001-808-617-6467x12895</td>\n      <td>+1-813-324-8756</td>\n      <td>stanleyblackwell@benson.org</td>\n      <td>2020-06-02</td>\n      <td>http://www.good-lyons.com/</td>\n    </tr>\n    <tr>\n      <th>4</th>\n      <td>5</td>\n      <td>053d585Ab6b3159</td>\n      <td>Joanna</td>\n      <td>Bender</td>\n      <td>Martin, Lang and Andrade</td>\n      <td>West Priscilla</td>\n      <td>Slovakia (Slovak Republic)</td>\n      <td>001-234-203-0635x76146</td>\n      <td>001-199-446-3860x3486</td>\n      <td>colinalvarado@miles.net</td>\n      <td>2021-04-17</td>\n      <td>https://goodwin-ingram.com/</td>\n    </tr>\n    <tr>\n      <th>...</th>\n      <td>...</td>\n      <td>...</td>\n      <td>...</td>\n      <td>...</td>\n      <td>...</td>\n      <td>...</td>\n      <td>...</td>\n      <td>...</td>\n      <td>...</td>\n      <td>...</td>\n      <td>...</td>\n      <td>...</td>\n    </tr>\n    <tr>\n      <th>95</th>\n      <td>96</td>\n      <td>cb8E23e48d22Eae</td>\n      <td>Karl</td>\n      <td>Greer</td>\n      <td>Carey LLC</td>\n      <td>East Richard</td>\n      <td>Guyana</td>\n      <td>(188)169-1674x58692</td>\n      <td>001-841-293-3519x614</td>\n      <td>hhart@jensen.com</td>\n      <td>2022-01-30</td>\n      <td>http://hayes-perez.com/</td>\n    </tr>\n    <tr>\n      <th>96</th>\n      <td>97</td>\n      <td>CeD220bdAaCfaDf</td>\n      <td>Lynn</td>\n      <td>Atkinson</td>\n      <td>Ware, Burns and Oneal</td>\n      <td>New Bradview</td>\n      <td>Sri Lanka</td>\n      <td>+1-846-706-2218</td>\n      <td>605.413.3198</td>\n      <td>vkemp@ferrell.com</td>\n      <td>2021-07-10</td>\n      <td>https://novak-allison.com/</td>\n    </tr>\n    <tr>\n      <th>97</th>\n      <td>98</td>\n      <td>28CDbC0dFe4b1Db</td>\n      <td>Fred</td>\n      <td>Guerra</td>\n      <td>Schmitt-Jones</td>\n      <td>Ortegaland</td>\n      <td>Solomon Islands</td>\n      <td>+1-753-067-8419x7170</td>\n      <td>+1-632-666-7507x92121</td>\n      <td>swagner@kane.org</td>\n      <td>2021-09-18</td>\n      <td>https://www.ross.com/</td>\n    </tr>\n    <tr>\n      <th>98</th>\n      <td>99</td>\n      <td>c23d1D9EE8DEB0A</td>\n      <td>Yvonne</td>\n      <td>Farmer</td>\n      <td>Fitzgerald-Harrell</td>\n      <td>Lake Elijahview</td>\n      <td>Aruba</td>\n      <td>(530)311-9786</td>\n      <td>001-869-452-0943x12424</td>\n      <td>mccarthystephen@horn-green.biz</td>\n      <td>2021-08-11</td>\n      <td>http://watkins.info/</td>\n    </tr>\n    <tr>\n      <th>99</th>\n      <td>100</td>\n      <td>2354a0E336A91A1</td>\n      <td>Clarence</td>\n      <td>Haynes</td>\n      <td>Le, Nash and Cross</td>\n      <td>Judymouth</td>\n      <td>Honduras</td>\n      <td>(753)813-6941</td>\n      <td>783.639.1472</td>\n      <td>colleen91@faulkner.biz</td>\n      <td>2020-03-11</td>\n      <td>http://www.hatfield-saunders.net/</td>\n    </tr>\n  </tbody>\n</table>\n<p>100 rows × 12 columns</p>\n</div>"
          },
          "metadata": {}
        }
      ],
      "execution_count": 46
    },
    {
      "cell_type": "code",
      "source": "df[:10]",
      "metadata": {
        "trusted": true
      },
      "outputs": [
        {
          "execution_count": 47,
          "output_type": "execute_result",
          "data": {
            "text/plain": "   Index      Customer Id First Name  Last Name  \\\n0      1  DD37Cf93aecA6Dc     Sheryl     Baxter   \n1      2  1Ef7b82A4CAAD10    Preston     Lozano   \n2      3  6F94879bDAfE5a6        Roy      Berry   \n3      4  5Cef8BFA16c5e3c      Linda      Olsen   \n4      5  053d585Ab6b3159     Joanna     Bender   \n5      6  2d08FB17EE273F4      Aimee      Downs   \n6      7  EA4d384DfDbBf77     Darren       Peck   \n7      8  0e04AFde9f225dE      Brett     Mullen   \n8      9  C2dE4dEEc489ae0     Sheryl     Meyers   \n9     10  8C2811a503C7c5a   Michelle  Gallagher   \n\n                           Company               City  \\\n0                  Rasmussen Group       East Leonard   \n1                      Vega-Gentry  East Jimmychester   \n2                    Murillo-Perry      Isabelborough   \n3  Dominguez, Mcmillan and Donovan         Bensonview   \n4         Martin, Lang and Andrade     West Priscilla   \n5                     Steele Group      Chavezborough   \n6     Lester, Woodard and Mitchell           Lake Ana   \n7     Sanford, Davenport and Giles            Kimport   \n8                   Browning-Simon       Robersonstad   \n9                     Beck-Hendrix         Elaineberg   \n\n                      Country                 Phone 1                Phone 2  \\\n0                       Chile            229.077.5154       397.884.0519x718   \n1                    Djibouti              5153435776       686-620-1820x944   \n2         Antigua and Barbuda         +1-539-402-0259    (496)978-3969x58947   \n3          Dominican Republic  001-808-617-6467x12895        +1-813-324-8756   \n4  Slovakia (Slovak Republic)  001-234-203-0635x76146  001-199-446-3860x3486   \n5      Bosnia and Herzegovina     (283)437-3886x88321           999-728-1637   \n6            Pitcairn Islands      (496)452-6181x3291   +1-247-266-0963x4995   \n7                    Bulgaria    001-583-352-7197x297       001-333-145-0369   \n8                      Cyprus       854-138-4911x5772    +1-448-910-2276x729   \n9                 Timor-Leste        739.218.2516x459   001-054-401-0347x617   \n\n                         Email Subscription Date                      Website  \n0     zunigavanessa@smith.info        2020-08-24   http://www.stephenson.com/  \n1              vmata@colon.com        2021-04-23        http://www.hobbs.com/  \n2          beckycarr@hogan.com        2020-03-25     http://www.lawrence.com/  \n3  stanleyblackwell@benson.org        2020-06-02   http://www.good-lyons.com/  \n4      colinalvarado@miles.net        2021-04-17  https://goodwin-ingram.com/  \n5          louis27@gilbert.com        2020-02-25       http://www.berger.net/  \n6          tgates@cantrell.com        2021-08-24          https://www.le.com/  \n7              asnow@colon.com        2021-04-12  https://hammond-ramsey.com/  \n8      mariokhan@ryan-pope.org        2020-01-13     https://www.bullock.net/  \n9            mdyer@escobar.net        2021-11-08           https://arias.com/  ",
            "text/html": "<div>\n<style scoped>\n    .dataframe tbody tr th:only-of-type {\n        vertical-align: middle;\n    }\n\n    .dataframe tbody tr th {\n        vertical-align: top;\n    }\n\n    .dataframe thead th {\n        text-align: right;\n    }\n</style>\n<table border=\"1\" class=\"dataframe\">\n  <thead>\n    <tr style=\"text-align: right;\">\n      <th></th>\n      <th>Index</th>\n      <th>Customer Id</th>\n      <th>First Name</th>\n      <th>Last Name</th>\n      <th>Company</th>\n      <th>City</th>\n      <th>Country</th>\n      <th>Phone 1</th>\n      <th>Phone 2</th>\n      <th>Email</th>\n      <th>Subscription Date</th>\n      <th>Website</th>\n    </tr>\n  </thead>\n  <tbody>\n    <tr>\n      <th>0</th>\n      <td>1</td>\n      <td>DD37Cf93aecA6Dc</td>\n      <td>Sheryl</td>\n      <td>Baxter</td>\n      <td>Rasmussen Group</td>\n      <td>East Leonard</td>\n      <td>Chile</td>\n      <td>229.077.5154</td>\n      <td>397.884.0519x718</td>\n      <td>zunigavanessa@smith.info</td>\n      <td>2020-08-24</td>\n      <td>http://www.stephenson.com/</td>\n    </tr>\n    <tr>\n      <th>1</th>\n      <td>2</td>\n      <td>1Ef7b82A4CAAD10</td>\n      <td>Preston</td>\n      <td>Lozano</td>\n      <td>Vega-Gentry</td>\n      <td>East Jimmychester</td>\n      <td>Djibouti</td>\n      <td>5153435776</td>\n      <td>686-620-1820x944</td>\n      <td>vmata@colon.com</td>\n      <td>2021-04-23</td>\n      <td>http://www.hobbs.com/</td>\n    </tr>\n    <tr>\n      <th>2</th>\n      <td>3</td>\n      <td>6F94879bDAfE5a6</td>\n      <td>Roy</td>\n      <td>Berry</td>\n      <td>Murillo-Perry</td>\n      <td>Isabelborough</td>\n      <td>Antigua and Barbuda</td>\n      <td>+1-539-402-0259</td>\n      <td>(496)978-3969x58947</td>\n      <td>beckycarr@hogan.com</td>\n      <td>2020-03-25</td>\n      <td>http://www.lawrence.com/</td>\n    </tr>\n    <tr>\n      <th>3</th>\n      <td>4</td>\n      <td>5Cef8BFA16c5e3c</td>\n      <td>Linda</td>\n      <td>Olsen</td>\n      <td>Dominguez, Mcmillan and Donovan</td>\n      <td>Bensonview</td>\n      <td>Dominican Republic</td>\n      <td>001-808-617-6467x12895</td>\n      <td>+1-813-324-8756</td>\n      <td>stanleyblackwell@benson.org</td>\n      <td>2020-06-02</td>\n      <td>http://www.good-lyons.com/</td>\n    </tr>\n    <tr>\n      <th>4</th>\n      <td>5</td>\n      <td>053d585Ab6b3159</td>\n      <td>Joanna</td>\n      <td>Bender</td>\n      <td>Martin, Lang and Andrade</td>\n      <td>West Priscilla</td>\n      <td>Slovakia (Slovak Republic)</td>\n      <td>001-234-203-0635x76146</td>\n      <td>001-199-446-3860x3486</td>\n      <td>colinalvarado@miles.net</td>\n      <td>2021-04-17</td>\n      <td>https://goodwin-ingram.com/</td>\n    </tr>\n    <tr>\n      <th>5</th>\n      <td>6</td>\n      <td>2d08FB17EE273F4</td>\n      <td>Aimee</td>\n      <td>Downs</td>\n      <td>Steele Group</td>\n      <td>Chavezborough</td>\n      <td>Bosnia and Herzegovina</td>\n      <td>(283)437-3886x88321</td>\n      <td>999-728-1637</td>\n      <td>louis27@gilbert.com</td>\n      <td>2020-02-25</td>\n      <td>http://www.berger.net/</td>\n    </tr>\n    <tr>\n      <th>6</th>\n      <td>7</td>\n      <td>EA4d384DfDbBf77</td>\n      <td>Darren</td>\n      <td>Peck</td>\n      <td>Lester, Woodard and Mitchell</td>\n      <td>Lake Ana</td>\n      <td>Pitcairn Islands</td>\n      <td>(496)452-6181x3291</td>\n      <td>+1-247-266-0963x4995</td>\n      <td>tgates@cantrell.com</td>\n      <td>2021-08-24</td>\n      <td>https://www.le.com/</td>\n    </tr>\n    <tr>\n      <th>7</th>\n      <td>8</td>\n      <td>0e04AFde9f225dE</td>\n      <td>Brett</td>\n      <td>Mullen</td>\n      <td>Sanford, Davenport and Giles</td>\n      <td>Kimport</td>\n      <td>Bulgaria</td>\n      <td>001-583-352-7197x297</td>\n      <td>001-333-145-0369</td>\n      <td>asnow@colon.com</td>\n      <td>2021-04-12</td>\n      <td>https://hammond-ramsey.com/</td>\n    </tr>\n    <tr>\n      <th>8</th>\n      <td>9</td>\n      <td>C2dE4dEEc489ae0</td>\n      <td>Sheryl</td>\n      <td>Meyers</td>\n      <td>Browning-Simon</td>\n      <td>Robersonstad</td>\n      <td>Cyprus</td>\n      <td>854-138-4911x5772</td>\n      <td>+1-448-910-2276x729</td>\n      <td>mariokhan@ryan-pope.org</td>\n      <td>2020-01-13</td>\n      <td>https://www.bullock.net/</td>\n    </tr>\n    <tr>\n      <th>9</th>\n      <td>10</td>\n      <td>8C2811a503C7c5a</td>\n      <td>Michelle</td>\n      <td>Gallagher</td>\n      <td>Beck-Hendrix</td>\n      <td>Elaineberg</td>\n      <td>Timor-Leste</td>\n      <td>739.218.2516x459</td>\n      <td>001-054-401-0347x617</td>\n      <td>mdyer@escobar.net</td>\n      <td>2021-11-08</td>\n      <td>https://arias.com/</td>\n    </tr>\n  </tbody>\n</table>\n</div>"
          },
          "metadata": {}
        }
      ],
      "execution_count": 47
    },
    {
      "cell_type": "code",
      "source": "df[1:10:2]",
      "metadata": {
        "trusted": true
      },
      "outputs": [
        {
          "execution_count": 50,
          "output_type": "execute_result",
          "data": {
            "text/plain": "   Index      Customer Id First Name  Last Name  \\\n1      2  1Ef7b82A4CAAD10    Preston     Lozano   \n3      4  5Cef8BFA16c5e3c      Linda      Olsen   \n5      6  2d08FB17EE273F4      Aimee      Downs   \n7      8  0e04AFde9f225dE      Brett     Mullen   \n9     10  8C2811a503C7c5a   Michelle  Gallagher   \n\n                           Company               City                 Country  \\\n1                      Vega-Gentry  East Jimmychester                Djibouti   \n3  Dominguez, Mcmillan and Donovan         Bensonview      Dominican Republic   \n5                     Steele Group      Chavezborough  Bosnia and Herzegovina   \n7     Sanford, Davenport and Giles            Kimport                Bulgaria   \n9                     Beck-Hendrix         Elaineberg             Timor-Leste   \n\n                  Phone 1               Phone 2                        Email  \\\n1              5153435776      686-620-1820x944              vmata@colon.com   \n3  001-808-617-6467x12895       +1-813-324-8756  stanleyblackwell@benson.org   \n5     (283)437-3886x88321          999-728-1637          louis27@gilbert.com   \n7    001-583-352-7197x297      001-333-145-0369              asnow@colon.com   \n9        739.218.2516x459  001-054-401-0347x617            mdyer@escobar.net   \n\n  Subscription Date                      Website  \n1        2021-04-23        http://www.hobbs.com/  \n3        2020-06-02   http://www.good-lyons.com/  \n5        2020-02-25       http://www.berger.net/  \n7        2021-04-12  https://hammond-ramsey.com/  \n9        2021-11-08           https://arias.com/  ",
            "text/html": "<div>\n<style scoped>\n    .dataframe tbody tr th:only-of-type {\n        vertical-align: middle;\n    }\n\n    .dataframe tbody tr th {\n        vertical-align: top;\n    }\n\n    .dataframe thead th {\n        text-align: right;\n    }\n</style>\n<table border=\"1\" class=\"dataframe\">\n  <thead>\n    <tr style=\"text-align: right;\">\n      <th></th>\n      <th>Index</th>\n      <th>Customer Id</th>\n      <th>First Name</th>\n      <th>Last Name</th>\n      <th>Company</th>\n      <th>City</th>\n      <th>Country</th>\n      <th>Phone 1</th>\n      <th>Phone 2</th>\n      <th>Email</th>\n      <th>Subscription Date</th>\n      <th>Website</th>\n    </tr>\n  </thead>\n  <tbody>\n    <tr>\n      <th>1</th>\n      <td>2</td>\n      <td>1Ef7b82A4CAAD10</td>\n      <td>Preston</td>\n      <td>Lozano</td>\n      <td>Vega-Gentry</td>\n      <td>East Jimmychester</td>\n      <td>Djibouti</td>\n      <td>5153435776</td>\n      <td>686-620-1820x944</td>\n      <td>vmata@colon.com</td>\n      <td>2021-04-23</td>\n      <td>http://www.hobbs.com/</td>\n    </tr>\n    <tr>\n      <th>3</th>\n      <td>4</td>\n      <td>5Cef8BFA16c5e3c</td>\n      <td>Linda</td>\n      <td>Olsen</td>\n      <td>Dominguez, Mcmillan and Donovan</td>\n      <td>Bensonview</td>\n      <td>Dominican Republic</td>\n      <td>001-808-617-6467x12895</td>\n      <td>+1-813-324-8756</td>\n      <td>stanleyblackwell@benson.org</td>\n      <td>2020-06-02</td>\n      <td>http://www.good-lyons.com/</td>\n    </tr>\n    <tr>\n      <th>5</th>\n      <td>6</td>\n      <td>2d08FB17EE273F4</td>\n      <td>Aimee</td>\n      <td>Downs</td>\n      <td>Steele Group</td>\n      <td>Chavezborough</td>\n      <td>Bosnia and Herzegovina</td>\n      <td>(283)437-3886x88321</td>\n      <td>999-728-1637</td>\n      <td>louis27@gilbert.com</td>\n      <td>2020-02-25</td>\n      <td>http://www.berger.net/</td>\n    </tr>\n    <tr>\n      <th>7</th>\n      <td>8</td>\n      <td>0e04AFde9f225dE</td>\n      <td>Brett</td>\n      <td>Mullen</td>\n      <td>Sanford, Davenport and Giles</td>\n      <td>Kimport</td>\n      <td>Bulgaria</td>\n      <td>001-583-352-7197x297</td>\n      <td>001-333-145-0369</td>\n      <td>asnow@colon.com</td>\n      <td>2021-04-12</td>\n      <td>https://hammond-ramsey.com/</td>\n    </tr>\n    <tr>\n      <th>9</th>\n      <td>10</td>\n      <td>8C2811a503C7c5a</td>\n      <td>Michelle</td>\n      <td>Gallagher</td>\n      <td>Beck-Hendrix</td>\n      <td>Elaineberg</td>\n      <td>Timor-Leste</td>\n      <td>739.218.2516x459</td>\n      <td>001-054-401-0347x617</td>\n      <td>mdyer@escobar.net</td>\n      <td>2021-11-08</td>\n      <td>https://arias.com/</td>\n    </tr>\n  </tbody>\n</table>\n</div>"
          },
          "metadata": {}
        }
      ],
      "execution_count": 50
    },
    {
      "cell_type": "code",
      "source": "df['First Name']",
      "metadata": {
        "trusted": true
      },
      "outputs": [
        {
          "execution_count": 54,
          "output_type": "execute_result",
          "data": {
            "text/plain": "0       Sheryl\n1      Preston\n2          Roy\n3        Linda\n4       Joanna\n        ...   \n95        Karl\n96        Lynn\n97        Fred\n98      Yvonne\n99    Clarence\nName: First Name, Length: 100, dtype: object"
          },
          "metadata": {}
        }
      ],
      "execution_count": 54
    },
    {
      "cell_type": "code",
      "source": "df[['First Name','Last Name']]",
      "metadata": {
        "trusted": true
      },
      "outputs": [
        {
          "execution_count": 55,
          "output_type": "execute_result",
          "data": {
            "text/plain": "   First Name Last Name\n0      Sheryl    Baxter\n1     Preston    Lozano\n2         Roy     Berry\n3       Linda     Olsen\n4      Joanna    Bender\n..        ...       ...\n95       Karl     Greer\n96       Lynn  Atkinson\n97       Fred    Guerra\n98     Yvonne    Farmer\n99   Clarence    Haynes\n\n[100 rows x 2 columns]",
            "text/html": "<div>\n<style scoped>\n    .dataframe tbody tr th:only-of-type {\n        vertical-align: middle;\n    }\n\n    .dataframe tbody tr th {\n        vertical-align: top;\n    }\n\n    .dataframe thead th {\n        text-align: right;\n    }\n</style>\n<table border=\"1\" class=\"dataframe\">\n  <thead>\n    <tr style=\"text-align: right;\">\n      <th></th>\n      <th>First Name</th>\n      <th>Last Name</th>\n    </tr>\n  </thead>\n  <tbody>\n    <tr>\n      <th>0</th>\n      <td>Sheryl</td>\n      <td>Baxter</td>\n    </tr>\n    <tr>\n      <th>1</th>\n      <td>Preston</td>\n      <td>Lozano</td>\n    </tr>\n    <tr>\n      <th>2</th>\n      <td>Roy</td>\n      <td>Berry</td>\n    </tr>\n    <tr>\n      <th>3</th>\n      <td>Linda</td>\n      <td>Olsen</td>\n    </tr>\n    <tr>\n      <th>4</th>\n      <td>Joanna</td>\n      <td>Bender</td>\n    </tr>\n    <tr>\n      <th>...</th>\n      <td>...</td>\n      <td>...</td>\n    </tr>\n    <tr>\n      <th>95</th>\n      <td>Karl</td>\n      <td>Greer</td>\n    </tr>\n    <tr>\n      <th>96</th>\n      <td>Lynn</td>\n      <td>Atkinson</td>\n    </tr>\n    <tr>\n      <th>97</th>\n      <td>Fred</td>\n      <td>Guerra</td>\n    </tr>\n    <tr>\n      <th>98</th>\n      <td>Yvonne</td>\n      <td>Farmer</td>\n    </tr>\n    <tr>\n      <th>99</th>\n      <td>Clarence</td>\n      <td>Haynes</td>\n    </tr>\n  </tbody>\n</table>\n<p>100 rows × 2 columns</p>\n</div>"
          },
          "metadata": {}
        }
      ],
      "execution_count": 55
    },
    {
      "cell_type": "code",
      "source": "df[['First Name','Last Name']][1:10:2]",
      "metadata": {
        "trusted": true
      },
      "outputs": [
        {
          "execution_count": 56,
          "output_type": "execute_result",
          "data": {
            "text/plain": "  First Name  Last Name\n1    Preston     Lozano\n3      Linda      Olsen\n5      Aimee      Downs\n7      Brett     Mullen\n9   Michelle  Gallagher",
            "text/html": "<div>\n<style scoped>\n    .dataframe tbody tr th:only-of-type {\n        vertical-align: middle;\n    }\n\n    .dataframe tbody tr th {\n        vertical-align: top;\n    }\n\n    .dataframe thead th {\n        text-align: right;\n    }\n</style>\n<table border=\"1\" class=\"dataframe\">\n  <thead>\n    <tr style=\"text-align: right;\">\n      <th></th>\n      <th>First Name</th>\n      <th>Last Name</th>\n    </tr>\n  </thead>\n  <tbody>\n    <tr>\n      <th>1</th>\n      <td>Preston</td>\n      <td>Lozano</td>\n    </tr>\n    <tr>\n      <th>3</th>\n      <td>Linda</td>\n      <td>Olsen</td>\n    </tr>\n    <tr>\n      <th>5</th>\n      <td>Aimee</td>\n      <td>Downs</td>\n    </tr>\n    <tr>\n      <th>7</th>\n      <td>Brett</td>\n      <td>Mullen</td>\n    </tr>\n    <tr>\n      <th>9</th>\n      <td>Michelle</td>\n      <td>Gallagher</td>\n    </tr>\n  </tbody>\n</table>\n</div>"
          },
          "metadata": {}
        }
      ],
      "execution_count": 56
    },
    {
      "cell_type": "code",
      "source": "df['First Name'][1:10:2]",
      "metadata": {
        "trusted": true
      },
      "outputs": [
        {
          "execution_count": 57,
          "output_type": "execute_result",
          "data": {
            "text/plain": "1     Preston\n3       Linda\n5       Aimee\n7       Brett\n9    Michelle\nName: First Name, dtype: object"
          },
          "metadata": {}
        }
      ],
      "execution_count": 57
    },
    {
      "cell_type": "code",
      "source": "for rec in df.head():\n    print(rec)",
      "metadata": {
        "trusted": true
      },
      "outputs": [
        {
          "name": "stdout",
          "text": "Index\nCustomer Id\nFirst Name\nLast Name\nCompany\nCity\nCountry\nPhone 1\nPhone 2\nEmail\nSubscription Date\nWebsite\n",
          "output_type": "stream"
        }
      ],
      "execution_count": 67
    },
    {
      "cell_type": "code",
      "source": "for rec in df.head().iterrows():\n    print(rec)",
      "metadata": {
        "trusted": true
      },
      "outputs": [
        {
          "name": "stdout",
          "text": "(0, Index                                         1\nCustomer Id                     DD37Cf93aecA6Dc\nFirst Name                               Sheryl\nLast Name                                Baxter\nCompany                         Rasmussen Group\nCity                               East Leonard\nCountry                                   Chile\nPhone 1                            229.077.5154\nPhone 2                        397.884.0519x718\nEmail                  zunigavanessa@smith.info\nSubscription Date                    2020-08-24\nWebsite              http://www.stephenson.com/\nName: 0, dtype: object)\n(1, Index                                    2\nCustomer Id                1Ef7b82A4CAAD10\nFirst Name                         Preston\nLast Name                           Lozano\nCompany                        Vega-Gentry\nCity                     East Jimmychester\nCountry                           Djibouti\nPhone 1                         5153435776\nPhone 2                   686-620-1820x944\nEmail                      vmata@colon.com\nSubscription Date               2021-04-23\nWebsite              http://www.hobbs.com/\nName: 1, dtype: object)\n(2, Index                                       3\nCustomer Id                   6F94879bDAfE5a6\nFirst Name                                Roy\nLast Name                               Berry\nCompany                         Murillo-Perry\nCity                            Isabelborough\nCountry                   Antigua and Barbuda\nPhone 1                       +1-539-402-0259\nPhone 2                   (496)978-3969x58947\nEmail                     beckycarr@hogan.com\nSubscription Date                  2020-03-25\nWebsite              http://www.lawrence.com/\nName: 2, dtype: object)\n(3, Index                                              4\nCustomer Id                          5Cef8BFA16c5e3c\nFirst Name                                     Linda\nLast Name                                      Olsen\nCompany              Dominguez, Mcmillan and Donovan\nCity                                      Bensonview\nCountry                           Dominican Republic\nPhone 1                       001-808-617-6467x12895\nPhone 2                              +1-813-324-8756\nEmail                    stanleyblackwell@benson.org\nSubscription Date                         2020-06-02\nWebsite                   http://www.good-lyons.com/\nName: 3, dtype: object)\n(4, Index                                          5\nCustomer Id                      053d585Ab6b3159\nFirst Name                                Joanna\nLast Name                                 Bender\nCompany                 Martin, Lang and Andrade\nCity                              West Priscilla\nCountry               Slovakia (Slovak Republic)\nPhone 1                   001-234-203-0635x76146\nPhone 2                    001-199-446-3860x3486\nEmail                    colinalvarado@miles.net\nSubscription Date                     2021-04-17\nWebsite              https://goodwin-ingram.com/\nName: 4, dtype: object)\n",
          "output_type": "stream"
        }
      ],
      "execution_count": 68
    },
    {
      "cell_type": "code",
      "source": "df.loc[1]",
      "metadata": {
        "trusted": true
      },
      "outputs": [
        {
          "execution_count": 72,
          "output_type": "execute_result",
          "data": {
            "text/plain": "Index                                    2\nCustomer Id                1Ef7b82A4CAAD10\nFirst Name                         Preston\nLast Name                           Lozano\nCompany                        Vega-Gentry\nCity                     East Jimmychester\nCountry                           Djibouti\nPhone 1                         5153435776\nPhone 2                   686-620-1820x944\nEmail                      vmata@colon.com\nSubscription Date               2021-04-23\nWebsite              http://www.hobbs.com/\nName: 1, dtype: object"
          },
          "metadata": {}
        }
      ],
      "execution_count": 72
    },
    {
      "cell_type": "code",
      "source": "df.loc[5]",
      "metadata": {
        "trusted": true
      },
      "outputs": [
        {
          "execution_count": 73,
          "output_type": "execute_result",
          "data": {
            "text/plain": "Index                                     6\nCustomer Id                 2d08FB17EE273F4\nFirst Name                            Aimee\nLast Name                             Downs\nCompany                        Steele Group\nCity                          Chavezborough\nCountry              Bosnia and Herzegovina\nPhone 1                 (283)437-3886x88321\nPhone 2                        999-728-1637\nEmail                   louis27@gilbert.com\nSubscription Date                2020-02-25\nWebsite              http://www.berger.net/\nName: 5, dtype: object"
          },
          "metadata": {}
        }
      ],
      "execution_count": 73
    },
    {
      "cell_type": "code",
      "source": "df.loc[5,\"First Name\"]",
      "metadata": {
        "trusted": true
      },
      "outputs": [
        {
          "execution_count": 76,
          "output_type": "execute_result",
          "data": {
            "text/plain": "'Aimee'"
          },
          "metadata": {}
        }
      ],
      "execution_count": 76
    },
    {
      "cell_type": "code",
      "source": "df.loc[5,[\"First Name\"]]",
      "metadata": {
        "trusted": true
      },
      "outputs": [
        {
          "execution_count": 78,
          "output_type": "execute_result",
          "data": {
            "text/plain": "First Name    Aimee\nName: 5, dtype: object"
          },
          "metadata": {}
        }
      ],
      "execution_count": 78
    },
    {
      "cell_type": "code",
      "source": "df.loc[5,[\"First Name\",\"Last Name\"]]",
      "metadata": {
        "trusted": true
      },
      "outputs": [
        {
          "execution_count": 77,
          "output_type": "execute_result",
          "data": {
            "text/plain": "First Name    Aimee\nLast Name     Downs\nName: 5, dtype: object"
          },
          "metadata": {}
        }
      ],
      "execution_count": 77
    },
    {
      "cell_type": "code",
      "source": "df.loc[0:5]",
      "metadata": {
        "trusted": true
      },
      "outputs": [
        {
          "execution_count": 79,
          "output_type": "execute_result",
          "data": {
            "text/plain": "   Index      Customer Id First Name Last Name  \\\n0      1  DD37Cf93aecA6Dc     Sheryl    Baxter   \n1      2  1Ef7b82A4CAAD10    Preston    Lozano   \n2      3  6F94879bDAfE5a6        Roy     Berry   \n3      4  5Cef8BFA16c5e3c      Linda     Olsen   \n4      5  053d585Ab6b3159     Joanna    Bender   \n5      6  2d08FB17EE273F4      Aimee     Downs   \n\n                           Company               City  \\\n0                  Rasmussen Group       East Leonard   \n1                      Vega-Gentry  East Jimmychester   \n2                    Murillo-Perry      Isabelborough   \n3  Dominguez, Mcmillan and Donovan         Bensonview   \n4         Martin, Lang and Andrade     West Priscilla   \n5                     Steele Group      Chavezborough   \n\n                      Country                 Phone 1                Phone 2  \\\n0                       Chile            229.077.5154       397.884.0519x718   \n1                    Djibouti              5153435776       686-620-1820x944   \n2         Antigua and Barbuda         +1-539-402-0259    (496)978-3969x58947   \n3          Dominican Republic  001-808-617-6467x12895        +1-813-324-8756   \n4  Slovakia (Slovak Republic)  001-234-203-0635x76146  001-199-446-3860x3486   \n5      Bosnia and Herzegovina     (283)437-3886x88321           999-728-1637   \n\n                         Email Subscription Date                      Website  \n0     zunigavanessa@smith.info        2020-08-24   http://www.stephenson.com/  \n1              vmata@colon.com        2021-04-23        http://www.hobbs.com/  \n2          beckycarr@hogan.com        2020-03-25     http://www.lawrence.com/  \n3  stanleyblackwell@benson.org        2020-06-02   http://www.good-lyons.com/  \n4      colinalvarado@miles.net        2021-04-17  https://goodwin-ingram.com/  \n5          louis27@gilbert.com        2020-02-25       http://www.berger.net/  ",
            "text/html": "<div>\n<style scoped>\n    .dataframe tbody tr th:only-of-type {\n        vertical-align: middle;\n    }\n\n    .dataframe tbody tr th {\n        vertical-align: top;\n    }\n\n    .dataframe thead th {\n        text-align: right;\n    }\n</style>\n<table border=\"1\" class=\"dataframe\">\n  <thead>\n    <tr style=\"text-align: right;\">\n      <th></th>\n      <th>Index</th>\n      <th>Customer Id</th>\n      <th>First Name</th>\n      <th>Last Name</th>\n      <th>Company</th>\n      <th>City</th>\n      <th>Country</th>\n      <th>Phone 1</th>\n      <th>Phone 2</th>\n      <th>Email</th>\n      <th>Subscription Date</th>\n      <th>Website</th>\n    </tr>\n  </thead>\n  <tbody>\n    <tr>\n      <th>0</th>\n      <td>1</td>\n      <td>DD37Cf93aecA6Dc</td>\n      <td>Sheryl</td>\n      <td>Baxter</td>\n      <td>Rasmussen Group</td>\n      <td>East Leonard</td>\n      <td>Chile</td>\n      <td>229.077.5154</td>\n      <td>397.884.0519x718</td>\n      <td>zunigavanessa@smith.info</td>\n      <td>2020-08-24</td>\n      <td>http://www.stephenson.com/</td>\n    </tr>\n    <tr>\n      <th>1</th>\n      <td>2</td>\n      <td>1Ef7b82A4CAAD10</td>\n      <td>Preston</td>\n      <td>Lozano</td>\n      <td>Vega-Gentry</td>\n      <td>East Jimmychester</td>\n      <td>Djibouti</td>\n      <td>5153435776</td>\n      <td>686-620-1820x944</td>\n      <td>vmata@colon.com</td>\n      <td>2021-04-23</td>\n      <td>http://www.hobbs.com/</td>\n    </tr>\n    <tr>\n      <th>2</th>\n      <td>3</td>\n      <td>6F94879bDAfE5a6</td>\n      <td>Roy</td>\n      <td>Berry</td>\n      <td>Murillo-Perry</td>\n      <td>Isabelborough</td>\n      <td>Antigua and Barbuda</td>\n      <td>+1-539-402-0259</td>\n      <td>(496)978-3969x58947</td>\n      <td>beckycarr@hogan.com</td>\n      <td>2020-03-25</td>\n      <td>http://www.lawrence.com/</td>\n    </tr>\n    <tr>\n      <th>3</th>\n      <td>4</td>\n      <td>5Cef8BFA16c5e3c</td>\n      <td>Linda</td>\n      <td>Olsen</td>\n      <td>Dominguez, Mcmillan and Donovan</td>\n      <td>Bensonview</td>\n      <td>Dominican Republic</td>\n      <td>001-808-617-6467x12895</td>\n      <td>+1-813-324-8756</td>\n      <td>stanleyblackwell@benson.org</td>\n      <td>2020-06-02</td>\n      <td>http://www.good-lyons.com/</td>\n    </tr>\n    <tr>\n      <th>4</th>\n      <td>5</td>\n      <td>053d585Ab6b3159</td>\n      <td>Joanna</td>\n      <td>Bender</td>\n      <td>Martin, Lang and Andrade</td>\n      <td>West Priscilla</td>\n      <td>Slovakia (Slovak Republic)</td>\n      <td>001-234-203-0635x76146</td>\n      <td>001-199-446-3860x3486</td>\n      <td>colinalvarado@miles.net</td>\n      <td>2021-04-17</td>\n      <td>https://goodwin-ingram.com/</td>\n    </tr>\n    <tr>\n      <th>5</th>\n      <td>6</td>\n      <td>2d08FB17EE273F4</td>\n      <td>Aimee</td>\n      <td>Downs</td>\n      <td>Steele Group</td>\n      <td>Chavezborough</td>\n      <td>Bosnia and Herzegovina</td>\n      <td>(283)437-3886x88321</td>\n      <td>999-728-1637</td>\n      <td>louis27@gilbert.com</td>\n      <td>2020-02-25</td>\n      <td>http://www.berger.net/</td>\n    </tr>\n  </tbody>\n</table>\n</div>"
          },
          "metadata": {}
        }
      ],
      "execution_count": 79
    },
    {
      "cell_type": "code",
      "source": "df.loc[0:5,\"First Name\"]",
      "metadata": {
        "trusted": true
      },
      "outputs": [
        {
          "execution_count": 80,
          "output_type": "execute_result",
          "data": {
            "text/plain": "0     Sheryl\n1    Preston\n2        Roy\n3      Linda\n4     Joanna\n5      Aimee\nName: First Name, dtype: object"
          },
          "metadata": {}
        }
      ],
      "execution_count": 80
    },
    {
      "cell_type": "code",
      "source": "df.loc[0:5,[\"First Name\"]]",
      "metadata": {
        "trusted": true
      },
      "outputs": [
        {
          "execution_count": 81,
          "output_type": "execute_result",
          "data": {
            "text/plain": "  First Name\n0     Sheryl\n1    Preston\n2        Roy\n3      Linda\n4     Joanna\n5      Aimee",
            "text/html": "<div>\n<style scoped>\n    .dataframe tbody tr th:only-of-type {\n        vertical-align: middle;\n    }\n\n    .dataframe tbody tr th {\n        vertical-align: top;\n    }\n\n    .dataframe thead th {\n        text-align: right;\n    }\n</style>\n<table border=\"1\" class=\"dataframe\">\n  <thead>\n    <tr style=\"text-align: right;\">\n      <th></th>\n      <th>First Name</th>\n    </tr>\n  </thead>\n  <tbody>\n    <tr>\n      <th>0</th>\n      <td>Sheryl</td>\n    </tr>\n    <tr>\n      <th>1</th>\n      <td>Preston</td>\n    </tr>\n    <tr>\n      <th>2</th>\n      <td>Roy</td>\n    </tr>\n    <tr>\n      <th>3</th>\n      <td>Linda</td>\n    </tr>\n    <tr>\n      <th>4</th>\n      <td>Joanna</td>\n    </tr>\n    <tr>\n      <th>5</th>\n      <td>Aimee</td>\n    </tr>\n  </tbody>\n</table>\n</div>"
          },
          "metadata": {}
        }
      ],
      "execution_count": 81
    },
    {
      "cell_type": "code",
      "source": "df.loc[0:5,[\"First Name\",\"Last Name\"]]",
      "metadata": {
        "trusted": true
      },
      "outputs": [
        {
          "execution_count": 85,
          "output_type": "execute_result",
          "data": {
            "text/plain": "  First Name Last Name\n0     Sheryl    Baxter\n1    Preston    Lozano\n2        Roy     Berry\n3      Linda     Olsen\n4     Joanna    Bender\n5      Aimee     Downs",
            "text/html": "<div>\n<style scoped>\n    .dataframe tbody tr th:only-of-type {\n        vertical-align: middle;\n    }\n\n    .dataframe tbody tr th {\n        vertical-align: top;\n    }\n\n    .dataframe thead th {\n        text-align: right;\n    }\n</style>\n<table border=\"1\" class=\"dataframe\">\n  <thead>\n    <tr style=\"text-align: right;\">\n      <th></th>\n      <th>First Name</th>\n      <th>Last Name</th>\n    </tr>\n  </thead>\n  <tbody>\n    <tr>\n      <th>0</th>\n      <td>Sheryl</td>\n      <td>Baxter</td>\n    </tr>\n    <tr>\n      <th>1</th>\n      <td>Preston</td>\n      <td>Lozano</td>\n    </tr>\n    <tr>\n      <th>2</th>\n      <td>Roy</td>\n      <td>Berry</td>\n    </tr>\n    <tr>\n      <th>3</th>\n      <td>Linda</td>\n      <td>Olsen</td>\n    </tr>\n    <tr>\n      <th>4</th>\n      <td>Joanna</td>\n      <td>Bender</td>\n    </tr>\n    <tr>\n      <th>5</th>\n      <td>Aimee</td>\n      <td>Downs</td>\n    </tr>\n  </tbody>\n</table>\n</div>"
          },
          "metadata": {}
        }
      ],
      "execution_count": 85
    },
    {
      "cell_type": "code",
      "source": "df.loc[0:5,[\"First Name\"]]",
      "metadata": {
        "trusted": true
      },
      "outputs": [
        {
          "execution_count": 86,
          "output_type": "execute_result",
          "data": {
            "text/plain": "  First Name\n0     Sheryl\n1    Preston\n2        Roy\n3      Linda\n4     Joanna\n5      Aimee",
            "text/html": "<div>\n<style scoped>\n    .dataframe tbody tr th:only-of-type {\n        vertical-align: middle;\n    }\n\n    .dataframe tbody tr th {\n        vertical-align: top;\n    }\n\n    .dataframe thead th {\n        text-align: right;\n    }\n</style>\n<table border=\"1\" class=\"dataframe\">\n  <thead>\n    <tr style=\"text-align: right;\">\n      <th></th>\n      <th>First Name</th>\n    </tr>\n  </thead>\n  <tbody>\n    <tr>\n      <th>0</th>\n      <td>Sheryl</td>\n    </tr>\n    <tr>\n      <th>1</th>\n      <td>Preston</td>\n    </tr>\n    <tr>\n      <th>2</th>\n      <td>Roy</td>\n    </tr>\n    <tr>\n      <th>3</th>\n      <td>Linda</td>\n    </tr>\n    <tr>\n      <th>4</th>\n      <td>Joanna</td>\n    </tr>\n    <tr>\n      <th>5</th>\n      <td>Aimee</td>\n    </tr>\n  </tbody>\n</table>\n</div>"
          },
          "metadata": {}
        }
      ],
      "execution_count": 86
    },
    {
      "cell_type": "code",
      "source": "df.loc[0:5,[\"City\"]]",
      "metadata": {
        "trusted": true
      },
      "outputs": [
        {
          "execution_count": 87,
          "output_type": "execute_result",
          "data": {
            "text/plain": "                City\n0       East Leonard\n1  East Jimmychester\n2      Isabelborough\n3         Bensonview\n4     West Priscilla\n5      Chavezborough",
            "text/html": "<div>\n<style scoped>\n    .dataframe tbody tr th:only-of-type {\n        vertical-align: middle;\n    }\n\n    .dataframe tbody tr th {\n        vertical-align: top;\n    }\n\n    .dataframe thead th {\n        text-align: right;\n    }\n</style>\n<table border=\"1\" class=\"dataframe\">\n  <thead>\n    <tr style=\"text-align: right;\">\n      <th></th>\n      <th>City</th>\n    </tr>\n  </thead>\n  <tbody>\n    <tr>\n      <th>0</th>\n      <td>East Leonard</td>\n    </tr>\n    <tr>\n      <th>1</th>\n      <td>East Jimmychester</td>\n    </tr>\n    <tr>\n      <th>2</th>\n      <td>Isabelborough</td>\n    </tr>\n    <tr>\n      <th>3</th>\n      <td>Bensonview</td>\n    </tr>\n    <tr>\n      <th>4</th>\n      <td>West Priscilla</td>\n    </tr>\n    <tr>\n      <th>5</th>\n      <td>Chavezborough</td>\n    </tr>\n  </tbody>\n</table>\n</div>"
          },
          "metadata": {}
        }
      ],
      "execution_count": 87
    },
    {
      "cell_type": "code",
      "source": "df.loc[0:5,\"First Name\":\"City\"]",
      "metadata": {
        "trusted": true
      },
      "outputs": [
        {
          "execution_count": 88,
          "output_type": "execute_result",
          "data": {
            "text/plain": "  First Name Last Name                          Company               City\n0     Sheryl    Baxter                  Rasmussen Group       East Leonard\n1    Preston    Lozano                      Vega-Gentry  East Jimmychester\n2        Roy     Berry                    Murillo-Perry      Isabelborough\n3      Linda     Olsen  Dominguez, Mcmillan and Donovan         Bensonview\n4     Joanna    Bender         Martin, Lang and Andrade     West Priscilla\n5      Aimee     Downs                     Steele Group      Chavezborough",
            "text/html": "<div>\n<style scoped>\n    .dataframe tbody tr th:only-of-type {\n        vertical-align: middle;\n    }\n\n    .dataframe tbody tr th {\n        vertical-align: top;\n    }\n\n    .dataframe thead th {\n        text-align: right;\n    }\n</style>\n<table border=\"1\" class=\"dataframe\">\n  <thead>\n    <tr style=\"text-align: right;\">\n      <th></th>\n      <th>First Name</th>\n      <th>Last Name</th>\n      <th>Company</th>\n      <th>City</th>\n    </tr>\n  </thead>\n  <tbody>\n    <tr>\n      <th>0</th>\n      <td>Sheryl</td>\n      <td>Baxter</td>\n      <td>Rasmussen Group</td>\n      <td>East Leonard</td>\n    </tr>\n    <tr>\n      <th>1</th>\n      <td>Preston</td>\n      <td>Lozano</td>\n      <td>Vega-Gentry</td>\n      <td>East Jimmychester</td>\n    </tr>\n    <tr>\n      <th>2</th>\n      <td>Roy</td>\n      <td>Berry</td>\n      <td>Murillo-Perry</td>\n      <td>Isabelborough</td>\n    </tr>\n    <tr>\n      <th>3</th>\n      <td>Linda</td>\n      <td>Olsen</td>\n      <td>Dominguez, Mcmillan and Donovan</td>\n      <td>Bensonview</td>\n    </tr>\n    <tr>\n      <th>4</th>\n      <td>Joanna</td>\n      <td>Bender</td>\n      <td>Martin, Lang and Andrade</td>\n      <td>West Priscilla</td>\n    </tr>\n    <tr>\n      <th>5</th>\n      <td>Aimee</td>\n      <td>Downs</td>\n      <td>Steele Group</td>\n      <td>Chavezborough</td>\n    </tr>\n  </tbody>\n</table>\n</div>"
          },
          "metadata": {}
        }
      ],
      "execution_count": 88
    },
    {
      "cell_type": "code",
      "source": "df.loc[5,\"First Name\":\"City\"]",
      "metadata": {
        "trusted": true
      },
      "outputs": [
        {
          "execution_count": 95,
          "output_type": "execute_result",
          "data": {
            "text/plain": "First Name            Aimee\nLast Name             Downs\nCompany        Steele Group\nCity          Chavezborough\nName: 5, dtype: object"
          },
          "metadata": {}
        }
      ],
      "execution_count": 95
    },
    {
      "cell_type": "code",
      "source": "df.loc[1]",
      "metadata": {
        "trusted": true
      },
      "outputs": [
        {
          "execution_count": 89,
          "output_type": "execute_result",
          "data": {
            "text/plain": "Index                                    2\nCustomer Id                1Ef7b82A4CAAD10\nFirst Name                         Preston\nLast Name                           Lozano\nCompany                        Vega-Gentry\nCity                     East Jimmychester\nCountry                           Djibouti\nPhone 1                         5153435776\nPhone 2                   686-620-1820x944\nEmail                      vmata@colon.com\nSubscription Date               2021-04-23\nWebsite              http://www.hobbs.com/\nName: 1, dtype: object"
          },
          "metadata": {}
        }
      ],
      "execution_count": 89
    },
    {
      "cell_type": "code",
      "source": "df.iloc[1]",
      "metadata": {
        "trusted": true
      },
      "outputs": [
        {
          "execution_count": 90,
          "output_type": "execute_result",
          "data": {
            "text/plain": "Index                                    2\nCustomer Id                1Ef7b82A4CAAD10\nFirst Name                         Preston\nLast Name                           Lozano\nCompany                        Vega-Gentry\nCity                     East Jimmychester\nCountry                           Djibouti\nPhone 1                         5153435776\nPhone 2                   686-620-1820x944\nEmail                      vmata@colon.com\nSubscription Date               2021-04-23\nWebsite              http://www.hobbs.com/\nName: 1, dtype: object"
          },
          "metadata": {}
        }
      ],
      "execution_count": 90
    },
    {
      "cell_type": "code",
      "source": "print(df.iloc[1,[1,2,3,4,5]])",
      "metadata": {
        "trusted": true
      },
      "outputs": [
        {
          "name": "stdout",
          "text": "Customer Id      1Ef7b82A4CAAD10\nFirst Name               Preston\nLast Name                 Lozano\nCompany              Vega-Gentry\nCity           East Jimmychester\nName: 1, dtype: object\n",
          "output_type": "stream"
        }
      ],
      "execution_count": 91
    },
    {
      "cell_type": "code",
      "source": "print(df.iloc[1,2:10])",
      "metadata": {
        "trusted": true
      },
      "outputs": [
        {
          "name": "stdout",
          "text": "First Name              Preston\nLast Name                Lozano\nCompany             Vega-Gentry\nCity          East Jimmychester\nCountry                Djibouti\nPhone 1              5153435776\nPhone 2        686-620-1820x944\nEmail           vmata@colon.com\nName: 1, dtype: object\n",
          "output_type": "stream"
        }
      ],
      "execution_count": 94
    },
    {
      "cell_type": "code",
      "source": "print(df.iloc[0:3])",
      "metadata": {
        "trusted": true
      },
      "outputs": [
        {
          "name": "stdout",
          "text": "   Index      Customer Id First Name Last Name          Company  \\\n0      1  DD37Cf93aecA6Dc     Sheryl    Baxter  Rasmussen Group   \n1      2  1Ef7b82A4CAAD10    Preston    Lozano      Vega-Gentry   \n2      3  6F94879bDAfE5a6        Roy     Berry    Murillo-Perry   \n\n                City              Country          Phone 1  \\\n0       East Leonard                Chile     229.077.5154   \n1  East Jimmychester             Djibouti       5153435776   \n2      Isabelborough  Antigua and Barbuda  +1-539-402-0259   \n\n               Phone 2                     Email Subscription Date  \\\n0     397.884.0519x718  zunigavanessa@smith.info        2020-08-24   \n1     686-620-1820x944           vmata@colon.com        2021-04-23   \n2  (496)978-3969x58947       beckycarr@hogan.com        2020-03-25   \n\n                      Website  \n0  http://www.stephenson.com/  \n1       http://www.hobbs.com/  \n2    http://www.lawrence.com/  \n",
          "output_type": "stream"
        }
      ],
      "execution_count": 96
    },
    {
      "cell_type": "code",
      "source": "print(df.iloc[0:3,1])",
      "metadata": {
        "trusted": true
      },
      "outputs": [
        {
          "name": "stdout",
          "text": "0    DD37Cf93aecA6Dc\n1    1Ef7b82A4CAAD10\n2    6F94879bDAfE5a6\nName: Customer Id, dtype: object\n",
          "output_type": "stream"
        }
      ],
      "execution_count": 97
    },
    {
      "cell_type": "code",
      "source": "print(df.iloc[0:3,1:6])\n",
      "metadata": {
        "trusted": true
      },
      "outputs": [
        {
          "name": "stdout",
          "text": "       Customer Id First Name Last Name          Company               City\n0  DD37Cf93aecA6Dc     Sheryl    Baxter  Rasmussen Group       East Leonard\n1  1Ef7b82A4CAAD10    Preston    Lozano      Vega-Gentry  East Jimmychester\n2  6F94879bDAfE5a6        Roy     Berry    Murillo-Perry      Isabelborough\n",
          "output_type": "stream"
        }
      ],
      "execution_count": 98
    },
    {
      "cell_type": "code",
      "source": "print(df.iloc[0:3,[1,2,3]])",
      "metadata": {
        "trusted": true
      },
      "outputs": [
        {
          "name": "stdout",
          "text": "       Customer Id First Name Last Name\n0  DD37Cf93aecA6Dc     Sheryl    Baxter\n1  1Ef7b82A4CAAD10    Preston    Lozano\n2  6F94879bDAfE5a6        Roy     Berry\n",
          "output_type": "stream"
        }
      ],
      "execution_count": 99
    },
    {
      "cell_type": "code",
      "source": "print(df.iloc[0:3,[1,2,3,4,5]])",
      "metadata": {
        "trusted": true
      },
      "outputs": [
        {
          "name": "stdout",
          "text": "       Customer Id First Name Last Name          Company               City\n0  DD37Cf93aecA6Dc     Sheryl    Baxter  Rasmussen Group       East Leonard\n1  1Ef7b82A4CAAD10    Preston    Lozano      Vega-Gentry  East Jimmychester\n2  6F94879bDAfE5a6        Roy     Berry    Murillo-Perry      Isabelborough\n",
          "output_type": "stream"
        }
      ],
      "execution_count": 100
    },
    {
      "cell_type": "code",
      "source": "print(df.iloc[0:3,1:6])",
      "metadata": {
        "trusted": true
      },
      "outputs": [
        {
          "name": "stdout",
          "text": "       Customer Id First Name Last Name          Company               City\n0  DD37Cf93aecA6Dc     Sheryl    Baxter  Rasmussen Group       East Leonard\n1  1Ef7b82A4CAAD10    Preston    Lozano      Vega-Gentry  East Jimmychester\n2  6F94879bDAfE5a6        Roy     Berry    Murillo-Perry      Isabelborough\n",
          "output_type": "stream"
        }
      ],
      "execution_count": 101
    },
    {
      "cell_type": "code",
      "source": "print(df.iloc[[1,2,3]])",
      "metadata": {
        "trusted": true
      },
      "outputs": [
        {
          "name": "stdout",
          "text": "   Index      Customer Id First Name Last Name  \\\n1      2  1Ef7b82A4CAAD10    Preston    Lozano   \n2      3  6F94879bDAfE5a6        Roy     Berry   \n3      4  5Cef8BFA16c5e3c      Linda     Olsen   \n\n                           Company               City              Country  \\\n1                      Vega-Gentry  East Jimmychester             Djibouti   \n2                    Murillo-Perry      Isabelborough  Antigua and Barbuda   \n3  Dominguez, Mcmillan and Donovan         Bensonview   Dominican Republic   \n\n                  Phone 1              Phone 2                        Email  \\\n1              5153435776     686-620-1820x944              vmata@colon.com   \n2         +1-539-402-0259  (496)978-3969x58947          beckycarr@hogan.com   \n3  001-808-617-6467x12895      +1-813-324-8756  stanleyblackwell@benson.org   \n\n  Subscription Date                     Website  \n1        2021-04-23       http://www.hobbs.com/  \n2        2020-03-25    http://www.lawrence.com/  \n3        2020-06-02  http://www.good-lyons.com/  \n",
          "output_type": "stream"
        }
      ],
      "execution_count": 102
    },
    {
      "cell_type": "code",
      "source": "print(df.iloc[[1,2,3],[1,2,3]])\n",
      "metadata": {
        "trusted": true
      },
      "outputs": [
        {
          "name": "stdout",
          "text": "       Customer Id First Name Last Name\n1  1Ef7b82A4CAAD10    Preston    Lozano\n2  6F94879bDAfE5a6        Roy     Berry\n3  5Cef8BFA16c5e3c      Linda     Olsen\n",
          "output_type": "stream"
        }
      ],
      "execution_count": 104
    },
    {
      "cell_type": "code",
      "source": "print(df.iloc[[1,2,3],[4,5,6]])",
      "metadata": {
        "trusted": true
      },
      "outputs": [
        {
          "name": "stdout",
          "text": "                           Company               City              Country\n1                      Vega-Gentry  East Jimmychester             Djibouti\n2                    Murillo-Perry      Isabelborough  Antigua and Barbuda\n3  Dominguez, Mcmillan and Donovan         Bensonview   Dominican Republic\n",
          "output_type": "stream"
        }
      ],
      "execution_count": 106
    },
    {
      "cell_type": "code",
      "source": "print(df.iloc[[1,2,3],[1,2,3,4,5]])",
      "metadata": {
        "trusted": true
      },
      "outputs": [
        {
          "name": "stdout",
          "text": "       Customer Id First Name Last Name                          Company  \\\n1  1Ef7b82A4CAAD10    Preston    Lozano                      Vega-Gentry   \n2  6F94879bDAfE5a6        Roy     Berry                    Murillo-Perry   \n3  5Cef8BFA16c5e3c      Linda     Olsen  Dominguez, Mcmillan and Donovan   \n\n                City  \n1  East Jimmychester  \n2      Isabelborough  \n3         Bensonview  \n",
          "output_type": "stream"
        }
      ],
      "execution_count": 107
    },
    {
      "cell_type": "code",
      "source": "print(df.iloc[:,[1,2,3,4,5]])",
      "metadata": {
        "trusted": true
      },
      "outputs": [
        {
          "name": "stdout",
          "text": "        Customer Id First Name Last Name                          Company  \\\n0   DD37Cf93aecA6Dc     Sheryl    Baxter                  Rasmussen Group   \n1   1Ef7b82A4CAAD10    Preston    Lozano                      Vega-Gentry   \n2   6F94879bDAfE5a6        Roy     Berry                    Murillo-Perry   \n3   5Cef8BFA16c5e3c      Linda     Olsen  Dominguez, Mcmillan and Donovan   \n4   053d585Ab6b3159     Joanna    Bender         Martin, Lang and Andrade   \n..              ...        ...       ...                              ...   \n95  cb8E23e48d22Eae       Karl     Greer                        Carey LLC   \n96  CeD220bdAaCfaDf       Lynn  Atkinson            Ware, Burns and Oneal   \n97  28CDbC0dFe4b1Db       Fred    Guerra                    Schmitt-Jones   \n98  c23d1D9EE8DEB0A     Yvonne    Farmer               Fitzgerald-Harrell   \n99  2354a0E336A91A1   Clarence    Haynes               Le, Nash and Cross   \n\n                 City  \n0        East Leonard  \n1   East Jimmychester  \n2       Isabelborough  \n3          Bensonview  \n4      West Priscilla  \n..                ...  \n95       East Richard  \n96       New Bradview  \n97         Ortegaland  \n98    Lake Elijahview  \n99          Judymouth  \n\n[100 rows x 5 columns]\n",
          "output_type": "stream"
        }
      ],
      "execution_count": 108
    },
    {
      "cell_type": "code",
      "source": "print(df.iloc[:,1:6])",
      "metadata": {
        "trusted": true
      },
      "outputs": [
        {
          "name": "stdout",
          "text": "        Customer Id First Name Last Name                          Company  \\\n0   DD37Cf93aecA6Dc     Sheryl    Baxter                  Rasmussen Group   \n1   1Ef7b82A4CAAD10    Preston    Lozano                      Vega-Gentry   \n2   6F94879bDAfE5a6        Roy     Berry                    Murillo-Perry   \n3   5Cef8BFA16c5e3c      Linda     Olsen  Dominguez, Mcmillan and Donovan   \n4   053d585Ab6b3159     Joanna    Bender         Martin, Lang and Andrade   \n..              ...        ...       ...                              ...   \n95  cb8E23e48d22Eae       Karl     Greer                        Carey LLC   \n96  CeD220bdAaCfaDf       Lynn  Atkinson            Ware, Burns and Oneal   \n97  28CDbC0dFe4b1Db       Fred    Guerra                    Schmitt-Jones   \n98  c23d1D9EE8DEB0A     Yvonne    Farmer               Fitzgerald-Harrell   \n99  2354a0E336A91A1   Clarence    Haynes               Le, Nash and Cross   \n\n                 City  \n0        East Leonard  \n1   East Jimmychester  \n2       Isabelborough  \n3          Bensonview  \n4      West Priscilla  \n..                ...  \n95       East Richard  \n96       New Bradview  \n97         Ortegaland  \n98    Lake Elijahview  \n99          Judymouth  \n\n[100 rows x 5 columns]\n",
          "output_type": "stream"
        }
      ],
      "execution_count": 109
    },
    {
      "cell_type": "code",
      "source": "print(df.iloc[:])",
      "metadata": {
        "trusted": true
      },
      "outputs": [
        {
          "name": "stdout",
          "text": "    Index      Customer Id First Name Last Name  \\\n0       1  DD37Cf93aecA6Dc     Sheryl    Baxter   \n1       2  1Ef7b82A4CAAD10    Preston    Lozano   \n2       3  6F94879bDAfE5a6        Roy     Berry   \n3       4  5Cef8BFA16c5e3c      Linda     Olsen   \n4       5  053d585Ab6b3159     Joanna    Bender   \n..    ...              ...        ...       ...   \n95     96  cb8E23e48d22Eae       Karl     Greer   \n96     97  CeD220bdAaCfaDf       Lynn  Atkinson   \n97     98  28CDbC0dFe4b1Db       Fred    Guerra   \n98     99  c23d1D9EE8DEB0A     Yvonne    Farmer   \n99    100  2354a0E336A91A1   Clarence    Haynes   \n\n                            Company               City  \\\n0                   Rasmussen Group       East Leonard   \n1                       Vega-Gentry  East Jimmychester   \n2                     Murillo-Perry      Isabelborough   \n3   Dominguez, Mcmillan and Donovan         Bensonview   \n4          Martin, Lang and Andrade     West Priscilla   \n..                              ...                ...   \n95                        Carey LLC       East Richard   \n96            Ware, Burns and Oneal       New Bradview   \n97                    Schmitt-Jones         Ortegaland   \n98               Fitzgerald-Harrell    Lake Elijahview   \n99               Le, Nash and Cross          Judymouth   \n\n                       Country                 Phone 1  \\\n0                        Chile            229.077.5154   \n1                     Djibouti              5153435776   \n2          Antigua and Barbuda         +1-539-402-0259   \n3           Dominican Republic  001-808-617-6467x12895   \n4   Slovakia (Slovak Republic)  001-234-203-0635x76146   \n..                         ...                     ...   \n95                      Guyana     (188)169-1674x58692   \n96                   Sri Lanka         +1-846-706-2218   \n97             Solomon Islands    +1-753-067-8419x7170   \n98                       Aruba           (530)311-9786   \n99                    Honduras           (753)813-6941   \n\n                   Phone 2                           Email Subscription Date  \\\n0         397.884.0519x718        zunigavanessa@smith.info        2020-08-24   \n1         686-620-1820x944                 vmata@colon.com        2021-04-23   \n2      (496)978-3969x58947             beckycarr@hogan.com        2020-03-25   \n3          +1-813-324-8756     stanleyblackwell@benson.org        2020-06-02   \n4    001-199-446-3860x3486         colinalvarado@miles.net        2021-04-17   \n..                     ...                             ...               ...   \n95    001-841-293-3519x614                hhart@jensen.com        2022-01-30   \n96            605.413.3198               vkemp@ferrell.com        2021-07-10   \n97   +1-632-666-7507x92121                swagner@kane.org        2021-09-18   \n98  001-869-452-0943x12424  mccarthystephen@horn-green.biz        2021-08-11   \n99            783.639.1472          colleen91@faulkner.biz        2020-03-11   \n\n                              Website  \n0          http://www.stephenson.com/  \n1               http://www.hobbs.com/  \n2            http://www.lawrence.com/  \n3          http://www.good-lyons.com/  \n4         https://goodwin-ingram.com/  \n..                                ...  \n95            http://hayes-perez.com/  \n96         https://novak-allison.com/  \n97              https://www.ross.com/  \n98               http://watkins.info/  \n99  http://www.hatfield-saunders.net/  \n\n[100 rows x 12 columns]\n",
          "output_type": "stream"
        }
      ],
      "execution_count": 110
    },
    {
      "cell_type": "code",
      "source": "print(df['Index'])",
      "metadata": {
        "trusted": true
      },
      "outputs": [
        {
          "name": "stdout",
          "text": "0       1\n1       2\n2       3\n3       4\n4       5\n     ... \n95     96\n96     97\n97     98\n98     99\n99    100\nName: Index, Length: 100, dtype: int64\n",
          "output_type": "stream"
        }
      ],
      "execution_count": 111
    },
    {
      "cell_type": "code",
      "source": "print(df['First Name'])",
      "metadata": {
        "trusted": true
      },
      "outputs": [
        {
          "name": "stdout",
          "text": "0       Sheryl\n1      Preston\n2          Roy\n3        Linda\n4       Joanna\n        ...   \n95        Karl\n96        Lynn\n97        Fred\n98      Yvonne\n99    Clarence\nName: First Name, Length: 100, dtype: object\n",
          "output_type": "stream"
        }
      ],
      "execution_count": 112
    },
    {
      "cell_type": "code",
      "source": "print(df.sort_values('Index'))",
      "metadata": {
        "trusted": true
      },
      "outputs": [
        {
          "name": "stdout",
          "text": "    Index      Customer Id First Name Last Name  \\\n0       1  DD37Cf93aecA6Dc     Sheryl    Baxter   \n1       2  1Ef7b82A4CAAD10    Preston    Lozano   \n2       3  6F94879bDAfE5a6        Roy     Berry   \n3       4  5Cef8BFA16c5e3c      Linda     Olsen   \n4       5  053d585Ab6b3159     Joanna    Bender   \n..    ...              ...        ...       ...   \n95     96  cb8E23e48d22Eae       Karl     Greer   \n96     97  CeD220bdAaCfaDf       Lynn  Atkinson   \n97     98  28CDbC0dFe4b1Db       Fred    Guerra   \n98     99  c23d1D9EE8DEB0A     Yvonne    Farmer   \n99    100  2354a0E336A91A1   Clarence    Haynes   \n\n                            Company               City  \\\n0                   Rasmussen Group       East Leonard   \n1                       Vega-Gentry  East Jimmychester   \n2                     Murillo-Perry      Isabelborough   \n3   Dominguez, Mcmillan and Donovan         Bensonview   \n4          Martin, Lang and Andrade     West Priscilla   \n..                              ...                ...   \n95                        Carey LLC       East Richard   \n96            Ware, Burns and Oneal       New Bradview   \n97                    Schmitt-Jones         Ortegaland   \n98               Fitzgerald-Harrell    Lake Elijahview   \n99               Le, Nash and Cross          Judymouth   \n\n                       Country                 Phone 1  \\\n0                        Chile            229.077.5154   \n1                     Djibouti              5153435776   \n2          Antigua and Barbuda         +1-539-402-0259   \n3           Dominican Republic  001-808-617-6467x12895   \n4   Slovakia (Slovak Republic)  001-234-203-0635x76146   \n..                         ...                     ...   \n95                      Guyana     (188)169-1674x58692   \n96                   Sri Lanka         +1-846-706-2218   \n97             Solomon Islands    +1-753-067-8419x7170   \n98                       Aruba           (530)311-9786   \n99                    Honduras           (753)813-6941   \n\n                   Phone 2                           Email Subscription Date  \\\n0         397.884.0519x718        zunigavanessa@smith.info        2020-08-24   \n1         686-620-1820x944                 vmata@colon.com        2021-04-23   \n2      (496)978-3969x58947             beckycarr@hogan.com        2020-03-25   \n3          +1-813-324-8756     stanleyblackwell@benson.org        2020-06-02   \n4    001-199-446-3860x3486         colinalvarado@miles.net        2021-04-17   \n..                     ...                             ...               ...   \n95    001-841-293-3519x614                hhart@jensen.com        2022-01-30   \n96            605.413.3198               vkemp@ferrell.com        2021-07-10   \n97   +1-632-666-7507x92121                swagner@kane.org        2021-09-18   \n98  001-869-452-0943x12424  mccarthystephen@horn-green.biz        2021-08-11   \n99            783.639.1472          colleen91@faulkner.biz        2020-03-11   \n\n                              Website  \n0          http://www.stephenson.com/  \n1               http://www.hobbs.com/  \n2            http://www.lawrence.com/  \n3          http://www.good-lyons.com/  \n4         https://goodwin-ingram.com/  \n..                                ...  \n95            http://hayes-perez.com/  \n96         https://novak-allison.com/  \n97              https://www.ross.com/  \n98               http://watkins.info/  \n99  http://www.hatfield-saunders.net/  \n\n[100 rows x 12 columns]\n",
          "output_type": "stream"
        }
      ],
      "execution_count": 114
    },
    {
      "cell_type": "code",
      "source": "df['Name']=df['First Name']+' '+df['Last Name']",
      "metadata": {
        "trusted": true
      },
      "outputs": [],
      "execution_count": 122
    },
    {
      "cell_type": "code",
      "source": "df",
      "metadata": {
        "trusted": true
      },
      "outputs": [
        {
          "execution_count": 123,
          "output_type": "execute_result",
          "data": {
            "text/plain": "    Index      Customer Id First Name Last Name  \\\n0       1  DD37Cf93aecA6Dc     Sheryl    Baxter   \n1       2  1Ef7b82A4CAAD10    Preston    Lozano   \n2       3  6F94879bDAfE5a6        Roy     Berry   \n3       4  5Cef8BFA16c5e3c      Linda     Olsen   \n4       5  053d585Ab6b3159     Joanna    Bender   \n..    ...              ...        ...       ...   \n95     96  cb8E23e48d22Eae       Karl     Greer   \n96     97  CeD220bdAaCfaDf       Lynn  Atkinson   \n97     98  28CDbC0dFe4b1Db       Fred    Guerra   \n98     99  c23d1D9EE8DEB0A     Yvonne    Farmer   \n99    100  2354a0E336A91A1   Clarence    Haynes   \n\n                            Company               City  \\\n0                   Rasmussen Group       East Leonard   \n1                       Vega-Gentry  East Jimmychester   \n2                     Murillo-Perry      Isabelborough   \n3   Dominguez, Mcmillan and Donovan         Bensonview   \n4          Martin, Lang and Andrade     West Priscilla   \n..                              ...                ...   \n95                        Carey LLC       East Richard   \n96            Ware, Burns and Oneal       New Bradview   \n97                    Schmitt-Jones         Ortegaland   \n98               Fitzgerald-Harrell    Lake Elijahview   \n99               Le, Nash and Cross          Judymouth   \n\n                       Country                 Phone 1  \\\n0                        Chile            229.077.5154   \n1                     Djibouti              5153435776   \n2          Antigua and Barbuda         +1-539-402-0259   \n3           Dominican Republic  001-808-617-6467x12895   \n4   Slovakia (Slovak Republic)  001-234-203-0635x76146   \n..                         ...                     ...   \n95                      Guyana     (188)169-1674x58692   \n96                   Sri Lanka         +1-846-706-2218   \n97             Solomon Islands    +1-753-067-8419x7170   \n98                       Aruba           (530)311-9786   \n99                    Honduras           (753)813-6941   \n\n                   Phone 2                           Email Subscription Date  \\\n0         397.884.0519x718        zunigavanessa@smith.info        2020-08-24   \n1         686-620-1820x944                 vmata@colon.com        2021-04-23   \n2      (496)978-3969x58947             beckycarr@hogan.com        2020-03-25   \n3          +1-813-324-8756     stanleyblackwell@benson.org        2020-06-02   \n4    001-199-446-3860x3486         colinalvarado@miles.net        2021-04-17   \n..                     ...                             ...               ...   \n95    001-841-293-3519x614                hhart@jensen.com        2022-01-30   \n96            605.413.3198               vkemp@ferrell.com        2021-07-10   \n97   +1-632-666-7507x92121                swagner@kane.org        2021-09-18   \n98  001-869-452-0943x12424  mccarthystephen@horn-green.biz        2021-08-11   \n99            783.639.1472          colleen91@faulkner.biz        2020-03-11   \n\n                              Website        Full Name             Name  \n0          http://www.stephenson.com/    Sheryl Baxter    Sheryl Baxter  \n1               http://www.hobbs.com/   Preston Lozano   Preston Lozano  \n2            http://www.lawrence.com/        Roy Berry        Roy Berry  \n3          http://www.good-lyons.com/      Linda Olsen      Linda Olsen  \n4         https://goodwin-ingram.com/    Joanna Bender    Joanna Bender  \n..                                ...              ...              ...  \n95            http://hayes-perez.com/       Karl Greer       Karl Greer  \n96         https://novak-allison.com/    Lynn Atkinson    Lynn Atkinson  \n97              https://www.ross.com/      Fred Guerra      Fred Guerra  \n98               http://watkins.info/    Yvonne Farmer    Yvonne Farmer  \n99  http://www.hatfield-saunders.net/  Clarence Haynes  Clarence Haynes  \n\n[100 rows x 14 columns]",
            "text/html": "<div>\n<style scoped>\n    .dataframe tbody tr th:only-of-type {\n        vertical-align: middle;\n    }\n\n    .dataframe tbody tr th {\n        vertical-align: top;\n    }\n\n    .dataframe thead th {\n        text-align: right;\n    }\n</style>\n<table border=\"1\" class=\"dataframe\">\n  <thead>\n    <tr style=\"text-align: right;\">\n      <th></th>\n      <th>Index</th>\n      <th>Customer Id</th>\n      <th>First Name</th>\n      <th>Last Name</th>\n      <th>Company</th>\n      <th>City</th>\n      <th>Country</th>\n      <th>Phone 1</th>\n      <th>Phone 2</th>\n      <th>Email</th>\n      <th>Subscription Date</th>\n      <th>Website</th>\n      <th>Full Name</th>\n      <th>Name</th>\n    </tr>\n  </thead>\n  <tbody>\n    <tr>\n      <th>0</th>\n      <td>1</td>\n      <td>DD37Cf93aecA6Dc</td>\n      <td>Sheryl</td>\n      <td>Baxter</td>\n      <td>Rasmussen Group</td>\n      <td>East Leonard</td>\n      <td>Chile</td>\n      <td>229.077.5154</td>\n      <td>397.884.0519x718</td>\n      <td>zunigavanessa@smith.info</td>\n      <td>2020-08-24</td>\n      <td>http://www.stephenson.com/</td>\n      <td>Sheryl Baxter</td>\n      <td>Sheryl Baxter</td>\n    </tr>\n    <tr>\n      <th>1</th>\n      <td>2</td>\n      <td>1Ef7b82A4CAAD10</td>\n      <td>Preston</td>\n      <td>Lozano</td>\n      <td>Vega-Gentry</td>\n      <td>East Jimmychester</td>\n      <td>Djibouti</td>\n      <td>5153435776</td>\n      <td>686-620-1820x944</td>\n      <td>vmata@colon.com</td>\n      <td>2021-04-23</td>\n      <td>http://www.hobbs.com/</td>\n      <td>Preston Lozano</td>\n      <td>Preston Lozano</td>\n    </tr>\n    <tr>\n      <th>2</th>\n      <td>3</td>\n      <td>6F94879bDAfE5a6</td>\n      <td>Roy</td>\n      <td>Berry</td>\n      <td>Murillo-Perry</td>\n      <td>Isabelborough</td>\n      <td>Antigua and Barbuda</td>\n      <td>+1-539-402-0259</td>\n      <td>(496)978-3969x58947</td>\n      <td>beckycarr@hogan.com</td>\n      <td>2020-03-25</td>\n      <td>http://www.lawrence.com/</td>\n      <td>Roy Berry</td>\n      <td>Roy Berry</td>\n    </tr>\n    <tr>\n      <th>3</th>\n      <td>4</td>\n      <td>5Cef8BFA16c5e3c</td>\n      <td>Linda</td>\n      <td>Olsen</td>\n      <td>Dominguez, Mcmillan and Donovan</td>\n      <td>Bensonview</td>\n      <td>Dominican Republic</td>\n      <td>001-808-617-6467x12895</td>\n      <td>+1-813-324-8756</td>\n      <td>stanleyblackwell@benson.org</td>\n      <td>2020-06-02</td>\n      <td>http://www.good-lyons.com/</td>\n      <td>Linda Olsen</td>\n      <td>Linda Olsen</td>\n    </tr>\n    <tr>\n      <th>4</th>\n      <td>5</td>\n      <td>053d585Ab6b3159</td>\n      <td>Joanna</td>\n      <td>Bender</td>\n      <td>Martin, Lang and Andrade</td>\n      <td>West Priscilla</td>\n      <td>Slovakia (Slovak Republic)</td>\n      <td>001-234-203-0635x76146</td>\n      <td>001-199-446-3860x3486</td>\n      <td>colinalvarado@miles.net</td>\n      <td>2021-04-17</td>\n      <td>https://goodwin-ingram.com/</td>\n      <td>Joanna Bender</td>\n      <td>Joanna Bender</td>\n    </tr>\n    <tr>\n      <th>...</th>\n      <td>...</td>\n      <td>...</td>\n      <td>...</td>\n      <td>...</td>\n      <td>...</td>\n      <td>...</td>\n      <td>...</td>\n      <td>...</td>\n      <td>...</td>\n      <td>...</td>\n      <td>...</td>\n      <td>...</td>\n      <td>...</td>\n      <td>...</td>\n    </tr>\n    <tr>\n      <th>95</th>\n      <td>96</td>\n      <td>cb8E23e48d22Eae</td>\n      <td>Karl</td>\n      <td>Greer</td>\n      <td>Carey LLC</td>\n      <td>East Richard</td>\n      <td>Guyana</td>\n      <td>(188)169-1674x58692</td>\n      <td>001-841-293-3519x614</td>\n      <td>hhart@jensen.com</td>\n      <td>2022-01-30</td>\n      <td>http://hayes-perez.com/</td>\n      <td>Karl Greer</td>\n      <td>Karl Greer</td>\n    </tr>\n    <tr>\n      <th>96</th>\n      <td>97</td>\n      <td>CeD220bdAaCfaDf</td>\n      <td>Lynn</td>\n      <td>Atkinson</td>\n      <td>Ware, Burns and Oneal</td>\n      <td>New Bradview</td>\n      <td>Sri Lanka</td>\n      <td>+1-846-706-2218</td>\n      <td>605.413.3198</td>\n      <td>vkemp@ferrell.com</td>\n      <td>2021-07-10</td>\n      <td>https://novak-allison.com/</td>\n      <td>Lynn Atkinson</td>\n      <td>Lynn Atkinson</td>\n    </tr>\n    <tr>\n      <th>97</th>\n      <td>98</td>\n      <td>28CDbC0dFe4b1Db</td>\n      <td>Fred</td>\n      <td>Guerra</td>\n      <td>Schmitt-Jones</td>\n      <td>Ortegaland</td>\n      <td>Solomon Islands</td>\n      <td>+1-753-067-8419x7170</td>\n      <td>+1-632-666-7507x92121</td>\n      <td>swagner@kane.org</td>\n      <td>2021-09-18</td>\n      <td>https://www.ross.com/</td>\n      <td>Fred Guerra</td>\n      <td>Fred Guerra</td>\n    </tr>\n    <tr>\n      <th>98</th>\n      <td>99</td>\n      <td>c23d1D9EE8DEB0A</td>\n      <td>Yvonne</td>\n      <td>Farmer</td>\n      <td>Fitzgerald-Harrell</td>\n      <td>Lake Elijahview</td>\n      <td>Aruba</td>\n      <td>(530)311-9786</td>\n      <td>001-869-452-0943x12424</td>\n      <td>mccarthystephen@horn-green.biz</td>\n      <td>2021-08-11</td>\n      <td>http://watkins.info/</td>\n      <td>Yvonne Farmer</td>\n      <td>Yvonne Farmer</td>\n    </tr>\n    <tr>\n      <th>99</th>\n      <td>100</td>\n      <td>2354a0E336A91A1</td>\n      <td>Clarence</td>\n      <td>Haynes</td>\n      <td>Le, Nash and Cross</td>\n      <td>Judymouth</td>\n      <td>Honduras</td>\n      <td>(753)813-6941</td>\n      <td>783.639.1472</td>\n      <td>colleen91@faulkner.biz</td>\n      <td>2020-03-11</td>\n      <td>http://www.hatfield-saunders.net/</td>\n      <td>Clarence Haynes</td>\n      <td>Clarence Haynes</td>\n    </tr>\n  </tbody>\n</table>\n<p>100 rows × 14 columns</p>\n</div>"
          },
          "metadata": {}
        }
      ],
      "execution_count": 123
    },
    {
      "cell_type": "code",
      "source": "df['Name']",
      "metadata": {
        "trusted": true
      },
      "outputs": [
        {
          "execution_count": 124,
          "output_type": "execute_result",
          "data": {
            "text/plain": "0       Sheryl Baxter\n1      Preston Lozano\n2           Roy Berry\n3         Linda Olsen\n4       Joanna Bender\n           ...       \n95         Karl Greer\n96      Lynn Atkinson\n97        Fred Guerra\n98      Yvonne Farmer\n99    Clarence Haynes\nName: Name, Length: 100, dtype: object"
          },
          "metadata": {}
        }
      ],
      "execution_count": 124
    },
    {
      "cell_type": "code",
      "source": "df['Name'][:]",
      "metadata": {
        "trusted": true
      },
      "outputs": [
        {
          "execution_count": 125,
          "output_type": "execute_result",
          "data": {
            "text/plain": "0       Sheryl Baxter\n1      Preston Lozano\n2           Roy Berry\n3         Linda Olsen\n4       Joanna Bender\n           ...       \n95         Karl Greer\n96      Lynn Atkinson\n97        Fred Guerra\n98      Yvonne Farmer\n99    Clarence Haynes\nName: Name, Length: 100, dtype: object"
          },
          "metadata": {}
        }
      ],
      "execution_count": 125
    },
    {
      "cell_type": "code",
      "source": "df['Name'][1:10]",
      "metadata": {
        "trusted": true
      },
      "outputs": [
        {
          "execution_count": 126,
          "output_type": "execute_result",
          "data": {
            "text/plain": "1        Preston Lozano\n2             Roy Berry\n3           Linda Olsen\n4         Joanna Bender\n5           Aimee Downs\n6           Darren Peck\n7          Brett Mullen\n8         Sheryl Meyers\n9    Michelle Gallagher\nName: Name, dtype: object"
          },
          "metadata": {}
        }
      ],
      "execution_count": 126
    },
    {
      "cell_type": "code",
      "source": "df['Name'][1:10:2]",
      "metadata": {
        "trusted": true
      },
      "outputs": [
        {
          "execution_count": 127,
          "output_type": "execute_result",
          "data": {
            "text/plain": "1        Preston Lozano\n3           Linda Olsen\n5           Aimee Downs\n7          Brett Mullen\n9    Michelle Gallagher\nName: Name, dtype: object"
          },
          "metadata": {}
        }
      ],
      "execution_count": 127
    },
    {
      "cell_type": "code",
      "source": "df['Fake Name']='Fake '+df['Name']",
      "metadata": {
        "trusted": true
      },
      "outputs": [],
      "execution_count": 129
    },
    {
      "cell_type": "code",
      "source": "df['Fake Name']",
      "metadata": {
        "trusted": true
      },
      "outputs": [
        {
          "execution_count": 130,
          "output_type": "execute_result",
          "data": {
            "text/plain": "0       Fake Sheryl Baxter\n1      Fake Preston Lozano\n2           Fake Roy Berry\n3         Fake Linda Olsen\n4       Fake Joanna Bender\n              ...         \n95         Fake Karl Greer\n96      Fake Lynn Atkinson\n97        Fake Fred Guerra\n98      Fake Yvonne Farmer\n99    Fake Clarence Haynes\nName: Fake Name, Length: 100, dtype: object"
          },
          "metadata": {}
        }
      ],
      "execution_count": 130
    },
    {
      "cell_type": "code",
      "source": "df.drop(columns=\"Fake Name\")",
      "metadata": {
        "trusted": true
      },
      "outputs": [
        {
          "execution_count": 133,
          "output_type": "execute_result",
          "data": {
            "text/plain": "    Index      Customer Id First Name Last Name  \\\n0       1  DD37Cf93aecA6Dc     Sheryl    Baxter   \n1       2  1Ef7b82A4CAAD10    Preston    Lozano   \n2       3  6F94879bDAfE5a6        Roy     Berry   \n3       4  5Cef8BFA16c5e3c      Linda     Olsen   \n4       5  053d585Ab6b3159     Joanna    Bender   \n..    ...              ...        ...       ...   \n95     96  cb8E23e48d22Eae       Karl     Greer   \n96     97  CeD220bdAaCfaDf       Lynn  Atkinson   \n97     98  28CDbC0dFe4b1Db       Fred    Guerra   \n98     99  c23d1D9EE8DEB0A     Yvonne    Farmer   \n99    100  2354a0E336A91A1   Clarence    Haynes   \n\n                            Company               City  \\\n0                   Rasmussen Group       East Leonard   \n1                       Vega-Gentry  East Jimmychester   \n2                     Murillo-Perry      Isabelborough   \n3   Dominguez, Mcmillan and Donovan         Bensonview   \n4          Martin, Lang and Andrade     West Priscilla   \n..                              ...                ...   \n95                        Carey LLC       East Richard   \n96            Ware, Burns and Oneal       New Bradview   \n97                    Schmitt-Jones         Ortegaland   \n98               Fitzgerald-Harrell    Lake Elijahview   \n99               Le, Nash and Cross          Judymouth   \n\n                       Country                 Phone 1  \\\n0                        Chile            229.077.5154   \n1                     Djibouti              5153435776   \n2          Antigua and Barbuda         +1-539-402-0259   \n3           Dominican Republic  001-808-617-6467x12895   \n4   Slovakia (Slovak Republic)  001-234-203-0635x76146   \n..                         ...                     ...   \n95                      Guyana     (188)169-1674x58692   \n96                   Sri Lanka         +1-846-706-2218   \n97             Solomon Islands    +1-753-067-8419x7170   \n98                       Aruba           (530)311-9786   \n99                    Honduras           (753)813-6941   \n\n                   Phone 2                           Email Subscription Date  \\\n0         397.884.0519x718        zunigavanessa@smith.info        2020-08-24   \n1         686-620-1820x944                 vmata@colon.com        2021-04-23   \n2      (496)978-3969x58947             beckycarr@hogan.com        2020-03-25   \n3          +1-813-324-8756     stanleyblackwell@benson.org        2020-06-02   \n4    001-199-446-3860x3486         colinalvarado@miles.net        2021-04-17   \n..                     ...                             ...               ...   \n95    001-841-293-3519x614                hhart@jensen.com        2022-01-30   \n96            605.413.3198               vkemp@ferrell.com        2021-07-10   \n97   +1-632-666-7507x92121                swagner@kane.org        2021-09-18   \n98  001-869-452-0943x12424  mccarthystephen@horn-green.biz        2021-08-11   \n99            783.639.1472          colleen91@faulkner.biz        2020-03-11   \n\n                              Website        Full Name             Name  \n0          http://www.stephenson.com/    Sheryl Baxter    Sheryl Baxter  \n1               http://www.hobbs.com/   Preston Lozano   Preston Lozano  \n2            http://www.lawrence.com/        Roy Berry        Roy Berry  \n3          http://www.good-lyons.com/      Linda Olsen      Linda Olsen  \n4         https://goodwin-ingram.com/    Joanna Bender    Joanna Bender  \n..                                ...              ...              ...  \n95            http://hayes-perez.com/       Karl Greer       Karl Greer  \n96         https://novak-allison.com/    Lynn Atkinson    Lynn Atkinson  \n97              https://www.ross.com/      Fred Guerra      Fred Guerra  \n98               http://watkins.info/    Yvonne Farmer    Yvonne Farmer  \n99  http://www.hatfield-saunders.net/  Clarence Haynes  Clarence Haynes  \n\n[100 rows x 14 columns]",
            "text/html": "<div>\n<style scoped>\n    .dataframe tbody tr th:only-of-type {\n        vertical-align: middle;\n    }\n\n    .dataframe tbody tr th {\n        vertical-align: top;\n    }\n\n    .dataframe thead th {\n        text-align: right;\n    }\n</style>\n<table border=\"1\" class=\"dataframe\">\n  <thead>\n    <tr style=\"text-align: right;\">\n      <th></th>\n      <th>Index</th>\n      <th>Customer Id</th>\n      <th>First Name</th>\n      <th>Last Name</th>\n      <th>Company</th>\n      <th>City</th>\n      <th>Country</th>\n      <th>Phone 1</th>\n      <th>Phone 2</th>\n      <th>Email</th>\n      <th>Subscription Date</th>\n      <th>Website</th>\n      <th>Full Name</th>\n      <th>Name</th>\n    </tr>\n  </thead>\n  <tbody>\n    <tr>\n      <th>0</th>\n      <td>1</td>\n      <td>DD37Cf93aecA6Dc</td>\n      <td>Sheryl</td>\n      <td>Baxter</td>\n      <td>Rasmussen Group</td>\n      <td>East Leonard</td>\n      <td>Chile</td>\n      <td>229.077.5154</td>\n      <td>397.884.0519x718</td>\n      <td>zunigavanessa@smith.info</td>\n      <td>2020-08-24</td>\n      <td>http://www.stephenson.com/</td>\n      <td>Sheryl Baxter</td>\n      <td>Sheryl Baxter</td>\n    </tr>\n    <tr>\n      <th>1</th>\n      <td>2</td>\n      <td>1Ef7b82A4CAAD10</td>\n      <td>Preston</td>\n      <td>Lozano</td>\n      <td>Vega-Gentry</td>\n      <td>East Jimmychester</td>\n      <td>Djibouti</td>\n      <td>5153435776</td>\n      <td>686-620-1820x944</td>\n      <td>vmata@colon.com</td>\n      <td>2021-04-23</td>\n      <td>http://www.hobbs.com/</td>\n      <td>Preston Lozano</td>\n      <td>Preston Lozano</td>\n    </tr>\n    <tr>\n      <th>2</th>\n      <td>3</td>\n      <td>6F94879bDAfE5a6</td>\n      <td>Roy</td>\n      <td>Berry</td>\n      <td>Murillo-Perry</td>\n      <td>Isabelborough</td>\n      <td>Antigua and Barbuda</td>\n      <td>+1-539-402-0259</td>\n      <td>(496)978-3969x58947</td>\n      <td>beckycarr@hogan.com</td>\n      <td>2020-03-25</td>\n      <td>http://www.lawrence.com/</td>\n      <td>Roy Berry</td>\n      <td>Roy Berry</td>\n    </tr>\n    <tr>\n      <th>3</th>\n      <td>4</td>\n      <td>5Cef8BFA16c5e3c</td>\n      <td>Linda</td>\n      <td>Olsen</td>\n      <td>Dominguez, Mcmillan and Donovan</td>\n      <td>Bensonview</td>\n      <td>Dominican Republic</td>\n      <td>001-808-617-6467x12895</td>\n      <td>+1-813-324-8756</td>\n      <td>stanleyblackwell@benson.org</td>\n      <td>2020-06-02</td>\n      <td>http://www.good-lyons.com/</td>\n      <td>Linda Olsen</td>\n      <td>Linda Olsen</td>\n    </tr>\n    <tr>\n      <th>4</th>\n      <td>5</td>\n      <td>053d585Ab6b3159</td>\n      <td>Joanna</td>\n      <td>Bender</td>\n      <td>Martin, Lang and Andrade</td>\n      <td>West Priscilla</td>\n      <td>Slovakia (Slovak Republic)</td>\n      <td>001-234-203-0635x76146</td>\n      <td>001-199-446-3860x3486</td>\n      <td>colinalvarado@miles.net</td>\n      <td>2021-04-17</td>\n      <td>https://goodwin-ingram.com/</td>\n      <td>Joanna Bender</td>\n      <td>Joanna Bender</td>\n    </tr>\n    <tr>\n      <th>...</th>\n      <td>...</td>\n      <td>...</td>\n      <td>...</td>\n      <td>...</td>\n      <td>...</td>\n      <td>...</td>\n      <td>...</td>\n      <td>...</td>\n      <td>...</td>\n      <td>...</td>\n      <td>...</td>\n      <td>...</td>\n      <td>...</td>\n      <td>...</td>\n    </tr>\n    <tr>\n      <th>95</th>\n      <td>96</td>\n      <td>cb8E23e48d22Eae</td>\n      <td>Karl</td>\n      <td>Greer</td>\n      <td>Carey LLC</td>\n      <td>East Richard</td>\n      <td>Guyana</td>\n      <td>(188)169-1674x58692</td>\n      <td>001-841-293-3519x614</td>\n      <td>hhart@jensen.com</td>\n      <td>2022-01-30</td>\n      <td>http://hayes-perez.com/</td>\n      <td>Karl Greer</td>\n      <td>Karl Greer</td>\n    </tr>\n    <tr>\n      <th>96</th>\n      <td>97</td>\n      <td>CeD220bdAaCfaDf</td>\n      <td>Lynn</td>\n      <td>Atkinson</td>\n      <td>Ware, Burns and Oneal</td>\n      <td>New Bradview</td>\n      <td>Sri Lanka</td>\n      <td>+1-846-706-2218</td>\n      <td>605.413.3198</td>\n      <td>vkemp@ferrell.com</td>\n      <td>2021-07-10</td>\n      <td>https://novak-allison.com/</td>\n      <td>Lynn Atkinson</td>\n      <td>Lynn Atkinson</td>\n    </tr>\n    <tr>\n      <th>97</th>\n      <td>98</td>\n      <td>28CDbC0dFe4b1Db</td>\n      <td>Fred</td>\n      <td>Guerra</td>\n      <td>Schmitt-Jones</td>\n      <td>Ortegaland</td>\n      <td>Solomon Islands</td>\n      <td>+1-753-067-8419x7170</td>\n      <td>+1-632-666-7507x92121</td>\n      <td>swagner@kane.org</td>\n      <td>2021-09-18</td>\n      <td>https://www.ross.com/</td>\n      <td>Fred Guerra</td>\n      <td>Fred Guerra</td>\n    </tr>\n    <tr>\n      <th>98</th>\n      <td>99</td>\n      <td>c23d1D9EE8DEB0A</td>\n      <td>Yvonne</td>\n      <td>Farmer</td>\n      <td>Fitzgerald-Harrell</td>\n      <td>Lake Elijahview</td>\n      <td>Aruba</td>\n      <td>(530)311-9786</td>\n      <td>001-869-452-0943x12424</td>\n      <td>mccarthystephen@horn-green.biz</td>\n      <td>2021-08-11</td>\n      <td>http://watkins.info/</td>\n      <td>Yvonne Farmer</td>\n      <td>Yvonne Farmer</td>\n    </tr>\n    <tr>\n      <th>99</th>\n      <td>100</td>\n      <td>2354a0E336A91A1</td>\n      <td>Clarence</td>\n      <td>Haynes</td>\n      <td>Le, Nash and Cross</td>\n      <td>Judymouth</td>\n      <td>Honduras</td>\n      <td>(753)813-6941</td>\n      <td>783.639.1472</td>\n      <td>colleen91@faulkner.biz</td>\n      <td>2020-03-11</td>\n      <td>http://www.hatfield-saunders.net/</td>\n      <td>Clarence Haynes</td>\n      <td>Clarence Haynes</td>\n    </tr>\n  </tbody>\n</table>\n<p>100 rows × 14 columns</p>\n</div>"
          },
          "metadata": {}
        }
      ],
      "execution_count": 133
    },
    {
      "cell_type": "code",
      "source": "df.columns",
      "metadata": {
        "trusted": true
      },
      "outputs": [
        {
          "execution_count": 137,
          "output_type": "execute_result",
          "data": {
            "text/plain": "Index(['Index', 'Customer Id', 'First Name', 'Last Name', 'Company', 'City',\n       'Country', 'Phone 1', 'Phone 2', 'Email', 'Subscription Date',\n       'Website', 'Full Name', 'Name', 'Fake Name'],\n      dtype='object')"
          },
          "metadata": {}
        }
      ],
      "execution_count": 137
    },
    {
      "cell_type": "code",
      "source": "df['Fake Name']",
      "metadata": {
        "trusted": true
      },
      "outputs": [
        {
          "execution_count": 138,
          "output_type": "execute_result",
          "data": {
            "text/plain": "0       Fake Sheryl Baxter\n1      Fake Preston Lozano\n2           Fake Roy Berry\n3         Fake Linda Olsen\n4       Fake Joanna Bender\n              ...         \n95         Fake Karl Greer\n96      Fake Lynn Atkinson\n97        Fake Fred Guerra\n98      Fake Yvonne Farmer\n99    Fake Clarence Haynes\nName: Fake Name, Length: 100, dtype: object"
          },
          "metadata": {}
        }
      ],
      "execution_count": 138
    },
    {
      "cell_type": "code",
      "source": "df.drop(columns=\"Fake Name\",inplace=True)",
      "metadata": {
        "trusted": true
      },
      "outputs": [],
      "execution_count": 140
    },
    {
      "cell_type": "code",
      "source": "df.columns",
      "metadata": {
        "trusted": true
      },
      "outputs": [
        {
          "execution_count": 142,
          "output_type": "execute_result",
          "data": {
            "text/plain": "Index(['Index', 'Customer Id', 'First Name', 'Last Name', 'Company', 'City',\n       'Country', 'Phone 1', 'Phone 2', 'Email', 'Subscription Date',\n       'Website', 'Full Name', 'Name'],\n      dtype='object')"
          },
          "metadata": {}
        }
      ],
      "execution_count": 142
    },
    {
      "cell_type": "code",
      "source": "dupe=df.duplicated()",
      "metadata": {
        "trusted": true
      },
      "outputs": [],
      "execution_count": 143
    },
    {
      "cell_type": "code",
      "source": "dupe",
      "metadata": {
        "trusted": true
      },
      "outputs": [
        {
          "execution_count": 144,
          "output_type": "execute_result",
          "data": {
            "text/plain": "0     False\n1     False\n2     False\n3     False\n4     False\n      ...  \n95    False\n96    False\n97    False\n98    False\n99    False\nLength: 100, dtype: bool"
          },
          "metadata": {}
        }
      ],
      "execution_count": 144
    },
    {
      "cell_type": "code",
      "source": "dupe.describe()",
      "metadata": {
        "trusted": true
      },
      "outputs": [
        {
          "execution_count": 145,
          "output_type": "execute_result",
          "data": {
            "text/plain": "count       100\nunique        1\ntop       False\nfreq        100\ndtype: object"
          },
          "metadata": {}
        }
      ],
      "execution_count": 145
    },
    {
      "cell_type": "code",
      "source": "df.describe()",
      "metadata": {
        "trusted": true
      },
      "outputs": [
        {
          "execution_count": 146,
          "output_type": "execute_result",
          "data": {
            "text/plain": "            Index\ncount  100.000000\nmean    50.500000\nstd     29.011492\nmin      1.000000\n25%     25.750000\n50%     50.500000\n75%     75.250000\nmax    100.000000",
            "text/html": "<div>\n<style scoped>\n    .dataframe tbody tr th:only-of-type {\n        vertical-align: middle;\n    }\n\n    .dataframe tbody tr th {\n        vertical-align: top;\n    }\n\n    .dataframe thead th {\n        text-align: right;\n    }\n</style>\n<table border=\"1\" class=\"dataframe\">\n  <thead>\n    <tr style=\"text-align: right;\">\n      <th></th>\n      <th>Index</th>\n    </tr>\n  </thead>\n  <tbody>\n    <tr>\n      <th>count</th>\n      <td>100.000000</td>\n    </tr>\n    <tr>\n      <th>mean</th>\n      <td>50.500000</td>\n    </tr>\n    <tr>\n      <th>std</th>\n      <td>29.011492</td>\n    </tr>\n    <tr>\n      <th>min</th>\n      <td>1.000000</td>\n    </tr>\n    <tr>\n      <th>25%</th>\n      <td>25.750000</td>\n    </tr>\n    <tr>\n      <th>50%</th>\n      <td>50.500000</td>\n    </tr>\n    <tr>\n      <th>75%</th>\n      <td>75.250000</td>\n    </tr>\n    <tr>\n      <th>max</th>\n      <td>100.000000</td>\n    </tr>\n  </tbody>\n</table>\n</div>"
          },
          "metadata": {}
        }
      ],
      "execution_count": 146
    },
    {
      "cell_type": "code",
      "source": "dupe",
      "metadata": {
        "trusted": true
      },
      "outputs": [
        {
          "execution_count": 147,
          "output_type": "execute_result",
          "data": {
            "text/plain": "0     False\n1     False\n2     False\n3     False\n4     False\n      ...  \n95    False\n96    False\n97    False\n98    False\n99    False\nLength: 100, dtype: bool"
          },
          "metadata": {}
        }
      ],
      "execution_count": 147
    },
    {
      "cell_type": "code",
      "source": "df.drop_duplicates()",
      "metadata": {
        "trusted": true
      },
      "outputs": [
        {
          "execution_count": 148,
          "output_type": "execute_result",
          "data": {
            "text/plain": "    Index      Customer Id First Name Last Name  \\\n0       1  DD37Cf93aecA6Dc     Sheryl    Baxter   \n1       2  1Ef7b82A4CAAD10    Preston    Lozano   \n2       3  6F94879bDAfE5a6        Roy     Berry   \n3       4  5Cef8BFA16c5e3c      Linda     Olsen   \n4       5  053d585Ab6b3159     Joanna    Bender   \n..    ...              ...        ...       ...   \n95     96  cb8E23e48d22Eae       Karl     Greer   \n96     97  CeD220bdAaCfaDf       Lynn  Atkinson   \n97     98  28CDbC0dFe4b1Db       Fred    Guerra   \n98     99  c23d1D9EE8DEB0A     Yvonne    Farmer   \n99    100  2354a0E336A91A1   Clarence    Haynes   \n\n                            Company               City  \\\n0                   Rasmussen Group       East Leonard   \n1                       Vega-Gentry  East Jimmychester   \n2                     Murillo-Perry      Isabelborough   \n3   Dominguez, Mcmillan and Donovan         Bensonview   \n4          Martin, Lang and Andrade     West Priscilla   \n..                              ...                ...   \n95                        Carey LLC       East Richard   \n96            Ware, Burns and Oneal       New Bradview   \n97                    Schmitt-Jones         Ortegaland   \n98               Fitzgerald-Harrell    Lake Elijahview   \n99               Le, Nash and Cross          Judymouth   \n\n                       Country                 Phone 1  \\\n0                        Chile            229.077.5154   \n1                     Djibouti              5153435776   \n2          Antigua and Barbuda         +1-539-402-0259   \n3           Dominican Republic  001-808-617-6467x12895   \n4   Slovakia (Slovak Republic)  001-234-203-0635x76146   \n..                         ...                     ...   \n95                      Guyana     (188)169-1674x58692   \n96                   Sri Lanka         +1-846-706-2218   \n97             Solomon Islands    +1-753-067-8419x7170   \n98                       Aruba           (530)311-9786   \n99                    Honduras           (753)813-6941   \n\n                   Phone 2                           Email Subscription Date  \\\n0         397.884.0519x718        zunigavanessa@smith.info        2020-08-24   \n1         686-620-1820x944                 vmata@colon.com        2021-04-23   \n2      (496)978-3969x58947             beckycarr@hogan.com        2020-03-25   \n3          +1-813-324-8756     stanleyblackwell@benson.org        2020-06-02   \n4    001-199-446-3860x3486         colinalvarado@miles.net        2021-04-17   \n..                     ...                             ...               ...   \n95    001-841-293-3519x614                hhart@jensen.com        2022-01-30   \n96            605.413.3198               vkemp@ferrell.com        2021-07-10   \n97   +1-632-666-7507x92121                swagner@kane.org        2021-09-18   \n98  001-869-452-0943x12424  mccarthystephen@horn-green.biz        2021-08-11   \n99            783.639.1472          colleen91@faulkner.biz        2020-03-11   \n\n                              Website        Full Name             Name  \n0          http://www.stephenson.com/    Sheryl Baxter    Sheryl Baxter  \n1               http://www.hobbs.com/   Preston Lozano   Preston Lozano  \n2            http://www.lawrence.com/        Roy Berry        Roy Berry  \n3          http://www.good-lyons.com/      Linda Olsen      Linda Olsen  \n4         https://goodwin-ingram.com/    Joanna Bender    Joanna Bender  \n..                                ...              ...              ...  \n95            http://hayes-perez.com/       Karl Greer       Karl Greer  \n96         https://novak-allison.com/    Lynn Atkinson    Lynn Atkinson  \n97              https://www.ross.com/      Fred Guerra      Fred Guerra  \n98               http://watkins.info/    Yvonne Farmer    Yvonne Farmer  \n99  http://www.hatfield-saunders.net/  Clarence Haynes  Clarence Haynes  \n\n[100 rows x 14 columns]",
            "text/html": "<div>\n<style scoped>\n    .dataframe tbody tr th:only-of-type {\n        vertical-align: middle;\n    }\n\n    .dataframe tbody tr th {\n        vertical-align: top;\n    }\n\n    .dataframe thead th {\n        text-align: right;\n    }\n</style>\n<table border=\"1\" class=\"dataframe\">\n  <thead>\n    <tr style=\"text-align: right;\">\n      <th></th>\n      <th>Index</th>\n      <th>Customer Id</th>\n      <th>First Name</th>\n      <th>Last Name</th>\n      <th>Company</th>\n      <th>City</th>\n      <th>Country</th>\n      <th>Phone 1</th>\n      <th>Phone 2</th>\n      <th>Email</th>\n      <th>Subscription Date</th>\n      <th>Website</th>\n      <th>Full Name</th>\n      <th>Name</th>\n    </tr>\n  </thead>\n  <tbody>\n    <tr>\n      <th>0</th>\n      <td>1</td>\n      <td>DD37Cf93aecA6Dc</td>\n      <td>Sheryl</td>\n      <td>Baxter</td>\n      <td>Rasmussen Group</td>\n      <td>East Leonard</td>\n      <td>Chile</td>\n      <td>229.077.5154</td>\n      <td>397.884.0519x718</td>\n      <td>zunigavanessa@smith.info</td>\n      <td>2020-08-24</td>\n      <td>http://www.stephenson.com/</td>\n      <td>Sheryl Baxter</td>\n      <td>Sheryl Baxter</td>\n    </tr>\n    <tr>\n      <th>1</th>\n      <td>2</td>\n      <td>1Ef7b82A4CAAD10</td>\n      <td>Preston</td>\n      <td>Lozano</td>\n      <td>Vega-Gentry</td>\n      <td>East Jimmychester</td>\n      <td>Djibouti</td>\n      <td>5153435776</td>\n      <td>686-620-1820x944</td>\n      <td>vmata@colon.com</td>\n      <td>2021-04-23</td>\n      <td>http://www.hobbs.com/</td>\n      <td>Preston Lozano</td>\n      <td>Preston Lozano</td>\n    </tr>\n    <tr>\n      <th>2</th>\n      <td>3</td>\n      <td>6F94879bDAfE5a6</td>\n      <td>Roy</td>\n      <td>Berry</td>\n      <td>Murillo-Perry</td>\n      <td>Isabelborough</td>\n      <td>Antigua and Barbuda</td>\n      <td>+1-539-402-0259</td>\n      <td>(496)978-3969x58947</td>\n      <td>beckycarr@hogan.com</td>\n      <td>2020-03-25</td>\n      <td>http://www.lawrence.com/</td>\n      <td>Roy Berry</td>\n      <td>Roy Berry</td>\n    </tr>\n    <tr>\n      <th>3</th>\n      <td>4</td>\n      <td>5Cef8BFA16c5e3c</td>\n      <td>Linda</td>\n      <td>Olsen</td>\n      <td>Dominguez, Mcmillan and Donovan</td>\n      <td>Bensonview</td>\n      <td>Dominican Republic</td>\n      <td>001-808-617-6467x12895</td>\n      <td>+1-813-324-8756</td>\n      <td>stanleyblackwell@benson.org</td>\n      <td>2020-06-02</td>\n      <td>http://www.good-lyons.com/</td>\n      <td>Linda Olsen</td>\n      <td>Linda Olsen</td>\n    </tr>\n    <tr>\n      <th>4</th>\n      <td>5</td>\n      <td>053d585Ab6b3159</td>\n      <td>Joanna</td>\n      <td>Bender</td>\n      <td>Martin, Lang and Andrade</td>\n      <td>West Priscilla</td>\n      <td>Slovakia (Slovak Republic)</td>\n      <td>001-234-203-0635x76146</td>\n      <td>001-199-446-3860x3486</td>\n      <td>colinalvarado@miles.net</td>\n      <td>2021-04-17</td>\n      <td>https://goodwin-ingram.com/</td>\n      <td>Joanna Bender</td>\n      <td>Joanna Bender</td>\n    </tr>\n    <tr>\n      <th>...</th>\n      <td>...</td>\n      <td>...</td>\n      <td>...</td>\n      <td>...</td>\n      <td>...</td>\n      <td>...</td>\n      <td>...</td>\n      <td>...</td>\n      <td>...</td>\n      <td>...</td>\n      <td>...</td>\n      <td>...</td>\n      <td>...</td>\n      <td>...</td>\n    </tr>\n    <tr>\n      <th>95</th>\n      <td>96</td>\n      <td>cb8E23e48d22Eae</td>\n      <td>Karl</td>\n      <td>Greer</td>\n      <td>Carey LLC</td>\n      <td>East Richard</td>\n      <td>Guyana</td>\n      <td>(188)169-1674x58692</td>\n      <td>001-841-293-3519x614</td>\n      <td>hhart@jensen.com</td>\n      <td>2022-01-30</td>\n      <td>http://hayes-perez.com/</td>\n      <td>Karl Greer</td>\n      <td>Karl Greer</td>\n    </tr>\n    <tr>\n      <th>96</th>\n      <td>97</td>\n      <td>CeD220bdAaCfaDf</td>\n      <td>Lynn</td>\n      <td>Atkinson</td>\n      <td>Ware, Burns and Oneal</td>\n      <td>New Bradview</td>\n      <td>Sri Lanka</td>\n      <td>+1-846-706-2218</td>\n      <td>605.413.3198</td>\n      <td>vkemp@ferrell.com</td>\n      <td>2021-07-10</td>\n      <td>https://novak-allison.com/</td>\n      <td>Lynn Atkinson</td>\n      <td>Lynn Atkinson</td>\n    </tr>\n    <tr>\n      <th>97</th>\n      <td>98</td>\n      <td>28CDbC0dFe4b1Db</td>\n      <td>Fred</td>\n      <td>Guerra</td>\n      <td>Schmitt-Jones</td>\n      <td>Ortegaland</td>\n      <td>Solomon Islands</td>\n      <td>+1-753-067-8419x7170</td>\n      <td>+1-632-666-7507x92121</td>\n      <td>swagner@kane.org</td>\n      <td>2021-09-18</td>\n      <td>https://www.ross.com/</td>\n      <td>Fred Guerra</td>\n      <td>Fred Guerra</td>\n    </tr>\n    <tr>\n      <th>98</th>\n      <td>99</td>\n      <td>c23d1D9EE8DEB0A</td>\n      <td>Yvonne</td>\n      <td>Farmer</td>\n      <td>Fitzgerald-Harrell</td>\n      <td>Lake Elijahview</td>\n      <td>Aruba</td>\n      <td>(530)311-9786</td>\n      <td>001-869-452-0943x12424</td>\n      <td>mccarthystephen@horn-green.biz</td>\n      <td>2021-08-11</td>\n      <td>http://watkins.info/</td>\n      <td>Yvonne Farmer</td>\n      <td>Yvonne Farmer</td>\n    </tr>\n    <tr>\n      <th>99</th>\n      <td>100</td>\n      <td>2354a0E336A91A1</td>\n      <td>Clarence</td>\n      <td>Haynes</td>\n      <td>Le, Nash and Cross</td>\n      <td>Judymouth</td>\n      <td>Honduras</td>\n      <td>(753)813-6941</td>\n      <td>783.639.1472</td>\n      <td>colleen91@faulkner.biz</td>\n      <td>2020-03-11</td>\n      <td>http://www.hatfield-saunders.net/</td>\n      <td>Clarence Haynes</td>\n      <td>Clarence Haynes</td>\n    </tr>\n  </tbody>\n</table>\n<p>100 rows × 14 columns</p>\n</div>"
          },
          "metadata": {}
        }
      ],
      "execution_count": 148
    },
    {
      "cell_type": "code",
      "source": "df.drop_duplicates(inplace=True)",
      "metadata": {
        "trusted": true
      },
      "outputs": [],
      "execution_count": 149
    },
    {
      "cell_type": "code",
      "source": "df",
      "metadata": {
        "trusted": true
      },
      "outputs": [
        {
          "execution_count": 150,
          "output_type": "execute_result",
          "data": {
            "text/plain": "    Index      Customer Id First Name Last Name  \\\n0       1  DD37Cf93aecA6Dc     Sheryl    Baxter   \n1       2  1Ef7b82A4CAAD10    Preston    Lozano   \n2       3  6F94879bDAfE5a6        Roy     Berry   \n3       4  5Cef8BFA16c5e3c      Linda     Olsen   \n4       5  053d585Ab6b3159     Joanna    Bender   \n..    ...              ...        ...       ...   \n95     96  cb8E23e48d22Eae       Karl     Greer   \n96     97  CeD220bdAaCfaDf       Lynn  Atkinson   \n97     98  28CDbC0dFe4b1Db       Fred    Guerra   \n98     99  c23d1D9EE8DEB0A     Yvonne    Farmer   \n99    100  2354a0E336A91A1   Clarence    Haynes   \n\n                            Company               City  \\\n0                   Rasmussen Group       East Leonard   \n1                       Vega-Gentry  East Jimmychester   \n2                     Murillo-Perry      Isabelborough   \n3   Dominguez, Mcmillan and Donovan         Bensonview   \n4          Martin, Lang and Andrade     West Priscilla   \n..                              ...                ...   \n95                        Carey LLC       East Richard   \n96            Ware, Burns and Oneal       New Bradview   \n97                    Schmitt-Jones         Ortegaland   \n98               Fitzgerald-Harrell    Lake Elijahview   \n99               Le, Nash and Cross          Judymouth   \n\n                       Country                 Phone 1  \\\n0                        Chile            229.077.5154   \n1                     Djibouti              5153435776   \n2          Antigua and Barbuda         +1-539-402-0259   \n3           Dominican Republic  001-808-617-6467x12895   \n4   Slovakia (Slovak Republic)  001-234-203-0635x76146   \n..                         ...                     ...   \n95                      Guyana     (188)169-1674x58692   \n96                   Sri Lanka         +1-846-706-2218   \n97             Solomon Islands    +1-753-067-8419x7170   \n98                       Aruba           (530)311-9786   \n99                    Honduras           (753)813-6941   \n\n                   Phone 2                           Email Subscription Date  \\\n0         397.884.0519x718        zunigavanessa@smith.info        2020-08-24   \n1         686-620-1820x944                 vmata@colon.com        2021-04-23   \n2      (496)978-3969x58947             beckycarr@hogan.com        2020-03-25   \n3          +1-813-324-8756     stanleyblackwell@benson.org        2020-06-02   \n4    001-199-446-3860x3486         colinalvarado@miles.net        2021-04-17   \n..                     ...                             ...               ...   \n95    001-841-293-3519x614                hhart@jensen.com        2022-01-30   \n96            605.413.3198               vkemp@ferrell.com        2021-07-10   \n97   +1-632-666-7507x92121                swagner@kane.org        2021-09-18   \n98  001-869-452-0943x12424  mccarthystephen@horn-green.biz        2021-08-11   \n99            783.639.1472          colleen91@faulkner.biz        2020-03-11   \n\n                              Website        Full Name             Name  \n0          http://www.stephenson.com/    Sheryl Baxter    Sheryl Baxter  \n1               http://www.hobbs.com/   Preston Lozano   Preston Lozano  \n2            http://www.lawrence.com/        Roy Berry        Roy Berry  \n3          http://www.good-lyons.com/      Linda Olsen      Linda Olsen  \n4         https://goodwin-ingram.com/    Joanna Bender    Joanna Bender  \n..                                ...              ...              ...  \n95            http://hayes-perez.com/       Karl Greer       Karl Greer  \n96         https://novak-allison.com/    Lynn Atkinson    Lynn Atkinson  \n97              https://www.ross.com/      Fred Guerra      Fred Guerra  \n98               http://watkins.info/    Yvonne Farmer    Yvonne Farmer  \n99  http://www.hatfield-saunders.net/  Clarence Haynes  Clarence Haynes  \n\n[100 rows x 14 columns]",
            "text/html": "<div>\n<style scoped>\n    .dataframe tbody tr th:only-of-type {\n        vertical-align: middle;\n    }\n\n    .dataframe tbody tr th {\n        vertical-align: top;\n    }\n\n    .dataframe thead th {\n        text-align: right;\n    }\n</style>\n<table border=\"1\" class=\"dataframe\">\n  <thead>\n    <tr style=\"text-align: right;\">\n      <th></th>\n      <th>Index</th>\n      <th>Customer Id</th>\n      <th>First Name</th>\n      <th>Last Name</th>\n      <th>Company</th>\n      <th>City</th>\n      <th>Country</th>\n      <th>Phone 1</th>\n      <th>Phone 2</th>\n      <th>Email</th>\n      <th>Subscription Date</th>\n      <th>Website</th>\n      <th>Full Name</th>\n      <th>Name</th>\n    </tr>\n  </thead>\n  <tbody>\n    <tr>\n      <th>0</th>\n      <td>1</td>\n      <td>DD37Cf93aecA6Dc</td>\n      <td>Sheryl</td>\n      <td>Baxter</td>\n      <td>Rasmussen Group</td>\n      <td>East Leonard</td>\n      <td>Chile</td>\n      <td>229.077.5154</td>\n      <td>397.884.0519x718</td>\n      <td>zunigavanessa@smith.info</td>\n      <td>2020-08-24</td>\n      <td>http://www.stephenson.com/</td>\n      <td>Sheryl Baxter</td>\n      <td>Sheryl Baxter</td>\n    </tr>\n    <tr>\n      <th>1</th>\n      <td>2</td>\n      <td>1Ef7b82A4CAAD10</td>\n      <td>Preston</td>\n      <td>Lozano</td>\n      <td>Vega-Gentry</td>\n      <td>East Jimmychester</td>\n      <td>Djibouti</td>\n      <td>5153435776</td>\n      <td>686-620-1820x944</td>\n      <td>vmata@colon.com</td>\n      <td>2021-04-23</td>\n      <td>http://www.hobbs.com/</td>\n      <td>Preston Lozano</td>\n      <td>Preston Lozano</td>\n    </tr>\n    <tr>\n      <th>2</th>\n      <td>3</td>\n      <td>6F94879bDAfE5a6</td>\n      <td>Roy</td>\n      <td>Berry</td>\n      <td>Murillo-Perry</td>\n      <td>Isabelborough</td>\n      <td>Antigua and Barbuda</td>\n      <td>+1-539-402-0259</td>\n      <td>(496)978-3969x58947</td>\n      <td>beckycarr@hogan.com</td>\n      <td>2020-03-25</td>\n      <td>http://www.lawrence.com/</td>\n      <td>Roy Berry</td>\n      <td>Roy Berry</td>\n    </tr>\n    <tr>\n      <th>3</th>\n      <td>4</td>\n      <td>5Cef8BFA16c5e3c</td>\n      <td>Linda</td>\n      <td>Olsen</td>\n      <td>Dominguez, Mcmillan and Donovan</td>\n      <td>Bensonview</td>\n      <td>Dominican Republic</td>\n      <td>001-808-617-6467x12895</td>\n      <td>+1-813-324-8756</td>\n      <td>stanleyblackwell@benson.org</td>\n      <td>2020-06-02</td>\n      <td>http://www.good-lyons.com/</td>\n      <td>Linda Olsen</td>\n      <td>Linda Olsen</td>\n    </tr>\n    <tr>\n      <th>4</th>\n      <td>5</td>\n      <td>053d585Ab6b3159</td>\n      <td>Joanna</td>\n      <td>Bender</td>\n      <td>Martin, Lang and Andrade</td>\n      <td>West Priscilla</td>\n      <td>Slovakia (Slovak Republic)</td>\n      <td>001-234-203-0635x76146</td>\n      <td>001-199-446-3860x3486</td>\n      <td>colinalvarado@miles.net</td>\n      <td>2021-04-17</td>\n      <td>https://goodwin-ingram.com/</td>\n      <td>Joanna Bender</td>\n      <td>Joanna Bender</td>\n    </tr>\n    <tr>\n      <th>...</th>\n      <td>...</td>\n      <td>...</td>\n      <td>...</td>\n      <td>...</td>\n      <td>...</td>\n      <td>...</td>\n      <td>...</td>\n      <td>...</td>\n      <td>...</td>\n      <td>...</td>\n      <td>...</td>\n      <td>...</td>\n      <td>...</td>\n      <td>...</td>\n    </tr>\n    <tr>\n      <th>95</th>\n      <td>96</td>\n      <td>cb8E23e48d22Eae</td>\n      <td>Karl</td>\n      <td>Greer</td>\n      <td>Carey LLC</td>\n      <td>East Richard</td>\n      <td>Guyana</td>\n      <td>(188)169-1674x58692</td>\n      <td>001-841-293-3519x614</td>\n      <td>hhart@jensen.com</td>\n      <td>2022-01-30</td>\n      <td>http://hayes-perez.com/</td>\n      <td>Karl Greer</td>\n      <td>Karl Greer</td>\n    </tr>\n    <tr>\n      <th>96</th>\n      <td>97</td>\n      <td>CeD220bdAaCfaDf</td>\n      <td>Lynn</td>\n      <td>Atkinson</td>\n      <td>Ware, Burns and Oneal</td>\n      <td>New Bradview</td>\n      <td>Sri Lanka</td>\n      <td>+1-846-706-2218</td>\n      <td>605.413.3198</td>\n      <td>vkemp@ferrell.com</td>\n      <td>2021-07-10</td>\n      <td>https://novak-allison.com/</td>\n      <td>Lynn Atkinson</td>\n      <td>Lynn Atkinson</td>\n    </tr>\n    <tr>\n      <th>97</th>\n      <td>98</td>\n      <td>28CDbC0dFe4b1Db</td>\n      <td>Fred</td>\n      <td>Guerra</td>\n      <td>Schmitt-Jones</td>\n      <td>Ortegaland</td>\n      <td>Solomon Islands</td>\n      <td>+1-753-067-8419x7170</td>\n      <td>+1-632-666-7507x92121</td>\n      <td>swagner@kane.org</td>\n      <td>2021-09-18</td>\n      <td>https://www.ross.com/</td>\n      <td>Fred Guerra</td>\n      <td>Fred Guerra</td>\n    </tr>\n    <tr>\n      <th>98</th>\n      <td>99</td>\n      <td>c23d1D9EE8DEB0A</td>\n      <td>Yvonne</td>\n      <td>Farmer</td>\n      <td>Fitzgerald-Harrell</td>\n      <td>Lake Elijahview</td>\n      <td>Aruba</td>\n      <td>(530)311-9786</td>\n      <td>001-869-452-0943x12424</td>\n      <td>mccarthystephen@horn-green.biz</td>\n      <td>2021-08-11</td>\n      <td>http://watkins.info/</td>\n      <td>Yvonne Farmer</td>\n      <td>Yvonne Farmer</td>\n    </tr>\n    <tr>\n      <th>99</th>\n      <td>100</td>\n      <td>2354a0E336A91A1</td>\n      <td>Clarence</td>\n      <td>Haynes</td>\n      <td>Le, Nash and Cross</td>\n      <td>Judymouth</td>\n      <td>Honduras</td>\n      <td>(753)813-6941</td>\n      <td>783.639.1472</td>\n      <td>colleen91@faulkner.biz</td>\n      <td>2020-03-11</td>\n      <td>http://www.hatfield-saunders.net/</td>\n      <td>Clarence Haynes</td>\n      <td>Clarence Haynes</td>\n    </tr>\n  </tbody>\n</table>\n<p>100 rows × 14 columns</p>\n</div>"
          },
          "metadata": {}
        }
      ],
      "execution_count": 150
    },
    {
      "cell_type": "code",
      "source": "df.dropna()",
      "metadata": {
        "trusted": true
      },
      "outputs": [
        {
          "execution_count": 151,
          "output_type": "execute_result",
          "data": {
            "text/plain": "    Index      Customer Id First Name Last Name  \\\n0       1  DD37Cf93aecA6Dc     Sheryl    Baxter   \n1       2  1Ef7b82A4CAAD10    Preston    Lozano   \n2       3  6F94879bDAfE5a6        Roy     Berry   \n3       4  5Cef8BFA16c5e3c      Linda     Olsen   \n4       5  053d585Ab6b3159     Joanna    Bender   \n..    ...              ...        ...       ...   \n95     96  cb8E23e48d22Eae       Karl     Greer   \n96     97  CeD220bdAaCfaDf       Lynn  Atkinson   \n97     98  28CDbC0dFe4b1Db       Fred    Guerra   \n98     99  c23d1D9EE8DEB0A     Yvonne    Farmer   \n99    100  2354a0E336A91A1   Clarence    Haynes   \n\n                            Company               City  \\\n0                   Rasmussen Group       East Leonard   \n1                       Vega-Gentry  East Jimmychester   \n2                     Murillo-Perry      Isabelborough   \n3   Dominguez, Mcmillan and Donovan         Bensonview   \n4          Martin, Lang and Andrade     West Priscilla   \n..                              ...                ...   \n95                        Carey LLC       East Richard   \n96            Ware, Burns and Oneal       New Bradview   \n97                    Schmitt-Jones         Ortegaland   \n98               Fitzgerald-Harrell    Lake Elijahview   \n99               Le, Nash and Cross          Judymouth   \n\n                       Country                 Phone 1  \\\n0                        Chile            229.077.5154   \n1                     Djibouti              5153435776   \n2          Antigua and Barbuda         +1-539-402-0259   \n3           Dominican Republic  001-808-617-6467x12895   \n4   Slovakia (Slovak Republic)  001-234-203-0635x76146   \n..                         ...                     ...   \n95                      Guyana     (188)169-1674x58692   \n96                   Sri Lanka         +1-846-706-2218   \n97             Solomon Islands    +1-753-067-8419x7170   \n98                       Aruba           (530)311-9786   \n99                    Honduras           (753)813-6941   \n\n                   Phone 2                           Email Subscription Date  \\\n0         397.884.0519x718        zunigavanessa@smith.info        2020-08-24   \n1         686-620-1820x944                 vmata@colon.com        2021-04-23   \n2      (496)978-3969x58947             beckycarr@hogan.com        2020-03-25   \n3          +1-813-324-8756     stanleyblackwell@benson.org        2020-06-02   \n4    001-199-446-3860x3486         colinalvarado@miles.net        2021-04-17   \n..                     ...                             ...               ...   \n95    001-841-293-3519x614                hhart@jensen.com        2022-01-30   \n96            605.413.3198               vkemp@ferrell.com        2021-07-10   \n97   +1-632-666-7507x92121                swagner@kane.org        2021-09-18   \n98  001-869-452-0943x12424  mccarthystephen@horn-green.biz        2021-08-11   \n99            783.639.1472          colleen91@faulkner.biz        2020-03-11   \n\n                              Website        Full Name             Name  \n0          http://www.stephenson.com/    Sheryl Baxter    Sheryl Baxter  \n1               http://www.hobbs.com/   Preston Lozano   Preston Lozano  \n2            http://www.lawrence.com/        Roy Berry        Roy Berry  \n3          http://www.good-lyons.com/      Linda Olsen      Linda Olsen  \n4         https://goodwin-ingram.com/    Joanna Bender    Joanna Bender  \n..                                ...              ...              ...  \n95            http://hayes-perez.com/       Karl Greer       Karl Greer  \n96         https://novak-allison.com/    Lynn Atkinson    Lynn Atkinson  \n97              https://www.ross.com/      Fred Guerra      Fred Guerra  \n98               http://watkins.info/    Yvonne Farmer    Yvonne Farmer  \n99  http://www.hatfield-saunders.net/  Clarence Haynes  Clarence Haynes  \n\n[100 rows x 14 columns]",
            "text/html": "<div>\n<style scoped>\n    .dataframe tbody tr th:only-of-type {\n        vertical-align: middle;\n    }\n\n    .dataframe tbody tr th {\n        vertical-align: top;\n    }\n\n    .dataframe thead th {\n        text-align: right;\n    }\n</style>\n<table border=\"1\" class=\"dataframe\">\n  <thead>\n    <tr style=\"text-align: right;\">\n      <th></th>\n      <th>Index</th>\n      <th>Customer Id</th>\n      <th>First Name</th>\n      <th>Last Name</th>\n      <th>Company</th>\n      <th>City</th>\n      <th>Country</th>\n      <th>Phone 1</th>\n      <th>Phone 2</th>\n      <th>Email</th>\n      <th>Subscription Date</th>\n      <th>Website</th>\n      <th>Full Name</th>\n      <th>Name</th>\n    </tr>\n  </thead>\n  <tbody>\n    <tr>\n      <th>0</th>\n      <td>1</td>\n      <td>DD37Cf93aecA6Dc</td>\n      <td>Sheryl</td>\n      <td>Baxter</td>\n      <td>Rasmussen Group</td>\n      <td>East Leonard</td>\n      <td>Chile</td>\n      <td>229.077.5154</td>\n      <td>397.884.0519x718</td>\n      <td>zunigavanessa@smith.info</td>\n      <td>2020-08-24</td>\n      <td>http://www.stephenson.com/</td>\n      <td>Sheryl Baxter</td>\n      <td>Sheryl Baxter</td>\n    </tr>\n    <tr>\n      <th>1</th>\n      <td>2</td>\n      <td>1Ef7b82A4CAAD10</td>\n      <td>Preston</td>\n      <td>Lozano</td>\n      <td>Vega-Gentry</td>\n      <td>East Jimmychester</td>\n      <td>Djibouti</td>\n      <td>5153435776</td>\n      <td>686-620-1820x944</td>\n      <td>vmata@colon.com</td>\n      <td>2021-04-23</td>\n      <td>http://www.hobbs.com/</td>\n      <td>Preston Lozano</td>\n      <td>Preston Lozano</td>\n    </tr>\n    <tr>\n      <th>2</th>\n      <td>3</td>\n      <td>6F94879bDAfE5a6</td>\n      <td>Roy</td>\n      <td>Berry</td>\n      <td>Murillo-Perry</td>\n      <td>Isabelborough</td>\n      <td>Antigua and Barbuda</td>\n      <td>+1-539-402-0259</td>\n      <td>(496)978-3969x58947</td>\n      <td>beckycarr@hogan.com</td>\n      <td>2020-03-25</td>\n      <td>http://www.lawrence.com/</td>\n      <td>Roy Berry</td>\n      <td>Roy Berry</td>\n    </tr>\n    <tr>\n      <th>3</th>\n      <td>4</td>\n      <td>5Cef8BFA16c5e3c</td>\n      <td>Linda</td>\n      <td>Olsen</td>\n      <td>Dominguez, Mcmillan and Donovan</td>\n      <td>Bensonview</td>\n      <td>Dominican Republic</td>\n      <td>001-808-617-6467x12895</td>\n      <td>+1-813-324-8756</td>\n      <td>stanleyblackwell@benson.org</td>\n      <td>2020-06-02</td>\n      <td>http://www.good-lyons.com/</td>\n      <td>Linda Olsen</td>\n      <td>Linda Olsen</td>\n    </tr>\n    <tr>\n      <th>4</th>\n      <td>5</td>\n      <td>053d585Ab6b3159</td>\n      <td>Joanna</td>\n      <td>Bender</td>\n      <td>Martin, Lang and Andrade</td>\n      <td>West Priscilla</td>\n      <td>Slovakia (Slovak Republic)</td>\n      <td>001-234-203-0635x76146</td>\n      <td>001-199-446-3860x3486</td>\n      <td>colinalvarado@miles.net</td>\n      <td>2021-04-17</td>\n      <td>https://goodwin-ingram.com/</td>\n      <td>Joanna Bender</td>\n      <td>Joanna Bender</td>\n    </tr>\n    <tr>\n      <th>...</th>\n      <td>...</td>\n      <td>...</td>\n      <td>...</td>\n      <td>...</td>\n      <td>...</td>\n      <td>...</td>\n      <td>...</td>\n      <td>...</td>\n      <td>...</td>\n      <td>...</td>\n      <td>...</td>\n      <td>...</td>\n      <td>...</td>\n      <td>...</td>\n    </tr>\n    <tr>\n      <th>95</th>\n      <td>96</td>\n      <td>cb8E23e48d22Eae</td>\n      <td>Karl</td>\n      <td>Greer</td>\n      <td>Carey LLC</td>\n      <td>East Richard</td>\n      <td>Guyana</td>\n      <td>(188)169-1674x58692</td>\n      <td>001-841-293-3519x614</td>\n      <td>hhart@jensen.com</td>\n      <td>2022-01-30</td>\n      <td>http://hayes-perez.com/</td>\n      <td>Karl Greer</td>\n      <td>Karl Greer</td>\n    </tr>\n    <tr>\n      <th>96</th>\n      <td>97</td>\n      <td>CeD220bdAaCfaDf</td>\n      <td>Lynn</td>\n      <td>Atkinson</td>\n      <td>Ware, Burns and Oneal</td>\n      <td>New Bradview</td>\n      <td>Sri Lanka</td>\n      <td>+1-846-706-2218</td>\n      <td>605.413.3198</td>\n      <td>vkemp@ferrell.com</td>\n      <td>2021-07-10</td>\n      <td>https://novak-allison.com/</td>\n      <td>Lynn Atkinson</td>\n      <td>Lynn Atkinson</td>\n    </tr>\n    <tr>\n      <th>97</th>\n      <td>98</td>\n      <td>28CDbC0dFe4b1Db</td>\n      <td>Fred</td>\n      <td>Guerra</td>\n      <td>Schmitt-Jones</td>\n      <td>Ortegaland</td>\n      <td>Solomon Islands</td>\n      <td>+1-753-067-8419x7170</td>\n      <td>+1-632-666-7507x92121</td>\n      <td>swagner@kane.org</td>\n      <td>2021-09-18</td>\n      <td>https://www.ross.com/</td>\n      <td>Fred Guerra</td>\n      <td>Fred Guerra</td>\n    </tr>\n    <tr>\n      <th>98</th>\n      <td>99</td>\n      <td>c23d1D9EE8DEB0A</td>\n      <td>Yvonne</td>\n      <td>Farmer</td>\n      <td>Fitzgerald-Harrell</td>\n      <td>Lake Elijahview</td>\n      <td>Aruba</td>\n      <td>(530)311-9786</td>\n      <td>001-869-452-0943x12424</td>\n      <td>mccarthystephen@horn-green.biz</td>\n      <td>2021-08-11</td>\n      <td>http://watkins.info/</td>\n      <td>Yvonne Farmer</td>\n      <td>Yvonne Farmer</td>\n    </tr>\n    <tr>\n      <th>99</th>\n      <td>100</td>\n      <td>2354a0E336A91A1</td>\n      <td>Clarence</td>\n      <td>Haynes</td>\n      <td>Le, Nash and Cross</td>\n      <td>Judymouth</td>\n      <td>Honduras</td>\n      <td>(753)813-6941</td>\n      <td>783.639.1472</td>\n      <td>colleen91@faulkner.biz</td>\n      <td>2020-03-11</td>\n      <td>http://www.hatfield-saunders.net/</td>\n      <td>Clarence Haynes</td>\n      <td>Clarence Haynes</td>\n    </tr>\n  </tbody>\n</table>\n<p>100 rows × 14 columns</p>\n</div>"
          },
          "metadata": {}
        }
      ],
      "execution_count": 151
    },
    {
      "cell_type": "code",
      "source": "df.dropna(inplace=True)",
      "metadata": {
        "trusted": true
      },
      "outputs": [],
      "execution_count": 152
    },
    {
      "cell_type": "code",
      "source": "df",
      "metadata": {
        "trusted": true
      },
      "outputs": [
        {
          "execution_count": 153,
          "output_type": "execute_result",
          "data": {
            "text/plain": "    Index      Customer Id First Name Last Name  \\\n0       1  DD37Cf93aecA6Dc     Sheryl    Baxter   \n1       2  1Ef7b82A4CAAD10    Preston    Lozano   \n2       3  6F94879bDAfE5a6        Roy     Berry   \n3       4  5Cef8BFA16c5e3c      Linda     Olsen   \n4       5  053d585Ab6b3159     Joanna    Bender   \n..    ...              ...        ...       ...   \n95     96  cb8E23e48d22Eae       Karl     Greer   \n96     97  CeD220bdAaCfaDf       Lynn  Atkinson   \n97     98  28CDbC0dFe4b1Db       Fred    Guerra   \n98     99  c23d1D9EE8DEB0A     Yvonne    Farmer   \n99    100  2354a0E336A91A1   Clarence    Haynes   \n\n                            Company               City  \\\n0                   Rasmussen Group       East Leonard   \n1                       Vega-Gentry  East Jimmychester   \n2                     Murillo-Perry      Isabelborough   \n3   Dominguez, Mcmillan and Donovan         Bensonview   \n4          Martin, Lang and Andrade     West Priscilla   \n..                              ...                ...   \n95                        Carey LLC       East Richard   \n96            Ware, Burns and Oneal       New Bradview   \n97                    Schmitt-Jones         Ortegaland   \n98               Fitzgerald-Harrell    Lake Elijahview   \n99               Le, Nash and Cross          Judymouth   \n\n                       Country                 Phone 1  \\\n0                        Chile            229.077.5154   \n1                     Djibouti              5153435776   \n2          Antigua and Barbuda         +1-539-402-0259   \n3           Dominican Republic  001-808-617-6467x12895   \n4   Slovakia (Slovak Republic)  001-234-203-0635x76146   \n..                         ...                     ...   \n95                      Guyana     (188)169-1674x58692   \n96                   Sri Lanka         +1-846-706-2218   \n97             Solomon Islands    +1-753-067-8419x7170   \n98                       Aruba           (530)311-9786   \n99                    Honduras           (753)813-6941   \n\n                   Phone 2                           Email Subscription Date  \\\n0         397.884.0519x718        zunigavanessa@smith.info        2020-08-24   \n1         686-620-1820x944                 vmata@colon.com        2021-04-23   \n2      (496)978-3969x58947             beckycarr@hogan.com        2020-03-25   \n3          +1-813-324-8756     stanleyblackwell@benson.org        2020-06-02   \n4    001-199-446-3860x3486         colinalvarado@miles.net        2021-04-17   \n..                     ...                             ...               ...   \n95    001-841-293-3519x614                hhart@jensen.com        2022-01-30   \n96            605.413.3198               vkemp@ferrell.com        2021-07-10   \n97   +1-632-666-7507x92121                swagner@kane.org        2021-09-18   \n98  001-869-452-0943x12424  mccarthystephen@horn-green.biz        2021-08-11   \n99            783.639.1472          colleen91@faulkner.biz        2020-03-11   \n\n                              Website        Full Name             Name  \n0          http://www.stephenson.com/    Sheryl Baxter    Sheryl Baxter  \n1               http://www.hobbs.com/   Preston Lozano   Preston Lozano  \n2            http://www.lawrence.com/        Roy Berry        Roy Berry  \n3          http://www.good-lyons.com/      Linda Olsen      Linda Olsen  \n4         https://goodwin-ingram.com/    Joanna Bender    Joanna Bender  \n..                                ...              ...              ...  \n95            http://hayes-perez.com/       Karl Greer       Karl Greer  \n96         https://novak-allison.com/    Lynn Atkinson    Lynn Atkinson  \n97              https://www.ross.com/      Fred Guerra      Fred Guerra  \n98               http://watkins.info/    Yvonne Farmer    Yvonne Farmer  \n99  http://www.hatfield-saunders.net/  Clarence Haynes  Clarence Haynes  \n\n[100 rows x 14 columns]",
            "text/html": "<div>\n<style scoped>\n    .dataframe tbody tr th:only-of-type {\n        vertical-align: middle;\n    }\n\n    .dataframe tbody tr th {\n        vertical-align: top;\n    }\n\n    .dataframe thead th {\n        text-align: right;\n    }\n</style>\n<table border=\"1\" class=\"dataframe\">\n  <thead>\n    <tr style=\"text-align: right;\">\n      <th></th>\n      <th>Index</th>\n      <th>Customer Id</th>\n      <th>First Name</th>\n      <th>Last Name</th>\n      <th>Company</th>\n      <th>City</th>\n      <th>Country</th>\n      <th>Phone 1</th>\n      <th>Phone 2</th>\n      <th>Email</th>\n      <th>Subscription Date</th>\n      <th>Website</th>\n      <th>Full Name</th>\n      <th>Name</th>\n    </tr>\n  </thead>\n  <tbody>\n    <tr>\n      <th>0</th>\n      <td>1</td>\n      <td>DD37Cf93aecA6Dc</td>\n      <td>Sheryl</td>\n      <td>Baxter</td>\n      <td>Rasmussen Group</td>\n      <td>East Leonard</td>\n      <td>Chile</td>\n      <td>229.077.5154</td>\n      <td>397.884.0519x718</td>\n      <td>zunigavanessa@smith.info</td>\n      <td>2020-08-24</td>\n      <td>http://www.stephenson.com/</td>\n      <td>Sheryl Baxter</td>\n      <td>Sheryl Baxter</td>\n    </tr>\n    <tr>\n      <th>1</th>\n      <td>2</td>\n      <td>1Ef7b82A4CAAD10</td>\n      <td>Preston</td>\n      <td>Lozano</td>\n      <td>Vega-Gentry</td>\n      <td>East Jimmychester</td>\n      <td>Djibouti</td>\n      <td>5153435776</td>\n      <td>686-620-1820x944</td>\n      <td>vmata@colon.com</td>\n      <td>2021-04-23</td>\n      <td>http://www.hobbs.com/</td>\n      <td>Preston Lozano</td>\n      <td>Preston Lozano</td>\n    </tr>\n    <tr>\n      <th>2</th>\n      <td>3</td>\n      <td>6F94879bDAfE5a6</td>\n      <td>Roy</td>\n      <td>Berry</td>\n      <td>Murillo-Perry</td>\n      <td>Isabelborough</td>\n      <td>Antigua and Barbuda</td>\n      <td>+1-539-402-0259</td>\n      <td>(496)978-3969x58947</td>\n      <td>beckycarr@hogan.com</td>\n      <td>2020-03-25</td>\n      <td>http://www.lawrence.com/</td>\n      <td>Roy Berry</td>\n      <td>Roy Berry</td>\n    </tr>\n    <tr>\n      <th>3</th>\n      <td>4</td>\n      <td>5Cef8BFA16c5e3c</td>\n      <td>Linda</td>\n      <td>Olsen</td>\n      <td>Dominguez, Mcmillan and Donovan</td>\n      <td>Bensonview</td>\n      <td>Dominican Republic</td>\n      <td>001-808-617-6467x12895</td>\n      <td>+1-813-324-8756</td>\n      <td>stanleyblackwell@benson.org</td>\n      <td>2020-06-02</td>\n      <td>http://www.good-lyons.com/</td>\n      <td>Linda Olsen</td>\n      <td>Linda Olsen</td>\n    </tr>\n    <tr>\n      <th>4</th>\n      <td>5</td>\n      <td>053d585Ab6b3159</td>\n      <td>Joanna</td>\n      <td>Bender</td>\n      <td>Martin, Lang and Andrade</td>\n      <td>West Priscilla</td>\n      <td>Slovakia (Slovak Republic)</td>\n      <td>001-234-203-0635x76146</td>\n      <td>001-199-446-3860x3486</td>\n      <td>colinalvarado@miles.net</td>\n      <td>2021-04-17</td>\n      <td>https://goodwin-ingram.com/</td>\n      <td>Joanna Bender</td>\n      <td>Joanna Bender</td>\n    </tr>\n    <tr>\n      <th>...</th>\n      <td>...</td>\n      <td>...</td>\n      <td>...</td>\n      <td>...</td>\n      <td>...</td>\n      <td>...</td>\n      <td>...</td>\n      <td>...</td>\n      <td>...</td>\n      <td>...</td>\n      <td>...</td>\n      <td>...</td>\n      <td>...</td>\n      <td>...</td>\n    </tr>\n    <tr>\n      <th>95</th>\n      <td>96</td>\n      <td>cb8E23e48d22Eae</td>\n      <td>Karl</td>\n      <td>Greer</td>\n      <td>Carey LLC</td>\n      <td>East Richard</td>\n      <td>Guyana</td>\n      <td>(188)169-1674x58692</td>\n      <td>001-841-293-3519x614</td>\n      <td>hhart@jensen.com</td>\n      <td>2022-01-30</td>\n      <td>http://hayes-perez.com/</td>\n      <td>Karl Greer</td>\n      <td>Karl Greer</td>\n    </tr>\n    <tr>\n      <th>96</th>\n      <td>97</td>\n      <td>CeD220bdAaCfaDf</td>\n      <td>Lynn</td>\n      <td>Atkinson</td>\n      <td>Ware, Burns and Oneal</td>\n      <td>New Bradview</td>\n      <td>Sri Lanka</td>\n      <td>+1-846-706-2218</td>\n      <td>605.413.3198</td>\n      <td>vkemp@ferrell.com</td>\n      <td>2021-07-10</td>\n      <td>https://novak-allison.com/</td>\n      <td>Lynn Atkinson</td>\n      <td>Lynn Atkinson</td>\n    </tr>\n    <tr>\n      <th>97</th>\n      <td>98</td>\n      <td>28CDbC0dFe4b1Db</td>\n      <td>Fred</td>\n      <td>Guerra</td>\n      <td>Schmitt-Jones</td>\n      <td>Ortegaland</td>\n      <td>Solomon Islands</td>\n      <td>+1-753-067-8419x7170</td>\n      <td>+1-632-666-7507x92121</td>\n      <td>swagner@kane.org</td>\n      <td>2021-09-18</td>\n      <td>https://www.ross.com/</td>\n      <td>Fred Guerra</td>\n      <td>Fred Guerra</td>\n    </tr>\n    <tr>\n      <th>98</th>\n      <td>99</td>\n      <td>c23d1D9EE8DEB0A</td>\n      <td>Yvonne</td>\n      <td>Farmer</td>\n      <td>Fitzgerald-Harrell</td>\n      <td>Lake Elijahview</td>\n      <td>Aruba</td>\n      <td>(530)311-9786</td>\n      <td>001-869-452-0943x12424</td>\n      <td>mccarthystephen@horn-green.biz</td>\n      <td>2021-08-11</td>\n      <td>http://watkins.info/</td>\n      <td>Yvonne Farmer</td>\n      <td>Yvonne Farmer</td>\n    </tr>\n    <tr>\n      <th>99</th>\n      <td>100</td>\n      <td>2354a0E336A91A1</td>\n      <td>Clarence</td>\n      <td>Haynes</td>\n      <td>Le, Nash and Cross</td>\n      <td>Judymouth</td>\n      <td>Honduras</td>\n      <td>(753)813-6941</td>\n      <td>783.639.1472</td>\n      <td>colleen91@faulkner.biz</td>\n      <td>2020-03-11</td>\n      <td>http://www.hatfield-saunders.net/</td>\n      <td>Clarence Haynes</td>\n      <td>Clarence Haynes</td>\n    </tr>\n  </tbody>\n</table>\n<p>100 rows × 14 columns</p>\n</div>"
          },
          "metadata": {}
        }
      ],
      "execution_count": 153
    },
    {
      "cell_type": "code",
      "source": "df.fillna(100)",
      "metadata": {
        "trusted": true
      },
      "outputs": [
        {
          "execution_count": 154,
          "output_type": "execute_result",
          "data": {
            "text/plain": "    Index      Customer Id First Name Last Name  \\\n0       1  DD37Cf93aecA6Dc     Sheryl    Baxter   \n1       2  1Ef7b82A4CAAD10    Preston    Lozano   \n2       3  6F94879bDAfE5a6        Roy     Berry   \n3       4  5Cef8BFA16c5e3c      Linda     Olsen   \n4       5  053d585Ab6b3159     Joanna    Bender   \n..    ...              ...        ...       ...   \n95     96  cb8E23e48d22Eae       Karl     Greer   \n96     97  CeD220bdAaCfaDf       Lynn  Atkinson   \n97     98  28CDbC0dFe4b1Db       Fred    Guerra   \n98     99  c23d1D9EE8DEB0A     Yvonne    Farmer   \n99    100  2354a0E336A91A1   Clarence    Haynes   \n\n                            Company               City  \\\n0                   Rasmussen Group       East Leonard   \n1                       Vega-Gentry  East Jimmychester   \n2                     Murillo-Perry      Isabelborough   \n3   Dominguez, Mcmillan and Donovan         Bensonview   \n4          Martin, Lang and Andrade     West Priscilla   \n..                              ...                ...   \n95                        Carey LLC       East Richard   \n96            Ware, Burns and Oneal       New Bradview   \n97                    Schmitt-Jones         Ortegaland   \n98               Fitzgerald-Harrell    Lake Elijahview   \n99               Le, Nash and Cross          Judymouth   \n\n                       Country                 Phone 1  \\\n0                        Chile            229.077.5154   \n1                     Djibouti              5153435776   \n2          Antigua and Barbuda         +1-539-402-0259   \n3           Dominican Republic  001-808-617-6467x12895   \n4   Slovakia (Slovak Republic)  001-234-203-0635x76146   \n..                         ...                     ...   \n95                      Guyana     (188)169-1674x58692   \n96                   Sri Lanka         +1-846-706-2218   \n97             Solomon Islands    +1-753-067-8419x7170   \n98                       Aruba           (530)311-9786   \n99                    Honduras           (753)813-6941   \n\n                   Phone 2                           Email Subscription Date  \\\n0         397.884.0519x718        zunigavanessa@smith.info        2020-08-24   \n1         686-620-1820x944                 vmata@colon.com        2021-04-23   \n2      (496)978-3969x58947             beckycarr@hogan.com        2020-03-25   \n3          +1-813-324-8756     stanleyblackwell@benson.org        2020-06-02   \n4    001-199-446-3860x3486         colinalvarado@miles.net        2021-04-17   \n..                     ...                             ...               ...   \n95    001-841-293-3519x614                hhart@jensen.com        2022-01-30   \n96            605.413.3198               vkemp@ferrell.com        2021-07-10   \n97   +1-632-666-7507x92121                swagner@kane.org        2021-09-18   \n98  001-869-452-0943x12424  mccarthystephen@horn-green.biz        2021-08-11   \n99            783.639.1472          colleen91@faulkner.biz        2020-03-11   \n\n                              Website        Full Name             Name  \n0          http://www.stephenson.com/    Sheryl Baxter    Sheryl Baxter  \n1               http://www.hobbs.com/   Preston Lozano   Preston Lozano  \n2            http://www.lawrence.com/        Roy Berry        Roy Berry  \n3          http://www.good-lyons.com/      Linda Olsen      Linda Olsen  \n4         https://goodwin-ingram.com/    Joanna Bender    Joanna Bender  \n..                                ...              ...              ...  \n95            http://hayes-perez.com/       Karl Greer       Karl Greer  \n96         https://novak-allison.com/    Lynn Atkinson    Lynn Atkinson  \n97              https://www.ross.com/      Fred Guerra      Fred Guerra  \n98               http://watkins.info/    Yvonne Farmer    Yvonne Farmer  \n99  http://www.hatfield-saunders.net/  Clarence Haynes  Clarence Haynes  \n\n[100 rows x 14 columns]",
            "text/html": "<div>\n<style scoped>\n    .dataframe tbody tr th:only-of-type {\n        vertical-align: middle;\n    }\n\n    .dataframe tbody tr th {\n        vertical-align: top;\n    }\n\n    .dataframe thead th {\n        text-align: right;\n    }\n</style>\n<table border=\"1\" class=\"dataframe\">\n  <thead>\n    <tr style=\"text-align: right;\">\n      <th></th>\n      <th>Index</th>\n      <th>Customer Id</th>\n      <th>First Name</th>\n      <th>Last Name</th>\n      <th>Company</th>\n      <th>City</th>\n      <th>Country</th>\n      <th>Phone 1</th>\n      <th>Phone 2</th>\n      <th>Email</th>\n      <th>Subscription Date</th>\n      <th>Website</th>\n      <th>Full Name</th>\n      <th>Name</th>\n    </tr>\n  </thead>\n  <tbody>\n    <tr>\n      <th>0</th>\n      <td>1</td>\n      <td>DD37Cf93aecA6Dc</td>\n      <td>Sheryl</td>\n      <td>Baxter</td>\n      <td>Rasmussen Group</td>\n      <td>East Leonard</td>\n      <td>Chile</td>\n      <td>229.077.5154</td>\n      <td>397.884.0519x718</td>\n      <td>zunigavanessa@smith.info</td>\n      <td>2020-08-24</td>\n      <td>http://www.stephenson.com/</td>\n      <td>Sheryl Baxter</td>\n      <td>Sheryl Baxter</td>\n    </tr>\n    <tr>\n      <th>1</th>\n      <td>2</td>\n      <td>1Ef7b82A4CAAD10</td>\n      <td>Preston</td>\n      <td>Lozano</td>\n      <td>Vega-Gentry</td>\n      <td>East Jimmychester</td>\n      <td>Djibouti</td>\n      <td>5153435776</td>\n      <td>686-620-1820x944</td>\n      <td>vmata@colon.com</td>\n      <td>2021-04-23</td>\n      <td>http://www.hobbs.com/</td>\n      <td>Preston Lozano</td>\n      <td>Preston Lozano</td>\n    </tr>\n    <tr>\n      <th>2</th>\n      <td>3</td>\n      <td>6F94879bDAfE5a6</td>\n      <td>Roy</td>\n      <td>Berry</td>\n      <td>Murillo-Perry</td>\n      <td>Isabelborough</td>\n      <td>Antigua and Barbuda</td>\n      <td>+1-539-402-0259</td>\n      <td>(496)978-3969x58947</td>\n      <td>beckycarr@hogan.com</td>\n      <td>2020-03-25</td>\n      <td>http://www.lawrence.com/</td>\n      <td>Roy Berry</td>\n      <td>Roy Berry</td>\n    </tr>\n    <tr>\n      <th>3</th>\n      <td>4</td>\n      <td>5Cef8BFA16c5e3c</td>\n      <td>Linda</td>\n      <td>Olsen</td>\n      <td>Dominguez, Mcmillan and Donovan</td>\n      <td>Bensonview</td>\n      <td>Dominican Republic</td>\n      <td>001-808-617-6467x12895</td>\n      <td>+1-813-324-8756</td>\n      <td>stanleyblackwell@benson.org</td>\n      <td>2020-06-02</td>\n      <td>http://www.good-lyons.com/</td>\n      <td>Linda Olsen</td>\n      <td>Linda Olsen</td>\n    </tr>\n    <tr>\n      <th>4</th>\n      <td>5</td>\n      <td>053d585Ab6b3159</td>\n      <td>Joanna</td>\n      <td>Bender</td>\n      <td>Martin, Lang and Andrade</td>\n      <td>West Priscilla</td>\n      <td>Slovakia (Slovak Republic)</td>\n      <td>001-234-203-0635x76146</td>\n      <td>001-199-446-3860x3486</td>\n      <td>colinalvarado@miles.net</td>\n      <td>2021-04-17</td>\n      <td>https://goodwin-ingram.com/</td>\n      <td>Joanna Bender</td>\n      <td>Joanna Bender</td>\n    </tr>\n    <tr>\n      <th>...</th>\n      <td>...</td>\n      <td>...</td>\n      <td>...</td>\n      <td>...</td>\n      <td>...</td>\n      <td>...</td>\n      <td>...</td>\n      <td>...</td>\n      <td>...</td>\n      <td>...</td>\n      <td>...</td>\n      <td>...</td>\n      <td>...</td>\n      <td>...</td>\n    </tr>\n    <tr>\n      <th>95</th>\n      <td>96</td>\n      <td>cb8E23e48d22Eae</td>\n      <td>Karl</td>\n      <td>Greer</td>\n      <td>Carey LLC</td>\n      <td>East Richard</td>\n      <td>Guyana</td>\n      <td>(188)169-1674x58692</td>\n      <td>001-841-293-3519x614</td>\n      <td>hhart@jensen.com</td>\n      <td>2022-01-30</td>\n      <td>http://hayes-perez.com/</td>\n      <td>Karl Greer</td>\n      <td>Karl Greer</td>\n    </tr>\n    <tr>\n      <th>96</th>\n      <td>97</td>\n      <td>CeD220bdAaCfaDf</td>\n      <td>Lynn</td>\n      <td>Atkinson</td>\n      <td>Ware, Burns and Oneal</td>\n      <td>New Bradview</td>\n      <td>Sri Lanka</td>\n      <td>+1-846-706-2218</td>\n      <td>605.413.3198</td>\n      <td>vkemp@ferrell.com</td>\n      <td>2021-07-10</td>\n      <td>https://novak-allison.com/</td>\n      <td>Lynn Atkinson</td>\n      <td>Lynn Atkinson</td>\n    </tr>\n    <tr>\n      <th>97</th>\n      <td>98</td>\n      <td>28CDbC0dFe4b1Db</td>\n      <td>Fred</td>\n      <td>Guerra</td>\n      <td>Schmitt-Jones</td>\n      <td>Ortegaland</td>\n      <td>Solomon Islands</td>\n      <td>+1-753-067-8419x7170</td>\n      <td>+1-632-666-7507x92121</td>\n      <td>swagner@kane.org</td>\n      <td>2021-09-18</td>\n      <td>https://www.ross.com/</td>\n      <td>Fred Guerra</td>\n      <td>Fred Guerra</td>\n    </tr>\n    <tr>\n      <th>98</th>\n      <td>99</td>\n      <td>c23d1D9EE8DEB0A</td>\n      <td>Yvonne</td>\n      <td>Farmer</td>\n      <td>Fitzgerald-Harrell</td>\n      <td>Lake Elijahview</td>\n      <td>Aruba</td>\n      <td>(530)311-9786</td>\n      <td>001-869-452-0943x12424</td>\n      <td>mccarthystephen@horn-green.biz</td>\n      <td>2021-08-11</td>\n      <td>http://watkins.info/</td>\n      <td>Yvonne Farmer</td>\n      <td>Yvonne Farmer</td>\n    </tr>\n    <tr>\n      <th>99</th>\n      <td>100</td>\n      <td>2354a0E336A91A1</td>\n      <td>Clarence</td>\n      <td>Haynes</td>\n      <td>Le, Nash and Cross</td>\n      <td>Judymouth</td>\n      <td>Honduras</td>\n      <td>(753)813-6941</td>\n      <td>783.639.1472</td>\n      <td>colleen91@faulkner.biz</td>\n      <td>2020-03-11</td>\n      <td>http://www.hatfield-saunders.net/</td>\n      <td>Clarence Haynes</td>\n      <td>Clarence Haynes</td>\n    </tr>\n  </tbody>\n</table>\n<p>100 rows × 14 columns</p>\n</div>"
          },
          "metadata": {}
        }
      ],
      "execution_count": 154
    },
    {
      "cell_type": "code",
      "source": "df['Name'].fillna('Unknown')",
      "metadata": {
        "trusted": true
      },
      "outputs": [
        {
          "execution_count": 155,
          "output_type": "execute_result",
          "data": {
            "text/plain": "0       Sheryl Baxter\n1      Preston Lozano\n2           Roy Berry\n3         Linda Olsen\n4       Joanna Bender\n           ...       \n95         Karl Greer\n96      Lynn Atkinson\n97        Fred Guerra\n98      Yvonne Farmer\n99    Clarence Haynes\nName: Name, Length: 100, dtype: object"
          },
          "metadata": {}
        }
      ],
      "execution_count": 155
    },
    {
      "cell_type": "code",
      "source": "df.loc[df['Index']>50]",
      "metadata": {
        "trusted": true
      },
      "outputs": [
        {
          "execution_count": 156,
          "output_type": "execute_result",
          "data": {
            "text/plain": "    Index      Customer Id  First Name   Last Name  \\\n50     51  Aa20BDe68eAb0e9      Gerald     Hawkins   \n51     52  e898eEB1B9FE22b      Samuel    Crawford   \n52     53  faCEF517ae7D8eB    Patricia     Goodwin   \n53     54  c09952De6Cda8aA      Stacie     Richard   \n54     55  f3BEf3Be028166f       Robin        West   \n55     56  C6F2Fc6a7948a4e       Ralph        Haas   \n56     57  c8FE57cBBdCDcb2     Phyllis   Maldonado   \n57     58  B5acdFC982124F2       Danny     Parrish   \n58     59  8c7DdF10798bCC3       Kathy        Hill   \n59     60  C681dDd0cc422f7       Kelli       Hardy   \n60     61  a940cE42e035F28        Lynn        Pham   \n61     62  9Cf5E6AFE0aeBfd     Shelley      Harris   \n62     63  aEcbe5365BbC67D       Eddie     Jimenez   \n63     64  FCBdfCEAe20A8Dc       Chloe  Hutchinson   \n64     65  636cBF0835E10ff      Eileen       Lynch   \n65     66  fF1b6c9E8Fbf1ff    Fernando     Lambert   \n66     67  2A13F74EAa7DA6c     Makayla      Cannon   \n67     68  a014Ec1b9FccC1E         Tom    Alvarado   \n68     69  421a109cABDf5fa    Virginia      Dudley   \n69     70  CC68FD1D3Bbbf22       Riley        Good   \n70     71  CBCd2Ac8E3eBDF9  Alexandria        Buck   \n71     72  Ef859092FbEcC07     Richard        Roth   \n72     73  F560f2d3cDFb618     Candice      Keller   \n73     74  A3F76Be153Df4a3       Anita      Benson   \n74     75  D01Af0AF7cBbFeA      Regina       Stein   \n75     76  d40e89dCade7b2F       Debra      Riddle   \n76     77  BF6a1f9bd1bf8DE    Brittany      Zuniga   \n77     78  FfaeFFbbbf280db     Cassidy     Mcmahon   \n78     79  CbAE1d1e9a8dCb1      Laurie  Pennington   \n79     80  A7F85c1DE4dB87f   Alejandro       Blair   \n80     81  D6CEAfb3BDbaa1A      Leslie    Jennings   \n81     82  Ebdb6F6F7c90b69    Kathleen       Mckay   \n82     83  E8E7e8Cfe516ef0      Hunter      Moreno   \n83     84  78C06E9b6B3DF20        Chad    Davidson   \n84     85  03A1E62ADdeb31c       Corey        Holt   \n85     86  C6763c99d0bd16D        Emma  Cunningham   \n86     87  ebe77E5Bf9476CE       Duane       Woods   \n87     88  E4Bbcd8AD81fC5f      Alison      Vargas   \n88     89  efeb73245CDf1fF      Vernon        Kane   \n89     90  37Ec4B395641c1E        Lori     Flowers   \n90     91  5ef6d3eefdD43bE        Nina      Chavez   \n91     92  98b3aeDcC3B9FF3       Shane       Foley   \n92     93  aAb6AFc7AfD0fF3      Collin       Ayers   \n93     94  54B5B5Fe9F1B6C5      Sherry       Young   \n94     95  BE91A0bdcA49Bbc     Darrell     Douglas   \n95     96  cb8E23e48d22Eae        Karl       Greer   \n96     97  CeD220bdAaCfaDf        Lynn    Atkinson   \n97     98  28CDbC0dFe4b1Db        Fred      Guerra   \n98     99  c23d1D9EE8DEB0A      Yvonne      Farmer   \n99    100  2354a0E336A91A1    Clarence      Haynes   \n\n                         Company                 City  \\\n50       Phelps, Forbes and Koch       New Alberttown   \n51       May, Goodwin and Martin        South Jasmine   \n52  Christian, Winters and Ellis            Cowanfort   \n53                      Byrd Inc          New Deborah   \n54     Nixon, Blackwell and Sosa            Wallstown   \n55                    Montes PLC    Lake Ellenchester   \n56                     Costa PLC         Lake Whitney   \n57                     Novak LLC       East Jaredbury   \n58        Moore, Mccoy and Glass           Selenabury   \n59                     Petty Ltd            Huangfort   \n60    Brennan, Camacho and Tapia      East Pennyshire   \n61       Prince, Malone and Pugh   Port Jasminborough   \n62                Caldwell Group        West Kristine   \n63                     Simon LLC          South Julia   \n64    Knight, Abbott and Hubbard         Helenborough   \n65                  Church-Banks           Lake Nancy   \n66                 Henderson Inc           Georgeport   \n67           Donaldson-Dougherty     South Sophiaberg   \n68                    Warren Ltd             Hartbury   \n69                      Wade PLC           Erikaville   \n70                 Keller-Coffey          Nicolasfort   \n71                Conway-Mcbride     New Jasmineshire   \n72                Huynh and Sons      East Summerstad   \n73                   Parrish Ltd          Skinnerport   \n74                  Guzman-Brown              Raystad   \n75    Chang, Aguirre and Leblanc           Colinhaven   \n76                  Mason-Hester        West Reginald   \n77    Mcguire, Huynh and Hopkins   Lake Sherryborough   \n78       Sanchez, Marsh and Hale  Port Katherineville   \n79      Combs, Waller and Durham           Thomasland   \n80             Blankenship-Arias            Coreybury   \n81      Coffey, Lamb and Johnson       Lake Janiceton   \n82          Fitzpatrick-Lawrence         East Clinton   \n83                Garcia-Jimenez    South Joshuashire   \n84    Mcdonald, Bird and Ramirez           New Glenda   \n85                  Stephens Inc    North Jillianview   \n86                Montoya-Miller            Lyonsberg   \n87       Vaughn, Watts and Leach    East Cristinabury   \n88             Carter-Strickland           Thomasfurt   \n89               Decker-Mcknight       North Joeburgh   \n90                 Byrd-Campbell       Cassidychester   \n91                    Rocha-Hart     South Dannymouth   \n92                 Lamb-Peterson         South Lonnie   \n93       Lee, Lucero and Johnson         Frankchester   \n94   Newton, Petersen and Mathis         Daisyborough   \n95                     Carey LLC         East Richard   \n96         Ware, Burns and Oneal         New Bradview   \n97                 Schmitt-Jones           Ortegaland   \n98            Fitzgerald-Harrell      Lake Elijahview   \n99            Le, Nash and Cross            Judymouth   \n\n                                         Country                 Phone 1  \\\n50                                        Canada   +1-323-239-1456x96168   \n51                                       Algeria            802-242-7457   \n52                                     Swaziland      322.549.7139x70040   \n53                                    Madagascar  001-622-948-3641x24810   \n54                                       Ecuador            698.303.4267   \n55                         Palestinian Territory              2239271999   \n56                              Saint Barthelemy              4500370767   \n57                          United Arab Emirates      (669)384-8597x8794   \n58  South Georgia and the South Sandwich Islands    001-171-716-2175x310   \n59                         Sao Tome and Principe       020.324.2191x2022   \n60                                      Portugal        846.468.6834x611   \n61                                          Togo       423.098.0315x8373   \n62                                      Ethiopia    +1-235-657-1073x6306   \n63                                   Netherlands            981-544-9452   \n64                                       Liberia   +1-158-951-4131x53578   \n65                                     Lithuania            497.829.9038   \n66                                 New Caledonia  001-215-801-6392x46009   \n67                                      Kiribati      (585)606-2980x2258   \n68                   French Southern Territories      027.846.3705x14184   \n69                                        Canada              6977745822   \n70                                          Iran      078-900-4760x76668   \n71                                       Morocco            581-440-6539   \n72                                      Zimbabwe  001-927-965-8550x92406   \n73                            Russian Federation      874.617.5668x69878   \n74                               Solomon Islands   001-469-848-0724x4407   \n75                  United States Virgin Islands   +1-768-182-6014x14336   \n76                               Kyrgyz Republic           (050)136-9025   \n77                                       Myanmar              5040771311   \n78                                      Dominica        007.155.3406x553   \n79                                       Iceland     (690)068-4641x51468   \n80                                    Micronesia            629.198.6346   \n81              Saint Vincent and the Grenadines           (733)910-9968   \n82                                   Isle of Man           (733)833-6754   \n83                                          Oman              8275702958   \n84                                          Fiji   001-439-242-4986x7918   \n85                                   New Zealand      128-059-0206x60217   \n86                                      Maldives      (636)544-7783x7288   \n87                                         Benin            365-273-8144   \n88                                         Yemen        114-854-1159x555   \n89                                       Namibia            679.415.1210   \n90                                        Bhutan            053-344-3205   \n91                                       Hungary         +1-822-569-0302   \n92                                      Anguilla        404-645-5351x012   \n93                               Solomon Islands            158-687-1764   \n94                                          Mali   001-084-845-9524x1777   \n95                                        Guyana     (188)169-1674x58692   \n96                                     Sri Lanka         +1-846-706-2218   \n97                               Solomon Islands    +1-753-067-8419x7170   \n98                                         Aruba           (530)311-9786   \n99                                      Honduras           (753)813-6941   \n\n                   Phone 2                              Email  \\\n50           (092)508-0269           uwarner@steele-arias.com   \n51       626.116.9535x8578         xpittman@ritter-carney.net   \n52           (111)741-4173            vaughanchristy@lara.biz   \n53   001-731-168-2893x8891          clinton85@colon-arias.org   \n54    001-683-837-7651x525        greenemiranda@zimmerman.com   \n55    001-962-434-0867x649          goodmancesar@figueroa.biz   \n56    001-508-064-6725x017            yhanson@warner-diaz.org   \n57        506.731.5952x571       howelldarren@house-cohen.com   \n58            888.625.0654         ncamacho@boone-simmons.org   \n59            424-157-8216            kristopher62@oliver.com   \n60        001-248-691-0006              mpham@rios-guzman.com   \n61   +1-386-458-8944x15194      zachary96@mitchell-bryant.org   \n62      (026)401-7353x2417          kristiwhitney@bernard.com   \n63     +1-288-552-4666x060          leah85@sutton-terrell.com   \n64    001-673-779-6713x680              levigiles@vincent.com   \n65              3863743398           fisherlinda@schaefer.net   \n66            027-609-6460             scottcurtis@hurley.biz   \n67       730-797-3594x5614      nicholsonnina@montgomery.info   \n68    +1-439-171-1846x4636               zvalencia@phelps.com   \n69            855-436-7641                alex06@galloway.com   \n70      414-112-8700x68751                  lee48@manning.com   \n71              9857827463        aharper@maddox-townsend.org   \n72  001-243-038-4271x53076           buckleycory@odonnell.net   \n73      (399)820-6418x0071               angie04@oconnell.com   \n74  001-085-360-4426x00357          zrosario@rojas-hardin.net   \n75           (303)961-4491            shieldskerry@robles.com   \n76   001-480-851-2496x0157       mchandler@cochran-huerta.org   \n77       684-682-0021x1326         katrinalane@fitzgerald.com   \n78     +1-809-862-5566x277               cookejill@powell.com   \n79       555.509.8691x2329            elizabethbarr@ewing.com   \n80            075.256.0829                corey75@wiggins.com   \n81      (691)247-4128x0665  chloelester@higgins-wilkinson.com   \n82        001-761-013-7121          isaac26@benton-finley.com   \n83           (804)842-4715          justinwalters@jimenez.com   \n84              3162708934               maurice46@morgan.com   \n85      (312)164-4545x2284                walter83@juarez.org   \n86      (203)287-1003x5932                 kmercer@wagner.com   \n87       053-308-7653x6287                  vcantu@norton.com   \n88            499-608-4612             hilljesse@barrett.info   \n89       945-842-3659x4581           tyrone77@valenzuela.info   \n90     +1-330-920-5422x571               elliserica@frank.com   \n91  001-626-114-5844x55073                 nsteele@sparks.com   \n92   001-257-582-8850x8516           dudleyemily@gonzales.biz   \n93       (438)375-6207x003        alan79@gates-mclaughlin.com   \n94        001-769-564-6303           grayjean@lowery-good.com   \n95    001-841-293-3519x614                   hhart@jensen.com   \n96            605.413.3198                  vkemp@ferrell.com   \n97   +1-632-666-7507x92121                   swagner@kane.org   \n98  001-869-452-0943x12424     mccarthystephen@horn-green.biz   \n99            783.639.1472             colleen91@faulkner.biz   \n\n   Subscription Date                            Website          Full Name  \\\n50        2021-03-19            https://valenzuela.com/     Gerald Hawkins   \n51        2021-03-27              https://guerrero.org/    Samuel Crawford   \n52        2021-03-08                 http://clark.info/   Patricia Goodwin   \n53        2020-10-15                   https://kim.com/     Stacie Richard   \n54        2022-01-13              https://www.mora.com/         Robin West   \n55        2020-05-25                    http://may.com/         Ralph Haas   \n56        2021-01-25            http://www.bernard.com/  Phyllis Maldonado   \n57        2021-03-17     http://www.parsons-hudson.com/      Danny Parrish   \n58        2020-11-15                 http://hayden.com/         Kathy Hill   \n59        2020-12-20               http://www.kidd.com/        Kelli Hardy   \n60        2020-08-21            https://www.murphy.com/          Lynn Pham   \n61        2020-12-10              https://www.ryan.com/     Shelley Harris   \n62        2022-03-24                 http://cherry.com/      Eddie Jimenez   \n63        2022-05-15             https://mitchell.info/   Chloe Hutchinson   \n64        2021-01-02                  http://mckay.com/       Eileen Lynch   \n65        2021-04-23              https://www.vang.com/   Fernando Lambert   \n66        2020-01-20          http://www.velazquez.net/     Makayla Cannon   \n67        2020-08-18            http://odom-massey.com/       Tom Alvarado   \n68        2021-01-31         http://hunter-esparza.com/    Virginia Dudley   \n69        2020-02-03                 http://conway.org/         Riley Good   \n70        2021-02-20                https://ramsey.org/    Alexandria Buck   \n71        2020-02-23            https://www.brooks.com/       Richard Roth   \n72        2020-08-22            https://www.lucero.com/     Candice Keller   \n73        2020-02-09                http://oconnor.com/       Anita Benson   \n74        2022-01-15          http://www.johnston.info/       Regina Stein   \n75        2020-07-11                http://kaiser.info/       Debra Riddle   \n76        2021-07-24              http://www.boyle.com/    Brittany Zuniga   \n77        2020-10-21                 https://hurst.com/    Cassidy Mcmahon   \n78        2020-06-08             http://www.hebert.com/  Laurie Pennington   \n79        2020-09-19       https://mercado-blevins.com/    Alejandro Blair   \n80        2021-11-13            https://www.juarez.com/    Leslie Jennings   \n81        2021-09-12       http://www.owens-mooney.com/     Kathleen Mckay   \n82        2020-12-28                 http://walls.info/      Hunter Moreno   \n83        2021-11-15      http://www.garner-oliver.com/      Chad Davidson   \n84        2020-02-18             http://www.watson.com/         Corey Holt   \n85        2022-05-13              http://www.reid.info/    Emma Cunningham   \n86        2020-07-21                 http://murray.org/        Duane Woods   \n87        2020-11-10                 http://mason.info/      Alison Vargas   \n88        2021-04-15      http://www.duffy-hensley.net/        Vernon Kane   \n89        2021-01-09      http://www.deleon-crosby.com/       Lori Flowers   \n90        2020-03-26              https://www.pugh.com/        Nina Chavez   \n91        2021-07-06       https://www.holt-sparks.com/        Shane Foley   \n92        2021-06-29               http://www.ruiz.com/       Collin Ayers   \n93        2021-04-04                https://travis.net/       Sherry Young   \n94        2022-02-17                 https://banks.biz/    Darrell Douglas   \n95        2022-01-30            http://hayes-perez.com/         Karl Greer   \n96        2021-07-10         https://novak-allison.com/      Lynn Atkinson   \n97        2021-09-18              https://www.ross.com/        Fred Guerra   \n98        2021-08-11               http://watkins.info/      Yvonne Farmer   \n99        2020-03-11  http://www.hatfield-saunders.net/    Clarence Haynes   \n\n                 Name  \n50     Gerald Hawkins  \n51    Samuel Crawford  \n52   Patricia Goodwin  \n53     Stacie Richard  \n54         Robin West  \n55         Ralph Haas  \n56  Phyllis Maldonado  \n57      Danny Parrish  \n58         Kathy Hill  \n59        Kelli Hardy  \n60          Lynn Pham  \n61     Shelley Harris  \n62      Eddie Jimenez  \n63   Chloe Hutchinson  \n64       Eileen Lynch  \n65   Fernando Lambert  \n66     Makayla Cannon  \n67       Tom Alvarado  \n68    Virginia Dudley  \n69         Riley Good  \n70    Alexandria Buck  \n71       Richard Roth  \n72     Candice Keller  \n73       Anita Benson  \n74       Regina Stein  \n75       Debra Riddle  \n76    Brittany Zuniga  \n77    Cassidy Mcmahon  \n78  Laurie Pennington  \n79    Alejandro Blair  \n80    Leslie Jennings  \n81     Kathleen Mckay  \n82      Hunter Moreno  \n83      Chad Davidson  \n84         Corey Holt  \n85    Emma Cunningham  \n86        Duane Woods  \n87      Alison Vargas  \n88        Vernon Kane  \n89       Lori Flowers  \n90        Nina Chavez  \n91        Shane Foley  \n92       Collin Ayers  \n93       Sherry Young  \n94    Darrell Douglas  \n95         Karl Greer  \n96      Lynn Atkinson  \n97        Fred Guerra  \n98      Yvonne Farmer  \n99    Clarence Haynes  ",
            "text/html": "<div>\n<style scoped>\n    .dataframe tbody tr th:only-of-type {\n        vertical-align: middle;\n    }\n\n    .dataframe tbody tr th {\n        vertical-align: top;\n    }\n\n    .dataframe thead th {\n        text-align: right;\n    }\n</style>\n<table border=\"1\" class=\"dataframe\">\n  <thead>\n    <tr style=\"text-align: right;\">\n      <th></th>\n      <th>Index</th>\n      <th>Customer Id</th>\n      <th>First Name</th>\n      <th>Last Name</th>\n      <th>Company</th>\n      <th>City</th>\n      <th>Country</th>\n      <th>Phone 1</th>\n      <th>Phone 2</th>\n      <th>Email</th>\n      <th>Subscription Date</th>\n      <th>Website</th>\n      <th>Full Name</th>\n      <th>Name</th>\n    </tr>\n  </thead>\n  <tbody>\n    <tr>\n      <th>50</th>\n      <td>51</td>\n      <td>Aa20BDe68eAb0e9</td>\n      <td>Gerald</td>\n      <td>Hawkins</td>\n      <td>Phelps, Forbes and Koch</td>\n      <td>New Alberttown</td>\n      <td>Canada</td>\n      <td>+1-323-239-1456x96168</td>\n      <td>(092)508-0269</td>\n      <td>uwarner@steele-arias.com</td>\n      <td>2021-03-19</td>\n      <td>https://valenzuela.com/</td>\n      <td>Gerald Hawkins</td>\n      <td>Gerald Hawkins</td>\n    </tr>\n    <tr>\n      <th>51</th>\n      <td>52</td>\n      <td>e898eEB1B9FE22b</td>\n      <td>Samuel</td>\n      <td>Crawford</td>\n      <td>May, Goodwin and Martin</td>\n      <td>South Jasmine</td>\n      <td>Algeria</td>\n      <td>802-242-7457</td>\n      <td>626.116.9535x8578</td>\n      <td>xpittman@ritter-carney.net</td>\n      <td>2021-03-27</td>\n      <td>https://guerrero.org/</td>\n      <td>Samuel Crawford</td>\n      <td>Samuel Crawford</td>\n    </tr>\n    <tr>\n      <th>52</th>\n      <td>53</td>\n      <td>faCEF517ae7D8eB</td>\n      <td>Patricia</td>\n      <td>Goodwin</td>\n      <td>Christian, Winters and Ellis</td>\n      <td>Cowanfort</td>\n      <td>Swaziland</td>\n      <td>322.549.7139x70040</td>\n      <td>(111)741-4173</td>\n      <td>vaughanchristy@lara.biz</td>\n      <td>2021-03-08</td>\n      <td>http://clark.info/</td>\n      <td>Patricia Goodwin</td>\n      <td>Patricia Goodwin</td>\n    </tr>\n    <tr>\n      <th>53</th>\n      <td>54</td>\n      <td>c09952De6Cda8aA</td>\n      <td>Stacie</td>\n      <td>Richard</td>\n      <td>Byrd Inc</td>\n      <td>New Deborah</td>\n      <td>Madagascar</td>\n      <td>001-622-948-3641x24810</td>\n      <td>001-731-168-2893x8891</td>\n      <td>clinton85@colon-arias.org</td>\n      <td>2020-10-15</td>\n      <td>https://kim.com/</td>\n      <td>Stacie Richard</td>\n      <td>Stacie Richard</td>\n    </tr>\n    <tr>\n      <th>54</th>\n      <td>55</td>\n      <td>f3BEf3Be028166f</td>\n      <td>Robin</td>\n      <td>West</td>\n      <td>Nixon, Blackwell and Sosa</td>\n      <td>Wallstown</td>\n      <td>Ecuador</td>\n      <td>698.303.4267</td>\n      <td>001-683-837-7651x525</td>\n      <td>greenemiranda@zimmerman.com</td>\n      <td>2022-01-13</td>\n      <td>https://www.mora.com/</td>\n      <td>Robin West</td>\n      <td>Robin West</td>\n    </tr>\n    <tr>\n      <th>55</th>\n      <td>56</td>\n      <td>C6F2Fc6a7948a4e</td>\n      <td>Ralph</td>\n      <td>Haas</td>\n      <td>Montes PLC</td>\n      <td>Lake Ellenchester</td>\n      <td>Palestinian Territory</td>\n      <td>2239271999</td>\n      <td>001-962-434-0867x649</td>\n      <td>goodmancesar@figueroa.biz</td>\n      <td>2020-05-25</td>\n      <td>http://may.com/</td>\n      <td>Ralph Haas</td>\n      <td>Ralph Haas</td>\n    </tr>\n    <tr>\n      <th>56</th>\n      <td>57</td>\n      <td>c8FE57cBBdCDcb2</td>\n      <td>Phyllis</td>\n      <td>Maldonado</td>\n      <td>Costa PLC</td>\n      <td>Lake Whitney</td>\n      <td>Saint Barthelemy</td>\n      <td>4500370767</td>\n      <td>001-508-064-6725x017</td>\n      <td>yhanson@warner-diaz.org</td>\n      <td>2021-01-25</td>\n      <td>http://www.bernard.com/</td>\n      <td>Phyllis Maldonado</td>\n      <td>Phyllis Maldonado</td>\n    </tr>\n    <tr>\n      <th>57</th>\n      <td>58</td>\n      <td>B5acdFC982124F2</td>\n      <td>Danny</td>\n      <td>Parrish</td>\n      <td>Novak LLC</td>\n      <td>East Jaredbury</td>\n      <td>United Arab Emirates</td>\n      <td>(669)384-8597x8794</td>\n      <td>506.731.5952x571</td>\n      <td>howelldarren@house-cohen.com</td>\n      <td>2021-03-17</td>\n      <td>http://www.parsons-hudson.com/</td>\n      <td>Danny Parrish</td>\n      <td>Danny Parrish</td>\n    </tr>\n    <tr>\n      <th>58</th>\n      <td>59</td>\n      <td>8c7DdF10798bCC3</td>\n      <td>Kathy</td>\n      <td>Hill</td>\n      <td>Moore, Mccoy and Glass</td>\n      <td>Selenabury</td>\n      <td>South Georgia and the South Sandwich Islands</td>\n      <td>001-171-716-2175x310</td>\n      <td>888.625.0654</td>\n      <td>ncamacho@boone-simmons.org</td>\n      <td>2020-11-15</td>\n      <td>http://hayden.com/</td>\n      <td>Kathy Hill</td>\n      <td>Kathy Hill</td>\n    </tr>\n    <tr>\n      <th>59</th>\n      <td>60</td>\n      <td>C681dDd0cc422f7</td>\n      <td>Kelli</td>\n      <td>Hardy</td>\n      <td>Petty Ltd</td>\n      <td>Huangfort</td>\n      <td>Sao Tome and Principe</td>\n      <td>020.324.2191x2022</td>\n      <td>424-157-8216</td>\n      <td>kristopher62@oliver.com</td>\n      <td>2020-12-20</td>\n      <td>http://www.kidd.com/</td>\n      <td>Kelli Hardy</td>\n      <td>Kelli Hardy</td>\n    </tr>\n    <tr>\n      <th>60</th>\n      <td>61</td>\n      <td>a940cE42e035F28</td>\n      <td>Lynn</td>\n      <td>Pham</td>\n      <td>Brennan, Camacho and Tapia</td>\n      <td>East Pennyshire</td>\n      <td>Portugal</td>\n      <td>846.468.6834x611</td>\n      <td>001-248-691-0006</td>\n      <td>mpham@rios-guzman.com</td>\n      <td>2020-08-21</td>\n      <td>https://www.murphy.com/</td>\n      <td>Lynn Pham</td>\n      <td>Lynn Pham</td>\n    </tr>\n    <tr>\n      <th>61</th>\n      <td>62</td>\n      <td>9Cf5E6AFE0aeBfd</td>\n      <td>Shelley</td>\n      <td>Harris</td>\n      <td>Prince, Malone and Pugh</td>\n      <td>Port Jasminborough</td>\n      <td>Togo</td>\n      <td>423.098.0315x8373</td>\n      <td>+1-386-458-8944x15194</td>\n      <td>zachary96@mitchell-bryant.org</td>\n      <td>2020-12-10</td>\n      <td>https://www.ryan.com/</td>\n      <td>Shelley Harris</td>\n      <td>Shelley Harris</td>\n    </tr>\n    <tr>\n      <th>62</th>\n      <td>63</td>\n      <td>aEcbe5365BbC67D</td>\n      <td>Eddie</td>\n      <td>Jimenez</td>\n      <td>Caldwell Group</td>\n      <td>West Kristine</td>\n      <td>Ethiopia</td>\n      <td>+1-235-657-1073x6306</td>\n      <td>(026)401-7353x2417</td>\n      <td>kristiwhitney@bernard.com</td>\n      <td>2022-03-24</td>\n      <td>http://cherry.com/</td>\n      <td>Eddie Jimenez</td>\n      <td>Eddie Jimenez</td>\n    </tr>\n    <tr>\n      <th>63</th>\n      <td>64</td>\n      <td>FCBdfCEAe20A8Dc</td>\n      <td>Chloe</td>\n      <td>Hutchinson</td>\n      <td>Simon LLC</td>\n      <td>South Julia</td>\n      <td>Netherlands</td>\n      <td>981-544-9452</td>\n      <td>+1-288-552-4666x060</td>\n      <td>leah85@sutton-terrell.com</td>\n      <td>2022-05-15</td>\n      <td>https://mitchell.info/</td>\n      <td>Chloe Hutchinson</td>\n      <td>Chloe Hutchinson</td>\n    </tr>\n    <tr>\n      <th>64</th>\n      <td>65</td>\n      <td>636cBF0835E10ff</td>\n      <td>Eileen</td>\n      <td>Lynch</td>\n      <td>Knight, Abbott and Hubbard</td>\n      <td>Helenborough</td>\n      <td>Liberia</td>\n      <td>+1-158-951-4131x53578</td>\n      <td>001-673-779-6713x680</td>\n      <td>levigiles@vincent.com</td>\n      <td>2021-01-02</td>\n      <td>http://mckay.com/</td>\n      <td>Eileen Lynch</td>\n      <td>Eileen Lynch</td>\n    </tr>\n    <tr>\n      <th>65</th>\n      <td>66</td>\n      <td>fF1b6c9E8Fbf1ff</td>\n      <td>Fernando</td>\n      <td>Lambert</td>\n      <td>Church-Banks</td>\n      <td>Lake Nancy</td>\n      <td>Lithuania</td>\n      <td>497.829.9038</td>\n      <td>3863743398</td>\n      <td>fisherlinda@schaefer.net</td>\n      <td>2021-04-23</td>\n      <td>https://www.vang.com/</td>\n      <td>Fernando Lambert</td>\n      <td>Fernando Lambert</td>\n    </tr>\n    <tr>\n      <th>66</th>\n      <td>67</td>\n      <td>2A13F74EAa7DA6c</td>\n      <td>Makayla</td>\n      <td>Cannon</td>\n      <td>Henderson Inc</td>\n      <td>Georgeport</td>\n      <td>New Caledonia</td>\n      <td>001-215-801-6392x46009</td>\n      <td>027-609-6460</td>\n      <td>scottcurtis@hurley.biz</td>\n      <td>2020-01-20</td>\n      <td>http://www.velazquez.net/</td>\n      <td>Makayla Cannon</td>\n      <td>Makayla Cannon</td>\n    </tr>\n    <tr>\n      <th>67</th>\n      <td>68</td>\n      <td>a014Ec1b9FccC1E</td>\n      <td>Tom</td>\n      <td>Alvarado</td>\n      <td>Donaldson-Dougherty</td>\n      <td>South Sophiaberg</td>\n      <td>Kiribati</td>\n      <td>(585)606-2980x2258</td>\n      <td>730-797-3594x5614</td>\n      <td>nicholsonnina@montgomery.info</td>\n      <td>2020-08-18</td>\n      <td>http://odom-massey.com/</td>\n      <td>Tom Alvarado</td>\n      <td>Tom Alvarado</td>\n    </tr>\n    <tr>\n      <th>68</th>\n      <td>69</td>\n      <td>421a109cABDf5fa</td>\n      <td>Virginia</td>\n      <td>Dudley</td>\n      <td>Warren Ltd</td>\n      <td>Hartbury</td>\n      <td>French Southern Territories</td>\n      <td>027.846.3705x14184</td>\n      <td>+1-439-171-1846x4636</td>\n      <td>zvalencia@phelps.com</td>\n      <td>2021-01-31</td>\n      <td>http://hunter-esparza.com/</td>\n      <td>Virginia Dudley</td>\n      <td>Virginia Dudley</td>\n    </tr>\n    <tr>\n      <th>69</th>\n      <td>70</td>\n      <td>CC68FD1D3Bbbf22</td>\n      <td>Riley</td>\n      <td>Good</td>\n      <td>Wade PLC</td>\n      <td>Erikaville</td>\n      <td>Canada</td>\n      <td>6977745822</td>\n      <td>855-436-7641</td>\n      <td>alex06@galloway.com</td>\n      <td>2020-02-03</td>\n      <td>http://conway.org/</td>\n      <td>Riley Good</td>\n      <td>Riley Good</td>\n    </tr>\n    <tr>\n      <th>70</th>\n      <td>71</td>\n      <td>CBCd2Ac8E3eBDF9</td>\n      <td>Alexandria</td>\n      <td>Buck</td>\n      <td>Keller-Coffey</td>\n      <td>Nicolasfort</td>\n      <td>Iran</td>\n      <td>078-900-4760x76668</td>\n      <td>414-112-8700x68751</td>\n      <td>lee48@manning.com</td>\n      <td>2021-02-20</td>\n      <td>https://ramsey.org/</td>\n      <td>Alexandria Buck</td>\n      <td>Alexandria Buck</td>\n    </tr>\n    <tr>\n      <th>71</th>\n      <td>72</td>\n      <td>Ef859092FbEcC07</td>\n      <td>Richard</td>\n      <td>Roth</td>\n      <td>Conway-Mcbride</td>\n      <td>New Jasmineshire</td>\n      <td>Morocco</td>\n      <td>581-440-6539</td>\n      <td>9857827463</td>\n      <td>aharper@maddox-townsend.org</td>\n      <td>2020-02-23</td>\n      <td>https://www.brooks.com/</td>\n      <td>Richard Roth</td>\n      <td>Richard Roth</td>\n    </tr>\n    <tr>\n      <th>72</th>\n      <td>73</td>\n      <td>F560f2d3cDFb618</td>\n      <td>Candice</td>\n      <td>Keller</td>\n      <td>Huynh and Sons</td>\n      <td>East Summerstad</td>\n      <td>Zimbabwe</td>\n      <td>001-927-965-8550x92406</td>\n      <td>001-243-038-4271x53076</td>\n      <td>buckleycory@odonnell.net</td>\n      <td>2020-08-22</td>\n      <td>https://www.lucero.com/</td>\n      <td>Candice Keller</td>\n      <td>Candice Keller</td>\n    </tr>\n    <tr>\n      <th>73</th>\n      <td>74</td>\n      <td>A3F76Be153Df4a3</td>\n      <td>Anita</td>\n      <td>Benson</td>\n      <td>Parrish Ltd</td>\n      <td>Skinnerport</td>\n      <td>Russian Federation</td>\n      <td>874.617.5668x69878</td>\n      <td>(399)820-6418x0071</td>\n      <td>angie04@oconnell.com</td>\n      <td>2020-02-09</td>\n      <td>http://oconnor.com/</td>\n      <td>Anita Benson</td>\n      <td>Anita Benson</td>\n    </tr>\n    <tr>\n      <th>74</th>\n      <td>75</td>\n      <td>D01Af0AF7cBbFeA</td>\n      <td>Regina</td>\n      <td>Stein</td>\n      <td>Guzman-Brown</td>\n      <td>Raystad</td>\n      <td>Solomon Islands</td>\n      <td>001-469-848-0724x4407</td>\n      <td>001-085-360-4426x00357</td>\n      <td>zrosario@rojas-hardin.net</td>\n      <td>2022-01-15</td>\n      <td>http://www.johnston.info/</td>\n      <td>Regina Stein</td>\n      <td>Regina Stein</td>\n    </tr>\n    <tr>\n      <th>75</th>\n      <td>76</td>\n      <td>d40e89dCade7b2F</td>\n      <td>Debra</td>\n      <td>Riddle</td>\n      <td>Chang, Aguirre and Leblanc</td>\n      <td>Colinhaven</td>\n      <td>United States Virgin Islands</td>\n      <td>+1-768-182-6014x14336</td>\n      <td>(303)961-4491</td>\n      <td>shieldskerry@robles.com</td>\n      <td>2020-07-11</td>\n      <td>http://kaiser.info/</td>\n      <td>Debra Riddle</td>\n      <td>Debra Riddle</td>\n    </tr>\n    <tr>\n      <th>76</th>\n      <td>77</td>\n      <td>BF6a1f9bd1bf8DE</td>\n      <td>Brittany</td>\n      <td>Zuniga</td>\n      <td>Mason-Hester</td>\n      <td>West Reginald</td>\n      <td>Kyrgyz Republic</td>\n      <td>(050)136-9025</td>\n      <td>001-480-851-2496x0157</td>\n      <td>mchandler@cochran-huerta.org</td>\n      <td>2021-07-24</td>\n      <td>http://www.boyle.com/</td>\n      <td>Brittany Zuniga</td>\n      <td>Brittany Zuniga</td>\n    </tr>\n    <tr>\n      <th>77</th>\n      <td>78</td>\n      <td>FfaeFFbbbf280db</td>\n      <td>Cassidy</td>\n      <td>Mcmahon</td>\n      <td>Mcguire, Huynh and Hopkins</td>\n      <td>Lake Sherryborough</td>\n      <td>Myanmar</td>\n      <td>5040771311</td>\n      <td>684-682-0021x1326</td>\n      <td>katrinalane@fitzgerald.com</td>\n      <td>2020-10-21</td>\n      <td>https://hurst.com/</td>\n      <td>Cassidy Mcmahon</td>\n      <td>Cassidy Mcmahon</td>\n    </tr>\n    <tr>\n      <th>78</th>\n      <td>79</td>\n      <td>CbAE1d1e9a8dCb1</td>\n      <td>Laurie</td>\n      <td>Pennington</td>\n      <td>Sanchez, Marsh and Hale</td>\n      <td>Port Katherineville</td>\n      <td>Dominica</td>\n      <td>007.155.3406x553</td>\n      <td>+1-809-862-5566x277</td>\n      <td>cookejill@powell.com</td>\n      <td>2020-06-08</td>\n      <td>http://www.hebert.com/</td>\n      <td>Laurie Pennington</td>\n      <td>Laurie Pennington</td>\n    </tr>\n    <tr>\n      <th>79</th>\n      <td>80</td>\n      <td>A7F85c1DE4dB87f</td>\n      <td>Alejandro</td>\n      <td>Blair</td>\n      <td>Combs, Waller and Durham</td>\n      <td>Thomasland</td>\n      <td>Iceland</td>\n      <td>(690)068-4641x51468</td>\n      <td>555.509.8691x2329</td>\n      <td>elizabethbarr@ewing.com</td>\n      <td>2020-09-19</td>\n      <td>https://mercado-blevins.com/</td>\n      <td>Alejandro Blair</td>\n      <td>Alejandro Blair</td>\n    </tr>\n    <tr>\n      <th>80</th>\n      <td>81</td>\n      <td>D6CEAfb3BDbaa1A</td>\n      <td>Leslie</td>\n      <td>Jennings</td>\n      <td>Blankenship-Arias</td>\n      <td>Coreybury</td>\n      <td>Micronesia</td>\n      <td>629.198.6346</td>\n      <td>075.256.0829</td>\n      <td>corey75@wiggins.com</td>\n      <td>2021-11-13</td>\n      <td>https://www.juarez.com/</td>\n      <td>Leslie Jennings</td>\n      <td>Leslie Jennings</td>\n    </tr>\n    <tr>\n      <th>81</th>\n      <td>82</td>\n      <td>Ebdb6F6F7c90b69</td>\n      <td>Kathleen</td>\n      <td>Mckay</td>\n      <td>Coffey, Lamb and Johnson</td>\n      <td>Lake Janiceton</td>\n      <td>Saint Vincent and the Grenadines</td>\n      <td>(733)910-9968</td>\n      <td>(691)247-4128x0665</td>\n      <td>chloelester@higgins-wilkinson.com</td>\n      <td>2021-09-12</td>\n      <td>http://www.owens-mooney.com/</td>\n      <td>Kathleen Mckay</td>\n      <td>Kathleen Mckay</td>\n    </tr>\n    <tr>\n      <th>82</th>\n      <td>83</td>\n      <td>E8E7e8Cfe516ef0</td>\n      <td>Hunter</td>\n      <td>Moreno</td>\n      <td>Fitzpatrick-Lawrence</td>\n      <td>East Clinton</td>\n      <td>Isle of Man</td>\n      <td>(733)833-6754</td>\n      <td>001-761-013-7121</td>\n      <td>isaac26@benton-finley.com</td>\n      <td>2020-12-28</td>\n      <td>http://walls.info/</td>\n      <td>Hunter Moreno</td>\n      <td>Hunter Moreno</td>\n    </tr>\n    <tr>\n      <th>83</th>\n      <td>84</td>\n      <td>78C06E9b6B3DF20</td>\n      <td>Chad</td>\n      <td>Davidson</td>\n      <td>Garcia-Jimenez</td>\n      <td>South Joshuashire</td>\n      <td>Oman</td>\n      <td>8275702958</td>\n      <td>(804)842-4715</td>\n      <td>justinwalters@jimenez.com</td>\n      <td>2021-11-15</td>\n      <td>http://www.garner-oliver.com/</td>\n      <td>Chad Davidson</td>\n      <td>Chad Davidson</td>\n    </tr>\n    <tr>\n      <th>84</th>\n      <td>85</td>\n      <td>03A1E62ADdeb31c</td>\n      <td>Corey</td>\n      <td>Holt</td>\n      <td>Mcdonald, Bird and Ramirez</td>\n      <td>New Glenda</td>\n      <td>Fiji</td>\n      <td>001-439-242-4986x7918</td>\n      <td>3162708934</td>\n      <td>maurice46@morgan.com</td>\n      <td>2020-02-18</td>\n      <td>http://www.watson.com/</td>\n      <td>Corey Holt</td>\n      <td>Corey Holt</td>\n    </tr>\n    <tr>\n      <th>85</th>\n      <td>86</td>\n      <td>C6763c99d0bd16D</td>\n      <td>Emma</td>\n      <td>Cunningham</td>\n      <td>Stephens Inc</td>\n      <td>North Jillianview</td>\n      <td>New Zealand</td>\n      <td>128-059-0206x60217</td>\n      <td>(312)164-4545x2284</td>\n      <td>walter83@juarez.org</td>\n      <td>2022-05-13</td>\n      <td>http://www.reid.info/</td>\n      <td>Emma Cunningham</td>\n      <td>Emma Cunningham</td>\n    </tr>\n    <tr>\n      <th>86</th>\n      <td>87</td>\n      <td>ebe77E5Bf9476CE</td>\n      <td>Duane</td>\n      <td>Woods</td>\n      <td>Montoya-Miller</td>\n      <td>Lyonsberg</td>\n      <td>Maldives</td>\n      <td>(636)544-7783x7288</td>\n      <td>(203)287-1003x5932</td>\n      <td>kmercer@wagner.com</td>\n      <td>2020-07-21</td>\n      <td>http://murray.org/</td>\n      <td>Duane Woods</td>\n      <td>Duane Woods</td>\n    </tr>\n    <tr>\n      <th>87</th>\n      <td>88</td>\n      <td>E4Bbcd8AD81fC5f</td>\n      <td>Alison</td>\n      <td>Vargas</td>\n      <td>Vaughn, Watts and Leach</td>\n      <td>East Cristinabury</td>\n      <td>Benin</td>\n      <td>365-273-8144</td>\n      <td>053-308-7653x6287</td>\n      <td>vcantu@norton.com</td>\n      <td>2020-11-10</td>\n      <td>http://mason.info/</td>\n      <td>Alison Vargas</td>\n      <td>Alison Vargas</td>\n    </tr>\n    <tr>\n      <th>88</th>\n      <td>89</td>\n      <td>efeb73245CDf1fF</td>\n      <td>Vernon</td>\n      <td>Kane</td>\n      <td>Carter-Strickland</td>\n      <td>Thomasfurt</td>\n      <td>Yemen</td>\n      <td>114-854-1159x555</td>\n      <td>499-608-4612</td>\n      <td>hilljesse@barrett.info</td>\n      <td>2021-04-15</td>\n      <td>http://www.duffy-hensley.net/</td>\n      <td>Vernon Kane</td>\n      <td>Vernon Kane</td>\n    </tr>\n    <tr>\n      <th>89</th>\n      <td>90</td>\n      <td>37Ec4B395641c1E</td>\n      <td>Lori</td>\n      <td>Flowers</td>\n      <td>Decker-Mcknight</td>\n      <td>North Joeburgh</td>\n      <td>Namibia</td>\n      <td>679.415.1210</td>\n      <td>945-842-3659x4581</td>\n      <td>tyrone77@valenzuela.info</td>\n      <td>2021-01-09</td>\n      <td>http://www.deleon-crosby.com/</td>\n      <td>Lori Flowers</td>\n      <td>Lori Flowers</td>\n    </tr>\n    <tr>\n      <th>90</th>\n      <td>91</td>\n      <td>5ef6d3eefdD43bE</td>\n      <td>Nina</td>\n      <td>Chavez</td>\n      <td>Byrd-Campbell</td>\n      <td>Cassidychester</td>\n      <td>Bhutan</td>\n      <td>053-344-3205</td>\n      <td>+1-330-920-5422x571</td>\n      <td>elliserica@frank.com</td>\n      <td>2020-03-26</td>\n      <td>https://www.pugh.com/</td>\n      <td>Nina Chavez</td>\n      <td>Nina Chavez</td>\n    </tr>\n    <tr>\n      <th>91</th>\n      <td>92</td>\n      <td>98b3aeDcC3B9FF3</td>\n      <td>Shane</td>\n      <td>Foley</td>\n      <td>Rocha-Hart</td>\n      <td>South Dannymouth</td>\n      <td>Hungary</td>\n      <td>+1-822-569-0302</td>\n      <td>001-626-114-5844x55073</td>\n      <td>nsteele@sparks.com</td>\n      <td>2021-07-06</td>\n      <td>https://www.holt-sparks.com/</td>\n      <td>Shane Foley</td>\n      <td>Shane Foley</td>\n    </tr>\n    <tr>\n      <th>92</th>\n      <td>93</td>\n      <td>aAb6AFc7AfD0fF3</td>\n      <td>Collin</td>\n      <td>Ayers</td>\n      <td>Lamb-Peterson</td>\n      <td>South Lonnie</td>\n      <td>Anguilla</td>\n      <td>404-645-5351x012</td>\n      <td>001-257-582-8850x8516</td>\n      <td>dudleyemily@gonzales.biz</td>\n      <td>2021-06-29</td>\n      <td>http://www.ruiz.com/</td>\n      <td>Collin Ayers</td>\n      <td>Collin Ayers</td>\n    </tr>\n    <tr>\n      <th>93</th>\n      <td>94</td>\n      <td>54B5B5Fe9F1B6C5</td>\n      <td>Sherry</td>\n      <td>Young</td>\n      <td>Lee, Lucero and Johnson</td>\n      <td>Frankchester</td>\n      <td>Solomon Islands</td>\n      <td>158-687-1764</td>\n      <td>(438)375-6207x003</td>\n      <td>alan79@gates-mclaughlin.com</td>\n      <td>2021-04-04</td>\n      <td>https://travis.net/</td>\n      <td>Sherry Young</td>\n      <td>Sherry Young</td>\n    </tr>\n    <tr>\n      <th>94</th>\n      <td>95</td>\n      <td>BE91A0bdcA49Bbc</td>\n      <td>Darrell</td>\n      <td>Douglas</td>\n      <td>Newton, Petersen and Mathis</td>\n      <td>Daisyborough</td>\n      <td>Mali</td>\n      <td>001-084-845-9524x1777</td>\n      <td>001-769-564-6303</td>\n      <td>grayjean@lowery-good.com</td>\n      <td>2022-02-17</td>\n      <td>https://banks.biz/</td>\n      <td>Darrell Douglas</td>\n      <td>Darrell Douglas</td>\n    </tr>\n    <tr>\n      <th>95</th>\n      <td>96</td>\n      <td>cb8E23e48d22Eae</td>\n      <td>Karl</td>\n      <td>Greer</td>\n      <td>Carey LLC</td>\n      <td>East Richard</td>\n      <td>Guyana</td>\n      <td>(188)169-1674x58692</td>\n      <td>001-841-293-3519x614</td>\n      <td>hhart@jensen.com</td>\n      <td>2022-01-30</td>\n      <td>http://hayes-perez.com/</td>\n      <td>Karl Greer</td>\n      <td>Karl Greer</td>\n    </tr>\n    <tr>\n      <th>96</th>\n      <td>97</td>\n      <td>CeD220bdAaCfaDf</td>\n      <td>Lynn</td>\n      <td>Atkinson</td>\n      <td>Ware, Burns and Oneal</td>\n      <td>New Bradview</td>\n      <td>Sri Lanka</td>\n      <td>+1-846-706-2218</td>\n      <td>605.413.3198</td>\n      <td>vkemp@ferrell.com</td>\n      <td>2021-07-10</td>\n      <td>https://novak-allison.com/</td>\n      <td>Lynn Atkinson</td>\n      <td>Lynn Atkinson</td>\n    </tr>\n    <tr>\n      <th>97</th>\n      <td>98</td>\n      <td>28CDbC0dFe4b1Db</td>\n      <td>Fred</td>\n      <td>Guerra</td>\n      <td>Schmitt-Jones</td>\n      <td>Ortegaland</td>\n      <td>Solomon Islands</td>\n      <td>+1-753-067-8419x7170</td>\n      <td>+1-632-666-7507x92121</td>\n      <td>swagner@kane.org</td>\n      <td>2021-09-18</td>\n      <td>https://www.ross.com/</td>\n      <td>Fred Guerra</td>\n      <td>Fred Guerra</td>\n    </tr>\n    <tr>\n      <th>98</th>\n      <td>99</td>\n      <td>c23d1D9EE8DEB0A</td>\n      <td>Yvonne</td>\n      <td>Farmer</td>\n      <td>Fitzgerald-Harrell</td>\n      <td>Lake Elijahview</td>\n      <td>Aruba</td>\n      <td>(530)311-9786</td>\n      <td>001-869-452-0943x12424</td>\n      <td>mccarthystephen@horn-green.biz</td>\n      <td>2021-08-11</td>\n      <td>http://watkins.info/</td>\n      <td>Yvonne Farmer</td>\n      <td>Yvonne Farmer</td>\n    </tr>\n    <tr>\n      <th>99</th>\n      <td>100</td>\n      <td>2354a0E336A91A1</td>\n      <td>Clarence</td>\n      <td>Haynes</td>\n      <td>Le, Nash and Cross</td>\n      <td>Judymouth</td>\n      <td>Honduras</td>\n      <td>(753)813-6941</td>\n      <td>783.639.1472</td>\n      <td>colleen91@faulkner.biz</td>\n      <td>2020-03-11</td>\n      <td>http://www.hatfield-saunders.net/</td>\n      <td>Clarence Haynes</td>\n      <td>Clarence Haynes</td>\n    </tr>\n  </tbody>\n</table>\n</div>"
          },
          "metadata": {}
        }
      ],
      "execution_count": 156
    },
    {
      "cell_type": "code",
      "source": "df['Index']<10",
      "metadata": {
        "trusted": true
      },
      "outputs": [
        {
          "execution_count": 157,
          "output_type": "execute_result",
          "data": {
            "text/plain": "0      True\n1      True\n2      True\n3      True\n4      True\n      ...  \n95    False\n96    False\n97    False\n98    False\n99    False\nName: Index, Length: 100, dtype: bool"
          },
          "metadata": {}
        }
      ],
      "execution_count": 157
    },
    {
      "cell_type": "code",
      "source": "df[df['Index']<10]",
      "metadata": {
        "trusted": true
      },
      "outputs": [
        {
          "execution_count": 158,
          "output_type": "execute_result",
          "data": {
            "text/plain": "   Index      Customer Id First Name Last Name  \\\n0      1  DD37Cf93aecA6Dc     Sheryl    Baxter   \n1      2  1Ef7b82A4CAAD10    Preston    Lozano   \n2      3  6F94879bDAfE5a6        Roy     Berry   \n3      4  5Cef8BFA16c5e3c      Linda     Olsen   \n4      5  053d585Ab6b3159     Joanna    Bender   \n5      6  2d08FB17EE273F4      Aimee     Downs   \n6      7  EA4d384DfDbBf77     Darren      Peck   \n7      8  0e04AFde9f225dE      Brett    Mullen   \n8      9  C2dE4dEEc489ae0     Sheryl    Meyers   \n\n                           Company               City  \\\n0                  Rasmussen Group       East Leonard   \n1                      Vega-Gentry  East Jimmychester   \n2                    Murillo-Perry      Isabelborough   \n3  Dominguez, Mcmillan and Donovan         Bensonview   \n4         Martin, Lang and Andrade     West Priscilla   \n5                     Steele Group      Chavezborough   \n6     Lester, Woodard and Mitchell           Lake Ana   \n7     Sanford, Davenport and Giles            Kimport   \n8                   Browning-Simon       Robersonstad   \n\n                      Country                 Phone 1                Phone 2  \\\n0                       Chile            229.077.5154       397.884.0519x718   \n1                    Djibouti              5153435776       686-620-1820x944   \n2         Antigua and Barbuda         +1-539-402-0259    (496)978-3969x58947   \n3          Dominican Republic  001-808-617-6467x12895        +1-813-324-8756   \n4  Slovakia (Slovak Republic)  001-234-203-0635x76146  001-199-446-3860x3486   \n5      Bosnia and Herzegovina     (283)437-3886x88321           999-728-1637   \n6            Pitcairn Islands      (496)452-6181x3291   +1-247-266-0963x4995   \n7                    Bulgaria    001-583-352-7197x297       001-333-145-0369   \n8                      Cyprus       854-138-4911x5772    +1-448-910-2276x729   \n\n                         Email Subscription Date                      Website  \\\n0     zunigavanessa@smith.info        2020-08-24   http://www.stephenson.com/   \n1              vmata@colon.com        2021-04-23        http://www.hobbs.com/   \n2          beckycarr@hogan.com        2020-03-25     http://www.lawrence.com/   \n3  stanleyblackwell@benson.org        2020-06-02   http://www.good-lyons.com/   \n4      colinalvarado@miles.net        2021-04-17  https://goodwin-ingram.com/   \n5          louis27@gilbert.com        2020-02-25       http://www.berger.net/   \n6          tgates@cantrell.com        2021-08-24          https://www.le.com/   \n7              asnow@colon.com        2021-04-12  https://hammond-ramsey.com/   \n8      mariokhan@ryan-pope.org        2020-01-13     https://www.bullock.net/   \n\n        Full Name            Name  \n0   Sheryl Baxter   Sheryl Baxter  \n1  Preston Lozano  Preston Lozano  \n2       Roy Berry       Roy Berry  \n3     Linda Olsen     Linda Olsen  \n4   Joanna Bender   Joanna Bender  \n5     Aimee Downs     Aimee Downs  \n6     Darren Peck     Darren Peck  \n7    Brett Mullen    Brett Mullen  \n8   Sheryl Meyers   Sheryl Meyers  ",
            "text/html": "<div>\n<style scoped>\n    .dataframe tbody tr th:only-of-type {\n        vertical-align: middle;\n    }\n\n    .dataframe tbody tr th {\n        vertical-align: top;\n    }\n\n    .dataframe thead th {\n        text-align: right;\n    }\n</style>\n<table border=\"1\" class=\"dataframe\">\n  <thead>\n    <tr style=\"text-align: right;\">\n      <th></th>\n      <th>Index</th>\n      <th>Customer Id</th>\n      <th>First Name</th>\n      <th>Last Name</th>\n      <th>Company</th>\n      <th>City</th>\n      <th>Country</th>\n      <th>Phone 1</th>\n      <th>Phone 2</th>\n      <th>Email</th>\n      <th>Subscription Date</th>\n      <th>Website</th>\n      <th>Full Name</th>\n      <th>Name</th>\n    </tr>\n  </thead>\n  <tbody>\n    <tr>\n      <th>0</th>\n      <td>1</td>\n      <td>DD37Cf93aecA6Dc</td>\n      <td>Sheryl</td>\n      <td>Baxter</td>\n      <td>Rasmussen Group</td>\n      <td>East Leonard</td>\n      <td>Chile</td>\n      <td>229.077.5154</td>\n      <td>397.884.0519x718</td>\n      <td>zunigavanessa@smith.info</td>\n      <td>2020-08-24</td>\n      <td>http://www.stephenson.com/</td>\n      <td>Sheryl Baxter</td>\n      <td>Sheryl Baxter</td>\n    </tr>\n    <tr>\n      <th>1</th>\n      <td>2</td>\n      <td>1Ef7b82A4CAAD10</td>\n      <td>Preston</td>\n      <td>Lozano</td>\n      <td>Vega-Gentry</td>\n      <td>East Jimmychester</td>\n      <td>Djibouti</td>\n      <td>5153435776</td>\n      <td>686-620-1820x944</td>\n      <td>vmata@colon.com</td>\n      <td>2021-04-23</td>\n      <td>http://www.hobbs.com/</td>\n      <td>Preston Lozano</td>\n      <td>Preston Lozano</td>\n    </tr>\n    <tr>\n      <th>2</th>\n      <td>3</td>\n      <td>6F94879bDAfE5a6</td>\n      <td>Roy</td>\n      <td>Berry</td>\n      <td>Murillo-Perry</td>\n      <td>Isabelborough</td>\n      <td>Antigua and Barbuda</td>\n      <td>+1-539-402-0259</td>\n      <td>(496)978-3969x58947</td>\n      <td>beckycarr@hogan.com</td>\n      <td>2020-03-25</td>\n      <td>http://www.lawrence.com/</td>\n      <td>Roy Berry</td>\n      <td>Roy Berry</td>\n    </tr>\n    <tr>\n      <th>3</th>\n      <td>4</td>\n      <td>5Cef8BFA16c5e3c</td>\n      <td>Linda</td>\n      <td>Olsen</td>\n      <td>Dominguez, Mcmillan and Donovan</td>\n      <td>Bensonview</td>\n      <td>Dominican Republic</td>\n      <td>001-808-617-6467x12895</td>\n      <td>+1-813-324-8756</td>\n      <td>stanleyblackwell@benson.org</td>\n      <td>2020-06-02</td>\n      <td>http://www.good-lyons.com/</td>\n      <td>Linda Olsen</td>\n      <td>Linda Olsen</td>\n    </tr>\n    <tr>\n      <th>4</th>\n      <td>5</td>\n      <td>053d585Ab6b3159</td>\n      <td>Joanna</td>\n      <td>Bender</td>\n      <td>Martin, Lang and Andrade</td>\n      <td>West Priscilla</td>\n      <td>Slovakia (Slovak Republic)</td>\n      <td>001-234-203-0635x76146</td>\n      <td>001-199-446-3860x3486</td>\n      <td>colinalvarado@miles.net</td>\n      <td>2021-04-17</td>\n      <td>https://goodwin-ingram.com/</td>\n      <td>Joanna Bender</td>\n      <td>Joanna Bender</td>\n    </tr>\n    <tr>\n      <th>5</th>\n      <td>6</td>\n      <td>2d08FB17EE273F4</td>\n      <td>Aimee</td>\n      <td>Downs</td>\n      <td>Steele Group</td>\n      <td>Chavezborough</td>\n      <td>Bosnia and Herzegovina</td>\n      <td>(283)437-3886x88321</td>\n      <td>999-728-1637</td>\n      <td>louis27@gilbert.com</td>\n      <td>2020-02-25</td>\n      <td>http://www.berger.net/</td>\n      <td>Aimee Downs</td>\n      <td>Aimee Downs</td>\n    </tr>\n    <tr>\n      <th>6</th>\n      <td>7</td>\n      <td>EA4d384DfDbBf77</td>\n      <td>Darren</td>\n      <td>Peck</td>\n      <td>Lester, Woodard and Mitchell</td>\n      <td>Lake Ana</td>\n      <td>Pitcairn Islands</td>\n      <td>(496)452-6181x3291</td>\n      <td>+1-247-266-0963x4995</td>\n      <td>tgates@cantrell.com</td>\n      <td>2021-08-24</td>\n      <td>https://www.le.com/</td>\n      <td>Darren Peck</td>\n      <td>Darren Peck</td>\n    </tr>\n    <tr>\n      <th>7</th>\n      <td>8</td>\n      <td>0e04AFde9f225dE</td>\n      <td>Brett</td>\n      <td>Mullen</td>\n      <td>Sanford, Davenport and Giles</td>\n      <td>Kimport</td>\n      <td>Bulgaria</td>\n      <td>001-583-352-7197x297</td>\n      <td>001-333-145-0369</td>\n      <td>asnow@colon.com</td>\n      <td>2021-04-12</td>\n      <td>https://hammond-ramsey.com/</td>\n      <td>Brett Mullen</td>\n      <td>Brett Mullen</td>\n    </tr>\n    <tr>\n      <th>8</th>\n      <td>9</td>\n      <td>C2dE4dEEc489ae0</td>\n      <td>Sheryl</td>\n      <td>Meyers</td>\n      <td>Browning-Simon</td>\n      <td>Robersonstad</td>\n      <td>Cyprus</td>\n      <td>854-138-4911x5772</td>\n      <td>+1-448-910-2276x729</td>\n      <td>mariokhan@ryan-pope.org</td>\n      <td>2020-01-13</td>\n      <td>https://www.bullock.net/</td>\n      <td>Sheryl Meyers</td>\n      <td>Sheryl Meyers</td>\n    </tr>\n  </tbody>\n</table>\n</div>"
          },
          "metadata": {}
        }
      ],
      "execution_count": 158
    },
    {
      "cell_type": "code",
      "source": "df.loc[df['Index']<10]",
      "metadata": {
        "trusted": true
      },
      "outputs": [
        {
          "execution_count": 159,
          "output_type": "execute_result",
          "data": {
            "text/plain": "   Index      Customer Id First Name Last Name  \\\n0      1  DD37Cf93aecA6Dc     Sheryl    Baxter   \n1      2  1Ef7b82A4CAAD10    Preston    Lozano   \n2      3  6F94879bDAfE5a6        Roy     Berry   \n3      4  5Cef8BFA16c5e3c      Linda     Olsen   \n4      5  053d585Ab6b3159     Joanna    Bender   \n5      6  2d08FB17EE273F4      Aimee     Downs   \n6      7  EA4d384DfDbBf77     Darren      Peck   \n7      8  0e04AFde9f225dE      Brett    Mullen   \n8      9  C2dE4dEEc489ae0     Sheryl    Meyers   \n\n                           Company               City  \\\n0                  Rasmussen Group       East Leonard   \n1                      Vega-Gentry  East Jimmychester   \n2                    Murillo-Perry      Isabelborough   \n3  Dominguez, Mcmillan and Donovan         Bensonview   \n4         Martin, Lang and Andrade     West Priscilla   \n5                     Steele Group      Chavezborough   \n6     Lester, Woodard and Mitchell           Lake Ana   \n7     Sanford, Davenport and Giles            Kimport   \n8                   Browning-Simon       Robersonstad   \n\n                      Country                 Phone 1                Phone 2  \\\n0                       Chile            229.077.5154       397.884.0519x718   \n1                    Djibouti              5153435776       686-620-1820x944   \n2         Antigua and Barbuda         +1-539-402-0259    (496)978-3969x58947   \n3          Dominican Republic  001-808-617-6467x12895        +1-813-324-8756   \n4  Slovakia (Slovak Republic)  001-234-203-0635x76146  001-199-446-3860x3486   \n5      Bosnia and Herzegovina     (283)437-3886x88321           999-728-1637   \n6            Pitcairn Islands      (496)452-6181x3291   +1-247-266-0963x4995   \n7                    Bulgaria    001-583-352-7197x297       001-333-145-0369   \n8                      Cyprus       854-138-4911x5772    +1-448-910-2276x729   \n\n                         Email Subscription Date                      Website  \\\n0     zunigavanessa@smith.info        2020-08-24   http://www.stephenson.com/   \n1              vmata@colon.com        2021-04-23        http://www.hobbs.com/   \n2          beckycarr@hogan.com        2020-03-25     http://www.lawrence.com/   \n3  stanleyblackwell@benson.org        2020-06-02   http://www.good-lyons.com/   \n4      colinalvarado@miles.net        2021-04-17  https://goodwin-ingram.com/   \n5          louis27@gilbert.com        2020-02-25       http://www.berger.net/   \n6          tgates@cantrell.com        2021-08-24          https://www.le.com/   \n7              asnow@colon.com        2021-04-12  https://hammond-ramsey.com/   \n8      mariokhan@ryan-pope.org        2020-01-13     https://www.bullock.net/   \n\n        Full Name            Name  \n0   Sheryl Baxter   Sheryl Baxter  \n1  Preston Lozano  Preston Lozano  \n2       Roy Berry       Roy Berry  \n3     Linda Olsen     Linda Olsen  \n4   Joanna Bender   Joanna Bender  \n5     Aimee Downs     Aimee Downs  \n6     Darren Peck     Darren Peck  \n7    Brett Mullen    Brett Mullen  \n8   Sheryl Meyers   Sheryl Meyers  ",
            "text/html": "<div>\n<style scoped>\n    .dataframe tbody tr th:only-of-type {\n        vertical-align: middle;\n    }\n\n    .dataframe tbody tr th {\n        vertical-align: top;\n    }\n\n    .dataframe thead th {\n        text-align: right;\n    }\n</style>\n<table border=\"1\" class=\"dataframe\">\n  <thead>\n    <tr style=\"text-align: right;\">\n      <th></th>\n      <th>Index</th>\n      <th>Customer Id</th>\n      <th>First Name</th>\n      <th>Last Name</th>\n      <th>Company</th>\n      <th>City</th>\n      <th>Country</th>\n      <th>Phone 1</th>\n      <th>Phone 2</th>\n      <th>Email</th>\n      <th>Subscription Date</th>\n      <th>Website</th>\n      <th>Full Name</th>\n      <th>Name</th>\n    </tr>\n  </thead>\n  <tbody>\n    <tr>\n      <th>0</th>\n      <td>1</td>\n      <td>DD37Cf93aecA6Dc</td>\n      <td>Sheryl</td>\n      <td>Baxter</td>\n      <td>Rasmussen Group</td>\n      <td>East Leonard</td>\n      <td>Chile</td>\n      <td>229.077.5154</td>\n      <td>397.884.0519x718</td>\n      <td>zunigavanessa@smith.info</td>\n      <td>2020-08-24</td>\n      <td>http://www.stephenson.com/</td>\n      <td>Sheryl Baxter</td>\n      <td>Sheryl Baxter</td>\n    </tr>\n    <tr>\n      <th>1</th>\n      <td>2</td>\n      <td>1Ef7b82A4CAAD10</td>\n      <td>Preston</td>\n      <td>Lozano</td>\n      <td>Vega-Gentry</td>\n      <td>East Jimmychester</td>\n      <td>Djibouti</td>\n      <td>5153435776</td>\n      <td>686-620-1820x944</td>\n      <td>vmata@colon.com</td>\n      <td>2021-04-23</td>\n      <td>http://www.hobbs.com/</td>\n      <td>Preston Lozano</td>\n      <td>Preston Lozano</td>\n    </tr>\n    <tr>\n      <th>2</th>\n      <td>3</td>\n      <td>6F94879bDAfE5a6</td>\n      <td>Roy</td>\n      <td>Berry</td>\n      <td>Murillo-Perry</td>\n      <td>Isabelborough</td>\n      <td>Antigua and Barbuda</td>\n      <td>+1-539-402-0259</td>\n      <td>(496)978-3969x58947</td>\n      <td>beckycarr@hogan.com</td>\n      <td>2020-03-25</td>\n      <td>http://www.lawrence.com/</td>\n      <td>Roy Berry</td>\n      <td>Roy Berry</td>\n    </tr>\n    <tr>\n      <th>3</th>\n      <td>4</td>\n      <td>5Cef8BFA16c5e3c</td>\n      <td>Linda</td>\n      <td>Olsen</td>\n      <td>Dominguez, Mcmillan and Donovan</td>\n      <td>Bensonview</td>\n      <td>Dominican Republic</td>\n      <td>001-808-617-6467x12895</td>\n      <td>+1-813-324-8756</td>\n      <td>stanleyblackwell@benson.org</td>\n      <td>2020-06-02</td>\n      <td>http://www.good-lyons.com/</td>\n      <td>Linda Olsen</td>\n      <td>Linda Olsen</td>\n    </tr>\n    <tr>\n      <th>4</th>\n      <td>5</td>\n      <td>053d585Ab6b3159</td>\n      <td>Joanna</td>\n      <td>Bender</td>\n      <td>Martin, Lang and Andrade</td>\n      <td>West Priscilla</td>\n      <td>Slovakia (Slovak Republic)</td>\n      <td>001-234-203-0635x76146</td>\n      <td>001-199-446-3860x3486</td>\n      <td>colinalvarado@miles.net</td>\n      <td>2021-04-17</td>\n      <td>https://goodwin-ingram.com/</td>\n      <td>Joanna Bender</td>\n      <td>Joanna Bender</td>\n    </tr>\n    <tr>\n      <th>5</th>\n      <td>6</td>\n      <td>2d08FB17EE273F4</td>\n      <td>Aimee</td>\n      <td>Downs</td>\n      <td>Steele Group</td>\n      <td>Chavezborough</td>\n      <td>Bosnia and Herzegovina</td>\n      <td>(283)437-3886x88321</td>\n      <td>999-728-1637</td>\n      <td>louis27@gilbert.com</td>\n      <td>2020-02-25</td>\n      <td>http://www.berger.net/</td>\n      <td>Aimee Downs</td>\n      <td>Aimee Downs</td>\n    </tr>\n    <tr>\n      <th>6</th>\n      <td>7</td>\n      <td>EA4d384DfDbBf77</td>\n      <td>Darren</td>\n      <td>Peck</td>\n      <td>Lester, Woodard and Mitchell</td>\n      <td>Lake Ana</td>\n      <td>Pitcairn Islands</td>\n      <td>(496)452-6181x3291</td>\n      <td>+1-247-266-0963x4995</td>\n      <td>tgates@cantrell.com</td>\n      <td>2021-08-24</td>\n      <td>https://www.le.com/</td>\n      <td>Darren Peck</td>\n      <td>Darren Peck</td>\n    </tr>\n    <tr>\n      <th>7</th>\n      <td>8</td>\n      <td>0e04AFde9f225dE</td>\n      <td>Brett</td>\n      <td>Mullen</td>\n      <td>Sanford, Davenport and Giles</td>\n      <td>Kimport</td>\n      <td>Bulgaria</td>\n      <td>001-583-352-7197x297</td>\n      <td>001-333-145-0369</td>\n      <td>asnow@colon.com</td>\n      <td>2021-04-12</td>\n      <td>https://hammond-ramsey.com/</td>\n      <td>Brett Mullen</td>\n      <td>Brett Mullen</td>\n    </tr>\n    <tr>\n      <th>8</th>\n      <td>9</td>\n      <td>C2dE4dEEc489ae0</td>\n      <td>Sheryl</td>\n      <td>Meyers</td>\n      <td>Browning-Simon</td>\n      <td>Robersonstad</td>\n      <td>Cyprus</td>\n      <td>854-138-4911x5772</td>\n      <td>+1-448-910-2276x729</td>\n      <td>mariokhan@ryan-pope.org</td>\n      <td>2020-01-13</td>\n      <td>https://www.bullock.net/</td>\n      <td>Sheryl Meyers</td>\n      <td>Sheryl Meyers</td>\n    </tr>\n  </tbody>\n</table>\n</div>"
          },
          "metadata": {}
        }
      ],
      "execution_count": 159
    },
    {
      "cell_type": "code",
      "source": "#!Pandas allows us to analyze big data and make conclusions based on statistical theories.",
      "metadata": {
        "trusted": true
      },
      "outputs": [],
      "execution_count": 161
    },
    {
      "cell_type": "code",
      "source": "a = [1, 7, 2]\ns = pd.Series(a)\ns",
      "metadata": {
        "trusted": true
      },
      "outputs": [
        {
          "execution_count": 162,
          "output_type": "execute_result",
          "data": {
            "text/plain": "0    1\n1    7\n2    2\ndtype: int64"
          },
          "metadata": {}
        }
      ],
      "execution_count": 162
    },
    {
      "cell_type": "code",
      "source": "s[0]",
      "metadata": {
        "trusted": true
      },
      "outputs": [
        {
          "execution_count": 163,
          "output_type": "execute_result",
          "data": {
            "text/plain": "1"
          },
          "metadata": {}
        }
      ],
      "execution_count": 163
    },
    {
      "cell_type": "code",
      "source": "arr = [1, 7, 2]\nseries = pd.Series(arr,index=[\"day1\",\"day2\",\"day3\"])\nseries",
      "metadata": {
        "trusted": true
      },
      "outputs": [
        {
          "execution_count": 167,
          "output_type": "execute_result",
          "data": {
            "text/plain": "day1    1\nday2    7\nday3    2\ndtype: int64"
          },
          "metadata": {}
        }
      ],
      "execution_count": 167
    },
    {
      "cell_type": "code",
      "source": "series['day1']",
      "metadata": {
        "trusted": true
      },
      "outputs": [
        {
          "execution_count": 168,
          "output_type": "execute_result",
          "data": {
            "text/plain": "1"
          },
          "metadata": {}
        }
      ],
      "execution_count": 168
    },
    {
      "cell_type": "code",
      "source": "calories = {\"day1\": 420, \"day2\": 380, \"day3\": 390}\nmyvar = pd.Series(calories)\nmyvar",
      "metadata": {
        "trusted": true
      },
      "outputs": [
        {
          "execution_count": 170,
          "output_type": "execute_result",
          "data": {
            "text/plain": "day1    420\nday2    380\nday3    390\ndtype: int64"
          },
          "metadata": {}
        }
      ],
      "execution_count": 170
    },
    {
      "cell_type": "code",
      "source": "calories = {\"day1\": 420, \"day2\": 380, \"day3\": 390}\n\nmyvar = pd.Series(calories, index = [\"day1\", \"day2\"])\n\nprint(myvar)",
      "metadata": {
        "trusted": true
      },
      "outputs": [
        {
          "name": "stdout",
          "text": "day1    420\nday2    380\ndtype: int64\n",
          "output_type": "stream"
        }
      ],
      "execution_count": 171
    },
    {
      "cell_type": "code",
      "source": "data = {\n  \"calories\": [420, 380, 390],\n  \"duration\": [50, 40, 45]\n}\n\n#load data into a DataFrame object:\ndf = pd.DataFrame(data)\ndf",
      "metadata": {
        "trusted": true
      },
      "outputs": [
        {
          "execution_count": 172,
          "output_type": "execute_result",
          "data": {
            "text/plain": "   calories  duration\n0       420        50\n1       380        40\n2       390        45",
            "text/html": "<div>\n<style scoped>\n    .dataframe tbody tr th:only-of-type {\n        vertical-align: middle;\n    }\n\n    .dataframe tbody tr th {\n        vertical-align: top;\n    }\n\n    .dataframe thead th {\n        text-align: right;\n    }\n</style>\n<table border=\"1\" class=\"dataframe\">\n  <thead>\n    <tr style=\"text-align: right;\">\n      <th></th>\n      <th>calories</th>\n      <th>duration</th>\n    </tr>\n  </thead>\n  <tbody>\n    <tr>\n      <th>0</th>\n      <td>420</td>\n      <td>50</td>\n    </tr>\n    <tr>\n      <th>1</th>\n      <td>380</td>\n      <td>40</td>\n    </tr>\n    <tr>\n      <th>2</th>\n      <td>390</td>\n      <td>45</td>\n    </tr>\n  </tbody>\n</table>\n</div>"
          },
          "metadata": {}
        }
      ],
      "execution_count": 172
    },
    {
      "cell_type": "code",
      "source": "df.loc[0]",
      "metadata": {
        "trusted": true
      },
      "outputs": [
        {
          "execution_count": 173,
          "output_type": "execute_result",
          "data": {
            "text/plain": "calories    420\nduration     50\nName: 0, dtype: int64"
          },
          "metadata": {}
        }
      ],
      "execution_count": 173
    },
    {
      "cell_type": "code",
      "source": "df.loc[[0,1]]",
      "metadata": {
        "trusted": true
      },
      "outputs": [
        {
          "execution_count": 174,
          "output_type": "execute_result",
          "data": {
            "text/plain": "   calories  duration\n0       420        50\n1       380        40",
            "text/html": "<div>\n<style scoped>\n    .dataframe tbody tr th:only-of-type {\n        vertical-align: middle;\n    }\n\n    .dataframe tbody tr th {\n        vertical-align: top;\n    }\n\n    .dataframe thead th {\n        text-align: right;\n    }\n</style>\n<table border=\"1\" class=\"dataframe\">\n  <thead>\n    <tr style=\"text-align: right;\">\n      <th></th>\n      <th>calories</th>\n      <th>duration</th>\n    </tr>\n  </thead>\n  <tbody>\n    <tr>\n      <th>0</th>\n      <td>420</td>\n      <td>50</td>\n    </tr>\n    <tr>\n      <th>1</th>\n      <td>380</td>\n      <td>40</td>\n    </tr>\n  </tbody>\n</table>\n</div>"
          },
          "metadata": {}
        }
      ],
      "execution_count": 174
    },
    {
      "cell_type": "code",
      "source": "data = {\n  \"calories\": [420, 380, 390],\n  \"duration\": [50, 40, 45]\n}\ndf=pd.DataFrame(data,index=[\"Day1\",\"Day2\",\"Day3\"])\ndf",
      "metadata": {
        "trusted": true
      },
      "outputs": [
        {
          "execution_count": 175,
          "output_type": "execute_result",
          "data": {
            "text/plain": "      calories  duration\nDay1       420        50\nDay2       380        40\nDay3       390        45",
            "text/html": "<div>\n<style scoped>\n    .dataframe tbody tr th:only-of-type {\n        vertical-align: middle;\n    }\n\n    .dataframe tbody tr th {\n        vertical-align: top;\n    }\n\n    .dataframe thead th {\n        text-align: right;\n    }\n</style>\n<table border=\"1\" class=\"dataframe\">\n  <thead>\n    <tr style=\"text-align: right;\">\n      <th></th>\n      <th>calories</th>\n      <th>duration</th>\n    </tr>\n  </thead>\n  <tbody>\n    <tr>\n      <th>Day1</th>\n      <td>420</td>\n      <td>50</td>\n    </tr>\n    <tr>\n      <th>Day2</th>\n      <td>380</td>\n      <td>40</td>\n    </tr>\n    <tr>\n      <th>Day3</th>\n      <td>390</td>\n      <td>45</td>\n    </tr>\n  </tbody>\n</table>\n</div>"
          },
          "metadata": {}
        }
      ],
      "execution_count": 175
    },
    {
      "cell_type": "code",
      "source": "df.loc[\"Day1\"]",
      "metadata": {
        "trusted": true
      },
      "outputs": [
        {
          "execution_count": 176,
          "output_type": "execute_result",
          "data": {
            "text/plain": "calories    420\nduration     50\nName: Day1, dtype: int64"
          },
          "metadata": {}
        }
      ],
      "execution_count": 176
    },
    {
      "cell_type": "code",
      "source": "data=pd.read_csv('customers-100.csv')\ndf=pd.DataFrame(data)\ndf",
      "metadata": {
        "trusted": true
      },
      "outputs": [
        {
          "execution_count": 177,
          "output_type": "execute_result",
          "data": {
            "text/plain": "    Index      Customer Id First Name Last Name  \\\n0       1  DD37Cf93aecA6Dc     Sheryl    Baxter   \n1       2  1Ef7b82A4CAAD10    Preston    Lozano   \n2       3  6F94879bDAfE5a6        Roy     Berry   \n3       4  5Cef8BFA16c5e3c      Linda     Olsen   \n4       5  053d585Ab6b3159     Joanna    Bender   \n..    ...              ...        ...       ...   \n95     96  cb8E23e48d22Eae       Karl     Greer   \n96     97  CeD220bdAaCfaDf       Lynn  Atkinson   \n97     98  28CDbC0dFe4b1Db       Fred    Guerra   \n98     99  c23d1D9EE8DEB0A     Yvonne    Farmer   \n99    100  2354a0E336A91A1   Clarence    Haynes   \n\n                            Company               City  \\\n0                   Rasmussen Group       East Leonard   \n1                       Vega-Gentry  East Jimmychester   \n2                     Murillo-Perry      Isabelborough   \n3   Dominguez, Mcmillan and Donovan         Bensonview   \n4          Martin, Lang and Andrade     West Priscilla   \n..                              ...                ...   \n95                        Carey LLC       East Richard   \n96            Ware, Burns and Oneal       New Bradview   \n97                    Schmitt-Jones         Ortegaland   \n98               Fitzgerald-Harrell    Lake Elijahview   \n99               Le, Nash and Cross          Judymouth   \n\n                       Country                 Phone 1  \\\n0                        Chile            229.077.5154   \n1                     Djibouti              5153435776   \n2          Antigua and Barbuda         +1-539-402-0259   \n3           Dominican Republic  001-808-617-6467x12895   \n4   Slovakia (Slovak Republic)  001-234-203-0635x76146   \n..                         ...                     ...   \n95                      Guyana     (188)169-1674x58692   \n96                   Sri Lanka         +1-846-706-2218   \n97             Solomon Islands    +1-753-067-8419x7170   \n98                       Aruba           (530)311-9786   \n99                    Honduras           (753)813-6941   \n\n                   Phone 2                           Email Subscription Date  \\\n0         397.884.0519x718        zunigavanessa@smith.info        2020-08-24   \n1         686-620-1820x944                 vmata@colon.com        2021-04-23   \n2      (496)978-3969x58947             beckycarr@hogan.com        2020-03-25   \n3          +1-813-324-8756     stanleyblackwell@benson.org        2020-06-02   \n4    001-199-446-3860x3486         colinalvarado@miles.net        2021-04-17   \n..                     ...                             ...               ...   \n95    001-841-293-3519x614                hhart@jensen.com        2022-01-30   \n96            605.413.3198               vkemp@ferrell.com        2021-07-10   \n97   +1-632-666-7507x92121                swagner@kane.org        2021-09-18   \n98  001-869-452-0943x12424  mccarthystephen@horn-green.biz        2021-08-11   \n99            783.639.1472          colleen91@faulkner.biz        2020-03-11   \n\n                              Website  \n0          http://www.stephenson.com/  \n1               http://www.hobbs.com/  \n2            http://www.lawrence.com/  \n3          http://www.good-lyons.com/  \n4         https://goodwin-ingram.com/  \n..                                ...  \n95            http://hayes-perez.com/  \n96         https://novak-allison.com/  \n97              https://www.ross.com/  \n98               http://watkins.info/  \n99  http://www.hatfield-saunders.net/  \n\n[100 rows x 12 columns]",
            "text/html": "<div>\n<style scoped>\n    .dataframe tbody tr th:only-of-type {\n        vertical-align: middle;\n    }\n\n    .dataframe tbody tr th {\n        vertical-align: top;\n    }\n\n    .dataframe thead th {\n        text-align: right;\n    }\n</style>\n<table border=\"1\" class=\"dataframe\">\n  <thead>\n    <tr style=\"text-align: right;\">\n      <th></th>\n      <th>Index</th>\n      <th>Customer Id</th>\n      <th>First Name</th>\n      <th>Last Name</th>\n      <th>Company</th>\n      <th>City</th>\n      <th>Country</th>\n      <th>Phone 1</th>\n      <th>Phone 2</th>\n      <th>Email</th>\n      <th>Subscription Date</th>\n      <th>Website</th>\n    </tr>\n  </thead>\n  <tbody>\n    <tr>\n      <th>0</th>\n      <td>1</td>\n      <td>DD37Cf93aecA6Dc</td>\n      <td>Sheryl</td>\n      <td>Baxter</td>\n      <td>Rasmussen Group</td>\n      <td>East Leonard</td>\n      <td>Chile</td>\n      <td>229.077.5154</td>\n      <td>397.884.0519x718</td>\n      <td>zunigavanessa@smith.info</td>\n      <td>2020-08-24</td>\n      <td>http://www.stephenson.com/</td>\n    </tr>\n    <tr>\n      <th>1</th>\n      <td>2</td>\n      <td>1Ef7b82A4CAAD10</td>\n      <td>Preston</td>\n      <td>Lozano</td>\n      <td>Vega-Gentry</td>\n      <td>East Jimmychester</td>\n      <td>Djibouti</td>\n      <td>5153435776</td>\n      <td>686-620-1820x944</td>\n      <td>vmata@colon.com</td>\n      <td>2021-04-23</td>\n      <td>http://www.hobbs.com/</td>\n    </tr>\n    <tr>\n      <th>2</th>\n      <td>3</td>\n      <td>6F94879bDAfE5a6</td>\n      <td>Roy</td>\n      <td>Berry</td>\n      <td>Murillo-Perry</td>\n      <td>Isabelborough</td>\n      <td>Antigua and Barbuda</td>\n      <td>+1-539-402-0259</td>\n      <td>(496)978-3969x58947</td>\n      <td>beckycarr@hogan.com</td>\n      <td>2020-03-25</td>\n      <td>http://www.lawrence.com/</td>\n    </tr>\n    <tr>\n      <th>3</th>\n      <td>4</td>\n      <td>5Cef8BFA16c5e3c</td>\n      <td>Linda</td>\n      <td>Olsen</td>\n      <td>Dominguez, Mcmillan and Donovan</td>\n      <td>Bensonview</td>\n      <td>Dominican Republic</td>\n      <td>001-808-617-6467x12895</td>\n      <td>+1-813-324-8756</td>\n      <td>stanleyblackwell@benson.org</td>\n      <td>2020-06-02</td>\n      <td>http://www.good-lyons.com/</td>\n    </tr>\n    <tr>\n      <th>4</th>\n      <td>5</td>\n      <td>053d585Ab6b3159</td>\n      <td>Joanna</td>\n      <td>Bender</td>\n      <td>Martin, Lang and Andrade</td>\n      <td>West Priscilla</td>\n      <td>Slovakia (Slovak Republic)</td>\n      <td>001-234-203-0635x76146</td>\n      <td>001-199-446-3860x3486</td>\n      <td>colinalvarado@miles.net</td>\n      <td>2021-04-17</td>\n      <td>https://goodwin-ingram.com/</td>\n    </tr>\n    <tr>\n      <th>...</th>\n      <td>...</td>\n      <td>...</td>\n      <td>...</td>\n      <td>...</td>\n      <td>...</td>\n      <td>...</td>\n      <td>...</td>\n      <td>...</td>\n      <td>...</td>\n      <td>...</td>\n      <td>...</td>\n      <td>...</td>\n    </tr>\n    <tr>\n      <th>95</th>\n      <td>96</td>\n      <td>cb8E23e48d22Eae</td>\n      <td>Karl</td>\n      <td>Greer</td>\n      <td>Carey LLC</td>\n      <td>East Richard</td>\n      <td>Guyana</td>\n      <td>(188)169-1674x58692</td>\n      <td>001-841-293-3519x614</td>\n      <td>hhart@jensen.com</td>\n      <td>2022-01-30</td>\n      <td>http://hayes-perez.com/</td>\n    </tr>\n    <tr>\n      <th>96</th>\n      <td>97</td>\n      <td>CeD220bdAaCfaDf</td>\n      <td>Lynn</td>\n      <td>Atkinson</td>\n      <td>Ware, Burns and Oneal</td>\n      <td>New Bradview</td>\n      <td>Sri Lanka</td>\n      <td>+1-846-706-2218</td>\n      <td>605.413.3198</td>\n      <td>vkemp@ferrell.com</td>\n      <td>2021-07-10</td>\n      <td>https://novak-allison.com/</td>\n    </tr>\n    <tr>\n      <th>97</th>\n      <td>98</td>\n      <td>28CDbC0dFe4b1Db</td>\n      <td>Fred</td>\n      <td>Guerra</td>\n      <td>Schmitt-Jones</td>\n      <td>Ortegaland</td>\n      <td>Solomon Islands</td>\n      <td>+1-753-067-8419x7170</td>\n      <td>+1-632-666-7507x92121</td>\n      <td>swagner@kane.org</td>\n      <td>2021-09-18</td>\n      <td>https://www.ross.com/</td>\n    </tr>\n    <tr>\n      <th>98</th>\n      <td>99</td>\n      <td>c23d1D9EE8DEB0A</td>\n      <td>Yvonne</td>\n      <td>Farmer</td>\n      <td>Fitzgerald-Harrell</td>\n      <td>Lake Elijahview</td>\n      <td>Aruba</td>\n      <td>(530)311-9786</td>\n      <td>001-869-452-0943x12424</td>\n      <td>mccarthystephen@horn-green.biz</td>\n      <td>2021-08-11</td>\n      <td>http://watkins.info/</td>\n    </tr>\n    <tr>\n      <th>99</th>\n      <td>100</td>\n      <td>2354a0E336A91A1</td>\n      <td>Clarence</td>\n      <td>Haynes</td>\n      <td>Le, Nash and Cross</td>\n      <td>Judymouth</td>\n      <td>Honduras</td>\n      <td>(753)813-6941</td>\n      <td>783.639.1472</td>\n      <td>colleen91@faulkner.biz</td>\n      <td>2020-03-11</td>\n      <td>http://www.hatfield-saunders.net/</td>\n    </tr>\n  </tbody>\n</table>\n<p>100 rows × 12 columns</p>\n</div>"
          },
          "metadata": {}
        }
      ],
      "execution_count": 177
    },
    {
      "cell_type": "code",
      "source": "#df.to_string()",
      "metadata": {
        "trusted": true
      },
      "outputs": [],
      "execution_count": 182
    },
    {
      "cell_type": "code",
      "source": "df",
      "metadata": {
        "trusted": true
      },
      "outputs": [
        {
          "execution_count": 179,
          "output_type": "execute_result",
          "data": {
            "text/plain": "    Index      Customer Id First Name Last Name  \\\n0       1  DD37Cf93aecA6Dc     Sheryl    Baxter   \n1       2  1Ef7b82A4CAAD10    Preston    Lozano   \n2       3  6F94879bDAfE5a6        Roy     Berry   \n3       4  5Cef8BFA16c5e3c      Linda     Olsen   \n4       5  053d585Ab6b3159     Joanna    Bender   \n..    ...              ...        ...       ...   \n95     96  cb8E23e48d22Eae       Karl     Greer   \n96     97  CeD220bdAaCfaDf       Lynn  Atkinson   \n97     98  28CDbC0dFe4b1Db       Fred    Guerra   \n98     99  c23d1D9EE8DEB0A     Yvonne    Farmer   \n99    100  2354a0E336A91A1   Clarence    Haynes   \n\n                            Company               City  \\\n0                   Rasmussen Group       East Leonard   \n1                       Vega-Gentry  East Jimmychester   \n2                     Murillo-Perry      Isabelborough   \n3   Dominguez, Mcmillan and Donovan         Bensonview   \n4          Martin, Lang and Andrade     West Priscilla   \n..                              ...                ...   \n95                        Carey LLC       East Richard   \n96            Ware, Burns and Oneal       New Bradview   \n97                    Schmitt-Jones         Ortegaland   \n98               Fitzgerald-Harrell    Lake Elijahview   \n99               Le, Nash and Cross          Judymouth   \n\n                       Country                 Phone 1  \\\n0                        Chile            229.077.5154   \n1                     Djibouti              5153435776   \n2          Antigua and Barbuda         +1-539-402-0259   \n3           Dominican Republic  001-808-617-6467x12895   \n4   Slovakia (Slovak Republic)  001-234-203-0635x76146   \n..                         ...                     ...   \n95                      Guyana     (188)169-1674x58692   \n96                   Sri Lanka         +1-846-706-2218   \n97             Solomon Islands    +1-753-067-8419x7170   \n98                       Aruba           (530)311-9786   \n99                    Honduras           (753)813-6941   \n\n                   Phone 2                           Email Subscription Date  \\\n0         397.884.0519x718        zunigavanessa@smith.info        2020-08-24   \n1         686-620-1820x944                 vmata@colon.com        2021-04-23   \n2      (496)978-3969x58947             beckycarr@hogan.com        2020-03-25   \n3          +1-813-324-8756     stanleyblackwell@benson.org        2020-06-02   \n4    001-199-446-3860x3486         colinalvarado@miles.net        2021-04-17   \n..                     ...                             ...               ...   \n95    001-841-293-3519x614                hhart@jensen.com        2022-01-30   \n96            605.413.3198               vkemp@ferrell.com        2021-07-10   \n97   +1-632-666-7507x92121                swagner@kane.org        2021-09-18   \n98  001-869-452-0943x12424  mccarthystephen@horn-green.biz        2021-08-11   \n99            783.639.1472          colleen91@faulkner.biz        2020-03-11   \n\n                              Website  \n0          http://www.stephenson.com/  \n1               http://www.hobbs.com/  \n2            http://www.lawrence.com/  \n3          http://www.good-lyons.com/  \n4         https://goodwin-ingram.com/  \n..                                ...  \n95            http://hayes-perez.com/  \n96         https://novak-allison.com/  \n97              https://www.ross.com/  \n98               http://watkins.info/  \n99  http://www.hatfield-saunders.net/  \n\n[100 rows x 12 columns]",
            "text/html": "<div>\n<style scoped>\n    .dataframe tbody tr th:only-of-type {\n        vertical-align: middle;\n    }\n\n    .dataframe tbody tr th {\n        vertical-align: top;\n    }\n\n    .dataframe thead th {\n        text-align: right;\n    }\n</style>\n<table border=\"1\" class=\"dataframe\">\n  <thead>\n    <tr style=\"text-align: right;\">\n      <th></th>\n      <th>Index</th>\n      <th>Customer Id</th>\n      <th>First Name</th>\n      <th>Last Name</th>\n      <th>Company</th>\n      <th>City</th>\n      <th>Country</th>\n      <th>Phone 1</th>\n      <th>Phone 2</th>\n      <th>Email</th>\n      <th>Subscription Date</th>\n      <th>Website</th>\n    </tr>\n  </thead>\n  <tbody>\n    <tr>\n      <th>0</th>\n      <td>1</td>\n      <td>DD37Cf93aecA6Dc</td>\n      <td>Sheryl</td>\n      <td>Baxter</td>\n      <td>Rasmussen Group</td>\n      <td>East Leonard</td>\n      <td>Chile</td>\n      <td>229.077.5154</td>\n      <td>397.884.0519x718</td>\n      <td>zunigavanessa@smith.info</td>\n      <td>2020-08-24</td>\n      <td>http://www.stephenson.com/</td>\n    </tr>\n    <tr>\n      <th>1</th>\n      <td>2</td>\n      <td>1Ef7b82A4CAAD10</td>\n      <td>Preston</td>\n      <td>Lozano</td>\n      <td>Vega-Gentry</td>\n      <td>East Jimmychester</td>\n      <td>Djibouti</td>\n      <td>5153435776</td>\n      <td>686-620-1820x944</td>\n      <td>vmata@colon.com</td>\n      <td>2021-04-23</td>\n      <td>http://www.hobbs.com/</td>\n    </tr>\n    <tr>\n      <th>2</th>\n      <td>3</td>\n      <td>6F94879bDAfE5a6</td>\n      <td>Roy</td>\n      <td>Berry</td>\n      <td>Murillo-Perry</td>\n      <td>Isabelborough</td>\n      <td>Antigua and Barbuda</td>\n      <td>+1-539-402-0259</td>\n      <td>(496)978-3969x58947</td>\n      <td>beckycarr@hogan.com</td>\n      <td>2020-03-25</td>\n      <td>http://www.lawrence.com/</td>\n    </tr>\n    <tr>\n      <th>3</th>\n      <td>4</td>\n      <td>5Cef8BFA16c5e3c</td>\n      <td>Linda</td>\n      <td>Olsen</td>\n      <td>Dominguez, Mcmillan and Donovan</td>\n      <td>Bensonview</td>\n      <td>Dominican Republic</td>\n      <td>001-808-617-6467x12895</td>\n      <td>+1-813-324-8756</td>\n      <td>stanleyblackwell@benson.org</td>\n      <td>2020-06-02</td>\n      <td>http://www.good-lyons.com/</td>\n    </tr>\n    <tr>\n      <th>4</th>\n      <td>5</td>\n      <td>053d585Ab6b3159</td>\n      <td>Joanna</td>\n      <td>Bender</td>\n      <td>Martin, Lang and Andrade</td>\n      <td>West Priscilla</td>\n      <td>Slovakia (Slovak Republic)</td>\n      <td>001-234-203-0635x76146</td>\n      <td>001-199-446-3860x3486</td>\n      <td>colinalvarado@miles.net</td>\n      <td>2021-04-17</td>\n      <td>https://goodwin-ingram.com/</td>\n    </tr>\n    <tr>\n      <th>...</th>\n      <td>...</td>\n      <td>...</td>\n      <td>...</td>\n      <td>...</td>\n      <td>...</td>\n      <td>...</td>\n      <td>...</td>\n      <td>...</td>\n      <td>...</td>\n      <td>...</td>\n      <td>...</td>\n      <td>...</td>\n    </tr>\n    <tr>\n      <th>95</th>\n      <td>96</td>\n      <td>cb8E23e48d22Eae</td>\n      <td>Karl</td>\n      <td>Greer</td>\n      <td>Carey LLC</td>\n      <td>East Richard</td>\n      <td>Guyana</td>\n      <td>(188)169-1674x58692</td>\n      <td>001-841-293-3519x614</td>\n      <td>hhart@jensen.com</td>\n      <td>2022-01-30</td>\n      <td>http://hayes-perez.com/</td>\n    </tr>\n    <tr>\n      <th>96</th>\n      <td>97</td>\n      <td>CeD220bdAaCfaDf</td>\n      <td>Lynn</td>\n      <td>Atkinson</td>\n      <td>Ware, Burns and Oneal</td>\n      <td>New Bradview</td>\n      <td>Sri Lanka</td>\n      <td>+1-846-706-2218</td>\n      <td>605.413.3198</td>\n      <td>vkemp@ferrell.com</td>\n      <td>2021-07-10</td>\n      <td>https://novak-allison.com/</td>\n    </tr>\n    <tr>\n      <th>97</th>\n      <td>98</td>\n      <td>28CDbC0dFe4b1Db</td>\n      <td>Fred</td>\n      <td>Guerra</td>\n      <td>Schmitt-Jones</td>\n      <td>Ortegaland</td>\n      <td>Solomon Islands</td>\n      <td>+1-753-067-8419x7170</td>\n      <td>+1-632-666-7507x92121</td>\n      <td>swagner@kane.org</td>\n      <td>2021-09-18</td>\n      <td>https://www.ross.com/</td>\n    </tr>\n    <tr>\n      <th>98</th>\n      <td>99</td>\n      <td>c23d1D9EE8DEB0A</td>\n      <td>Yvonne</td>\n      <td>Farmer</td>\n      <td>Fitzgerald-Harrell</td>\n      <td>Lake Elijahview</td>\n      <td>Aruba</td>\n      <td>(530)311-9786</td>\n      <td>001-869-452-0943x12424</td>\n      <td>mccarthystephen@horn-green.biz</td>\n      <td>2021-08-11</td>\n      <td>http://watkins.info/</td>\n    </tr>\n    <tr>\n      <th>99</th>\n      <td>100</td>\n      <td>2354a0E336A91A1</td>\n      <td>Clarence</td>\n      <td>Haynes</td>\n      <td>Le, Nash and Cross</td>\n      <td>Judymouth</td>\n      <td>Honduras</td>\n      <td>(753)813-6941</td>\n      <td>783.639.1472</td>\n      <td>colleen91@faulkner.biz</td>\n      <td>2020-03-11</td>\n      <td>http://www.hatfield-saunders.net/</td>\n    </tr>\n  </tbody>\n</table>\n<p>100 rows × 12 columns</p>\n</div>"
          },
          "metadata": {}
        }
      ],
      "execution_count": 179
    },
    {
      "cell_type": "code",
      "source": "pd.options.display.max_rows",
      "metadata": {
        "trusted": true
      },
      "outputs": [
        {
          "execution_count": 181,
          "output_type": "execute_result",
          "data": {
            "text/plain": "60"
          },
          "metadata": {}
        }
      ],
      "execution_count": 181
    },
    {
      "cell_type": "code",
      "source": "pd.options.display.max_rows = 50",
      "metadata": {
        "trusted": true
      },
      "outputs": [],
      "execution_count": 184
    },
    {
      "cell_type": "code",
      "source": "data=pd.read_csv('customers-100.csv')\ndf=pd.DataFrame(data)\ndf",
      "metadata": {
        "trusted": true
      },
      "outputs": [
        {
          "execution_count": 185,
          "output_type": "execute_result",
          "data": {
            "text/plain": "    Index      Customer Id First Name Last Name  \\\n0       1  DD37Cf93aecA6Dc     Sheryl    Baxter   \n1       2  1Ef7b82A4CAAD10    Preston    Lozano   \n2       3  6F94879bDAfE5a6        Roy     Berry   \n3       4  5Cef8BFA16c5e3c      Linda     Olsen   \n4       5  053d585Ab6b3159     Joanna    Bender   \n..    ...              ...        ...       ...   \n95     96  cb8E23e48d22Eae       Karl     Greer   \n96     97  CeD220bdAaCfaDf       Lynn  Atkinson   \n97     98  28CDbC0dFe4b1Db       Fred    Guerra   \n98     99  c23d1D9EE8DEB0A     Yvonne    Farmer   \n99    100  2354a0E336A91A1   Clarence    Haynes   \n\n                            Company               City  \\\n0                   Rasmussen Group       East Leonard   \n1                       Vega-Gentry  East Jimmychester   \n2                     Murillo-Perry      Isabelborough   \n3   Dominguez, Mcmillan and Donovan         Bensonview   \n4          Martin, Lang and Andrade     West Priscilla   \n..                              ...                ...   \n95                        Carey LLC       East Richard   \n96            Ware, Burns and Oneal       New Bradview   \n97                    Schmitt-Jones         Ortegaland   \n98               Fitzgerald-Harrell    Lake Elijahview   \n99               Le, Nash and Cross          Judymouth   \n\n                       Country                 Phone 1  \\\n0                        Chile            229.077.5154   \n1                     Djibouti              5153435776   \n2          Antigua and Barbuda         +1-539-402-0259   \n3           Dominican Republic  001-808-617-6467x12895   \n4   Slovakia (Slovak Republic)  001-234-203-0635x76146   \n..                         ...                     ...   \n95                      Guyana     (188)169-1674x58692   \n96                   Sri Lanka         +1-846-706-2218   \n97             Solomon Islands    +1-753-067-8419x7170   \n98                       Aruba           (530)311-9786   \n99                    Honduras           (753)813-6941   \n\n                   Phone 2                           Email Subscription Date  \\\n0         397.884.0519x718        zunigavanessa@smith.info        2020-08-24   \n1         686-620-1820x944                 vmata@colon.com        2021-04-23   \n2      (496)978-3969x58947             beckycarr@hogan.com        2020-03-25   \n3          +1-813-324-8756     stanleyblackwell@benson.org        2020-06-02   \n4    001-199-446-3860x3486         colinalvarado@miles.net        2021-04-17   \n..                     ...                             ...               ...   \n95    001-841-293-3519x614                hhart@jensen.com        2022-01-30   \n96            605.413.3198               vkemp@ferrell.com        2021-07-10   \n97   +1-632-666-7507x92121                swagner@kane.org        2021-09-18   \n98  001-869-452-0943x12424  mccarthystephen@horn-green.biz        2021-08-11   \n99            783.639.1472          colleen91@faulkner.biz        2020-03-11   \n\n                              Website  \n0          http://www.stephenson.com/  \n1               http://www.hobbs.com/  \n2            http://www.lawrence.com/  \n3          http://www.good-lyons.com/  \n4         https://goodwin-ingram.com/  \n..                                ...  \n95            http://hayes-perez.com/  \n96         https://novak-allison.com/  \n97              https://www.ross.com/  \n98               http://watkins.info/  \n99  http://www.hatfield-saunders.net/  \n\n[100 rows x 12 columns]",
            "text/html": "<div>\n<style scoped>\n    .dataframe tbody tr th:only-of-type {\n        vertical-align: middle;\n    }\n\n    .dataframe tbody tr th {\n        vertical-align: top;\n    }\n\n    .dataframe thead th {\n        text-align: right;\n    }\n</style>\n<table border=\"1\" class=\"dataframe\">\n  <thead>\n    <tr style=\"text-align: right;\">\n      <th></th>\n      <th>Index</th>\n      <th>Customer Id</th>\n      <th>First Name</th>\n      <th>Last Name</th>\n      <th>Company</th>\n      <th>City</th>\n      <th>Country</th>\n      <th>Phone 1</th>\n      <th>Phone 2</th>\n      <th>Email</th>\n      <th>Subscription Date</th>\n      <th>Website</th>\n    </tr>\n  </thead>\n  <tbody>\n    <tr>\n      <th>0</th>\n      <td>1</td>\n      <td>DD37Cf93aecA6Dc</td>\n      <td>Sheryl</td>\n      <td>Baxter</td>\n      <td>Rasmussen Group</td>\n      <td>East Leonard</td>\n      <td>Chile</td>\n      <td>229.077.5154</td>\n      <td>397.884.0519x718</td>\n      <td>zunigavanessa@smith.info</td>\n      <td>2020-08-24</td>\n      <td>http://www.stephenson.com/</td>\n    </tr>\n    <tr>\n      <th>1</th>\n      <td>2</td>\n      <td>1Ef7b82A4CAAD10</td>\n      <td>Preston</td>\n      <td>Lozano</td>\n      <td>Vega-Gentry</td>\n      <td>East Jimmychester</td>\n      <td>Djibouti</td>\n      <td>5153435776</td>\n      <td>686-620-1820x944</td>\n      <td>vmata@colon.com</td>\n      <td>2021-04-23</td>\n      <td>http://www.hobbs.com/</td>\n    </tr>\n    <tr>\n      <th>2</th>\n      <td>3</td>\n      <td>6F94879bDAfE5a6</td>\n      <td>Roy</td>\n      <td>Berry</td>\n      <td>Murillo-Perry</td>\n      <td>Isabelborough</td>\n      <td>Antigua and Barbuda</td>\n      <td>+1-539-402-0259</td>\n      <td>(496)978-3969x58947</td>\n      <td>beckycarr@hogan.com</td>\n      <td>2020-03-25</td>\n      <td>http://www.lawrence.com/</td>\n    </tr>\n    <tr>\n      <th>3</th>\n      <td>4</td>\n      <td>5Cef8BFA16c5e3c</td>\n      <td>Linda</td>\n      <td>Olsen</td>\n      <td>Dominguez, Mcmillan and Donovan</td>\n      <td>Bensonview</td>\n      <td>Dominican Republic</td>\n      <td>001-808-617-6467x12895</td>\n      <td>+1-813-324-8756</td>\n      <td>stanleyblackwell@benson.org</td>\n      <td>2020-06-02</td>\n      <td>http://www.good-lyons.com/</td>\n    </tr>\n    <tr>\n      <th>4</th>\n      <td>5</td>\n      <td>053d585Ab6b3159</td>\n      <td>Joanna</td>\n      <td>Bender</td>\n      <td>Martin, Lang and Andrade</td>\n      <td>West Priscilla</td>\n      <td>Slovakia (Slovak Republic)</td>\n      <td>001-234-203-0635x76146</td>\n      <td>001-199-446-3860x3486</td>\n      <td>colinalvarado@miles.net</td>\n      <td>2021-04-17</td>\n      <td>https://goodwin-ingram.com/</td>\n    </tr>\n    <tr>\n      <th>...</th>\n      <td>...</td>\n      <td>...</td>\n      <td>...</td>\n      <td>...</td>\n      <td>...</td>\n      <td>...</td>\n      <td>...</td>\n      <td>...</td>\n      <td>...</td>\n      <td>...</td>\n      <td>...</td>\n      <td>...</td>\n    </tr>\n    <tr>\n      <th>95</th>\n      <td>96</td>\n      <td>cb8E23e48d22Eae</td>\n      <td>Karl</td>\n      <td>Greer</td>\n      <td>Carey LLC</td>\n      <td>East Richard</td>\n      <td>Guyana</td>\n      <td>(188)169-1674x58692</td>\n      <td>001-841-293-3519x614</td>\n      <td>hhart@jensen.com</td>\n      <td>2022-01-30</td>\n      <td>http://hayes-perez.com/</td>\n    </tr>\n    <tr>\n      <th>96</th>\n      <td>97</td>\n      <td>CeD220bdAaCfaDf</td>\n      <td>Lynn</td>\n      <td>Atkinson</td>\n      <td>Ware, Burns and Oneal</td>\n      <td>New Bradview</td>\n      <td>Sri Lanka</td>\n      <td>+1-846-706-2218</td>\n      <td>605.413.3198</td>\n      <td>vkemp@ferrell.com</td>\n      <td>2021-07-10</td>\n      <td>https://novak-allison.com/</td>\n    </tr>\n    <tr>\n      <th>97</th>\n      <td>98</td>\n      <td>28CDbC0dFe4b1Db</td>\n      <td>Fred</td>\n      <td>Guerra</td>\n      <td>Schmitt-Jones</td>\n      <td>Ortegaland</td>\n      <td>Solomon Islands</td>\n      <td>+1-753-067-8419x7170</td>\n      <td>+1-632-666-7507x92121</td>\n      <td>swagner@kane.org</td>\n      <td>2021-09-18</td>\n      <td>https://www.ross.com/</td>\n    </tr>\n    <tr>\n      <th>98</th>\n      <td>99</td>\n      <td>c23d1D9EE8DEB0A</td>\n      <td>Yvonne</td>\n      <td>Farmer</td>\n      <td>Fitzgerald-Harrell</td>\n      <td>Lake Elijahview</td>\n      <td>Aruba</td>\n      <td>(530)311-9786</td>\n      <td>001-869-452-0943x12424</td>\n      <td>mccarthystephen@horn-green.biz</td>\n      <td>2021-08-11</td>\n      <td>http://watkins.info/</td>\n    </tr>\n    <tr>\n      <th>99</th>\n      <td>100</td>\n      <td>2354a0E336A91A1</td>\n      <td>Clarence</td>\n      <td>Haynes</td>\n      <td>Le, Nash and Cross</td>\n      <td>Judymouth</td>\n      <td>Honduras</td>\n      <td>(753)813-6941</td>\n      <td>783.639.1472</td>\n      <td>colleen91@faulkner.biz</td>\n      <td>2020-03-11</td>\n      <td>http://www.hatfield-saunders.net/</td>\n    </tr>\n  </tbody>\n</table>\n<p>100 rows × 12 columns</p>\n</div>"
          },
          "metadata": {}
        }
      ],
      "execution_count": 185
    },
    {
      "cell_type": "code",
      "source": "df = pd.read_json('data.json')\ndf",
      "metadata": {
        "trusted": true
      },
      "outputs": [
        {
          "execution_count": 186,
          "output_type": "execute_result",
          "data": {
            "text/plain": "     Duration  Pulse  Maxpulse  Calories\n0          60    110       130     409.1\n1          60    117       145     479.0\n2          60    103       135     340.0\n3          45    109       175     282.4\n4          45    117       148     406.0\n..        ...    ...       ...       ...\n164        60    105       140     290.8\n165        60    110       145     300.4\n166        60    115       145     310.2\n167        75    120       150     320.4\n168        75    125       150     330.4\n\n[169 rows x 4 columns]",
            "text/html": "<div>\n<style scoped>\n    .dataframe tbody tr th:only-of-type {\n        vertical-align: middle;\n    }\n\n    .dataframe tbody tr th {\n        vertical-align: top;\n    }\n\n    .dataframe thead th {\n        text-align: right;\n    }\n</style>\n<table border=\"1\" class=\"dataframe\">\n  <thead>\n    <tr style=\"text-align: right;\">\n      <th></th>\n      <th>Duration</th>\n      <th>Pulse</th>\n      <th>Maxpulse</th>\n      <th>Calories</th>\n    </tr>\n  </thead>\n  <tbody>\n    <tr>\n      <th>0</th>\n      <td>60</td>\n      <td>110</td>\n      <td>130</td>\n      <td>409.1</td>\n    </tr>\n    <tr>\n      <th>1</th>\n      <td>60</td>\n      <td>117</td>\n      <td>145</td>\n      <td>479.0</td>\n    </tr>\n    <tr>\n      <th>2</th>\n      <td>60</td>\n      <td>103</td>\n      <td>135</td>\n      <td>340.0</td>\n    </tr>\n    <tr>\n      <th>3</th>\n      <td>45</td>\n      <td>109</td>\n      <td>175</td>\n      <td>282.4</td>\n    </tr>\n    <tr>\n      <th>4</th>\n      <td>45</td>\n      <td>117</td>\n      <td>148</td>\n      <td>406.0</td>\n    </tr>\n    <tr>\n      <th>...</th>\n      <td>...</td>\n      <td>...</td>\n      <td>...</td>\n      <td>...</td>\n    </tr>\n    <tr>\n      <th>164</th>\n      <td>60</td>\n      <td>105</td>\n      <td>140</td>\n      <td>290.8</td>\n    </tr>\n    <tr>\n      <th>165</th>\n      <td>60</td>\n      <td>110</td>\n      <td>145</td>\n      <td>300.4</td>\n    </tr>\n    <tr>\n      <th>166</th>\n      <td>60</td>\n      <td>115</td>\n      <td>145</td>\n      <td>310.2</td>\n    </tr>\n    <tr>\n      <th>167</th>\n      <td>75</td>\n      <td>120</td>\n      <td>150</td>\n      <td>320.4</td>\n    </tr>\n    <tr>\n      <th>168</th>\n      <td>75</td>\n      <td>125</td>\n      <td>150</td>\n      <td>330.4</td>\n    </tr>\n  </tbody>\n</table>\n<p>169 rows × 4 columns</p>\n</div>"
          },
          "metadata": {}
        }
      ],
      "execution_count": 186
    },
    {
      "cell_type": "code",
      "source": "# df.to_string()",
      "metadata": {
        "trusted": true
      },
      "outputs": [],
      "execution_count": 188
    },
    {
      "cell_type": "code",
      "source": "data = {\n  \"Duration\":{\n    \"0\":60,\n    \"1\":60,\n    \"2\":60,\n    \"3\":45,\n    \"4\":45,\n    \"5\":60\n  },\n  \"Pulse\":{\n    \"0\":110,\n    \"1\":117,\n    \"2\":103,\n    \"3\":109,\n    \"4\":117,\n    \"5\":102\n  },\n  \"Maxpulse\":{\n    \"0\":130,\n    \"1\":145,\n    \"2\":135,\n    \"3\":175,\n    \"4\":148,\n    \"5\":127\n  },\n  \"Calories\":{\n    \"0\":409,\n    \"1\":479,\n    \"2\":340,\n    \"3\":282,\n    \"4\":406,\n    \"5\":300\n  }\n}\n\ndf = pd.DataFrame(data)\n\nprint(df)",
      "metadata": {
        "trusted": true
      },
      "outputs": [
        {
          "name": "stdout",
          "text": "   Duration  Pulse  Maxpulse  Calories\n0        60    110       130       409\n1        60    117       145       479\n2        60    103       135       340\n3        45    109       175       282\n4        45    117       148       406\n5        60    102       127       300\n",
          "output_type": "stream"
        }
      ],
      "execution_count": 189
    },
    {
      "cell_type": "code",
      "source": "df = pd.read_csv('data.csv')\ndf.head(10)",
      "metadata": {
        "trusted": true
      },
      "outputs": [
        {
          "execution_count": 191,
          "output_type": "execute_result",
          "data": {
            "text/plain": "   Index      Customer Id First Name  Last Name  \\\n0      1  DD37Cf93aecA6Dc     Sheryl     Baxter   \n1      2  1Ef7b82A4CAAD10    Preston     Lozano   \n2      3  6F94879bDAfE5a6        Roy      Berry   \n3      4  5Cef8BFA16c5e3c      Linda      Olsen   \n4      5  053d585Ab6b3159     Joanna     Bender   \n5      6  2d08FB17EE273F4      Aimee      Downs   \n6      7  EA4d384DfDbBf77     Darren       Peck   \n7      8  0e04AFde9f225dE      Brett     Mullen   \n8      9  C2dE4dEEc489ae0     Sheryl     Meyers   \n9     10  8C2811a503C7c5a   Michelle  Gallagher   \n\n                           Company               City  \\\n0                  Rasmussen Group       East Leonard   \n1                      Vega-Gentry  East Jimmychester   \n2                    Murillo-Perry      Isabelborough   \n3  Dominguez, Mcmillan and Donovan         Bensonview   \n4         Martin, Lang and Andrade     West Priscilla   \n5                     Steele Group      Chavezborough   \n6     Lester, Woodard and Mitchell           Lake Ana   \n7     Sanford, Davenport and Giles            Kimport   \n8                   Browning-Simon       Robersonstad   \n9                     Beck-Hendrix         Elaineberg   \n\n                      Country                 Phone 1                Phone 2  \\\n0                       Chile            229.077.5154       397.884.0519x718   \n1                    Djibouti              5153435776       686-620-1820x944   \n2         Antigua and Barbuda         +1-539-402-0259    (496)978-3969x58947   \n3          Dominican Republic  001-808-617-6467x12895        +1-813-324-8756   \n4  Slovakia (Slovak Republic)  001-234-203-0635x76146  001-199-446-3860x3486   \n5      Bosnia and Herzegovina     (283)437-3886x88321           999-728-1637   \n6            Pitcairn Islands      (496)452-6181x3291   +1-247-266-0963x4995   \n7                    Bulgaria    001-583-352-7197x297       001-333-145-0369   \n8                      Cyprus       854-138-4911x5772    +1-448-910-2276x729   \n9                 Timor-Leste        739.218.2516x459   001-054-401-0347x617   \n\n                         Email Subscription Date                      Website  \n0     zunigavanessa@smith.info        2020-08-24   http://www.stephenson.com/  \n1              vmata@colon.com        2021-04-23        http://www.hobbs.com/  \n2          beckycarr@hogan.com        2020-03-25     http://www.lawrence.com/  \n3  stanleyblackwell@benson.org        2020-06-02   http://www.good-lyons.com/  \n4      colinalvarado@miles.net        2021-04-17  https://goodwin-ingram.com/  \n5          louis27@gilbert.com        2020-02-25       http://www.berger.net/  \n6          tgates@cantrell.com        2021-08-24          https://www.le.com/  \n7              asnow@colon.com        2021-04-12  https://hammond-ramsey.com/  \n8      mariokhan@ryan-pope.org        2020-01-13     https://www.bullock.net/  \n9            mdyer@escobar.net        2021-11-08           https://arias.com/  ",
            "text/html": "<div>\n<style scoped>\n    .dataframe tbody tr th:only-of-type {\n        vertical-align: middle;\n    }\n\n    .dataframe tbody tr th {\n        vertical-align: top;\n    }\n\n    .dataframe thead th {\n        text-align: right;\n    }\n</style>\n<table border=\"1\" class=\"dataframe\">\n  <thead>\n    <tr style=\"text-align: right;\">\n      <th></th>\n      <th>Index</th>\n      <th>Customer Id</th>\n      <th>First Name</th>\n      <th>Last Name</th>\n      <th>Company</th>\n      <th>City</th>\n      <th>Country</th>\n      <th>Phone 1</th>\n      <th>Phone 2</th>\n      <th>Email</th>\n      <th>Subscription Date</th>\n      <th>Website</th>\n    </tr>\n  </thead>\n  <tbody>\n    <tr>\n      <th>0</th>\n      <td>1</td>\n      <td>DD37Cf93aecA6Dc</td>\n      <td>Sheryl</td>\n      <td>Baxter</td>\n      <td>Rasmussen Group</td>\n      <td>East Leonard</td>\n      <td>Chile</td>\n      <td>229.077.5154</td>\n      <td>397.884.0519x718</td>\n      <td>zunigavanessa@smith.info</td>\n      <td>2020-08-24</td>\n      <td>http://www.stephenson.com/</td>\n    </tr>\n    <tr>\n      <th>1</th>\n      <td>2</td>\n      <td>1Ef7b82A4CAAD10</td>\n      <td>Preston</td>\n      <td>Lozano</td>\n      <td>Vega-Gentry</td>\n      <td>East Jimmychester</td>\n      <td>Djibouti</td>\n      <td>5153435776</td>\n      <td>686-620-1820x944</td>\n      <td>vmata@colon.com</td>\n      <td>2021-04-23</td>\n      <td>http://www.hobbs.com/</td>\n    </tr>\n    <tr>\n      <th>2</th>\n      <td>3</td>\n      <td>6F94879bDAfE5a6</td>\n      <td>Roy</td>\n      <td>Berry</td>\n      <td>Murillo-Perry</td>\n      <td>Isabelborough</td>\n      <td>Antigua and Barbuda</td>\n      <td>+1-539-402-0259</td>\n      <td>(496)978-3969x58947</td>\n      <td>beckycarr@hogan.com</td>\n      <td>2020-03-25</td>\n      <td>http://www.lawrence.com/</td>\n    </tr>\n    <tr>\n      <th>3</th>\n      <td>4</td>\n      <td>5Cef8BFA16c5e3c</td>\n      <td>Linda</td>\n      <td>Olsen</td>\n      <td>Dominguez, Mcmillan and Donovan</td>\n      <td>Bensonview</td>\n      <td>Dominican Republic</td>\n      <td>001-808-617-6467x12895</td>\n      <td>+1-813-324-8756</td>\n      <td>stanleyblackwell@benson.org</td>\n      <td>2020-06-02</td>\n      <td>http://www.good-lyons.com/</td>\n    </tr>\n    <tr>\n      <th>4</th>\n      <td>5</td>\n      <td>053d585Ab6b3159</td>\n      <td>Joanna</td>\n      <td>Bender</td>\n      <td>Martin, Lang and Andrade</td>\n      <td>West Priscilla</td>\n      <td>Slovakia (Slovak Republic)</td>\n      <td>001-234-203-0635x76146</td>\n      <td>001-199-446-3860x3486</td>\n      <td>colinalvarado@miles.net</td>\n      <td>2021-04-17</td>\n      <td>https://goodwin-ingram.com/</td>\n    </tr>\n    <tr>\n      <th>5</th>\n      <td>6</td>\n      <td>2d08FB17EE273F4</td>\n      <td>Aimee</td>\n      <td>Downs</td>\n      <td>Steele Group</td>\n      <td>Chavezborough</td>\n      <td>Bosnia and Herzegovina</td>\n      <td>(283)437-3886x88321</td>\n      <td>999-728-1637</td>\n      <td>louis27@gilbert.com</td>\n      <td>2020-02-25</td>\n      <td>http://www.berger.net/</td>\n    </tr>\n    <tr>\n      <th>6</th>\n      <td>7</td>\n      <td>EA4d384DfDbBf77</td>\n      <td>Darren</td>\n      <td>Peck</td>\n      <td>Lester, Woodard and Mitchell</td>\n      <td>Lake Ana</td>\n      <td>Pitcairn Islands</td>\n      <td>(496)452-6181x3291</td>\n      <td>+1-247-266-0963x4995</td>\n      <td>tgates@cantrell.com</td>\n      <td>2021-08-24</td>\n      <td>https://www.le.com/</td>\n    </tr>\n    <tr>\n      <th>7</th>\n      <td>8</td>\n      <td>0e04AFde9f225dE</td>\n      <td>Brett</td>\n      <td>Mullen</td>\n      <td>Sanford, Davenport and Giles</td>\n      <td>Kimport</td>\n      <td>Bulgaria</td>\n      <td>001-583-352-7197x297</td>\n      <td>001-333-145-0369</td>\n      <td>asnow@colon.com</td>\n      <td>2021-04-12</td>\n      <td>https://hammond-ramsey.com/</td>\n    </tr>\n    <tr>\n      <th>8</th>\n      <td>9</td>\n      <td>C2dE4dEEc489ae0</td>\n      <td>Sheryl</td>\n      <td>Meyers</td>\n      <td>Browning-Simon</td>\n      <td>Robersonstad</td>\n      <td>Cyprus</td>\n      <td>854-138-4911x5772</td>\n      <td>+1-448-910-2276x729</td>\n      <td>mariokhan@ryan-pope.org</td>\n      <td>2020-01-13</td>\n      <td>https://www.bullock.net/</td>\n    </tr>\n    <tr>\n      <th>9</th>\n      <td>10</td>\n      <td>8C2811a503C7c5a</td>\n      <td>Michelle</td>\n      <td>Gallagher</td>\n      <td>Beck-Hendrix</td>\n      <td>Elaineberg</td>\n      <td>Timor-Leste</td>\n      <td>739.218.2516x459</td>\n      <td>001-054-401-0347x617</td>\n      <td>mdyer@escobar.net</td>\n      <td>2021-11-08</td>\n      <td>https://arias.com/</td>\n    </tr>\n  </tbody>\n</table>\n</div>"
          },
          "metadata": {}
        }
      ],
      "execution_count": 191
    },
    {
      "cell_type": "code",
      "source": "df.info()",
      "metadata": {
        "trusted": true
      },
      "outputs": [
        {
          "name": "stdout",
          "text": "<class 'pandas.core.frame.DataFrame'>\nRangeIndex: 100 entries, 0 to 99\nData columns (total 12 columns):\n #   Column             Non-Null Count  Dtype \n---  ------             --------------  ----- \n 0   Index              100 non-null    int64 \n 1   Customer Id        100 non-null    object\n 2   First Name         100 non-null    object\n 3   Last Name          100 non-null    object\n 4   Company            100 non-null    object\n 5   City               100 non-null    object\n 6   Country            100 non-null    object\n 7   Phone 1            100 non-null    object\n 8   Phone 2            100 non-null    object\n 9   Email              100 non-null    object\n 10  Subscription Date  100 non-null    object\n 11  Website            100 non-null    object\ndtypes: int64(1), object(11)\nmemory usage: 5.1+ KB\n",
          "output_type": "stream"
        }
      ],
      "execution_count": 192
    },
    {
      "cell_type": "code",
      "source": "df = pd.read_csv('data.csv')\ndf",
      "metadata": {
        "trusted": true
      },
      "outputs": [
        {
          "execution_count": 194,
          "output_type": "execute_result",
          "data": {
            "text/plain": "    Index      Customer Id First Name Last Name  \\\n0       1  DD37Cf93aecA6Dc     Sheryl    Baxter   \n1       2  1Ef7b82A4CAAD10    Preston    Lozano   \n2       3  6F94879bDAfE5a6        Roy     Berry   \n3       4  5Cef8BFA16c5e3c      Linda     Olsen   \n4       5  053d585Ab6b3159     Joanna    Bender   \n..    ...              ...        ...       ...   \n95     96  cb8E23e48d22Eae       Karl     Greer   \n96     97  CeD220bdAaCfaDf       Lynn  Atkinson   \n97     98  28CDbC0dFe4b1Db       Fred    Guerra   \n98     99  c23d1D9EE8DEB0A     Yvonne    Farmer   \n99    100  2354a0E336A91A1   Clarence    Haynes   \n\n                            Company               City  \\\n0                   Rasmussen Group       East Leonard   \n1                       Vega-Gentry  East Jimmychester   \n2                     Murillo-Perry      Isabelborough   \n3   Dominguez, Mcmillan and Donovan         Bensonview   \n4          Martin, Lang and Andrade     West Priscilla   \n..                              ...                ...   \n95                        Carey LLC       East Richard   \n96            Ware, Burns and Oneal       New Bradview   \n97                    Schmitt-Jones         Ortegaland   \n98               Fitzgerald-Harrell    Lake Elijahview   \n99               Le, Nash and Cross          Judymouth   \n\n                       Country                 Phone 1  \\\n0                        Chile            229.077.5154   \n1                     Djibouti              5153435776   \n2          Antigua and Barbuda         +1-539-402-0259   \n3           Dominican Republic  001-808-617-6467x12895   \n4   Slovakia (Slovak Republic)  001-234-203-0635x76146   \n..                         ...                     ...   \n95                      Guyana     (188)169-1674x58692   \n96                   Sri Lanka         +1-846-706-2218   \n97             Solomon Islands    +1-753-067-8419x7170   \n98                       Aruba           (530)311-9786   \n99                    Honduras           (753)813-6941   \n\n                   Phone 2                           Email Subscription Date  \\\n0         397.884.0519x718        zunigavanessa@smith.info        2020-08-24   \n1         686-620-1820x944                 vmata@colon.com        2021-04-23   \n2      (496)978-3969x58947             beckycarr@hogan.com        2020-03-25   \n3          +1-813-324-8756     stanleyblackwell@benson.org        2020-06-02   \n4    001-199-446-3860x3486         colinalvarado@miles.net        2021-04-17   \n..                     ...                             ...               ...   \n95    001-841-293-3519x614                hhart@jensen.com        2022-01-30   \n96            605.413.3198               vkemp@ferrell.com        2021-07-10   \n97   +1-632-666-7507x92121                swagner@kane.org        2021-09-18   \n98  001-869-452-0943x12424  mccarthystephen@horn-green.biz        2021-08-11   \n99            783.639.1472          colleen91@faulkner.biz        2020-03-11   \n\n                              Website  \n0          http://www.stephenson.com/  \n1               http://www.hobbs.com/  \n2            http://www.lawrence.com/  \n3          http://www.good-lyons.com/  \n4         https://goodwin-ingram.com/  \n..                                ...  \n95            http://hayes-perez.com/  \n96         https://novak-allison.com/  \n97              https://www.ross.com/  \n98               http://watkins.info/  \n99  http://www.hatfield-saunders.net/  \n\n[100 rows x 12 columns]",
            "text/html": "<div>\n<style scoped>\n    .dataframe tbody tr th:only-of-type {\n        vertical-align: middle;\n    }\n\n    .dataframe tbody tr th {\n        vertical-align: top;\n    }\n\n    .dataframe thead th {\n        text-align: right;\n    }\n</style>\n<table border=\"1\" class=\"dataframe\">\n  <thead>\n    <tr style=\"text-align: right;\">\n      <th></th>\n      <th>Index</th>\n      <th>Customer Id</th>\n      <th>First Name</th>\n      <th>Last Name</th>\n      <th>Company</th>\n      <th>City</th>\n      <th>Country</th>\n      <th>Phone 1</th>\n      <th>Phone 2</th>\n      <th>Email</th>\n      <th>Subscription Date</th>\n      <th>Website</th>\n    </tr>\n  </thead>\n  <tbody>\n    <tr>\n      <th>0</th>\n      <td>1</td>\n      <td>DD37Cf93aecA6Dc</td>\n      <td>Sheryl</td>\n      <td>Baxter</td>\n      <td>Rasmussen Group</td>\n      <td>East Leonard</td>\n      <td>Chile</td>\n      <td>229.077.5154</td>\n      <td>397.884.0519x718</td>\n      <td>zunigavanessa@smith.info</td>\n      <td>2020-08-24</td>\n      <td>http://www.stephenson.com/</td>\n    </tr>\n    <tr>\n      <th>1</th>\n      <td>2</td>\n      <td>1Ef7b82A4CAAD10</td>\n      <td>Preston</td>\n      <td>Lozano</td>\n      <td>Vega-Gentry</td>\n      <td>East Jimmychester</td>\n      <td>Djibouti</td>\n      <td>5153435776</td>\n      <td>686-620-1820x944</td>\n      <td>vmata@colon.com</td>\n      <td>2021-04-23</td>\n      <td>http://www.hobbs.com/</td>\n    </tr>\n    <tr>\n      <th>2</th>\n      <td>3</td>\n      <td>6F94879bDAfE5a6</td>\n      <td>Roy</td>\n      <td>Berry</td>\n      <td>Murillo-Perry</td>\n      <td>Isabelborough</td>\n      <td>Antigua and Barbuda</td>\n      <td>+1-539-402-0259</td>\n      <td>(496)978-3969x58947</td>\n      <td>beckycarr@hogan.com</td>\n      <td>2020-03-25</td>\n      <td>http://www.lawrence.com/</td>\n    </tr>\n    <tr>\n      <th>3</th>\n      <td>4</td>\n      <td>5Cef8BFA16c5e3c</td>\n      <td>Linda</td>\n      <td>Olsen</td>\n      <td>Dominguez, Mcmillan and Donovan</td>\n      <td>Bensonview</td>\n      <td>Dominican Republic</td>\n      <td>001-808-617-6467x12895</td>\n      <td>+1-813-324-8756</td>\n      <td>stanleyblackwell@benson.org</td>\n      <td>2020-06-02</td>\n      <td>http://www.good-lyons.com/</td>\n    </tr>\n    <tr>\n      <th>4</th>\n      <td>5</td>\n      <td>053d585Ab6b3159</td>\n      <td>Joanna</td>\n      <td>Bender</td>\n      <td>Martin, Lang and Andrade</td>\n      <td>West Priscilla</td>\n      <td>Slovakia (Slovak Republic)</td>\n      <td>001-234-203-0635x76146</td>\n      <td>001-199-446-3860x3486</td>\n      <td>colinalvarado@miles.net</td>\n      <td>2021-04-17</td>\n      <td>https://goodwin-ingram.com/</td>\n    </tr>\n    <tr>\n      <th>...</th>\n      <td>...</td>\n      <td>...</td>\n      <td>...</td>\n      <td>...</td>\n      <td>...</td>\n      <td>...</td>\n      <td>...</td>\n      <td>...</td>\n      <td>...</td>\n      <td>...</td>\n      <td>...</td>\n      <td>...</td>\n    </tr>\n    <tr>\n      <th>95</th>\n      <td>96</td>\n      <td>cb8E23e48d22Eae</td>\n      <td>Karl</td>\n      <td>Greer</td>\n      <td>Carey LLC</td>\n      <td>East Richard</td>\n      <td>Guyana</td>\n      <td>(188)169-1674x58692</td>\n      <td>001-841-293-3519x614</td>\n      <td>hhart@jensen.com</td>\n      <td>2022-01-30</td>\n      <td>http://hayes-perez.com/</td>\n    </tr>\n    <tr>\n      <th>96</th>\n      <td>97</td>\n      <td>CeD220bdAaCfaDf</td>\n      <td>Lynn</td>\n      <td>Atkinson</td>\n      <td>Ware, Burns and Oneal</td>\n      <td>New Bradview</td>\n      <td>Sri Lanka</td>\n      <td>+1-846-706-2218</td>\n      <td>605.413.3198</td>\n      <td>vkemp@ferrell.com</td>\n      <td>2021-07-10</td>\n      <td>https://novak-allison.com/</td>\n    </tr>\n    <tr>\n      <th>97</th>\n      <td>98</td>\n      <td>28CDbC0dFe4b1Db</td>\n      <td>Fred</td>\n      <td>Guerra</td>\n      <td>Schmitt-Jones</td>\n      <td>Ortegaland</td>\n      <td>Solomon Islands</td>\n      <td>+1-753-067-8419x7170</td>\n      <td>+1-632-666-7507x92121</td>\n      <td>swagner@kane.org</td>\n      <td>2021-09-18</td>\n      <td>https://www.ross.com/</td>\n    </tr>\n    <tr>\n      <th>98</th>\n      <td>99</td>\n      <td>c23d1D9EE8DEB0A</td>\n      <td>Yvonne</td>\n      <td>Farmer</td>\n      <td>Fitzgerald-Harrell</td>\n      <td>Lake Elijahview</td>\n      <td>Aruba</td>\n      <td>(530)311-9786</td>\n      <td>001-869-452-0943x12424</td>\n      <td>mccarthystephen@horn-green.biz</td>\n      <td>2021-08-11</td>\n      <td>http://watkins.info/</td>\n    </tr>\n    <tr>\n      <th>99</th>\n      <td>100</td>\n      <td>2354a0E336A91A1</td>\n      <td>Clarence</td>\n      <td>Haynes</td>\n      <td>Le, Nash and Cross</td>\n      <td>Judymouth</td>\n      <td>Honduras</td>\n      <td>(753)813-6941</td>\n      <td>783.639.1472</td>\n      <td>colleen91@faulkner.biz</td>\n      <td>2020-03-11</td>\n      <td>http://www.hatfield-saunders.net/</td>\n    </tr>\n  </tbody>\n</table>\n<p>100 rows × 12 columns</p>\n</div>"
          },
          "metadata": {}
        }
      ],
      "execution_count": 194
    },
    {
      "cell_type": "code",
      "source": "new_df = df.dropna()\n\nnew_df",
      "metadata": {
        "trusted": true
      },
      "outputs": [
        {
          "execution_count": 195,
          "output_type": "execute_result",
          "data": {
            "text/plain": "    Index      Customer Id First Name Last Name  \\\n0       1  DD37Cf93aecA6Dc     Sheryl    Baxter   \n1       2  1Ef7b82A4CAAD10    Preston    Lozano   \n2       3  6F94879bDAfE5a6        Roy     Berry   \n3       4  5Cef8BFA16c5e3c      Linda     Olsen   \n4       5  053d585Ab6b3159     Joanna    Bender   \n..    ...              ...        ...       ...   \n95     96  cb8E23e48d22Eae       Karl     Greer   \n96     97  CeD220bdAaCfaDf       Lynn  Atkinson   \n97     98  28CDbC0dFe4b1Db       Fred    Guerra   \n98     99  c23d1D9EE8DEB0A     Yvonne    Farmer   \n99    100  2354a0E336A91A1   Clarence    Haynes   \n\n                            Company               City  \\\n0                   Rasmussen Group       East Leonard   \n1                       Vega-Gentry  East Jimmychester   \n2                     Murillo-Perry      Isabelborough   \n3   Dominguez, Mcmillan and Donovan         Bensonview   \n4          Martin, Lang and Andrade     West Priscilla   \n..                              ...                ...   \n95                        Carey LLC       East Richard   \n96            Ware, Burns and Oneal       New Bradview   \n97                    Schmitt-Jones         Ortegaland   \n98               Fitzgerald-Harrell    Lake Elijahview   \n99               Le, Nash and Cross          Judymouth   \n\n                       Country                 Phone 1  \\\n0                        Chile            229.077.5154   \n1                     Djibouti              5153435776   \n2          Antigua and Barbuda         +1-539-402-0259   \n3           Dominican Republic  001-808-617-6467x12895   \n4   Slovakia (Slovak Republic)  001-234-203-0635x76146   \n..                         ...                     ...   \n95                      Guyana     (188)169-1674x58692   \n96                   Sri Lanka         +1-846-706-2218   \n97             Solomon Islands    +1-753-067-8419x7170   \n98                       Aruba           (530)311-9786   \n99                    Honduras           (753)813-6941   \n\n                   Phone 2                           Email Subscription Date  \\\n0         397.884.0519x718        zunigavanessa@smith.info        2020-08-24   \n1         686-620-1820x944                 vmata@colon.com        2021-04-23   \n2      (496)978-3969x58947             beckycarr@hogan.com        2020-03-25   \n3          +1-813-324-8756     stanleyblackwell@benson.org        2020-06-02   \n4    001-199-446-3860x3486         colinalvarado@miles.net        2021-04-17   \n..                     ...                             ...               ...   \n95    001-841-293-3519x614                hhart@jensen.com        2022-01-30   \n96            605.413.3198               vkemp@ferrell.com        2021-07-10   \n97   +1-632-666-7507x92121                swagner@kane.org        2021-09-18   \n98  001-869-452-0943x12424  mccarthystephen@horn-green.biz        2021-08-11   \n99            783.639.1472          colleen91@faulkner.biz        2020-03-11   \n\n                              Website  \n0          http://www.stephenson.com/  \n1               http://www.hobbs.com/  \n2            http://www.lawrence.com/  \n3          http://www.good-lyons.com/  \n4         https://goodwin-ingram.com/  \n..                                ...  \n95            http://hayes-perez.com/  \n96         https://novak-allison.com/  \n97              https://www.ross.com/  \n98               http://watkins.info/  \n99  http://www.hatfield-saunders.net/  \n\n[100 rows x 12 columns]",
            "text/html": "<div>\n<style scoped>\n    .dataframe tbody tr th:only-of-type {\n        vertical-align: middle;\n    }\n\n    .dataframe tbody tr th {\n        vertical-align: top;\n    }\n\n    .dataframe thead th {\n        text-align: right;\n    }\n</style>\n<table border=\"1\" class=\"dataframe\">\n  <thead>\n    <tr style=\"text-align: right;\">\n      <th></th>\n      <th>Index</th>\n      <th>Customer Id</th>\n      <th>First Name</th>\n      <th>Last Name</th>\n      <th>Company</th>\n      <th>City</th>\n      <th>Country</th>\n      <th>Phone 1</th>\n      <th>Phone 2</th>\n      <th>Email</th>\n      <th>Subscription Date</th>\n      <th>Website</th>\n    </tr>\n  </thead>\n  <tbody>\n    <tr>\n      <th>0</th>\n      <td>1</td>\n      <td>DD37Cf93aecA6Dc</td>\n      <td>Sheryl</td>\n      <td>Baxter</td>\n      <td>Rasmussen Group</td>\n      <td>East Leonard</td>\n      <td>Chile</td>\n      <td>229.077.5154</td>\n      <td>397.884.0519x718</td>\n      <td>zunigavanessa@smith.info</td>\n      <td>2020-08-24</td>\n      <td>http://www.stephenson.com/</td>\n    </tr>\n    <tr>\n      <th>1</th>\n      <td>2</td>\n      <td>1Ef7b82A4CAAD10</td>\n      <td>Preston</td>\n      <td>Lozano</td>\n      <td>Vega-Gentry</td>\n      <td>East Jimmychester</td>\n      <td>Djibouti</td>\n      <td>5153435776</td>\n      <td>686-620-1820x944</td>\n      <td>vmata@colon.com</td>\n      <td>2021-04-23</td>\n      <td>http://www.hobbs.com/</td>\n    </tr>\n    <tr>\n      <th>2</th>\n      <td>3</td>\n      <td>6F94879bDAfE5a6</td>\n      <td>Roy</td>\n      <td>Berry</td>\n      <td>Murillo-Perry</td>\n      <td>Isabelborough</td>\n      <td>Antigua and Barbuda</td>\n      <td>+1-539-402-0259</td>\n      <td>(496)978-3969x58947</td>\n      <td>beckycarr@hogan.com</td>\n      <td>2020-03-25</td>\n      <td>http://www.lawrence.com/</td>\n    </tr>\n    <tr>\n      <th>3</th>\n      <td>4</td>\n      <td>5Cef8BFA16c5e3c</td>\n      <td>Linda</td>\n      <td>Olsen</td>\n      <td>Dominguez, Mcmillan and Donovan</td>\n      <td>Bensonview</td>\n      <td>Dominican Republic</td>\n      <td>001-808-617-6467x12895</td>\n      <td>+1-813-324-8756</td>\n      <td>stanleyblackwell@benson.org</td>\n      <td>2020-06-02</td>\n      <td>http://www.good-lyons.com/</td>\n    </tr>\n    <tr>\n      <th>4</th>\n      <td>5</td>\n      <td>053d585Ab6b3159</td>\n      <td>Joanna</td>\n      <td>Bender</td>\n      <td>Martin, Lang and Andrade</td>\n      <td>West Priscilla</td>\n      <td>Slovakia (Slovak Republic)</td>\n      <td>001-234-203-0635x76146</td>\n      <td>001-199-446-3860x3486</td>\n      <td>colinalvarado@miles.net</td>\n      <td>2021-04-17</td>\n      <td>https://goodwin-ingram.com/</td>\n    </tr>\n    <tr>\n      <th>...</th>\n      <td>...</td>\n      <td>...</td>\n      <td>...</td>\n      <td>...</td>\n      <td>...</td>\n      <td>...</td>\n      <td>...</td>\n      <td>...</td>\n      <td>...</td>\n      <td>...</td>\n      <td>...</td>\n      <td>...</td>\n    </tr>\n    <tr>\n      <th>95</th>\n      <td>96</td>\n      <td>cb8E23e48d22Eae</td>\n      <td>Karl</td>\n      <td>Greer</td>\n      <td>Carey LLC</td>\n      <td>East Richard</td>\n      <td>Guyana</td>\n      <td>(188)169-1674x58692</td>\n      <td>001-841-293-3519x614</td>\n      <td>hhart@jensen.com</td>\n      <td>2022-01-30</td>\n      <td>http://hayes-perez.com/</td>\n    </tr>\n    <tr>\n      <th>96</th>\n      <td>97</td>\n      <td>CeD220bdAaCfaDf</td>\n      <td>Lynn</td>\n      <td>Atkinson</td>\n      <td>Ware, Burns and Oneal</td>\n      <td>New Bradview</td>\n      <td>Sri Lanka</td>\n      <td>+1-846-706-2218</td>\n      <td>605.413.3198</td>\n      <td>vkemp@ferrell.com</td>\n      <td>2021-07-10</td>\n      <td>https://novak-allison.com/</td>\n    </tr>\n    <tr>\n      <th>97</th>\n      <td>98</td>\n      <td>28CDbC0dFe4b1Db</td>\n      <td>Fred</td>\n      <td>Guerra</td>\n      <td>Schmitt-Jones</td>\n      <td>Ortegaland</td>\n      <td>Solomon Islands</td>\n      <td>+1-753-067-8419x7170</td>\n      <td>+1-632-666-7507x92121</td>\n      <td>swagner@kane.org</td>\n      <td>2021-09-18</td>\n      <td>https://www.ross.com/</td>\n    </tr>\n    <tr>\n      <th>98</th>\n      <td>99</td>\n      <td>c23d1D9EE8DEB0A</td>\n      <td>Yvonne</td>\n      <td>Farmer</td>\n      <td>Fitzgerald-Harrell</td>\n      <td>Lake Elijahview</td>\n      <td>Aruba</td>\n      <td>(530)311-9786</td>\n      <td>001-869-452-0943x12424</td>\n      <td>mccarthystephen@horn-green.biz</td>\n      <td>2021-08-11</td>\n      <td>http://watkins.info/</td>\n    </tr>\n    <tr>\n      <th>99</th>\n      <td>100</td>\n      <td>2354a0E336A91A1</td>\n      <td>Clarence</td>\n      <td>Haynes</td>\n      <td>Le, Nash and Cross</td>\n      <td>Judymouth</td>\n      <td>Honduras</td>\n      <td>(753)813-6941</td>\n      <td>783.639.1472</td>\n      <td>colleen91@faulkner.biz</td>\n      <td>2020-03-11</td>\n      <td>http://www.hatfield-saunders.net/</td>\n    </tr>\n  </tbody>\n</table>\n<p>100 rows × 12 columns</p>\n</div>"
          },
          "metadata": {}
        }
      ],
      "execution_count": 195
    },
    {
      "cell_type": "code",
      "source": "df = pd.read_csv('data.csv')\n\ndf.dropna(inplace = True)",
      "metadata": {
        "trusted": true
      },
      "outputs": [],
      "execution_count": 196
    },
    {
      "cell_type": "code",
      "source": "df",
      "metadata": {
        "trusted": true
      },
      "outputs": [
        {
          "execution_count": 197,
          "output_type": "execute_result",
          "data": {
            "text/plain": "    Index      Customer Id First Name Last Name  \\\n0       1  DD37Cf93aecA6Dc     Sheryl    Baxter   \n1       2  1Ef7b82A4CAAD10    Preston    Lozano   \n2       3  6F94879bDAfE5a6        Roy     Berry   \n3       4  5Cef8BFA16c5e3c      Linda     Olsen   \n4       5  053d585Ab6b3159     Joanna    Bender   \n..    ...              ...        ...       ...   \n95     96  cb8E23e48d22Eae       Karl     Greer   \n96     97  CeD220bdAaCfaDf       Lynn  Atkinson   \n97     98  28CDbC0dFe4b1Db       Fred    Guerra   \n98     99  c23d1D9EE8DEB0A     Yvonne    Farmer   \n99    100  2354a0E336A91A1   Clarence    Haynes   \n\n                            Company               City  \\\n0                   Rasmussen Group       East Leonard   \n1                       Vega-Gentry  East Jimmychester   \n2                     Murillo-Perry      Isabelborough   \n3   Dominguez, Mcmillan and Donovan         Bensonview   \n4          Martin, Lang and Andrade     West Priscilla   \n..                              ...                ...   \n95                        Carey LLC       East Richard   \n96            Ware, Burns and Oneal       New Bradview   \n97                    Schmitt-Jones         Ortegaland   \n98               Fitzgerald-Harrell    Lake Elijahview   \n99               Le, Nash and Cross          Judymouth   \n\n                       Country                 Phone 1  \\\n0                        Chile            229.077.5154   \n1                     Djibouti              5153435776   \n2          Antigua and Barbuda         +1-539-402-0259   \n3           Dominican Republic  001-808-617-6467x12895   \n4   Slovakia (Slovak Republic)  001-234-203-0635x76146   \n..                         ...                     ...   \n95                      Guyana     (188)169-1674x58692   \n96                   Sri Lanka         +1-846-706-2218   \n97             Solomon Islands    +1-753-067-8419x7170   \n98                       Aruba           (530)311-9786   \n99                    Honduras           (753)813-6941   \n\n                   Phone 2                           Email Subscription Date  \\\n0         397.884.0519x718        zunigavanessa@smith.info        2020-08-24   \n1         686-620-1820x944                 vmata@colon.com        2021-04-23   \n2      (496)978-3969x58947             beckycarr@hogan.com        2020-03-25   \n3          +1-813-324-8756     stanleyblackwell@benson.org        2020-06-02   \n4    001-199-446-3860x3486         colinalvarado@miles.net        2021-04-17   \n..                     ...                             ...               ...   \n95    001-841-293-3519x614                hhart@jensen.com        2022-01-30   \n96            605.413.3198               vkemp@ferrell.com        2021-07-10   \n97   +1-632-666-7507x92121                swagner@kane.org        2021-09-18   \n98  001-869-452-0943x12424  mccarthystephen@horn-green.biz        2021-08-11   \n99            783.639.1472          colleen91@faulkner.biz        2020-03-11   \n\n                              Website  \n0          http://www.stephenson.com/  \n1               http://www.hobbs.com/  \n2            http://www.lawrence.com/  \n3          http://www.good-lyons.com/  \n4         https://goodwin-ingram.com/  \n..                                ...  \n95            http://hayes-perez.com/  \n96         https://novak-allison.com/  \n97              https://www.ross.com/  \n98               http://watkins.info/  \n99  http://www.hatfield-saunders.net/  \n\n[100 rows x 12 columns]",
            "text/html": "<div>\n<style scoped>\n    .dataframe tbody tr th:only-of-type {\n        vertical-align: middle;\n    }\n\n    .dataframe tbody tr th {\n        vertical-align: top;\n    }\n\n    .dataframe thead th {\n        text-align: right;\n    }\n</style>\n<table border=\"1\" class=\"dataframe\">\n  <thead>\n    <tr style=\"text-align: right;\">\n      <th></th>\n      <th>Index</th>\n      <th>Customer Id</th>\n      <th>First Name</th>\n      <th>Last Name</th>\n      <th>Company</th>\n      <th>City</th>\n      <th>Country</th>\n      <th>Phone 1</th>\n      <th>Phone 2</th>\n      <th>Email</th>\n      <th>Subscription Date</th>\n      <th>Website</th>\n    </tr>\n  </thead>\n  <tbody>\n    <tr>\n      <th>0</th>\n      <td>1</td>\n      <td>DD37Cf93aecA6Dc</td>\n      <td>Sheryl</td>\n      <td>Baxter</td>\n      <td>Rasmussen Group</td>\n      <td>East Leonard</td>\n      <td>Chile</td>\n      <td>229.077.5154</td>\n      <td>397.884.0519x718</td>\n      <td>zunigavanessa@smith.info</td>\n      <td>2020-08-24</td>\n      <td>http://www.stephenson.com/</td>\n    </tr>\n    <tr>\n      <th>1</th>\n      <td>2</td>\n      <td>1Ef7b82A4CAAD10</td>\n      <td>Preston</td>\n      <td>Lozano</td>\n      <td>Vega-Gentry</td>\n      <td>East Jimmychester</td>\n      <td>Djibouti</td>\n      <td>5153435776</td>\n      <td>686-620-1820x944</td>\n      <td>vmata@colon.com</td>\n      <td>2021-04-23</td>\n      <td>http://www.hobbs.com/</td>\n    </tr>\n    <tr>\n      <th>2</th>\n      <td>3</td>\n      <td>6F94879bDAfE5a6</td>\n      <td>Roy</td>\n      <td>Berry</td>\n      <td>Murillo-Perry</td>\n      <td>Isabelborough</td>\n      <td>Antigua and Barbuda</td>\n      <td>+1-539-402-0259</td>\n      <td>(496)978-3969x58947</td>\n      <td>beckycarr@hogan.com</td>\n      <td>2020-03-25</td>\n      <td>http://www.lawrence.com/</td>\n    </tr>\n    <tr>\n      <th>3</th>\n      <td>4</td>\n      <td>5Cef8BFA16c5e3c</td>\n      <td>Linda</td>\n      <td>Olsen</td>\n      <td>Dominguez, Mcmillan and Donovan</td>\n      <td>Bensonview</td>\n      <td>Dominican Republic</td>\n      <td>001-808-617-6467x12895</td>\n      <td>+1-813-324-8756</td>\n      <td>stanleyblackwell@benson.org</td>\n      <td>2020-06-02</td>\n      <td>http://www.good-lyons.com/</td>\n    </tr>\n    <tr>\n      <th>4</th>\n      <td>5</td>\n      <td>053d585Ab6b3159</td>\n      <td>Joanna</td>\n      <td>Bender</td>\n      <td>Martin, Lang and Andrade</td>\n      <td>West Priscilla</td>\n      <td>Slovakia (Slovak Republic)</td>\n      <td>001-234-203-0635x76146</td>\n      <td>001-199-446-3860x3486</td>\n      <td>colinalvarado@miles.net</td>\n      <td>2021-04-17</td>\n      <td>https://goodwin-ingram.com/</td>\n    </tr>\n    <tr>\n      <th>...</th>\n      <td>...</td>\n      <td>...</td>\n      <td>...</td>\n      <td>...</td>\n      <td>...</td>\n      <td>...</td>\n      <td>...</td>\n      <td>...</td>\n      <td>...</td>\n      <td>...</td>\n      <td>...</td>\n      <td>...</td>\n    </tr>\n    <tr>\n      <th>95</th>\n      <td>96</td>\n      <td>cb8E23e48d22Eae</td>\n      <td>Karl</td>\n      <td>Greer</td>\n      <td>Carey LLC</td>\n      <td>East Richard</td>\n      <td>Guyana</td>\n      <td>(188)169-1674x58692</td>\n      <td>001-841-293-3519x614</td>\n      <td>hhart@jensen.com</td>\n      <td>2022-01-30</td>\n      <td>http://hayes-perez.com/</td>\n    </tr>\n    <tr>\n      <th>96</th>\n      <td>97</td>\n      <td>CeD220bdAaCfaDf</td>\n      <td>Lynn</td>\n      <td>Atkinson</td>\n      <td>Ware, Burns and Oneal</td>\n      <td>New Bradview</td>\n      <td>Sri Lanka</td>\n      <td>+1-846-706-2218</td>\n      <td>605.413.3198</td>\n      <td>vkemp@ferrell.com</td>\n      <td>2021-07-10</td>\n      <td>https://novak-allison.com/</td>\n    </tr>\n    <tr>\n      <th>97</th>\n      <td>98</td>\n      <td>28CDbC0dFe4b1Db</td>\n      <td>Fred</td>\n      <td>Guerra</td>\n      <td>Schmitt-Jones</td>\n      <td>Ortegaland</td>\n      <td>Solomon Islands</td>\n      <td>+1-753-067-8419x7170</td>\n      <td>+1-632-666-7507x92121</td>\n      <td>swagner@kane.org</td>\n      <td>2021-09-18</td>\n      <td>https://www.ross.com/</td>\n    </tr>\n    <tr>\n      <th>98</th>\n      <td>99</td>\n      <td>c23d1D9EE8DEB0A</td>\n      <td>Yvonne</td>\n      <td>Farmer</td>\n      <td>Fitzgerald-Harrell</td>\n      <td>Lake Elijahview</td>\n      <td>Aruba</td>\n      <td>(530)311-9786</td>\n      <td>001-869-452-0943x12424</td>\n      <td>mccarthystephen@horn-green.biz</td>\n      <td>2021-08-11</td>\n      <td>http://watkins.info/</td>\n    </tr>\n    <tr>\n      <th>99</th>\n      <td>100</td>\n      <td>2354a0E336A91A1</td>\n      <td>Clarence</td>\n      <td>Haynes</td>\n      <td>Le, Nash and Cross</td>\n      <td>Judymouth</td>\n      <td>Honduras</td>\n      <td>(753)813-6941</td>\n      <td>783.639.1472</td>\n      <td>colleen91@faulkner.biz</td>\n      <td>2020-03-11</td>\n      <td>http://www.hatfield-saunders.net/</td>\n    </tr>\n  </tbody>\n</table>\n<p>100 rows × 12 columns</p>\n</div>"
          },
          "metadata": {}
        }
      ],
      "execution_count": 197
    },
    {
      "cell_type": "code",
      "source": "df = pd.read_csv('dirtydata.csv')\ndf",
      "metadata": {
        "trusted": true
      },
      "outputs": [
        {
          "execution_count": 199,
          "output_type": "execute_result",
          "data": {
            "text/plain": "    Duration          Date  Pulse  Maxpulse  Calories\n0         60  '2020/12/01'    110       130     409.1\n1         60  '2020/12/02'    117       145     479.0\n2         60  '2020/12/03'    103       135     340.0\n3         45  '2020/12/04'    109       175     282.4\n4         45  '2020/12/05'    117       148     406.0\n5         60  '2020/12/06'    102       127     300.0\n6         60  '2020/12/07'    110       136     374.0\n7        450  '2020/12/08'    104       134     253.3\n8         30  '2020/12/09'    109       133     195.1\n9         60  '2020/12/10'     98       124     269.0\n10        60  '2020/12/11'    103       147     329.3\n11        60  '2020/12/12'    100       120     250.7\n12        60  '2020/12/12'    100       120     250.7\n13        60  '2020/12/13'    106       128     345.3\n14        60  '2020/12/14'    104       132     379.3\n15        60  '2020/12/15'     98       123     275.0\n16        60  '2020/12/16'     98       120     215.2\n17        60  '2020/12/17'    100       120     300.0\n18        45  '2020/12/18'     90       112       NaN\n19        60  '2020/12/19'    103       123     323.0\n20        45  '2020/12/20'     97       125     243.0\n21        60  '2020/12/21'    108       131     364.2\n22        45           NaN    100       119     282.0\n23        60  '2020/12/23'    130       101     300.0\n24        45  '2020/12/24'    105       132     246.0\n25        60  '2020/12/25'    102       126     334.5\n26        60      20201226    100       120     250.0\n27        60  '2020/12/27'     92       118     241.0\n28        60  '2020/12/28'    103       132       NaN\n29        60  '2020/12/29'    100       132     280.0\n30        60  '2020/12/30'    102       129     380.3\n31        60  '2020/12/31'     92       115     243.0",
            "text/html": "<div>\n<style scoped>\n    .dataframe tbody tr th:only-of-type {\n        vertical-align: middle;\n    }\n\n    .dataframe tbody tr th {\n        vertical-align: top;\n    }\n\n    .dataframe thead th {\n        text-align: right;\n    }\n</style>\n<table border=\"1\" class=\"dataframe\">\n  <thead>\n    <tr style=\"text-align: right;\">\n      <th></th>\n      <th>Duration</th>\n      <th>Date</th>\n      <th>Pulse</th>\n      <th>Maxpulse</th>\n      <th>Calories</th>\n    </tr>\n  </thead>\n  <tbody>\n    <tr>\n      <th>0</th>\n      <td>60</td>\n      <td>'2020/12/01'</td>\n      <td>110</td>\n      <td>130</td>\n      <td>409.1</td>\n    </tr>\n    <tr>\n      <th>1</th>\n      <td>60</td>\n      <td>'2020/12/02'</td>\n      <td>117</td>\n      <td>145</td>\n      <td>479.0</td>\n    </tr>\n    <tr>\n      <th>2</th>\n      <td>60</td>\n      <td>'2020/12/03'</td>\n      <td>103</td>\n      <td>135</td>\n      <td>340.0</td>\n    </tr>\n    <tr>\n      <th>3</th>\n      <td>45</td>\n      <td>'2020/12/04'</td>\n      <td>109</td>\n      <td>175</td>\n      <td>282.4</td>\n    </tr>\n    <tr>\n      <th>4</th>\n      <td>45</td>\n      <td>'2020/12/05'</td>\n      <td>117</td>\n      <td>148</td>\n      <td>406.0</td>\n    </tr>\n    <tr>\n      <th>5</th>\n      <td>60</td>\n      <td>'2020/12/06'</td>\n      <td>102</td>\n      <td>127</td>\n      <td>300.0</td>\n    </tr>\n    <tr>\n      <th>6</th>\n      <td>60</td>\n      <td>'2020/12/07'</td>\n      <td>110</td>\n      <td>136</td>\n      <td>374.0</td>\n    </tr>\n    <tr>\n      <th>7</th>\n      <td>450</td>\n      <td>'2020/12/08'</td>\n      <td>104</td>\n      <td>134</td>\n      <td>253.3</td>\n    </tr>\n    <tr>\n      <th>8</th>\n      <td>30</td>\n      <td>'2020/12/09'</td>\n      <td>109</td>\n      <td>133</td>\n      <td>195.1</td>\n    </tr>\n    <tr>\n      <th>9</th>\n      <td>60</td>\n      <td>'2020/12/10'</td>\n      <td>98</td>\n      <td>124</td>\n      <td>269.0</td>\n    </tr>\n    <tr>\n      <th>10</th>\n      <td>60</td>\n      <td>'2020/12/11'</td>\n      <td>103</td>\n      <td>147</td>\n      <td>329.3</td>\n    </tr>\n    <tr>\n      <th>11</th>\n      <td>60</td>\n      <td>'2020/12/12'</td>\n      <td>100</td>\n      <td>120</td>\n      <td>250.7</td>\n    </tr>\n    <tr>\n      <th>12</th>\n      <td>60</td>\n      <td>'2020/12/12'</td>\n      <td>100</td>\n      <td>120</td>\n      <td>250.7</td>\n    </tr>\n    <tr>\n      <th>13</th>\n      <td>60</td>\n      <td>'2020/12/13'</td>\n      <td>106</td>\n      <td>128</td>\n      <td>345.3</td>\n    </tr>\n    <tr>\n      <th>14</th>\n      <td>60</td>\n      <td>'2020/12/14'</td>\n      <td>104</td>\n      <td>132</td>\n      <td>379.3</td>\n    </tr>\n    <tr>\n      <th>15</th>\n      <td>60</td>\n      <td>'2020/12/15'</td>\n      <td>98</td>\n      <td>123</td>\n      <td>275.0</td>\n    </tr>\n    <tr>\n      <th>16</th>\n      <td>60</td>\n      <td>'2020/12/16'</td>\n      <td>98</td>\n      <td>120</td>\n      <td>215.2</td>\n    </tr>\n    <tr>\n      <th>17</th>\n      <td>60</td>\n      <td>'2020/12/17'</td>\n      <td>100</td>\n      <td>120</td>\n      <td>300.0</td>\n    </tr>\n    <tr>\n      <th>18</th>\n      <td>45</td>\n      <td>'2020/12/18'</td>\n      <td>90</td>\n      <td>112</td>\n      <td>NaN</td>\n    </tr>\n    <tr>\n      <th>19</th>\n      <td>60</td>\n      <td>'2020/12/19'</td>\n      <td>103</td>\n      <td>123</td>\n      <td>323.0</td>\n    </tr>\n    <tr>\n      <th>20</th>\n      <td>45</td>\n      <td>'2020/12/20'</td>\n      <td>97</td>\n      <td>125</td>\n      <td>243.0</td>\n    </tr>\n    <tr>\n      <th>21</th>\n      <td>60</td>\n      <td>'2020/12/21'</td>\n      <td>108</td>\n      <td>131</td>\n      <td>364.2</td>\n    </tr>\n    <tr>\n      <th>22</th>\n      <td>45</td>\n      <td>NaN</td>\n      <td>100</td>\n      <td>119</td>\n      <td>282.0</td>\n    </tr>\n    <tr>\n      <th>23</th>\n      <td>60</td>\n      <td>'2020/12/23'</td>\n      <td>130</td>\n      <td>101</td>\n      <td>300.0</td>\n    </tr>\n    <tr>\n      <th>24</th>\n      <td>45</td>\n      <td>'2020/12/24'</td>\n      <td>105</td>\n      <td>132</td>\n      <td>246.0</td>\n    </tr>\n    <tr>\n      <th>25</th>\n      <td>60</td>\n      <td>'2020/12/25'</td>\n      <td>102</td>\n      <td>126</td>\n      <td>334.5</td>\n    </tr>\n    <tr>\n      <th>26</th>\n      <td>60</td>\n      <td>20201226</td>\n      <td>100</td>\n      <td>120</td>\n      <td>250.0</td>\n    </tr>\n    <tr>\n      <th>27</th>\n      <td>60</td>\n      <td>'2020/12/27'</td>\n      <td>92</td>\n      <td>118</td>\n      <td>241.0</td>\n    </tr>\n    <tr>\n      <th>28</th>\n      <td>60</td>\n      <td>'2020/12/28'</td>\n      <td>103</td>\n      <td>132</td>\n      <td>NaN</td>\n    </tr>\n    <tr>\n      <th>29</th>\n      <td>60</td>\n      <td>'2020/12/29'</td>\n      <td>100</td>\n      <td>132</td>\n      <td>280.0</td>\n    </tr>\n    <tr>\n      <th>30</th>\n      <td>60</td>\n      <td>'2020/12/30'</td>\n      <td>102</td>\n      <td>129</td>\n      <td>380.3</td>\n    </tr>\n    <tr>\n      <th>31</th>\n      <td>60</td>\n      <td>'2020/12/31'</td>\n      <td>92</td>\n      <td>115</td>\n      <td>243.0</td>\n    </tr>\n  </tbody>\n</table>\n</div>"
          },
          "metadata": {}
        }
      ],
      "execution_count": 199
    },
    {
      "cell_type": "code",
      "source": "print(df.dropna())",
      "metadata": {
        "trusted": true
      },
      "outputs": [
        {
          "name": "stdout",
          "text": "    Duration          Date  Pulse  Maxpulse  Calories\n0         60  '2020/12/01'    110       130     409.1\n1         60  '2020/12/02'    117       145     479.0\n2         60  '2020/12/03'    103       135     340.0\n3         45  '2020/12/04'    109       175     282.4\n4         45  '2020/12/05'    117       148     406.0\n5         60  '2020/12/06'    102       127     300.0\n6         60  '2020/12/07'    110       136     374.0\n7        450  '2020/12/08'    104       134     253.3\n8         30  '2020/12/09'    109       133     195.1\n9         60  '2020/12/10'     98       124     269.0\n10        60  '2020/12/11'    103       147     329.3\n11        60  '2020/12/12'    100       120     250.7\n12        60  '2020/12/12'    100       120     250.7\n13        60  '2020/12/13'    106       128     345.3\n14        60  '2020/12/14'    104       132     379.3\n15        60  '2020/12/15'     98       123     275.0\n16        60  '2020/12/16'     98       120     215.2\n17        60  '2020/12/17'    100       120     300.0\n19        60  '2020/12/19'    103       123     323.0\n20        45  '2020/12/20'     97       125     243.0\n21        60  '2020/12/21'    108       131     364.2\n23        60  '2020/12/23'    130       101     300.0\n24        45  '2020/12/24'    105       132     246.0\n25        60  '2020/12/25'    102       126     334.5\n26        60      20201226    100       120     250.0\n27        60  '2020/12/27'     92       118     241.0\n29        60  '2020/12/29'    100       132     280.0\n30        60  '2020/12/30'    102       129     380.3\n31        60  '2020/12/31'     92       115     243.0\n",
          "output_type": "stream"
        }
      ],
      "execution_count": 200
    },
    {
      "cell_type": "code",
      "source": "df = pd.read_csv('dirtydata.csv')\ndf.fillna(130, inplace = True)\ndf",
      "metadata": {
        "trusted": true
      },
      "outputs": [
        {
          "execution_count": 201,
          "output_type": "execute_result",
          "data": {
            "text/plain": "    Duration          Date  Pulse  Maxpulse  Calories\n0         60  '2020/12/01'    110       130     409.1\n1         60  '2020/12/02'    117       145     479.0\n2         60  '2020/12/03'    103       135     340.0\n3         45  '2020/12/04'    109       175     282.4\n4         45  '2020/12/05'    117       148     406.0\n5         60  '2020/12/06'    102       127     300.0\n6         60  '2020/12/07'    110       136     374.0\n7        450  '2020/12/08'    104       134     253.3\n8         30  '2020/12/09'    109       133     195.1\n9         60  '2020/12/10'     98       124     269.0\n10        60  '2020/12/11'    103       147     329.3\n11        60  '2020/12/12'    100       120     250.7\n12        60  '2020/12/12'    100       120     250.7\n13        60  '2020/12/13'    106       128     345.3\n14        60  '2020/12/14'    104       132     379.3\n15        60  '2020/12/15'     98       123     275.0\n16        60  '2020/12/16'     98       120     215.2\n17        60  '2020/12/17'    100       120     300.0\n18        45  '2020/12/18'     90       112     130.0\n19        60  '2020/12/19'    103       123     323.0\n20        45  '2020/12/20'     97       125     243.0\n21        60  '2020/12/21'    108       131     364.2\n22        45           130    100       119     282.0\n23        60  '2020/12/23'    130       101     300.0\n24        45  '2020/12/24'    105       132     246.0\n25        60  '2020/12/25'    102       126     334.5\n26        60      20201226    100       120     250.0\n27        60  '2020/12/27'     92       118     241.0\n28        60  '2020/12/28'    103       132     130.0\n29        60  '2020/12/29'    100       132     280.0\n30        60  '2020/12/30'    102       129     380.3\n31        60  '2020/12/31'     92       115     243.0",
            "text/html": "<div>\n<style scoped>\n    .dataframe tbody tr th:only-of-type {\n        vertical-align: middle;\n    }\n\n    .dataframe tbody tr th {\n        vertical-align: top;\n    }\n\n    .dataframe thead th {\n        text-align: right;\n    }\n</style>\n<table border=\"1\" class=\"dataframe\">\n  <thead>\n    <tr style=\"text-align: right;\">\n      <th></th>\n      <th>Duration</th>\n      <th>Date</th>\n      <th>Pulse</th>\n      <th>Maxpulse</th>\n      <th>Calories</th>\n    </tr>\n  </thead>\n  <tbody>\n    <tr>\n      <th>0</th>\n      <td>60</td>\n      <td>'2020/12/01'</td>\n      <td>110</td>\n      <td>130</td>\n      <td>409.1</td>\n    </tr>\n    <tr>\n      <th>1</th>\n      <td>60</td>\n      <td>'2020/12/02'</td>\n      <td>117</td>\n      <td>145</td>\n      <td>479.0</td>\n    </tr>\n    <tr>\n      <th>2</th>\n      <td>60</td>\n      <td>'2020/12/03'</td>\n      <td>103</td>\n      <td>135</td>\n      <td>340.0</td>\n    </tr>\n    <tr>\n      <th>3</th>\n      <td>45</td>\n      <td>'2020/12/04'</td>\n      <td>109</td>\n      <td>175</td>\n      <td>282.4</td>\n    </tr>\n    <tr>\n      <th>4</th>\n      <td>45</td>\n      <td>'2020/12/05'</td>\n      <td>117</td>\n      <td>148</td>\n      <td>406.0</td>\n    </tr>\n    <tr>\n      <th>5</th>\n      <td>60</td>\n      <td>'2020/12/06'</td>\n      <td>102</td>\n      <td>127</td>\n      <td>300.0</td>\n    </tr>\n    <tr>\n      <th>6</th>\n      <td>60</td>\n      <td>'2020/12/07'</td>\n      <td>110</td>\n      <td>136</td>\n      <td>374.0</td>\n    </tr>\n    <tr>\n      <th>7</th>\n      <td>450</td>\n      <td>'2020/12/08'</td>\n      <td>104</td>\n      <td>134</td>\n      <td>253.3</td>\n    </tr>\n    <tr>\n      <th>8</th>\n      <td>30</td>\n      <td>'2020/12/09'</td>\n      <td>109</td>\n      <td>133</td>\n      <td>195.1</td>\n    </tr>\n    <tr>\n      <th>9</th>\n      <td>60</td>\n      <td>'2020/12/10'</td>\n      <td>98</td>\n      <td>124</td>\n      <td>269.0</td>\n    </tr>\n    <tr>\n      <th>10</th>\n      <td>60</td>\n      <td>'2020/12/11'</td>\n      <td>103</td>\n      <td>147</td>\n      <td>329.3</td>\n    </tr>\n    <tr>\n      <th>11</th>\n      <td>60</td>\n      <td>'2020/12/12'</td>\n      <td>100</td>\n      <td>120</td>\n      <td>250.7</td>\n    </tr>\n    <tr>\n      <th>12</th>\n      <td>60</td>\n      <td>'2020/12/12'</td>\n      <td>100</td>\n      <td>120</td>\n      <td>250.7</td>\n    </tr>\n    <tr>\n      <th>13</th>\n      <td>60</td>\n      <td>'2020/12/13'</td>\n      <td>106</td>\n      <td>128</td>\n      <td>345.3</td>\n    </tr>\n    <tr>\n      <th>14</th>\n      <td>60</td>\n      <td>'2020/12/14'</td>\n      <td>104</td>\n      <td>132</td>\n      <td>379.3</td>\n    </tr>\n    <tr>\n      <th>15</th>\n      <td>60</td>\n      <td>'2020/12/15'</td>\n      <td>98</td>\n      <td>123</td>\n      <td>275.0</td>\n    </tr>\n    <tr>\n      <th>16</th>\n      <td>60</td>\n      <td>'2020/12/16'</td>\n      <td>98</td>\n      <td>120</td>\n      <td>215.2</td>\n    </tr>\n    <tr>\n      <th>17</th>\n      <td>60</td>\n      <td>'2020/12/17'</td>\n      <td>100</td>\n      <td>120</td>\n      <td>300.0</td>\n    </tr>\n    <tr>\n      <th>18</th>\n      <td>45</td>\n      <td>'2020/12/18'</td>\n      <td>90</td>\n      <td>112</td>\n      <td>130.0</td>\n    </tr>\n    <tr>\n      <th>19</th>\n      <td>60</td>\n      <td>'2020/12/19'</td>\n      <td>103</td>\n      <td>123</td>\n      <td>323.0</td>\n    </tr>\n    <tr>\n      <th>20</th>\n      <td>45</td>\n      <td>'2020/12/20'</td>\n      <td>97</td>\n      <td>125</td>\n      <td>243.0</td>\n    </tr>\n    <tr>\n      <th>21</th>\n      <td>60</td>\n      <td>'2020/12/21'</td>\n      <td>108</td>\n      <td>131</td>\n      <td>364.2</td>\n    </tr>\n    <tr>\n      <th>22</th>\n      <td>45</td>\n      <td>130</td>\n      <td>100</td>\n      <td>119</td>\n      <td>282.0</td>\n    </tr>\n    <tr>\n      <th>23</th>\n      <td>60</td>\n      <td>'2020/12/23'</td>\n      <td>130</td>\n      <td>101</td>\n      <td>300.0</td>\n    </tr>\n    <tr>\n      <th>24</th>\n      <td>45</td>\n      <td>'2020/12/24'</td>\n      <td>105</td>\n      <td>132</td>\n      <td>246.0</td>\n    </tr>\n    <tr>\n      <th>25</th>\n      <td>60</td>\n      <td>'2020/12/25'</td>\n      <td>102</td>\n      <td>126</td>\n      <td>334.5</td>\n    </tr>\n    <tr>\n      <th>26</th>\n      <td>60</td>\n      <td>20201226</td>\n      <td>100</td>\n      <td>120</td>\n      <td>250.0</td>\n    </tr>\n    <tr>\n      <th>27</th>\n      <td>60</td>\n      <td>'2020/12/27'</td>\n      <td>92</td>\n      <td>118</td>\n      <td>241.0</td>\n    </tr>\n    <tr>\n      <th>28</th>\n      <td>60</td>\n      <td>'2020/12/28'</td>\n      <td>103</td>\n      <td>132</td>\n      <td>130.0</td>\n    </tr>\n    <tr>\n      <th>29</th>\n      <td>60</td>\n      <td>'2020/12/29'</td>\n      <td>100</td>\n      <td>132</td>\n      <td>280.0</td>\n    </tr>\n    <tr>\n      <th>30</th>\n      <td>60</td>\n      <td>'2020/12/30'</td>\n      <td>102</td>\n      <td>129</td>\n      <td>380.3</td>\n    </tr>\n    <tr>\n      <th>31</th>\n      <td>60</td>\n      <td>'2020/12/31'</td>\n      <td>92</td>\n      <td>115</td>\n      <td>243.0</td>\n    </tr>\n  </tbody>\n</table>\n</div>"
          },
          "metadata": {}
        }
      ],
      "execution_count": 201
    },
    {
      "cell_type": "code",
      "source": "df = pd.read_csv('dirtydata.csv')\ndf[\"Calories\"].fillna(130, inplace = True)",
      "metadata": {
        "trusted": true
      },
      "outputs": [],
      "execution_count": 202
    },
    {
      "cell_type": "code",
      "source": "df",
      "metadata": {
        "trusted": true
      },
      "outputs": [
        {
          "execution_count": 203,
          "output_type": "execute_result",
          "data": {
            "text/plain": "    Duration          Date  Pulse  Maxpulse  Calories\n0         60  '2020/12/01'    110       130     409.1\n1         60  '2020/12/02'    117       145     479.0\n2         60  '2020/12/03'    103       135     340.0\n3         45  '2020/12/04'    109       175     282.4\n4         45  '2020/12/05'    117       148     406.0\n5         60  '2020/12/06'    102       127     300.0\n6         60  '2020/12/07'    110       136     374.0\n7        450  '2020/12/08'    104       134     253.3\n8         30  '2020/12/09'    109       133     195.1\n9         60  '2020/12/10'     98       124     269.0\n10        60  '2020/12/11'    103       147     329.3\n11        60  '2020/12/12'    100       120     250.7\n12        60  '2020/12/12'    100       120     250.7\n13        60  '2020/12/13'    106       128     345.3\n14        60  '2020/12/14'    104       132     379.3\n15        60  '2020/12/15'     98       123     275.0\n16        60  '2020/12/16'     98       120     215.2\n17        60  '2020/12/17'    100       120     300.0\n18        45  '2020/12/18'     90       112     130.0\n19        60  '2020/12/19'    103       123     323.0\n20        45  '2020/12/20'     97       125     243.0\n21        60  '2020/12/21'    108       131     364.2\n22        45           NaN    100       119     282.0\n23        60  '2020/12/23'    130       101     300.0\n24        45  '2020/12/24'    105       132     246.0\n25        60  '2020/12/25'    102       126     334.5\n26        60      20201226    100       120     250.0\n27        60  '2020/12/27'     92       118     241.0\n28        60  '2020/12/28'    103       132     130.0\n29        60  '2020/12/29'    100       132     280.0\n30        60  '2020/12/30'    102       129     380.3\n31        60  '2020/12/31'     92       115     243.0",
            "text/html": "<div>\n<style scoped>\n    .dataframe tbody tr th:only-of-type {\n        vertical-align: middle;\n    }\n\n    .dataframe tbody tr th {\n        vertical-align: top;\n    }\n\n    .dataframe thead th {\n        text-align: right;\n    }\n</style>\n<table border=\"1\" class=\"dataframe\">\n  <thead>\n    <tr style=\"text-align: right;\">\n      <th></th>\n      <th>Duration</th>\n      <th>Date</th>\n      <th>Pulse</th>\n      <th>Maxpulse</th>\n      <th>Calories</th>\n    </tr>\n  </thead>\n  <tbody>\n    <tr>\n      <th>0</th>\n      <td>60</td>\n      <td>'2020/12/01'</td>\n      <td>110</td>\n      <td>130</td>\n      <td>409.1</td>\n    </tr>\n    <tr>\n      <th>1</th>\n      <td>60</td>\n      <td>'2020/12/02'</td>\n      <td>117</td>\n      <td>145</td>\n      <td>479.0</td>\n    </tr>\n    <tr>\n      <th>2</th>\n      <td>60</td>\n      <td>'2020/12/03'</td>\n      <td>103</td>\n      <td>135</td>\n      <td>340.0</td>\n    </tr>\n    <tr>\n      <th>3</th>\n      <td>45</td>\n      <td>'2020/12/04'</td>\n      <td>109</td>\n      <td>175</td>\n      <td>282.4</td>\n    </tr>\n    <tr>\n      <th>4</th>\n      <td>45</td>\n      <td>'2020/12/05'</td>\n      <td>117</td>\n      <td>148</td>\n      <td>406.0</td>\n    </tr>\n    <tr>\n      <th>5</th>\n      <td>60</td>\n      <td>'2020/12/06'</td>\n      <td>102</td>\n      <td>127</td>\n      <td>300.0</td>\n    </tr>\n    <tr>\n      <th>6</th>\n      <td>60</td>\n      <td>'2020/12/07'</td>\n      <td>110</td>\n      <td>136</td>\n      <td>374.0</td>\n    </tr>\n    <tr>\n      <th>7</th>\n      <td>450</td>\n      <td>'2020/12/08'</td>\n      <td>104</td>\n      <td>134</td>\n      <td>253.3</td>\n    </tr>\n    <tr>\n      <th>8</th>\n      <td>30</td>\n      <td>'2020/12/09'</td>\n      <td>109</td>\n      <td>133</td>\n      <td>195.1</td>\n    </tr>\n    <tr>\n      <th>9</th>\n      <td>60</td>\n      <td>'2020/12/10'</td>\n      <td>98</td>\n      <td>124</td>\n      <td>269.0</td>\n    </tr>\n    <tr>\n      <th>10</th>\n      <td>60</td>\n      <td>'2020/12/11'</td>\n      <td>103</td>\n      <td>147</td>\n      <td>329.3</td>\n    </tr>\n    <tr>\n      <th>11</th>\n      <td>60</td>\n      <td>'2020/12/12'</td>\n      <td>100</td>\n      <td>120</td>\n      <td>250.7</td>\n    </tr>\n    <tr>\n      <th>12</th>\n      <td>60</td>\n      <td>'2020/12/12'</td>\n      <td>100</td>\n      <td>120</td>\n      <td>250.7</td>\n    </tr>\n    <tr>\n      <th>13</th>\n      <td>60</td>\n      <td>'2020/12/13'</td>\n      <td>106</td>\n      <td>128</td>\n      <td>345.3</td>\n    </tr>\n    <tr>\n      <th>14</th>\n      <td>60</td>\n      <td>'2020/12/14'</td>\n      <td>104</td>\n      <td>132</td>\n      <td>379.3</td>\n    </tr>\n    <tr>\n      <th>15</th>\n      <td>60</td>\n      <td>'2020/12/15'</td>\n      <td>98</td>\n      <td>123</td>\n      <td>275.0</td>\n    </tr>\n    <tr>\n      <th>16</th>\n      <td>60</td>\n      <td>'2020/12/16'</td>\n      <td>98</td>\n      <td>120</td>\n      <td>215.2</td>\n    </tr>\n    <tr>\n      <th>17</th>\n      <td>60</td>\n      <td>'2020/12/17'</td>\n      <td>100</td>\n      <td>120</td>\n      <td>300.0</td>\n    </tr>\n    <tr>\n      <th>18</th>\n      <td>45</td>\n      <td>'2020/12/18'</td>\n      <td>90</td>\n      <td>112</td>\n      <td>130.0</td>\n    </tr>\n    <tr>\n      <th>19</th>\n      <td>60</td>\n      <td>'2020/12/19'</td>\n      <td>103</td>\n      <td>123</td>\n      <td>323.0</td>\n    </tr>\n    <tr>\n      <th>20</th>\n      <td>45</td>\n      <td>'2020/12/20'</td>\n      <td>97</td>\n      <td>125</td>\n      <td>243.0</td>\n    </tr>\n    <tr>\n      <th>21</th>\n      <td>60</td>\n      <td>'2020/12/21'</td>\n      <td>108</td>\n      <td>131</td>\n      <td>364.2</td>\n    </tr>\n    <tr>\n      <th>22</th>\n      <td>45</td>\n      <td>NaN</td>\n      <td>100</td>\n      <td>119</td>\n      <td>282.0</td>\n    </tr>\n    <tr>\n      <th>23</th>\n      <td>60</td>\n      <td>'2020/12/23'</td>\n      <td>130</td>\n      <td>101</td>\n      <td>300.0</td>\n    </tr>\n    <tr>\n      <th>24</th>\n      <td>45</td>\n      <td>'2020/12/24'</td>\n      <td>105</td>\n      <td>132</td>\n      <td>246.0</td>\n    </tr>\n    <tr>\n      <th>25</th>\n      <td>60</td>\n      <td>'2020/12/25'</td>\n      <td>102</td>\n      <td>126</td>\n      <td>334.5</td>\n    </tr>\n    <tr>\n      <th>26</th>\n      <td>60</td>\n      <td>20201226</td>\n      <td>100</td>\n      <td>120</td>\n      <td>250.0</td>\n    </tr>\n    <tr>\n      <th>27</th>\n      <td>60</td>\n      <td>'2020/12/27'</td>\n      <td>92</td>\n      <td>118</td>\n      <td>241.0</td>\n    </tr>\n    <tr>\n      <th>28</th>\n      <td>60</td>\n      <td>'2020/12/28'</td>\n      <td>103</td>\n      <td>132</td>\n      <td>130.0</td>\n    </tr>\n    <tr>\n      <th>29</th>\n      <td>60</td>\n      <td>'2020/12/29'</td>\n      <td>100</td>\n      <td>132</td>\n      <td>280.0</td>\n    </tr>\n    <tr>\n      <th>30</th>\n      <td>60</td>\n      <td>'2020/12/30'</td>\n      <td>102</td>\n      <td>129</td>\n      <td>380.3</td>\n    </tr>\n    <tr>\n      <th>31</th>\n      <td>60</td>\n      <td>'2020/12/31'</td>\n      <td>92</td>\n      <td>115</td>\n      <td>243.0</td>\n    </tr>\n  </tbody>\n</table>\n</div>"
          },
          "metadata": {}
        }
      ],
      "execution_count": 203
    },
    {
      "cell_type": "code",
      "source": "df = pd.read_csv('dirtydata.csv')\n\nx = df[\"Calories\"].mean()\n\ndf[\"Calories\"].fillna(x, inplace = True)",
      "metadata": {
        "trusted": true
      },
      "outputs": [],
      "execution_count": 204
    },
    {
      "cell_type": "code",
      "source": "df",
      "metadata": {
        "trusted": true
      },
      "outputs": [
        {
          "execution_count": 205,
          "output_type": "execute_result",
          "data": {
            "text/plain": "    Duration          Date  Pulse  Maxpulse  Calories\n0         60  '2020/12/01'    110       130    409.10\n1         60  '2020/12/02'    117       145    479.00\n2         60  '2020/12/03'    103       135    340.00\n3         45  '2020/12/04'    109       175    282.40\n4         45  '2020/12/05'    117       148    406.00\n5         60  '2020/12/06'    102       127    300.00\n6         60  '2020/12/07'    110       136    374.00\n7        450  '2020/12/08'    104       134    253.30\n8         30  '2020/12/09'    109       133    195.10\n9         60  '2020/12/10'     98       124    269.00\n10        60  '2020/12/11'    103       147    329.30\n11        60  '2020/12/12'    100       120    250.70\n12        60  '2020/12/12'    100       120    250.70\n13        60  '2020/12/13'    106       128    345.30\n14        60  '2020/12/14'    104       132    379.30\n15        60  '2020/12/15'     98       123    275.00\n16        60  '2020/12/16'     98       120    215.20\n17        60  '2020/12/17'    100       120    300.00\n18        45  '2020/12/18'     90       112    304.68\n19        60  '2020/12/19'    103       123    323.00\n20        45  '2020/12/20'     97       125    243.00\n21        60  '2020/12/21'    108       131    364.20\n22        45           NaN    100       119    282.00\n23        60  '2020/12/23'    130       101    300.00\n24        45  '2020/12/24'    105       132    246.00\n25        60  '2020/12/25'    102       126    334.50\n26        60      20201226    100       120    250.00\n27        60  '2020/12/27'     92       118    241.00\n28        60  '2020/12/28'    103       132    304.68\n29        60  '2020/12/29'    100       132    280.00\n30        60  '2020/12/30'    102       129    380.30\n31        60  '2020/12/31'     92       115    243.00",
            "text/html": "<div>\n<style scoped>\n    .dataframe tbody tr th:only-of-type {\n        vertical-align: middle;\n    }\n\n    .dataframe tbody tr th {\n        vertical-align: top;\n    }\n\n    .dataframe thead th {\n        text-align: right;\n    }\n</style>\n<table border=\"1\" class=\"dataframe\">\n  <thead>\n    <tr style=\"text-align: right;\">\n      <th></th>\n      <th>Duration</th>\n      <th>Date</th>\n      <th>Pulse</th>\n      <th>Maxpulse</th>\n      <th>Calories</th>\n    </tr>\n  </thead>\n  <tbody>\n    <tr>\n      <th>0</th>\n      <td>60</td>\n      <td>'2020/12/01'</td>\n      <td>110</td>\n      <td>130</td>\n      <td>409.10</td>\n    </tr>\n    <tr>\n      <th>1</th>\n      <td>60</td>\n      <td>'2020/12/02'</td>\n      <td>117</td>\n      <td>145</td>\n      <td>479.00</td>\n    </tr>\n    <tr>\n      <th>2</th>\n      <td>60</td>\n      <td>'2020/12/03'</td>\n      <td>103</td>\n      <td>135</td>\n      <td>340.00</td>\n    </tr>\n    <tr>\n      <th>3</th>\n      <td>45</td>\n      <td>'2020/12/04'</td>\n      <td>109</td>\n      <td>175</td>\n      <td>282.40</td>\n    </tr>\n    <tr>\n      <th>4</th>\n      <td>45</td>\n      <td>'2020/12/05'</td>\n      <td>117</td>\n      <td>148</td>\n      <td>406.00</td>\n    </tr>\n    <tr>\n      <th>5</th>\n      <td>60</td>\n      <td>'2020/12/06'</td>\n      <td>102</td>\n      <td>127</td>\n      <td>300.00</td>\n    </tr>\n    <tr>\n      <th>6</th>\n      <td>60</td>\n      <td>'2020/12/07'</td>\n      <td>110</td>\n      <td>136</td>\n      <td>374.00</td>\n    </tr>\n    <tr>\n      <th>7</th>\n      <td>450</td>\n      <td>'2020/12/08'</td>\n      <td>104</td>\n      <td>134</td>\n      <td>253.30</td>\n    </tr>\n    <tr>\n      <th>8</th>\n      <td>30</td>\n      <td>'2020/12/09'</td>\n      <td>109</td>\n      <td>133</td>\n      <td>195.10</td>\n    </tr>\n    <tr>\n      <th>9</th>\n      <td>60</td>\n      <td>'2020/12/10'</td>\n      <td>98</td>\n      <td>124</td>\n      <td>269.00</td>\n    </tr>\n    <tr>\n      <th>10</th>\n      <td>60</td>\n      <td>'2020/12/11'</td>\n      <td>103</td>\n      <td>147</td>\n      <td>329.30</td>\n    </tr>\n    <tr>\n      <th>11</th>\n      <td>60</td>\n      <td>'2020/12/12'</td>\n      <td>100</td>\n      <td>120</td>\n      <td>250.70</td>\n    </tr>\n    <tr>\n      <th>12</th>\n      <td>60</td>\n      <td>'2020/12/12'</td>\n      <td>100</td>\n      <td>120</td>\n      <td>250.70</td>\n    </tr>\n    <tr>\n      <th>13</th>\n      <td>60</td>\n      <td>'2020/12/13'</td>\n      <td>106</td>\n      <td>128</td>\n      <td>345.30</td>\n    </tr>\n    <tr>\n      <th>14</th>\n      <td>60</td>\n      <td>'2020/12/14'</td>\n      <td>104</td>\n      <td>132</td>\n      <td>379.30</td>\n    </tr>\n    <tr>\n      <th>15</th>\n      <td>60</td>\n      <td>'2020/12/15'</td>\n      <td>98</td>\n      <td>123</td>\n      <td>275.00</td>\n    </tr>\n    <tr>\n      <th>16</th>\n      <td>60</td>\n      <td>'2020/12/16'</td>\n      <td>98</td>\n      <td>120</td>\n      <td>215.20</td>\n    </tr>\n    <tr>\n      <th>17</th>\n      <td>60</td>\n      <td>'2020/12/17'</td>\n      <td>100</td>\n      <td>120</td>\n      <td>300.00</td>\n    </tr>\n    <tr>\n      <th>18</th>\n      <td>45</td>\n      <td>'2020/12/18'</td>\n      <td>90</td>\n      <td>112</td>\n      <td>304.68</td>\n    </tr>\n    <tr>\n      <th>19</th>\n      <td>60</td>\n      <td>'2020/12/19'</td>\n      <td>103</td>\n      <td>123</td>\n      <td>323.00</td>\n    </tr>\n    <tr>\n      <th>20</th>\n      <td>45</td>\n      <td>'2020/12/20'</td>\n      <td>97</td>\n      <td>125</td>\n      <td>243.00</td>\n    </tr>\n    <tr>\n      <th>21</th>\n      <td>60</td>\n      <td>'2020/12/21'</td>\n      <td>108</td>\n      <td>131</td>\n      <td>364.20</td>\n    </tr>\n    <tr>\n      <th>22</th>\n      <td>45</td>\n      <td>NaN</td>\n      <td>100</td>\n      <td>119</td>\n      <td>282.00</td>\n    </tr>\n    <tr>\n      <th>23</th>\n      <td>60</td>\n      <td>'2020/12/23'</td>\n      <td>130</td>\n      <td>101</td>\n      <td>300.00</td>\n    </tr>\n    <tr>\n      <th>24</th>\n      <td>45</td>\n      <td>'2020/12/24'</td>\n      <td>105</td>\n      <td>132</td>\n      <td>246.00</td>\n    </tr>\n    <tr>\n      <th>25</th>\n      <td>60</td>\n      <td>'2020/12/25'</td>\n      <td>102</td>\n      <td>126</td>\n      <td>334.50</td>\n    </tr>\n    <tr>\n      <th>26</th>\n      <td>60</td>\n      <td>20201226</td>\n      <td>100</td>\n      <td>120</td>\n      <td>250.00</td>\n    </tr>\n    <tr>\n      <th>27</th>\n      <td>60</td>\n      <td>'2020/12/27'</td>\n      <td>92</td>\n      <td>118</td>\n      <td>241.00</td>\n    </tr>\n    <tr>\n      <th>28</th>\n      <td>60</td>\n      <td>'2020/12/28'</td>\n      <td>103</td>\n      <td>132</td>\n      <td>304.68</td>\n    </tr>\n    <tr>\n      <th>29</th>\n      <td>60</td>\n      <td>'2020/12/29'</td>\n      <td>100</td>\n      <td>132</td>\n      <td>280.00</td>\n    </tr>\n    <tr>\n      <th>30</th>\n      <td>60</td>\n      <td>'2020/12/30'</td>\n      <td>102</td>\n      <td>129</td>\n      <td>380.30</td>\n    </tr>\n    <tr>\n      <th>31</th>\n      <td>60</td>\n      <td>'2020/12/31'</td>\n      <td>92</td>\n      <td>115</td>\n      <td>243.00</td>\n    </tr>\n  </tbody>\n</table>\n</div>"
          },
          "metadata": {}
        }
      ],
      "execution_count": 205
    },
    {
      "cell_type": "code",
      "source": "df = pd.read_csv('dirtydata.csv')\n\nx = df[\"Calories\"].median()\n\ndf[\"Calories\"].fillna(x, inplace = True)\n\ndf",
      "metadata": {
        "trusted": true
      },
      "outputs": [
        {
          "execution_count": 206,
          "output_type": "execute_result",
          "data": {
            "text/plain": "    Duration          Date  Pulse  Maxpulse  Calories\n0         60  '2020/12/01'    110       130     409.1\n1         60  '2020/12/02'    117       145     479.0\n2         60  '2020/12/03'    103       135     340.0\n3         45  '2020/12/04'    109       175     282.4\n4         45  '2020/12/05'    117       148     406.0\n5         60  '2020/12/06'    102       127     300.0\n6         60  '2020/12/07'    110       136     374.0\n7        450  '2020/12/08'    104       134     253.3\n8         30  '2020/12/09'    109       133     195.1\n9         60  '2020/12/10'     98       124     269.0\n10        60  '2020/12/11'    103       147     329.3\n11        60  '2020/12/12'    100       120     250.7\n12        60  '2020/12/12'    100       120     250.7\n13        60  '2020/12/13'    106       128     345.3\n14        60  '2020/12/14'    104       132     379.3\n15        60  '2020/12/15'     98       123     275.0\n16        60  '2020/12/16'     98       120     215.2\n17        60  '2020/12/17'    100       120     300.0\n18        45  '2020/12/18'     90       112     291.2\n19        60  '2020/12/19'    103       123     323.0\n20        45  '2020/12/20'     97       125     243.0\n21        60  '2020/12/21'    108       131     364.2\n22        45           NaN    100       119     282.0\n23        60  '2020/12/23'    130       101     300.0\n24        45  '2020/12/24'    105       132     246.0\n25        60  '2020/12/25'    102       126     334.5\n26        60      20201226    100       120     250.0\n27        60  '2020/12/27'     92       118     241.0\n28        60  '2020/12/28'    103       132     291.2\n29        60  '2020/12/29'    100       132     280.0\n30        60  '2020/12/30'    102       129     380.3\n31        60  '2020/12/31'     92       115     243.0",
            "text/html": "<div>\n<style scoped>\n    .dataframe tbody tr th:only-of-type {\n        vertical-align: middle;\n    }\n\n    .dataframe tbody tr th {\n        vertical-align: top;\n    }\n\n    .dataframe thead th {\n        text-align: right;\n    }\n</style>\n<table border=\"1\" class=\"dataframe\">\n  <thead>\n    <tr style=\"text-align: right;\">\n      <th></th>\n      <th>Duration</th>\n      <th>Date</th>\n      <th>Pulse</th>\n      <th>Maxpulse</th>\n      <th>Calories</th>\n    </tr>\n  </thead>\n  <tbody>\n    <tr>\n      <th>0</th>\n      <td>60</td>\n      <td>'2020/12/01'</td>\n      <td>110</td>\n      <td>130</td>\n      <td>409.1</td>\n    </tr>\n    <tr>\n      <th>1</th>\n      <td>60</td>\n      <td>'2020/12/02'</td>\n      <td>117</td>\n      <td>145</td>\n      <td>479.0</td>\n    </tr>\n    <tr>\n      <th>2</th>\n      <td>60</td>\n      <td>'2020/12/03'</td>\n      <td>103</td>\n      <td>135</td>\n      <td>340.0</td>\n    </tr>\n    <tr>\n      <th>3</th>\n      <td>45</td>\n      <td>'2020/12/04'</td>\n      <td>109</td>\n      <td>175</td>\n      <td>282.4</td>\n    </tr>\n    <tr>\n      <th>4</th>\n      <td>45</td>\n      <td>'2020/12/05'</td>\n      <td>117</td>\n      <td>148</td>\n      <td>406.0</td>\n    </tr>\n    <tr>\n      <th>5</th>\n      <td>60</td>\n      <td>'2020/12/06'</td>\n      <td>102</td>\n      <td>127</td>\n      <td>300.0</td>\n    </tr>\n    <tr>\n      <th>6</th>\n      <td>60</td>\n      <td>'2020/12/07'</td>\n      <td>110</td>\n      <td>136</td>\n      <td>374.0</td>\n    </tr>\n    <tr>\n      <th>7</th>\n      <td>450</td>\n      <td>'2020/12/08'</td>\n      <td>104</td>\n      <td>134</td>\n      <td>253.3</td>\n    </tr>\n    <tr>\n      <th>8</th>\n      <td>30</td>\n      <td>'2020/12/09'</td>\n      <td>109</td>\n      <td>133</td>\n      <td>195.1</td>\n    </tr>\n    <tr>\n      <th>9</th>\n      <td>60</td>\n      <td>'2020/12/10'</td>\n      <td>98</td>\n      <td>124</td>\n      <td>269.0</td>\n    </tr>\n    <tr>\n      <th>10</th>\n      <td>60</td>\n      <td>'2020/12/11'</td>\n      <td>103</td>\n      <td>147</td>\n      <td>329.3</td>\n    </tr>\n    <tr>\n      <th>11</th>\n      <td>60</td>\n      <td>'2020/12/12'</td>\n      <td>100</td>\n      <td>120</td>\n      <td>250.7</td>\n    </tr>\n    <tr>\n      <th>12</th>\n      <td>60</td>\n      <td>'2020/12/12'</td>\n      <td>100</td>\n      <td>120</td>\n      <td>250.7</td>\n    </tr>\n    <tr>\n      <th>13</th>\n      <td>60</td>\n      <td>'2020/12/13'</td>\n      <td>106</td>\n      <td>128</td>\n      <td>345.3</td>\n    </tr>\n    <tr>\n      <th>14</th>\n      <td>60</td>\n      <td>'2020/12/14'</td>\n      <td>104</td>\n      <td>132</td>\n      <td>379.3</td>\n    </tr>\n    <tr>\n      <th>15</th>\n      <td>60</td>\n      <td>'2020/12/15'</td>\n      <td>98</td>\n      <td>123</td>\n      <td>275.0</td>\n    </tr>\n    <tr>\n      <th>16</th>\n      <td>60</td>\n      <td>'2020/12/16'</td>\n      <td>98</td>\n      <td>120</td>\n      <td>215.2</td>\n    </tr>\n    <tr>\n      <th>17</th>\n      <td>60</td>\n      <td>'2020/12/17'</td>\n      <td>100</td>\n      <td>120</td>\n      <td>300.0</td>\n    </tr>\n    <tr>\n      <th>18</th>\n      <td>45</td>\n      <td>'2020/12/18'</td>\n      <td>90</td>\n      <td>112</td>\n      <td>291.2</td>\n    </tr>\n    <tr>\n      <th>19</th>\n      <td>60</td>\n      <td>'2020/12/19'</td>\n      <td>103</td>\n      <td>123</td>\n      <td>323.0</td>\n    </tr>\n    <tr>\n      <th>20</th>\n      <td>45</td>\n      <td>'2020/12/20'</td>\n      <td>97</td>\n      <td>125</td>\n      <td>243.0</td>\n    </tr>\n    <tr>\n      <th>21</th>\n      <td>60</td>\n      <td>'2020/12/21'</td>\n      <td>108</td>\n      <td>131</td>\n      <td>364.2</td>\n    </tr>\n    <tr>\n      <th>22</th>\n      <td>45</td>\n      <td>NaN</td>\n      <td>100</td>\n      <td>119</td>\n      <td>282.0</td>\n    </tr>\n    <tr>\n      <th>23</th>\n      <td>60</td>\n      <td>'2020/12/23'</td>\n      <td>130</td>\n      <td>101</td>\n      <td>300.0</td>\n    </tr>\n    <tr>\n      <th>24</th>\n      <td>45</td>\n      <td>'2020/12/24'</td>\n      <td>105</td>\n      <td>132</td>\n      <td>246.0</td>\n    </tr>\n    <tr>\n      <th>25</th>\n      <td>60</td>\n      <td>'2020/12/25'</td>\n      <td>102</td>\n      <td>126</td>\n      <td>334.5</td>\n    </tr>\n    <tr>\n      <th>26</th>\n      <td>60</td>\n      <td>20201226</td>\n      <td>100</td>\n      <td>120</td>\n      <td>250.0</td>\n    </tr>\n    <tr>\n      <th>27</th>\n      <td>60</td>\n      <td>'2020/12/27'</td>\n      <td>92</td>\n      <td>118</td>\n      <td>241.0</td>\n    </tr>\n    <tr>\n      <th>28</th>\n      <td>60</td>\n      <td>'2020/12/28'</td>\n      <td>103</td>\n      <td>132</td>\n      <td>291.2</td>\n    </tr>\n    <tr>\n      <th>29</th>\n      <td>60</td>\n      <td>'2020/12/29'</td>\n      <td>100</td>\n      <td>132</td>\n      <td>280.0</td>\n    </tr>\n    <tr>\n      <th>30</th>\n      <td>60</td>\n      <td>'2020/12/30'</td>\n      <td>102</td>\n      <td>129</td>\n      <td>380.3</td>\n    </tr>\n    <tr>\n      <th>31</th>\n      <td>60</td>\n      <td>'2020/12/31'</td>\n      <td>92</td>\n      <td>115</td>\n      <td>243.0</td>\n    </tr>\n  </tbody>\n</table>\n</div>"
          },
          "metadata": {}
        }
      ],
      "execution_count": 206
    },
    {
      "cell_type": "code",
      "source": "df = pd.read_csv('dirtydata.csv')\n\nx = df[\"Calories\"].mode()[0]\n\ndf[\"Calories\"].fillna(x, inplace = True)",
      "metadata": {
        "trusted": true
      },
      "outputs": [],
      "execution_count": 207
    },
    {
      "cell_type": "code",
      "source": "df",
      "metadata": {
        "trusted": true
      },
      "outputs": [
        {
          "execution_count": 208,
          "output_type": "execute_result",
          "data": {
            "text/plain": "    Duration          Date  Pulse  Maxpulse  Calories\n0         60  '2020/12/01'    110       130     409.1\n1         60  '2020/12/02'    117       145     479.0\n2         60  '2020/12/03'    103       135     340.0\n3         45  '2020/12/04'    109       175     282.4\n4         45  '2020/12/05'    117       148     406.0\n5         60  '2020/12/06'    102       127     300.0\n6         60  '2020/12/07'    110       136     374.0\n7        450  '2020/12/08'    104       134     253.3\n8         30  '2020/12/09'    109       133     195.1\n9         60  '2020/12/10'     98       124     269.0\n10        60  '2020/12/11'    103       147     329.3\n11        60  '2020/12/12'    100       120     250.7\n12        60  '2020/12/12'    100       120     250.7\n13        60  '2020/12/13'    106       128     345.3\n14        60  '2020/12/14'    104       132     379.3\n15        60  '2020/12/15'     98       123     275.0\n16        60  '2020/12/16'     98       120     215.2\n17        60  '2020/12/17'    100       120     300.0\n18        45  '2020/12/18'     90       112     300.0\n19        60  '2020/12/19'    103       123     323.0\n20        45  '2020/12/20'     97       125     243.0\n21        60  '2020/12/21'    108       131     364.2\n22        45           NaN    100       119     282.0\n23        60  '2020/12/23'    130       101     300.0\n24        45  '2020/12/24'    105       132     246.0\n25        60  '2020/12/25'    102       126     334.5\n26        60      20201226    100       120     250.0\n27        60  '2020/12/27'     92       118     241.0\n28        60  '2020/12/28'    103       132     300.0\n29        60  '2020/12/29'    100       132     280.0\n30        60  '2020/12/30'    102       129     380.3\n31        60  '2020/12/31'     92       115     243.0",
            "text/html": "<div>\n<style scoped>\n    .dataframe tbody tr th:only-of-type {\n        vertical-align: middle;\n    }\n\n    .dataframe tbody tr th {\n        vertical-align: top;\n    }\n\n    .dataframe thead th {\n        text-align: right;\n    }\n</style>\n<table border=\"1\" class=\"dataframe\">\n  <thead>\n    <tr style=\"text-align: right;\">\n      <th></th>\n      <th>Duration</th>\n      <th>Date</th>\n      <th>Pulse</th>\n      <th>Maxpulse</th>\n      <th>Calories</th>\n    </tr>\n  </thead>\n  <tbody>\n    <tr>\n      <th>0</th>\n      <td>60</td>\n      <td>'2020/12/01'</td>\n      <td>110</td>\n      <td>130</td>\n      <td>409.1</td>\n    </tr>\n    <tr>\n      <th>1</th>\n      <td>60</td>\n      <td>'2020/12/02'</td>\n      <td>117</td>\n      <td>145</td>\n      <td>479.0</td>\n    </tr>\n    <tr>\n      <th>2</th>\n      <td>60</td>\n      <td>'2020/12/03'</td>\n      <td>103</td>\n      <td>135</td>\n      <td>340.0</td>\n    </tr>\n    <tr>\n      <th>3</th>\n      <td>45</td>\n      <td>'2020/12/04'</td>\n      <td>109</td>\n      <td>175</td>\n      <td>282.4</td>\n    </tr>\n    <tr>\n      <th>4</th>\n      <td>45</td>\n      <td>'2020/12/05'</td>\n      <td>117</td>\n      <td>148</td>\n      <td>406.0</td>\n    </tr>\n    <tr>\n      <th>5</th>\n      <td>60</td>\n      <td>'2020/12/06'</td>\n      <td>102</td>\n      <td>127</td>\n      <td>300.0</td>\n    </tr>\n    <tr>\n      <th>6</th>\n      <td>60</td>\n      <td>'2020/12/07'</td>\n      <td>110</td>\n      <td>136</td>\n      <td>374.0</td>\n    </tr>\n    <tr>\n      <th>7</th>\n      <td>450</td>\n      <td>'2020/12/08'</td>\n      <td>104</td>\n      <td>134</td>\n      <td>253.3</td>\n    </tr>\n    <tr>\n      <th>8</th>\n      <td>30</td>\n      <td>'2020/12/09'</td>\n      <td>109</td>\n      <td>133</td>\n      <td>195.1</td>\n    </tr>\n    <tr>\n      <th>9</th>\n      <td>60</td>\n      <td>'2020/12/10'</td>\n      <td>98</td>\n      <td>124</td>\n      <td>269.0</td>\n    </tr>\n    <tr>\n      <th>10</th>\n      <td>60</td>\n      <td>'2020/12/11'</td>\n      <td>103</td>\n      <td>147</td>\n      <td>329.3</td>\n    </tr>\n    <tr>\n      <th>11</th>\n      <td>60</td>\n      <td>'2020/12/12'</td>\n      <td>100</td>\n      <td>120</td>\n      <td>250.7</td>\n    </tr>\n    <tr>\n      <th>12</th>\n      <td>60</td>\n      <td>'2020/12/12'</td>\n      <td>100</td>\n      <td>120</td>\n      <td>250.7</td>\n    </tr>\n    <tr>\n      <th>13</th>\n      <td>60</td>\n      <td>'2020/12/13'</td>\n      <td>106</td>\n      <td>128</td>\n      <td>345.3</td>\n    </tr>\n    <tr>\n      <th>14</th>\n      <td>60</td>\n      <td>'2020/12/14'</td>\n      <td>104</td>\n      <td>132</td>\n      <td>379.3</td>\n    </tr>\n    <tr>\n      <th>15</th>\n      <td>60</td>\n      <td>'2020/12/15'</td>\n      <td>98</td>\n      <td>123</td>\n      <td>275.0</td>\n    </tr>\n    <tr>\n      <th>16</th>\n      <td>60</td>\n      <td>'2020/12/16'</td>\n      <td>98</td>\n      <td>120</td>\n      <td>215.2</td>\n    </tr>\n    <tr>\n      <th>17</th>\n      <td>60</td>\n      <td>'2020/12/17'</td>\n      <td>100</td>\n      <td>120</td>\n      <td>300.0</td>\n    </tr>\n    <tr>\n      <th>18</th>\n      <td>45</td>\n      <td>'2020/12/18'</td>\n      <td>90</td>\n      <td>112</td>\n      <td>300.0</td>\n    </tr>\n    <tr>\n      <th>19</th>\n      <td>60</td>\n      <td>'2020/12/19'</td>\n      <td>103</td>\n      <td>123</td>\n      <td>323.0</td>\n    </tr>\n    <tr>\n      <th>20</th>\n      <td>45</td>\n      <td>'2020/12/20'</td>\n      <td>97</td>\n      <td>125</td>\n      <td>243.0</td>\n    </tr>\n    <tr>\n      <th>21</th>\n      <td>60</td>\n      <td>'2020/12/21'</td>\n      <td>108</td>\n      <td>131</td>\n      <td>364.2</td>\n    </tr>\n    <tr>\n      <th>22</th>\n      <td>45</td>\n      <td>NaN</td>\n      <td>100</td>\n      <td>119</td>\n      <td>282.0</td>\n    </tr>\n    <tr>\n      <th>23</th>\n      <td>60</td>\n      <td>'2020/12/23'</td>\n      <td>130</td>\n      <td>101</td>\n      <td>300.0</td>\n    </tr>\n    <tr>\n      <th>24</th>\n      <td>45</td>\n      <td>'2020/12/24'</td>\n      <td>105</td>\n      <td>132</td>\n      <td>246.0</td>\n    </tr>\n    <tr>\n      <th>25</th>\n      <td>60</td>\n      <td>'2020/12/25'</td>\n      <td>102</td>\n      <td>126</td>\n      <td>334.5</td>\n    </tr>\n    <tr>\n      <th>26</th>\n      <td>60</td>\n      <td>20201226</td>\n      <td>100</td>\n      <td>120</td>\n      <td>250.0</td>\n    </tr>\n    <tr>\n      <th>27</th>\n      <td>60</td>\n      <td>'2020/12/27'</td>\n      <td>92</td>\n      <td>118</td>\n      <td>241.0</td>\n    </tr>\n    <tr>\n      <th>28</th>\n      <td>60</td>\n      <td>'2020/12/28'</td>\n      <td>103</td>\n      <td>132</td>\n      <td>300.0</td>\n    </tr>\n    <tr>\n      <th>29</th>\n      <td>60</td>\n      <td>'2020/12/29'</td>\n      <td>100</td>\n      <td>132</td>\n      <td>280.0</td>\n    </tr>\n    <tr>\n      <th>30</th>\n      <td>60</td>\n      <td>'2020/12/30'</td>\n      <td>102</td>\n      <td>129</td>\n      <td>380.3</td>\n    </tr>\n    <tr>\n      <th>31</th>\n      <td>60</td>\n      <td>'2020/12/31'</td>\n      <td>92</td>\n      <td>115</td>\n      <td>243.0</td>\n    </tr>\n  </tbody>\n</table>\n</div>"
          },
          "metadata": {}
        }
      ],
      "execution_count": 208
    },
    {
      "cell_type": "code",
      "source": "df = pd.read_csv('wrongformat.csv')\ndf",
      "metadata": {
        "trusted": true
      },
      "outputs": [
        {
          "execution_count": 210,
          "output_type": "execute_result",
          "data": {
            "text/plain": "    Duration          Date  Pulse  Maxpulse  Calories\n0         60  '2020/12/01'    110       130     409.1\n1         60  '2020/12/02'    117       145     479.0\n2         60  '2020/12/03'    103       135     340.0\n3         45  '2020/12/04'    109       175     282.4\n4         45  '2020/12/05'    117       148     406.0\n5         60  '2020/12/06'    102       127     300.0\n6         60  '2020/12/07'    110       136     374.0\n7        450  '2020/12/08'    104       134     253.3\n8         30  '2020/12/09'    109       133     195.1\n9         60  '2020/12/10'     98       124     269.0\n10        60  '2020/12/11'    103       147     329.3\n11        60  '2020/12/12'    100       120     250.7\n12        60  '2020/12/12'    100       120     250.7\n13        60  '2020/12/13'    106       128     345.3\n14        60  '2020/12/14'    104       132     379.3\n15        60  '2020/12/15'     98       123     275.0\n16        60  '2020/12/16'     98       120     215.2\n17        60  '2020/12/17'    100       120     300.0\n18        45  '2020/12/18'     90       112       NaN\n19        60  '2020/12/19'    103       123     323.0\n20        45  '2020/12/20'     97       125     243.0\n21        60  '2020/12/21'    108       131     364.2\n22        45           NaN    100       119     282.0\n23        60  '2020/12/23'    130       101     300.0\n24        45  '2020/12/24'    105       132     246.0\n25        60  '2020/12/25'    102       126     334.5\n26        60      20201226    100       120     250.0\n27        60  '2020/12/27'     92       118     241.0\n28        60  '2020/12/28'    103       132       NaN\n29        60  '2020/12/29'    100       132     280.0\n30        60  '2020/12/30'    102       129     380.3\n31        60  '2020/12/31'     92       115     243.0",
            "text/html": "<div>\n<style scoped>\n    .dataframe tbody tr th:only-of-type {\n        vertical-align: middle;\n    }\n\n    .dataframe tbody tr th {\n        vertical-align: top;\n    }\n\n    .dataframe thead th {\n        text-align: right;\n    }\n</style>\n<table border=\"1\" class=\"dataframe\">\n  <thead>\n    <tr style=\"text-align: right;\">\n      <th></th>\n      <th>Duration</th>\n      <th>Date</th>\n      <th>Pulse</th>\n      <th>Maxpulse</th>\n      <th>Calories</th>\n    </tr>\n  </thead>\n  <tbody>\n    <tr>\n      <th>0</th>\n      <td>60</td>\n      <td>'2020/12/01'</td>\n      <td>110</td>\n      <td>130</td>\n      <td>409.1</td>\n    </tr>\n    <tr>\n      <th>1</th>\n      <td>60</td>\n      <td>'2020/12/02'</td>\n      <td>117</td>\n      <td>145</td>\n      <td>479.0</td>\n    </tr>\n    <tr>\n      <th>2</th>\n      <td>60</td>\n      <td>'2020/12/03'</td>\n      <td>103</td>\n      <td>135</td>\n      <td>340.0</td>\n    </tr>\n    <tr>\n      <th>3</th>\n      <td>45</td>\n      <td>'2020/12/04'</td>\n      <td>109</td>\n      <td>175</td>\n      <td>282.4</td>\n    </tr>\n    <tr>\n      <th>4</th>\n      <td>45</td>\n      <td>'2020/12/05'</td>\n      <td>117</td>\n      <td>148</td>\n      <td>406.0</td>\n    </tr>\n    <tr>\n      <th>5</th>\n      <td>60</td>\n      <td>'2020/12/06'</td>\n      <td>102</td>\n      <td>127</td>\n      <td>300.0</td>\n    </tr>\n    <tr>\n      <th>6</th>\n      <td>60</td>\n      <td>'2020/12/07'</td>\n      <td>110</td>\n      <td>136</td>\n      <td>374.0</td>\n    </tr>\n    <tr>\n      <th>7</th>\n      <td>450</td>\n      <td>'2020/12/08'</td>\n      <td>104</td>\n      <td>134</td>\n      <td>253.3</td>\n    </tr>\n    <tr>\n      <th>8</th>\n      <td>30</td>\n      <td>'2020/12/09'</td>\n      <td>109</td>\n      <td>133</td>\n      <td>195.1</td>\n    </tr>\n    <tr>\n      <th>9</th>\n      <td>60</td>\n      <td>'2020/12/10'</td>\n      <td>98</td>\n      <td>124</td>\n      <td>269.0</td>\n    </tr>\n    <tr>\n      <th>10</th>\n      <td>60</td>\n      <td>'2020/12/11'</td>\n      <td>103</td>\n      <td>147</td>\n      <td>329.3</td>\n    </tr>\n    <tr>\n      <th>11</th>\n      <td>60</td>\n      <td>'2020/12/12'</td>\n      <td>100</td>\n      <td>120</td>\n      <td>250.7</td>\n    </tr>\n    <tr>\n      <th>12</th>\n      <td>60</td>\n      <td>'2020/12/12'</td>\n      <td>100</td>\n      <td>120</td>\n      <td>250.7</td>\n    </tr>\n    <tr>\n      <th>13</th>\n      <td>60</td>\n      <td>'2020/12/13'</td>\n      <td>106</td>\n      <td>128</td>\n      <td>345.3</td>\n    </tr>\n    <tr>\n      <th>14</th>\n      <td>60</td>\n      <td>'2020/12/14'</td>\n      <td>104</td>\n      <td>132</td>\n      <td>379.3</td>\n    </tr>\n    <tr>\n      <th>15</th>\n      <td>60</td>\n      <td>'2020/12/15'</td>\n      <td>98</td>\n      <td>123</td>\n      <td>275.0</td>\n    </tr>\n    <tr>\n      <th>16</th>\n      <td>60</td>\n      <td>'2020/12/16'</td>\n      <td>98</td>\n      <td>120</td>\n      <td>215.2</td>\n    </tr>\n    <tr>\n      <th>17</th>\n      <td>60</td>\n      <td>'2020/12/17'</td>\n      <td>100</td>\n      <td>120</td>\n      <td>300.0</td>\n    </tr>\n    <tr>\n      <th>18</th>\n      <td>45</td>\n      <td>'2020/12/18'</td>\n      <td>90</td>\n      <td>112</td>\n      <td>NaN</td>\n    </tr>\n    <tr>\n      <th>19</th>\n      <td>60</td>\n      <td>'2020/12/19'</td>\n      <td>103</td>\n      <td>123</td>\n      <td>323.0</td>\n    </tr>\n    <tr>\n      <th>20</th>\n      <td>45</td>\n      <td>'2020/12/20'</td>\n      <td>97</td>\n      <td>125</td>\n      <td>243.0</td>\n    </tr>\n    <tr>\n      <th>21</th>\n      <td>60</td>\n      <td>'2020/12/21'</td>\n      <td>108</td>\n      <td>131</td>\n      <td>364.2</td>\n    </tr>\n    <tr>\n      <th>22</th>\n      <td>45</td>\n      <td>NaN</td>\n      <td>100</td>\n      <td>119</td>\n      <td>282.0</td>\n    </tr>\n    <tr>\n      <th>23</th>\n      <td>60</td>\n      <td>'2020/12/23'</td>\n      <td>130</td>\n      <td>101</td>\n      <td>300.0</td>\n    </tr>\n    <tr>\n      <th>24</th>\n      <td>45</td>\n      <td>'2020/12/24'</td>\n      <td>105</td>\n      <td>132</td>\n      <td>246.0</td>\n    </tr>\n    <tr>\n      <th>25</th>\n      <td>60</td>\n      <td>'2020/12/25'</td>\n      <td>102</td>\n      <td>126</td>\n      <td>334.5</td>\n    </tr>\n    <tr>\n      <th>26</th>\n      <td>60</td>\n      <td>20201226</td>\n      <td>100</td>\n      <td>120</td>\n      <td>250.0</td>\n    </tr>\n    <tr>\n      <th>27</th>\n      <td>60</td>\n      <td>'2020/12/27'</td>\n      <td>92</td>\n      <td>118</td>\n      <td>241.0</td>\n    </tr>\n    <tr>\n      <th>28</th>\n      <td>60</td>\n      <td>'2020/12/28'</td>\n      <td>103</td>\n      <td>132</td>\n      <td>NaN</td>\n    </tr>\n    <tr>\n      <th>29</th>\n      <td>60</td>\n      <td>'2020/12/29'</td>\n      <td>100</td>\n      <td>132</td>\n      <td>280.0</td>\n    </tr>\n    <tr>\n      <th>30</th>\n      <td>60</td>\n      <td>'2020/12/30'</td>\n      <td>102</td>\n      <td>129</td>\n      <td>380.3</td>\n    </tr>\n    <tr>\n      <th>31</th>\n      <td>60</td>\n      <td>'2020/12/31'</td>\n      <td>92</td>\n      <td>115</td>\n      <td>243.0</td>\n    </tr>\n  </tbody>\n</table>\n</div>"
          },
          "metadata": {}
        }
      ],
      "execution_count": 210
    },
    {
      "cell_type": "code",
      "source": "df['Date']",
      "metadata": {
        "trusted": true
      },
      "outputs": [
        {
          "execution_count": 213,
          "output_type": "execute_result",
          "data": {
            "text/plain": "0    2020-12-01\n1    2020-12-02\n2    2020-12-03\n3    2020-12-04\n4    2020-12-05\n5    2020-12-06\n6    2020-12-07\n7    2020-12-08\n8    2020-12-09\n9    2020-12-10\n10   2020-12-11\n11   2020-12-12\n12   2020-12-12\n13   2020-12-13\n14   2020-12-14\n15   2020-12-15\n16   2020-12-16\n17   2020-12-17\n18   2020-12-18\n19   2020-12-19\n20   2020-12-20\n21   2020-12-21\n22          NaT\n23   2020-12-23\n24   2020-12-24\n25   2020-12-25\n26   2020-12-26\n27   2020-12-27\n28   2020-12-28\n29   2020-12-29\n30   2020-12-30\n31   2020-12-31\nName: Date, dtype: datetime64[ns]"
          },
          "metadata": {}
        }
      ],
      "execution_count": 213
    },
    {
      "cell_type": "code",
      "source": "df['Date'] = pd.to_datetime(df['Date'])\ndf['Date']",
      "metadata": {
        "trusted": true
      },
      "outputs": [
        {
          "execution_count": 212,
          "output_type": "execute_result",
          "data": {
            "text/plain": "0    2020-12-01\n1    2020-12-02\n2    2020-12-03\n3    2020-12-04\n4    2020-12-05\n5    2020-12-06\n6    2020-12-07\n7    2020-12-08\n8    2020-12-09\n9    2020-12-10\n10   2020-12-11\n11   2020-12-12\n12   2020-12-12\n13   2020-12-13\n14   2020-12-14\n15   2020-12-15\n16   2020-12-16\n17   2020-12-17\n18   2020-12-18\n19   2020-12-19\n20   2020-12-20\n21   2020-12-21\n22          NaT\n23   2020-12-23\n24   2020-12-24\n25   2020-12-25\n26   2020-12-26\n27   2020-12-27\n28   2020-12-28\n29   2020-12-29\n30   2020-12-30\n31   2020-12-31\nName: Date, dtype: datetime64[ns]"
          },
          "metadata": {}
        }
      ],
      "execution_count": 212
    },
    {
      "cell_type": "code",
      "source": "df.dropna(subset=['Date'], inplace = True)\ndf",
      "metadata": {
        "trusted": true
      },
      "outputs": [
        {
          "execution_count": 214,
          "output_type": "execute_result",
          "data": {
            "text/plain": "    Duration       Date  Pulse  Maxpulse  Calories\n0         60 2020-12-01    110       130     409.1\n1         60 2020-12-02    117       145     479.0\n2         60 2020-12-03    103       135     340.0\n3         45 2020-12-04    109       175     282.4\n4         45 2020-12-05    117       148     406.0\n5         60 2020-12-06    102       127     300.0\n6         60 2020-12-07    110       136     374.0\n7        450 2020-12-08    104       134     253.3\n8         30 2020-12-09    109       133     195.1\n9         60 2020-12-10     98       124     269.0\n10        60 2020-12-11    103       147     329.3\n11        60 2020-12-12    100       120     250.7\n12        60 2020-12-12    100       120     250.7\n13        60 2020-12-13    106       128     345.3\n14        60 2020-12-14    104       132     379.3\n15        60 2020-12-15     98       123     275.0\n16        60 2020-12-16     98       120     215.2\n17        60 2020-12-17    100       120     300.0\n18        45 2020-12-18     90       112       NaN\n19        60 2020-12-19    103       123     323.0\n20        45 2020-12-20     97       125     243.0\n21        60 2020-12-21    108       131     364.2\n23        60 2020-12-23    130       101     300.0\n24        45 2020-12-24    105       132     246.0\n25        60 2020-12-25    102       126     334.5\n26        60 2020-12-26    100       120     250.0\n27        60 2020-12-27     92       118     241.0\n28        60 2020-12-28    103       132       NaN\n29        60 2020-12-29    100       132     280.0\n30        60 2020-12-30    102       129     380.3\n31        60 2020-12-31     92       115     243.0",
            "text/html": "<div>\n<style scoped>\n    .dataframe tbody tr th:only-of-type {\n        vertical-align: middle;\n    }\n\n    .dataframe tbody tr th {\n        vertical-align: top;\n    }\n\n    .dataframe thead th {\n        text-align: right;\n    }\n</style>\n<table border=\"1\" class=\"dataframe\">\n  <thead>\n    <tr style=\"text-align: right;\">\n      <th></th>\n      <th>Duration</th>\n      <th>Date</th>\n      <th>Pulse</th>\n      <th>Maxpulse</th>\n      <th>Calories</th>\n    </tr>\n  </thead>\n  <tbody>\n    <tr>\n      <th>0</th>\n      <td>60</td>\n      <td>2020-12-01</td>\n      <td>110</td>\n      <td>130</td>\n      <td>409.1</td>\n    </tr>\n    <tr>\n      <th>1</th>\n      <td>60</td>\n      <td>2020-12-02</td>\n      <td>117</td>\n      <td>145</td>\n      <td>479.0</td>\n    </tr>\n    <tr>\n      <th>2</th>\n      <td>60</td>\n      <td>2020-12-03</td>\n      <td>103</td>\n      <td>135</td>\n      <td>340.0</td>\n    </tr>\n    <tr>\n      <th>3</th>\n      <td>45</td>\n      <td>2020-12-04</td>\n      <td>109</td>\n      <td>175</td>\n      <td>282.4</td>\n    </tr>\n    <tr>\n      <th>4</th>\n      <td>45</td>\n      <td>2020-12-05</td>\n      <td>117</td>\n      <td>148</td>\n      <td>406.0</td>\n    </tr>\n    <tr>\n      <th>5</th>\n      <td>60</td>\n      <td>2020-12-06</td>\n      <td>102</td>\n      <td>127</td>\n      <td>300.0</td>\n    </tr>\n    <tr>\n      <th>6</th>\n      <td>60</td>\n      <td>2020-12-07</td>\n      <td>110</td>\n      <td>136</td>\n      <td>374.0</td>\n    </tr>\n    <tr>\n      <th>7</th>\n      <td>450</td>\n      <td>2020-12-08</td>\n      <td>104</td>\n      <td>134</td>\n      <td>253.3</td>\n    </tr>\n    <tr>\n      <th>8</th>\n      <td>30</td>\n      <td>2020-12-09</td>\n      <td>109</td>\n      <td>133</td>\n      <td>195.1</td>\n    </tr>\n    <tr>\n      <th>9</th>\n      <td>60</td>\n      <td>2020-12-10</td>\n      <td>98</td>\n      <td>124</td>\n      <td>269.0</td>\n    </tr>\n    <tr>\n      <th>10</th>\n      <td>60</td>\n      <td>2020-12-11</td>\n      <td>103</td>\n      <td>147</td>\n      <td>329.3</td>\n    </tr>\n    <tr>\n      <th>11</th>\n      <td>60</td>\n      <td>2020-12-12</td>\n      <td>100</td>\n      <td>120</td>\n      <td>250.7</td>\n    </tr>\n    <tr>\n      <th>12</th>\n      <td>60</td>\n      <td>2020-12-12</td>\n      <td>100</td>\n      <td>120</td>\n      <td>250.7</td>\n    </tr>\n    <tr>\n      <th>13</th>\n      <td>60</td>\n      <td>2020-12-13</td>\n      <td>106</td>\n      <td>128</td>\n      <td>345.3</td>\n    </tr>\n    <tr>\n      <th>14</th>\n      <td>60</td>\n      <td>2020-12-14</td>\n      <td>104</td>\n      <td>132</td>\n      <td>379.3</td>\n    </tr>\n    <tr>\n      <th>15</th>\n      <td>60</td>\n      <td>2020-12-15</td>\n      <td>98</td>\n      <td>123</td>\n      <td>275.0</td>\n    </tr>\n    <tr>\n      <th>16</th>\n      <td>60</td>\n      <td>2020-12-16</td>\n      <td>98</td>\n      <td>120</td>\n      <td>215.2</td>\n    </tr>\n    <tr>\n      <th>17</th>\n      <td>60</td>\n      <td>2020-12-17</td>\n      <td>100</td>\n      <td>120</td>\n      <td>300.0</td>\n    </tr>\n    <tr>\n      <th>18</th>\n      <td>45</td>\n      <td>2020-12-18</td>\n      <td>90</td>\n      <td>112</td>\n      <td>NaN</td>\n    </tr>\n    <tr>\n      <th>19</th>\n      <td>60</td>\n      <td>2020-12-19</td>\n      <td>103</td>\n      <td>123</td>\n      <td>323.0</td>\n    </tr>\n    <tr>\n      <th>20</th>\n      <td>45</td>\n      <td>2020-12-20</td>\n      <td>97</td>\n      <td>125</td>\n      <td>243.0</td>\n    </tr>\n    <tr>\n      <th>21</th>\n      <td>60</td>\n      <td>2020-12-21</td>\n      <td>108</td>\n      <td>131</td>\n      <td>364.2</td>\n    </tr>\n    <tr>\n      <th>23</th>\n      <td>60</td>\n      <td>2020-12-23</td>\n      <td>130</td>\n      <td>101</td>\n      <td>300.0</td>\n    </tr>\n    <tr>\n      <th>24</th>\n      <td>45</td>\n      <td>2020-12-24</td>\n      <td>105</td>\n      <td>132</td>\n      <td>246.0</td>\n    </tr>\n    <tr>\n      <th>25</th>\n      <td>60</td>\n      <td>2020-12-25</td>\n      <td>102</td>\n      <td>126</td>\n      <td>334.5</td>\n    </tr>\n    <tr>\n      <th>26</th>\n      <td>60</td>\n      <td>2020-12-26</td>\n      <td>100</td>\n      <td>120</td>\n      <td>250.0</td>\n    </tr>\n    <tr>\n      <th>27</th>\n      <td>60</td>\n      <td>2020-12-27</td>\n      <td>92</td>\n      <td>118</td>\n      <td>241.0</td>\n    </tr>\n    <tr>\n      <th>28</th>\n      <td>60</td>\n      <td>2020-12-28</td>\n      <td>103</td>\n      <td>132</td>\n      <td>NaN</td>\n    </tr>\n    <tr>\n      <th>29</th>\n      <td>60</td>\n      <td>2020-12-29</td>\n      <td>100</td>\n      <td>132</td>\n      <td>280.0</td>\n    </tr>\n    <tr>\n      <th>30</th>\n      <td>60</td>\n      <td>2020-12-30</td>\n      <td>102</td>\n      <td>129</td>\n      <td>380.3</td>\n    </tr>\n    <tr>\n      <th>31</th>\n      <td>60</td>\n      <td>2020-12-31</td>\n      <td>92</td>\n      <td>115</td>\n      <td>243.0</td>\n    </tr>\n  </tbody>\n</table>\n</div>"
          },
          "metadata": {}
        }
      ],
      "execution_count": 214
    },
    {
      "cell_type": "code",
      "source": "df['Date']",
      "metadata": {
        "trusted": true
      },
      "outputs": [
        {
          "execution_count": 215,
          "output_type": "execute_result",
          "data": {
            "text/plain": "0    2020-12-01\n1    2020-12-02\n2    2020-12-03\n3    2020-12-04\n4    2020-12-05\n5    2020-12-06\n6    2020-12-07\n7    2020-12-08\n8    2020-12-09\n9    2020-12-10\n10   2020-12-11\n11   2020-12-12\n12   2020-12-12\n13   2020-12-13\n14   2020-12-14\n15   2020-12-15\n16   2020-12-16\n17   2020-12-17\n18   2020-12-18\n19   2020-12-19\n20   2020-12-20\n21   2020-12-21\n23   2020-12-23\n24   2020-12-24\n25   2020-12-25\n26   2020-12-26\n27   2020-12-27\n28   2020-12-28\n29   2020-12-29\n30   2020-12-30\n31   2020-12-31\nName: Date, dtype: datetime64[ns]"
          },
          "metadata": {}
        }
      ],
      "execution_count": 215
    },
    {
      "cell_type": "code",
      "source": "df = pd.read_csv('wrongdata.csv')\ndf",
      "metadata": {
        "trusted": true
      },
      "outputs": [
        {
          "execution_count": 216,
          "output_type": "execute_result",
          "data": {
            "text/plain": "    Duration          Date  Pulse  Maxpulse  Calories\n0         60  '2020/12/01'    110       130     409.1\n1         60  '2020/12/02'    117       145     479.0\n2         60  '2020/12/03'    103       135     340.0\n3         45  '2020/12/04'    109       175     282.4\n4         45  '2020/12/05'    117       148     406.0\n5         60  '2020/12/06'    102       127     300.0\n6         60  '2020/12/07'    110       136     374.0\n7        450  '2020/12/08'    104       134     253.3\n8         30  '2020/12/09'    109       133     195.1\n9         60  '2020/12/10'     98       124     269.0\n10        60  '2020/12/11'    103       147     329.3\n11        60  '2020/12/12'    100       120     250.7\n12        60  '2020/12/12'    100       120     250.7\n13        60  '2020/12/13'    106       128     345.3\n14        60  '2020/12/14'    104       132     379.3\n15        60  '2020/12/15'     98       123     275.0\n16        60  '2020/12/16'     98       120     215.2\n17        60  '2020/12/17'    100       120     300.0\n18        45  '2020/12/18'     90       112       NaN\n19        60  '2020/12/19'    103       123     323.0\n20        45  '2020/12/20'     97       125     243.0\n21        60  '2020/12/21'    108       131     364.2\n22        45           NaN    100       119     282.0\n23        60  '2020/12/23'    130       101     300.0\n24        45  '2020/12/24'    105       132     246.0\n25        60  '2020/12/25'    102       126     334.5\n26        60      20201226    100       120     250.0\n27        60  '2020/12/27'     92       118     241.0\n28        60  '2020/12/28'    103       132       NaN\n29        60  '2020/12/29'    100       132     280.0\n30        60  '2020/12/30'    102       129     380.3\n31        60  '2020/12/31'     92       115     243.0",
            "text/html": "<div>\n<style scoped>\n    .dataframe tbody tr th:only-of-type {\n        vertical-align: middle;\n    }\n\n    .dataframe tbody tr th {\n        vertical-align: top;\n    }\n\n    .dataframe thead th {\n        text-align: right;\n    }\n</style>\n<table border=\"1\" class=\"dataframe\">\n  <thead>\n    <tr style=\"text-align: right;\">\n      <th></th>\n      <th>Duration</th>\n      <th>Date</th>\n      <th>Pulse</th>\n      <th>Maxpulse</th>\n      <th>Calories</th>\n    </tr>\n  </thead>\n  <tbody>\n    <tr>\n      <th>0</th>\n      <td>60</td>\n      <td>'2020/12/01'</td>\n      <td>110</td>\n      <td>130</td>\n      <td>409.1</td>\n    </tr>\n    <tr>\n      <th>1</th>\n      <td>60</td>\n      <td>'2020/12/02'</td>\n      <td>117</td>\n      <td>145</td>\n      <td>479.0</td>\n    </tr>\n    <tr>\n      <th>2</th>\n      <td>60</td>\n      <td>'2020/12/03'</td>\n      <td>103</td>\n      <td>135</td>\n      <td>340.0</td>\n    </tr>\n    <tr>\n      <th>3</th>\n      <td>45</td>\n      <td>'2020/12/04'</td>\n      <td>109</td>\n      <td>175</td>\n      <td>282.4</td>\n    </tr>\n    <tr>\n      <th>4</th>\n      <td>45</td>\n      <td>'2020/12/05'</td>\n      <td>117</td>\n      <td>148</td>\n      <td>406.0</td>\n    </tr>\n    <tr>\n      <th>5</th>\n      <td>60</td>\n      <td>'2020/12/06'</td>\n      <td>102</td>\n      <td>127</td>\n      <td>300.0</td>\n    </tr>\n    <tr>\n      <th>6</th>\n      <td>60</td>\n      <td>'2020/12/07'</td>\n      <td>110</td>\n      <td>136</td>\n      <td>374.0</td>\n    </tr>\n    <tr>\n      <th>7</th>\n      <td>450</td>\n      <td>'2020/12/08'</td>\n      <td>104</td>\n      <td>134</td>\n      <td>253.3</td>\n    </tr>\n    <tr>\n      <th>8</th>\n      <td>30</td>\n      <td>'2020/12/09'</td>\n      <td>109</td>\n      <td>133</td>\n      <td>195.1</td>\n    </tr>\n    <tr>\n      <th>9</th>\n      <td>60</td>\n      <td>'2020/12/10'</td>\n      <td>98</td>\n      <td>124</td>\n      <td>269.0</td>\n    </tr>\n    <tr>\n      <th>10</th>\n      <td>60</td>\n      <td>'2020/12/11'</td>\n      <td>103</td>\n      <td>147</td>\n      <td>329.3</td>\n    </tr>\n    <tr>\n      <th>11</th>\n      <td>60</td>\n      <td>'2020/12/12'</td>\n      <td>100</td>\n      <td>120</td>\n      <td>250.7</td>\n    </tr>\n    <tr>\n      <th>12</th>\n      <td>60</td>\n      <td>'2020/12/12'</td>\n      <td>100</td>\n      <td>120</td>\n      <td>250.7</td>\n    </tr>\n    <tr>\n      <th>13</th>\n      <td>60</td>\n      <td>'2020/12/13'</td>\n      <td>106</td>\n      <td>128</td>\n      <td>345.3</td>\n    </tr>\n    <tr>\n      <th>14</th>\n      <td>60</td>\n      <td>'2020/12/14'</td>\n      <td>104</td>\n      <td>132</td>\n      <td>379.3</td>\n    </tr>\n    <tr>\n      <th>15</th>\n      <td>60</td>\n      <td>'2020/12/15'</td>\n      <td>98</td>\n      <td>123</td>\n      <td>275.0</td>\n    </tr>\n    <tr>\n      <th>16</th>\n      <td>60</td>\n      <td>'2020/12/16'</td>\n      <td>98</td>\n      <td>120</td>\n      <td>215.2</td>\n    </tr>\n    <tr>\n      <th>17</th>\n      <td>60</td>\n      <td>'2020/12/17'</td>\n      <td>100</td>\n      <td>120</td>\n      <td>300.0</td>\n    </tr>\n    <tr>\n      <th>18</th>\n      <td>45</td>\n      <td>'2020/12/18'</td>\n      <td>90</td>\n      <td>112</td>\n      <td>NaN</td>\n    </tr>\n    <tr>\n      <th>19</th>\n      <td>60</td>\n      <td>'2020/12/19'</td>\n      <td>103</td>\n      <td>123</td>\n      <td>323.0</td>\n    </tr>\n    <tr>\n      <th>20</th>\n      <td>45</td>\n      <td>'2020/12/20'</td>\n      <td>97</td>\n      <td>125</td>\n      <td>243.0</td>\n    </tr>\n    <tr>\n      <th>21</th>\n      <td>60</td>\n      <td>'2020/12/21'</td>\n      <td>108</td>\n      <td>131</td>\n      <td>364.2</td>\n    </tr>\n    <tr>\n      <th>22</th>\n      <td>45</td>\n      <td>NaN</td>\n      <td>100</td>\n      <td>119</td>\n      <td>282.0</td>\n    </tr>\n    <tr>\n      <th>23</th>\n      <td>60</td>\n      <td>'2020/12/23'</td>\n      <td>130</td>\n      <td>101</td>\n      <td>300.0</td>\n    </tr>\n    <tr>\n      <th>24</th>\n      <td>45</td>\n      <td>'2020/12/24'</td>\n      <td>105</td>\n      <td>132</td>\n      <td>246.0</td>\n    </tr>\n    <tr>\n      <th>25</th>\n      <td>60</td>\n      <td>'2020/12/25'</td>\n      <td>102</td>\n      <td>126</td>\n      <td>334.5</td>\n    </tr>\n    <tr>\n      <th>26</th>\n      <td>60</td>\n      <td>20201226</td>\n      <td>100</td>\n      <td>120</td>\n      <td>250.0</td>\n    </tr>\n    <tr>\n      <th>27</th>\n      <td>60</td>\n      <td>'2020/12/27'</td>\n      <td>92</td>\n      <td>118</td>\n      <td>241.0</td>\n    </tr>\n    <tr>\n      <th>28</th>\n      <td>60</td>\n      <td>'2020/12/28'</td>\n      <td>103</td>\n      <td>132</td>\n      <td>NaN</td>\n    </tr>\n    <tr>\n      <th>29</th>\n      <td>60</td>\n      <td>'2020/12/29'</td>\n      <td>100</td>\n      <td>132</td>\n      <td>280.0</td>\n    </tr>\n    <tr>\n      <th>30</th>\n      <td>60</td>\n      <td>'2020/12/30'</td>\n      <td>102</td>\n      <td>129</td>\n      <td>380.3</td>\n    </tr>\n    <tr>\n      <th>31</th>\n      <td>60</td>\n      <td>'2020/12/31'</td>\n      <td>92</td>\n      <td>115</td>\n      <td>243.0</td>\n    </tr>\n  </tbody>\n</table>\n</div>"
          },
          "metadata": {}
        }
      ],
      "execution_count": 216
    },
    {
      "cell_type": "code",
      "source": "# One way to fix wrong values is to replace them with something else.\n\n# In our example, it is most likely a typo, and the value should be \"45\" instead of \"450\", and we could just insert \"45\" in row 7:\n",
      "metadata": {
        "trusted": true
      },
      "outputs": [],
      "execution_count": 218
    },
    {
      "cell_type": "code",
      "source": "df.loc[7,'Duration'] = 45\ndf",
      "metadata": {
        "trusted": true
      },
      "outputs": [
        {
          "execution_count": 219,
          "output_type": "execute_result",
          "data": {
            "text/plain": "    Duration          Date  Pulse  Maxpulse  Calories\n0         60  '2020/12/01'    110       130     409.1\n1         60  '2020/12/02'    117       145     479.0\n2         60  '2020/12/03'    103       135     340.0\n3         45  '2020/12/04'    109       175     282.4\n4         45  '2020/12/05'    117       148     406.0\n5         60  '2020/12/06'    102       127     300.0\n6         60  '2020/12/07'    110       136     374.0\n7         45  '2020/12/08'    104       134     253.3\n8         30  '2020/12/09'    109       133     195.1\n9         60  '2020/12/10'     98       124     269.0\n10        60  '2020/12/11'    103       147     329.3\n11        60  '2020/12/12'    100       120     250.7\n12        60  '2020/12/12'    100       120     250.7\n13        60  '2020/12/13'    106       128     345.3\n14        60  '2020/12/14'    104       132     379.3\n15        60  '2020/12/15'     98       123     275.0\n16        60  '2020/12/16'     98       120     215.2\n17        60  '2020/12/17'    100       120     300.0\n18        45  '2020/12/18'     90       112       NaN\n19        60  '2020/12/19'    103       123     323.0\n20        45  '2020/12/20'     97       125     243.0\n21        60  '2020/12/21'    108       131     364.2\n22        45           NaN    100       119     282.0\n23        60  '2020/12/23'    130       101     300.0\n24        45  '2020/12/24'    105       132     246.0\n25        60  '2020/12/25'    102       126     334.5\n26        60      20201226    100       120     250.0\n27        60  '2020/12/27'     92       118     241.0\n28        60  '2020/12/28'    103       132       NaN\n29        60  '2020/12/29'    100       132     280.0\n30        60  '2020/12/30'    102       129     380.3\n31        60  '2020/12/31'     92       115     243.0",
            "text/html": "<div>\n<style scoped>\n    .dataframe tbody tr th:only-of-type {\n        vertical-align: middle;\n    }\n\n    .dataframe tbody tr th {\n        vertical-align: top;\n    }\n\n    .dataframe thead th {\n        text-align: right;\n    }\n</style>\n<table border=\"1\" class=\"dataframe\">\n  <thead>\n    <tr style=\"text-align: right;\">\n      <th></th>\n      <th>Duration</th>\n      <th>Date</th>\n      <th>Pulse</th>\n      <th>Maxpulse</th>\n      <th>Calories</th>\n    </tr>\n  </thead>\n  <tbody>\n    <tr>\n      <th>0</th>\n      <td>60</td>\n      <td>'2020/12/01'</td>\n      <td>110</td>\n      <td>130</td>\n      <td>409.1</td>\n    </tr>\n    <tr>\n      <th>1</th>\n      <td>60</td>\n      <td>'2020/12/02'</td>\n      <td>117</td>\n      <td>145</td>\n      <td>479.0</td>\n    </tr>\n    <tr>\n      <th>2</th>\n      <td>60</td>\n      <td>'2020/12/03'</td>\n      <td>103</td>\n      <td>135</td>\n      <td>340.0</td>\n    </tr>\n    <tr>\n      <th>3</th>\n      <td>45</td>\n      <td>'2020/12/04'</td>\n      <td>109</td>\n      <td>175</td>\n      <td>282.4</td>\n    </tr>\n    <tr>\n      <th>4</th>\n      <td>45</td>\n      <td>'2020/12/05'</td>\n      <td>117</td>\n      <td>148</td>\n      <td>406.0</td>\n    </tr>\n    <tr>\n      <th>5</th>\n      <td>60</td>\n      <td>'2020/12/06'</td>\n      <td>102</td>\n      <td>127</td>\n      <td>300.0</td>\n    </tr>\n    <tr>\n      <th>6</th>\n      <td>60</td>\n      <td>'2020/12/07'</td>\n      <td>110</td>\n      <td>136</td>\n      <td>374.0</td>\n    </tr>\n    <tr>\n      <th>7</th>\n      <td>45</td>\n      <td>'2020/12/08'</td>\n      <td>104</td>\n      <td>134</td>\n      <td>253.3</td>\n    </tr>\n    <tr>\n      <th>8</th>\n      <td>30</td>\n      <td>'2020/12/09'</td>\n      <td>109</td>\n      <td>133</td>\n      <td>195.1</td>\n    </tr>\n    <tr>\n      <th>9</th>\n      <td>60</td>\n      <td>'2020/12/10'</td>\n      <td>98</td>\n      <td>124</td>\n      <td>269.0</td>\n    </tr>\n    <tr>\n      <th>10</th>\n      <td>60</td>\n      <td>'2020/12/11'</td>\n      <td>103</td>\n      <td>147</td>\n      <td>329.3</td>\n    </tr>\n    <tr>\n      <th>11</th>\n      <td>60</td>\n      <td>'2020/12/12'</td>\n      <td>100</td>\n      <td>120</td>\n      <td>250.7</td>\n    </tr>\n    <tr>\n      <th>12</th>\n      <td>60</td>\n      <td>'2020/12/12'</td>\n      <td>100</td>\n      <td>120</td>\n      <td>250.7</td>\n    </tr>\n    <tr>\n      <th>13</th>\n      <td>60</td>\n      <td>'2020/12/13'</td>\n      <td>106</td>\n      <td>128</td>\n      <td>345.3</td>\n    </tr>\n    <tr>\n      <th>14</th>\n      <td>60</td>\n      <td>'2020/12/14'</td>\n      <td>104</td>\n      <td>132</td>\n      <td>379.3</td>\n    </tr>\n    <tr>\n      <th>15</th>\n      <td>60</td>\n      <td>'2020/12/15'</td>\n      <td>98</td>\n      <td>123</td>\n      <td>275.0</td>\n    </tr>\n    <tr>\n      <th>16</th>\n      <td>60</td>\n      <td>'2020/12/16'</td>\n      <td>98</td>\n      <td>120</td>\n      <td>215.2</td>\n    </tr>\n    <tr>\n      <th>17</th>\n      <td>60</td>\n      <td>'2020/12/17'</td>\n      <td>100</td>\n      <td>120</td>\n      <td>300.0</td>\n    </tr>\n    <tr>\n      <th>18</th>\n      <td>45</td>\n      <td>'2020/12/18'</td>\n      <td>90</td>\n      <td>112</td>\n      <td>NaN</td>\n    </tr>\n    <tr>\n      <th>19</th>\n      <td>60</td>\n      <td>'2020/12/19'</td>\n      <td>103</td>\n      <td>123</td>\n      <td>323.0</td>\n    </tr>\n    <tr>\n      <th>20</th>\n      <td>45</td>\n      <td>'2020/12/20'</td>\n      <td>97</td>\n      <td>125</td>\n      <td>243.0</td>\n    </tr>\n    <tr>\n      <th>21</th>\n      <td>60</td>\n      <td>'2020/12/21'</td>\n      <td>108</td>\n      <td>131</td>\n      <td>364.2</td>\n    </tr>\n    <tr>\n      <th>22</th>\n      <td>45</td>\n      <td>NaN</td>\n      <td>100</td>\n      <td>119</td>\n      <td>282.0</td>\n    </tr>\n    <tr>\n      <th>23</th>\n      <td>60</td>\n      <td>'2020/12/23'</td>\n      <td>130</td>\n      <td>101</td>\n      <td>300.0</td>\n    </tr>\n    <tr>\n      <th>24</th>\n      <td>45</td>\n      <td>'2020/12/24'</td>\n      <td>105</td>\n      <td>132</td>\n      <td>246.0</td>\n    </tr>\n    <tr>\n      <th>25</th>\n      <td>60</td>\n      <td>'2020/12/25'</td>\n      <td>102</td>\n      <td>126</td>\n      <td>334.5</td>\n    </tr>\n    <tr>\n      <th>26</th>\n      <td>60</td>\n      <td>20201226</td>\n      <td>100</td>\n      <td>120</td>\n      <td>250.0</td>\n    </tr>\n    <tr>\n      <th>27</th>\n      <td>60</td>\n      <td>'2020/12/27'</td>\n      <td>92</td>\n      <td>118</td>\n      <td>241.0</td>\n    </tr>\n    <tr>\n      <th>28</th>\n      <td>60</td>\n      <td>'2020/12/28'</td>\n      <td>103</td>\n      <td>132</td>\n      <td>NaN</td>\n    </tr>\n    <tr>\n      <th>29</th>\n      <td>60</td>\n      <td>'2020/12/29'</td>\n      <td>100</td>\n      <td>132</td>\n      <td>280.0</td>\n    </tr>\n    <tr>\n      <th>30</th>\n      <td>60</td>\n      <td>'2020/12/30'</td>\n      <td>102</td>\n      <td>129</td>\n      <td>380.3</td>\n    </tr>\n    <tr>\n      <th>31</th>\n      <td>60</td>\n      <td>'2020/12/31'</td>\n      <td>92</td>\n      <td>115</td>\n      <td>243.0</td>\n    </tr>\n  </tbody>\n</table>\n</div>"
          },
          "metadata": {}
        }
      ],
      "execution_count": 219
    },
    {
      "cell_type": "code",
      "source": "# Loop through all values in the \"Duration\" column.\n\n# If the value is higher than 100, set it to 100:\ndf",
      "metadata": {
        "trusted": true
      },
      "outputs": [
        {
          "execution_count": 226,
          "output_type": "execute_result",
          "data": {
            "text/plain": "    Duration          Date  Pulse  Maxpulse  Calories\n0         60  '2020/12/01'    110       130     409.1\n1         60  '2020/12/02'    117       145     479.0\n2         60  '2020/12/03'    103       135     340.0\n3         45  '2020/12/04'    109       175     282.4\n4         45  '2020/12/05'    117       148     406.0\n5         60  '2020/12/06'    102       127     300.0\n6         60  '2020/12/07'    110       136     374.0\n7         45  '2020/12/08'    104       134     253.3\n8         30  '2020/12/09'    109       133     195.1\n9         60  '2020/12/10'     98       124     269.0\n10        60  '2020/12/11'    103       147     329.3\n11        60  '2020/12/12'    100       120     250.7\n12        60  '2020/12/12'    100       120     250.7\n13        60  '2020/12/13'    106       128     345.3\n14        60  '2020/12/14'    104       132     379.3\n15        60  '2020/12/15'     98       123     275.0\n16        60  '2020/12/16'     98       120     215.2\n17        60  '2020/12/17'    100       120     300.0\n18        45  '2020/12/18'     90       112       NaN\n19        60  '2020/12/19'    103       123     323.0\n20        45  '2020/12/20'     97       125     243.0\n21        60  '2020/12/21'    108       131     364.2\n22        45           NaN    100       119     282.0\n23        60  '2020/12/23'    120       101     300.0\n24        45  '2020/12/24'    105       132     246.0\n25        60  '2020/12/25'    102       126     334.5\n26        60      20201226    100       120     250.0\n27        60  '2020/12/27'     92       118     241.0\n28        60  '2020/12/28'    103       132       NaN\n29        60  '2020/12/29'    100       132     280.0\n30        60  '2020/12/30'    102       129     380.3\n31        60  '2020/12/31'     92       115     243.0",
            "text/html": "<div>\n<style scoped>\n    .dataframe tbody tr th:only-of-type {\n        vertical-align: middle;\n    }\n\n    .dataframe tbody tr th {\n        vertical-align: top;\n    }\n\n    .dataframe thead th {\n        text-align: right;\n    }\n</style>\n<table border=\"1\" class=\"dataframe\">\n  <thead>\n    <tr style=\"text-align: right;\">\n      <th></th>\n      <th>Duration</th>\n      <th>Date</th>\n      <th>Pulse</th>\n      <th>Maxpulse</th>\n      <th>Calories</th>\n    </tr>\n  </thead>\n  <tbody>\n    <tr>\n      <th>0</th>\n      <td>60</td>\n      <td>'2020/12/01'</td>\n      <td>110</td>\n      <td>130</td>\n      <td>409.1</td>\n    </tr>\n    <tr>\n      <th>1</th>\n      <td>60</td>\n      <td>'2020/12/02'</td>\n      <td>117</td>\n      <td>145</td>\n      <td>479.0</td>\n    </tr>\n    <tr>\n      <th>2</th>\n      <td>60</td>\n      <td>'2020/12/03'</td>\n      <td>103</td>\n      <td>135</td>\n      <td>340.0</td>\n    </tr>\n    <tr>\n      <th>3</th>\n      <td>45</td>\n      <td>'2020/12/04'</td>\n      <td>109</td>\n      <td>175</td>\n      <td>282.4</td>\n    </tr>\n    <tr>\n      <th>4</th>\n      <td>45</td>\n      <td>'2020/12/05'</td>\n      <td>117</td>\n      <td>148</td>\n      <td>406.0</td>\n    </tr>\n    <tr>\n      <th>5</th>\n      <td>60</td>\n      <td>'2020/12/06'</td>\n      <td>102</td>\n      <td>127</td>\n      <td>300.0</td>\n    </tr>\n    <tr>\n      <th>6</th>\n      <td>60</td>\n      <td>'2020/12/07'</td>\n      <td>110</td>\n      <td>136</td>\n      <td>374.0</td>\n    </tr>\n    <tr>\n      <th>7</th>\n      <td>45</td>\n      <td>'2020/12/08'</td>\n      <td>104</td>\n      <td>134</td>\n      <td>253.3</td>\n    </tr>\n    <tr>\n      <th>8</th>\n      <td>30</td>\n      <td>'2020/12/09'</td>\n      <td>109</td>\n      <td>133</td>\n      <td>195.1</td>\n    </tr>\n    <tr>\n      <th>9</th>\n      <td>60</td>\n      <td>'2020/12/10'</td>\n      <td>98</td>\n      <td>124</td>\n      <td>269.0</td>\n    </tr>\n    <tr>\n      <th>10</th>\n      <td>60</td>\n      <td>'2020/12/11'</td>\n      <td>103</td>\n      <td>147</td>\n      <td>329.3</td>\n    </tr>\n    <tr>\n      <th>11</th>\n      <td>60</td>\n      <td>'2020/12/12'</td>\n      <td>100</td>\n      <td>120</td>\n      <td>250.7</td>\n    </tr>\n    <tr>\n      <th>12</th>\n      <td>60</td>\n      <td>'2020/12/12'</td>\n      <td>100</td>\n      <td>120</td>\n      <td>250.7</td>\n    </tr>\n    <tr>\n      <th>13</th>\n      <td>60</td>\n      <td>'2020/12/13'</td>\n      <td>106</td>\n      <td>128</td>\n      <td>345.3</td>\n    </tr>\n    <tr>\n      <th>14</th>\n      <td>60</td>\n      <td>'2020/12/14'</td>\n      <td>104</td>\n      <td>132</td>\n      <td>379.3</td>\n    </tr>\n    <tr>\n      <th>15</th>\n      <td>60</td>\n      <td>'2020/12/15'</td>\n      <td>98</td>\n      <td>123</td>\n      <td>275.0</td>\n    </tr>\n    <tr>\n      <th>16</th>\n      <td>60</td>\n      <td>'2020/12/16'</td>\n      <td>98</td>\n      <td>120</td>\n      <td>215.2</td>\n    </tr>\n    <tr>\n      <th>17</th>\n      <td>60</td>\n      <td>'2020/12/17'</td>\n      <td>100</td>\n      <td>120</td>\n      <td>300.0</td>\n    </tr>\n    <tr>\n      <th>18</th>\n      <td>45</td>\n      <td>'2020/12/18'</td>\n      <td>90</td>\n      <td>112</td>\n      <td>NaN</td>\n    </tr>\n    <tr>\n      <th>19</th>\n      <td>60</td>\n      <td>'2020/12/19'</td>\n      <td>103</td>\n      <td>123</td>\n      <td>323.0</td>\n    </tr>\n    <tr>\n      <th>20</th>\n      <td>45</td>\n      <td>'2020/12/20'</td>\n      <td>97</td>\n      <td>125</td>\n      <td>243.0</td>\n    </tr>\n    <tr>\n      <th>21</th>\n      <td>60</td>\n      <td>'2020/12/21'</td>\n      <td>108</td>\n      <td>131</td>\n      <td>364.2</td>\n    </tr>\n    <tr>\n      <th>22</th>\n      <td>45</td>\n      <td>NaN</td>\n      <td>100</td>\n      <td>119</td>\n      <td>282.0</td>\n    </tr>\n    <tr>\n      <th>23</th>\n      <td>60</td>\n      <td>'2020/12/23'</td>\n      <td>120</td>\n      <td>101</td>\n      <td>300.0</td>\n    </tr>\n    <tr>\n      <th>24</th>\n      <td>45</td>\n      <td>'2020/12/24'</td>\n      <td>105</td>\n      <td>132</td>\n      <td>246.0</td>\n    </tr>\n    <tr>\n      <th>25</th>\n      <td>60</td>\n      <td>'2020/12/25'</td>\n      <td>102</td>\n      <td>126</td>\n      <td>334.5</td>\n    </tr>\n    <tr>\n      <th>26</th>\n      <td>60</td>\n      <td>20201226</td>\n      <td>100</td>\n      <td>120</td>\n      <td>250.0</td>\n    </tr>\n    <tr>\n      <th>27</th>\n      <td>60</td>\n      <td>'2020/12/27'</td>\n      <td>92</td>\n      <td>118</td>\n      <td>241.0</td>\n    </tr>\n    <tr>\n      <th>28</th>\n      <td>60</td>\n      <td>'2020/12/28'</td>\n      <td>103</td>\n      <td>132</td>\n      <td>NaN</td>\n    </tr>\n    <tr>\n      <th>29</th>\n      <td>60</td>\n      <td>'2020/12/29'</td>\n      <td>100</td>\n      <td>132</td>\n      <td>280.0</td>\n    </tr>\n    <tr>\n      <th>30</th>\n      <td>60</td>\n      <td>'2020/12/30'</td>\n      <td>102</td>\n      <td>129</td>\n      <td>380.3</td>\n    </tr>\n    <tr>\n      <th>31</th>\n      <td>60</td>\n      <td>'2020/12/31'</td>\n      <td>92</td>\n      <td>115</td>\n      <td>243.0</td>\n    </tr>\n  </tbody>\n</table>\n</div>"
          },
          "metadata": {}
        }
      ],
      "execution_count": 226
    },
    {
      "cell_type": "code",
      "source": "for x in df.index:\n  if df.loc[x, \"Pulse\"] > 100:\n    df.loc[x, \"Pulse\"] = 100",
      "metadata": {
        "trusted": true
      },
      "outputs": [],
      "execution_count": 227
    },
    {
      "cell_type": "code",
      "source": "df",
      "metadata": {
        "trusted": true
      },
      "outputs": [
        {
          "execution_count": 228,
          "output_type": "execute_result",
          "data": {
            "text/plain": "    Duration          Date  Pulse  Maxpulse  Calories\n0         60  '2020/12/01'    100       130     409.1\n1         60  '2020/12/02'    100       145     479.0\n2         60  '2020/12/03'    100       135     340.0\n3         45  '2020/12/04'    100       175     282.4\n4         45  '2020/12/05'    100       148     406.0\n5         60  '2020/12/06'    100       127     300.0\n6         60  '2020/12/07'    100       136     374.0\n7         45  '2020/12/08'    100       134     253.3\n8         30  '2020/12/09'    100       133     195.1\n9         60  '2020/12/10'     98       124     269.0\n10        60  '2020/12/11'    100       147     329.3\n11        60  '2020/12/12'    100       120     250.7\n12        60  '2020/12/12'    100       120     250.7\n13        60  '2020/12/13'    100       128     345.3\n14        60  '2020/12/14'    100       132     379.3\n15        60  '2020/12/15'     98       123     275.0\n16        60  '2020/12/16'     98       120     215.2\n17        60  '2020/12/17'    100       120     300.0\n18        45  '2020/12/18'     90       112       NaN\n19        60  '2020/12/19'    100       123     323.0\n20        45  '2020/12/20'     97       125     243.0\n21        60  '2020/12/21'    100       131     364.2\n22        45           NaN    100       119     282.0\n23        60  '2020/12/23'    100       101     300.0\n24        45  '2020/12/24'    100       132     246.0\n25        60  '2020/12/25'    100       126     334.5\n26        60      20201226    100       120     250.0\n27        60  '2020/12/27'     92       118     241.0\n28        60  '2020/12/28'    100       132       NaN\n29        60  '2020/12/29'    100       132     280.0\n30        60  '2020/12/30'    100       129     380.3\n31        60  '2020/12/31'     92       115     243.0",
            "text/html": "<div>\n<style scoped>\n    .dataframe tbody tr th:only-of-type {\n        vertical-align: middle;\n    }\n\n    .dataframe tbody tr th {\n        vertical-align: top;\n    }\n\n    .dataframe thead th {\n        text-align: right;\n    }\n</style>\n<table border=\"1\" class=\"dataframe\">\n  <thead>\n    <tr style=\"text-align: right;\">\n      <th></th>\n      <th>Duration</th>\n      <th>Date</th>\n      <th>Pulse</th>\n      <th>Maxpulse</th>\n      <th>Calories</th>\n    </tr>\n  </thead>\n  <tbody>\n    <tr>\n      <th>0</th>\n      <td>60</td>\n      <td>'2020/12/01'</td>\n      <td>100</td>\n      <td>130</td>\n      <td>409.1</td>\n    </tr>\n    <tr>\n      <th>1</th>\n      <td>60</td>\n      <td>'2020/12/02'</td>\n      <td>100</td>\n      <td>145</td>\n      <td>479.0</td>\n    </tr>\n    <tr>\n      <th>2</th>\n      <td>60</td>\n      <td>'2020/12/03'</td>\n      <td>100</td>\n      <td>135</td>\n      <td>340.0</td>\n    </tr>\n    <tr>\n      <th>3</th>\n      <td>45</td>\n      <td>'2020/12/04'</td>\n      <td>100</td>\n      <td>175</td>\n      <td>282.4</td>\n    </tr>\n    <tr>\n      <th>4</th>\n      <td>45</td>\n      <td>'2020/12/05'</td>\n      <td>100</td>\n      <td>148</td>\n      <td>406.0</td>\n    </tr>\n    <tr>\n      <th>5</th>\n      <td>60</td>\n      <td>'2020/12/06'</td>\n      <td>100</td>\n      <td>127</td>\n      <td>300.0</td>\n    </tr>\n    <tr>\n      <th>6</th>\n      <td>60</td>\n      <td>'2020/12/07'</td>\n      <td>100</td>\n      <td>136</td>\n      <td>374.0</td>\n    </tr>\n    <tr>\n      <th>7</th>\n      <td>45</td>\n      <td>'2020/12/08'</td>\n      <td>100</td>\n      <td>134</td>\n      <td>253.3</td>\n    </tr>\n    <tr>\n      <th>8</th>\n      <td>30</td>\n      <td>'2020/12/09'</td>\n      <td>100</td>\n      <td>133</td>\n      <td>195.1</td>\n    </tr>\n    <tr>\n      <th>9</th>\n      <td>60</td>\n      <td>'2020/12/10'</td>\n      <td>98</td>\n      <td>124</td>\n      <td>269.0</td>\n    </tr>\n    <tr>\n      <th>10</th>\n      <td>60</td>\n      <td>'2020/12/11'</td>\n      <td>100</td>\n      <td>147</td>\n      <td>329.3</td>\n    </tr>\n    <tr>\n      <th>11</th>\n      <td>60</td>\n      <td>'2020/12/12'</td>\n      <td>100</td>\n      <td>120</td>\n      <td>250.7</td>\n    </tr>\n    <tr>\n      <th>12</th>\n      <td>60</td>\n      <td>'2020/12/12'</td>\n      <td>100</td>\n      <td>120</td>\n      <td>250.7</td>\n    </tr>\n    <tr>\n      <th>13</th>\n      <td>60</td>\n      <td>'2020/12/13'</td>\n      <td>100</td>\n      <td>128</td>\n      <td>345.3</td>\n    </tr>\n    <tr>\n      <th>14</th>\n      <td>60</td>\n      <td>'2020/12/14'</td>\n      <td>100</td>\n      <td>132</td>\n      <td>379.3</td>\n    </tr>\n    <tr>\n      <th>15</th>\n      <td>60</td>\n      <td>'2020/12/15'</td>\n      <td>98</td>\n      <td>123</td>\n      <td>275.0</td>\n    </tr>\n    <tr>\n      <th>16</th>\n      <td>60</td>\n      <td>'2020/12/16'</td>\n      <td>98</td>\n      <td>120</td>\n      <td>215.2</td>\n    </tr>\n    <tr>\n      <th>17</th>\n      <td>60</td>\n      <td>'2020/12/17'</td>\n      <td>100</td>\n      <td>120</td>\n      <td>300.0</td>\n    </tr>\n    <tr>\n      <th>18</th>\n      <td>45</td>\n      <td>'2020/12/18'</td>\n      <td>90</td>\n      <td>112</td>\n      <td>NaN</td>\n    </tr>\n    <tr>\n      <th>19</th>\n      <td>60</td>\n      <td>'2020/12/19'</td>\n      <td>100</td>\n      <td>123</td>\n      <td>323.0</td>\n    </tr>\n    <tr>\n      <th>20</th>\n      <td>45</td>\n      <td>'2020/12/20'</td>\n      <td>97</td>\n      <td>125</td>\n      <td>243.0</td>\n    </tr>\n    <tr>\n      <th>21</th>\n      <td>60</td>\n      <td>'2020/12/21'</td>\n      <td>100</td>\n      <td>131</td>\n      <td>364.2</td>\n    </tr>\n    <tr>\n      <th>22</th>\n      <td>45</td>\n      <td>NaN</td>\n      <td>100</td>\n      <td>119</td>\n      <td>282.0</td>\n    </tr>\n    <tr>\n      <th>23</th>\n      <td>60</td>\n      <td>'2020/12/23'</td>\n      <td>100</td>\n      <td>101</td>\n      <td>300.0</td>\n    </tr>\n    <tr>\n      <th>24</th>\n      <td>45</td>\n      <td>'2020/12/24'</td>\n      <td>100</td>\n      <td>132</td>\n      <td>246.0</td>\n    </tr>\n    <tr>\n      <th>25</th>\n      <td>60</td>\n      <td>'2020/12/25'</td>\n      <td>100</td>\n      <td>126</td>\n      <td>334.5</td>\n    </tr>\n    <tr>\n      <th>26</th>\n      <td>60</td>\n      <td>20201226</td>\n      <td>100</td>\n      <td>120</td>\n      <td>250.0</td>\n    </tr>\n    <tr>\n      <th>27</th>\n      <td>60</td>\n      <td>'2020/12/27'</td>\n      <td>92</td>\n      <td>118</td>\n      <td>241.0</td>\n    </tr>\n    <tr>\n      <th>28</th>\n      <td>60</td>\n      <td>'2020/12/28'</td>\n      <td>100</td>\n      <td>132</td>\n      <td>NaN</td>\n    </tr>\n    <tr>\n      <th>29</th>\n      <td>60</td>\n      <td>'2020/12/29'</td>\n      <td>100</td>\n      <td>132</td>\n      <td>280.0</td>\n    </tr>\n    <tr>\n      <th>30</th>\n      <td>60</td>\n      <td>'2020/12/30'</td>\n      <td>100</td>\n      <td>129</td>\n      <td>380.3</td>\n    </tr>\n    <tr>\n      <th>31</th>\n      <td>60</td>\n      <td>'2020/12/31'</td>\n      <td>92</td>\n      <td>115</td>\n      <td>243.0</td>\n    </tr>\n  </tbody>\n</table>\n</div>"
          },
          "metadata": {}
        }
      ],
      "execution_count": 228
    },
    {
      "cell_type": "code",
      "source": "for x in df.index:\n  if df.loc[x, \"Maxpulse\"] > 120:\n    df.drop(x, inplace = True)",
      "metadata": {
        "trusted": true
      },
      "outputs": [],
      "execution_count": 229
    },
    {
      "cell_type": "code",
      "source": "df",
      "metadata": {
        "trusted": true
      },
      "outputs": [
        {
          "execution_count": 230,
          "output_type": "execute_result",
          "data": {
            "text/plain": "    Duration          Date  Pulse  Maxpulse  Calories\n11        60  '2020/12/12'    100       120     250.7\n12        60  '2020/12/12'    100       120     250.7\n16        60  '2020/12/16'     98       120     215.2\n17        60  '2020/12/17'    100       120     300.0\n18        45  '2020/12/18'     90       112       NaN\n22        45           NaN    100       119     282.0\n23        60  '2020/12/23'    100       101     300.0\n26        60      20201226    100       120     250.0\n27        60  '2020/12/27'     92       118     241.0\n31        60  '2020/12/31'     92       115     243.0",
            "text/html": "<div>\n<style scoped>\n    .dataframe tbody tr th:only-of-type {\n        vertical-align: middle;\n    }\n\n    .dataframe tbody tr th {\n        vertical-align: top;\n    }\n\n    .dataframe thead th {\n        text-align: right;\n    }\n</style>\n<table border=\"1\" class=\"dataframe\">\n  <thead>\n    <tr style=\"text-align: right;\">\n      <th></th>\n      <th>Duration</th>\n      <th>Date</th>\n      <th>Pulse</th>\n      <th>Maxpulse</th>\n      <th>Calories</th>\n    </tr>\n  </thead>\n  <tbody>\n    <tr>\n      <th>11</th>\n      <td>60</td>\n      <td>'2020/12/12'</td>\n      <td>100</td>\n      <td>120</td>\n      <td>250.7</td>\n    </tr>\n    <tr>\n      <th>12</th>\n      <td>60</td>\n      <td>'2020/12/12'</td>\n      <td>100</td>\n      <td>120</td>\n      <td>250.7</td>\n    </tr>\n    <tr>\n      <th>16</th>\n      <td>60</td>\n      <td>'2020/12/16'</td>\n      <td>98</td>\n      <td>120</td>\n      <td>215.2</td>\n    </tr>\n    <tr>\n      <th>17</th>\n      <td>60</td>\n      <td>'2020/12/17'</td>\n      <td>100</td>\n      <td>120</td>\n      <td>300.0</td>\n    </tr>\n    <tr>\n      <th>18</th>\n      <td>45</td>\n      <td>'2020/12/18'</td>\n      <td>90</td>\n      <td>112</td>\n      <td>NaN</td>\n    </tr>\n    <tr>\n      <th>22</th>\n      <td>45</td>\n      <td>NaN</td>\n      <td>100</td>\n      <td>119</td>\n      <td>282.0</td>\n    </tr>\n    <tr>\n      <th>23</th>\n      <td>60</td>\n      <td>'2020/12/23'</td>\n      <td>100</td>\n      <td>101</td>\n      <td>300.0</td>\n    </tr>\n    <tr>\n      <th>26</th>\n      <td>60</td>\n      <td>20201226</td>\n      <td>100</td>\n      <td>120</td>\n      <td>250.0</td>\n    </tr>\n    <tr>\n      <th>27</th>\n      <td>60</td>\n      <td>'2020/12/27'</td>\n      <td>92</td>\n      <td>118</td>\n      <td>241.0</td>\n    </tr>\n    <tr>\n      <th>31</th>\n      <td>60</td>\n      <td>'2020/12/31'</td>\n      <td>92</td>\n      <td>115</td>\n      <td>243.0</td>\n    </tr>\n  </tbody>\n</table>\n</div>"
          },
          "metadata": {}
        }
      ],
      "execution_count": 230
    },
    {
      "cell_type": "code",
      "source": "df = pd.read_csv('duplicates.csv')\n\nprint(df.duplicated())",
      "metadata": {
        "trusted": true
      },
      "outputs": [
        {
          "name": "stdout",
          "text": "0     False\n1     False\n2     False\n3     False\n4     False\n5     False\n6     False\n7     False\n8     False\n9     False\n10    False\n11    False\n12     True\n13    False\n14    False\n15    False\n16    False\n17    False\n18    False\n19    False\n20    False\n21    False\n22    False\n23    False\n24    False\n25    False\n26    False\n27    False\n28    False\n29    False\n30    False\n31    False\ndtype: bool\n",
          "output_type": "stream"
        }
      ],
      "execution_count": 231
    },
    {
      "cell_type": "code",
      "source": "df.drop_duplicates(inplace = True)",
      "metadata": {
        "trusted": true
      },
      "outputs": [],
      "execution_count": 232
    },
    {
      "cell_type": "code",
      "source": "df",
      "metadata": {
        "trusted": true
      },
      "outputs": [
        {
          "execution_count": 233,
          "output_type": "execute_result",
          "data": {
            "text/plain": "    Duration          Date  Pulse  Maxpulse  Calories\n0         60  '2020/12/01'    110       130     409.1\n1         60  '2020/12/02'    117       145     479.0\n2         60  '2020/12/03'    103       135     340.0\n3         45  '2020/12/04'    109       175     282.4\n4         45  '2020/12/05'    117       148     406.0\n5         60  '2020/12/06'    102       127     300.0\n6         60  '2020/12/07'    110       136     374.0\n7        450  '2020/12/08'    104       134     253.3\n8         30  '2020/12/09'    109       133     195.1\n9         60  '2020/12/10'     98       124     269.0\n10        60  '2020/12/11'    103       147     329.3\n11        60  '2020/12/12'    100       120     250.7\n13        60  '2020/12/13'    106       128     345.3\n14        60  '2020/12/14'    104       132     379.3\n15        60  '2020/12/15'     98       123     275.0\n16        60  '2020/12/16'     98       120     215.2\n17        60  '2020/12/17'    100       120     300.0\n18        45  '2020/12/18'     90       112       NaN\n19        60  '2020/12/19'    103       123     323.0\n20        45  '2020/12/20'     97       125     243.0\n21        60  '2020/12/21'    108       131     364.2\n22        45           NaN    100       119     282.0\n23        60  '2020/12/23'    130       101     300.0\n24        45  '2020/12/24'    105       132     246.0\n25        60  '2020/12/25'    102       126     334.5\n26        60      20201226    100       120     250.0\n27        60  '2020/12/27'     92       118     241.0\n28        60  '2020/12/28'    103       132       NaN\n29        60  '2020/12/29'    100       132     280.0\n30        60  '2020/12/30'    102       129     380.3\n31        60  '2020/12/31'     92       115     243.0",
            "text/html": "<div>\n<style scoped>\n    .dataframe tbody tr th:only-of-type {\n        vertical-align: middle;\n    }\n\n    .dataframe tbody tr th {\n        vertical-align: top;\n    }\n\n    .dataframe thead th {\n        text-align: right;\n    }\n</style>\n<table border=\"1\" class=\"dataframe\">\n  <thead>\n    <tr style=\"text-align: right;\">\n      <th></th>\n      <th>Duration</th>\n      <th>Date</th>\n      <th>Pulse</th>\n      <th>Maxpulse</th>\n      <th>Calories</th>\n    </tr>\n  </thead>\n  <tbody>\n    <tr>\n      <th>0</th>\n      <td>60</td>\n      <td>'2020/12/01'</td>\n      <td>110</td>\n      <td>130</td>\n      <td>409.1</td>\n    </tr>\n    <tr>\n      <th>1</th>\n      <td>60</td>\n      <td>'2020/12/02'</td>\n      <td>117</td>\n      <td>145</td>\n      <td>479.0</td>\n    </tr>\n    <tr>\n      <th>2</th>\n      <td>60</td>\n      <td>'2020/12/03'</td>\n      <td>103</td>\n      <td>135</td>\n      <td>340.0</td>\n    </tr>\n    <tr>\n      <th>3</th>\n      <td>45</td>\n      <td>'2020/12/04'</td>\n      <td>109</td>\n      <td>175</td>\n      <td>282.4</td>\n    </tr>\n    <tr>\n      <th>4</th>\n      <td>45</td>\n      <td>'2020/12/05'</td>\n      <td>117</td>\n      <td>148</td>\n      <td>406.0</td>\n    </tr>\n    <tr>\n      <th>5</th>\n      <td>60</td>\n      <td>'2020/12/06'</td>\n      <td>102</td>\n      <td>127</td>\n      <td>300.0</td>\n    </tr>\n    <tr>\n      <th>6</th>\n      <td>60</td>\n      <td>'2020/12/07'</td>\n      <td>110</td>\n      <td>136</td>\n      <td>374.0</td>\n    </tr>\n    <tr>\n      <th>7</th>\n      <td>450</td>\n      <td>'2020/12/08'</td>\n      <td>104</td>\n      <td>134</td>\n      <td>253.3</td>\n    </tr>\n    <tr>\n      <th>8</th>\n      <td>30</td>\n      <td>'2020/12/09'</td>\n      <td>109</td>\n      <td>133</td>\n      <td>195.1</td>\n    </tr>\n    <tr>\n      <th>9</th>\n      <td>60</td>\n      <td>'2020/12/10'</td>\n      <td>98</td>\n      <td>124</td>\n      <td>269.0</td>\n    </tr>\n    <tr>\n      <th>10</th>\n      <td>60</td>\n      <td>'2020/12/11'</td>\n      <td>103</td>\n      <td>147</td>\n      <td>329.3</td>\n    </tr>\n    <tr>\n      <th>11</th>\n      <td>60</td>\n      <td>'2020/12/12'</td>\n      <td>100</td>\n      <td>120</td>\n      <td>250.7</td>\n    </tr>\n    <tr>\n      <th>13</th>\n      <td>60</td>\n      <td>'2020/12/13'</td>\n      <td>106</td>\n      <td>128</td>\n      <td>345.3</td>\n    </tr>\n    <tr>\n      <th>14</th>\n      <td>60</td>\n      <td>'2020/12/14'</td>\n      <td>104</td>\n      <td>132</td>\n      <td>379.3</td>\n    </tr>\n    <tr>\n      <th>15</th>\n      <td>60</td>\n      <td>'2020/12/15'</td>\n      <td>98</td>\n      <td>123</td>\n      <td>275.0</td>\n    </tr>\n    <tr>\n      <th>16</th>\n      <td>60</td>\n      <td>'2020/12/16'</td>\n      <td>98</td>\n      <td>120</td>\n      <td>215.2</td>\n    </tr>\n    <tr>\n      <th>17</th>\n      <td>60</td>\n      <td>'2020/12/17'</td>\n      <td>100</td>\n      <td>120</td>\n      <td>300.0</td>\n    </tr>\n    <tr>\n      <th>18</th>\n      <td>45</td>\n      <td>'2020/12/18'</td>\n      <td>90</td>\n      <td>112</td>\n      <td>NaN</td>\n    </tr>\n    <tr>\n      <th>19</th>\n      <td>60</td>\n      <td>'2020/12/19'</td>\n      <td>103</td>\n      <td>123</td>\n      <td>323.0</td>\n    </tr>\n    <tr>\n      <th>20</th>\n      <td>45</td>\n      <td>'2020/12/20'</td>\n      <td>97</td>\n      <td>125</td>\n      <td>243.0</td>\n    </tr>\n    <tr>\n      <th>21</th>\n      <td>60</td>\n      <td>'2020/12/21'</td>\n      <td>108</td>\n      <td>131</td>\n      <td>364.2</td>\n    </tr>\n    <tr>\n      <th>22</th>\n      <td>45</td>\n      <td>NaN</td>\n      <td>100</td>\n      <td>119</td>\n      <td>282.0</td>\n    </tr>\n    <tr>\n      <th>23</th>\n      <td>60</td>\n      <td>'2020/12/23'</td>\n      <td>130</td>\n      <td>101</td>\n      <td>300.0</td>\n    </tr>\n    <tr>\n      <th>24</th>\n      <td>45</td>\n      <td>'2020/12/24'</td>\n      <td>105</td>\n      <td>132</td>\n      <td>246.0</td>\n    </tr>\n    <tr>\n      <th>25</th>\n      <td>60</td>\n      <td>'2020/12/25'</td>\n      <td>102</td>\n      <td>126</td>\n      <td>334.5</td>\n    </tr>\n    <tr>\n      <th>26</th>\n      <td>60</td>\n      <td>20201226</td>\n      <td>100</td>\n      <td>120</td>\n      <td>250.0</td>\n    </tr>\n    <tr>\n      <th>27</th>\n      <td>60</td>\n      <td>'2020/12/27'</td>\n      <td>92</td>\n      <td>118</td>\n      <td>241.0</td>\n    </tr>\n    <tr>\n      <th>28</th>\n      <td>60</td>\n      <td>'2020/12/28'</td>\n      <td>103</td>\n      <td>132</td>\n      <td>NaN</td>\n    </tr>\n    <tr>\n      <th>29</th>\n      <td>60</td>\n      <td>'2020/12/29'</td>\n      <td>100</td>\n      <td>132</td>\n      <td>280.0</td>\n    </tr>\n    <tr>\n      <th>30</th>\n      <td>60</td>\n      <td>'2020/12/30'</td>\n      <td>102</td>\n      <td>129</td>\n      <td>380.3</td>\n    </tr>\n    <tr>\n      <th>31</th>\n      <td>60</td>\n      <td>'2020/12/31'</td>\n      <td>92</td>\n      <td>115</td>\n      <td>243.0</td>\n    </tr>\n  </tbody>\n</table>\n</div>"
          },
          "metadata": {}
        }
      ],
      "execution_count": 233
    },
    {
      "cell_type": "code",
      "source": "print(df.duplicated())",
      "metadata": {
        "trusted": true
      },
      "outputs": [
        {
          "name": "stdout",
          "text": "0     False\n1     False\n2     False\n3     False\n4     False\n5     False\n6     False\n7     False\n8     False\n9     False\n10    False\n11    False\n13    False\n14    False\n15    False\n16    False\n17    False\n18    False\n19    False\n20    False\n21    False\n22    False\n23    False\n24    False\n25    False\n26    False\n27    False\n28    False\n29    False\n30    False\n31    False\ndtype: bool\n",
          "output_type": "stream"
        }
      ],
      "execution_count": 234
    },
    {
      "cell_type": "code",
      "source": "df = pd.read_csv('duplicates.csv')\n\ndf.corr()",
      "metadata": {
        "trusted": true
      },
      "outputs": [
        {
          "name": "stderr",
          "text": "<ipython-input-240-de72ddab7b6d>:3: FutureWarning: The default value of numeric_only in DataFrame.corr is deprecated. In a future version, it will default to False. Select only valid columns or specify the value of numeric_only to silence this warning.\n  df.corr()\n",
          "output_type": "stream"
        },
        {
          "execution_count": 240,
          "output_type": "execute_result",
          "data": {
            "text/plain": "          Duration     Pulse  Maxpulse  Calories\nDuration  1.000000  0.004410  0.049959 -0.114169\nPulse     0.004410  1.000000  0.276583  0.513186\nMaxpulse  0.049959  0.276583  1.000000  0.357460\nCalories -0.114169  0.513186  0.357460  1.000000",
            "text/html": "<div>\n<style scoped>\n    .dataframe tbody tr th:only-of-type {\n        vertical-align: middle;\n    }\n\n    .dataframe tbody tr th {\n        vertical-align: top;\n    }\n\n    .dataframe thead th {\n        text-align: right;\n    }\n</style>\n<table border=\"1\" class=\"dataframe\">\n  <thead>\n    <tr style=\"text-align: right;\">\n      <th></th>\n      <th>Duration</th>\n      <th>Pulse</th>\n      <th>Maxpulse</th>\n      <th>Calories</th>\n    </tr>\n  </thead>\n  <tbody>\n    <tr>\n      <th>Duration</th>\n      <td>1.000000</td>\n      <td>0.004410</td>\n      <td>0.049959</td>\n      <td>-0.114169</td>\n    </tr>\n    <tr>\n      <th>Pulse</th>\n      <td>0.004410</td>\n      <td>1.000000</td>\n      <td>0.276583</td>\n      <td>0.513186</td>\n    </tr>\n    <tr>\n      <th>Maxpulse</th>\n      <td>0.049959</td>\n      <td>0.276583</td>\n      <td>1.000000</td>\n      <td>0.357460</td>\n    </tr>\n    <tr>\n      <th>Calories</th>\n      <td>-0.114169</td>\n      <td>0.513186</td>\n      <td>0.357460</td>\n      <td>1.000000</td>\n    </tr>\n  </tbody>\n</table>\n</div>"
          },
          "metadata": {}
        }
      ],
      "execution_count": 240
    },
    {
      "cell_type": "code",
      "source": "",
      "metadata": {
        "trusted": true
      },
      "outputs": [],
      "execution_count": null
    }
  ]
}