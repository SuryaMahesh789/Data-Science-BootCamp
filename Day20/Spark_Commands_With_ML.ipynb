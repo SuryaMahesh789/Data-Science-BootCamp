{
 "cells": [
  {
   "cell_type": "markdown",
   "id": "75d6c040",
   "metadata": {},
   "source": [
    "### PySpark Dataframe\n",
    "- Reading The Dataset\n",
    "- Checking the Datatypes of the Column(Schema)\n",
    "- Selecting Columns And Indexing\n",
    "- Check Describe option similar to Pandas\n",
    "- Adding Columns\n",
    "- Dropping columns\n",
    "- Renaming Columns\n"
   ]
  },
  {
   "cell_type": "code",
   "execution_count": 2,
   "id": "a7b36955",
   "metadata": {},
   "outputs": [
    {
     "name": "stdout",
     "output_type": "stream",
     "text": [
      "Defaulting to user installation because normal site-packages is not writeable\n",
      "Requirement already satisfied: pyspark in c:\\users\\surya.mahesh\\appdata\\roaming\\python\\python311\\site-packages (3.5.2)\n",
      "Requirement already satisfied: py4j==0.10.9.7 in c:\\users\\surya.mahesh\\appdata\\roaming\\python\\python311\\site-packages (from pyspark) (0.10.9.7)\n",
      "Note: you may need to restart the kernel to use updated packages.\n"
     ]
    }
   ],
   "source": [
    "pip install pyspark"
   ]
  },
  {
   "cell_type": "code",
   "execution_count": 3,
   "id": "4003d04b",
   "metadata": {},
   "outputs": [],
   "source": [
    "from pyspark.sql import SparkSession"
   ]
  },
  {
   "cell_type": "code",
   "execution_count": 4,
   "id": "5570b030",
   "metadata": {},
   "outputs": [
    {
     "data": {
      "text/plain": [
       "pyspark.sql.session.SparkSession"
      ]
     },
     "execution_count": 4,
     "metadata": {},
     "output_type": "execute_result"
    }
   ],
   "source": [
    "SparkSession"
   ]
  },
  {
   "cell_type": "code",
   "execution_count": 5,
   "id": "0de2aa5b",
   "metadata": {},
   "outputs": [],
   "source": [
    "spark = SparkSession.builder.appName('SparkByExamples').getOrCreate()"
   ]
  },
  {
   "cell_type": "code",
   "execution_count": 6,
   "id": "1521e82b",
   "metadata": {},
   "outputs": [
    {
     "data": {
      "text/html": [
       "\n",
       "            <div>\n",
       "                <p><b>SparkSession - in-memory</b></p>\n",
       "                \n",
       "        <div>\n",
       "            <p><b>SparkContext</b></p>\n",
       "\n",
       "            <p><a href=\"http://SPNRNT0370.hosur.tvsmotor.co.in:4040\">Spark UI</a></p>\n",
       "\n",
       "            <dl>\n",
       "              <dt>Version</dt>\n",
       "                <dd><code>v3.5.2</code></dd>\n",
       "              <dt>Master</dt>\n",
       "                <dd><code>local[*]</code></dd>\n",
       "              <dt>AppName</dt>\n",
       "                <dd><code>SparkByExamples</code></dd>\n",
       "            </dl>\n",
       "        </div>\n",
       "        \n",
       "            </div>\n",
       "        "
      ],
      "text/plain": [
       "<pyspark.sql.session.SparkSession at 0x2e6a559b190>"
      ]
     },
     "execution_count": 6,
     "metadata": {},
     "output_type": "execute_result"
    }
   ],
   "source": [
    "spark"
   ]
  },
  {
   "cell_type": "code",
   "execution_count": 7,
   "id": "70293e75",
   "metadata": {},
   "outputs": [
    {
     "data": {
      "text/html": [
       "\n",
       "        <div>\n",
       "            <p><b>SparkContext</b></p>\n",
       "\n",
       "            <p><a href=\"http://SPNRNT0370.hosur.tvsmotor.co.in:4040\">Spark UI</a></p>\n",
       "\n",
       "            <dl>\n",
       "              <dt>Version</dt>\n",
       "                <dd><code>v3.5.2</code></dd>\n",
       "              <dt>Master</dt>\n",
       "                <dd><code>local[*]</code></dd>\n",
       "              <dt>AppName</dt>\n",
       "                <dd><code>SparkByExamples</code></dd>\n",
       "            </dl>\n",
       "        </div>\n",
       "        "
      ],
      "text/plain": [
       "<SparkContext master=local[*] appName=SparkByExamples>"
      ]
     },
     "execution_count": 7,
     "metadata": {},
     "output_type": "execute_result"
    }
   ],
   "source": [
    "spark.sparkContext"
   ]
  },
  {
   "cell_type": "code",
   "execution_count": 8,
   "id": "ea9f1f1e",
   "metadata": {},
   "outputs": [],
   "source": [
    "## READ THE DATASET"
   ]
  },
  {
   "cell_type": "code",
   "execution_count": 9,
   "id": "6f37b34c",
   "metadata": {},
   "outputs": [],
   "source": [
    "data=spark.read.csv('Educational_Universities_data.csv',header=True)"
   ]
  },
  {
   "cell_type": "code",
   "execution_count": 10,
   "id": "7934b707",
   "metadata": {},
   "outputs": [
    {
     "name": "stdout",
     "output_type": "stream",
     "text": [
      "root\n",
      " |-- Country: string (nullable = true)\n",
      " |-- State: string (nullable = true)\n",
      " |-- University Name: string (nullable = true)\n",
      " |-- Type of University: string (nullable = true)\n",
      " |-- Tie Up with University: string (nullable = true)\n",
      " |-- School: string (nullable = true)\n",
      " |-- Technologies/Courses Offered: string (nullable = true)\n",
      " |-- Course Types: string (nullable = true)\n",
      " |-- Unplaced %: string (nullable = true)\n",
      " |-- Corporate Tie Up: string (nullable = true)\n",
      " |-- Job Offering: string (nullable = true)\n",
      " |-- Internship: string (nullable = true)\n",
      " |-- Marketing Strategy: string (nullable = true)\n",
      " |-- Costing: string (nullable = true)\n",
      " |-- Hackathons: string (nullable = true)\n",
      " |-- Services Offered: string (nullable = true)\n",
      " |-- Scholarships: string (nullable = true)\n",
      " |-- Tier: string (nullable = true)\n",
      " |-- Ranking: string (nullable = true)\n",
      "\n"
     ]
    }
   ],
   "source": [
    "data.printSchema()"
   ]
  },
  {
   "cell_type": "code",
   "execution_count": 11,
   "id": "138187b5",
   "metadata": {},
   "outputs": [
    {
     "data": {
      "text/plain": [
       "DataFrame[Country: string, State: string, University Name: string, Type of University: string, Tie Up with University: string, School: string, Technologies/Courses Offered: string, Course Types: string, Unplaced %: string, Corporate Tie Up: string, Job Offering: string, Internship: string, Marketing Strategy: string, Costing: string, Hackathons: string, Services Offered: string, Scholarships: string, Tier: string, Ranking: string]"
      ]
     },
     "execution_count": 11,
     "metadata": {},
     "output_type": "execute_result"
    }
   ],
   "source": [
    "data"
   ]
  },
  {
   "cell_type": "code",
   "execution_count": 12,
   "id": "55e2ada4",
   "metadata": {},
   "outputs": [
    {
     "name": "stdout",
     "output_type": "stream",
     "text": [
      "+---------+--------------------+--------------------+------------------+----------------------+-----------+----------------------------+------------+----------+----------------+------------+----------+------------------+-------+----------+----------------+------------+------+-------+\n",
      "|  Country|               State|     University Name|Type of University|Tie Up with University|     School|Technologies/Courses Offered|Course Types|Unplaced %|Corporate Tie Up|Job Offering|Internship|Marketing Strategy|Costing|Hackathons|Services Offered|Scholarships|  Tier|Ranking|\n",
      "+---------+--------------------+--------------------+------------------+----------------------+-----------+----------------------------+------------+----------+----------------+------------+----------+------------------+-------+----------+----------------+------------+------+-------+\n",
      "|Australia|Australian Capita...|Australian Nation...|            Public|                    No|    Science|              Cyber Security|   Full-time|      6.59|              No|         Yes|        No|       Traditional| $41874|       Yes|      Consulting|          No|Tier 3|     24|\n",
      "|Australia|Australian Capita...|University of Can...|            Public|                   Yes|    Science|                          ML|      Online|      6.87|              No|          No|        No|       Traditional| $18404|       Yes|        Training|          No|Tier 1|    336|\n",
      "|Australia|     New South Wales|University of Sydney|           Private|                   Yes|Engineering|                          AI|   Full-time|     10.78|             Yes|          No|        No|              Both| $39218|       Yes|            Both|          No|Tier 1|     19|\n",
      "|Australia|     New South Wales|University of New...|           Private|                   Yes|       Arts|                         IoT|   Part-time|      5.23|              No|          No|        No|              Both| $19648|       Yes|      Consulting|          No|Tier 1|    429|\n",
      "|Australia|     New South Wales|University of New...|           Private|                   Yes|Engineering|              Cyber Security|   Part-time|     16.04|              No|         Yes|        No|       Traditional| $21278|       Yes|            Both|         Yes|Tier 2|    132|\n",
      "|Australia|     New South Wales|University of Wol...|           Private|                    No|       Arts|                          AI|   Full-time|      7.88|             Yes|         Yes|        No|       Traditional| $15774|       Yes|            Both|         Yes|Tier 1|     56|\n",
      "|Australia|     New South Wales|Macquarie University|           Private|                    No|   Business|              Cyber Security|   Part-time|     19.41|              No|         Yes|       Yes|           Digital| $34490|       Yes|            Both|         Yes|Tier 1|    648|\n",
      "|Australia|     New South Wales|University of Tec...|           Private|                    No|    Science|                Data Science|   Part-time|      5.95|             Yes|          No|       Yes|       Traditional| $32846|       Yes|            Both|         Yes|Tier 1|    940|\n",
      "|Australia|     New South Wales|Charles Sturt Uni...|            Public|                    No|    Science|                Data Science|   Full-time|     15.63|              No|         Yes|       Yes|              Both| $22312|        No|            Both|          No|Tier 1|      9|\n",
      "|Australia|     New South Wales|Southern Cross Un...|           Private|                    No|       Arts|                         IoT|   Part-time|      7.97|             Yes|          No|        No|       Traditional| $28211|       Yes|            Both|          No|Tier 1|    650|\n",
      "|Australia|     New South Wales|University of Div...|            Public|                    No|   Business|                          ML|   Full-time|     19.61|              No|          No|       Yes|           Digital| $36941|       Yes|            Both|          No|Tier 1|    868|\n",
      "|Australia|            Victoria|University of Mel...|            Public|                   Yes|       Arts|              Cyber Security|      Online|      9.17|             Yes|          No|        No|       Traditional| $14584|       Yes|            Both|         Yes|Tier 1|    722|\n",
      "|Australia|            Victoria|   Monash University|           Private|                   Yes|    Science|              Cyber Security|      Online|     15.64|              No|         Yes|        No|              Both| $33250|        No|      Consulting|         Yes|Tier 1|    505|\n",
      "|Australia|            Victoria|     RMIT University|            Public|                    No|       Arts|                          AI|   Full-time|      12.7|              No|          No|        No|              Both| $37466|       Yes|            Both|          No|Tier 2|    240|\n",
      "|Australia|            Victoria|   Deakin University|           Private|                   Yes|   Business|                          ML|   Part-time|     16.72|             Yes|         Yes|        No|              Both| $45827|       Yes|        Training|         Yes|Tier 2|    957|\n",
      "|Australia|            Victoria| La Trobe University|            Public|                   Yes|   Business|                          AI|   Full-time|     15.72|             Yes|         Yes|       Yes|              Both| $49984|        No|      Consulting|          No|Tier 2|    250|\n",
      "|Australia|            Victoria| Victoria University|           Private|                    No|    Science|                Data Science|      Online|     10.62|             Yes|          No|        No|           Digital| $34270|       Yes|      Consulting|          No|Tier 2|     43|\n",
      "|Australia|          Queensland|University of Que...|           Private|                    No|   Business|              Cyber Security|      Online|      7.73|             Yes|          No|       Yes|           Digital| $13507|        No|            Both|          No|Tier 1|    202|\n",
      "|Australia|          Queensland|Queensland Univer...|            Public|                    No|    Science|                         IoT|      Online|      9.03|              No|          No|        No|       Traditional| $15391|        No|        Training|         Yes|Tier 1|    879|\n",
      "|Australia|          Queensland| Griffith University|            Public|                   Yes|Engineering|                         IoT|      Online|      8.22|             Yes|          No|       Yes|           Digital| $41341|       Yes|        Training|          No|Tier 2|    480|\n",
      "+---------+--------------------+--------------------+------------------+----------------------+-----------+----------------------------+------------+----------+----------------+------------+----------+------------------+-------+----------+----------------+------------+------+-------+\n",
      "only showing top 20 rows\n",
      "\n"
     ]
    }
   ],
   "source": [
    "data.show()"
   ]
  },
  {
   "cell_type": "code",
   "execution_count": 13,
   "id": "e9f24853",
   "metadata": {},
   "outputs": [
    {
     "data": {
      "text/plain": [
       "pyspark.sql.dataframe.DataFrame"
      ]
     },
     "execution_count": 13,
     "metadata": {},
     "output_type": "execute_result"
    }
   ],
   "source": [
    "type(data)"
   ]
  },
  {
   "cell_type": "code",
   "execution_count": 14,
   "id": "5be3aa88",
   "metadata": {},
   "outputs": [
    {
     "data": {
      "text/html": [
       "<div>\n",
       "<style scoped>\n",
       "    .dataframe tbody tr th:only-of-type {\n",
       "        vertical-align: middle;\n",
       "    }\n",
       "\n",
       "    .dataframe tbody tr th {\n",
       "        vertical-align: top;\n",
       "    }\n",
       "\n",
       "    .dataframe thead th {\n",
       "        text-align: right;\n",
       "    }\n",
       "</style>\n",
       "<table border=\"1\" class=\"dataframe\">\n",
       "  <thead>\n",
       "    <tr style=\"text-align: right;\">\n",
       "      <th></th>\n",
       "      <th>Country</th>\n",
       "      <th>State</th>\n",
       "      <th>University Name</th>\n",
       "      <th>Type of University</th>\n",
       "      <th>Tie Up with University</th>\n",
       "      <th>School</th>\n",
       "      <th>Technologies/Courses Offered</th>\n",
       "      <th>Course Types</th>\n",
       "      <th>Unplaced %</th>\n",
       "      <th>Corporate Tie Up</th>\n",
       "      <th>Job Offering</th>\n",
       "      <th>Internship</th>\n",
       "      <th>Marketing Strategy</th>\n",
       "      <th>Costing</th>\n",
       "      <th>Hackathons</th>\n",
       "      <th>Services Offered</th>\n",
       "      <th>Scholarships</th>\n",
       "      <th>Tier</th>\n",
       "      <th>Ranking</th>\n",
       "    </tr>\n",
       "  </thead>\n",
       "  <tbody>\n",
       "    <tr>\n",
       "      <th>0</th>\n",
       "      <td>Australia</td>\n",
       "      <td>Australian Capital Territory</td>\n",
       "      <td>Australian National University (ANU)</td>\n",
       "      <td>Public</td>\n",
       "      <td>No</td>\n",
       "      <td>Science</td>\n",
       "      <td>Cyber Security</td>\n",
       "      <td>Full-time</td>\n",
       "      <td>6.59</td>\n",
       "      <td>No</td>\n",
       "      <td>Yes</td>\n",
       "      <td>No</td>\n",
       "      <td>Traditional</td>\n",
       "      <td>$41874</td>\n",
       "      <td>Yes</td>\n",
       "      <td>Consulting</td>\n",
       "      <td>No</td>\n",
       "      <td>Tier 3</td>\n",
       "      <td>24</td>\n",
       "    </tr>\n",
       "    <tr>\n",
       "      <th>1</th>\n",
       "      <td>Australia</td>\n",
       "      <td>Australian Capital Territory</td>\n",
       "      <td>University of Canberra</td>\n",
       "      <td>Public</td>\n",
       "      <td>Yes</td>\n",
       "      <td>Science</td>\n",
       "      <td>ML</td>\n",
       "      <td>Online</td>\n",
       "      <td>6.87</td>\n",
       "      <td>No</td>\n",
       "      <td>No</td>\n",
       "      <td>No</td>\n",
       "      <td>Traditional</td>\n",
       "      <td>$18404</td>\n",
       "      <td>Yes</td>\n",
       "      <td>Training</td>\n",
       "      <td>No</td>\n",
       "      <td>Tier 1</td>\n",
       "      <td>336</td>\n",
       "    </tr>\n",
       "    <tr>\n",
       "      <th>2</th>\n",
       "      <td>Australia</td>\n",
       "      <td>New South Wales</td>\n",
       "      <td>University of Sydney</td>\n",
       "      <td>Private</td>\n",
       "      <td>Yes</td>\n",
       "      <td>Engineering</td>\n",
       "      <td>AI</td>\n",
       "      <td>Full-time</td>\n",
       "      <td>10.78</td>\n",
       "      <td>Yes</td>\n",
       "      <td>No</td>\n",
       "      <td>No</td>\n",
       "      <td>Both</td>\n",
       "      <td>$39218</td>\n",
       "      <td>Yes</td>\n",
       "      <td>Both</td>\n",
       "      <td>No</td>\n",
       "      <td>Tier 1</td>\n",
       "      <td>19</td>\n",
       "    </tr>\n",
       "    <tr>\n",
       "      <th>3</th>\n",
       "      <td>Australia</td>\n",
       "      <td>New South Wales</td>\n",
       "      <td>University of New South Wales (UNSW Sydney)</td>\n",
       "      <td>Private</td>\n",
       "      <td>Yes</td>\n",
       "      <td>Arts</td>\n",
       "      <td>IoT</td>\n",
       "      <td>Part-time</td>\n",
       "      <td>5.23</td>\n",
       "      <td>No</td>\n",
       "      <td>No</td>\n",
       "      <td>No</td>\n",
       "      <td>Both</td>\n",
       "      <td>$19648</td>\n",
       "      <td>Yes</td>\n",
       "      <td>Consulting</td>\n",
       "      <td>No</td>\n",
       "      <td>Tier 1</td>\n",
       "      <td>429</td>\n",
       "    </tr>\n",
       "    <tr>\n",
       "      <th>4</th>\n",
       "      <td>Australia</td>\n",
       "      <td>New South Wales</td>\n",
       "      <td>University of Newcastle</td>\n",
       "      <td>Private</td>\n",
       "      <td>Yes</td>\n",
       "      <td>Engineering</td>\n",
       "      <td>Cyber Security</td>\n",
       "      <td>Part-time</td>\n",
       "      <td>16.04</td>\n",
       "      <td>No</td>\n",
       "      <td>Yes</td>\n",
       "      <td>No</td>\n",
       "      <td>Traditional</td>\n",
       "      <td>$21278</td>\n",
       "      <td>Yes</td>\n",
       "      <td>Both</td>\n",
       "      <td>Yes</td>\n",
       "      <td>Tier 2</td>\n",
       "      <td>132</td>\n",
       "    </tr>\n",
       "    <tr>\n",
       "      <th>...</th>\n",
       "      <td>...</td>\n",
       "      <td>...</td>\n",
       "      <td>...</td>\n",
       "      <td>...</td>\n",
       "      <td>...</td>\n",
       "      <td>...</td>\n",
       "      <td>...</td>\n",
       "      <td>...</td>\n",
       "      <td>...</td>\n",
       "      <td>...</td>\n",
       "      <td>...</td>\n",
       "      <td>...</td>\n",
       "      <td>...</td>\n",
       "      <td>...</td>\n",
       "      <td>...</td>\n",
       "      <td>...</td>\n",
       "      <td>...</td>\n",
       "      <td>...</td>\n",
       "      <td>...</td>\n",
       "    </tr>\n",
       "    <tr>\n",
       "      <th>242</th>\n",
       "      <td>Jordan</td>\n",
       "      <td>Zarqa</td>\n",
       "      <td>Al-Zarqa Private University</td>\n",
       "      <td>Public</td>\n",
       "      <td>No</td>\n",
       "      <td>Arts</td>\n",
       "      <td>Cyber Security</td>\n",
       "      <td>Part-time</td>\n",
       "      <td>14.49</td>\n",
       "      <td>No</td>\n",
       "      <td>Yes</td>\n",
       "      <td>Yes</td>\n",
       "      <td>Digital</td>\n",
       "      <td>$21300</td>\n",
       "      <td>Yes</td>\n",
       "      <td>Both</td>\n",
       "      <td>No</td>\n",
       "      <td>Tier 3</td>\n",
       "      <td>270</td>\n",
       "    </tr>\n",
       "    <tr>\n",
       "      <th>243</th>\n",
       "      <td>Jordan</td>\n",
       "      <td>Madaba</td>\n",
       "      <td>American University of Madaba</td>\n",
       "      <td>Private</td>\n",
       "      <td>No</td>\n",
       "      <td>Arts</td>\n",
       "      <td>AI</td>\n",
       "      <td>Online</td>\n",
       "      <td>17.82</td>\n",
       "      <td>Yes</td>\n",
       "      <td>Yes</td>\n",
       "      <td>No</td>\n",
       "      <td>Traditional</td>\n",
       "      <td>$28886</td>\n",
       "      <td>No</td>\n",
       "      <td>Training</td>\n",
       "      <td>No</td>\n",
       "      <td>Tier 3</td>\n",
       "      <td>869</td>\n",
       "    </tr>\n",
       "    <tr>\n",
       "      <th>244</th>\n",
       "      <td>Jordan</td>\n",
       "      <td>Ajloun</td>\n",
       "      <td>Ajloun National University</td>\n",
       "      <td>Private</td>\n",
       "      <td>Yes</td>\n",
       "      <td>Engineering</td>\n",
       "      <td>IoT</td>\n",
       "      <td>Part-time</td>\n",
       "      <td>10.07</td>\n",
       "      <td>No</td>\n",
       "      <td>No</td>\n",
       "      <td>No</td>\n",
       "      <td>Traditional</td>\n",
       "      <td>$28004</td>\n",
       "      <td>Yes</td>\n",
       "      <td>Training</td>\n",
       "      <td>Yes</td>\n",
       "      <td>Tier 1</td>\n",
       "      <td>463</td>\n",
       "    </tr>\n",
       "    <tr>\n",
       "      <th>245</th>\n",
       "      <td>Jordan</td>\n",
       "      <td>Mafraq</td>\n",
       "      <td>Al al-Bayt University</td>\n",
       "      <td>Private</td>\n",
       "      <td>No</td>\n",
       "      <td>Arts</td>\n",
       "      <td>AI</td>\n",
       "      <td>Full-time</td>\n",
       "      <td>7.76</td>\n",
       "      <td>Yes</td>\n",
       "      <td>Yes</td>\n",
       "      <td>Yes</td>\n",
       "      <td>Digital</td>\n",
       "      <td>$22407</td>\n",
       "      <td>No</td>\n",
       "      <td>Consulting</td>\n",
       "      <td>No</td>\n",
       "      <td>Tier 1</td>\n",
       "      <td>650</td>\n",
       "    </tr>\n",
       "    <tr>\n",
       "      <th>246</th>\n",
       "      <td>Jordan</td>\n",
       "      <td>Karak</td>\n",
       "      <td>Mutah University</td>\n",
       "      <td>Public</td>\n",
       "      <td>Yes</td>\n",
       "      <td>Arts</td>\n",
       "      <td>IoT</td>\n",
       "      <td>Part-time</td>\n",
       "      <td>16.13</td>\n",
       "      <td>Yes</td>\n",
       "      <td>No</td>\n",
       "      <td>Yes</td>\n",
       "      <td>Digital</td>\n",
       "      <td>$39328</td>\n",
       "      <td>Yes</td>\n",
       "      <td>Consulting</td>\n",
       "      <td>No</td>\n",
       "      <td>Tier 3</td>\n",
       "      <td>360</td>\n",
       "    </tr>\n",
       "  </tbody>\n",
       "</table>\n",
       "<p>247 rows × 19 columns</p>\n",
       "</div>"
      ],
      "text/plain": [
       "       Country                         State  \\\n",
       "0    Australia  Australian Capital Territory   \n",
       "1    Australia  Australian Capital Territory   \n",
       "2    Australia               New South Wales   \n",
       "3    Australia               New South Wales   \n",
       "4    Australia               New South Wales   \n",
       "..         ...                           ...   \n",
       "242     Jordan                         Zarqa   \n",
       "243     Jordan                        Madaba   \n",
       "244     Jordan                        Ajloun   \n",
       "245     Jordan                        Mafraq   \n",
       "246     Jordan                         Karak   \n",
       "\n",
       "                                 University Name Type of University  \\\n",
       "0           Australian National University (ANU)             Public   \n",
       "1                         University of Canberra             Public   \n",
       "2                           University of Sydney            Private   \n",
       "3    University of New South Wales (UNSW Sydney)            Private   \n",
       "4                        University of Newcastle            Private   \n",
       "..                                           ...                ...   \n",
       "242                  Al-Zarqa Private University             Public   \n",
       "243                American University of Madaba            Private   \n",
       "244                   Ajloun National University            Private   \n",
       "245                        Al al-Bayt University            Private   \n",
       "246                             Mutah University             Public   \n",
       "\n",
       "    Tie Up with University       School Technologies/Courses Offered  \\\n",
       "0                       No      Science               Cyber Security   \n",
       "1                      Yes      Science                           ML   \n",
       "2                      Yes  Engineering                           AI   \n",
       "3                      Yes         Arts                          IoT   \n",
       "4                      Yes  Engineering               Cyber Security   \n",
       "..                     ...          ...                          ...   \n",
       "242                     No         Arts               Cyber Security   \n",
       "243                     No         Arts                           AI   \n",
       "244                    Yes  Engineering                          IoT   \n",
       "245                     No         Arts                           AI   \n",
       "246                    Yes         Arts                          IoT   \n",
       "\n",
       "    Course Types Unplaced % Corporate Tie Up Job Offering Internship  \\\n",
       "0      Full-time       6.59               No          Yes         No   \n",
       "1         Online       6.87               No           No         No   \n",
       "2      Full-time      10.78              Yes           No         No   \n",
       "3      Part-time       5.23               No           No         No   \n",
       "4      Part-time      16.04               No          Yes         No   \n",
       "..           ...        ...              ...          ...        ...   \n",
       "242    Part-time      14.49               No          Yes        Yes   \n",
       "243       Online      17.82              Yes          Yes         No   \n",
       "244    Part-time      10.07               No           No         No   \n",
       "245    Full-time       7.76              Yes          Yes        Yes   \n",
       "246    Part-time      16.13              Yes           No        Yes   \n",
       "\n",
       "    Marketing Strategy Costing Hackathons Services Offered Scholarships  \\\n",
       "0          Traditional  $41874        Yes       Consulting           No   \n",
       "1          Traditional  $18404        Yes         Training           No   \n",
       "2                 Both  $39218        Yes             Both           No   \n",
       "3                 Both  $19648        Yes       Consulting           No   \n",
       "4          Traditional  $21278        Yes             Both          Yes   \n",
       "..                 ...     ...        ...              ...          ...   \n",
       "242            Digital  $21300        Yes             Both           No   \n",
       "243        Traditional  $28886         No         Training           No   \n",
       "244        Traditional  $28004        Yes         Training          Yes   \n",
       "245            Digital  $22407         No       Consulting           No   \n",
       "246            Digital  $39328        Yes       Consulting           No   \n",
       "\n",
       "       Tier Ranking  \n",
       "0    Tier 3      24  \n",
       "1    Tier 1     336  \n",
       "2    Tier 1      19  \n",
       "3    Tier 1     429  \n",
       "4    Tier 2     132  \n",
       "..      ...     ...  \n",
       "242  Tier 3     270  \n",
       "243  Tier 3     869  \n",
       "244  Tier 1     463  \n",
       "245  Tier 1     650  \n",
       "246  Tier 3     360  \n",
       "\n",
       "[247 rows x 19 columns]"
      ]
     },
     "execution_count": 14,
     "metadata": {},
     "output_type": "execute_result"
    }
   ],
   "source": [
    "data.toPandas()"
   ]
  },
  {
   "cell_type": "code",
   "execution_count": 15,
   "id": "0205a342",
   "metadata": {},
   "outputs": [
    {
     "data": {
      "text/plain": [
       "Row(Country='Australia', State='Australian Capital Territory', University Name='Australian National University (ANU)', Type of University='Public', Tie Up with University='No', School='Science', Technologies/Courses Offered='Cyber Security', Course Types='Full-time', Unplaced %='6.59', Corporate Tie Up='No', Job Offering='Yes', Internship='No', Marketing Strategy='Traditional', Costing='$41874', Hackathons='Yes', Services Offered='Consulting', Scholarships='No', Tier='Tier 3', Ranking='24')"
      ]
     },
     "execution_count": 15,
     "metadata": {},
     "output_type": "execute_result"
    }
   ],
   "source": [
    "data.head()"
   ]
  },
  {
   "cell_type": "code",
   "execution_count": 16,
   "id": "5ad8e8ec",
   "metadata": {},
   "outputs": [
    {
     "data": {
      "text/plain": [
       "pyspark.sql.dataframe.DataFrame"
      ]
     },
     "execution_count": 16,
     "metadata": {},
     "output_type": "execute_result"
    }
   ],
   "source": [
    "type(data)"
   ]
  },
  {
   "cell_type": "code",
   "execution_count": 17,
   "id": "2c073fd9",
   "metadata": {},
   "outputs": [],
   "source": [
    "data.createOrReplaceTempView(\"data_view\")"
   ]
  },
  {
   "cell_type": "code",
   "execution_count": 18,
   "id": "1179d0e4",
   "metadata": {},
   "outputs": [],
   "source": [
    "query= \"SELECT * from data_view LIMIT 1\""
   ]
  },
  {
   "cell_type": "code",
   "execution_count": 19,
   "id": "73574274",
   "metadata": {},
   "outputs": [
    {
     "data": {
      "text/plain": [
       "'SELECT * from data_view LIMIT 1'"
      ]
     },
     "execution_count": 19,
     "metadata": {},
     "output_type": "execute_result"
    }
   ],
   "source": [
    "query"
   ]
  },
  {
   "cell_type": "code",
   "execution_count": 20,
   "id": "8cae46a0",
   "metadata": {},
   "outputs": [],
   "source": [
    "result=spark.sql(query)"
   ]
  },
  {
   "cell_type": "code",
   "execution_count": 21,
   "id": "6309b589",
   "metadata": {},
   "outputs": [
    {
     "name": "stdout",
     "output_type": "stream",
     "text": [
      "+---------+--------------------+--------------------+------------------+----------------------+-------+----------------------------+------------+----------+----------------+------------+----------+------------------+-------+----------+----------------+------------+------+-------+\n",
      "|  Country|               State|     University Name|Type of University|Tie Up with University| School|Technologies/Courses Offered|Course Types|Unplaced %|Corporate Tie Up|Job Offering|Internship|Marketing Strategy|Costing|Hackathons|Services Offered|Scholarships|  Tier|Ranking|\n",
      "+---------+--------------------+--------------------+------------------+----------------------+-------+----------------------------+------------+----------+----------------+------------+----------+------------------+-------+----------+----------------+------------+------+-------+\n",
      "|Australia|Australian Capita...|Australian Nation...|            Public|                    No|Science|              Cyber Security|   Full-time|      6.59|              No|         Yes|        No|       Traditional| $41874|       Yes|      Consulting|          No|Tier 3|     24|\n",
      "+---------+--------------------+--------------------+------------------+----------------------+-------+----------------------------+------------+----------+----------------+------------+----------+------------------+-------+----------+----------------+------------+------+-------+\n",
      "\n"
     ]
    }
   ],
   "source": [
    "result.show()"
   ]
  },
  {
   "cell_type": "code",
   "execution_count": 22,
   "id": "13cbc3e8",
   "metadata": {},
   "outputs": [],
   "source": [
    "df=data.toPandas()"
   ]
  },
  {
   "cell_type": "code",
   "execution_count": 23,
   "id": "5b242a25",
   "metadata": {},
   "outputs": [
    {
     "data": {
      "text/html": [
       "<div>\n",
       "<style scoped>\n",
       "    .dataframe tbody tr th:only-of-type {\n",
       "        vertical-align: middle;\n",
       "    }\n",
       "\n",
       "    .dataframe tbody tr th {\n",
       "        vertical-align: top;\n",
       "    }\n",
       "\n",
       "    .dataframe thead th {\n",
       "        text-align: right;\n",
       "    }\n",
       "</style>\n",
       "<table border=\"1\" class=\"dataframe\">\n",
       "  <thead>\n",
       "    <tr style=\"text-align: right;\">\n",
       "      <th></th>\n",
       "      <th>Country</th>\n",
       "      <th>State</th>\n",
       "      <th>University Name</th>\n",
       "      <th>Type of University</th>\n",
       "      <th>Tie Up with University</th>\n",
       "      <th>School</th>\n",
       "      <th>Technologies/Courses Offered</th>\n",
       "      <th>Course Types</th>\n",
       "      <th>Unplaced %</th>\n",
       "      <th>Corporate Tie Up</th>\n",
       "      <th>Job Offering</th>\n",
       "      <th>Internship</th>\n",
       "      <th>Marketing Strategy</th>\n",
       "      <th>Costing</th>\n",
       "      <th>Hackathons</th>\n",
       "      <th>Services Offered</th>\n",
       "      <th>Scholarships</th>\n",
       "      <th>Tier</th>\n",
       "      <th>Ranking</th>\n",
       "    </tr>\n",
       "  </thead>\n",
       "  <tbody>\n",
       "    <tr>\n",
       "      <th>0</th>\n",
       "      <td>Australia</td>\n",
       "      <td>Australian Capital Territory</td>\n",
       "      <td>Australian National University (ANU)</td>\n",
       "      <td>Public</td>\n",
       "      <td>No</td>\n",
       "      <td>Science</td>\n",
       "      <td>Cyber Security</td>\n",
       "      <td>Full-time</td>\n",
       "      <td>6.59</td>\n",
       "      <td>No</td>\n",
       "      <td>Yes</td>\n",
       "      <td>No</td>\n",
       "      <td>Traditional</td>\n",
       "      <td>$41874</td>\n",
       "      <td>Yes</td>\n",
       "      <td>Consulting</td>\n",
       "      <td>No</td>\n",
       "      <td>Tier 3</td>\n",
       "      <td>24</td>\n",
       "    </tr>\n",
       "    <tr>\n",
       "      <th>1</th>\n",
       "      <td>Australia</td>\n",
       "      <td>Australian Capital Territory</td>\n",
       "      <td>University of Canberra</td>\n",
       "      <td>Public</td>\n",
       "      <td>Yes</td>\n",
       "      <td>Science</td>\n",
       "      <td>ML</td>\n",
       "      <td>Online</td>\n",
       "      <td>6.87</td>\n",
       "      <td>No</td>\n",
       "      <td>No</td>\n",
       "      <td>No</td>\n",
       "      <td>Traditional</td>\n",
       "      <td>$18404</td>\n",
       "      <td>Yes</td>\n",
       "      <td>Training</td>\n",
       "      <td>No</td>\n",
       "      <td>Tier 1</td>\n",
       "      <td>336</td>\n",
       "    </tr>\n",
       "    <tr>\n",
       "      <th>2</th>\n",
       "      <td>Australia</td>\n",
       "      <td>New South Wales</td>\n",
       "      <td>University of Sydney</td>\n",
       "      <td>Private</td>\n",
       "      <td>Yes</td>\n",
       "      <td>Engineering</td>\n",
       "      <td>AI</td>\n",
       "      <td>Full-time</td>\n",
       "      <td>10.78</td>\n",
       "      <td>Yes</td>\n",
       "      <td>No</td>\n",
       "      <td>No</td>\n",
       "      <td>Both</td>\n",
       "      <td>$39218</td>\n",
       "      <td>Yes</td>\n",
       "      <td>Both</td>\n",
       "      <td>No</td>\n",
       "      <td>Tier 1</td>\n",
       "      <td>19</td>\n",
       "    </tr>\n",
       "    <tr>\n",
       "      <th>3</th>\n",
       "      <td>Australia</td>\n",
       "      <td>New South Wales</td>\n",
       "      <td>University of New South Wales (UNSW Sydney)</td>\n",
       "      <td>Private</td>\n",
       "      <td>Yes</td>\n",
       "      <td>Arts</td>\n",
       "      <td>IoT</td>\n",
       "      <td>Part-time</td>\n",
       "      <td>5.23</td>\n",
       "      <td>No</td>\n",
       "      <td>No</td>\n",
       "      <td>No</td>\n",
       "      <td>Both</td>\n",
       "      <td>$19648</td>\n",
       "      <td>Yes</td>\n",
       "      <td>Consulting</td>\n",
       "      <td>No</td>\n",
       "      <td>Tier 1</td>\n",
       "      <td>429</td>\n",
       "    </tr>\n",
       "    <tr>\n",
       "      <th>4</th>\n",
       "      <td>Australia</td>\n",
       "      <td>New South Wales</td>\n",
       "      <td>University of Newcastle</td>\n",
       "      <td>Private</td>\n",
       "      <td>Yes</td>\n",
       "      <td>Engineering</td>\n",
       "      <td>Cyber Security</td>\n",
       "      <td>Part-time</td>\n",
       "      <td>16.04</td>\n",
       "      <td>No</td>\n",
       "      <td>Yes</td>\n",
       "      <td>No</td>\n",
       "      <td>Traditional</td>\n",
       "      <td>$21278</td>\n",
       "      <td>Yes</td>\n",
       "      <td>Both</td>\n",
       "      <td>Yes</td>\n",
       "      <td>Tier 2</td>\n",
       "      <td>132</td>\n",
       "    </tr>\n",
       "    <tr>\n",
       "      <th>...</th>\n",
       "      <td>...</td>\n",
       "      <td>...</td>\n",
       "      <td>...</td>\n",
       "      <td>...</td>\n",
       "      <td>...</td>\n",
       "      <td>...</td>\n",
       "      <td>...</td>\n",
       "      <td>...</td>\n",
       "      <td>...</td>\n",
       "      <td>...</td>\n",
       "      <td>...</td>\n",
       "      <td>...</td>\n",
       "      <td>...</td>\n",
       "      <td>...</td>\n",
       "      <td>...</td>\n",
       "      <td>...</td>\n",
       "      <td>...</td>\n",
       "      <td>...</td>\n",
       "      <td>...</td>\n",
       "    </tr>\n",
       "    <tr>\n",
       "      <th>242</th>\n",
       "      <td>Jordan</td>\n",
       "      <td>Zarqa</td>\n",
       "      <td>Al-Zarqa Private University</td>\n",
       "      <td>Public</td>\n",
       "      <td>No</td>\n",
       "      <td>Arts</td>\n",
       "      <td>Cyber Security</td>\n",
       "      <td>Part-time</td>\n",
       "      <td>14.49</td>\n",
       "      <td>No</td>\n",
       "      <td>Yes</td>\n",
       "      <td>Yes</td>\n",
       "      <td>Digital</td>\n",
       "      <td>$21300</td>\n",
       "      <td>Yes</td>\n",
       "      <td>Both</td>\n",
       "      <td>No</td>\n",
       "      <td>Tier 3</td>\n",
       "      <td>270</td>\n",
       "    </tr>\n",
       "    <tr>\n",
       "      <th>243</th>\n",
       "      <td>Jordan</td>\n",
       "      <td>Madaba</td>\n",
       "      <td>American University of Madaba</td>\n",
       "      <td>Private</td>\n",
       "      <td>No</td>\n",
       "      <td>Arts</td>\n",
       "      <td>AI</td>\n",
       "      <td>Online</td>\n",
       "      <td>17.82</td>\n",
       "      <td>Yes</td>\n",
       "      <td>Yes</td>\n",
       "      <td>No</td>\n",
       "      <td>Traditional</td>\n",
       "      <td>$28886</td>\n",
       "      <td>No</td>\n",
       "      <td>Training</td>\n",
       "      <td>No</td>\n",
       "      <td>Tier 3</td>\n",
       "      <td>869</td>\n",
       "    </tr>\n",
       "    <tr>\n",
       "      <th>244</th>\n",
       "      <td>Jordan</td>\n",
       "      <td>Ajloun</td>\n",
       "      <td>Ajloun National University</td>\n",
       "      <td>Private</td>\n",
       "      <td>Yes</td>\n",
       "      <td>Engineering</td>\n",
       "      <td>IoT</td>\n",
       "      <td>Part-time</td>\n",
       "      <td>10.07</td>\n",
       "      <td>No</td>\n",
       "      <td>No</td>\n",
       "      <td>No</td>\n",
       "      <td>Traditional</td>\n",
       "      <td>$28004</td>\n",
       "      <td>Yes</td>\n",
       "      <td>Training</td>\n",
       "      <td>Yes</td>\n",
       "      <td>Tier 1</td>\n",
       "      <td>463</td>\n",
       "    </tr>\n",
       "    <tr>\n",
       "      <th>245</th>\n",
       "      <td>Jordan</td>\n",
       "      <td>Mafraq</td>\n",
       "      <td>Al al-Bayt University</td>\n",
       "      <td>Private</td>\n",
       "      <td>No</td>\n",
       "      <td>Arts</td>\n",
       "      <td>AI</td>\n",
       "      <td>Full-time</td>\n",
       "      <td>7.76</td>\n",
       "      <td>Yes</td>\n",
       "      <td>Yes</td>\n",
       "      <td>Yes</td>\n",
       "      <td>Digital</td>\n",
       "      <td>$22407</td>\n",
       "      <td>No</td>\n",
       "      <td>Consulting</td>\n",
       "      <td>No</td>\n",
       "      <td>Tier 1</td>\n",
       "      <td>650</td>\n",
       "    </tr>\n",
       "    <tr>\n",
       "      <th>246</th>\n",
       "      <td>Jordan</td>\n",
       "      <td>Karak</td>\n",
       "      <td>Mutah University</td>\n",
       "      <td>Public</td>\n",
       "      <td>Yes</td>\n",
       "      <td>Arts</td>\n",
       "      <td>IoT</td>\n",
       "      <td>Part-time</td>\n",
       "      <td>16.13</td>\n",
       "      <td>Yes</td>\n",
       "      <td>No</td>\n",
       "      <td>Yes</td>\n",
       "      <td>Digital</td>\n",
       "      <td>$39328</td>\n",
       "      <td>Yes</td>\n",
       "      <td>Consulting</td>\n",
       "      <td>No</td>\n",
       "      <td>Tier 3</td>\n",
       "      <td>360</td>\n",
       "    </tr>\n",
       "  </tbody>\n",
       "</table>\n",
       "<p>247 rows × 19 columns</p>\n",
       "</div>"
      ],
      "text/plain": [
       "       Country                         State  \\\n",
       "0    Australia  Australian Capital Territory   \n",
       "1    Australia  Australian Capital Territory   \n",
       "2    Australia               New South Wales   \n",
       "3    Australia               New South Wales   \n",
       "4    Australia               New South Wales   \n",
       "..         ...                           ...   \n",
       "242     Jordan                         Zarqa   \n",
       "243     Jordan                        Madaba   \n",
       "244     Jordan                        Ajloun   \n",
       "245     Jordan                        Mafraq   \n",
       "246     Jordan                         Karak   \n",
       "\n",
       "                                 University Name Type of University  \\\n",
       "0           Australian National University (ANU)             Public   \n",
       "1                         University of Canberra             Public   \n",
       "2                           University of Sydney            Private   \n",
       "3    University of New South Wales (UNSW Sydney)            Private   \n",
       "4                        University of Newcastle            Private   \n",
       "..                                           ...                ...   \n",
       "242                  Al-Zarqa Private University             Public   \n",
       "243                American University of Madaba            Private   \n",
       "244                   Ajloun National University            Private   \n",
       "245                        Al al-Bayt University            Private   \n",
       "246                             Mutah University             Public   \n",
       "\n",
       "    Tie Up with University       School Technologies/Courses Offered  \\\n",
       "0                       No      Science               Cyber Security   \n",
       "1                      Yes      Science                           ML   \n",
       "2                      Yes  Engineering                           AI   \n",
       "3                      Yes         Arts                          IoT   \n",
       "4                      Yes  Engineering               Cyber Security   \n",
       "..                     ...          ...                          ...   \n",
       "242                     No         Arts               Cyber Security   \n",
       "243                     No         Arts                           AI   \n",
       "244                    Yes  Engineering                          IoT   \n",
       "245                     No         Arts                           AI   \n",
       "246                    Yes         Arts                          IoT   \n",
       "\n",
       "    Course Types Unplaced % Corporate Tie Up Job Offering Internship  \\\n",
       "0      Full-time       6.59               No          Yes         No   \n",
       "1         Online       6.87               No           No         No   \n",
       "2      Full-time      10.78              Yes           No         No   \n",
       "3      Part-time       5.23               No           No         No   \n",
       "4      Part-time      16.04               No          Yes         No   \n",
       "..           ...        ...              ...          ...        ...   \n",
       "242    Part-time      14.49               No          Yes        Yes   \n",
       "243       Online      17.82              Yes          Yes         No   \n",
       "244    Part-time      10.07               No           No         No   \n",
       "245    Full-time       7.76              Yes          Yes        Yes   \n",
       "246    Part-time      16.13              Yes           No        Yes   \n",
       "\n",
       "    Marketing Strategy Costing Hackathons Services Offered Scholarships  \\\n",
       "0          Traditional  $41874        Yes       Consulting           No   \n",
       "1          Traditional  $18404        Yes         Training           No   \n",
       "2                 Both  $39218        Yes             Both           No   \n",
       "3                 Both  $19648        Yes       Consulting           No   \n",
       "4          Traditional  $21278        Yes             Both          Yes   \n",
       "..                 ...     ...        ...              ...          ...   \n",
       "242            Digital  $21300        Yes             Both           No   \n",
       "243        Traditional  $28886         No         Training           No   \n",
       "244        Traditional  $28004        Yes         Training          Yes   \n",
       "245            Digital  $22407         No       Consulting           No   \n",
       "246            Digital  $39328        Yes       Consulting           No   \n",
       "\n",
       "       Tier Ranking  \n",
       "0    Tier 3      24  \n",
       "1    Tier 1     336  \n",
       "2    Tier 1      19  \n",
       "3    Tier 1     429  \n",
       "4    Tier 2     132  \n",
       "..      ...     ...  \n",
       "242  Tier 3     270  \n",
       "243  Tier 3     869  \n",
       "244  Tier 1     463  \n",
       "245  Tier 1     650  \n",
       "246  Tier 3     360  \n",
       "\n",
       "[247 rows x 19 columns]"
      ]
     },
     "execution_count": 23,
     "metadata": {},
     "output_type": "execute_result"
    }
   ],
   "source": [
    "df"
   ]
  },
  {
   "cell_type": "code",
   "execution_count": 24,
   "id": "8173232c",
   "metadata": {},
   "outputs": [],
   "source": [
    "result_df=result.toPandas()"
   ]
  },
  {
   "cell_type": "code",
   "execution_count": 25,
   "id": "4688aea3",
   "metadata": {},
   "outputs": [
    {
     "data": {
      "text/html": [
       "<div>\n",
       "<style scoped>\n",
       "    .dataframe tbody tr th:only-of-type {\n",
       "        vertical-align: middle;\n",
       "    }\n",
       "\n",
       "    .dataframe tbody tr th {\n",
       "        vertical-align: top;\n",
       "    }\n",
       "\n",
       "    .dataframe thead th {\n",
       "        text-align: right;\n",
       "    }\n",
       "</style>\n",
       "<table border=\"1\" class=\"dataframe\">\n",
       "  <thead>\n",
       "    <tr style=\"text-align: right;\">\n",
       "      <th></th>\n",
       "      <th>Country</th>\n",
       "      <th>State</th>\n",
       "      <th>University Name</th>\n",
       "      <th>Type of University</th>\n",
       "      <th>Tie Up with University</th>\n",
       "      <th>School</th>\n",
       "      <th>Technologies/Courses Offered</th>\n",
       "      <th>Course Types</th>\n",
       "      <th>Unplaced %</th>\n",
       "      <th>Corporate Tie Up</th>\n",
       "      <th>Job Offering</th>\n",
       "      <th>Internship</th>\n",
       "      <th>Marketing Strategy</th>\n",
       "      <th>Costing</th>\n",
       "      <th>Hackathons</th>\n",
       "      <th>Services Offered</th>\n",
       "      <th>Scholarships</th>\n",
       "      <th>Tier</th>\n",
       "      <th>Ranking</th>\n",
       "    </tr>\n",
       "  </thead>\n",
       "  <tbody>\n",
       "    <tr>\n",
       "      <th>0</th>\n",
       "      <td>Australia</td>\n",
       "      <td>Australian Capital Territory</td>\n",
       "      <td>Australian National University (ANU)</td>\n",
       "      <td>Public</td>\n",
       "      <td>No</td>\n",
       "      <td>Science</td>\n",
       "      <td>Cyber Security</td>\n",
       "      <td>Full-time</td>\n",
       "      <td>6.59</td>\n",
       "      <td>No</td>\n",
       "      <td>Yes</td>\n",
       "      <td>No</td>\n",
       "      <td>Traditional</td>\n",
       "      <td>$41874</td>\n",
       "      <td>Yes</td>\n",
       "      <td>Consulting</td>\n",
       "      <td>No</td>\n",
       "      <td>Tier 3</td>\n",
       "      <td>24</td>\n",
       "    </tr>\n",
       "  </tbody>\n",
       "</table>\n",
       "</div>"
      ],
      "text/plain": [
       "     Country                         State  \\\n",
       "0  Australia  Australian Capital Territory   \n",
       "\n",
       "                        University Name Type of University  \\\n",
       "0  Australian National University (ANU)             Public   \n",
       "\n",
       "  Tie Up with University   School Technologies/Courses Offered Course Types  \\\n",
       "0                     No  Science               Cyber Security    Full-time   \n",
       "\n",
       "  Unplaced % Corporate Tie Up Job Offering Internship Marketing Strategy  \\\n",
       "0       6.59               No          Yes         No        Traditional   \n",
       "\n",
       "  Costing Hackathons Services Offered Scholarships    Tier Ranking  \n",
       "0  $41874        Yes       Consulting           No  Tier 3      24  "
      ]
     },
     "execution_count": 25,
     "metadata": {},
     "output_type": "execute_result"
    }
   ],
   "source": [
    "result_df"
   ]
  },
  {
   "cell_type": "code",
   "execution_count": 26,
   "id": "cdd6fc6e",
   "metadata": {},
   "outputs": [
    {
     "data": {
      "text/html": [
       "<div>\n",
       "<style scoped>\n",
       "    .dataframe tbody tr th:only-of-type {\n",
       "        vertical-align: middle;\n",
       "    }\n",
       "\n",
       "    .dataframe tbody tr th {\n",
       "        vertical-align: top;\n",
       "    }\n",
       "\n",
       "    .dataframe thead th {\n",
       "        text-align: right;\n",
       "    }\n",
       "</style>\n",
       "<table border=\"1\" class=\"dataframe\">\n",
       "  <thead>\n",
       "    <tr style=\"text-align: right;\">\n",
       "      <th></th>\n",
       "      <th>Country</th>\n",
       "      <th>State</th>\n",
       "      <th>University Name</th>\n",
       "      <th>Type of University</th>\n",
       "      <th>Tie Up with University</th>\n",
       "      <th>School</th>\n",
       "      <th>Technologies/Courses Offered</th>\n",
       "      <th>Course Types</th>\n",
       "      <th>Unplaced %</th>\n",
       "      <th>Corporate Tie Up</th>\n",
       "      <th>Job Offering</th>\n",
       "      <th>Internship</th>\n",
       "      <th>Marketing Strategy</th>\n",
       "      <th>Costing</th>\n",
       "      <th>Hackathons</th>\n",
       "      <th>Services Offered</th>\n",
       "      <th>Scholarships</th>\n",
       "      <th>Tier</th>\n",
       "      <th>Ranking</th>\n",
       "    </tr>\n",
       "  </thead>\n",
       "  <tbody>\n",
       "    <tr>\n",
       "      <th>0</th>\n",
       "      <td>Australia</td>\n",
       "      <td>Australian Capital Territory</td>\n",
       "      <td>Australian National University (ANU)</td>\n",
       "      <td>Public</td>\n",
       "      <td>No</td>\n",
       "      <td>Science</td>\n",
       "      <td>Cyber Security</td>\n",
       "      <td>Full-time</td>\n",
       "      <td>6.59</td>\n",
       "      <td>No</td>\n",
       "      <td>Yes</td>\n",
       "      <td>No</td>\n",
       "      <td>Traditional</td>\n",
       "      <td>$41874</td>\n",
       "      <td>Yes</td>\n",
       "      <td>Consulting</td>\n",
       "      <td>No</td>\n",
       "      <td>Tier 3</td>\n",
       "      <td>24</td>\n",
       "    </tr>\n",
       "  </tbody>\n",
       "</table>\n",
       "</div>"
      ],
      "text/plain": [
       "     Country                         State  \\\n",
       "0  Australia  Australian Capital Territory   \n",
       "\n",
       "                        University Name Type of University  \\\n",
       "0  Australian National University (ANU)             Public   \n",
       "\n",
       "  Tie Up with University   School Technologies/Courses Offered Course Types  \\\n",
       "0                     No  Science               Cyber Security    Full-time   \n",
       "\n",
       "  Unplaced % Corporate Tie Up Job Offering Internship Marketing Strategy  \\\n",
       "0       6.59               No          Yes         No        Traditional   \n",
       "\n",
       "  Costing Hackathons Services Offered Scholarships    Tier Ranking  \n",
       "0  $41874        Yes       Consulting           No  Tier 3      24  "
      ]
     },
     "execution_count": 26,
     "metadata": {},
     "output_type": "execute_result"
    }
   ],
   "source": [
    "result.toPandas()"
   ]
  },
  {
   "cell_type": "code",
   "execution_count": 27,
   "id": "97cb804c",
   "metadata": {},
   "outputs": [
    {
     "data": {
      "text/html": [
       "<div>\n",
       "<style scoped>\n",
       "    .dataframe tbody tr th:only-of-type {\n",
       "        vertical-align: middle;\n",
       "    }\n",
       "\n",
       "    .dataframe tbody tr th {\n",
       "        vertical-align: top;\n",
       "    }\n",
       "\n",
       "    .dataframe thead th {\n",
       "        text-align: right;\n",
       "    }\n",
       "</style>\n",
       "<table border=\"1\" class=\"dataframe\">\n",
       "  <thead>\n",
       "    <tr style=\"text-align: right;\">\n",
       "      <th></th>\n",
       "      <th>Country</th>\n",
       "      <th>State</th>\n",
       "      <th>University Name</th>\n",
       "      <th>Type of University</th>\n",
       "      <th>Tie Up with University</th>\n",
       "      <th>School</th>\n",
       "      <th>Technologies/Courses Offered</th>\n",
       "      <th>Course Types</th>\n",
       "      <th>Unplaced %</th>\n",
       "      <th>Corporate Tie Up</th>\n",
       "      <th>Job Offering</th>\n",
       "      <th>Internship</th>\n",
       "      <th>Marketing Strategy</th>\n",
       "      <th>Costing</th>\n",
       "      <th>Hackathons</th>\n",
       "      <th>Services Offered</th>\n",
       "      <th>Scholarships</th>\n",
       "      <th>Tier</th>\n",
       "      <th>Ranking</th>\n",
       "    </tr>\n",
       "  </thead>\n",
       "  <tbody>\n",
       "    <tr>\n",
       "      <th>0</th>\n",
       "      <td>Australia</td>\n",
       "      <td>Australian Capital Territory</td>\n",
       "      <td>Australian National University (ANU)</td>\n",
       "      <td>Public</td>\n",
       "      <td>No</td>\n",
       "      <td>Science</td>\n",
       "      <td>Cyber Security</td>\n",
       "      <td>Full-time</td>\n",
       "      <td>6.59</td>\n",
       "      <td>No</td>\n",
       "      <td>Yes</td>\n",
       "      <td>No</td>\n",
       "      <td>Traditional</td>\n",
       "      <td>$41874</td>\n",
       "      <td>Yes</td>\n",
       "      <td>Consulting</td>\n",
       "      <td>No</td>\n",
       "      <td>Tier 3</td>\n",
       "      <td>24</td>\n",
       "    </tr>\n",
       "    <tr>\n",
       "      <th>1</th>\n",
       "      <td>Australia</td>\n",
       "      <td>Australian Capital Territory</td>\n",
       "      <td>University of Canberra</td>\n",
       "      <td>Public</td>\n",
       "      <td>Yes</td>\n",
       "      <td>Science</td>\n",
       "      <td>ML</td>\n",
       "      <td>Online</td>\n",
       "      <td>6.87</td>\n",
       "      <td>No</td>\n",
       "      <td>No</td>\n",
       "      <td>No</td>\n",
       "      <td>Traditional</td>\n",
       "      <td>$18404</td>\n",
       "      <td>Yes</td>\n",
       "      <td>Training</td>\n",
       "      <td>No</td>\n",
       "      <td>Tier 1</td>\n",
       "      <td>336</td>\n",
       "    </tr>\n",
       "    <tr>\n",
       "      <th>2</th>\n",
       "      <td>Australia</td>\n",
       "      <td>New South Wales</td>\n",
       "      <td>University of Sydney</td>\n",
       "      <td>Private</td>\n",
       "      <td>Yes</td>\n",
       "      <td>Engineering</td>\n",
       "      <td>AI</td>\n",
       "      <td>Full-time</td>\n",
       "      <td>10.78</td>\n",
       "      <td>Yes</td>\n",
       "      <td>No</td>\n",
       "      <td>No</td>\n",
       "      <td>Both</td>\n",
       "      <td>$39218</td>\n",
       "      <td>Yes</td>\n",
       "      <td>Both</td>\n",
       "      <td>No</td>\n",
       "      <td>Tier 1</td>\n",
       "      <td>19</td>\n",
       "    </tr>\n",
       "    <tr>\n",
       "      <th>3</th>\n",
       "      <td>Australia</td>\n",
       "      <td>New South Wales</td>\n",
       "      <td>University of New South Wales (UNSW Sydney)</td>\n",
       "      <td>Private</td>\n",
       "      <td>Yes</td>\n",
       "      <td>Arts</td>\n",
       "      <td>IoT</td>\n",
       "      <td>Part-time</td>\n",
       "      <td>5.23</td>\n",
       "      <td>No</td>\n",
       "      <td>No</td>\n",
       "      <td>No</td>\n",
       "      <td>Both</td>\n",
       "      <td>$19648</td>\n",
       "      <td>Yes</td>\n",
       "      <td>Consulting</td>\n",
       "      <td>No</td>\n",
       "      <td>Tier 1</td>\n",
       "      <td>429</td>\n",
       "    </tr>\n",
       "    <tr>\n",
       "      <th>4</th>\n",
       "      <td>Australia</td>\n",
       "      <td>New South Wales</td>\n",
       "      <td>University of Newcastle</td>\n",
       "      <td>Private</td>\n",
       "      <td>Yes</td>\n",
       "      <td>Engineering</td>\n",
       "      <td>Cyber Security</td>\n",
       "      <td>Part-time</td>\n",
       "      <td>16.04</td>\n",
       "      <td>No</td>\n",
       "      <td>Yes</td>\n",
       "      <td>No</td>\n",
       "      <td>Traditional</td>\n",
       "      <td>$21278</td>\n",
       "      <td>Yes</td>\n",
       "      <td>Both</td>\n",
       "      <td>Yes</td>\n",
       "      <td>Tier 2</td>\n",
       "      <td>132</td>\n",
       "    </tr>\n",
       "    <tr>\n",
       "      <th>...</th>\n",
       "      <td>...</td>\n",
       "      <td>...</td>\n",
       "      <td>...</td>\n",
       "      <td>...</td>\n",
       "      <td>...</td>\n",
       "      <td>...</td>\n",
       "      <td>...</td>\n",
       "      <td>...</td>\n",
       "      <td>...</td>\n",
       "      <td>...</td>\n",
       "      <td>...</td>\n",
       "      <td>...</td>\n",
       "      <td>...</td>\n",
       "      <td>...</td>\n",
       "      <td>...</td>\n",
       "      <td>...</td>\n",
       "      <td>...</td>\n",
       "      <td>...</td>\n",
       "      <td>...</td>\n",
       "    </tr>\n",
       "    <tr>\n",
       "      <th>242</th>\n",
       "      <td>Jordan</td>\n",
       "      <td>Zarqa</td>\n",
       "      <td>Al-Zarqa Private University</td>\n",
       "      <td>Public</td>\n",
       "      <td>No</td>\n",
       "      <td>Arts</td>\n",
       "      <td>Cyber Security</td>\n",
       "      <td>Part-time</td>\n",
       "      <td>14.49</td>\n",
       "      <td>No</td>\n",
       "      <td>Yes</td>\n",
       "      <td>Yes</td>\n",
       "      <td>Digital</td>\n",
       "      <td>$21300</td>\n",
       "      <td>Yes</td>\n",
       "      <td>Both</td>\n",
       "      <td>No</td>\n",
       "      <td>Tier 3</td>\n",
       "      <td>270</td>\n",
       "    </tr>\n",
       "    <tr>\n",
       "      <th>243</th>\n",
       "      <td>Jordan</td>\n",
       "      <td>Madaba</td>\n",
       "      <td>American University of Madaba</td>\n",
       "      <td>Private</td>\n",
       "      <td>No</td>\n",
       "      <td>Arts</td>\n",
       "      <td>AI</td>\n",
       "      <td>Online</td>\n",
       "      <td>17.82</td>\n",
       "      <td>Yes</td>\n",
       "      <td>Yes</td>\n",
       "      <td>No</td>\n",
       "      <td>Traditional</td>\n",
       "      <td>$28886</td>\n",
       "      <td>No</td>\n",
       "      <td>Training</td>\n",
       "      <td>No</td>\n",
       "      <td>Tier 3</td>\n",
       "      <td>869</td>\n",
       "    </tr>\n",
       "    <tr>\n",
       "      <th>244</th>\n",
       "      <td>Jordan</td>\n",
       "      <td>Ajloun</td>\n",
       "      <td>Ajloun National University</td>\n",
       "      <td>Private</td>\n",
       "      <td>Yes</td>\n",
       "      <td>Engineering</td>\n",
       "      <td>IoT</td>\n",
       "      <td>Part-time</td>\n",
       "      <td>10.07</td>\n",
       "      <td>No</td>\n",
       "      <td>No</td>\n",
       "      <td>No</td>\n",
       "      <td>Traditional</td>\n",
       "      <td>$28004</td>\n",
       "      <td>Yes</td>\n",
       "      <td>Training</td>\n",
       "      <td>Yes</td>\n",
       "      <td>Tier 1</td>\n",
       "      <td>463</td>\n",
       "    </tr>\n",
       "    <tr>\n",
       "      <th>245</th>\n",
       "      <td>Jordan</td>\n",
       "      <td>Mafraq</td>\n",
       "      <td>Al al-Bayt University</td>\n",
       "      <td>Private</td>\n",
       "      <td>No</td>\n",
       "      <td>Arts</td>\n",
       "      <td>AI</td>\n",
       "      <td>Full-time</td>\n",
       "      <td>7.76</td>\n",
       "      <td>Yes</td>\n",
       "      <td>Yes</td>\n",
       "      <td>Yes</td>\n",
       "      <td>Digital</td>\n",
       "      <td>$22407</td>\n",
       "      <td>No</td>\n",
       "      <td>Consulting</td>\n",
       "      <td>No</td>\n",
       "      <td>Tier 1</td>\n",
       "      <td>650</td>\n",
       "    </tr>\n",
       "    <tr>\n",
       "      <th>246</th>\n",
       "      <td>Jordan</td>\n",
       "      <td>Karak</td>\n",
       "      <td>Mutah University</td>\n",
       "      <td>Public</td>\n",
       "      <td>Yes</td>\n",
       "      <td>Arts</td>\n",
       "      <td>IoT</td>\n",
       "      <td>Part-time</td>\n",
       "      <td>16.13</td>\n",
       "      <td>Yes</td>\n",
       "      <td>No</td>\n",
       "      <td>Yes</td>\n",
       "      <td>Digital</td>\n",
       "      <td>$39328</td>\n",
       "      <td>Yes</td>\n",
       "      <td>Consulting</td>\n",
       "      <td>No</td>\n",
       "      <td>Tier 3</td>\n",
       "      <td>360</td>\n",
       "    </tr>\n",
       "  </tbody>\n",
       "</table>\n",
       "<p>247 rows × 19 columns</p>\n",
       "</div>"
      ],
      "text/plain": [
       "       Country                         State  \\\n",
       "0    Australia  Australian Capital Territory   \n",
       "1    Australia  Australian Capital Territory   \n",
       "2    Australia               New South Wales   \n",
       "3    Australia               New South Wales   \n",
       "4    Australia               New South Wales   \n",
       "..         ...                           ...   \n",
       "242     Jordan                         Zarqa   \n",
       "243     Jordan                        Madaba   \n",
       "244     Jordan                        Ajloun   \n",
       "245     Jordan                        Mafraq   \n",
       "246     Jordan                         Karak   \n",
       "\n",
       "                                 University Name Type of University  \\\n",
       "0           Australian National University (ANU)             Public   \n",
       "1                         University of Canberra             Public   \n",
       "2                           University of Sydney            Private   \n",
       "3    University of New South Wales (UNSW Sydney)            Private   \n",
       "4                        University of Newcastle            Private   \n",
       "..                                           ...                ...   \n",
       "242                  Al-Zarqa Private University             Public   \n",
       "243                American University of Madaba            Private   \n",
       "244                   Ajloun National University            Private   \n",
       "245                        Al al-Bayt University            Private   \n",
       "246                             Mutah University             Public   \n",
       "\n",
       "    Tie Up with University       School Technologies/Courses Offered  \\\n",
       "0                       No      Science               Cyber Security   \n",
       "1                      Yes      Science                           ML   \n",
       "2                      Yes  Engineering                           AI   \n",
       "3                      Yes         Arts                          IoT   \n",
       "4                      Yes  Engineering               Cyber Security   \n",
       "..                     ...          ...                          ...   \n",
       "242                     No         Arts               Cyber Security   \n",
       "243                     No         Arts                           AI   \n",
       "244                    Yes  Engineering                          IoT   \n",
       "245                     No         Arts                           AI   \n",
       "246                    Yes         Arts                          IoT   \n",
       "\n",
       "    Course Types Unplaced % Corporate Tie Up Job Offering Internship  \\\n",
       "0      Full-time       6.59               No          Yes         No   \n",
       "1         Online       6.87               No           No         No   \n",
       "2      Full-time      10.78              Yes           No         No   \n",
       "3      Part-time       5.23               No           No         No   \n",
       "4      Part-time      16.04               No          Yes         No   \n",
       "..           ...        ...              ...          ...        ...   \n",
       "242    Part-time      14.49               No          Yes        Yes   \n",
       "243       Online      17.82              Yes          Yes         No   \n",
       "244    Part-time      10.07               No           No         No   \n",
       "245    Full-time       7.76              Yes          Yes        Yes   \n",
       "246    Part-time      16.13              Yes           No        Yes   \n",
       "\n",
       "    Marketing Strategy Costing Hackathons Services Offered Scholarships  \\\n",
       "0          Traditional  $41874        Yes       Consulting           No   \n",
       "1          Traditional  $18404        Yes         Training           No   \n",
       "2                 Both  $39218        Yes             Both           No   \n",
       "3                 Both  $19648        Yes       Consulting           No   \n",
       "4          Traditional  $21278        Yes             Both          Yes   \n",
       "..                 ...     ...        ...              ...          ...   \n",
       "242            Digital  $21300        Yes             Both           No   \n",
       "243        Traditional  $28886         No         Training           No   \n",
       "244        Traditional  $28004        Yes         Training          Yes   \n",
       "245            Digital  $22407         No       Consulting           No   \n",
       "246            Digital  $39328        Yes       Consulting           No   \n",
       "\n",
       "       Tier Ranking  \n",
       "0    Tier 3      24  \n",
       "1    Tier 1     336  \n",
       "2    Tier 1      19  \n",
       "3    Tier 1     429  \n",
       "4    Tier 2     132  \n",
       "..      ...     ...  \n",
       "242  Tier 3     270  \n",
       "243  Tier 3     869  \n",
       "244  Tier 1     463  \n",
       "245  Tier 1     650  \n",
       "246  Tier 3     360  \n",
       "\n",
       "[247 rows x 19 columns]"
      ]
     },
     "execution_count": 27,
     "metadata": {},
     "output_type": "execute_result"
    }
   ],
   "source": [
    "data.toPandas()"
   ]
  },
  {
   "cell_type": "code",
   "execution_count": 28,
   "id": "c84e6412",
   "metadata": {},
   "outputs": [],
   "source": [
    "query = \"SELECT Country,State,School,Ranking FROM data_view order by Ranking ASC\""
   ]
  },
  {
   "cell_type": "code",
   "execution_count": 29,
   "id": "3c7a870d",
   "metadata": {},
   "outputs": [
    {
     "data": {
      "text/plain": [
       "'SELECT Country,State,School,Ranking FROM data_view order by Ranking ASC'"
      ]
     },
     "execution_count": 29,
     "metadata": {},
     "output_type": "execute_result"
    }
   ],
   "source": [
    "query"
   ]
  },
  {
   "cell_type": "code",
   "execution_count": 30,
   "id": "6a5cad8a",
   "metadata": {},
   "outputs": [],
   "source": [
    "result=spark.sql(query)"
   ]
  },
  {
   "cell_type": "code",
   "execution_count": 31,
   "id": "7707437b",
   "metadata": {},
   "outputs": [
    {
     "name": "stdout",
     "output_type": "stream",
     "text": [
      "+------------+---------------+-----------+-------+\n",
      "|     Country|          State|     School|Ranking|\n",
      "+------------+---------------+-----------+-------+\n",
      "|        Oman|          Sohar|    Science|    106|\n",
      "|Saudi Arabia|         Dammam|    Science|    108|\n",
      "|     Lebanon|         Beirut|    Science|    114|\n",
      "|     Lebanon|         Beirut|    Science|    117|\n",
      "|        Iraq|          Wasit|       Arts|    119|\n",
      "|      Kuwait|    Kuwait City|   Business|    120|\n",
      "|     Lebanon|         Beirut|   Business|    129|\n",
      "|   Australia|New South Wales|Engineering|    132|\n",
      "|       Qatar|           Doha|    Science|    132|\n",
      "|       Egypt|          Cairo|    Science|    133|\n",
      "|Saudi Arabia|         Riyadh|    Science|    136|\n",
      "|   Palestine|        Tulkarm|    Science|    136|\n",
      "|     Lebanon|         Beirut|Engineering|    144|\n",
      "|       Syria|      Al-Safira|Engineering|    147|\n",
      "|       Syria|    Al-Zabadani|Engineering|    155|\n",
      "|     Bahrain|         Manama|   Business|    161|\n",
      "|      Jordan|          Amman|    Science|    163|\n",
      "|     Lebanon|         Beirut|Engineering|    164|\n",
      "|      Jordan|          Amman|       Arts|    168|\n",
      "|Saudi Arabia|          Tabuk|       Arts|    173|\n",
      "+------------+---------------+-----------+-------+\n",
      "only showing top 20 rows\n",
      "\n"
     ]
    }
   ],
   "source": [
    "result.show()"
   ]
  },
  {
   "cell_type": "code",
   "execution_count": 32,
   "id": "b067d7b1",
   "metadata": {},
   "outputs": [
    {
     "data": {
      "text/html": [
       "<div>\n",
       "<style scoped>\n",
       "    .dataframe tbody tr th:only-of-type {\n",
       "        vertical-align: middle;\n",
       "    }\n",
       "\n",
       "    .dataframe tbody tr th {\n",
       "        vertical-align: top;\n",
       "    }\n",
       "\n",
       "    .dataframe thead th {\n",
       "        text-align: right;\n",
       "    }\n",
       "</style>\n",
       "<table border=\"1\" class=\"dataframe\">\n",
       "  <thead>\n",
       "    <tr style=\"text-align: right;\">\n",
       "      <th></th>\n",
       "      <th>Country</th>\n",
       "      <th>State</th>\n",
       "      <th>School</th>\n",
       "      <th>Ranking</th>\n",
       "    </tr>\n",
       "  </thead>\n",
       "  <tbody>\n",
       "    <tr>\n",
       "      <th>0</th>\n",
       "      <td>Oman</td>\n",
       "      <td>Sohar</td>\n",
       "      <td>Science</td>\n",
       "      <td>106</td>\n",
       "    </tr>\n",
       "    <tr>\n",
       "      <th>1</th>\n",
       "      <td>Saudi Arabia</td>\n",
       "      <td>Dammam</td>\n",
       "      <td>Science</td>\n",
       "      <td>108</td>\n",
       "    </tr>\n",
       "    <tr>\n",
       "      <th>2</th>\n",
       "      <td>Lebanon</td>\n",
       "      <td>Beirut</td>\n",
       "      <td>Science</td>\n",
       "      <td>114</td>\n",
       "    </tr>\n",
       "    <tr>\n",
       "      <th>3</th>\n",
       "      <td>Lebanon</td>\n",
       "      <td>Beirut</td>\n",
       "      <td>Science</td>\n",
       "      <td>117</td>\n",
       "    </tr>\n",
       "    <tr>\n",
       "      <th>4</th>\n",
       "      <td>Iraq</td>\n",
       "      <td>Wasit</td>\n",
       "      <td>Arts</td>\n",
       "      <td>119</td>\n",
       "    </tr>\n",
       "    <tr>\n",
       "      <th>...</th>\n",
       "      <td>...</td>\n",
       "      <td>...</td>\n",
       "      <td>...</td>\n",
       "      <td>...</td>\n",
       "    </tr>\n",
       "    <tr>\n",
       "      <th>242</th>\n",
       "      <td>Saudi Arabia</td>\n",
       "      <td>Dammam</td>\n",
       "      <td>Engineering</td>\n",
       "      <td>980</td>\n",
       "    </tr>\n",
       "    <tr>\n",
       "      <th>243</th>\n",
       "      <td>Lebanon</td>\n",
       "      <td>Beirut</td>\n",
       "      <td>Arts</td>\n",
       "      <td>982</td>\n",
       "    </tr>\n",
       "    <tr>\n",
       "      <th>244</th>\n",
       "      <td>Jordan</td>\n",
       "      <td>Aqaba</td>\n",
       "      <td>Arts</td>\n",
       "      <td>987</td>\n",
       "    </tr>\n",
       "    <tr>\n",
       "      <th>245</th>\n",
       "      <td>Palestine</td>\n",
       "      <td>Ramallah</td>\n",
       "      <td>Arts</td>\n",
       "      <td>996</td>\n",
       "    </tr>\n",
       "    <tr>\n",
       "      <th>246</th>\n",
       "      <td>Syria</td>\n",
       "      <td>Palmyra</td>\n",
       "      <td>Arts</td>\n",
       "      <td>997</td>\n",
       "    </tr>\n",
       "  </tbody>\n",
       "</table>\n",
       "<p>247 rows × 4 columns</p>\n",
       "</div>"
      ],
      "text/plain": [
       "          Country     State       School Ranking\n",
       "0            Oman     Sohar      Science     106\n",
       "1    Saudi Arabia    Dammam      Science     108\n",
       "2         Lebanon    Beirut      Science     114\n",
       "3         Lebanon    Beirut      Science     117\n",
       "4            Iraq     Wasit         Arts     119\n",
       "..            ...       ...          ...     ...\n",
       "242  Saudi Arabia    Dammam  Engineering     980\n",
       "243       Lebanon    Beirut         Arts     982\n",
       "244        Jordan     Aqaba         Arts     987\n",
       "245     Palestine  Ramallah         Arts     996\n",
       "246         Syria   Palmyra         Arts     997\n",
       "\n",
       "[247 rows x 4 columns]"
      ]
     },
     "execution_count": 32,
     "metadata": {},
     "output_type": "execute_result"
    }
   ],
   "source": [
    "result.toPandas()"
   ]
  },
  {
   "cell_type": "code",
   "execution_count": 33,
   "id": "28477324",
   "metadata": {},
   "outputs": [],
   "source": [
    "df=result.toPandas()"
   ]
  },
  {
   "cell_type": "code",
   "execution_count": 34,
   "id": "343ccc06",
   "metadata": {},
   "outputs": [
    {
     "data": {
      "text/html": [
       "<div>\n",
       "<style scoped>\n",
       "    .dataframe tbody tr th:only-of-type {\n",
       "        vertical-align: middle;\n",
       "    }\n",
       "\n",
       "    .dataframe tbody tr th {\n",
       "        vertical-align: top;\n",
       "    }\n",
       "\n",
       "    .dataframe thead th {\n",
       "        text-align: right;\n",
       "    }\n",
       "</style>\n",
       "<table border=\"1\" class=\"dataframe\">\n",
       "  <thead>\n",
       "    <tr style=\"text-align: right;\">\n",
       "      <th></th>\n",
       "      <th>Country</th>\n",
       "      <th>State</th>\n",
       "      <th>School</th>\n",
       "      <th>Ranking</th>\n",
       "    </tr>\n",
       "  </thead>\n",
       "  <tbody>\n",
       "    <tr>\n",
       "      <th>0</th>\n",
       "      <td>Oman</td>\n",
       "      <td>Sohar</td>\n",
       "      <td>Science</td>\n",
       "      <td>106</td>\n",
       "    </tr>\n",
       "    <tr>\n",
       "      <th>1</th>\n",
       "      <td>Saudi Arabia</td>\n",
       "      <td>Dammam</td>\n",
       "      <td>Science</td>\n",
       "      <td>108</td>\n",
       "    </tr>\n",
       "    <tr>\n",
       "      <th>2</th>\n",
       "      <td>Lebanon</td>\n",
       "      <td>Beirut</td>\n",
       "      <td>Science</td>\n",
       "      <td>114</td>\n",
       "    </tr>\n",
       "    <tr>\n",
       "      <th>3</th>\n",
       "      <td>Lebanon</td>\n",
       "      <td>Beirut</td>\n",
       "      <td>Science</td>\n",
       "      <td>117</td>\n",
       "    </tr>\n",
       "    <tr>\n",
       "      <th>4</th>\n",
       "      <td>Iraq</td>\n",
       "      <td>Wasit</td>\n",
       "      <td>Arts</td>\n",
       "      <td>119</td>\n",
       "    </tr>\n",
       "    <tr>\n",
       "      <th>...</th>\n",
       "      <td>...</td>\n",
       "      <td>...</td>\n",
       "      <td>...</td>\n",
       "      <td>...</td>\n",
       "    </tr>\n",
       "    <tr>\n",
       "      <th>242</th>\n",
       "      <td>Saudi Arabia</td>\n",
       "      <td>Dammam</td>\n",
       "      <td>Engineering</td>\n",
       "      <td>980</td>\n",
       "    </tr>\n",
       "    <tr>\n",
       "      <th>243</th>\n",
       "      <td>Lebanon</td>\n",
       "      <td>Beirut</td>\n",
       "      <td>Arts</td>\n",
       "      <td>982</td>\n",
       "    </tr>\n",
       "    <tr>\n",
       "      <th>244</th>\n",
       "      <td>Jordan</td>\n",
       "      <td>Aqaba</td>\n",
       "      <td>Arts</td>\n",
       "      <td>987</td>\n",
       "    </tr>\n",
       "    <tr>\n",
       "      <th>245</th>\n",
       "      <td>Palestine</td>\n",
       "      <td>Ramallah</td>\n",
       "      <td>Arts</td>\n",
       "      <td>996</td>\n",
       "    </tr>\n",
       "    <tr>\n",
       "      <th>246</th>\n",
       "      <td>Syria</td>\n",
       "      <td>Palmyra</td>\n",
       "      <td>Arts</td>\n",
       "      <td>997</td>\n",
       "    </tr>\n",
       "  </tbody>\n",
       "</table>\n",
       "<p>247 rows × 4 columns</p>\n",
       "</div>"
      ],
      "text/plain": [
       "          Country     State       School Ranking\n",
       "0            Oman     Sohar      Science     106\n",
       "1    Saudi Arabia    Dammam      Science     108\n",
       "2         Lebanon    Beirut      Science     114\n",
       "3         Lebanon    Beirut      Science     117\n",
       "4            Iraq     Wasit         Arts     119\n",
       "..            ...       ...          ...     ...\n",
       "242  Saudi Arabia    Dammam  Engineering     980\n",
       "243       Lebanon    Beirut         Arts     982\n",
       "244        Jordan     Aqaba         Arts     987\n",
       "245     Palestine  Ramallah         Arts     996\n",
       "246         Syria   Palmyra         Arts     997\n",
       "\n",
       "[247 rows x 4 columns]"
      ]
     },
     "execution_count": 34,
     "metadata": {},
     "output_type": "execute_result"
    }
   ],
   "source": [
    "df"
   ]
  },
  {
   "cell_type": "code",
   "execution_count": 35,
   "id": "376f056d",
   "metadata": {},
   "outputs": [
    {
     "data": {
      "text/html": [
       "<div>\n",
       "<style scoped>\n",
       "    .dataframe tbody tr th:only-of-type {\n",
       "        vertical-align: middle;\n",
       "    }\n",
       "\n",
       "    .dataframe tbody tr th {\n",
       "        vertical-align: top;\n",
       "    }\n",
       "\n",
       "    .dataframe thead th {\n",
       "        text-align: right;\n",
       "    }\n",
       "</style>\n",
       "<table border=\"1\" class=\"dataframe\">\n",
       "  <thead>\n",
       "    <tr style=\"text-align: right;\">\n",
       "      <th></th>\n",
       "      <th>Country</th>\n",
       "      <th>State</th>\n",
       "      <th>School</th>\n",
       "      <th>Ranking</th>\n",
       "    </tr>\n",
       "  </thead>\n",
       "  <tbody>\n",
       "    <tr>\n",
       "      <th>0</th>\n",
       "      <td>Oman</td>\n",
       "      <td>Sohar</td>\n",
       "      <td>Science</td>\n",
       "      <td>106</td>\n",
       "    </tr>\n",
       "    <tr>\n",
       "      <th>1</th>\n",
       "      <td>Saudi Arabia</td>\n",
       "      <td>Dammam</td>\n",
       "      <td>Science</td>\n",
       "      <td>108</td>\n",
       "    </tr>\n",
       "    <tr>\n",
       "      <th>2</th>\n",
       "      <td>Lebanon</td>\n",
       "      <td>Beirut</td>\n",
       "      <td>Science</td>\n",
       "      <td>114</td>\n",
       "    </tr>\n",
       "    <tr>\n",
       "      <th>3</th>\n",
       "      <td>Lebanon</td>\n",
       "      <td>Beirut</td>\n",
       "      <td>Science</td>\n",
       "      <td>117</td>\n",
       "    </tr>\n",
       "    <tr>\n",
       "      <th>4</th>\n",
       "      <td>Iraq</td>\n",
       "      <td>Wasit</td>\n",
       "      <td>Arts</td>\n",
       "      <td>119</td>\n",
       "    </tr>\n",
       "  </tbody>\n",
       "</table>\n",
       "</div>"
      ],
      "text/plain": [
       "        Country   State   School Ranking\n",
       "0          Oman   Sohar  Science     106\n",
       "1  Saudi Arabia  Dammam  Science     108\n",
       "2       Lebanon  Beirut  Science     114\n",
       "3       Lebanon  Beirut  Science     117\n",
       "4          Iraq   Wasit     Arts     119"
      ]
     },
     "execution_count": 35,
     "metadata": {},
     "output_type": "execute_result"
    }
   ],
   "source": [
    "df.head()"
   ]
  },
  {
   "cell_type": "code",
   "execution_count": 36,
   "id": "89cfce79",
   "metadata": {},
   "outputs": [
    {
     "data": {
      "text/html": [
       "<div>\n",
       "<style scoped>\n",
       "    .dataframe tbody tr th:only-of-type {\n",
       "        vertical-align: middle;\n",
       "    }\n",
       "\n",
       "    .dataframe tbody tr th {\n",
       "        vertical-align: top;\n",
       "    }\n",
       "\n",
       "    .dataframe thead th {\n",
       "        text-align: right;\n",
       "    }\n",
       "</style>\n",
       "<table border=\"1\" class=\"dataframe\">\n",
       "  <thead>\n",
       "    <tr style=\"text-align: right;\">\n",
       "      <th></th>\n",
       "      <th>Country</th>\n",
       "      <th>State</th>\n",
       "      <th>School</th>\n",
       "      <th>Ranking</th>\n",
       "    </tr>\n",
       "  </thead>\n",
       "  <tbody>\n",
       "    <tr>\n",
       "      <th>242</th>\n",
       "      <td>Saudi Arabia</td>\n",
       "      <td>Dammam</td>\n",
       "      <td>Engineering</td>\n",
       "      <td>980</td>\n",
       "    </tr>\n",
       "    <tr>\n",
       "      <th>243</th>\n",
       "      <td>Lebanon</td>\n",
       "      <td>Beirut</td>\n",
       "      <td>Arts</td>\n",
       "      <td>982</td>\n",
       "    </tr>\n",
       "    <tr>\n",
       "      <th>244</th>\n",
       "      <td>Jordan</td>\n",
       "      <td>Aqaba</td>\n",
       "      <td>Arts</td>\n",
       "      <td>987</td>\n",
       "    </tr>\n",
       "    <tr>\n",
       "      <th>245</th>\n",
       "      <td>Palestine</td>\n",
       "      <td>Ramallah</td>\n",
       "      <td>Arts</td>\n",
       "      <td>996</td>\n",
       "    </tr>\n",
       "    <tr>\n",
       "      <th>246</th>\n",
       "      <td>Syria</td>\n",
       "      <td>Palmyra</td>\n",
       "      <td>Arts</td>\n",
       "      <td>997</td>\n",
       "    </tr>\n",
       "  </tbody>\n",
       "</table>\n",
       "</div>"
      ],
      "text/plain": [
       "          Country     State       School Ranking\n",
       "242  Saudi Arabia    Dammam  Engineering     980\n",
       "243       Lebanon    Beirut         Arts     982\n",
       "244        Jordan     Aqaba         Arts     987\n",
       "245     Palestine  Ramallah         Arts     996\n",
       "246         Syria   Palmyra         Arts     997"
      ]
     },
     "execution_count": 36,
     "metadata": {},
     "output_type": "execute_result"
    }
   ],
   "source": [
    "df.tail()"
   ]
  },
  {
   "cell_type": "code",
   "execution_count": 37,
   "id": "78e0771a",
   "metadata": {},
   "outputs": [],
   "source": [
    "df=data.toPandas()"
   ]
  },
  {
   "cell_type": "code",
   "execution_count": 38,
   "id": "e43f73b0",
   "metadata": {},
   "outputs": [
    {
     "data": {
      "text/html": [
       "<div>\n",
       "<style scoped>\n",
       "    .dataframe tbody tr th:only-of-type {\n",
       "        vertical-align: middle;\n",
       "    }\n",
       "\n",
       "    .dataframe tbody tr th {\n",
       "        vertical-align: top;\n",
       "    }\n",
       "\n",
       "    .dataframe thead th {\n",
       "        text-align: right;\n",
       "    }\n",
       "</style>\n",
       "<table border=\"1\" class=\"dataframe\">\n",
       "  <thead>\n",
       "    <tr style=\"text-align: right;\">\n",
       "      <th></th>\n",
       "      <th>Country</th>\n",
       "      <th>State</th>\n",
       "      <th>University Name</th>\n",
       "      <th>Type of University</th>\n",
       "      <th>Tie Up with University</th>\n",
       "      <th>School</th>\n",
       "      <th>Technologies/Courses Offered</th>\n",
       "      <th>Course Types</th>\n",
       "      <th>Unplaced %</th>\n",
       "      <th>Corporate Tie Up</th>\n",
       "      <th>Job Offering</th>\n",
       "      <th>Internship</th>\n",
       "      <th>Marketing Strategy</th>\n",
       "      <th>Costing</th>\n",
       "      <th>Hackathons</th>\n",
       "      <th>Services Offered</th>\n",
       "      <th>Scholarships</th>\n",
       "      <th>Tier</th>\n",
       "      <th>Ranking</th>\n",
       "    </tr>\n",
       "  </thead>\n",
       "  <tbody>\n",
       "    <tr>\n",
       "      <th>0</th>\n",
       "      <td>Australia</td>\n",
       "      <td>Australian Capital Territory</td>\n",
       "      <td>Australian National University (ANU)</td>\n",
       "      <td>Public</td>\n",
       "      <td>No</td>\n",
       "      <td>Science</td>\n",
       "      <td>Cyber Security</td>\n",
       "      <td>Full-time</td>\n",
       "      <td>6.59</td>\n",
       "      <td>No</td>\n",
       "      <td>Yes</td>\n",
       "      <td>No</td>\n",
       "      <td>Traditional</td>\n",
       "      <td>$41874</td>\n",
       "      <td>Yes</td>\n",
       "      <td>Consulting</td>\n",
       "      <td>No</td>\n",
       "      <td>Tier 3</td>\n",
       "      <td>24</td>\n",
       "    </tr>\n",
       "    <tr>\n",
       "      <th>1</th>\n",
       "      <td>Australia</td>\n",
       "      <td>Australian Capital Territory</td>\n",
       "      <td>University of Canberra</td>\n",
       "      <td>Public</td>\n",
       "      <td>Yes</td>\n",
       "      <td>Science</td>\n",
       "      <td>ML</td>\n",
       "      <td>Online</td>\n",
       "      <td>6.87</td>\n",
       "      <td>No</td>\n",
       "      <td>No</td>\n",
       "      <td>No</td>\n",
       "      <td>Traditional</td>\n",
       "      <td>$18404</td>\n",
       "      <td>Yes</td>\n",
       "      <td>Training</td>\n",
       "      <td>No</td>\n",
       "      <td>Tier 1</td>\n",
       "      <td>336</td>\n",
       "    </tr>\n",
       "    <tr>\n",
       "      <th>2</th>\n",
       "      <td>Australia</td>\n",
       "      <td>New South Wales</td>\n",
       "      <td>University of Sydney</td>\n",
       "      <td>Private</td>\n",
       "      <td>Yes</td>\n",
       "      <td>Engineering</td>\n",
       "      <td>AI</td>\n",
       "      <td>Full-time</td>\n",
       "      <td>10.78</td>\n",
       "      <td>Yes</td>\n",
       "      <td>No</td>\n",
       "      <td>No</td>\n",
       "      <td>Both</td>\n",
       "      <td>$39218</td>\n",
       "      <td>Yes</td>\n",
       "      <td>Both</td>\n",
       "      <td>No</td>\n",
       "      <td>Tier 1</td>\n",
       "      <td>19</td>\n",
       "    </tr>\n",
       "    <tr>\n",
       "      <th>3</th>\n",
       "      <td>Australia</td>\n",
       "      <td>New South Wales</td>\n",
       "      <td>University of New South Wales (UNSW Sydney)</td>\n",
       "      <td>Private</td>\n",
       "      <td>Yes</td>\n",
       "      <td>Arts</td>\n",
       "      <td>IoT</td>\n",
       "      <td>Part-time</td>\n",
       "      <td>5.23</td>\n",
       "      <td>No</td>\n",
       "      <td>No</td>\n",
       "      <td>No</td>\n",
       "      <td>Both</td>\n",
       "      <td>$19648</td>\n",
       "      <td>Yes</td>\n",
       "      <td>Consulting</td>\n",
       "      <td>No</td>\n",
       "      <td>Tier 1</td>\n",
       "      <td>429</td>\n",
       "    </tr>\n",
       "    <tr>\n",
       "      <th>4</th>\n",
       "      <td>Australia</td>\n",
       "      <td>New South Wales</td>\n",
       "      <td>University of Newcastle</td>\n",
       "      <td>Private</td>\n",
       "      <td>Yes</td>\n",
       "      <td>Engineering</td>\n",
       "      <td>Cyber Security</td>\n",
       "      <td>Part-time</td>\n",
       "      <td>16.04</td>\n",
       "      <td>No</td>\n",
       "      <td>Yes</td>\n",
       "      <td>No</td>\n",
       "      <td>Traditional</td>\n",
       "      <td>$21278</td>\n",
       "      <td>Yes</td>\n",
       "      <td>Both</td>\n",
       "      <td>Yes</td>\n",
       "      <td>Tier 2</td>\n",
       "      <td>132</td>\n",
       "    </tr>\n",
       "  </tbody>\n",
       "</table>\n",
       "</div>"
      ],
      "text/plain": [
       "     Country                         State  \\\n",
       "0  Australia  Australian Capital Territory   \n",
       "1  Australia  Australian Capital Territory   \n",
       "2  Australia               New South Wales   \n",
       "3  Australia               New South Wales   \n",
       "4  Australia               New South Wales   \n",
       "\n",
       "                               University Name Type of University  \\\n",
       "0         Australian National University (ANU)             Public   \n",
       "1                       University of Canberra             Public   \n",
       "2                         University of Sydney            Private   \n",
       "3  University of New South Wales (UNSW Sydney)            Private   \n",
       "4                      University of Newcastle            Private   \n",
       "\n",
       "  Tie Up with University       School Technologies/Courses Offered  \\\n",
       "0                     No      Science               Cyber Security   \n",
       "1                    Yes      Science                           ML   \n",
       "2                    Yes  Engineering                           AI   \n",
       "3                    Yes         Arts                          IoT   \n",
       "4                    Yes  Engineering               Cyber Security   \n",
       "\n",
       "  Course Types Unplaced % Corporate Tie Up Job Offering Internship  \\\n",
       "0    Full-time       6.59               No          Yes         No   \n",
       "1       Online       6.87               No           No         No   \n",
       "2    Full-time      10.78              Yes           No         No   \n",
       "3    Part-time       5.23               No           No         No   \n",
       "4    Part-time      16.04               No          Yes         No   \n",
       "\n",
       "  Marketing Strategy Costing Hackathons Services Offered Scholarships    Tier  \\\n",
       "0        Traditional  $41874        Yes       Consulting           No  Tier 3   \n",
       "1        Traditional  $18404        Yes         Training           No  Tier 1   \n",
       "2               Both  $39218        Yes             Both           No  Tier 1   \n",
       "3               Both  $19648        Yes       Consulting           No  Tier 1   \n",
       "4        Traditional  $21278        Yes             Both          Yes  Tier 2   \n",
       "\n",
       "  Ranking  \n",
       "0      24  \n",
       "1     336  \n",
       "2      19  \n",
       "3     429  \n",
       "4     132  "
      ]
     },
     "execution_count": 38,
     "metadata": {},
     "output_type": "execute_result"
    }
   ],
   "source": [
    "df.head()"
   ]
  },
  {
   "cell_type": "code",
   "execution_count": 39,
   "id": "45717761",
   "metadata": {},
   "outputs": [
    {
     "data": {
      "text/html": [
       "<div>\n",
       "<style scoped>\n",
       "    .dataframe tbody tr th:only-of-type {\n",
       "        vertical-align: middle;\n",
       "    }\n",
       "\n",
       "    .dataframe tbody tr th {\n",
       "        vertical-align: top;\n",
       "    }\n",
       "\n",
       "    .dataframe thead th {\n",
       "        text-align: right;\n",
       "    }\n",
       "</style>\n",
       "<table border=\"1\" class=\"dataframe\">\n",
       "  <thead>\n",
       "    <tr style=\"text-align: right;\">\n",
       "      <th></th>\n",
       "      <th>Country</th>\n",
       "      <th>State</th>\n",
       "      <th>University Name</th>\n",
       "      <th>Type of University</th>\n",
       "      <th>Tie Up with University</th>\n",
       "      <th>School</th>\n",
       "      <th>Technologies/Courses Offered</th>\n",
       "      <th>Course Types</th>\n",
       "      <th>Unplaced %</th>\n",
       "      <th>Corporate Tie Up</th>\n",
       "      <th>Job Offering</th>\n",
       "      <th>Internship</th>\n",
       "      <th>Marketing Strategy</th>\n",
       "      <th>Costing</th>\n",
       "      <th>Hackathons</th>\n",
       "      <th>Services Offered</th>\n",
       "      <th>Scholarships</th>\n",
       "      <th>Tier</th>\n",
       "      <th>Ranking</th>\n",
       "    </tr>\n",
       "  </thead>\n",
       "  <tbody>\n",
       "    <tr>\n",
       "      <th>242</th>\n",
       "      <td>Jordan</td>\n",
       "      <td>Zarqa</td>\n",
       "      <td>Al-Zarqa Private University</td>\n",
       "      <td>Public</td>\n",
       "      <td>No</td>\n",
       "      <td>Arts</td>\n",
       "      <td>Cyber Security</td>\n",
       "      <td>Part-time</td>\n",
       "      <td>14.49</td>\n",
       "      <td>No</td>\n",
       "      <td>Yes</td>\n",
       "      <td>Yes</td>\n",
       "      <td>Digital</td>\n",
       "      <td>$21300</td>\n",
       "      <td>Yes</td>\n",
       "      <td>Both</td>\n",
       "      <td>No</td>\n",
       "      <td>Tier 3</td>\n",
       "      <td>270</td>\n",
       "    </tr>\n",
       "    <tr>\n",
       "      <th>243</th>\n",
       "      <td>Jordan</td>\n",
       "      <td>Madaba</td>\n",
       "      <td>American University of Madaba</td>\n",
       "      <td>Private</td>\n",
       "      <td>No</td>\n",
       "      <td>Arts</td>\n",
       "      <td>AI</td>\n",
       "      <td>Online</td>\n",
       "      <td>17.82</td>\n",
       "      <td>Yes</td>\n",
       "      <td>Yes</td>\n",
       "      <td>No</td>\n",
       "      <td>Traditional</td>\n",
       "      <td>$28886</td>\n",
       "      <td>No</td>\n",
       "      <td>Training</td>\n",
       "      <td>No</td>\n",
       "      <td>Tier 3</td>\n",
       "      <td>869</td>\n",
       "    </tr>\n",
       "    <tr>\n",
       "      <th>244</th>\n",
       "      <td>Jordan</td>\n",
       "      <td>Ajloun</td>\n",
       "      <td>Ajloun National University</td>\n",
       "      <td>Private</td>\n",
       "      <td>Yes</td>\n",
       "      <td>Engineering</td>\n",
       "      <td>IoT</td>\n",
       "      <td>Part-time</td>\n",
       "      <td>10.07</td>\n",
       "      <td>No</td>\n",
       "      <td>No</td>\n",
       "      <td>No</td>\n",
       "      <td>Traditional</td>\n",
       "      <td>$28004</td>\n",
       "      <td>Yes</td>\n",
       "      <td>Training</td>\n",
       "      <td>Yes</td>\n",
       "      <td>Tier 1</td>\n",
       "      <td>463</td>\n",
       "    </tr>\n",
       "    <tr>\n",
       "      <th>245</th>\n",
       "      <td>Jordan</td>\n",
       "      <td>Mafraq</td>\n",
       "      <td>Al al-Bayt University</td>\n",
       "      <td>Private</td>\n",
       "      <td>No</td>\n",
       "      <td>Arts</td>\n",
       "      <td>AI</td>\n",
       "      <td>Full-time</td>\n",
       "      <td>7.76</td>\n",
       "      <td>Yes</td>\n",
       "      <td>Yes</td>\n",
       "      <td>Yes</td>\n",
       "      <td>Digital</td>\n",
       "      <td>$22407</td>\n",
       "      <td>No</td>\n",
       "      <td>Consulting</td>\n",
       "      <td>No</td>\n",
       "      <td>Tier 1</td>\n",
       "      <td>650</td>\n",
       "    </tr>\n",
       "    <tr>\n",
       "      <th>246</th>\n",
       "      <td>Jordan</td>\n",
       "      <td>Karak</td>\n",
       "      <td>Mutah University</td>\n",
       "      <td>Public</td>\n",
       "      <td>Yes</td>\n",
       "      <td>Arts</td>\n",
       "      <td>IoT</td>\n",
       "      <td>Part-time</td>\n",
       "      <td>16.13</td>\n",
       "      <td>Yes</td>\n",
       "      <td>No</td>\n",
       "      <td>Yes</td>\n",
       "      <td>Digital</td>\n",
       "      <td>$39328</td>\n",
       "      <td>Yes</td>\n",
       "      <td>Consulting</td>\n",
       "      <td>No</td>\n",
       "      <td>Tier 3</td>\n",
       "      <td>360</td>\n",
       "    </tr>\n",
       "  </tbody>\n",
       "</table>\n",
       "</div>"
      ],
      "text/plain": [
       "    Country   State                University Name Type of University  \\\n",
       "242  Jordan   Zarqa    Al-Zarqa Private University             Public   \n",
       "243  Jordan  Madaba  American University of Madaba            Private   \n",
       "244  Jordan  Ajloun     Ajloun National University            Private   \n",
       "245  Jordan  Mafraq          Al al-Bayt University            Private   \n",
       "246  Jordan   Karak               Mutah University             Public   \n",
       "\n",
       "    Tie Up with University       School Technologies/Courses Offered  \\\n",
       "242                     No         Arts               Cyber Security   \n",
       "243                     No         Arts                           AI   \n",
       "244                    Yes  Engineering                          IoT   \n",
       "245                     No         Arts                           AI   \n",
       "246                    Yes         Arts                          IoT   \n",
       "\n",
       "    Course Types Unplaced % Corporate Tie Up Job Offering Internship  \\\n",
       "242    Part-time      14.49               No          Yes        Yes   \n",
       "243       Online      17.82              Yes          Yes         No   \n",
       "244    Part-time      10.07               No           No         No   \n",
       "245    Full-time       7.76              Yes          Yes        Yes   \n",
       "246    Part-time      16.13              Yes           No        Yes   \n",
       "\n",
       "    Marketing Strategy Costing Hackathons Services Offered Scholarships  \\\n",
       "242            Digital  $21300        Yes             Both           No   \n",
       "243        Traditional  $28886         No         Training           No   \n",
       "244        Traditional  $28004        Yes         Training          Yes   \n",
       "245            Digital  $22407         No       Consulting           No   \n",
       "246            Digital  $39328        Yes       Consulting           No   \n",
       "\n",
       "       Tier Ranking  \n",
       "242  Tier 3     270  \n",
       "243  Tier 3     869  \n",
       "244  Tier 1     463  \n",
       "245  Tier 1     650  \n",
       "246  Tier 3     360  "
      ]
     },
     "execution_count": 39,
     "metadata": {},
     "output_type": "execute_result"
    }
   ],
   "source": [
    "df.tail()"
   ]
  },
  {
   "cell_type": "code",
   "execution_count": 40,
   "id": "5648f5ef",
   "metadata": {},
   "outputs": [
    {
     "data": {
      "text/plain": [
       "[Row(Country='Australia', State='Australian Capital Territory', University Name='Australian National University (ANU)', Type of University='Public', Tie Up with University='No', School='Science', Technologies/Courses Offered='Cyber Security', Course Types='Full-time', Unplaced %='6.59', Corporate Tie Up='No', Job Offering='Yes', Internship='No', Marketing Strategy='Traditional', Costing='$41874', Hackathons='Yes', Services Offered='Consulting', Scholarships='No', Tier='Tier 3', Ranking='24')]"
      ]
     },
     "execution_count": 40,
     "metadata": {},
     "output_type": "execute_result"
    }
   ],
   "source": [
    "data.head(1)"
   ]
  },
  {
   "cell_type": "code",
   "execution_count": 41,
   "id": "79519c25",
   "metadata": {},
   "outputs": [
    {
     "data": {
      "text/html": [
       "<div>\n",
       "<style scoped>\n",
       "    .dataframe tbody tr th:only-of-type {\n",
       "        vertical-align: middle;\n",
       "    }\n",
       "\n",
       "    .dataframe tbody tr th {\n",
       "        vertical-align: top;\n",
       "    }\n",
       "\n",
       "    .dataframe thead th {\n",
       "        text-align: right;\n",
       "    }\n",
       "</style>\n",
       "<table border=\"1\" class=\"dataframe\">\n",
       "  <thead>\n",
       "    <tr style=\"text-align: right;\">\n",
       "      <th></th>\n",
       "      <th>Country</th>\n",
       "      <th>State</th>\n",
       "      <th>University Name</th>\n",
       "      <th>Type of University</th>\n",
       "      <th>Tie Up with University</th>\n",
       "      <th>School</th>\n",
       "      <th>Technologies/Courses Offered</th>\n",
       "      <th>Course Types</th>\n",
       "      <th>Unplaced %</th>\n",
       "      <th>Corporate Tie Up</th>\n",
       "      <th>Job Offering</th>\n",
       "      <th>Internship</th>\n",
       "      <th>Marketing Strategy</th>\n",
       "      <th>Costing</th>\n",
       "      <th>Hackathons</th>\n",
       "      <th>Services Offered</th>\n",
       "      <th>Scholarships</th>\n",
       "      <th>Tier</th>\n",
       "      <th>Ranking</th>\n",
       "    </tr>\n",
       "  </thead>\n",
       "  <tbody>\n",
       "    <tr>\n",
       "      <th>0</th>\n",
       "      <td>Australia</td>\n",
       "      <td>Australian Capital Territory</td>\n",
       "      <td>Australian National University (ANU)</td>\n",
       "      <td>Public</td>\n",
       "      <td>No</td>\n",
       "      <td>Science</td>\n",
       "      <td>Cyber Security</td>\n",
       "      <td>Full-time</td>\n",
       "      <td>6.59</td>\n",
       "      <td>No</td>\n",
       "      <td>Yes</td>\n",
       "      <td>No</td>\n",
       "      <td>Traditional</td>\n",
       "      <td>$41874</td>\n",
       "      <td>Yes</td>\n",
       "      <td>Consulting</td>\n",
       "      <td>No</td>\n",
       "      <td>Tier 3</td>\n",
       "      <td>24</td>\n",
       "    </tr>\n",
       "  </tbody>\n",
       "</table>\n",
       "</div>"
      ],
      "text/plain": [
       "     Country                         State  \\\n",
       "0  Australia  Australian Capital Territory   \n",
       "\n",
       "                        University Name Type of University  \\\n",
       "0  Australian National University (ANU)             Public   \n",
       "\n",
       "  Tie Up with University   School Technologies/Courses Offered Course Types  \\\n",
       "0                     No  Science               Cyber Security    Full-time   \n",
       "\n",
       "  Unplaced % Corporate Tie Up Job Offering Internship Marketing Strategy  \\\n",
       "0       6.59               No          Yes         No        Traditional   \n",
       "\n",
       "  Costing Hackathons Services Offered Scholarships    Tier Ranking  \n",
       "0  $41874        Yes       Consulting           No  Tier 3      24  "
      ]
     },
     "execution_count": 41,
     "metadata": {},
     "output_type": "execute_result"
    }
   ],
   "source": [
    "data.toPandas().head(1)"
   ]
  },
  {
   "cell_type": "code",
   "execution_count": 42,
   "id": "b48ff049",
   "metadata": {},
   "outputs": [
    {
     "data": {
      "text/plain": [
       "[Row(Country='Jordan', State='Karak', University Name='Mutah University', Type of University='Public', Tie Up with University='Yes', School='Arts', Technologies/Courses Offered='IoT', Course Types='Part-time', Unplaced %='16.13', Corporate Tie Up='Yes', Job Offering='No', Internship='Yes', Marketing Strategy='Digital', Costing='$39328', Hackathons='Yes', Services Offered='Consulting', Scholarships='No', Tier='Tier 3', Ranking='360')]"
      ]
     },
     "execution_count": 42,
     "metadata": {},
     "output_type": "execute_result"
    }
   ],
   "source": [
    "data.tail(1)"
   ]
  },
  {
   "cell_type": "code",
   "execution_count": 43,
   "id": "1630f064",
   "metadata": {},
   "outputs": [
    {
     "data": {
      "text/html": [
       "<div>\n",
       "<style scoped>\n",
       "    .dataframe tbody tr th:only-of-type {\n",
       "        vertical-align: middle;\n",
       "    }\n",
       "\n",
       "    .dataframe tbody tr th {\n",
       "        vertical-align: top;\n",
       "    }\n",
       "\n",
       "    .dataframe thead th {\n",
       "        text-align: right;\n",
       "    }\n",
       "</style>\n",
       "<table border=\"1\" class=\"dataframe\">\n",
       "  <thead>\n",
       "    <tr style=\"text-align: right;\">\n",
       "      <th></th>\n",
       "      <th>Country</th>\n",
       "      <th>State</th>\n",
       "      <th>University Name</th>\n",
       "      <th>Type of University</th>\n",
       "      <th>Tie Up with University</th>\n",
       "      <th>School</th>\n",
       "      <th>Technologies/Courses Offered</th>\n",
       "      <th>Course Types</th>\n",
       "      <th>Unplaced %</th>\n",
       "      <th>Corporate Tie Up</th>\n",
       "      <th>Job Offering</th>\n",
       "      <th>Internship</th>\n",
       "      <th>Marketing Strategy</th>\n",
       "      <th>Costing</th>\n",
       "      <th>Hackathons</th>\n",
       "      <th>Services Offered</th>\n",
       "      <th>Scholarships</th>\n",
       "      <th>Tier</th>\n",
       "      <th>Ranking</th>\n",
       "    </tr>\n",
       "  </thead>\n",
       "  <tbody>\n",
       "    <tr>\n",
       "      <th>246</th>\n",
       "      <td>Jordan</td>\n",
       "      <td>Karak</td>\n",
       "      <td>Mutah University</td>\n",
       "      <td>Public</td>\n",
       "      <td>Yes</td>\n",
       "      <td>Arts</td>\n",
       "      <td>IoT</td>\n",
       "      <td>Part-time</td>\n",
       "      <td>16.13</td>\n",
       "      <td>Yes</td>\n",
       "      <td>No</td>\n",
       "      <td>Yes</td>\n",
       "      <td>Digital</td>\n",
       "      <td>$39328</td>\n",
       "      <td>Yes</td>\n",
       "      <td>Consulting</td>\n",
       "      <td>No</td>\n",
       "      <td>Tier 3</td>\n",
       "      <td>360</td>\n",
       "    </tr>\n",
       "  </tbody>\n",
       "</table>\n",
       "</div>"
      ],
      "text/plain": [
       "    Country  State   University Name Type of University  \\\n",
       "246  Jordan  Karak  Mutah University             Public   \n",
       "\n",
       "    Tie Up with University School Technologies/Courses Offered Course Types  \\\n",
       "246                    Yes   Arts                          IoT    Part-time   \n",
       "\n",
       "    Unplaced % Corporate Tie Up Job Offering Internship Marketing Strategy  \\\n",
       "246      16.13              Yes           No        Yes            Digital   \n",
       "\n",
       "    Costing Hackathons Services Offered Scholarships    Tier Ranking  \n",
       "246  $39328        Yes       Consulting           No  Tier 3     360  "
      ]
     },
     "execution_count": 43,
     "metadata": {},
     "output_type": "execute_result"
    }
   ],
   "source": [
    "data.toPandas().tail(1)"
   ]
  },
  {
   "cell_type": "code",
   "execution_count": 44,
   "id": "93d4d944",
   "metadata": {},
   "outputs": [],
   "source": [
    "data_df=data.toPandas()"
   ]
  },
  {
   "cell_type": "code",
   "execution_count": 45,
   "id": "703a4feb",
   "metadata": {},
   "outputs": [
    {
     "data": {
      "text/html": [
       "<div>\n",
       "<style scoped>\n",
       "    .dataframe tbody tr th:only-of-type {\n",
       "        vertical-align: middle;\n",
       "    }\n",
       "\n",
       "    .dataframe tbody tr th {\n",
       "        vertical-align: top;\n",
       "    }\n",
       "\n",
       "    .dataframe thead th {\n",
       "        text-align: right;\n",
       "    }\n",
       "</style>\n",
       "<table border=\"1\" class=\"dataframe\">\n",
       "  <thead>\n",
       "    <tr style=\"text-align: right;\">\n",
       "      <th></th>\n",
       "      <th>Country</th>\n",
       "      <th>State</th>\n",
       "      <th>University Name</th>\n",
       "      <th>Type of University</th>\n",
       "      <th>Tie Up with University</th>\n",
       "      <th>School</th>\n",
       "      <th>Technologies/Courses Offered</th>\n",
       "      <th>Course Types</th>\n",
       "      <th>Unplaced %</th>\n",
       "      <th>Corporate Tie Up</th>\n",
       "      <th>Job Offering</th>\n",
       "      <th>Internship</th>\n",
       "      <th>Marketing Strategy</th>\n",
       "      <th>Costing</th>\n",
       "      <th>Hackathons</th>\n",
       "      <th>Services Offered</th>\n",
       "      <th>Scholarships</th>\n",
       "      <th>Tier</th>\n",
       "      <th>Ranking</th>\n",
       "    </tr>\n",
       "  </thead>\n",
       "  <tbody>\n",
       "    <tr>\n",
       "      <th>0</th>\n",
       "      <td>Australia</td>\n",
       "      <td>Australian Capital Territory</td>\n",
       "      <td>Australian National University (ANU)</td>\n",
       "      <td>Public</td>\n",
       "      <td>No</td>\n",
       "      <td>Science</td>\n",
       "      <td>Cyber Security</td>\n",
       "      <td>Full-time</td>\n",
       "      <td>6.59</td>\n",
       "      <td>No</td>\n",
       "      <td>Yes</td>\n",
       "      <td>No</td>\n",
       "      <td>Traditional</td>\n",
       "      <td>$41874</td>\n",
       "      <td>Yes</td>\n",
       "      <td>Consulting</td>\n",
       "      <td>No</td>\n",
       "      <td>Tier 3</td>\n",
       "      <td>24</td>\n",
       "    </tr>\n",
       "    <tr>\n",
       "      <th>1</th>\n",
       "      <td>Australia</td>\n",
       "      <td>Australian Capital Territory</td>\n",
       "      <td>University of Canberra</td>\n",
       "      <td>Public</td>\n",
       "      <td>Yes</td>\n",
       "      <td>Science</td>\n",
       "      <td>ML</td>\n",
       "      <td>Online</td>\n",
       "      <td>6.87</td>\n",
       "      <td>No</td>\n",
       "      <td>No</td>\n",
       "      <td>No</td>\n",
       "      <td>Traditional</td>\n",
       "      <td>$18404</td>\n",
       "      <td>Yes</td>\n",
       "      <td>Training</td>\n",
       "      <td>No</td>\n",
       "      <td>Tier 1</td>\n",
       "      <td>336</td>\n",
       "    </tr>\n",
       "    <tr>\n",
       "      <th>2</th>\n",
       "      <td>Australia</td>\n",
       "      <td>New South Wales</td>\n",
       "      <td>University of Sydney</td>\n",
       "      <td>Private</td>\n",
       "      <td>Yes</td>\n",
       "      <td>Engineering</td>\n",
       "      <td>AI</td>\n",
       "      <td>Full-time</td>\n",
       "      <td>10.78</td>\n",
       "      <td>Yes</td>\n",
       "      <td>No</td>\n",
       "      <td>No</td>\n",
       "      <td>Both</td>\n",
       "      <td>$39218</td>\n",
       "      <td>Yes</td>\n",
       "      <td>Both</td>\n",
       "      <td>No</td>\n",
       "      <td>Tier 1</td>\n",
       "      <td>19</td>\n",
       "    </tr>\n",
       "    <tr>\n",
       "      <th>3</th>\n",
       "      <td>Australia</td>\n",
       "      <td>New South Wales</td>\n",
       "      <td>University of New South Wales (UNSW Sydney)</td>\n",
       "      <td>Private</td>\n",
       "      <td>Yes</td>\n",
       "      <td>Arts</td>\n",
       "      <td>IoT</td>\n",
       "      <td>Part-time</td>\n",
       "      <td>5.23</td>\n",
       "      <td>No</td>\n",
       "      <td>No</td>\n",
       "      <td>No</td>\n",
       "      <td>Both</td>\n",
       "      <td>$19648</td>\n",
       "      <td>Yes</td>\n",
       "      <td>Consulting</td>\n",
       "      <td>No</td>\n",
       "      <td>Tier 1</td>\n",
       "      <td>429</td>\n",
       "    </tr>\n",
       "    <tr>\n",
       "      <th>4</th>\n",
       "      <td>Australia</td>\n",
       "      <td>New South Wales</td>\n",
       "      <td>University of Newcastle</td>\n",
       "      <td>Private</td>\n",
       "      <td>Yes</td>\n",
       "      <td>Engineering</td>\n",
       "      <td>Cyber Security</td>\n",
       "      <td>Part-time</td>\n",
       "      <td>16.04</td>\n",
       "      <td>No</td>\n",
       "      <td>Yes</td>\n",
       "      <td>No</td>\n",
       "      <td>Traditional</td>\n",
       "      <td>$21278</td>\n",
       "      <td>Yes</td>\n",
       "      <td>Both</td>\n",
       "      <td>Yes</td>\n",
       "      <td>Tier 2</td>\n",
       "      <td>132</td>\n",
       "    </tr>\n",
       "    <tr>\n",
       "      <th>...</th>\n",
       "      <td>...</td>\n",
       "      <td>...</td>\n",
       "      <td>...</td>\n",
       "      <td>...</td>\n",
       "      <td>...</td>\n",
       "      <td>...</td>\n",
       "      <td>...</td>\n",
       "      <td>...</td>\n",
       "      <td>...</td>\n",
       "      <td>...</td>\n",
       "      <td>...</td>\n",
       "      <td>...</td>\n",
       "      <td>...</td>\n",
       "      <td>...</td>\n",
       "      <td>...</td>\n",
       "      <td>...</td>\n",
       "      <td>...</td>\n",
       "      <td>...</td>\n",
       "      <td>...</td>\n",
       "    </tr>\n",
       "    <tr>\n",
       "      <th>242</th>\n",
       "      <td>Jordan</td>\n",
       "      <td>Zarqa</td>\n",
       "      <td>Al-Zarqa Private University</td>\n",
       "      <td>Public</td>\n",
       "      <td>No</td>\n",
       "      <td>Arts</td>\n",
       "      <td>Cyber Security</td>\n",
       "      <td>Part-time</td>\n",
       "      <td>14.49</td>\n",
       "      <td>No</td>\n",
       "      <td>Yes</td>\n",
       "      <td>Yes</td>\n",
       "      <td>Digital</td>\n",
       "      <td>$21300</td>\n",
       "      <td>Yes</td>\n",
       "      <td>Both</td>\n",
       "      <td>No</td>\n",
       "      <td>Tier 3</td>\n",
       "      <td>270</td>\n",
       "    </tr>\n",
       "    <tr>\n",
       "      <th>243</th>\n",
       "      <td>Jordan</td>\n",
       "      <td>Madaba</td>\n",
       "      <td>American University of Madaba</td>\n",
       "      <td>Private</td>\n",
       "      <td>No</td>\n",
       "      <td>Arts</td>\n",
       "      <td>AI</td>\n",
       "      <td>Online</td>\n",
       "      <td>17.82</td>\n",
       "      <td>Yes</td>\n",
       "      <td>Yes</td>\n",
       "      <td>No</td>\n",
       "      <td>Traditional</td>\n",
       "      <td>$28886</td>\n",
       "      <td>No</td>\n",
       "      <td>Training</td>\n",
       "      <td>No</td>\n",
       "      <td>Tier 3</td>\n",
       "      <td>869</td>\n",
       "    </tr>\n",
       "    <tr>\n",
       "      <th>244</th>\n",
       "      <td>Jordan</td>\n",
       "      <td>Ajloun</td>\n",
       "      <td>Ajloun National University</td>\n",
       "      <td>Private</td>\n",
       "      <td>Yes</td>\n",
       "      <td>Engineering</td>\n",
       "      <td>IoT</td>\n",
       "      <td>Part-time</td>\n",
       "      <td>10.07</td>\n",
       "      <td>No</td>\n",
       "      <td>No</td>\n",
       "      <td>No</td>\n",
       "      <td>Traditional</td>\n",
       "      <td>$28004</td>\n",
       "      <td>Yes</td>\n",
       "      <td>Training</td>\n",
       "      <td>Yes</td>\n",
       "      <td>Tier 1</td>\n",
       "      <td>463</td>\n",
       "    </tr>\n",
       "    <tr>\n",
       "      <th>245</th>\n",
       "      <td>Jordan</td>\n",
       "      <td>Mafraq</td>\n",
       "      <td>Al al-Bayt University</td>\n",
       "      <td>Private</td>\n",
       "      <td>No</td>\n",
       "      <td>Arts</td>\n",
       "      <td>AI</td>\n",
       "      <td>Full-time</td>\n",
       "      <td>7.76</td>\n",
       "      <td>Yes</td>\n",
       "      <td>Yes</td>\n",
       "      <td>Yes</td>\n",
       "      <td>Digital</td>\n",
       "      <td>$22407</td>\n",
       "      <td>No</td>\n",
       "      <td>Consulting</td>\n",
       "      <td>No</td>\n",
       "      <td>Tier 1</td>\n",
       "      <td>650</td>\n",
       "    </tr>\n",
       "    <tr>\n",
       "      <th>246</th>\n",
       "      <td>Jordan</td>\n",
       "      <td>Karak</td>\n",
       "      <td>Mutah University</td>\n",
       "      <td>Public</td>\n",
       "      <td>Yes</td>\n",
       "      <td>Arts</td>\n",
       "      <td>IoT</td>\n",
       "      <td>Part-time</td>\n",
       "      <td>16.13</td>\n",
       "      <td>Yes</td>\n",
       "      <td>No</td>\n",
       "      <td>Yes</td>\n",
       "      <td>Digital</td>\n",
       "      <td>$39328</td>\n",
       "      <td>Yes</td>\n",
       "      <td>Consulting</td>\n",
       "      <td>No</td>\n",
       "      <td>Tier 3</td>\n",
       "      <td>360</td>\n",
       "    </tr>\n",
       "  </tbody>\n",
       "</table>\n",
       "<p>247 rows × 19 columns</p>\n",
       "</div>"
      ],
      "text/plain": [
       "       Country                         State  \\\n",
       "0    Australia  Australian Capital Territory   \n",
       "1    Australia  Australian Capital Territory   \n",
       "2    Australia               New South Wales   \n",
       "3    Australia               New South Wales   \n",
       "4    Australia               New South Wales   \n",
       "..         ...                           ...   \n",
       "242     Jordan                         Zarqa   \n",
       "243     Jordan                        Madaba   \n",
       "244     Jordan                        Ajloun   \n",
       "245     Jordan                        Mafraq   \n",
       "246     Jordan                         Karak   \n",
       "\n",
       "                                 University Name Type of University  \\\n",
       "0           Australian National University (ANU)             Public   \n",
       "1                         University of Canberra             Public   \n",
       "2                           University of Sydney            Private   \n",
       "3    University of New South Wales (UNSW Sydney)            Private   \n",
       "4                        University of Newcastle            Private   \n",
       "..                                           ...                ...   \n",
       "242                  Al-Zarqa Private University             Public   \n",
       "243                American University of Madaba            Private   \n",
       "244                   Ajloun National University            Private   \n",
       "245                        Al al-Bayt University            Private   \n",
       "246                             Mutah University             Public   \n",
       "\n",
       "    Tie Up with University       School Technologies/Courses Offered  \\\n",
       "0                       No      Science               Cyber Security   \n",
       "1                      Yes      Science                           ML   \n",
       "2                      Yes  Engineering                           AI   \n",
       "3                      Yes         Arts                          IoT   \n",
       "4                      Yes  Engineering               Cyber Security   \n",
       "..                     ...          ...                          ...   \n",
       "242                     No         Arts               Cyber Security   \n",
       "243                     No         Arts                           AI   \n",
       "244                    Yes  Engineering                          IoT   \n",
       "245                     No         Arts                           AI   \n",
       "246                    Yes         Arts                          IoT   \n",
       "\n",
       "    Course Types Unplaced % Corporate Tie Up Job Offering Internship  \\\n",
       "0      Full-time       6.59               No          Yes         No   \n",
       "1         Online       6.87               No           No         No   \n",
       "2      Full-time      10.78              Yes           No         No   \n",
       "3      Part-time       5.23               No           No         No   \n",
       "4      Part-time      16.04               No          Yes         No   \n",
       "..           ...        ...              ...          ...        ...   \n",
       "242    Part-time      14.49               No          Yes        Yes   \n",
       "243       Online      17.82              Yes          Yes         No   \n",
       "244    Part-time      10.07               No           No         No   \n",
       "245    Full-time       7.76              Yes          Yes        Yes   \n",
       "246    Part-time      16.13              Yes           No        Yes   \n",
       "\n",
       "    Marketing Strategy Costing Hackathons Services Offered Scholarships  \\\n",
       "0          Traditional  $41874        Yes       Consulting           No   \n",
       "1          Traditional  $18404        Yes         Training           No   \n",
       "2                 Both  $39218        Yes             Both           No   \n",
       "3                 Both  $19648        Yes       Consulting           No   \n",
       "4          Traditional  $21278        Yes             Both          Yes   \n",
       "..                 ...     ...        ...              ...          ...   \n",
       "242            Digital  $21300        Yes             Both           No   \n",
       "243        Traditional  $28886         No         Training           No   \n",
       "244        Traditional  $28004        Yes         Training          Yes   \n",
       "245            Digital  $22407         No       Consulting           No   \n",
       "246            Digital  $39328        Yes       Consulting           No   \n",
       "\n",
       "       Tier Ranking  \n",
       "0    Tier 3      24  \n",
       "1    Tier 1     336  \n",
       "2    Tier 1      19  \n",
       "3    Tier 1     429  \n",
       "4    Tier 2     132  \n",
       "..      ...     ...  \n",
       "242  Tier 3     270  \n",
       "243  Tier 3     869  \n",
       "244  Tier 1     463  \n",
       "245  Tier 1     650  \n",
       "246  Tier 3     360  \n",
       "\n",
       "[247 rows x 19 columns]"
      ]
     },
     "execution_count": 45,
     "metadata": {},
     "output_type": "execute_result"
    }
   ],
   "source": [
    "data_df"
   ]
  },
  {
   "cell_type": "code",
   "execution_count": 46,
   "id": "81fba9ea",
   "metadata": {},
   "outputs": [
    {
     "name": "stdout",
     "output_type": "stream",
     "text": [
      "+---------+--------------------+\n",
      "|  Country|               State|\n",
      "+---------+--------------------+\n",
      "|Australia|Australian Capita...|\n",
      "|Australia|Australian Capita...|\n",
      "|Australia|     New South Wales|\n",
      "|Australia|     New South Wales|\n",
      "|Australia|     New South Wales|\n",
      "|Australia|     New South Wales|\n",
      "|Australia|     New South Wales|\n",
      "|Australia|     New South Wales|\n",
      "|Australia|     New South Wales|\n",
      "|Australia|     New South Wales|\n",
      "|Australia|     New South Wales|\n",
      "|Australia|            Victoria|\n",
      "|Australia|            Victoria|\n",
      "|Australia|            Victoria|\n",
      "|Australia|            Victoria|\n",
      "|Australia|            Victoria|\n",
      "|Australia|            Victoria|\n",
      "|Australia|          Queensland|\n",
      "|Australia|          Queensland|\n",
      "|Australia|          Queensland|\n",
      "+---------+--------------------+\n",
      "only showing top 20 rows\n",
      "\n"
     ]
    }
   ],
   "source": [
    "data.select(['Country','State']).show()"
   ]
  },
  {
   "cell_type": "code",
   "execution_count": 47,
   "id": "ecbda38d",
   "metadata": {},
   "outputs": [
    {
     "name": "stdout",
     "output_type": "stream",
     "text": [
      "+---------+--------------------+\n",
      "|  Country|               State|\n",
      "+---------+--------------------+\n",
      "|Australia|Australian Capita...|\n",
      "|Australia|Australian Capita...|\n",
      "|Australia|     New South Wales|\n",
      "|Australia|     New South Wales|\n",
      "|Australia|     New South Wales|\n",
      "|Australia|     New South Wales|\n",
      "|Australia|     New South Wales|\n",
      "|Australia|     New South Wales|\n",
      "|Australia|     New South Wales|\n",
      "|Australia|     New South Wales|\n",
      "|Australia|     New South Wales|\n",
      "|Australia|            Victoria|\n",
      "|Australia|            Victoria|\n",
      "|Australia|            Victoria|\n",
      "|Australia|            Victoria|\n",
      "|Australia|            Victoria|\n",
      "|Australia|            Victoria|\n",
      "|Australia|          Queensland|\n",
      "|Australia|          Queensland|\n",
      "|Australia|          Queensland|\n",
      "+---------+--------------------+\n",
      "only showing top 20 rows\n",
      "\n"
     ]
    }
   ],
   "source": [
    "spark.sql('select Country,State from data_view').show()"
   ]
  },
  {
   "cell_type": "code",
   "execution_count": 48,
   "id": "560122c4",
   "metadata": {},
   "outputs": [
    {
     "name": "stdout",
     "output_type": "stream",
     "text": [
      "+---------+\n",
      "|  Country|\n",
      "+---------+\n",
      "|Australia|\n",
      "|Australia|\n",
      "|Australia|\n",
      "|Australia|\n",
      "|Australia|\n",
      "|Australia|\n",
      "|Australia|\n",
      "|Australia|\n",
      "|Australia|\n",
      "|Australia|\n",
      "|Australia|\n",
      "|Australia|\n",
      "|Australia|\n",
      "|Australia|\n",
      "|Australia|\n",
      "|Australia|\n",
      "|Australia|\n",
      "|Australia|\n",
      "|Australia|\n",
      "|Australia|\n",
      "+---------+\n",
      "only showing top 20 rows\n",
      "\n"
     ]
    }
   ],
   "source": [
    "data.select(['Country']).show()"
   ]
  },
  {
   "cell_type": "code",
   "execution_count": 49,
   "id": "659b304f",
   "metadata": {},
   "outputs": [
    {
     "name": "stdout",
     "output_type": "stream",
     "text": [
      "+---------+\n",
      "|  Country|\n",
      "+---------+\n",
      "|Australia|\n",
      "|Australia|\n",
      "|Australia|\n",
      "|Australia|\n",
      "|Australia|\n",
      "|Australia|\n",
      "|Australia|\n",
      "|Australia|\n",
      "|Australia|\n",
      "|Australia|\n",
      "|Australia|\n",
      "|Australia|\n",
      "|Australia|\n",
      "|Australia|\n",
      "|Australia|\n",
      "|Australia|\n",
      "|Australia|\n",
      "|Australia|\n",
      "|Australia|\n",
      "|Australia|\n",
      "+---------+\n",
      "only showing top 20 rows\n",
      "\n"
     ]
    }
   ],
   "source": [
    "spark.sql('select Country from data_view').show()"
   ]
  },
  {
   "cell_type": "code",
   "execution_count": 50,
   "id": "62cf2ba1",
   "metadata": {},
   "outputs": [
    {
     "data": {
      "text/html": [
       "<div>\n",
       "<style scoped>\n",
       "    .dataframe tbody tr th:only-of-type {\n",
       "        vertical-align: middle;\n",
       "    }\n",
       "\n",
       "    .dataframe tbody tr th {\n",
       "        vertical-align: top;\n",
       "    }\n",
       "\n",
       "    .dataframe thead th {\n",
       "        text-align: right;\n",
       "    }\n",
       "</style>\n",
       "<table border=\"1\" class=\"dataframe\">\n",
       "  <thead>\n",
       "    <tr style=\"text-align: right;\">\n",
       "      <th></th>\n",
       "      <th>Country</th>\n",
       "    </tr>\n",
       "  </thead>\n",
       "  <tbody>\n",
       "    <tr>\n",
       "      <th>0</th>\n",
       "      <td>Australia</td>\n",
       "    </tr>\n",
       "    <tr>\n",
       "      <th>1</th>\n",
       "      <td>Australia</td>\n",
       "    </tr>\n",
       "    <tr>\n",
       "      <th>2</th>\n",
       "      <td>Australia</td>\n",
       "    </tr>\n",
       "    <tr>\n",
       "      <th>3</th>\n",
       "      <td>Australia</td>\n",
       "    </tr>\n",
       "    <tr>\n",
       "      <th>4</th>\n",
       "      <td>Australia</td>\n",
       "    </tr>\n",
       "    <tr>\n",
       "      <th>...</th>\n",
       "      <td>...</td>\n",
       "    </tr>\n",
       "    <tr>\n",
       "      <th>242</th>\n",
       "      <td>Jordan</td>\n",
       "    </tr>\n",
       "    <tr>\n",
       "      <th>243</th>\n",
       "      <td>Jordan</td>\n",
       "    </tr>\n",
       "    <tr>\n",
       "      <th>244</th>\n",
       "      <td>Jordan</td>\n",
       "    </tr>\n",
       "    <tr>\n",
       "      <th>245</th>\n",
       "      <td>Jordan</td>\n",
       "    </tr>\n",
       "    <tr>\n",
       "      <th>246</th>\n",
       "      <td>Jordan</td>\n",
       "    </tr>\n",
       "  </tbody>\n",
       "</table>\n",
       "<p>247 rows × 1 columns</p>\n",
       "</div>"
      ],
      "text/plain": [
       "       Country\n",
       "0    Australia\n",
       "1    Australia\n",
       "2    Australia\n",
       "3    Australia\n",
       "4    Australia\n",
       "..         ...\n",
       "242     Jordan\n",
       "243     Jordan\n",
       "244     Jordan\n",
       "245     Jordan\n",
       "246     Jordan\n",
       "\n",
       "[247 rows x 1 columns]"
      ]
     },
     "execution_count": 50,
     "metadata": {},
     "output_type": "execute_result"
    }
   ],
   "source": [
    "spark.sql('select Country from data_view').toPandas()"
   ]
  },
  {
   "cell_type": "code",
   "execution_count": 51,
   "id": "56acd25f",
   "metadata": {},
   "outputs": [
    {
     "data": {
      "text/plain": [
       "Row(Country='Australia')"
      ]
     },
     "execution_count": 51,
     "metadata": {},
     "output_type": "execute_result"
    }
   ],
   "source": [
    "data.select(['Country']).head()"
   ]
  },
  {
   "cell_type": "code",
   "execution_count": 52,
   "id": "9022d197",
   "metadata": {},
   "outputs": [
    {
     "data": {
      "text/plain": [
       "[Row(Country='Australia'),\n",
       " Row(Country='Australia'),\n",
       " Row(Country='Australia'),\n",
       " Row(Country='Australia'),\n",
       " Row(Country='Australia')]"
      ]
     },
     "execution_count": 52,
     "metadata": {},
     "output_type": "execute_result"
    }
   ],
   "source": [
    "data.select(['Country']).head(5)"
   ]
  },
  {
   "cell_type": "code",
   "execution_count": 53,
   "id": "8bdbde37",
   "metadata": {},
   "outputs": [
    {
     "data": {
      "text/html": [
       "<div>\n",
       "<style scoped>\n",
       "    .dataframe tbody tr th:only-of-type {\n",
       "        vertical-align: middle;\n",
       "    }\n",
       "\n",
       "    .dataframe tbody tr th {\n",
       "        vertical-align: top;\n",
       "    }\n",
       "\n",
       "    .dataframe thead th {\n",
       "        text-align: right;\n",
       "    }\n",
       "</style>\n",
       "<table border=\"1\" class=\"dataframe\">\n",
       "  <thead>\n",
       "    <tr style=\"text-align: right;\">\n",
       "      <th></th>\n",
       "      <th>Country</th>\n",
       "    </tr>\n",
       "  </thead>\n",
       "  <tbody>\n",
       "    <tr>\n",
       "      <th>0</th>\n",
       "      <td>Australia</td>\n",
       "    </tr>\n",
       "    <tr>\n",
       "      <th>1</th>\n",
       "      <td>Australia</td>\n",
       "    </tr>\n",
       "    <tr>\n",
       "      <th>2</th>\n",
       "      <td>Australia</td>\n",
       "    </tr>\n",
       "    <tr>\n",
       "      <th>3</th>\n",
       "      <td>Australia</td>\n",
       "    </tr>\n",
       "    <tr>\n",
       "      <th>4</th>\n",
       "      <td>Australia</td>\n",
       "    </tr>\n",
       "  </tbody>\n",
       "</table>\n",
       "</div>"
      ],
      "text/plain": [
       "     Country\n",
       "0  Australia\n",
       "1  Australia\n",
       "2  Australia\n",
       "3  Australia\n",
       "4  Australia"
      ]
     },
     "execution_count": 53,
     "metadata": {},
     "output_type": "execute_result"
    }
   ],
   "source": [
    "spark.sql('select Country from data_view').toPandas().head()"
   ]
  },
  {
   "cell_type": "code",
   "execution_count": 54,
   "id": "6792c801",
   "metadata": {},
   "outputs": [
    {
     "data": {
      "text/plain": [
       "Column<'Country'>"
      ]
     },
     "execution_count": 54,
     "metadata": {},
     "output_type": "execute_result"
    }
   ],
   "source": [
    "data['Country']"
   ]
  },
  {
   "cell_type": "code",
   "execution_count": 55,
   "id": "f997d218",
   "metadata": {},
   "outputs": [
    {
     "data": {
      "text/plain": [
       "[('Country', 'string'),\n",
       " ('State', 'string'),\n",
       " ('University Name', 'string'),\n",
       " ('Type of University', 'string'),\n",
       " ('Tie Up with University', 'string'),\n",
       " ('School', 'string'),\n",
       " ('Technologies/Courses Offered', 'string'),\n",
       " ('Course Types', 'string'),\n",
       " ('Unplaced %', 'string'),\n",
       " ('Corporate Tie Up', 'string'),\n",
       " ('Job Offering', 'string'),\n",
       " ('Internship', 'string'),\n",
       " ('Marketing Strategy', 'string'),\n",
       " ('Costing', 'string'),\n",
       " ('Hackathons', 'string'),\n",
       " ('Services Offered', 'string'),\n",
       " ('Scholarships', 'string'),\n",
       " ('Tier', 'string'),\n",
       " ('Ranking', 'string')]"
      ]
     },
     "execution_count": 55,
     "metadata": {},
     "output_type": "execute_result"
    }
   ],
   "source": [
    "data.dtypes"
   ]
  },
  {
   "cell_type": "code",
   "execution_count": 56,
   "id": "b46f2d5e",
   "metadata": {},
   "outputs": [
    {
     "data": {
      "text/plain": [
       "Country                         object\n",
       "State                           object\n",
       "University Name                 object\n",
       "Type of University              object\n",
       "Tie Up with University          object\n",
       "School                          object\n",
       "Technologies/Courses Offered    object\n",
       "Course Types                    object\n",
       "Unplaced %                      object\n",
       "Corporate Tie Up                object\n",
       "Job Offering                    object\n",
       "Internship                      object\n",
       "Marketing Strategy              object\n",
       "Costing                         object\n",
       "Hackathons                      object\n",
       "Services Offered                object\n",
       "Scholarships                    object\n",
       "Tier                            object\n",
       "Ranking                         object\n",
       "dtype: object"
      ]
     },
     "execution_count": 56,
     "metadata": {},
     "output_type": "execute_result"
    }
   ],
   "source": [
    "data_df.dtypes"
   ]
  },
  {
   "cell_type": "code",
   "execution_count": 57,
   "id": "69f66a72",
   "metadata": {},
   "outputs": [
    {
     "data": {
      "text/plain": [
       "DataFrame[summary: string, Country: string, State: string, University Name: string, Type of University: string, Tie Up with University: string, School: string, Technologies/Courses Offered: string, Course Types: string, Unplaced %: string, Corporate Tie Up: string, Job Offering: string, Internship: string, Marketing Strategy: string, Costing: string, Hackathons: string, Services Offered: string, Scholarships: string, Tier: string, Ranking: string]"
      ]
     },
     "execution_count": 57,
     "metadata": {},
     "output_type": "execute_result"
    }
   ],
   "source": [
    "data.describe()"
   ]
  },
  {
   "cell_type": "code",
   "execution_count": 58,
   "id": "e5b54998",
   "metadata": {},
   "outputs": [
    {
     "data": {
      "text/html": [
       "<div>\n",
       "<style scoped>\n",
       "    .dataframe tbody tr th:only-of-type {\n",
       "        vertical-align: middle;\n",
       "    }\n",
       "\n",
       "    .dataframe tbody tr th {\n",
       "        vertical-align: top;\n",
       "    }\n",
       "\n",
       "    .dataframe thead th {\n",
       "        text-align: right;\n",
       "    }\n",
       "</style>\n",
       "<table border=\"1\" class=\"dataframe\">\n",
       "  <thead>\n",
       "    <tr style=\"text-align: right;\">\n",
       "      <th></th>\n",
       "      <th>summary</th>\n",
       "      <th>Country</th>\n",
       "      <th>State</th>\n",
       "      <th>University Name</th>\n",
       "      <th>Type of University</th>\n",
       "      <th>Tie Up with University</th>\n",
       "      <th>School</th>\n",
       "      <th>Technologies/Courses Offered</th>\n",
       "      <th>Course Types</th>\n",
       "      <th>Unplaced %</th>\n",
       "      <th>Corporate Tie Up</th>\n",
       "      <th>Job Offering</th>\n",
       "      <th>Internship</th>\n",
       "      <th>Marketing Strategy</th>\n",
       "      <th>Costing</th>\n",
       "      <th>Hackathons</th>\n",
       "      <th>Services Offered</th>\n",
       "      <th>Scholarships</th>\n",
       "      <th>Tier</th>\n",
       "      <th>Ranking</th>\n",
       "    </tr>\n",
       "  </thead>\n",
       "  <tbody>\n",
       "    <tr>\n",
       "      <th>0</th>\n",
       "      <td>count</td>\n",
       "      <td>247</td>\n",
       "      <td>247</td>\n",
       "      <td>247</td>\n",
       "      <td>247</td>\n",
       "      <td>247</td>\n",
       "      <td>247</td>\n",
       "      <td>247</td>\n",
       "      <td>247</td>\n",
       "      <td>247</td>\n",
       "      <td>247</td>\n",
       "      <td>247</td>\n",
       "      <td>247</td>\n",
       "      <td>247</td>\n",
       "      <td>247</td>\n",
       "      <td>247</td>\n",
       "      <td>247</td>\n",
       "      <td>247</td>\n",
       "      <td>247</td>\n",
       "      <td>247</td>\n",
       "    </tr>\n",
       "    <tr>\n",
       "      <th>1</th>\n",
       "      <td>mean</td>\n",
       "      <td>None</td>\n",
       "      <td>None</td>\n",
       "      <td>None</td>\n",
       "      <td>None</td>\n",
       "      <td>None</td>\n",
       "      <td>None</td>\n",
       "      <td>None</td>\n",
       "      <td>None</td>\n",
       "      <td>12.89987854251013</td>\n",
       "      <td>None</td>\n",
       "      <td>None</td>\n",
       "      <td>None</td>\n",
       "      <td>None</td>\n",
       "      <td>None</td>\n",
       "      <td>None</td>\n",
       "      <td>None</td>\n",
       "      <td>None</td>\n",
       "      <td>None</td>\n",
       "      <td>511.73279352226723</td>\n",
       "    </tr>\n",
       "    <tr>\n",
       "      <th>2</th>\n",
       "      <td>stddev</td>\n",
       "      <td>None</td>\n",
       "      <td>None</td>\n",
       "      <td>None</td>\n",
       "      <td>None</td>\n",
       "      <td>None</td>\n",
       "      <td>None</td>\n",
       "      <td>None</td>\n",
       "      <td>None</td>\n",
       "      <td>4.297411820988518</td>\n",
       "      <td>None</td>\n",
       "      <td>None</td>\n",
       "      <td>None</td>\n",
       "      <td>None</td>\n",
       "      <td>None</td>\n",
       "      <td>None</td>\n",
       "      <td>None</td>\n",
       "      <td>None</td>\n",
       "      <td>None</td>\n",
       "      <td>285.2054341918664</td>\n",
       "    </tr>\n",
       "    <tr>\n",
       "      <th>3</th>\n",
       "      <td>min</td>\n",
       "      <td>Australia</td>\n",
       "      <td>Abha</td>\n",
       "      <td>Abu Dhabi University</td>\n",
       "      <td>Private</td>\n",
       "      <td>No</td>\n",
       "      <td>Arts</td>\n",
       "      <td>AI</td>\n",
       "      <td>Full-time</td>\n",
       "      <td>10.07</td>\n",
       "      <td>No</td>\n",
       "      <td>No</td>\n",
       "      <td>No</td>\n",
       "      <td>Both</td>\n",
       "      <td>$10037</td>\n",
       "      <td>No</td>\n",
       "      <td>Both</td>\n",
       "      <td>No</td>\n",
       "      <td>Tier 1</td>\n",
       "      <td>106</td>\n",
       "    </tr>\n",
       "    <tr>\n",
       "      <th>4</th>\n",
       "      <td>max</td>\n",
       "      <td>UAE</td>\n",
       "      <td>Zouk Mosbeh</td>\n",
       "      <td>Zayed University</td>\n",
       "      <td>Public</td>\n",
       "      <td>Yes</td>\n",
       "      <td>Science</td>\n",
       "      <td>ML</td>\n",
       "      <td>Part-time</td>\n",
       "      <td>9.99</td>\n",
       "      <td>Yes</td>\n",
       "      <td>Yes</td>\n",
       "      <td>Yes</td>\n",
       "      <td>Traditional</td>\n",
       "      <td>$49984</td>\n",
       "      <td>Yes</td>\n",
       "      <td>Training</td>\n",
       "      <td>Yes</td>\n",
       "      <td>Tier 3</td>\n",
       "      <td>997</td>\n",
       "    </tr>\n",
       "  </tbody>\n",
       "</table>\n",
       "</div>"
      ],
      "text/plain": [
       "  summary    Country        State       University Name Type of University  \\\n",
       "0   count        247          247                   247                247   \n",
       "1    mean       None         None                  None               None   \n",
       "2  stddev       None         None                  None               None   \n",
       "3     min  Australia         Abha  Abu Dhabi University            Private   \n",
       "4     max        UAE  Zouk Mosbeh      Zayed University             Public   \n",
       "\n",
       "  Tie Up with University   School Technologies/Courses Offered Course Types  \\\n",
       "0                    247      247                          247          247   \n",
       "1                   None     None                         None         None   \n",
       "2                   None     None                         None         None   \n",
       "3                     No     Arts                           AI    Full-time   \n",
       "4                    Yes  Science                           ML    Part-time   \n",
       "\n",
       "          Unplaced % Corporate Tie Up Job Offering Internship  \\\n",
       "0                247              247          247        247   \n",
       "1  12.89987854251013             None         None       None   \n",
       "2  4.297411820988518             None         None       None   \n",
       "3              10.07               No           No         No   \n",
       "4               9.99              Yes          Yes        Yes   \n",
       "\n",
       "  Marketing Strategy Costing Hackathons Services Offered Scholarships    Tier  \\\n",
       "0                247     247        247              247          247     247   \n",
       "1               None    None       None             None         None    None   \n",
       "2               None    None       None             None         None    None   \n",
       "3               Both  $10037         No             Both           No  Tier 1   \n",
       "4        Traditional  $49984        Yes         Training          Yes  Tier 3   \n",
       "\n",
       "              Ranking  \n",
       "0                 247  \n",
       "1  511.73279352226723  \n",
       "2   285.2054341918664  \n",
       "3                 106  \n",
       "4                 997  "
      ]
     },
     "execution_count": 58,
     "metadata": {},
     "output_type": "execute_result"
    }
   ],
   "source": [
    "data.describe().toPandas()"
   ]
  },
  {
   "cell_type": "code",
   "execution_count": 59,
   "id": "c38e92dc",
   "metadata": {},
   "outputs": [
    {
     "data": {
      "text/html": [
       "<div>\n",
       "<style scoped>\n",
       "    .dataframe tbody tr th:only-of-type {\n",
       "        vertical-align: middle;\n",
       "    }\n",
       "\n",
       "    .dataframe tbody tr th {\n",
       "        vertical-align: top;\n",
       "    }\n",
       "\n",
       "    .dataframe thead th {\n",
       "        text-align: right;\n",
       "    }\n",
       "</style>\n",
       "<table border=\"1\" class=\"dataframe\">\n",
       "  <thead>\n",
       "    <tr style=\"text-align: right;\">\n",
       "      <th></th>\n",
       "      <th>Country</th>\n",
       "      <th>State</th>\n",
       "      <th>University Name</th>\n",
       "      <th>Type of University</th>\n",
       "      <th>Tie Up with University</th>\n",
       "      <th>School</th>\n",
       "      <th>Technologies/Courses Offered</th>\n",
       "      <th>Course Types</th>\n",
       "      <th>Unplaced %</th>\n",
       "      <th>Corporate Tie Up</th>\n",
       "      <th>Job Offering</th>\n",
       "      <th>Internship</th>\n",
       "      <th>Marketing Strategy</th>\n",
       "      <th>Costing</th>\n",
       "      <th>Hackathons</th>\n",
       "      <th>Services Offered</th>\n",
       "      <th>Scholarships</th>\n",
       "      <th>Tier</th>\n",
       "      <th>Ranking</th>\n",
       "    </tr>\n",
       "  </thead>\n",
       "  <tbody>\n",
       "    <tr>\n",
       "      <th>count</th>\n",
       "      <td>247</td>\n",
       "      <td>247</td>\n",
       "      <td>247</td>\n",
       "      <td>247</td>\n",
       "      <td>247</td>\n",
       "      <td>247</td>\n",
       "      <td>247</td>\n",
       "      <td>247</td>\n",
       "      <td>247</td>\n",
       "      <td>247</td>\n",
       "      <td>247</td>\n",
       "      <td>247</td>\n",
       "      <td>247</td>\n",
       "      <td>247</td>\n",
       "      <td>247</td>\n",
       "      <td>247</td>\n",
       "      <td>247</td>\n",
       "      <td>247</td>\n",
       "      <td>247</td>\n",
       "    </tr>\n",
       "    <tr>\n",
       "      <th>unique</th>\n",
       "      <td>13</td>\n",
       "      <td>114</td>\n",
       "      <td>243</td>\n",
       "      <td>2</td>\n",
       "      <td>2</td>\n",
       "      <td>4</td>\n",
       "      <td>5</td>\n",
       "      <td>3</td>\n",
       "      <td>224</td>\n",
       "      <td>2</td>\n",
       "      <td>2</td>\n",
       "      <td>2</td>\n",
       "      <td>3</td>\n",
       "      <td>247</td>\n",
       "      <td>2</td>\n",
       "      <td>3</td>\n",
       "      <td>2</td>\n",
       "      <td>3</td>\n",
       "      <td>218</td>\n",
       "    </tr>\n",
       "    <tr>\n",
       "      <th>top</th>\n",
       "      <td>Lebanon</td>\n",
       "      <td>Beirut</td>\n",
       "      <td>Universit� des Sciences et Technologies de Tri...</td>\n",
       "      <td>Private</td>\n",
       "      <td>No</td>\n",
       "      <td>Arts</td>\n",
       "      <td>AI</td>\n",
       "      <td>Full-time</td>\n",
       "      <td>12.7</td>\n",
       "      <td>Yes</td>\n",
       "      <td>No</td>\n",
       "      <td>Yes</td>\n",
       "      <td>Traditional</td>\n",
       "      <td>$41874</td>\n",
       "      <td>Yes</td>\n",
       "      <td>Consulting</td>\n",
       "      <td>No</td>\n",
       "      <td>Tier 3</td>\n",
       "      <td>922</td>\n",
       "    </tr>\n",
       "    <tr>\n",
       "      <th>freq</th>\n",
       "      <td>42</td>\n",
       "      <td>36</td>\n",
       "      <td>2</td>\n",
       "      <td>127</td>\n",
       "      <td>130</td>\n",
       "      <td>72</td>\n",
       "      <td>56</td>\n",
       "      <td>103</td>\n",
       "      <td>4</td>\n",
       "      <td>131</td>\n",
       "      <td>124</td>\n",
       "      <td>134</td>\n",
       "      <td>95</td>\n",
       "      <td>1</td>\n",
       "      <td>127</td>\n",
       "      <td>90</td>\n",
       "      <td>144</td>\n",
       "      <td>97</td>\n",
       "      <td>3</td>\n",
       "    </tr>\n",
       "  </tbody>\n",
       "</table>\n",
       "</div>"
      ],
      "text/plain": [
       "        Country   State                                    University Name  \\\n",
       "count       247     247                                                247   \n",
       "unique       13     114                                                243   \n",
       "top     Lebanon  Beirut  Universit� des Sciences et Technologies de Tri...   \n",
       "freq         42      36                                                  2   \n",
       "\n",
       "       Type of University Tie Up with University School  \\\n",
       "count                 247                    247    247   \n",
       "unique                  2                      2      4   \n",
       "top               Private                     No   Arts   \n",
       "freq                  127                    130     72   \n",
       "\n",
       "       Technologies/Courses Offered Course Types Unplaced % Corporate Tie Up  \\\n",
       "count                           247          247        247              247   \n",
       "unique                            5            3        224                2   \n",
       "top                              AI    Full-time       12.7              Yes   \n",
       "freq                             56          103          4              131   \n",
       "\n",
       "       Job Offering Internship Marketing Strategy Costing Hackathons  \\\n",
       "count           247        247                247     247        247   \n",
       "unique            2          2                  3     247          2   \n",
       "top              No        Yes        Traditional  $41874        Yes   \n",
       "freq            124        134                 95       1        127   \n",
       "\n",
       "       Services Offered Scholarships    Tier Ranking  \n",
       "count               247          247     247     247  \n",
       "unique                3            2       3     218  \n",
       "top          Consulting           No  Tier 3     922  \n",
       "freq                 90          144      97       3  "
      ]
     },
     "execution_count": 59,
     "metadata": {},
     "output_type": "execute_result"
    }
   ],
   "source": [
    "data_df.describe()"
   ]
  },
  {
   "cell_type": "code",
   "execution_count": 60,
   "id": "b70097f0",
   "metadata": {},
   "outputs": [],
   "source": [
    "# Add columns to existing data frame"
   ]
  },
  {
   "cell_type": "code",
   "execution_count": 61,
   "id": "a54a6ece",
   "metadata": {},
   "outputs": [
    {
     "data": {
      "text/plain": [
       "Column<'Ranking'>"
      ]
     },
     "execution_count": 61,
     "metadata": {},
     "output_type": "execute_result"
    }
   ],
   "source": [
    "data['Ranking']"
   ]
  },
  {
   "cell_type": "code",
   "execution_count": 62,
   "id": "46bd5adc",
   "metadata": {},
   "outputs": [
    {
     "data": {
      "text/plain": [
       "Row(Ranking='24')"
      ]
     },
     "execution_count": 62,
     "metadata": {},
     "output_type": "execute_result"
    }
   ],
   "source": [
    "data.select(['Ranking']).head()"
   ]
  },
  {
   "cell_type": "code",
   "execution_count": 63,
   "id": "f543f3d0",
   "metadata": {},
   "outputs": [],
   "source": [
    "data=data.withColumn('Ranking After 2 Years',data['Ranking']-2)"
   ]
  },
  {
   "cell_type": "code",
   "execution_count": 64,
   "id": "bb630ead",
   "metadata": {},
   "outputs": [
    {
     "data": {
      "text/plain": [
       "Index(['Country', 'State', 'University Name', 'Type of University',\n",
       "       'Tie Up with University', 'School', 'Technologies/Courses Offered',\n",
       "       'Course Types', 'Unplaced %', 'Corporate Tie Up', 'Job Offering',\n",
       "       'Internship', 'Marketing Strategy', 'Costing', 'Hackathons',\n",
       "       'Services Offered', 'Scholarships', 'Tier', 'Ranking'],\n",
       "      dtype='object')"
      ]
     },
     "execution_count": 64,
     "metadata": {},
     "output_type": "execute_result"
    }
   ],
   "source": [
    "data_df.columns"
   ]
  },
  {
   "cell_type": "code",
   "execution_count": 65,
   "id": "41c95127",
   "metadata": {},
   "outputs": [
    {
     "data": {
      "text/html": [
       "<div>\n",
       "<style scoped>\n",
       "    .dataframe tbody tr th:only-of-type {\n",
       "        vertical-align: middle;\n",
       "    }\n",
       "\n",
       "    .dataframe tbody tr th {\n",
       "        vertical-align: top;\n",
       "    }\n",
       "\n",
       "    .dataframe thead th {\n",
       "        text-align: right;\n",
       "    }\n",
       "</style>\n",
       "<table border=\"1\" class=\"dataframe\">\n",
       "  <thead>\n",
       "    <tr style=\"text-align: right;\">\n",
       "      <th></th>\n",
       "      <th>Country</th>\n",
       "      <th>State</th>\n",
       "      <th>University Name</th>\n",
       "      <th>Type of University</th>\n",
       "      <th>Tie Up with University</th>\n",
       "      <th>School</th>\n",
       "      <th>Technologies/Courses Offered</th>\n",
       "      <th>Course Types</th>\n",
       "      <th>Unplaced %</th>\n",
       "      <th>Corporate Tie Up</th>\n",
       "      <th>Job Offering</th>\n",
       "      <th>Internship</th>\n",
       "      <th>Marketing Strategy</th>\n",
       "      <th>Costing</th>\n",
       "      <th>Hackathons</th>\n",
       "      <th>Services Offered</th>\n",
       "      <th>Scholarships</th>\n",
       "      <th>Tier</th>\n",
       "      <th>Ranking</th>\n",
       "    </tr>\n",
       "  </thead>\n",
       "  <tbody>\n",
       "    <tr>\n",
       "      <th>0</th>\n",
       "      <td>Australia</td>\n",
       "      <td>Australian Capital Territory</td>\n",
       "      <td>Australian National University (ANU)</td>\n",
       "      <td>Public</td>\n",
       "      <td>No</td>\n",
       "      <td>Science</td>\n",
       "      <td>Cyber Security</td>\n",
       "      <td>Full-time</td>\n",
       "      <td>6.59</td>\n",
       "      <td>No</td>\n",
       "      <td>Yes</td>\n",
       "      <td>No</td>\n",
       "      <td>Traditional</td>\n",
       "      <td>$41874</td>\n",
       "      <td>Yes</td>\n",
       "      <td>Consulting</td>\n",
       "      <td>No</td>\n",
       "      <td>Tier 3</td>\n",
       "      <td>24</td>\n",
       "    </tr>\n",
       "    <tr>\n",
       "      <th>1</th>\n",
       "      <td>Australia</td>\n",
       "      <td>Australian Capital Territory</td>\n",
       "      <td>University of Canberra</td>\n",
       "      <td>Public</td>\n",
       "      <td>Yes</td>\n",
       "      <td>Science</td>\n",
       "      <td>ML</td>\n",
       "      <td>Online</td>\n",
       "      <td>6.87</td>\n",
       "      <td>No</td>\n",
       "      <td>No</td>\n",
       "      <td>No</td>\n",
       "      <td>Traditional</td>\n",
       "      <td>$18404</td>\n",
       "      <td>Yes</td>\n",
       "      <td>Training</td>\n",
       "      <td>No</td>\n",
       "      <td>Tier 1</td>\n",
       "      <td>336</td>\n",
       "    </tr>\n",
       "    <tr>\n",
       "      <th>2</th>\n",
       "      <td>Australia</td>\n",
       "      <td>New South Wales</td>\n",
       "      <td>University of Sydney</td>\n",
       "      <td>Private</td>\n",
       "      <td>Yes</td>\n",
       "      <td>Engineering</td>\n",
       "      <td>AI</td>\n",
       "      <td>Full-time</td>\n",
       "      <td>10.78</td>\n",
       "      <td>Yes</td>\n",
       "      <td>No</td>\n",
       "      <td>No</td>\n",
       "      <td>Both</td>\n",
       "      <td>$39218</td>\n",
       "      <td>Yes</td>\n",
       "      <td>Both</td>\n",
       "      <td>No</td>\n",
       "      <td>Tier 1</td>\n",
       "      <td>19</td>\n",
       "    </tr>\n",
       "    <tr>\n",
       "      <th>3</th>\n",
       "      <td>Australia</td>\n",
       "      <td>New South Wales</td>\n",
       "      <td>University of New South Wales (UNSW Sydney)</td>\n",
       "      <td>Private</td>\n",
       "      <td>Yes</td>\n",
       "      <td>Arts</td>\n",
       "      <td>IoT</td>\n",
       "      <td>Part-time</td>\n",
       "      <td>5.23</td>\n",
       "      <td>No</td>\n",
       "      <td>No</td>\n",
       "      <td>No</td>\n",
       "      <td>Both</td>\n",
       "      <td>$19648</td>\n",
       "      <td>Yes</td>\n",
       "      <td>Consulting</td>\n",
       "      <td>No</td>\n",
       "      <td>Tier 1</td>\n",
       "      <td>429</td>\n",
       "    </tr>\n",
       "    <tr>\n",
       "      <th>4</th>\n",
       "      <td>Australia</td>\n",
       "      <td>New South Wales</td>\n",
       "      <td>University of Newcastle</td>\n",
       "      <td>Private</td>\n",
       "      <td>Yes</td>\n",
       "      <td>Engineering</td>\n",
       "      <td>Cyber Security</td>\n",
       "      <td>Part-time</td>\n",
       "      <td>16.04</td>\n",
       "      <td>No</td>\n",
       "      <td>Yes</td>\n",
       "      <td>No</td>\n",
       "      <td>Traditional</td>\n",
       "      <td>$21278</td>\n",
       "      <td>Yes</td>\n",
       "      <td>Both</td>\n",
       "      <td>Yes</td>\n",
       "      <td>Tier 2</td>\n",
       "      <td>132</td>\n",
       "    </tr>\n",
       "    <tr>\n",
       "      <th>...</th>\n",
       "      <td>...</td>\n",
       "      <td>...</td>\n",
       "      <td>...</td>\n",
       "      <td>...</td>\n",
       "      <td>...</td>\n",
       "      <td>...</td>\n",
       "      <td>...</td>\n",
       "      <td>...</td>\n",
       "      <td>...</td>\n",
       "      <td>...</td>\n",
       "      <td>...</td>\n",
       "      <td>...</td>\n",
       "      <td>...</td>\n",
       "      <td>...</td>\n",
       "      <td>...</td>\n",
       "      <td>...</td>\n",
       "      <td>...</td>\n",
       "      <td>...</td>\n",
       "      <td>...</td>\n",
       "    </tr>\n",
       "    <tr>\n",
       "      <th>242</th>\n",
       "      <td>Jordan</td>\n",
       "      <td>Zarqa</td>\n",
       "      <td>Al-Zarqa Private University</td>\n",
       "      <td>Public</td>\n",
       "      <td>No</td>\n",
       "      <td>Arts</td>\n",
       "      <td>Cyber Security</td>\n",
       "      <td>Part-time</td>\n",
       "      <td>14.49</td>\n",
       "      <td>No</td>\n",
       "      <td>Yes</td>\n",
       "      <td>Yes</td>\n",
       "      <td>Digital</td>\n",
       "      <td>$21300</td>\n",
       "      <td>Yes</td>\n",
       "      <td>Both</td>\n",
       "      <td>No</td>\n",
       "      <td>Tier 3</td>\n",
       "      <td>270</td>\n",
       "    </tr>\n",
       "    <tr>\n",
       "      <th>243</th>\n",
       "      <td>Jordan</td>\n",
       "      <td>Madaba</td>\n",
       "      <td>American University of Madaba</td>\n",
       "      <td>Private</td>\n",
       "      <td>No</td>\n",
       "      <td>Arts</td>\n",
       "      <td>AI</td>\n",
       "      <td>Online</td>\n",
       "      <td>17.82</td>\n",
       "      <td>Yes</td>\n",
       "      <td>Yes</td>\n",
       "      <td>No</td>\n",
       "      <td>Traditional</td>\n",
       "      <td>$28886</td>\n",
       "      <td>No</td>\n",
       "      <td>Training</td>\n",
       "      <td>No</td>\n",
       "      <td>Tier 3</td>\n",
       "      <td>869</td>\n",
       "    </tr>\n",
       "    <tr>\n",
       "      <th>244</th>\n",
       "      <td>Jordan</td>\n",
       "      <td>Ajloun</td>\n",
       "      <td>Ajloun National University</td>\n",
       "      <td>Private</td>\n",
       "      <td>Yes</td>\n",
       "      <td>Engineering</td>\n",
       "      <td>IoT</td>\n",
       "      <td>Part-time</td>\n",
       "      <td>10.07</td>\n",
       "      <td>No</td>\n",
       "      <td>No</td>\n",
       "      <td>No</td>\n",
       "      <td>Traditional</td>\n",
       "      <td>$28004</td>\n",
       "      <td>Yes</td>\n",
       "      <td>Training</td>\n",
       "      <td>Yes</td>\n",
       "      <td>Tier 1</td>\n",
       "      <td>463</td>\n",
       "    </tr>\n",
       "    <tr>\n",
       "      <th>245</th>\n",
       "      <td>Jordan</td>\n",
       "      <td>Mafraq</td>\n",
       "      <td>Al al-Bayt University</td>\n",
       "      <td>Private</td>\n",
       "      <td>No</td>\n",
       "      <td>Arts</td>\n",
       "      <td>AI</td>\n",
       "      <td>Full-time</td>\n",
       "      <td>7.76</td>\n",
       "      <td>Yes</td>\n",
       "      <td>Yes</td>\n",
       "      <td>Yes</td>\n",
       "      <td>Digital</td>\n",
       "      <td>$22407</td>\n",
       "      <td>No</td>\n",
       "      <td>Consulting</td>\n",
       "      <td>No</td>\n",
       "      <td>Tier 1</td>\n",
       "      <td>650</td>\n",
       "    </tr>\n",
       "    <tr>\n",
       "      <th>246</th>\n",
       "      <td>Jordan</td>\n",
       "      <td>Karak</td>\n",
       "      <td>Mutah University</td>\n",
       "      <td>Public</td>\n",
       "      <td>Yes</td>\n",
       "      <td>Arts</td>\n",
       "      <td>IoT</td>\n",
       "      <td>Part-time</td>\n",
       "      <td>16.13</td>\n",
       "      <td>Yes</td>\n",
       "      <td>No</td>\n",
       "      <td>Yes</td>\n",
       "      <td>Digital</td>\n",
       "      <td>$39328</td>\n",
       "      <td>Yes</td>\n",
       "      <td>Consulting</td>\n",
       "      <td>No</td>\n",
       "      <td>Tier 3</td>\n",
       "      <td>360</td>\n",
       "    </tr>\n",
       "  </tbody>\n",
       "</table>\n",
       "<p>247 rows × 19 columns</p>\n",
       "</div>"
      ],
      "text/plain": [
       "       Country                         State  \\\n",
       "0    Australia  Australian Capital Territory   \n",
       "1    Australia  Australian Capital Territory   \n",
       "2    Australia               New South Wales   \n",
       "3    Australia               New South Wales   \n",
       "4    Australia               New South Wales   \n",
       "..         ...                           ...   \n",
       "242     Jordan                         Zarqa   \n",
       "243     Jordan                        Madaba   \n",
       "244     Jordan                        Ajloun   \n",
       "245     Jordan                        Mafraq   \n",
       "246     Jordan                         Karak   \n",
       "\n",
       "                                 University Name Type of University  \\\n",
       "0           Australian National University (ANU)             Public   \n",
       "1                         University of Canberra             Public   \n",
       "2                           University of Sydney            Private   \n",
       "3    University of New South Wales (UNSW Sydney)            Private   \n",
       "4                        University of Newcastle            Private   \n",
       "..                                           ...                ...   \n",
       "242                  Al-Zarqa Private University             Public   \n",
       "243                American University of Madaba            Private   \n",
       "244                   Ajloun National University            Private   \n",
       "245                        Al al-Bayt University            Private   \n",
       "246                             Mutah University             Public   \n",
       "\n",
       "    Tie Up with University       School Technologies/Courses Offered  \\\n",
       "0                       No      Science               Cyber Security   \n",
       "1                      Yes      Science                           ML   \n",
       "2                      Yes  Engineering                           AI   \n",
       "3                      Yes         Arts                          IoT   \n",
       "4                      Yes  Engineering               Cyber Security   \n",
       "..                     ...          ...                          ...   \n",
       "242                     No         Arts               Cyber Security   \n",
       "243                     No         Arts                           AI   \n",
       "244                    Yes  Engineering                          IoT   \n",
       "245                     No         Arts                           AI   \n",
       "246                    Yes         Arts                          IoT   \n",
       "\n",
       "    Course Types Unplaced % Corporate Tie Up Job Offering Internship  \\\n",
       "0      Full-time       6.59               No          Yes         No   \n",
       "1         Online       6.87               No           No         No   \n",
       "2      Full-time      10.78              Yes           No         No   \n",
       "3      Part-time       5.23               No           No         No   \n",
       "4      Part-time      16.04               No          Yes         No   \n",
       "..           ...        ...              ...          ...        ...   \n",
       "242    Part-time      14.49               No          Yes        Yes   \n",
       "243       Online      17.82              Yes          Yes         No   \n",
       "244    Part-time      10.07               No           No         No   \n",
       "245    Full-time       7.76              Yes          Yes        Yes   \n",
       "246    Part-time      16.13              Yes           No        Yes   \n",
       "\n",
       "    Marketing Strategy Costing Hackathons Services Offered Scholarships  \\\n",
       "0          Traditional  $41874        Yes       Consulting           No   \n",
       "1          Traditional  $18404        Yes         Training           No   \n",
       "2                 Both  $39218        Yes             Both           No   \n",
       "3                 Both  $19648        Yes       Consulting           No   \n",
       "4          Traditional  $21278        Yes             Both          Yes   \n",
       "..                 ...     ...        ...              ...          ...   \n",
       "242            Digital  $21300        Yes             Both           No   \n",
       "243        Traditional  $28886         No         Training           No   \n",
       "244        Traditional  $28004        Yes         Training          Yes   \n",
       "245            Digital  $22407         No       Consulting           No   \n",
       "246            Digital  $39328        Yes       Consulting           No   \n",
       "\n",
       "       Tier Ranking  \n",
       "0    Tier 3      24  \n",
       "1    Tier 1     336  \n",
       "2    Tier 1      19  \n",
       "3    Tier 1     429  \n",
       "4    Tier 2     132  \n",
       "..      ...     ...  \n",
       "242  Tier 3     270  \n",
       "243  Tier 3     869  \n",
       "244  Tier 1     463  \n",
       "245  Tier 1     650  \n",
       "246  Tier 3     360  \n",
       "\n",
       "[247 rows x 19 columns]"
      ]
     },
     "execution_count": 65,
     "metadata": {},
     "output_type": "execute_result"
    }
   ],
   "source": [
    "data_df"
   ]
  },
  {
   "cell_type": "code",
   "execution_count": 66,
   "id": "2c7eb15d",
   "metadata": {},
   "outputs": [],
   "source": [
    "data_df=data.toPandas()"
   ]
  },
  {
   "cell_type": "code",
   "execution_count": 67,
   "id": "1df323d6",
   "metadata": {},
   "outputs": [
    {
     "data": {
      "text/plain": [
       "Index(['Country', 'State', 'University Name', 'Type of University',\n",
       "       'Tie Up with University', 'School', 'Technologies/Courses Offered',\n",
       "       'Course Types', 'Unplaced %', 'Corporate Tie Up', 'Job Offering',\n",
       "       'Internship', 'Marketing Strategy', 'Costing', 'Hackathons',\n",
       "       'Services Offered', 'Scholarships', 'Tier', 'Ranking',\n",
       "       'Ranking After 2 Years'],\n",
       "      dtype='object')"
      ]
     },
     "execution_count": 67,
     "metadata": {},
     "output_type": "execute_result"
    }
   ],
   "source": [
    "data_df.columns"
   ]
  },
  {
   "cell_type": "code",
   "execution_count": 68,
   "id": "d77b474b",
   "metadata": {},
   "outputs": [
    {
     "data": {
      "text/html": [
       "<div>\n",
       "<style scoped>\n",
       "    .dataframe tbody tr th:only-of-type {\n",
       "        vertical-align: middle;\n",
       "    }\n",
       "\n",
       "    .dataframe tbody tr th {\n",
       "        vertical-align: top;\n",
       "    }\n",
       "\n",
       "    .dataframe thead th {\n",
       "        text-align: right;\n",
       "    }\n",
       "</style>\n",
       "<table border=\"1\" class=\"dataframe\">\n",
       "  <thead>\n",
       "    <tr style=\"text-align: right;\">\n",
       "      <th></th>\n",
       "      <th>Country</th>\n",
       "      <th>State</th>\n",
       "      <th>University Name</th>\n",
       "      <th>Type of University</th>\n",
       "      <th>Tie Up with University</th>\n",
       "      <th>School</th>\n",
       "      <th>Technologies/Courses Offered</th>\n",
       "      <th>Course Types</th>\n",
       "      <th>Unplaced %</th>\n",
       "      <th>Corporate Tie Up</th>\n",
       "      <th>Job Offering</th>\n",
       "      <th>Internship</th>\n",
       "      <th>Marketing Strategy</th>\n",
       "      <th>Costing</th>\n",
       "      <th>Hackathons</th>\n",
       "      <th>Services Offered</th>\n",
       "      <th>Scholarships</th>\n",
       "      <th>Tier</th>\n",
       "      <th>Ranking</th>\n",
       "      <th>Ranking After 2 Years</th>\n",
       "    </tr>\n",
       "  </thead>\n",
       "  <tbody>\n",
       "    <tr>\n",
       "      <th>0</th>\n",
       "      <td>Australia</td>\n",
       "      <td>Australian Capital Territory</td>\n",
       "      <td>Australian National University (ANU)</td>\n",
       "      <td>Public</td>\n",
       "      <td>No</td>\n",
       "      <td>Science</td>\n",
       "      <td>Cyber Security</td>\n",
       "      <td>Full-time</td>\n",
       "      <td>6.59</td>\n",
       "      <td>No</td>\n",
       "      <td>Yes</td>\n",
       "      <td>No</td>\n",
       "      <td>Traditional</td>\n",
       "      <td>$41874</td>\n",
       "      <td>Yes</td>\n",
       "      <td>Consulting</td>\n",
       "      <td>No</td>\n",
       "      <td>Tier 3</td>\n",
       "      <td>24</td>\n",
       "      <td>22.0</td>\n",
       "    </tr>\n",
       "    <tr>\n",
       "      <th>1</th>\n",
       "      <td>Australia</td>\n",
       "      <td>Australian Capital Territory</td>\n",
       "      <td>University of Canberra</td>\n",
       "      <td>Public</td>\n",
       "      <td>Yes</td>\n",
       "      <td>Science</td>\n",
       "      <td>ML</td>\n",
       "      <td>Online</td>\n",
       "      <td>6.87</td>\n",
       "      <td>No</td>\n",
       "      <td>No</td>\n",
       "      <td>No</td>\n",
       "      <td>Traditional</td>\n",
       "      <td>$18404</td>\n",
       "      <td>Yes</td>\n",
       "      <td>Training</td>\n",
       "      <td>No</td>\n",
       "      <td>Tier 1</td>\n",
       "      <td>336</td>\n",
       "      <td>334.0</td>\n",
       "    </tr>\n",
       "    <tr>\n",
       "      <th>2</th>\n",
       "      <td>Australia</td>\n",
       "      <td>New South Wales</td>\n",
       "      <td>University of Sydney</td>\n",
       "      <td>Private</td>\n",
       "      <td>Yes</td>\n",
       "      <td>Engineering</td>\n",
       "      <td>AI</td>\n",
       "      <td>Full-time</td>\n",
       "      <td>10.78</td>\n",
       "      <td>Yes</td>\n",
       "      <td>No</td>\n",
       "      <td>No</td>\n",
       "      <td>Both</td>\n",
       "      <td>$39218</td>\n",
       "      <td>Yes</td>\n",
       "      <td>Both</td>\n",
       "      <td>No</td>\n",
       "      <td>Tier 1</td>\n",
       "      <td>19</td>\n",
       "      <td>17.0</td>\n",
       "    </tr>\n",
       "    <tr>\n",
       "      <th>3</th>\n",
       "      <td>Australia</td>\n",
       "      <td>New South Wales</td>\n",
       "      <td>University of New South Wales (UNSW Sydney)</td>\n",
       "      <td>Private</td>\n",
       "      <td>Yes</td>\n",
       "      <td>Arts</td>\n",
       "      <td>IoT</td>\n",
       "      <td>Part-time</td>\n",
       "      <td>5.23</td>\n",
       "      <td>No</td>\n",
       "      <td>No</td>\n",
       "      <td>No</td>\n",
       "      <td>Both</td>\n",
       "      <td>$19648</td>\n",
       "      <td>Yes</td>\n",
       "      <td>Consulting</td>\n",
       "      <td>No</td>\n",
       "      <td>Tier 1</td>\n",
       "      <td>429</td>\n",
       "      <td>427.0</td>\n",
       "    </tr>\n",
       "    <tr>\n",
       "      <th>4</th>\n",
       "      <td>Australia</td>\n",
       "      <td>New South Wales</td>\n",
       "      <td>University of Newcastle</td>\n",
       "      <td>Private</td>\n",
       "      <td>Yes</td>\n",
       "      <td>Engineering</td>\n",
       "      <td>Cyber Security</td>\n",
       "      <td>Part-time</td>\n",
       "      <td>16.04</td>\n",
       "      <td>No</td>\n",
       "      <td>Yes</td>\n",
       "      <td>No</td>\n",
       "      <td>Traditional</td>\n",
       "      <td>$21278</td>\n",
       "      <td>Yes</td>\n",
       "      <td>Both</td>\n",
       "      <td>Yes</td>\n",
       "      <td>Tier 2</td>\n",
       "      <td>132</td>\n",
       "      <td>130.0</td>\n",
       "    </tr>\n",
       "    <tr>\n",
       "      <th>...</th>\n",
       "      <td>...</td>\n",
       "      <td>...</td>\n",
       "      <td>...</td>\n",
       "      <td>...</td>\n",
       "      <td>...</td>\n",
       "      <td>...</td>\n",
       "      <td>...</td>\n",
       "      <td>...</td>\n",
       "      <td>...</td>\n",
       "      <td>...</td>\n",
       "      <td>...</td>\n",
       "      <td>...</td>\n",
       "      <td>...</td>\n",
       "      <td>...</td>\n",
       "      <td>...</td>\n",
       "      <td>...</td>\n",
       "      <td>...</td>\n",
       "      <td>...</td>\n",
       "      <td>...</td>\n",
       "      <td>...</td>\n",
       "    </tr>\n",
       "    <tr>\n",
       "      <th>242</th>\n",
       "      <td>Jordan</td>\n",
       "      <td>Zarqa</td>\n",
       "      <td>Al-Zarqa Private University</td>\n",
       "      <td>Public</td>\n",
       "      <td>No</td>\n",
       "      <td>Arts</td>\n",
       "      <td>Cyber Security</td>\n",
       "      <td>Part-time</td>\n",
       "      <td>14.49</td>\n",
       "      <td>No</td>\n",
       "      <td>Yes</td>\n",
       "      <td>Yes</td>\n",
       "      <td>Digital</td>\n",
       "      <td>$21300</td>\n",
       "      <td>Yes</td>\n",
       "      <td>Both</td>\n",
       "      <td>No</td>\n",
       "      <td>Tier 3</td>\n",
       "      <td>270</td>\n",
       "      <td>268.0</td>\n",
       "    </tr>\n",
       "    <tr>\n",
       "      <th>243</th>\n",
       "      <td>Jordan</td>\n",
       "      <td>Madaba</td>\n",
       "      <td>American University of Madaba</td>\n",
       "      <td>Private</td>\n",
       "      <td>No</td>\n",
       "      <td>Arts</td>\n",
       "      <td>AI</td>\n",
       "      <td>Online</td>\n",
       "      <td>17.82</td>\n",
       "      <td>Yes</td>\n",
       "      <td>Yes</td>\n",
       "      <td>No</td>\n",
       "      <td>Traditional</td>\n",
       "      <td>$28886</td>\n",
       "      <td>No</td>\n",
       "      <td>Training</td>\n",
       "      <td>No</td>\n",
       "      <td>Tier 3</td>\n",
       "      <td>869</td>\n",
       "      <td>867.0</td>\n",
       "    </tr>\n",
       "    <tr>\n",
       "      <th>244</th>\n",
       "      <td>Jordan</td>\n",
       "      <td>Ajloun</td>\n",
       "      <td>Ajloun National University</td>\n",
       "      <td>Private</td>\n",
       "      <td>Yes</td>\n",
       "      <td>Engineering</td>\n",
       "      <td>IoT</td>\n",
       "      <td>Part-time</td>\n",
       "      <td>10.07</td>\n",
       "      <td>No</td>\n",
       "      <td>No</td>\n",
       "      <td>No</td>\n",
       "      <td>Traditional</td>\n",
       "      <td>$28004</td>\n",
       "      <td>Yes</td>\n",
       "      <td>Training</td>\n",
       "      <td>Yes</td>\n",
       "      <td>Tier 1</td>\n",
       "      <td>463</td>\n",
       "      <td>461.0</td>\n",
       "    </tr>\n",
       "    <tr>\n",
       "      <th>245</th>\n",
       "      <td>Jordan</td>\n",
       "      <td>Mafraq</td>\n",
       "      <td>Al al-Bayt University</td>\n",
       "      <td>Private</td>\n",
       "      <td>No</td>\n",
       "      <td>Arts</td>\n",
       "      <td>AI</td>\n",
       "      <td>Full-time</td>\n",
       "      <td>7.76</td>\n",
       "      <td>Yes</td>\n",
       "      <td>Yes</td>\n",
       "      <td>Yes</td>\n",
       "      <td>Digital</td>\n",
       "      <td>$22407</td>\n",
       "      <td>No</td>\n",
       "      <td>Consulting</td>\n",
       "      <td>No</td>\n",
       "      <td>Tier 1</td>\n",
       "      <td>650</td>\n",
       "      <td>648.0</td>\n",
       "    </tr>\n",
       "    <tr>\n",
       "      <th>246</th>\n",
       "      <td>Jordan</td>\n",
       "      <td>Karak</td>\n",
       "      <td>Mutah University</td>\n",
       "      <td>Public</td>\n",
       "      <td>Yes</td>\n",
       "      <td>Arts</td>\n",
       "      <td>IoT</td>\n",
       "      <td>Part-time</td>\n",
       "      <td>16.13</td>\n",
       "      <td>Yes</td>\n",
       "      <td>No</td>\n",
       "      <td>Yes</td>\n",
       "      <td>Digital</td>\n",
       "      <td>$39328</td>\n",
       "      <td>Yes</td>\n",
       "      <td>Consulting</td>\n",
       "      <td>No</td>\n",
       "      <td>Tier 3</td>\n",
       "      <td>360</td>\n",
       "      <td>358.0</td>\n",
       "    </tr>\n",
       "  </tbody>\n",
       "</table>\n",
       "<p>247 rows × 20 columns</p>\n",
       "</div>"
      ],
      "text/plain": [
       "       Country                         State  \\\n",
       "0    Australia  Australian Capital Territory   \n",
       "1    Australia  Australian Capital Territory   \n",
       "2    Australia               New South Wales   \n",
       "3    Australia               New South Wales   \n",
       "4    Australia               New South Wales   \n",
       "..         ...                           ...   \n",
       "242     Jordan                         Zarqa   \n",
       "243     Jordan                        Madaba   \n",
       "244     Jordan                        Ajloun   \n",
       "245     Jordan                        Mafraq   \n",
       "246     Jordan                         Karak   \n",
       "\n",
       "                                 University Name Type of University  \\\n",
       "0           Australian National University (ANU)             Public   \n",
       "1                         University of Canberra             Public   \n",
       "2                           University of Sydney            Private   \n",
       "3    University of New South Wales (UNSW Sydney)            Private   \n",
       "4                        University of Newcastle            Private   \n",
       "..                                           ...                ...   \n",
       "242                  Al-Zarqa Private University             Public   \n",
       "243                American University of Madaba            Private   \n",
       "244                   Ajloun National University            Private   \n",
       "245                        Al al-Bayt University            Private   \n",
       "246                             Mutah University             Public   \n",
       "\n",
       "    Tie Up with University       School Technologies/Courses Offered  \\\n",
       "0                       No      Science               Cyber Security   \n",
       "1                      Yes      Science                           ML   \n",
       "2                      Yes  Engineering                           AI   \n",
       "3                      Yes         Arts                          IoT   \n",
       "4                      Yes  Engineering               Cyber Security   \n",
       "..                     ...          ...                          ...   \n",
       "242                     No         Arts               Cyber Security   \n",
       "243                     No         Arts                           AI   \n",
       "244                    Yes  Engineering                          IoT   \n",
       "245                     No         Arts                           AI   \n",
       "246                    Yes         Arts                          IoT   \n",
       "\n",
       "    Course Types Unplaced % Corporate Tie Up Job Offering Internship  \\\n",
       "0      Full-time       6.59               No          Yes         No   \n",
       "1         Online       6.87               No           No         No   \n",
       "2      Full-time      10.78              Yes           No         No   \n",
       "3      Part-time       5.23               No           No         No   \n",
       "4      Part-time      16.04               No          Yes         No   \n",
       "..           ...        ...              ...          ...        ...   \n",
       "242    Part-time      14.49               No          Yes        Yes   \n",
       "243       Online      17.82              Yes          Yes         No   \n",
       "244    Part-time      10.07               No           No         No   \n",
       "245    Full-time       7.76              Yes          Yes        Yes   \n",
       "246    Part-time      16.13              Yes           No        Yes   \n",
       "\n",
       "    Marketing Strategy Costing Hackathons Services Offered Scholarships  \\\n",
       "0          Traditional  $41874        Yes       Consulting           No   \n",
       "1          Traditional  $18404        Yes         Training           No   \n",
       "2                 Both  $39218        Yes             Both           No   \n",
       "3                 Both  $19648        Yes       Consulting           No   \n",
       "4          Traditional  $21278        Yes             Both          Yes   \n",
       "..                 ...     ...        ...              ...          ...   \n",
       "242            Digital  $21300        Yes             Both           No   \n",
       "243        Traditional  $28886         No         Training           No   \n",
       "244        Traditional  $28004        Yes         Training          Yes   \n",
       "245            Digital  $22407         No       Consulting           No   \n",
       "246            Digital  $39328        Yes       Consulting           No   \n",
       "\n",
       "       Tier Ranking  Ranking After 2 Years  \n",
       "0    Tier 3      24                   22.0  \n",
       "1    Tier 1     336                  334.0  \n",
       "2    Tier 1      19                   17.0  \n",
       "3    Tier 1     429                  427.0  \n",
       "4    Tier 2     132                  130.0  \n",
       "..      ...     ...                    ...  \n",
       "242  Tier 3     270                  268.0  \n",
       "243  Tier 3     869                  867.0  \n",
       "244  Tier 1     463                  461.0  \n",
       "245  Tier 1     650                  648.0  \n",
       "246  Tier 3     360                  358.0  \n",
       "\n",
       "[247 rows x 20 columns]"
      ]
     },
     "execution_count": 68,
     "metadata": {},
     "output_type": "execute_result"
    }
   ],
   "source": [
    "data_df"
   ]
  },
  {
   "cell_type": "code",
   "execution_count": 69,
   "id": "c592fc72",
   "metadata": {},
   "outputs": [],
   "source": [
    "### Drop the columns"
   ]
  },
  {
   "cell_type": "code",
   "execution_count": 70,
   "id": "798479e9",
   "metadata": {},
   "outputs": [],
   "source": [
    "data=data.drop('Ranking After 2 Years')"
   ]
  },
  {
   "cell_type": "code",
   "execution_count": 71,
   "id": "c75ed678",
   "metadata": {},
   "outputs": [
    {
     "data": {
      "text/plain": [
       "DataFrame[Country: string, State: string, University Name: string, Type of University: string, Tie Up with University: string, School: string, Technologies/Courses Offered: string, Course Types: string, Unplaced %: string, Corporate Tie Up: string, Job Offering: string, Internship: string, Marketing Strategy: string, Costing: string, Hackathons: string, Services Offered: string, Scholarships: string, Tier: string, Ranking: string]"
      ]
     },
     "execution_count": 71,
     "metadata": {},
     "output_type": "execute_result"
    }
   ],
   "source": [
    "data"
   ]
  },
  {
   "cell_type": "code",
   "execution_count": 72,
   "id": "db9b9028",
   "metadata": {},
   "outputs": [],
   "source": [
    "data_df=data.toPandas()"
   ]
  },
  {
   "cell_type": "code",
   "execution_count": 73,
   "id": "68a71542",
   "metadata": {},
   "outputs": [
    {
     "data": {
      "text/html": [
       "<div>\n",
       "<style scoped>\n",
       "    .dataframe tbody tr th:only-of-type {\n",
       "        vertical-align: middle;\n",
       "    }\n",
       "\n",
       "    .dataframe tbody tr th {\n",
       "        vertical-align: top;\n",
       "    }\n",
       "\n",
       "    .dataframe thead th {\n",
       "        text-align: right;\n",
       "    }\n",
       "</style>\n",
       "<table border=\"1\" class=\"dataframe\">\n",
       "  <thead>\n",
       "    <tr style=\"text-align: right;\">\n",
       "      <th></th>\n",
       "      <th>Country</th>\n",
       "      <th>State</th>\n",
       "      <th>University Name</th>\n",
       "      <th>Type of University</th>\n",
       "      <th>Tie Up with University</th>\n",
       "      <th>School</th>\n",
       "      <th>Technologies/Courses Offered</th>\n",
       "      <th>Course Types</th>\n",
       "      <th>Unplaced %</th>\n",
       "      <th>Corporate Tie Up</th>\n",
       "      <th>Job Offering</th>\n",
       "      <th>Internship</th>\n",
       "      <th>Marketing Strategy</th>\n",
       "      <th>Costing</th>\n",
       "      <th>Hackathons</th>\n",
       "      <th>Services Offered</th>\n",
       "      <th>Scholarships</th>\n",
       "      <th>Tier</th>\n",
       "      <th>Ranking</th>\n",
       "    </tr>\n",
       "  </thead>\n",
       "  <tbody>\n",
       "    <tr>\n",
       "      <th>0</th>\n",
       "      <td>Australia</td>\n",
       "      <td>Australian Capital Territory</td>\n",
       "      <td>Australian National University (ANU)</td>\n",
       "      <td>Public</td>\n",
       "      <td>No</td>\n",
       "      <td>Science</td>\n",
       "      <td>Cyber Security</td>\n",
       "      <td>Full-time</td>\n",
       "      <td>6.59</td>\n",
       "      <td>No</td>\n",
       "      <td>Yes</td>\n",
       "      <td>No</td>\n",
       "      <td>Traditional</td>\n",
       "      <td>$41874</td>\n",
       "      <td>Yes</td>\n",
       "      <td>Consulting</td>\n",
       "      <td>No</td>\n",
       "      <td>Tier 3</td>\n",
       "      <td>24</td>\n",
       "    </tr>\n",
       "    <tr>\n",
       "      <th>1</th>\n",
       "      <td>Australia</td>\n",
       "      <td>Australian Capital Territory</td>\n",
       "      <td>University of Canberra</td>\n",
       "      <td>Public</td>\n",
       "      <td>Yes</td>\n",
       "      <td>Science</td>\n",
       "      <td>ML</td>\n",
       "      <td>Online</td>\n",
       "      <td>6.87</td>\n",
       "      <td>No</td>\n",
       "      <td>No</td>\n",
       "      <td>No</td>\n",
       "      <td>Traditional</td>\n",
       "      <td>$18404</td>\n",
       "      <td>Yes</td>\n",
       "      <td>Training</td>\n",
       "      <td>No</td>\n",
       "      <td>Tier 1</td>\n",
       "      <td>336</td>\n",
       "    </tr>\n",
       "    <tr>\n",
       "      <th>2</th>\n",
       "      <td>Australia</td>\n",
       "      <td>New South Wales</td>\n",
       "      <td>University of Sydney</td>\n",
       "      <td>Private</td>\n",
       "      <td>Yes</td>\n",
       "      <td>Engineering</td>\n",
       "      <td>AI</td>\n",
       "      <td>Full-time</td>\n",
       "      <td>10.78</td>\n",
       "      <td>Yes</td>\n",
       "      <td>No</td>\n",
       "      <td>No</td>\n",
       "      <td>Both</td>\n",
       "      <td>$39218</td>\n",
       "      <td>Yes</td>\n",
       "      <td>Both</td>\n",
       "      <td>No</td>\n",
       "      <td>Tier 1</td>\n",
       "      <td>19</td>\n",
       "    </tr>\n",
       "    <tr>\n",
       "      <th>3</th>\n",
       "      <td>Australia</td>\n",
       "      <td>New South Wales</td>\n",
       "      <td>University of New South Wales (UNSW Sydney)</td>\n",
       "      <td>Private</td>\n",
       "      <td>Yes</td>\n",
       "      <td>Arts</td>\n",
       "      <td>IoT</td>\n",
       "      <td>Part-time</td>\n",
       "      <td>5.23</td>\n",
       "      <td>No</td>\n",
       "      <td>No</td>\n",
       "      <td>No</td>\n",
       "      <td>Both</td>\n",
       "      <td>$19648</td>\n",
       "      <td>Yes</td>\n",
       "      <td>Consulting</td>\n",
       "      <td>No</td>\n",
       "      <td>Tier 1</td>\n",
       "      <td>429</td>\n",
       "    </tr>\n",
       "    <tr>\n",
       "      <th>4</th>\n",
       "      <td>Australia</td>\n",
       "      <td>New South Wales</td>\n",
       "      <td>University of Newcastle</td>\n",
       "      <td>Private</td>\n",
       "      <td>Yes</td>\n",
       "      <td>Engineering</td>\n",
       "      <td>Cyber Security</td>\n",
       "      <td>Part-time</td>\n",
       "      <td>16.04</td>\n",
       "      <td>No</td>\n",
       "      <td>Yes</td>\n",
       "      <td>No</td>\n",
       "      <td>Traditional</td>\n",
       "      <td>$21278</td>\n",
       "      <td>Yes</td>\n",
       "      <td>Both</td>\n",
       "      <td>Yes</td>\n",
       "      <td>Tier 2</td>\n",
       "      <td>132</td>\n",
       "    </tr>\n",
       "    <tr>\n",
       "      <th>...</th>\n",
       "      <td>...</td>\n",
       "      <td>...</td>\n",
       "      <td>...</td>\n",
       "      <td>...</td>\n",
       "      <td>...</td>\n",
       "      <td>...</td>\n",
       "      <td>...</td>\n",
       "      <td>...</td>\n",
       "      <td>...</td>\n",
       "      <td>...</td>\n",
       "      <td>...</td>\n",
       "      <td>...</td>\n",
       "      <td>...</td>\n",
       "      <td>...</td>\n",
       "      <td>...</td>\n",
       "      <td>...</td>\n",
       "      <td>...</td>\n",
       "      <td>...</td>\n",
       "      <td>...</td>\n",
       "    </tr>\n",
       "    <tr>\n",
       "      <th>242</th>\n",
       "      <td>Jordan</td>\n",
       "      <td>Zarqa</td>\n",
       "      <td>Al-Zarqa Private University</td>\n",
       "      <td>Public</td>\n",
       "      <td>No</td>\n",
       "      <td>Arts</td>\n",
       "      <td>Cyber Security</td>\n",
       "      <td>Part-time</td>\n",
       "      <td>14.49</td>\n",
       "      <td>No</td>\n",
       "      <td>Yes</td>\n",
       "      <td>Yes</td>\n",
       "      <td>Digital</td>\n",
       "      <td>$21300</td>\n",
       "      <td>Yes</td>\n",
       "      <td>Both</td>\n",
       "      <td>No</td>\n",
       "      <td>Tier 3</td>\n",
       "      <td>270</td>\n",
       "    </tr>\n",
       "    <tr>\n",
       "      <th>243</th>\n",
       "      <td>Jordan</td>\n",
       "      <td>Madaba</td>\n",
       "      <td>American University of Madaba</td>\n",
       "      <td>Private</td>\n",
       "      <td>No</td>\n",
       "      <td>Arts</td>\n",
       "      <td>AI</td>\n",
       "      <td>Online</td>\n",
       "      <td>17.82</td>\n",
       "      <td>Yes</td>\n",
       "      <td>Yes</td>\n",
       "      <td>No</td>\n",
       "      <td>Traditional</td>\n",
       "      <td>$28886</td>\n",
       "      <td>No</td>\n",
       "      <td>Training</td>\n",
       "      <td>No</td>\n",
       "      <td>Tier 3</td>\n",
       "      <td>869</td>\n",
       "    </tr>\n",
       "    <tr>\n",
       "      <th>244</th>\n",
       "      <td>Jordan</td>\n",
       "      <td>Ajloun</td>\n",
       "      <td>Ajloun National University</td>\n",
       "      <td>Private</td>\n",
       "      <td>Yes</td>\n",
       "      <td>Engineering</td>\n",
       "      <td>IoT</td>\n",
       "      <td>Part-time</td>\n",
       "      <td>10.07</td>\n",
       "      <td>No</td>\n",
       "      <td>No</td>\n",
       "      <td>No</td>\n",
       "      <td>Traditional</td>\n",
       "      <td>$28004</td>\n",
       "      <td>Yes</td>\n",
       "      <td>Training</td>\n",
       "      <td>Yes</td>\n",
       "      <td>Tier 1</td>\n",
       "      <td>463</td>\n",
       "    </tr>\n",
       "    <tr>\n",
       "      <th>245</th>\n",
       "      <td>Jordan</td>\n",
       "      <td>Mafraq</td>\n",
       "      <td>Al al-Bayt University</td>\n",
       "      <td>Private</td>\n",
       "      <td>No</td>\n",
       "      <td>Arts</td>\n",
       "      <td>AI</td>\n",
       "      <td>Full-time</td>\n",
       "      <td>7.76</td>\n",
       "      <td>Yes</td>\n",
       "      <td>Yes</td>\n",
       "      <td>Yes</td>\n",
       "      <td>Digital</td>\n",
       "      <td>$22407</td>\n",
       "      <td>No</td>\n",
       "      <td>Consulting</td>\n",
       "      <td>No</td>\n",
       "      <td>Tier 1</td>\n",
       "      <td>650</td>\n",
       "    </tr>\n",
       "    <tr>\n",
       "      <th>246</th>\n",
       "      <td>Jordan</td>\n",
       "      <td>Karak</td>\n",
       "      <td>Mutah University</td>\n",
       "      <td>Public</td>\n",
       "      <td>Yes</td>\n",
       "      <td>Arts</td>\n",
       "      <td>IoT</td>\n",
       "      <td>Part-time</td>\n",
       "      <td>16.13</td>\n",
       "      <td>Yes</td>\n",
       "      <td>No</td>\n",
       "      <td>Yes</td>\n",
       "      <td>Digital</td>\n",
       "      <td>$39328</td>\n",
       "      <td>Yes</td>\n",
       "      <td>Consulting</td>\n",
       "      <td>No</td>\n",
       "      <td>Tier 3</td>\n",
       "      <td>360</td>\n",
       "    </tr>\n",
       "  </tbody>\n",
       "</table>\n",
       "<p>247 rows × 19 columns</p>\n",
       "</div>"
      ],
      "text/plain": [
       "       Country                         State  \\\n",
       "0    Australia  Australian Capital Territory   \n",
       "1    Australia  Australian Capital Territory   \n",
       "2    Australia               New South Wales   \n",
       "3    Australia               New South Wales   \n",
       "4    Australia               New South Wales   \n",
       "..         ...                           ...   \n",
       "242     Jordan                         Zarqa   \n",
       "243     Jordan                        Madaba   \n",
       "244     Jordan                        Ajloun   \n",
       "245     Jordan                        Mafraq   \n",
       "246     Jordan                         Karak   \n",
       "\n",
       "                                 University Name Type of University  \\\n",
       "0           Australian National University (ANU)             Public   \n",
       "1                         University of Canberra             Public   \n",
       "2                           University of Sydney            Private   \n",
       "3    University of New South Wales (UNSW Sydney)            Private   \n",
       "4                        University of Newcastle            Private   \n",
       "..                                           ...                ...   \n",
       "242                  Al-Zarqa Private University             Public   \n",
       "243                American University of Madaba            Private   \n",
       "244                   Ajloun National University            Private   \n",
       "245                        Al al-Bayt University            Private   \n",
       "246                             Mutah University             Public   \n",
       "\n",
       "    Tie Up with University       School Technologies/Courses Offered  \\\n",
       "0                       No      Science               Cyber Security   \n",
       "1                      Yes      Science                           ML   \n",
       "2                      Yes  Engineering                           AI   \n",
       "3                      Yes         Arts                          IoT   \n",
       "4                      Yes  Engineering               Cyber Security   \n",
       "..                     ...          ...                          ...   \n",
       "242                     No         Arts               Cyber Security   \n",
       "243                     No         Arts                           AI   \n",
       "244                    Yes  Engineering                          IoT   \n",
       "245                     No         Arts                           AI   \n",
       "246                    Yes         Arts                          IoT   \n",
       "\n",
       "    Course Types Unplaced % Corporate Tie Up Job Offering Internship  \\\n",
       "0      Full-time       6.59               No          Yes         No   \n",
       "1         Online       6.87               No           No         No   \n",
       "2      Full-time      10.78              Yes           No         No   \n",
       "3      Part-time       5.23               No           No         No   \n",
       "4      Part-time      16.04               No          Yes         No   \n",
       "..           ...        ...              ...          ...        ...   \n",
       "242    Part-time      14.49               No          Yes        Yes   \n",
       "243       Online      17.82              Yes          Yes         No   \n",
       "244    Part-time      10.07               No           No         No   \n",
       "245    Full-time       7.76              Yes          Yes        Yes   \n",
       "246    Part-time      16.13              Yes           No        Yes   \n",
       "\n",
       "    Marketing Strategy Costing Hackathons Services Offered Scholarships  \\\n",
       "0          Traditional  $41874        Yes       Consulting           No   \n",
       "1          Traditional  $18404        Yes         Training           No   \n",
       "2                 Both  $39218        Yes             Both           No   \n",
       "3                 Both  $19648        Yes       Consulting           No   \n",
       "4          Traditional  $21278        Yes             Both          Yes   \n",
       "..                 ...     ...        ...              ...          ...   \n",
       "242            Digital  $21300        Yes             Both           No   \n",
       "243        Traditional  $28886         No         Training           No   \n",
       "244        Traditional  $28004        Yes         Training          Yes   \n",
       "245            Digital  $22407         No       Consulting           No   \n",
       "246            Digital  $39328        Yes       Consulting           No   \n",
       "\n",
       "       Tier Ranking  \n",
       "0    Tier 3      24  \n",
       "1    Tier 1     336  \n",
       "2    Tier 1      19  \n",
       "3    Tier 1     429  \n",
       "4    Tier 2     132  \n",
       "..      ...     ...  \n",
       "242  Tier 3     270  \n",
       "243  Tier 3     869  \n",
       "244  Tier 1     463  \n",
       "245  Tier 1     650  \n",
       "246  Tier 3     360  \n",
       "\n",
       "[247 rows x 19 columns]"
      ]
     },
     "execution_count": 73,
     "metadata": {},
     "output_type": "execute_result"
    }
   ],
   "source": [
    "data_df"
   ]
  },
  {
   "cell_type": "code",
   "execution_count": 74,
   "id": "9dc21d3b",
   "metadata": {},
   "outputs": [
    {
     "data": {
      "text/plain": [
       "Index(['Country', 'State', 'University Name', 'Type of University',\n",
       "       'Tie Up with University', 'School', 'Technologies/Courses Offered',\n",
       "       'Course Types', 'Unplaced %', 'Corporate Tie Up', 'Job Offering',\n",
       "       'Internship', 'Marketing Strategy', 'Costing', 'Hackathons',\n",
       "       'Services Offered', 'Scholarships', 'Tier', 'Ranking'],\n",
       "      dtype='object')"
      ]
     },
     "execution_count": 74,
     "metadata": {},
     "output_type": "execute_result"
    }
   ],
   "source": [
    "data_df.columns"
   ]
  },
  {
   "cell_type": "code",
   "execution_count": 75,
   "id": "ec49b286",
   "metadata": {},
   "outputs": [],
   "source": [
    "data=data.withColumnRenamed('Ranking','NIRF Ranking')"
   ]
  },
  {
   "cell_type": "code",
   "execution_count": 76,
   "id": "0a39ec73",
   "metadata": {},
   "outputs": [],
   "source": [
    "data_df=data.toPandas()"
   ]
  },
  {
   "cell_type": "code",
   "execution_count": 77,
   "id": "71ddbe51",
   "metadata": {},
   "outputs": [
    {
     "data": {
      "text/plain": [
       "Index(['Country', 'State', 'University Name', 'Type of University',\n",
       "       'Tie Up with University', 'School', 'Technologies/Courses Offered',\n",
       "       'Course Types', 'Unplaced %', 'Corporate Tie Up', 'Job Offering',\n",
       "       'Internship', 'Marketing Strategy', 'Costing', 'Hackathons',\n",
       "       'Services Offered', 'Scholarships', 'Tier', 'NIRF Ranking'],\n",
       "      dtype='object')"
      ]
     },
     "execution_count": 77,
     "metadata": {},
     "output_type": "execute_result"
    }
   ],
   "source": [
    "data_df.columns"
   ]
  },
  {
   "cell_type": "code",
   "execution_count": 78,
   "id": "ed7468ce",
   "metadata": {},
   "outputs": [
    {
     "data": {
      "text/plain": [
       "0       24\n",
       "1      336\n",
       "2       19\n",
       "3      429\n",
       "4      132\n",
       "      ... \n",
       "242    270\n",
       "243    869\n",
       "244    463\n",
       "245    650\n",
       "246    360\n",
       "Name: NIRF Ranking, Length: 247, dtype: object"
      ]
     },
     "execution_count": 78,
     "metadata": {},
     "output_type": "execute_result"
    }
   ],
   "source": [
    "data_df['NIRF Ranking']"
   ]
  },
  {
   "cell_type": "code",
   "execution_count": 79,
   "id": "ea23b46c",
   "metadata": {},
   "outputs": [],
   "source": [
    "data=data.withColumnRenamed('NIRF Ranking','Ranking')"
   ]
  },
  {
   "cell_type": "code",
   "execution_count": 80,
   "id": "6fc7eff9",
   "metadata": {},
   "outputs": [],
   "source": [
    "data_df=data.toPandas()"
   ]
  },
  {
   "cell_type": "code",
   "execution_count": 81,
   "id": "478e1ce1",
   "metadata": {},
   "outputs": [
    {
     "data": {
      "text/plain": [
       "Index(['Country', 'State', 'University Name', 'Type of University',\n",
       "       'Tie Up with University', 'School', 'Technologies/Courses Offered',\n",
       "       'Course Types', 'Unplaced %', 'Corporate Tie Up', 'Job Offering',\n",
       "       'Internship', 'Marketing Strategy', 'Costing', 'Hackathons',\n",
       "       'Services Offered', 'Scholarships', 'Tier', 'Ranking'],\n",
       "      dtype='object')"
      ]
     },
     "execution_count": 81,
     "metadata": {},
     "output_type": "execute_result"
    }
   ],
   "source": [
    "data_df.columns"
   ]
  },
  {
   "cell_type": "markdown",
   "id": "c8edf4e5",
   "metadata": {},
   "source": [
    "\n",
    "### Pyspark Handling Missing Values\n",
    "- Dropping Columns\n",
    "- Dropping Rows\n",
    "- Various Parameter In Dropping functionalities\n",
    "- Handling Missing values by Mean, MEdian And Mode "
   ]
  },
  {
   "cell_type": "code",
   "execution_count": 82,
   "id": "6424b462",
   "metadata": {},
   "outputs": [],
   "source": [
    "data=spark.read.csv('test2.csv',header=True,inferSchema=True)"
   ]
  },
  {
   "cell_type": "code",
   "execution_count": 83,
   "id": "ca6cf1cd",
   "metadata": {},
   "outputs": [
    {
     "name": "stdout",
     "output_type": "stream",
     "text": [
      "root\n",
      " |-- Name: string (nullable = true)\n",
      " |-- age: integer (nullable = true)\n",
      " |-- Experience: integer (nullable = true)\n",
      " |-- Salary: integer (nullable = true)\n",
      "\n"
     ]
    }
   ],
   "source": [
    "data.printSchema()"
   ]
  },
  {
   "cell_type": "code",
   "execution_count": 84,
   "id": "208c61b1",
   "metadata": {},
   "outputs": [
    {
     "name": "stdout",
     "output_type": "stream",
     "text": [
      "+---------+----+----------+------+\n",
      "|     Name| age|Experience|Salary|\n",
      "+---------+----+----------+------+\n",
      "|    Krish|  31|        10| 30000|\n",
      "|Sudhanshu|  30|         8| 25000|\n",
      "|    Sunny|  29|         4| 20000|\n",
      "|     Paul|  24|         3| 20000|\n",
      "|   Harsha|  21|         1| 15000|\n",
      "|  Shubham|  23|         2| 18000|\n",
      "|   Mahesh|NULL|      NULL| 40000|\n",
      "|     NULL|  34|        10| 38000|\n",
      "|     NULL|  36|      NULL|  NULL|\n",
      "+---------+----+----------+------+\n",
      "\n"
     ]
    }
   ],
   "source": [
    "data.show()"
   ]
  },
  {
   "cell_type": "code",
   "execution_count": 85,
   "id": "4607393a",
   "metadata": {},
   "outputs": [],
   "source": [
    "df=data.toPandas()"
   ]
  },
  {
   "cell_type": "code",
   "execution_count": 86,
   "id": "6c9be6b4",
   "metadata": {},
   "outputs": [
    {
     "data": {
      "text/html": [
       "<div>\n",
       "<style scoped>\n",
       "    .dataframe tbody tr th:only-of-type {\n",
       "        vertical-align: middle;\n",
       "    }\n",
       "\n",
       "    .dataframe tbody tr th {\n",
       "        vertical-align: top;\n",
       "    }\n",
       "\n",
       "    .dataframe thead th {\n",
       "        text-align: right;\n",
       "    }\n",
       "</style>\n",
       "<table border=\"1\" class=\"dataframe\">\n",
       "  <thead>\n",
       "    <tr style=\"text-align: right;\">\n",
       "      <th></th>\n",
       "      <th>Name</th>\n",
       "      <th>age</th>\n",
       "      <th>Experience</th>\n",
       "      <th>Salary</th>\n",
       "    </tr>\n",
       "  </thead>\n",
       "  <tbody>\n",
       "    <tr>\n",
       "      <th>0</th>\n",
       "      <td>Krish</td>\n",
       "      <td>31.0</td>\n",
       "      <td>10.0</td>\n",
       "      <td>30000.0</td>\n",
       "    </tr>\n",
       "    <tr>\n",
       "      <th>1</th>\n",
       "      <td>Sudhanshu</td>\n",
       "      <td>30.0</td>\n",
       "      <td>8.0</td>\n",
       "      <td>25000.0</td>\n",
       "    </tr>\n",
       "    <tr>\n",
       "      <th>2</th>\n",
       "      <td>Sunny</td>\n",
       "      <td>29.0</td>\n",
       "      <td>4.0</td>\n",
       "      <td>20000.0</td>\n",
       "    </tr>\n",
       "    <tr>\n",
       "      <th>3</th>\n",
       "      <td>Paul</td>\n",
       "      <td>24.0</td>\n",
       "      <td>3.0</td>\n",
       "      <td>20000.0</td>\n",
       "    </tr>\n",
       "    <tr>\n",
       "      <th>4</th>\n",
       "      <td>Harsha</td>\n",
       "      <td>21.0</td>\n",
       "      <td>1.0</td>\n",
       "      <td>15000.0</td>\n",
       "    </tr>\n",
       "    <tr>\n",
       "      <th>5</th>\n",
       "      <td>Shubham</td>\n",
       "      <td>23.0</td>\n",
       "      <td>2.0</td>\n",
       "      <td>18000.0</td>\n",
       "    </tr>\n",
       "    <tr>\n",
       "      <th>6</th>\n",
       "      <td>Mahesh</td>\n",
       "      <td>NaN</td>\n",
       "      <td>NaN</td>\n",
       "      <td>40000.0</td>\n",
       "    </tr>\n",
       "    <tr>\n",
       "      <th>7</th>\n",
       "      <td>None</td>\n",
       "      <td>34.0</td>\n",
       "      <td>10.0</td>\n",
       "      <td>38000.0</td>\n",
       "    </tr>\n",
       "    <tr>\n",
       "      <th>8</th>\n",
       "      <td>None</td>\n",
       "      <td>36.0</td>\n",
       "      <td>NaN</td>\n",
       "      <td>NaN</td>\n",
       "    </tr>\n",
       "  </tbody>\n",
       "</table>\n",
       "</div>"
      ],
      "text/plain": [
       "        Name   age  Experience   Salary\n",
       "0      Krish  31.0        10.0  30000.0\n",
       "1  Sudhanshu  30.0         8.0  25000.0\n",
       "2      Sunny  29.0         4.0  20000.0\n",
       "3       Paul  24.0         3.0  20000.0\n",
       "4     Harsha  21.0         1.0  15000.0\n",
       "5    Shubham  23.0         2.0  18000.0\n",
       "6     Mahesh   NaN         NaN  40000.0\n",
       "7       None  34.0        10.0  38000.0\n",
       "8       None  36.0         NaN      NaN"
      ]
     },
     "execution_count": 86,
     "metadata": {},
     "output_type": "execute_result"
    }
   ],
   "source": [
    "df"
   ]
  },
  {
   "cell_type": "code",
   "execution_count": 87,
   "id": "585330a0",
   "metadata": {},
   "outputs": [
    {
     "data": {
      "text/plain": [
       "Index(['Name', 'age', 'Experience', 'Salary'], dtype='object')"
      ]
     },
     "execution_count": 87,
     "metadata": {},
     "output_type": "execute_result"
    }
   ],
   "source": [
    "df.columns"
   ]
  },
  {
   "cell_type": "code",
   "execution_count": 88,
   "id": "5daac68d",
   "metadata": {},
   "outputs": [],
   "source": [
    "# drop columns"
   ]
  },
  {
   "cell_type": "code",
   "execution_count": 89,
   "id": "ea9f67e0",
   "metadata": {},
   "outputs": [
    {
     "name": "stdout",
     "output_type": "stream",
     "text": [
      "+----+----------+------+\n",
      "| age|Experience|Salary|\n",
      "+----+----------+------+\n",
      "|  31|        10| 30000|\n",
      "|  30|         8| 25000|\n",
      "|  29|         4| 20000|\n",
      "|  24|         3| 20000|\n",
      "|  21|         1| 15000|\n",
      "|  23|         2| 18000|\n",
      "|NULL|      NULL| 40000|\n",
      "|  34|        10| 38000|\n",
      "|  36|      NULL|  NULL|\n",
      "+----+----------+------+\n",
      "\n"
     ]
    }
   ],
   "source": [
    "data.drop('Name').show()"
   ]
  },
  {
   "cell_type": "code",
   "execution_count": 90,
   "id": "5d369221",
   "metadata": {},
   "outputs": [
    {
     "name": "stdout",
     "output_type": "stream",
     "text": [
      "+---------+----+----------+------+\n",
      "|     Name| age|Experience|Salary|\n",
      "+---------+----+----------+------+\n",
      "|    Krish|  31|        10| 30000|\n",
      "|Sudhanshu|  30|         8| 25000|\n",
      "|    Sunny|  29|         4| 20000|\n",
      "|     Paul|  24|         3| 20000|\n",
      "|   Harsha|  21|         1| 15000|\n",
      "|  Shubham|  23|         2| 18000|\n",
      "|   Mahesh|NULL|      NULL| 40000|\n",
      "|     NULL|  34|        10| 38000|\n",
      "|     NULL|  36|      NULL|  NULL|\n",
      "+---------+----+----------+------+\n",
      "\n"
     ]
    }
   ],
   "source": [
    "data.show()"
   ]
  },
  {
   "cell_type": "code",
   "execution_count": 91,
   "id": "debc54ae",
   "metadata": {},
   "outputs": [
    {
     "name": "stdout",
     "output_type": "stream",
     "text": [
      "+---------+----------+------+\n",
      "|     Name|Experience|Salary|\n",
      "+---------+----------+------+\n",
      "|    Krish|        10| 30000|\n",
      "|Sudhanshu|         8| 25000|\n",
      "|    Sunny|         4| 20000|\n",
      "|     Paul|         3| 20000|\n",
      "|   Harsha|         1| 15000|\n",
      "|  Shubham|         2| 18000|\n",
      "|   Mahesh|      NULL| 40000|\n",
      "|     NULL|        10| 38000|\n",
      "|     NULL|      NULL|  NULL|\n",
      "+---------+----------+------+\n",
      "\n"
     ]
    }
   ],
   "source": [
    "data.drop('age').show()"
   ]
  },
  {
   "cell_type": "code",
   "execution_count": 92,
   "id": "8e88fc7b",
   "metadata": {},
   "outputs": [
    {
     "name": "stdout",
     "output_type": "stream",
     "text": [
      "+---------+----+----------+------+\n",
      "|     Name| age|Experience|Salary|\n",
      "+---------+----+----------+------+\n",
      "|    Krish|  31|        10| 30000|\n",
      "|Sudhanshu|  30|         8| 25000|\n",
      "|    Sunny|  29|         4| 20000|\n",
      "|     Paul|  24|         3| 20000|\n",
      "|   Harsha|  21|         1| 15000|\n",
      "|  Shubham|  23|         2| 18000|\n",
      "|   Mahesh|NULL|      NULL| 40000|\n",
      "|     NULL|  34|        10| 38000|\n",
      "|     NULL|  36|      NULL|  NULL|\n",
      "+---------+----+----------+------+\n",
      "\n"
     ]
    }
   ],
   "source": [
    "data.show()"
   ]
  },
  {
   "cell_type": "code",
   "execution_count": 93,
   "id": "ab6f1a81",
   "metadata": {},
   "outputs": [
    {
     "name": "stdout",
     "output_type": "stream",
     "text": [
      "+---------+---+----------+------+\n",
      "|     Name|age|Experience|Salary|\n",
      "+---------+---+----------+------+\n",
      "|    Krish| 31|        10| 30000|\n",
      "|Sudhanshu| 30|         8| 25000|\n",
      "|    Sunny| 29|         4| 20000|\n",
      "|     Paul| 24|         3| 20000|\n",
      "|   Harsha| 21|         1| 15000|\n",
      "|  Shubham| 23|         2| 18000|\n",
      "+---------+---+----------+------+\n",
      "\n"
     ]
    }
   ],
   "source": [
    "data.na.drop().show()"
   ]
  },
  {
   "cell_type": "code",
   "execution_count": 94,
   "id": "3b59a0d4",
   "metadata": {},
   "outputs": [
    {
     "name": "stdout",
     "output_type": "stream",
     "text": [
      "+---------+----+----------+------+\n",
      "|     Name| age|Experience|Salary|\n",
      "+---------+----+----------+------+\n",
      "|    Krish|  31|        10| 30000|\n",
      "|Sudhanshu|  30|         8| 25000|\n",
      "|    Sunny|  29|         4| 20000|\n",
      "|     Paul|  24|         3| 20000|\n",
      "|   Harsha|  21|         1| 15000|\n",
      "|  Shubham|  23|         2| 18000|\n",
      "|   Mahesh|NULL|      NULL| 40000|\n",
      "|     NULL|  34|        10| 38000|\n",
      "|     NULL|  36|      NULL|  NULL|\n",
      "+---------+----+----------+------+\n",
      "\n"
     ]
    }
   ],
   "source": [
    "data.show()"
   ]
  },
  {
   "cell_type": "code",
   "execution_count": 95,
   "id": "eb70c35f",
   "metadata": {},
   "outputs": [
    {
     "name": "stdout",
     "output_type": "stream",
     "text": [
      "+---------+---+----------+------+\n",
      "|     Name|age|Experience|Salary|\n",
      "+---------+---+----------+------+\n",
      "|    Krish| 31|        10| 30000|\n",
      "|Sudhanshu| 30|         8| 25000|\n",
      "|    Sunny| 29|         4| 20000|\n",
      "|     Paul| 24|         3| 20000|\n",
      "|   Harsha| 21|         1| 15000|\n",
      "|  Shubham| 23|         2| 18000|\n",
      "+---------+---+----------+------+\n",
      "\n"
     ]
    }
   ],
   "source": [
    "### any==how\n",
    "data.na.drop(how=\"any\").show()"
   ]
  },
  {
   "cell_type": "code",
   "execution_count": 96,
   "id": "fdda255c",
   "metadata": {},
   "outputs": [
    {
     "name": "stdout",
     "output_type": "stream",
     "text": [
      "+---------+----+----------+------+\n",
      "|     Name| age|Experience|Salary|\n",
      "+---------+----+----------+------+\n",
      "|    Krish|  31|        10| 30000|\n",
      "|Sudhanshu|  30|         8| 25000|\n",
      "|    Sunny|  29|         4| 20000|\n",
      "|     Paul|  24|         3| 20000|\n",
      "|   Harsha|  21|         1| 15000|\n",
      "|  Shubham|  23|         2| 18000|\n",
      "|   Mahesh|NULL|      NULL| 40000|\n",
      "|     NULL|  34|        10| 38000|\n",
      "|     NULL|  36|      NULL|  NULL|\n",
      "+---------+----+----------+------+\n",
      "\n"
     ]
    }
   ],
   "source": [
    "### threshold\n",
    "data.na.drop(how=\"any\",thresh=1).show()"
   ]
  },
  {
   "cell_type": "code",
   "execution_count": 97,
   "id": "35a0fbcd",
   "metadata": {},
   "outputs": [
    {
     "name": "stdout",
     "output_type": "stream",
     "text": [
      "+---------+----+----------+------+\n",
      "|     Name| age|Experience|Salary|\n",
      "+---------+----+----------+------+\n",
      "|    Krish|  31|        10| 30000|\n",
      "|Sudhanshu|  30|         8| 25000|\n",
      "|    Sunny|  29|         4| 20000|\n",
      "|     Paul|  24|         3| 20000|\n",
      "|   Harsha|  21|         1| 15000|\n",
      "|  Shubham|  23|         2| 18000|\n",
      "|   Mahesh|NULL|      NULL| 40000|\n",
      "|     NULL|  34|        10| 38000|\n",
      "+---------+----+----------+------+\n",
      "\n"
     ]
    }
   ],
   "source": [
    "### threshold\n",
    "data.na.drop(how=\"any\",thresh=2).show()"
   ]
  },
  {
   "cell_type": "code",
   "execution_count": 98,
   "id": "f4748402",
   "metadata": {},
   "outputs": [
    {
     "name": "stdout",
     "output_type": "stream",
     "text": [
      "+---------+---+----------+------+\n",
      "|     Name|age|Experience|Salary|\n",
      "+---------+---+----------+------+\n",
      "|    Krish| 31|        10| 30000|\n",
      "|Sudhanshu| 30|         8| 25000|\n",
      "|    Sunny| 29|         4| 20000|\n",
      "|     Paul| 24|         3| 20000|\n",
      "|   Harsha| 21|         1| 15000|\n",
      "|  Shubham| 23|         2| 18000|\n",
      "|     NULL| 34|        10| 38000|\n",
      "+---------+---+----------+------+\n",
      "\n"
     ]
    }
   ],
   "source": [
    "### threshold\n",
    "data.na.drop(how=\"any\",thresh=3).show()"
   ]
  },
  {
   "cell_type": "code",
   "execution_count": 99,
   "id": "7945eab8",
   "metadata": {},
   "outputs": [
    {
     "name": "stdout",
     "output_type": "stream",
     "text": [
      "+---------+---+----------+------+\n",
      "|     Name|age|Experience|Salary|\n",
      "+---------+---+----------+------+\n",
      "|    Krish| 31|        10| 30000|\n",
      "|Sudhanshu| 30|         8| 25000|\n",
      "|    Sunny| 29|         4| 20000|\n",
      "|     Paul| 24|         3| 20000|\n",
      "|   Harsha| 21|         1| 15000|\n",
      "|  Shubham| 23|         2| 18000|\n",
      "+---------+---+----------+------+\n",
      "\n"
     ]
    }
   ],
   "source": [
    "### threshold\n",
    "data.na.drop(how=\"any\",thresh=4).show()"
   ]
  },
  {
   "cell_type": "code",
   "execution_count": 100,
   "id": "354d60ba",
   "metadata": {},
   "outputs": [
    {
     "name": "stdout",
     "output_type": "stream",
     "text": [
      "+----+---+----------+------+\n",
      "|Name|age|Experience|Salary|\n",
      "+----+---+----------+------+\n",
      "+----+---+----------+------+\n",
      "\n"
     ]
    }
   ],
   "source": [
    "### threshold\n",
    "data.na.drop(how=\"any\",thresh=5).show()"
   ]
  },
  {
   "cell_type": "code",
   "execution_count": 101,
   "id": "20d00b9a",
   "metadata": {},
   "outputs": [
    {
     "name": "stdout",
     "output_type": "stream",
     "text": [
      "+---------+----+----------+------+\n",
      "|     Name| age|Experience|Salary|\n",
      "+---------+----+----------+------+\n",
      "|    Krish|  31|        10| 30000|\n",
      "|Sudhanshu|  30|         8| 25000|\n",
      "|    Sunny|  29|         4| 20000|\n",
      "|     Paul|  24|         3| 20000|\n",
      "|   Harsha|  21|         1| 15000|\n",
      "|  Shubham|  23|         2| 18000|\n",
      "|   Mahesh|NULL|      NULL| 40000|\n",
      "|     NULL|  34|        10| 38000|\n",
      "|     NULL|  36|      NULL|  NULL|\n",
      "+---------+----+----------+------+\n",
      "\n"
     ]
    }
   ],
   "source": [
    "data.show()"
   ]
  },
  {
   "cell_type": "code",
   "execution_count": 102,
   "id": "56b35de8",
   "metadata": {},
   "outputs": [
    {
     "name": "stdout",
     "output_type": "stream",
     "text": [
      "+---------+---+----------+------+\n",
      "|     Name|age|Experience|Salary|\n",
      "+---------+---+----------+------+\n",
      "|    Krish| 31|        10| 30000|\n",
      "|Sudhanshu| 30|         8| 25000|\n",
      "|    Sunny| 29|         4| 20000|\n",
      "|     Paul| 24|         3| 20000|\n",
      "|   Harsha| 21|         1| 15000|\n",
      "|  Shubham| 23|         2| 18000|\n",
      "|     NULL| 34|        10| 38000|\n",
      "|     NULL| 36|      NULL|  NULL|\n",
      "+---------+---+----------+------+\n",
      "\n"
     ]
    }
   ],
   "source": [
    "\n",
    "\n",
    "\n",
    "\n",
    "##subset\n",
    "data.na.drop(how=\"any\",subset=[\"Age\"]).show()"
   ]
  },
  {
   "cell_type": "code",
   "execution_count": 103,
   "id": "3b622ca8",
   "metadata": {},
   "outputs": [
    {
     "name": "stdout",
     "output_type": "stream",
     "text": [
      "+---------+---+----------+------+\n",
      "|     Name|age|Experience|Salary|\n",
      "+---------+---+----------+------+\n",
      "|    Krish| 31|        10| 30000|\n",
      "|Sudhanshu| 30|         8| 25000|\n",
      "|    Sunny| 29|         4| 20000|\n",
      "|     Paul| 24|         3| 20000|\n",
      "|   Harsha| 21|         1| 15000|\n",
      "|  Shubham| 23|         2| 18000|\n",
      "|     NULL| 34|        10| 38000|\n",
      "|     NULL| 36|      NULL|  NULL|\n",
      "+---------+---+----------+------+\n",
      "\n"
     ]
    }
   ],
   "source": [
    "data.na.drop(subset=[\"Age\"]).show()"
   ]
  },
  {
   "cell_type": "code",
   "execution_count": 104,
   "id": "a2350b5c",
   "metadata": {},
   "outputs": [
    {
     "name": "stdout",
     "output_type": "stream",
     "text": [
      "+---------+----+----------+------+\n",
      "|     Name| age|Experience|Salary|\n",
      "+---------+----+----------+------+\n",
      "|    Krish|  31|        10| 30000|\n",
      "|Sudhanshu|  30|         8| 25000|\n",
      "|    Sunny|  29|         4| 20000|\n",
      "|     Paul|  24|         3| 20000|\n",
      "|   Harsha|  21|         1| 15000|\n",
      "|  Shubham|  23|         2| 18000|\n",
      "|   Mahesh|NULL|      NULL| 40000|\n",
      "+---------+----+----------+------+\n",
      "\n"
     ]
    }
   ],
   "source": [
    "\n",
    "data.na.drop(subset=[\"Name\"]).show()"
   ]
  },
  {
   "cell_type": "code",
   "execution_count": 105,
   "id": "6dd4a56a",
   "metadata": {},
   "outputs": [
    {
     "name": "stdout",
     "output_type": "stream",
     "text": [
      "+---------+---+----------+------+\n",
      "|     Name|age|Experience|Salary|\n",
      "+---------+---+----------+------+\n",
      "|    Krish| 31|        10| 30000|\n",
      "|Sudhanshu| 30|         8| 25000|\n",
      "|    Sunny| 29|         4| 20000|\n",
      "|     Paul| 24|         3| 20000|\n",
      "|   Harsha| 21|         1| 15000|\n",
      "|  Shubham| 23|         2| 18000|\n",
      "|     NULL| 34|        10| 38000|\n",
      "+---------+---+----------+------+\n",
      "\n"
     ]
    }
   ],
   "source": [
    "data.na.drop(subset=[\"Experience\"]).show()"
   ]
  },
  {
   "cell_type": "code",
   "execution_count": 106,
   "id": "38e92189",
   "metadata": {},
   "outputs": [
    {
     "name": "stdout",
     "output_type": "stream",
     "text": [
      "+---------+---+----------+------+\n",
      "|     Name|age|Experience|Salary|\n",
      "+---------+---+----------+------+\n",
      "|    Krish| 31|        10| 30000|\n",
      "|Sudhanshu| 30|         8| 25000|\n",
      "|    Sunny| 29|         4| 20000|\n",
      "|     Paul| 24|         3| 20000|\n",
      "|   Harsha| 21|         1| 15000|\n",
      "|  Shubham| 23|         2| 18000|\n",
      "+---------+---+----------+------+\n",
      "\n"
     ]
    }
   ],
   "source": [
    "data.na.drop(subset=[\"Name\",\"Age\"]).show()"
   ]
  },
  {
   "cell_type": "code",
   "execution_count": 107,
   "id": "4b55025a",
   "metadata": {},
   "outputs": [],
   "source": [
    "## fill the missing values"
   ]
  },
  {
   "cell_type": "code",
   "execution_count": 108,
   "id": "cf0c6480",
   "metadata": {},
   "outputs": [
    {
     "name": "stdout",
     "output_type": "stream",
     "text": [
      "+-------------+----+----------+------+\n",
      "|         Name| age|Experience|Salary|\n",
      "+-------------+----+----------+------+\n",
      "|        Krish|  31|        10| 30000|\n",
      "|    Sudhanshu|  30|         8| 25000|\n",
      "|        Sunny|  29|         4| 20000|\n",
      "|         Paul|  24|         3| 20000|\n",
      "|       Harsha|  21|         1| 15000|\n",
      "|      Shubham|  23|         2| 18000|\n",
      "|       Mahesh|NULL|      NULL| 40000|\n",
      "|Missing Value|  34|        10| 38000|\n",
      "|Missing Value|  36|      NULL|  NULL|\n",
      "+-------------+----+----------+------+\n",
      "\n"
     ]
    }
   ],
   "source": [
    "data.na.fill('Missing Value').show()"
   ]
  },
  {
   "cell_type": "code",
   "execution_count": 109,
   "id": "cbea23ae",
   "metadata": {},
   "outputs": [
    {
     "name": "stdout",
     "output_type": "stream",
     "text": [
      "+--------------+----+----------+------+\n",
      "|          Name| age|Experience|Salary|\n",
      "+--------------+----+----------+------+\n",
      "|         Krish|  31|        10| 30000|\n",
      "|     Sudhanshu|  30|         8| 25000|\n",
      "|         Sunny|  29|         4| 20000|\n",
      "|          Paul|  24|         3| 20000|\n",
      "|        Harsha|  21|         1| 15000|\n",
      "|       Shubham|  23|         2| 18000|\n",
      "|        Mahesh|NULL|      NULL| 40000|\n",
      "|Missing Values|  34|        10| 38000|\n",
      "|Missing Values|  36|      NULL|  NULL|\n",
      "+--------------+----+----------+------+\n",
      "\n"
     ]
    }
   ],
   "source": [
    "data.na.fill('Missing Values',['Name']).show()"
   ]
  },
  {
   "cell_type": "code",
   "execution_count": 110,
   "id": "0fbe6d13",
   "metadata": {},
   "outputs": [
    {
     "name": "stdout",
     "output_type": "stream",
     "text": [
      "+---------+---+----------+------+\n",
      "|     Name|age|Experience|Salary|\n",
      "+---------+---+----------+------+\n",
      "|    Krish| 31|        10| 30000|\n",
      "|Sudhanshu| 30|         8| 25000|\n",
      "|    Sunny| 29|         4| 20000|\n",
      "|     Paul| 24|         3| 20000|\n",
      "|   Harsha| 21|         1| 15000|\n",
      "|  Shubham| 23|         2| 18000|\n",
      "|   Mahesh|  0|         0| 40000|\n",
      "|     NULL| 34|        10| 38000|\n",
      "|     NULL| 36|         0|     0|\n",
      "+---------+---+----------+------+\n",
      "\n"
     ]
    }
   ],
   "source": [
    "data.na.fill(0,['Age','Experience','Salary']).show()"
   ]
  },
  {
   "cell_type": "code",
   "execution_count": 111,
   "id": "3046b36e",
   "metadata": {},
   "outputs": [
    {
     "name": "stdout",
     "output_type": "stream",
     "text": [
      "+---------+----+----------+------+\n",
      "|     Name| age|Experience|Salary|\n",
      "+---------+----+----------+------+\n",
      "|    Krish|  31|        10| 30000|\n",
      "|Sudhanshu|  30|         8| 25000|\n",
      "|    Sunny|  29|         4| 20000|\n",
      "|     Paul|  24|         3| 20000|\n",
      "|   Harsha|  21|         1| 15000|\n",
      "|  Shubham|  23|         2| 18000|\n",
      "|   Mahesh|NULL|      NULL| 40000|\n",
      "|     NULL|  34|        10| 38000|\n",
      "|     NULL|  36|      NULL|  NULL|\n",
      "+---------+----+----------+------+\n",
      "\n"
     ]
    }
   ],
   "source": [
    "data.show()"
   ]
  },
  {
   "cell_type": "code",
   "execution_count": 112,
   "id": "3b09e7f0",
   "metadata": {},
   "outputs": [
    {
     "name": "stdout",
     "output_type": "stream",
     "text": [
      "root\n",
      " |-- Name: string (nullable = true)\n",
      " |-- age: integer (nullable = true)\n",
      " |-- Experience: integer (nullable = true)\n",
      " |-- Salary: integer (nullable = true)\n",
      "\n"
     ]
    }
   ],
   "source": [
    "data.printSchema()"
   ]
  },
  {
   "cell_type": "code",
   "execution_count": 113,
   "id": "43bf8659",
   "metadata": {},
   "outputs": [],
   "source": [
    "from pyspark.ml.feature import Imputer\n",
    "\n",
    "imputer = Imputer(\n",
    "    inputCols=['age', 'Experience', 'Salary'], \n",
    "    outputCols=[\"{}_imputed\".format(c) for c in ['age', 'Experience', 'Salary']]\n",
    "    ).setStrategy(\"median\")"
   ]
  },
  {
   "cell_type": "code",
   "execution_count": 114,
   "id": "4731116d",
   "metadata": {},
   "outputs": [
    {
     "name": "stdout",
     "output_type": "stream",
     "text": [
      "+---------+----+----------+------+-----------+------------------+--------------+\n",
      "|     Name| age|Experience|Salary|age_imputed|Experience_imputed|Salary_imputed|\n",
      "+---------+----+----------+------+-----------+------------------+--------------+\n",
      "|    Krish|  31|        10| 30000|         31|                10|         30000|\n",
      "|Sudhanshu|  30|         8| 25000|         30|                 8|         25000|\n",
      "|    Sunny|  29|         4| 20000|         29|                 4|         20000|\n",
      "|     Paul|  24|         3| 20000|         24|                 3|         20000|\n",
      "|   Harsha|  21|         1| 15000|         21|                 1|         15000|\n",
      "|  Shubham|  23|         2| 18000|         23|                 2|         18000|\n",
      "|   Mahesh|NULL|      NULL| 40000|         29|                 4|         40000|\n",
      "|     NULL|  34|        10| 38000|         34|                10|         38000|\n",
      "|     NULL|  36|      NULL|  NULL|         36|                 4|         20000|\n",
      "+---------+----+----------+------+-----------+------------------+--------------+\n",
      "\n"
     ]
    }
   ],
   "source": [
    "# Add imputation cols to df\n",
    "imputer.fit(data).transform(data).show()"
   ]
  },
  {
   "cell_type": "markdown",
   "id": "67869f5c",
   "metadata": {},
   "source": [
    "## Pyspark Dataframes\n",
    "- Filter Operation\n",
    "- &,|,==\n",
    "- ~"
   ]
  },
  {
   "cell_type": "code",
   "execution_count": 115,
   "id": "edca8b6e",
   "metadata": {},
   "outputs": [],
   "source": [
    "data=spark.read.csv('test1.csv',header=True,inferSchema=True)"
   ]
  },
  {
   "cell_type": "code",
   "execution_count": 116,
   "id": "9238ba5b",
   "metadata": {},
   "outputs": [
    {
     "name": "stdout",
     "output_type": "stream",
     "text": [
      "+---------+---+----------+------+\n",
      "|     Name|age|Experience|Salary|\n",
      "+---------+---+----------+------+\n",
      "|    Krish| 31|        10| 30000|\n",
      "|Sudhanshu| 30|         8| 25000|\n",
      "|    Sunny| 29|         4| 20000|\n",
      "|     Paul| 24|         3| 20000|\n",
      "|   Harsha| 21|         1| 15000|\n",
      "|  Shubham| 23|         2| 18000|\n",
      "+---------+---+----------+------+\n",
      "\n"
     ]
    }
   ],
   "source": [
    "data.show()"
   ]
  },
  {
   "cell_type": "markdown",
   "id": "18675849",
   "metadata": {},
   "source": [
    "## Filter Operations"
   ]
  },
  {
   "cell_type": "code",
   "execution_count": 117,
   "id": "1802d0f1",
   "metadata": {},
   "outputs": [],
   "source": [
    "### Salary of the people less than or equal to 20000"
   ]
  },
  {
   "cell_type": "code",
   "execution_count": 118,
   "id": "95be28ae",
   "metadata": {},
   "outputs": [
    {
     "name": "stdout",
     "output_type": "stream",
     "text": [
      "+-------+---+----------+------+\n",
      "|   Name|age|Experience|Salary|\n",
      "+-------+---+----------+------+\n",
      "|  Sunny| 29|         4| 20000|\n",
      "|   Paul| 24|         3| 20000|\n",
      "| Harsha| 21|         1| 15000|\n",
      "|Shubham| 23|         2| 18000|\n",
      "+-------+---+----------+------+\n",
      "\n"
     ]
    }
   ],
   "source": [
    "data.filter(\"Salary<=20000\").show()"
   ]
  },
  {
   "cell_type": "code",
   "execution_count": 119,
   "id": "616205f4",
   "metadata": {},
   "outputs": [],
   "source": [
    "### Salary of the people equal to 20000"
   ]
  },
  {
   "cell_type": "code",
   "execution_count": 120,
   "id": "2e5a42df",
   "metadata": {},
   "outputs": [
    {
     "name": "stdout",
     "output_type": "stream",
     "text": [
      "+-----+---+----------+------+\n",
      "| Name|age|Experience|Salary|\n",
      "+-----+---+----------+------+\n",
      "|Sunny| 29|         4| 20000|\n",
      "| Paul| 24|         3| 20000|\n",
      "+-----+---+----------+------+\n",
      "\n"
     ]
    }
   ],
   "source": [
    "data.filter(\"Salary==20000\").show()"
   ]
  },
  {
   "cell_type": "code",
   "execution_count": 121,
   "id": "1fcde338",
   "metadata": {},
   "outputs": [
    {
     "name": "stdout",
     "output_type": "stream",
     "text": [
      "+-------+\n",
      "|   Name|\n",
      "+-------+\n",
      "|  Sunny|\n",
      "|   Paul|\n",
      "| Harsha|\n",
      "|Shubham|\n",
      "+-------+\n",
      "\n"
     ]
    }
   ],
   "source": [
    "data.filter(\"Salary<=20000\").select([\"Name\"]).show()"
   ]
  },
  {
   "cell_type": "code",
   "execution_count": 122,
   "id": "994586a7",
   "metadata": {},
   "outputs": [
    {
     "name": "stdout",
     "output_type": "stream",
     "text": [
      "+-------+---+\n",
      "|   Name|Age|\n",
      "+-------+---+\n",
      "|  Sunny| 29|\n",
      "|   Paul| 24|\n",
      "| Harsha| 21|\n",
      "|Shubham| 23|\n",
      "+-------+---+\n",
      "\n"
     ]
    }
   ],
   "source": [
    "data.filter(\"Salary<=20000\").select([\"Name\",\"Age\"]).show()"
   ]
  },
  {
   "cell_type": "code",
   "execution_count": 123,
   "id": "28a9f6e7",
   "metadata": {},
   "outputs": [
    {
     "name": "stdout",
     "output_type": "stream",
     "text": [
      "+-------+---+----------+------+\n",
      "|   Name|age|Experience|Salary|\n",
      "+-------+---+----------+------+\n",
      "|  Sunny| 29|         4| 20000|\n",
      "|   Paul| 24|         3| 20000|\n",
      "| Harsha| 21|         1| 15000|\n",
      "|Shubham| 23|         2| 18000|\n",
      "+-------+---+----------+------+\n",
      "\n"
     ]
    }
   ],
   "source": [
    "data.filter(\"Salary<=20000\").show()"
   ]
  },
  {
   "cell_type": "code",
   "execution_count": 124,
   "id": "d3da5a83",
   "metadata": {},
   "outputs": [
    {
     "name": "stdout",
     "output_type": "stream",
     "text": [
      "+-------+---+----------+------+\n",
      "|   Name|age|Experience|Salary|\n",
      "+-------+---+----------+------+\n",
      "|  Sunny| 29|         4| 20000|\n",
      "|   Paul| 24|         3| 20000|\n",
      "| Harsha| 21|         1| 15000|\n",
      "|Shubham| 23|         2| 18000|\n",
      "+-------+---+----------+------+\n",
      "\n"
     ]
    }
   ],
   "source": [
    "data.filter(data[\"Salary\"]<=20000).show()"
   ]
  },
  {
   "cell_type": "code",
   "execution_count": 125,
   "id": "a754a8e6",
   "metadata": {},
   "outputs": [
    {
     "name": "stdout",
     "output_type": "stream",
     "text": [
      "+---------+---+----------+------+\n",
      "|     Name|age|Experience|Salary|\n",
      "+---------+---+----------+------+\n",
      "|    Krish| 31|        10| 30000|\n",
      "|Sudhanshu| 30|         8| 25000|\n",
      "|    Sunny| 29|         4| 20000|\n",
      "|     Paul| 24|         3| 20000|\n",
      "|   Harsha| 21|         1| 15000|\n",
      "|  Shubham| 23|         2| 18000|\n",
      "+---------+---+----------+------+\n",
      "\n"
     ]
    }
   ],
   "source": [
    "data.filter((data[\"Salary\"]<=20000) | (data['Salary']>=15000)).show()"
   ]
  },
  {
   "cell_type": "code",
   "execution_count": 126,
   "id": "553bb18c",
   "metadata": {},
   "outputs": [
    {
     "name": "stdout",
     "output_type": "stream",
     "text": [
      "+-------+---+----------+------+\n",
      "|   Name|age|Experience|Salary|\n",
      "+-------+---+----------+------+\n",
      "| Harsha| 21|         1| 15000|\n",
      "|Shubham| 23|         2| 18000|\n",
      "+-------+---+----------+------+\n",
      "\n"
     ]
    }
   ],
   "source": [
    "data.filter(~(data[\"Salary\"]>=20000)).show()"
   ]
  },
  {
   "cell_type": "code",
   "execution_count": 127,
   "id": "cb34f469",
   "metadata": {},
   "outputs": [
    {
     "name": "stdout",
     "output_type": "stream",
     "text": [
      "+---------+---+----------+------+\n",
      "|     Name|age|Experience|Salary|\n",
      "+---------+---+----------+------+\n",
      "|    Krish| 31|        10| 30000|\n",
      "|Sudhanshu| 30|         8| 25000|\n",
      "+---------+---+----------+------+\n",
      "\n"
     ]
    }
   ],
   "source": [
    "data.filter(~(data[\"Salary\"]<=20000)).show()"
   ]
  },
  {
   "cell_type": "markdown",
   "id": "99bd0550",
   "metadata": {},
   "source": [
    "## Pyspark GroupBy And Aggregate Functions"
   ]
  },
  {
   "cell_type": "code",
   "execution_count": 128,
   "id": "c8b6fc0c",
   "metadata": {},
   "outputs": [],
   "source": [
    "spark=SparkSession.builder.appName('Agg').getOrCreate()"
   ]
  },
  {
   "cell_type": "code",
   "execution_count": 129,
   "id": "0f54df13",
   "metadata": {},
   "outputs": [
    {
     "data": {
      "text/html": [
       "\n",
       "            <div>\n",
       "                <p><b>SparkSession - in-memory</b></p>\n",
       "                \n",
       "        <div>\n",
       "            <p><b>SparkContext</b></p>\n",
       "\n",
       "            <p><a href=\"http://SPNRNT0370.hosur.tvsmotor.co.in:4040\">Spark UI</a></p>\n",
       "\n",
       "            <dl>\n",
       "              <dt>Version</dt>\n",
       "                <dd><code>v3.5.2</code></dd>\n",
       "              <dt>Master</dt>\n",
       "                <dd><code>local[*]</code></dd>\n",
       "              <dt>AppName</dt>\n",
       "                <dd><code>SparkByExamples</code></dd>\n",
       "            </dl>\n",
       "        </div>\n",
       "        \n",
       "            </div>\n",
       "        "
      ],
      "text/plain": [
       "<pyspark.sql.session.SparkSession at 0x2e6a559b190>"
      ]
     },
     "execution_count": 129,
     "metadata": {},
     "output_type": "execute_result"
    }
   ],
   "source": [
    "spark"
   ]
  },
  {
   "cell_type": "code",
   "execution_count": 130,
   "id": "3f2b6132",
   "metadata": {},
   "outputs": [],
   "source": [
    "data=spark.read.csv('test3.csv',header=True,inferSchema=True)"
   ]
  },
  {
   "cell_type": "code",
   "execution_count": 131,
   "id": "1c7fa5ee",
   "metadata": {},
   "outputs": [
    {
     "name": "stdout",
     "output_type": "stream",
     "text": [
      "+---------+------------+------+\n",
      "|     Name| Departments|salary|\n",
      "+---------+------------+------+\n",
      "|    Krish|Data Science| 10000|\n",
      "|    Krish|         IOT|  5000|\n",
      "|   Mahesh|    Big Data|  4000|\n",
      "|    Krish|    Big Data|  4000|\n",
      "|   Mahesh|Data Science|  3000|\n",
      "|Sudhanshu|Data Science| 20000|\n",
      "|Sudhanshu|         IOT| 10000|\n",
      "|Sudhanshu|    Big Data|  5000|\n",
      "|    Sunny|Data Science| 10000|\n",
      "|    Sunny|    Big Data|  2000|\n",
      "+---------+------------+------+\n",
      "\n"
     ]
    }
   ],
   "source": [
    "data.show()"
   ]
  },
  {
   "cell_type": "code",
   "execution_count": 132,
   "id": "70e3b1a7",
   "metadata": {},
   "outputs": [
    {
     "name": "stdout",
     "output_type": "stream",
     "text": [
      "root\n",
      " |-- Name: string (nullable = true)\n",
      " |-- Departments: string (nullable = true)\n",
      " |-- salary: integer (nullable = true)\n",
      "\n"
     ]
    }
   ],
   "source": [
    "data.printSchema()"
   ]
  },
  {
   "cell_type": "code",
   "execution_count": 133,
   "id": "43944453",
   "metadata": {},
   "outputs": [],
   "source": [
    "## Groupby"
   ]
  },
  {
   "cell_type": "code",
   "execution_count": 134,
   "id": "37aac6a5",
   "metadata": {},
   "outputs": [
    {
     "name": "stdout",
     "output_type": "stream",
     "text": [
      "+---------+-----------+\n",
      "|     Name|sum(salary)|\n",
      "+---------+-----------+\n",
      "|Sudhanshu|      35000|\n",
      "|    Sunny|      12000|\n",
      "|    Krish|      19000|\n",
      "|   Mahesh|       7000|\n",
      "+---------+-----------+\n",
      "\n"
     ]
    }
   ],
   "source": [
    "### Grouped to find the maximum salary\n",
    "data.groupBy('Name').sum().show()"
   ]
  },
  {
   "cell_type": "code",
   "execution_count": 135,
   "id": "075e0b47",
   "metadata": {},
   "outputs": [
    {
     "name": "stdout",
     "output_type": "stream",
     "text": [
      "+---------+------------------+\n",
      "|     Name|       avg(salary)|\n",
      "+---------+------------------+\n",
      "|Sudhanshu|11666.666666666666|\n",
      "|    Sunny|            6000.0|\n",
      "|    Krish| 6333.333333333333|\n",
      "|   Mahesh|            3500.0|\n",
      "+---------+------------------+\n",
      "\n"
     ]
    }
   ],
   "source": [
    "data.groupBy('Name').avg().show()"
   ]
  },
  {
   "cell_type": "code",
   "execution_count": 136,
   "id": "52331dd8",
   "metadata": {},
   "outputs": [
    {
     "name": "stdout",
     "output_type": "stream",
     "text": [
      "+---------+-----------+\n",
      "|     Name|min(salary)|\n",
      "+---------+-----------+\n",
      "|Sudhanshu|       5000|\n",
      "|    Sunny|       2000|\n",
      "|    Krish|       4000|\n",
      "|   Mahesh|       3000|\n",
      "+---------+-----------+\n",
      "\n"
     ]
    }
   ],
   "source": [
    "data.groupBy('Name').min().show()"
   ]
  },
  {
   "cell_type": "code",
   "execution_count": 137,
   "id": "bbdfb789",
   "metadata": {},
   "outputs": [
    {
     "name": "stdout",
     "output_type": "stream",
     "text": [
      "+---------+-----------+\n",
      "|     Name|max(salary)|\n",
      "+---------+-----------+\n",
      "|Sudhanshu|      20000|\n",
      "|    Sunny|      10000|\n",
      "|    Krish|      10000|\n",
      "|   Mahesh|       4000|\n",
      "+---------+-----------+\n",
      "\n"
     ]
    }
   ],
   "source": [
    "data.groupBy('Name').max().show()"
   ]
  },
  {
   "cell_type": "code",
   "execution_count": 138,
   "id": "517faedc",
   "metadata": {},
   "outputs": [
    {
     "name": "stdout",
     "output_type": "stream",
     "text": [
      "+------------+-----------+\n",
      "| Departments|sum(salary)|\n",
      "+------------+-----------+\n",
      "|         IOT|      15000|\n",
      "|    Big Data|      15000|\n",
      "|Data Science|      43000|\n",
      "+------------+-----------+\n",
      "\n"
     ]
    }
   ],
   "source": [
    "data.groupBy('Departments').sum().show()"
   ]
  },
  {
   "cell_type": "code",
   "execution_count": 139,
   "id": "9f1dee5e",
   "metadata": {},
   "outputs": [
    {
     "name": "stdout",
     "output_type": "stream",
     "text": [
      "+------------+-----------+\n",
      "| Departments|min(salary)|\n",
      "+------------+-----------+\n",
      "|         IOT|       5000|\n",
      "|    Big Data|       2000|\n",
      "|Data Science|       3000|\n",
      "+------------+-----------+\n",
      "\n"
     ]
    }
   ],
   "source": [
    "data.groupBy('Departments').min().show()"
   ]
  },
  {
   "cell_type": "code",
   "execution_count": 140,
   "id": "316710bb",
   "metadata": {},
   "outputs": [
    {
     "name": "stdout",
     "output_type": "stream",
     "text": [
      "+------------+-----------+\n",
      "| Departments|avg(salary)|\n",
      "+------------+-----------+\n",
      "|         IOT|     7500.0|\n",
      "|    Big Data|     3750.0|\n",
      "|Data Science|    10750.0|\n",
      "+------------+-----------+\n",
      "\n"
     ]
    }
   ],
   "source": [
    "data.groupBy('Departments').mean().show()"
   ]
  },
  {
   "cell_type": "code",
   "execution_count": 141,
   "id": "ae720556",
   "metadata": {},
   "outputs": [
    {
     "name": "stdout",
     "output_type": "stream",
     "text": [
      "+------------+-----+\n",
      "| Departments|count|\n",
      "+------------+-----+\n",
      "|         IOT|    2|\n",
      "|    Big Data|    4|\n",
      "|Data Science|    4|\n",
      "+------------+-----+\n",
      "\n"
     ]
    }
   ],
   "source": [
    "data.groupBy('Departments').count().show()"
   ]
  },
  {
   "cell_type": "code",
   "execution_count": 142,
   "id": "2a4c4bbb",
   "metadata": {},
   "outputs": [
    {
     "name": "stdout",
     "output_type": "stream",
     "text": [
      "+-----------+\n",
      "|sum(Salary)|\n",
      "+-----------+\n",
      "|      73000|\n",
      "+-----------+\n",
      "\n"
     ]
    }
   ],
   "source": [
    "data.agg({'Salary':'sum'}).show()"
   ]
  },
  {
   "cell_type": "code",
   "execution_count": 143,
   "id": "20121eef",
   "metadata": {},
   "outputs": [
    {
     "name": "stdout",
     "output_type": "stream",
     "text": [
      "+----------------+\n",
      "|sum(Departments)|\n",
      "+----------------+\n",
      "|            NULL|\n",
      "+----------------+\n",
      "\n"
     ]
    }
   ],
   "source": [
    "data.agg({'Departments':'sum'}).show()"
   ]
  },
  {
   "cell_type": "markdown",
   "id": "1d0f1eb2",
   "metadata": {},
   "source": [
    "## Examples Of Pyspark ML"
   ]
  },
  {
   "cell_type": "code",
   "execution_count": 144,
   "id": "3af1b302",
   "metadata": {},
   "outputs": [],
   "source": [
    "from pyspark.sql import SparkSession\n",
    "spark=SparkSession.builder.appName('Missing').getOrCreate()"
   ]
  },
  {
   "cell_type": "code",
   "execution_count": 145,
   "id": "1f586492",
   "metadata": {},
   "outputs": [
    {
     "data": {
      "text/html": [
       "\n",
       "        <div>\n",
       "            <p><b>SparkContext</b></p>\n",
       "\n",
       "            <p><a href=\"http://SPNRNT0370.hosur.tvsmotor.co.in:4040\">Spark UI</a></p>\n",
       "\n",
       "            <dl>\n",
       "              <dt>Version</dt>\n",
       "                <dd><code>v3.5.2</code></dd>\n",
       "              <dt>Master</dt>\n",
       "                <dd><code>local[*]</code></dd>\n",
       "              <dt>AppName</dt>\n",
       "                <dd><code>SparkByExamples</code></dd>\n",
       "            </dl>\n",
       "        </div>\n",
       "        "
      ],
      "text/plain": [
       "<SparkContext master=local[*] appName=SparkByExamples>"
      ]
     },
     "execution_count": 145,
     "metadata": {},
     "output_type": "execute_result"
    }
   ],
   "source": [
    "spark.sparkContext"
   ]
  },
  {
   "cell_type": "code",
   "execution_count": 150,
   "id": "163c05b9",
   "metadata": {},
   "outputs": [
    {
     "data": {
      "text/plain": [
       "pyspark.sql.session.SparkSession"
      ]
     },
     "execution_count": 150,
     "metadata": {},
     "output_type": "execute_result"
    }
   ],
   "source": [
    "SparkSession"
   ]
  },
  {
   "cell_type": "code",
   "execution_count": 151,
   "id": "0968e120",
   "metadata": {},
   "outputs": [],
   "source": [
    "training=spark.read.csv('test1.csv',header=True,inferSchema=True)"
   ]
  },
  {
   "cell_type": "code",
   "execution_count": 152,
   "id": "042dd2ca",
   "metadata": {},
   "outputs": [
    {
     "data": {
      "text/plain": [
       "DataFrame[Name: string, age: int, Experience: int, Salary: int]"
      ]
     },
     "execution_count": 152,
     "metadata": {},
     "output_type": "execute_result"
    }
   ],
   "source": [
    "training"
   ]
  },
  {
   "cell_type": "code",
   "execution_count": 153,
   "id": "67c707d9",
   "metadata": {},
   "outputs": [
    {
     "name": "stdout",
     "output_type": "stream",
     "text": [
      "+---------+---+----------+------+\n",
      "|     Name|age|Experience|Salary|\n",
      "+---------+---+----------+------+\n",
      "|    Krish| 31|        10| 30000|\n",
      "|Sudhanshu| 30|         8| 25000|\n",
      "|    Sunny| 29|         4| 20000|\n",
      "|     Paul| 24|         3| 20000|\n",
      "|   Harsha| 21|         1| 15000|\n",
      "|  Shubham| 23|         2| 18000|\n",
      "+---------+---+----------+------+\n",
      "\n"
     ]
    }
   ],
   "source": [
    "training.show()"
   ]
  },
  {
   "cell_type": "code",
   "execution_count": 155,
   "id": "0c4484a0",
   "metadata": {},
   "outputs": [
    {
     "data": {
      "text/html": [
       "<div>\n",
       "<style scoped>\n",
       "    .dataframe tbody tr th:only-of-type {\n",
       "        vertical-align: middle;\n",
       "    }\n",
       "\n",
       "    .dataframe tbody tr th {\n",
       "        vertical-align: top;\n",
       "    }\n",
       "\n",
       "    .dataframe thead th {\n",
       "        text-align: right;\n",
       "    }\n",
       "</style>\n",
       "<table border=\"1\" class=\"dataframe\">\n",
       "  <thead>\n",
       "    <tr style=\"text-align: right;\">\n",
       "      <th></th>\n",
       "      <th>Name</th>\n",
       "      <th>age</th>\n",
       "      <th>Experience</th>\n",
       "      <th>Salary</th>\n",
       "    </tr>\n",
       "  </thead>\n",
       "  <tbody>\n",
       "    <tr>\n",
       "      <th>0</th>\n",
       "      <td>Krish</td>\n",
       "      <td>31</td>\n",
       "      <td>10</td>\n",
       "      <td>30000</td>\n",
       "    </tr>\n",
       "    <tr>\n",
       "      <th>1</th>\n",
       "      <td>Sudhanshu</td>\n",
       "      <td>30</td>\n",
       "      <td>8</td>\n",
       "      <td>25000</td>\n",
       "    </tr>\n",
       "    <tr>\n",
       "      <th>2</th>\n",
       "      <td>Sunny</td>\n",
       "      <td>29</td>\n",
       "      <td>4</td>\n",
       "      <td>20000</td>\n",
       "    </tr>\n",
       "    <tr>\n",
       "      <th>3</th>\n",
       "      <td>Paul</td>\n",
       "      <td>24</td>\n",
       "      <td>3</td>\n",
       "      <td>20000</td>\n",
       "    </tr>\n",
       "    <tr>\n",
       "      <th>4</th>\n",
       "      <td>Harsha</td>\n",
       "      <td>21</td>\n",
       "      <td>1</td>\n",
       "      <td>15000</td>\n",
       "    </tr>\n",
       "    <tr>\n",
       "      <th>5</th>\n",
       "      <td>Shubham</td>\n",
       "      <td>23</td>\n",
       "      <td>2</td>\n",
       "      <td>18000</td>\n",
       "    </tr>\n",
       "  </tbody>\n",
       "</table>\n",
       "</div>"
      ],
      "text/plain": [
       "        Name  age  Experience  Salary\n",
       "0      Krish   31          10   30000\n",
       "1  Sudhanshu   30           8   25000\n",
       "2      Sunny   29           4   20000\n",
       "3       Paul   24           3   20000\n",
       "4     Harsha   21           1   15000\n",
       "5    Shubham   23           2   18000"
      ]
     },
     "execution_count": 155,
     "metadata": {},
     "output_type": "execute_result"
    }
   ],
   "source": [
    "training.toPandas()"
   ]
  },
  {
   "cell_type": "code",
   "execution_count": 156,
   "id": "4b7243ae",
   "metadata": {},
   "outputs": [
    {
     "name": "stdout",
     "output_type": "stream",
     "text": [
      "root\n",
      " |-- Name: string (nullable = true)\n",
      " |-- age: integer (nullable = true)\n",
      " |-- Experience: integer (nullable = true)\n",
      " |-- Salary: integer (nullable = true)\n",
      "\n"
     ]
    }
   ],
   "source": [
    "training.printSchema()"
   ]
  },
  {
   "cell_type": "code",
   "execution_count": 157,
   "id": "5804374d",
   "metadata": {},
   "outputs": [
    {
     "data": {
      "text/plain": [
       "['Name', 'age', 'Experience', 'Salary']"
      ]
     },
     "execution_count": 157,
     "metadata": {},
     "output_type": "execute_result"
    }
   ],
   "source": [
    "training.columns"
   ]
  },
  {
   "cell_type": "code",
   "execution_count": 158,
   "id": "4218631e",
   "metadata": {},
   "outputs": [
    {
     "data": {
      "text/plain": [
       "Index(['Name', 'age', 'Experience', 'Salary'], dtype='object')"
      ]
     },
     "execution_count": 158,
     "metadata": {},
     "output_type": "execute_result"
    }
   ],
   "source": [
    "training.toPandas().columns"
   ]
  },
  {
   "cell_type": "markdown",
   "id": "9069e89e",
   "metadata": {},
   "source": [
    "#### [Age,Experience]----> new feature--->independent feature"
   ]
  },
  {
   "cell_type": "code",
   "execution_count": 174,
   "id": "8328c9ea",
   "metadata": {},
   "outputs": [
    {
     "name": "stdout",
     "output_type": "stream",
     "text": [
      "+---------+---+----------+------+--------------------+\n",
      "|     Name|age|Experience|Salary|Independent Features|\n",
      "+---------+---+----------+------+--------------------+\n",
      "|    Krish| 31|        10| 30000|         [31.0,10.0]|\n",
      "|Sudhanshu| 30|         8| 25000|          [30.0,8.0]|\n",
      "|    Sunny| 29|         4| 20000|          [29.0,4.0]|\n",
      "|     Paul| 24|         3| 20000|          [24.0,3.0]|\n",
      "|   Harsha| 21|         1| 15000|          [21.0,1.0]|\n",
      "|  Shubham| 23|         2| 18000|          [23.0,2.0]|\n",
      "+---------+---+----------+------+--------------------+\n",
      "\n"
     ]
    }
   ],
   "source": [
    "from pyspark.ml.feature import VectorAssembler\n",
    "\n",
    "featureassembler=VectorAssembler(inputCols=[\"age\",\"Experience\"],outputCol=\"Independent Features\")\n",
    "\n",
    "output=featureassembler.transform(training)\n",
    "\n",
    "output.show()"
   ]
  },
  {
   "cell_type": "markdown",
   "id": "b830612c",
   "metadata": {},
   "source": [
    "### Explanation\n",
    "- VectorAssembler: Combines \"age\" and \"Experience\" into a single vector column called \"Independent Features\".\n",
    "\n",
    "- transform(training): Applies this transformation to the training DataFrame.\n",
    "\n",
    "- output.show(): Displays the DataFrame with the new feature vector column."
   ]
  },
  {
   "cell_type": "code",
   "execution_count": 163,
   "id": "ef1d370d",
   "metadata": {},
   "outputs": [
    {
     "name": "stdout",
     "output_type": "stream",
     "text": [
      "+--------------------+\n",
      "|Independent Features|\n",
      "+--------------------+\n",
      "|         [31.0,10.0]|\n",
      "|          [30.0,8.0]|\n",
      "|          [29.0,4.0]|\n",
      "|          [24.0,3.0]|\n",
      "|          [21.0,1.0]|\n",
      "|          [23.0,2.0]|\n",
      "+--------------------+\n",
      "\n"
     ]
    }
   ],
   "source": [
    "output.select('Independent Features').show()"
   ]
  },
  {
   "cell_type": "code",
   "execution_count": 164,
   "id": "b6445fc9",
   "metadata": {},
   "outputs": [
    {
     "data": {
      "text/plain": [
       "['Name', 'age', 'Experience', 'Salary', 'Independent Features']"
      ]
     },
     "execution_count": 164,
     "metadata": {},
     "output_type": "execute_result"
    }
   ],
   "source": [
    "output.columns"
   ]
  },
  {
   "cell_type": "code",
   "execution_count": 169,
   "id": "4a9f646d",
   "metadata": {},
   "outputs": [],
   "source": [
    "finalized_data=output.select('Independent Features','Salary')"
   ]
  },
  {
   "cell_type": "code",
   "execution_count": 170,
   "id": "d583f860",
   "metadata": {},
   "outputs": [
    {
     "name": "stdout",
     "output_type": "stream",
     "text": [
      "+--------------------+------+\n",
      "|Independent Features|Salary|\n",
      "+--------------------+------+\n",
      "|         [31.0,10.0]| 30000|\n",
      "|          [30.0,8.0]| 25000|\n",
      "|          [29.0,4.0]| 20000|\n",
      "|          [24.0,3.0]| 20000|\n",
      "|          [21.0,1.0]| 15000|\n",
      "|          [23.0,2.0]| 18000|\n",
      "+--------------------+------+\n",
      "\n"
     ]
    }
   ],
   "source": [
    "finalized_data.show()"
   ]
  },
  {
   "cell_type": "code",
   "execution_count": 175,
   "id": "d75d3833",
   "metadata": {},
   "outputs": [],
   "source": [
    "from pyspark.ml.regression import LinearRegression\n",
    "\n",
    "train_data,test_data=finalized_data.randomSplit([0.75,0.25])\n",
    "\n",
    "regressor=LinearRegression(featuresCol='Independent Features', labelCol='Salary')\n",
    "\n",
    "regressor=regressor.fit(train_data)"
   ]
  },
  {
   "cell_type": "markdown",
   "id": "9b694bb3",
   "metadata": {},
   "source": [
    "#### Train-Test Split:\n",
    "\n",
    "- train_data, test_data = finalized_data.randomSplit([0.75, 0.25]):\n",
    "    - Splits the finalized_data DataFrame into 75% training data and 25% testing data.\n",
    "\n",
    "- Linear Regression Model:\n",
    "\n",
    "- regressor = LinearRegression(featuresCol='Independent Features', labelCol='Salary'):\n",
    "\n",
    "        - Initializes a Linear Regression model where the feature column is \"Independent Features\" and the target label is     \"Salary\".\n",
    "\n",
    "- Model Training:\n",
    "\n",
    "- regressor = regressor.fit(train_data): Trains the Linear Regression model using the training data."
   ]
  },
  {
   "cell_type": "code",
   "execution_count": 177,
   "id": "0146e45b",
   "metadata": {},
   "outputs": [
    {
     "data": {
      "text/plain": [
       "DenseVector([-90.5483, 1608.7819])"
      ]
     },
     "execution_count": 177,
     "metadata": {},
     "output_type": "execute_result"
    }
   ],
   "source": [
    "### Coefficients\n",
    "regressor.coefficients"
   ]
  },
  {
   "cell_type": "code",
   "execution_count": 178,
   "id": "44e99e2c",
   "metadata": {},
   "outputs": [
    {
     "data": {
      "text/plain": [
       "16079.136690647425"
      ]
     },
     "execution_count": 178,
     "metadata": {},
     "output_type": "execute_result"
    }
   ],
   "source": [
    "regressor.intercept"
   ]
  },
  {
   "cell_type": "code",
   "execution_count": 182,
   "id": "c4defe5a",
   "metadata": {},
   "outputs": [],
   "source": [
    "### Prediction\n",
    "pred_results=regressor.evaluate(test_data)"
   ]
  },
  {
   "cell_type": "code",
   "execution_count": 183,
   "id": "1ba43956",
   "metadata": {},
   "outputs": [
    {
     "name": "stdout",
     "output_type": "stream",
     "text": [
      "+--------------------+------+-----------------+\n",
      "|Independent Features|Salary|       prediction|\n",
      "+--------------------+------+-----------------+\n",
      "|          [23.0,2.0]| 18000|17214.09079632846|\n",
      "+--------------------+------+-----------------+\n",
      "\n"
     ]
    }
   ],
   "source": [
    "pred_results.predictions.show()"
   ]
  },
  {
   "cell_type": "code",
   "execution_count": 184,
   "id": "145d6644",
   "metadata": {},
   "outputs": [
    {
     "data": {
      "text/plain": [
       "(785.909203671541, 617653.2764156357)"
      ]
     },
     "execution_count": 184,
     "metadata": {},
     "output_type": "execute_result"
    }
   ],
   "source": [
    "pred_results.meanAbsoluteError,pred_results.meanSquaredError"
   ]
  },
  {
   "cell_type": "markdown",
   "id": "00e63da6",
   "metadata": {},
   "source": [
    "### Overview\n",
    "This notebook will show you how to create and query a table or DataFrame that you uploaded to DBFS. DBFS is a Databricks File System that allows you to store data for querying inside of Databricks. This notebook assumes that you have a file already inside of DBFS that you would like to read from.\n",
    "\n",
    "This notebook is written in Python so the default cell type is Python. However, you can use different languages by using the %LANGUAGE syntax. Python, Scala, SQL, and R are all supported."
   ]
  },
  {
   "cell_type": "code",
   "execution_count": 185,
   "id": "7dbae3fa",
   "metadata": {},
   "outputs": [
    {
     "name": "stdout",
     "output_type": "stream",
     "text": [
      "+----------+----+------+------+---+------+----+\n",
      "|total_bill| tip|   sex|smoker|day|  time|size|\n",
      "+----------+----+------+------+---+------+----+\n",
      "|     16.99|1.01|Female|    No|Sun|Dinner|   2|\n",
      "|     10.34|1.66|  Male|    No|Sun|Dinner|   3|\n",
      "|     21.01| 3.5|  Male|    No|Sun|Dinner|   3|\n",
      "|     23.68|3.31|  Male|    No|Sun|Dinner|   2|\n",
      "|     24.59|3.61|Female|    No|Sun|Dinner|   4|\n",
      "|     25.29|4.71|  Male|    No|Sun|Dinner|   4|\n",
      "|      8.77| 2.0|  Male|    No|Sun|Dinner|   2|\n",
      "|     26.88|3.12|  Male|    No|Sun|Dinner|   4|\n",
      "|     15.04|1.96|  Male|    No|Sun|Dinner|   2|\n",
      "|     14.78|3.23|  Male|    No|Sun|Dinner|   2|\n",
      "|     10.27|1.71|  Male|    No|Sun|Dinner|   2|\n",
      "|     35.26| 5.0|Female|    No|Sun|Dinner|   4|\n",
      "|     15.42|1.57|  Male|    No|Sun|Dinner|   2|\n",
      "|     18.43| 3.0|  Male|    No|Sun|Dinner|   4|\n",
      "|     14.83|3.02|Female|    No|Sun|Dinner|   2|\n",
      "|     21.58|3.92|  Male|    No|Sun|Dinner|   2|\n",
      "|     10.33|1.67|Female|    No|Sun|Dinner|   3|\n",
      "|     16.29|3.71|  Male|    No|Sun|Dinner|   3|\n",
      "|     16.97| 3.5|Female|    No|Sun|Dinner|   3|\n",
      "|     20.65|3.35|  Male|    No|Sat|Dinner|   3|\n",
      "+----------+----+------+------+---+------+----+\n",
      "only showing top 20 rows\n",
      "\n"
     ]
    }
   ],
   "source": [
    "file_location = \"tips.csv\"\n",
    "file_type = \"csv\"\n",
    "\n",
    "# The applied options are for CSV files. For other file types, these will be ignored.\n",
    "df =spark.read.csv(file_location,header=True,inferSchema=True)\n",
    "df.show()"
   ]
  },
  {
   "cell_type": "code",
   "execution_count": 186,
   "id": "5a93cd5b",
   "metadata": {},
   "outputs": [
    {
     "data": {
      "text/html": [
       "<div>\n",
       "<style scoped>\n",
       "    .dataframe tbody tr th:only-of-type {\n",
       "        vertical-align: middle;\n",
       "    }\n",
       "\n",
       "    .dataframe tbody tr th {\n",
       "        vertical-align: top;\n",
       "    }\n",
       "\n",
       "    .dataframe thead th {\n",
       "        text-align: right;\n",
       "    }\n",
       "</style>\n",
       "<table border=\"1\" class=\"dataframe\">\n",
       "  <thead>\n",
       "    <tr style=\"text-align: right;\">\n",
       "      <th></th>\n",
       "      <th>total_bill</th>\n",
       "      <th>tip</th>\n",
       "      <th>sex</th>\n",
       "      <th>smoker</th>\n",
       "      <th>day</th>\n",
       "      <th>time</th>\n",
       "      <th>size</th>\n",
       "    </tr>\n",
       "  </thead>\n",
       "  <tbody>\n",
       "    <tr>\n",
       "      <th>0</th>\n",
       "      <td>16.99</td>\n",
       "      <td>1.01</td>\n",
       "      <td>Female</td>\n",
       "      <td>No</td>\n",
       "      <td>Sun</td>\n",
       "      <td>Dinner</td>\n",
       "      <td>2</td>\n",
       "    </tr>\n",
       "    <tr>\n",
       "      <th>1</th>\n",
       "      <td>10.34</td>\n",
       "      <td>1.66</td>\n",
       "      <td>Male</td>\n",
       "      <td>No</td>\n",
       "      <td>Sun</td>\n",
       "      <td>Dinner</td>\n",
       "      <td>3</td>\n",
       "    </tr>\n",
       "    <tr>\n",
       "      <th>2</th>\n",
       "      <td>21.01</td>\n",
       "      <td>3.50</td>\n",
       "      <td>Male</td>\n",
       "      <td>No</td>\n",
       "      <td>Sun</td>\n",
       "      <td>Dinner</td>\n",
       "      <td>3</td>\n",
       "    </tr>\n",
       "    <tr>\n",
       "      <th>3</th>\n",
       "      <td>23.68</td>\n",
       "      <td>3.31</td>\n",
       "      <td>Male</td>\n",
       "      <td>No</td>\n",
       "      <td>Sun</td>\n",
       "      <td>Dinner</td>\n",
       "      <td>2</td>\n",
       "    </tr>\n",
       "    <tr>\n",
       "      <th>4</th>\n",
       "      <td>24.59</td>\n",
       "      <td>3.61</td>\n",
       "      <td>Female</td>\n",
       "      <td>No</td>\n",
       "      <td>Sun</td>\n",
       "      <td>Dinner</td>\n",
       "      <td>4</td>\n",
       "    </tr>\n",
       "    <tr>\n",
       "      <th>...</th>\n",
       "      <td>...</td>\n",
       "      <td>...</td>\n",
       "      <td>...</td>\n",
       "      <td>...</td>\n",
       "      <td>...</td>\n",
       "      <td>...</td>\n",
       "      <td>...</td>\n",
       "    </tr>\n",
       "    <tr>\n",
       "      <th>239</th>\n",
       "      <td>29.03</td>\n",
       "      <td>5.92</td>\n",
       "      <td>Male</td>\n",
       "      <td>No</td>\n",
       "      <td>Sat</td>\n",
       "      <td>Dinner</td>\n",
       "      <td>3</td>\n",
       "    </tr>\n",
       "    <tr>\n",
       "      <th>240</th>\n",
       "      <td>27.18</td>\n",
       "      <td>2.00</td>\n",
       "      <td>Female</td>\n",
       "      <td>Yes</td>\n",
       "      <td>Sat</td>\n",
       "      <td>Dinner</td>\n",
       "      <td>2</td>\n",
       "    </tr>\n",
       "    <tr>\n",
       "      <th>241</th>\n",
       "      <td>22.67</td>\n",
       "      <td>2.00</td>\n",
       "      <td>Male</td>\n",
       "      <td>Yes</td>\n",
       "      <td>Sat</td>\n",
       "      <td>Dinner</td>\n",
       "      <td>2</td>\n",
       "    </tr>\n",
       "    <tr>\n",
       "      <th>242</th>\n",
       "      <td>17.82</td>\n",
       "      <td>1.75</td>\n",
       "      <td>Male</td>\n",
       "      <td>No</td>\n",
       "      <td>Sat</td>\n",
       "      <td>Dinner</td>\n",
       "      <td>2</td>\n",
       "    </tr>\n",
       "    <tr>\n",
       "      <th>243</th>\n",
       "      <td>18.78</td>\n",
       "      <td>3.00</td>\n",
       "      <td>Female</td>\n",
       "      <td>No</td>\n",
       "      <td>Thur</td>\n",
       "      <td>Dinner</td>\n",
       "      <td>2</td>\n",
       "    </tr>\n",
       "  </tbody>\n",
       "</table>\n",
       "<p>244 rows × 7 columns</p>\n",
       "</div>"
      ],
      "text/plain": [
       "     total_bill   tip     sex smoker   day    time  size\n",
       "0         16.99  1.01  Female     No   Sun  Dinner     2\n",
       "1         10.34  1.66    Male     No   Sun  Dinner     3\n",
       "2         21.01  3.50    Male     No   Sun  Dinner     3\n",
       "3         23.68  3.31    Male     No   Sun  Dinner     2\n",
       "4         24.59  3.61  Female     No   Sun  Dinner     4\n",
       "..          ...   ...     ...    ...   ...     ...   ...\n",
       "239       29.03  5.92    Male     No   Sat  Dinner     3\n",
       "240       27.18  2.00  Female    Yes   Sat  Dinner     2\n",
       "241       22.67  2.00    Male    Yes   Sat  Dinner     2\n",
       "242       17.82  1.75    Male     No   Sat  Dinner     2\n",
       "243       18.78  3.00  Female     No  Thur  Dinner     2\n",
       "\n",
       "[244 rows x 7 columns]"
      ]
     },
     "execution_count": 186,
     "metadata": {},
     "output_type": "execute_result"
    }
   ],
   "source": [
    "df.toPandas()"
   ]
  },
  {
   "cell_type": "code",
   "execution_count": 187,
   "id": "d0ae163c",
   "metadata": {},
   "outputs": [
    {
     "name": "stdout",
     "output_type": "stream",
     "text": [
      "root\n",
      " |-- total_bill: double (nullable = true)\n",
      " |-- tip: double (nullable = true)\n",
      " |-- sex: string (nullable = true)\n",
      " |-- smoker: string (nullable = true)\n",
      " |-- day: string (nullable = true)\n",
      " |-- time: string (nullable = true)\n",
      " |-- size: integer (nullable = true)\n",
      "\n"
     ]
    }
   ],
   "source": [
    "df.printSchema()"
   ]
  },
  {
   "cell_type": "code",
   "execution_count": 188,
   "id": "9ea9d5d8",
   "metadata": {},
   "outputs": [
    {
     "data": {
      "text/plain": [
       "['total_bill', 'tip', 'sex', 'smoker', 'day', 'time', 'size']"
      ]
     },
     "execution_count": 188,
     "metadata": {},
     "output_type": "execute_result"
    }
   ],
   "source": [
    "df.columns"
   ]
  },
  {
   "cell_type": "code",
   "execution_count": 189,
   "id": "7e8265ce",
   "metadata": {},
   "outputs": [],
   "source": [
    "### Handling Categorical Features\n",
    "from pyspark.ml.feature import StringIndexer"
   ]
  },
  {
   "cell_type": "code",
   "execution_count": 190,
   "id": "ffd19991",
   "metadata": {},
   "outputs": [
    {
     "name": "stdout",
     "output_type": "stream",
     "text": [
      "+----------+----+------+------+---+------+----+\n",
      "|total_bill| tip|   sex|smoker|day|  time|size|\n",
      "+----------+----+------+------+---+------+----+\n",
      "|     16.99|1.01|Female|    No|Sun|Dinner|   2|\n",
      "|     10.34|1.66|  Male|    No|Sun|Dinner|   3|\n",
      "|     21.01| 3.5|  Male|    No|Sun|Dinner|   3|\n",
      "|     23.68|3.31|  Male|    No|Sun|Dinner|   2|\n",
      "|     24.59|3.61|Female|    No|Sun|Dinner|   4|\n",
      "|     25.29|4.71|  Male|    No|Sun|Dinner|   4|\n",
      "|      8.77| 2.0|  Male|    No|Sun|Dinner|   2|\n",
      "|     26.88|3.12|  Male|    No|Sun|Dinner|   4|\n",
      "|     15.04|1.96|  Male|    No|Sun|Dinner|   2|\n",
      "|     14.78|3.23|  Male|    No|Sun|Dinner|   2|\n",
      "|     10.27|1.71|  Male|    No|Sun|Dinner|   2|\n",
      "|     35.26| 5.0|Female|    No|Sun|Dinner|   4|\n",
      "|     15.42|1.57|  Male|    No|Sun|Dinner|   2|\n",
      "|     18.43| 3.0|  Male|    No|Sun|Dinner|   4|\n",
      "|     14.83|3.02|Female|    No|Sun|Dinner|   2|\n",
      "|     21.58|3.92|  Male|    No|Sun|Dinner|   2|\n",
      "|     10.33|1.67|Female|    No|Sun|Dinner|   3|\n",
      "|     16.29|3.71|  Male|    No|Sun|Dinner|   3|\n",
      "|     16.97| 3.5|Female|    No|Sun|Dinner|   3|\n",
      "|     20.65|3.35|  Male|    No|Sat|Dinner|   3|\n",
      "+----------+----+------+------+---+------+----+\n",
      "only showing top 20 rows\n",
      "\n"
     ]
    }
   ],
   "source": [
    "df.show()"
   ]
  },
  {
   "cell_type": "code",
   "execution_count": 191,
   "id": "304d1ab2",
   "metadata": {},
   "outputs": [
    {
     "name": "stdout",
     "output_type": "stream",
     "text": [
      "+----------+----+------+------+---+------+----+-----------+\n",
      "|total_bill| tip|   sex|smoker|day|  time|size|sex_indexed|\n",
      "+----------+----+------+------+---+------+----+-----------+\n",
      "|     16.99|1.01|Female|    No|Sun|Dinner|   2|        1.0|\n",
      "|     10.34|1.66|  Male|    No|Sun|Dinner|   3|        0.0|\n",
      "|     21.01| 3.5|  Male|    No|Sun|Dinner|   3|        0.0|\n",
      "|     23.68|3.31|  Male|    No|Sun|Dinner|   2|        0.0|\n",
      "|     24.59|3.61|Female|    No|Sun|Dinner|   4|        1.0|\n",
      "|     25.29|4.71|  Male|    No|Sun|Dinner|   4|        0.0|\n",
      "|      8.77| 2.0|  Male|    No|Sun|Dinner|   2|        0.0|\n",
      "|     26.88|3.12|  Male|    No|Sun|Dinner|   4|        0.0|\n",
      "|     15.04|1.96|  Male|    No|Sun|Dinner|   2|        0.0|\n",
      "|     14.78|3.23|  Male|    No|Sun|Dinner|   2|        0.0|\n",
      "|     10.27|1.71|  Male|    No|Sun|Dinner|   2|        0.0|\n",
      "|     35.26| 5.0|Female|    No|Sun|Dinner|   4|        1.0|\n",
      "|     15.42|1.57|  Male|    No|Sun|Dinner|   2|        0.0|\n",
      "|     18.43| 3.0|  Male|    No|Sun|Dinner|   4|        0.0|\n",
      "|     14.83|3.02|Female|    No|Sun|Dinner|   2|        1.0|\n",
      "|     21.58|3.92|  Male|    No|Sun|Dinner|   2|        0.0|\n",
      "|     10.33|1.67|Female|    No|Sun|Dinner|   3|        1.0|\n",
      "|     16.29|3.71|  Male|    No|Sun|Dinner|   3|        0.0|\n",
      "|     16.97| 3.5|Female|    No|Sun|Dinner|   3|        1.0|\n",
      "|     20.65|3.35|  Male|    No|Sat|Dinner|   3|        0.0|\n",
      "+----------+----+------+------+---+------+----+-----------+\n",
      "only showing top 20 rows\n",
      "\n"
     ]
    }
   ],
   "source": [
    "indexer=StringIndexer(inputCol=\"sex\",outputCol=\"sex_indexed\")\n",
    "df_r=indexer.fit(df).transform(df)\n",
    "df_r.show()"
   ]
  },
  {
   "cell_type": "code",
   "execution_count": 192,
   "id": "b0486453",
   "metadata": {},
   "outputs": [
    {
     "name": "stdout",
     "output_type": "stream",
     "text": [
      "+----------+----+------+------+---+------+----+-----------+--------------+-----------+----------+\n",
      "|total_bill| tip|   sex|smoker|day|  time|size|sex_indexed|smoker_indexed|day_indexed|time_index|\n",
      "+----------+----+------+------+---+------+----+-----------+--------------+-----------+----------+\n",
      "|     16.99|1.01|Female|    No|Sun|Dinner|   2|        1.0|           0.0|        1.0|       0.0|\n",
      "|     10.34|1.66|  Male|    No|Sun|Dinner|   3|        0.0|           0.0|        1.0|       0.0|\n",
      "|     21.01| 3.5|  Male|    No|Sun|Dinner|   3|        0.0|           0.0|        1.0|       0.0|\n",
      "|     23.68|3.31|  Male|    No|Sun|Dinner|   2|        0.0|           0.0|        1.0|       0.0|\n",
      "|     24.59|3.61|Female|    No|Sun|Dinner|   4|        1.0|           0.0|        1.0|       0.0|\n",
      "|     25.29|4.71|  Male|    No|Sun|Dinner|   4|        0.0|           0.0|        1.0|       0.0|\n",
      "|      8.77| 2.0|  Male|    No|Sun|Dinner|   2|        0.0|           0.0|        1.0|       0.0|\n",
      "|     26.88|3.12|  Male|    No|Sun|Dinner|   4|        0.0|           0.0|        1.0|       0.0|\n",
      "|     15.04|1.96|  Male|    No|Sun|Dinner|   2|        0.0|           0.0|        1.0|       0.0|\n",
      "|     14.78|3.23|  Male|    No|Sun|Dinner|   2|        0.0|           0.0|        1.0|       0.0|\n",
      "|     10.27|1.71|  Male|    No|Sun|Dinner|   2|        0.0|           0.0|        1.0|       0.0|\n",
      "|     35.26| 5.0|Female|    No|Sun|Dinner|   4|        1.0|           0.0|        1.0|       0.0|\n",
      "|     15.42|1.57|  Male|    No|Sun|Dinner|   2|        0.0|           0.0|        1.0|       0.0|\n",
      "|     18.43| 3.0|  Male|    No|Sun|Dinner|   4|        0.0|           0.0|        1.0|       0.0|\n",
      "|     14.83|3.02|Female|    No|Sun|Dinner|   2|        1.0|           0.0|        1.0|       0.0|\n",
      "|     21.58|3.92|  Male|    No|Sun|Dinner|   2|        0.0|           0.0|        1.0|       0.0|\n",
      "|     10.33|1.67|Female|    No|Sun|Dinner|   3|        1.0|           0.0|        1.0|       0.0|\n",
      "|     16.29|3.71|  Male|    No|Sun|Dinner|   3|        0.0|           0.0|        1.0|       0.0|\n",
      "|     16.97| 3.5|Female|    No|Sun|Dinner|   3|        1.0|           0.0|        1.0|       0.0|\n",
      "|     20.65|3.35|  Male|    No|Sat|Dinner|   3|        0.0|           0.0|        0.0|       0.0|\n",
      "+----------+----+------+------+---+------+----+-----------+--------------+-----------+----------+\n",
      "only showing top 20 rows\n",
      "\n"
     ]
    }
   ],
   "source": [
    "indexer=StringIndexer(inputCols=[\"smoker\",\"day\",\"time\"],outputCols=[\"smoker_indexed\",\"day_indexed\",\n",
    "                                                                  \"time_index\"])\n",
    "df_r=indexer.fit(df_r).transform(df_r)\n",
    "df_r.show()"
   ]
  },
  {
   "cell_type": "code",
   "execution_count": 195,
   "id": "733ddc4e",
   "metadata": {},
   "outputs": [
    {
     "name": "stdout",
     "output_type": "stream",
     "text": [
      "+----------+----+------+------+---+------+----+--------------+-----------+----------+-----------+\n",
      "|total_bill| tip|   sex|smoker|day|  time|size|smoker_indexed|day_indexed|time_index|sex_indexed|\n",
      "+----------+----+------+------+---+------+----+--------------+-----------+----------+-----------+\n",
      "|     16.99|1.01|Female|    No|Sun|Dinner|   2|           0.0|        1.0|       0.0|        1.0|\n",
      "|     10.34|1.66|  Male|    No|Sun|Dinner|   3|           0.0|        1.0|       0.0|        0.0|\n",
      "|     21.01| 3.5|  Male|    No|Sun|Dinner|   3|           0.0|        1.0|       0.0|        0.0|\n",
      "|     23.68|3.31|  Male|    No|Sun|Dinner|   2|           0.0|        1.0|       0.0|        0.0|\n",
      "|     24.59|3.61|Female|    No|Sun|Dinner|   4|           0.0|        1.0|       0.0|        1.0|\n",
      "|     25.29|4.71|  Male|    No|Sun|Dinner|   4|           0.0|        1.0|       0.0|        0.0|\n",
      "|      8.77| 2.0|  Male|    No|Sun|Dinner|   2|           0.0|        1.0|       0.0|        0.0|\n",
      "|     26.88|3.12|  Male|    No|Sun|Dinner|   4|           0.0|        1.0|       0.0|        0.0|\n",
      "|     15.04|1.96|  Male|    No|Sun|Dinner|   2|           0.0|        1.0|       0.0|        0.0|\n",
      "|     14.78|3.23|  Male|    No|Sun|Dinner|   2|           0.0|        1.0|       0.0|        0.0|\n",
      "|     10.27|1.71|  Male|    No|Sun|Dinner|   2|           0.0|        1.0|       0.0|        0.0|\n",
      "|     35.26| 5.0|Female|    No|Sun|Dinner|   4|           0.0|        1.0|       0.0|        1.0|\n",
      "|     15.42|1.57|  Male|    No|Sun|Dinner|   2|           0.0|        1.0|       0.0|        0.0|\n",
      "|     18.43| 3.0|  Male|    No|Sun|Dinner|   4|           0.0|        1.0|       0.0|        0.0|\n",
      "|     14.83|3.02|Female|    No|Sun|Dinner|   2|           0.0|        1.0|       0.0|        1.0|\n",
      "|     21.58|3.92|  Male|    No|Sun|Dinner|   2|           0.0|        1.0|       0.0|        0.0|\n",
      "|     10.33|1.67|Female|    No|Sun|Dinner|   3|           0.0|        1.0|       0.0|        1.0|\n",
      "|     16.29|3.71|  Male|    No|Sun|Dinner|   3|           0.0|        1.0|       0.0|        0.0|\n",
      "|     16.97| 3.5|Female|    No|Sun|Dinner|   3|           0.0|        1.0|       0.0|        1.0|\n",
      "|     20.65|3.35|  Male|    No|Sat|Dinner|   3|           0.0|        0.0|       0.0|        0.0|\n",
      "+----------+----+------+------+---+------+----+--------------+-----------+----------+-----------+\n",
      "only showing top 20 rows\n",
      "\n"
     ]
    }
   ],
   "source": [
    "indexer=StringIndexer(inputCols=[\"smoker\",\"day\",\"time\",\"sex\"],outputCols=[\"smoker_indexed\",\"day_indexed\",\n",
    "                                                                  \"time_index\",\"sex_indexed\"])\n",
    "df_r=indexer.fit(df).transform(df)\n",
    "\n",
    "df_r.show()"
   ]
  },
  {
   "cell_type": "code",
   "execution_count": 196,
   "id": "57307633",
   "metadata": {},
   "outputs": [
    {
     "data": {
      "text/plain": [
       "['total_bill',\n",
       " 'tip',\n",
       " 'sex',\n",
       " 'smoker',\n",
       " 'day',\n",
       " 'time',\n",
       " 'size',\n",
       " 'smoker_indexed',\n",
       " 'day_indexed',\n",
       " 'time_index',\n",
       " 'sex_indexed']"
      ]
     },
     "execution_count": 196,
     "metadata": {},
     "output_type": "execute_result"
    }
   ],
   "source": [
    "df_r.columns"
   ]
  },
  {
   "cell_type": "code",
   "execution_count": 197,
   "id": "4d4bae8e",
   "metadata": {},
   "outputs": [],
   "source": [
    "from pyspark.ml.feature import VectorAssembler\n",
    "\n",
    "featureassembler=VectorAssembler(inputCols=['tip','size','sex_indexed','smoker_indexed','day_indexed',\n",
    "                          'time_index'],outputCol=\"Independent Features\")\n",
    "\n",
    "output=featureassembler.transform(df_r)"
   ]
  },
  {
   "cell_type": "code",
   "execution_count": 198,
   "id": "bd5016cb",
   "metadata": {},
   "outputs": [
    {
     "name": "stdout",
     "output_type": "stream",
     "text": [
      "+--------------------+\n",
      "|Independent Features|\n",
      "+--------------------+\n",
      "|[1.01,2.0,1.0,0.0...|\n",
      "|[1.66,3.0,0.0,0.0...|\n",
      "|[3.5,3.0,0.0,0.0,...|\n",
      "|[3.31,2.0,0.0,0.0...|\n",
      "|[3.61,4.0,1.0,0.0...|\n",
      "|[4.71,4.0,0.0,0.0...|\n",
      "|[2.0,2.0,0.0,0.0,...|\n",
      "|[3.12,4.0,0.0,0.0...|\n",
      "|[1.96,2.0,0.0,0.0...|\n",
      "|[3.23,2.0,0.0,0.0...|\n",
      "|[1.71,2.0,0.0,0.0...|\n",
      "|[5.0,4.0,1.0,0.0,...|\n",
      "|[1.57,2.0,0.0,0.0...|\n",
      "|[3.0,4.0,0.0,0.0,...|\n",
      "|[3.02,2.0,1.0,0.0...|\n",
      "|[3.92,2.0,0.0,0.0...|\n",
      "|[1.67,3.0,1.0,0.0...|\n",
      "|[3.71,3.0,0.0,0.0...|\n",
      "|[3.5,3.0,1.0,0.0,...|\n",
      "|(6,[0,1],[3.35,3.0])|\n",
      "+--------------------+\n",
      "only showing top 20 rows\n",
      "\n"
     ]
    }
   ],
   "source": [
    "output.select('Independent Features').show()"
   ]
  },
  {
   "cell_type": "code",
   "execution_count": 199,
   "id": "df672a56",
   "metadata": {},
   "outputs": [
    {
     "name": "stdout",
     "output_type": "stream",
     "text": [
      "+----------+----+------+------+---+------+----+--------------+-----------+----------+-----------+--------------------+\n",
      "|total_bill| tip|   sex|smoker|day|  time|size|smoker_indexed|day_indexed|time_index|sex_indexed|Independent Features|\n",
      "+----------+----+------+------+---+------+----+--------------+-----------+----------+-----------+--------------------+\n",
      "|     16.99|1.01|Female|    No|Sun|Dinner|   2|           0.0|        1.0|       0.0|        1.0|[1.01,2.0,1.0,0.0...|\n",
      "|     10.34|1.66|  Male|    No|Sun|Dinner|   3|           0.0|        1.0|       0.0|        0.0|[1.66,3.0,0.0,0.0...|\n",
      "|     21.01| 3.5|  Male|    No|Sun|Dinner|   3|           0.0|        1.0|       0.0|        0.0|[3.5,3.0,0.0,0.0,...|\n",
      "|     23.68|3.31|  Male|    No|Sun|Dinner|   2|           0.0|        1.0|       0.0|        0.0|[3.31,2.0,0.0,0.0...|\n",
      "|     24.59|3.61|Female|    No|Sun|Dinner|   4|           0.0|        1.0|       0.0|        1.0|[3.61,4.0,1.0,0.0...|\n",
      "|     25.29|4.71|  Male|    No|Sun|Dinner|   4|           0.0|        1.0|       0.0|        0.0|[4.71,4.0,0.0,0.0...|\n",
      "|      8.77| 2.0|  Male|    No|Sun|Dinner|   2|           0.0|        1.0|       0.0|        0.0|[2.0,2.0,0.0,0.0,...|\n",
      "|     26.88|3.12|  Male|    No|Sun|Dinner|   4|           0.0|        1.0|       0.0|        0.0|[3.12,4.0,0.0,0.0...|\n",
      "|     15.04|1.96|  Male|    No|Sun|Dinner|   2|           0.0|        1.0|       0.0|        0.0|[1.96,2.0,0.0,0.0...|\n",
      "|     14.78|3.23|  Male|    No|Sun|Dinner|   2|           0.0|        1.0|       0.0|        0.0|[3.23,2.0,0.0,0.0...|\n",
      "|     10.27|1.71|  Male|    No|Sun|Dinner|   2|           0.0|        1.0|       0.0|        0.0|[1.71,2.0,0.0,0.0...|\n",
      "|     35.26| 5.0|Female|    No|Sun|Dinner|   4|           0.0|        1.0|       0.0|        1.0|[5.0,4.0,1.0,0.0,...|\n",
      "|     15.42|1.57|  Male|    No|Sun|Dinner|   2|           0.0|        1.0|       0.0|        0.0|[1.57,2.0,0.0,0.0...|\n",
      "|     18.43| 3.0|  Male|    No|Sun|Dinner|   4|           0.0|        1.0|       0.0|        0.0|[3.0,4.0,0.0,0.0,...|\n",
      "|     14.83|3.02|Female|    No|Sun|Dinner|   2|           0.0|        1.0|       0.0|        1.0|[3.02,2.0,1.0,0.0...|\n",
      "|     21.58|3.92|  Male|    No|Sun|Dinner|   2|           0.0|        1.0|       0.0|        0.0|[3.92,2.0,0.0,0.0...|\n",
      "|     10.33|1.67|Female|    No|Sun|Dinner|   3|           0.0|        1.0|       0.0|        1.0|[1.67,3.0,1.0,0.0...|\n",
      "|     16.29|3.71|  Male|    No|Sun|Dinner|   3|           0.0|        1.0|       0.0|        0.0|[3.71,3.0,0.0,0.0...|\n",
      "|     16.97| 3.5|Female|    No|Sun|Dinner|   3|           0.0|        1.0|       0.0|        1.0|[3.5,3.0,1.0,0.0,...|\n",
      "|     20.65|3.35|  Male|    No|Sat|Dinner|   3|           0.0|        0.0|       0.0|        0.0|(6,[0,1],[3.35,3.0])|\n",
      "+----------+----+------+------+---+------+----+--------------+-----------+----------+-----------+--------------------+\n",
      "only showing top 20 rows\n",
      "\n"
     ]
    }
   ],
   "source": [
    "output.show()"
   ]
  },
  {
   "cell_type": "code",
   "execution_count": 200,
   "id": "35bb0cd9",
   "metadata": {},
   "outputs": [],
   "source": [
    "finalized_data=output.select(\"Independent Features\",\"total_bill\")"
   ]
  },
  {
   "cell_type": "code",
   "execution_count": 201,
   "id": "a09b19f0",
   "metadata": {},
   "outputs": [
    {
     "name": "stdout",
     "output_type": "stream",
     "text": [
      "+--------------------+----------+\n",
      "|Independent Features|total_bill|\n",
      "+--------------------+----------+\n",
      "|[1.01,2.0,1.0,0.0...|     16.99|\n",
      "|[1.66,3.0,0.0,0.0...|     10.34|\n",
      "|[3.5,3.0,0.0,0.0,...|     21.01|\n",
      "|[3.31,2.0,0.0,0.0...|     23.68|\n",
      "|[3.61,4.0,1.0,0.0...|     24.59|\n",
      "|[4.71,4.0,0.0,0.0...|     25.29|\n",
      "|[2.0,2.0,0.0,0.0,...|      8.77|\n",
      "|[3.12,4.0,0.0,0.0...|     26.88|\n",
      "|[1.96,2.0,0.0,0.0...|     15.04|\n",
      "|[3.23,2.0,0.0,0.0...|     14.78|\n",
      "|[1.71,2.0,0.0,0.0...|     10.27|\n",
      "|[5.0,4.0,1.0,0.0,...|     35.26|\n",
      "|[1.57,2.0,0.0,0.0...|     15.42|\n",
      "|[3.0,4.0,0.0,0.0,...|     18.43|\n",
      "|[3.02,2.0,1.0,0.0...|     14.83|\n",
      "|[3.92,2.0,0.0,0.0...|     21.58|\n",
      "|[1.67,3.0,1.0,0.0...|     10.33|\n",
      "|[3.71,3.0,0.0,0.0...|     16.29|\n",
      "|[3.5,3.0,1.0,0.0,...|     16.97|\n",
      "|(6,[0,1],[3.35,3.0])|     20.65|\n",
      "+--------------------+----------+\n",
      "only showing top 20 rows\n",
      "\n"
     ]
    }
   ],
   "source": [
    "finalized_data.show()"
   ]
  },
  {
   "cell_type": "code",
   "execution_count": 202,
   "id": "f0c093d0",
   "metadata": {},
   "outputs": [],
   "source": [
    "from pyspark.ml.regression import LinearRegression\n",
    "train_data,test_data=finalized_data.randomSplit([0.75,0.25])\n",
    "regressor=LinearRegression(featuresCol='Independent Features', labelCol='total_bill')\n",
    "regressor=regressor.fit(train_data)"
   ]
  },
  {
   "cell_type": "code",
   "execution_count": 203,
   "id": "be25ad03",
   "metadata": {},
   "outputs": [
    {
     "data": {
      "text/plain": [
       "DenseVector([3.2622, 3.064, -1.0833, 1.9405, -0.5259, -0.6619])"
      ]
     },
     "execution_count": 203,
     "metadata": {},
     "output_type": "execute_result"
    }
   ],
   "source": [
    "regressor.coefficients"
   ]
  },
  {
   "cell_type": "code",
   "execution_count": 204,
   "id": "e8cf4972",
   "metadata": {},
   "outputs": [
    {
     "data": {
      "text/plain": [
       "2.4660745408923277"
      ]
     },
     "execution_count": 204,
     "metadata": {},
     "output_type": "execute_result"
    }
   ],
   "source": [
    "regressor.intercept"
   ]
  },
  {
   "cell_type": "code",
   "execution_count": 205,
   "id": "7419c053",
   "metadata": {},
   "outputs": [],
   "source": [
    "\n",
    "### Predictions\n",
    "pred_results=regressor.evaluate(test_data)"
   ]
  },
  {
   "cell_type": "code",
   "execution_count": 207,
   "id": "284d1815",
   "metadata": {},
   "outputs": [
    {
     "name": "stdout",
     "output_type": "stream",
     "text": [
      "+--------------------+----------+------------------+\n",
      "|Independent Features|total_bill|        prediction|\n",
      "+--------------------+----------+------------------+\n",
      "|(6,[0,1],[1.45,2.0])|      9.55|13.324271388982917|\n",
      "|(6,[0,1],[1.97,2.0])|     12.02|15.020624264243443|\n",
      "| (6,[0,1],[2.0,2.0])|     12.69|15.118490776277703|\n",
      "|(6,[0,1],[2.01,2.0])|     20.23| 15.15111294695579|\n",
      "|(6,[0,1],[2.24,3.0])|     16.04| 18.96541392243578|\n",
      "| (6,[0,1],[3.0,2.0])|      14.0| 18.38070784408641|\n",
      "| (6,[0,1],[3.6,3.0])|     24.06|23.402029134655614|\n",
      "|(6,[0,1],[4.08,2.0])|     17.92| 21.90390227731981|\n",
      "| (6,[0,1],[4.3,2.0])|      21.7|22.621590032237723|\n",
      "|(6,[0,1],[5.92,3.0])|     29.03|30.970372731971807|\n",
      "| (6,[0,1],[9.0,4.0])|     48.33|  44.0819923507066|\n",
      "|[1.0,1.0,1.0,1.0,...|      3.07| 9.649512880249205|\n",
      "|[1.01,2.0,1.0,0.0...|     16.99|10.279775940869396|\n",
      "|[1.17,2.0,0.0,1.0...|     32.83|  14.3513498552698|\n",
      "|[1.25,2.0,1.0,0.0...|      8.51|  9.87499077042205|\n",
      "|[1.44,2.0,0.0,0.0...|      7.56|11.578081036914837|\n",
      "|[1.44,2.0,0.0,1.0...|      7.74| 15.23214846357815|\n",
      "|[1.48,2.0,0.0,0.0...|      8.52|11.708569719627185|\n",
      "|[1.5,2.0,1.0,0.0,...|     11.17|10.690545037374227|\n",
      "|[1.61,2.0,1.0,1.0...|     10.59|14.703456341496498|\n",
      "+--------------------+----------+------------------+\n",
      "only showing top 20 rows\n",
      "\n"
     ]
    }
   ],
   "source": [
    "pred_results.predictions.show()"
   ]
  },
  {
   "cell_type": "code",
   "execution_count": 208,
   "id": "a439093f",
   "metadata": {},
   "outputs": [
    {
     "data": {
      "text/plain": [
       "(0.5873207282167145, 4.21198106123386, 35.01938804673168)"
      ]
     },
     "execution_count": 208,
     "metadata": {},
     "output_type": "execute_result"
    }
   ],
   "source": [
    "### PErformance Metrics\n",
    "pred_results.r2,pred_results.meanAbsoluteError,pred_results.meanSquaredError"
   ]
  }
 ],
 "metadata": {
  "kernelspec": {
   "display_name": "Python 3 (ipykernel)",
   "language": "python",
   "name": "python3"
  },
  "language_info": {
   "codemirror_mode": {
    "name": "ipython",
    "version": 3
   },
   "file_extension": ".py",
   "mimetype": "text/x-python",
   "name": "python",
   "nbconvert_exporter": "python",
   "pygments_lexer": "ipython3",
   "version": "3.11.4"
  }
 },
 "nbformat": 4,
 "nbformat_minor": 5
}
