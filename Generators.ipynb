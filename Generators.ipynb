{
  "metadata": {
    "kernelspec": {
      "name": "python",
      "display_name": "Python (Pyodide)",
      "language": "python"
    },
    "language_info": {
      "codemirror_mode": {
        "name": "python",
        "version": 3
      },
      "file_extension": ".py",
      "mimetype": "text/x-python",
      "name": "python",
      "nbconvert_exporter": "python",
      "pygments_lexer": "ipython3",
      "version": "3.8"
    }
  },
  "nbformat_minor": 4,
  "nbformat": 4,
  "cells": [
    {
      "cell_type": "code",
      "source": "# To start with generators we need to know what is iterators\n\n# iterators - talking about iterators , for  loop will come to our mind\n\n\n# instead of normal for loops we also have iterators in python\n\n# Understanding the difference between using a normal for loop and iterators in Python\n\n# let's see how we iterate through the list \n\n# nums be a list consists of 5 values\n# Normal for Loop\n# In Python, you can iterate over a list using a for loop as follows:\n\nnums=[1,2,3,4,5]\n\nfor i in nums:\n\tprint(i,end=\" \")\n\nprint()\n\n\n# This is the most common and straightforward way to iterate over a list. Python handles the creation of the iterator and the iteration protocol (i.e., calling __iter__() and __next__()) behind the scenes.\n\n# Iterators\n\n# An iterator is an object that implements the iterator protocol, which consists of the methods __iter__() and __next__(). You can explicitly create an iterator from an iterable (like a list) using the iter() function and then manually fetch the next value using the next() function or the __next__() method.\n\n\n\nit=iter(nums)\n\nfor i in range(5):\n\tprint(it.__next__(),end=\" \")\n\nprint()\n\nit=iter(nums)\n\nfor i in range(5):\n\tprint(next(it),end=\" \")\n\nprint()\n\n\n# for loop v/s iterators\n\n# For Loop: More concise and easier to read. Python automatically handles the creation and management of the iterator.\n# Iterators: More verbose as you need to manually create the iterator and call next().\n\n# Use Cases:\n\n# For Loop: Preferred for simple iterations and when you need to iterate over all elements.\n# Iterators: Useful when you need more granular control over the iteration process, such as in custom iteration logic, handling large data streams, or creating custom iterable objects.\n\n\n# Conclusion\n# While the normal for loop is more straightforward and is suitable for most use cases, iterators provide additional flexibility and control, which can be valuable in more complex scenarios.\n\n\narr=[i for i in range(1,101)]\nfor i in arr:\n\tprint(i,end=\" \")\n\t\nprint()\n\n\n#fucntion\ndef fun():\n\treturn 100\n    \nvalues=fun()\n\nprint(values)\n\n\n\n#generetor\ndef gen():\n\tyield 100\n    \n# yield will return the same but in the form of iterator\n\nvalues=gen()\n\n# values will yield iterator (object)\nprint(values)\n\n# so, we know to fetch data from iterators use it.__next__ / next(it)\n\nprint(values.__next__())\n\n# so, u will think like that's fine but it's yielding the same as return statement from the normal function what's point of having generetor \n\n# but, difference here is since it is a generetor which will return the iterator we can have multiple yields \n\n\ndef genz():\n    yield 1\n    yield 2\n    yield 3\n    yield 4\n    yield 5\n    \nvalues=genz()\nprint(values)\n\nprint(values.__next__(),end=\" \")\n\n# if u call this u will be getting only first value since we used only one value\n\n# on the further next calls of the iterator u will getting further values\nprint(values.__next__(),end=\" \")\nprint(values.__next__(),end=\" \")\nprint(values.__next__(),end=\" \")\nprint(values.__next__())\n\n\n# we can use for loop to get the values (iterator)\n\nvalues=genz()\nfor i in values:\n    print(i,end=\" \")\n    \nprint()\n    \n# similarly let's see how ot print top 10 perfect squares \n\n\n# return will terminate the fucntion nut yield will not - one main difference\n# since for loop implicitly uses iterators , we will make use of while loop \n\ndef perfect_squares():\n    \n    n=1\n    while n<=10:\n        sq=n*n\n        yield sq\n        n+=1\nresult=perfect_squares()\n\nfor i in result:\n    print(i,end=\" \")\n    \n# so yield will give next next values \n# so using the for loops we cam fetch all the values \n\n# so that's how we create a iterator using the generator \n\n\n# but the question is why someone use the generator \n# let`s say we are fetching 1000 records from the database \n\n# we may want to print all or we may need to process few and print \n\n# let's say if we wanted to fetch 1000 records all the 1000 records will be loaded into the memory\n\n# we don't want that, may be we want to work one values at a time  instead of fetching entire list - we can fetch one by one\n\n# in that case we can use generator \n\n# so this is how we can use generator with the help of yield \n\n",
      "metadata": {
        "trusted": true
      },
      "outputs": [
        {
          "name": "stdout",
          "text": "1 2 3 4 5 \n1 2 3 4 5 \n1 2 3 4 5 \n1 2 3 4 5 6 7 8 9 10 11 12 13 14 15 16 17 18 19 20 21 22 23 24 25 26 27 28 29 30 31 32 33 34 35 36 37 38 39 40 41 42 43 44 45 46 47 48 49 50 51 52 53 54 55 56 57 58 59 60 61 62 63 64 65 66 67 68 69 70 71 72 73 74 75 76 77 78 79 80 81 82 83 84 85 86 87 88 89 90 91 92 93 94 95 96 97 98 99 100 \n100\n<generator object gen at 0x27fed70>\n100\n<generator object genz at 0x20d8f70>\n1 2 3 4 5\n1 2 3 4 5 \n1 4 9 16 25 36 49 64 81 100 ",
          "output_type": "stream"
        }
      ],
      "execution_count": 1
    },
    {
      "cell_type": "code",
      "source": "",
      "metadata": {
        "trusted": true
      },
      "outputs": [],
      "execution_count": null
    }
  ]
}
