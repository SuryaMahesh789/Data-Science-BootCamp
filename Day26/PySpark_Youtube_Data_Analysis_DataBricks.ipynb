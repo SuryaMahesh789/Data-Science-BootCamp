{
 "cells": [
  {
   "cell_type": "code",
   "execution_count": 0,
   "metadata": {
    "application/vnd.databricks.v1+cell": {
     "cellMetadata": {
      "byteLimit": 2048000,
      "rowLimit": 10000
     },
     "inputWidgets": {},
     "nuid": "bd9c07fb-01f7-4332-ae43-fea1592fe420",
     "showTitle": false,
     "title": ""
    }
   },
   "outputs": [],
   "source": [
    "# pip install pyspark"
   ]
  },
  {
   "cell_type": "code",
   "execution_count": 0,
   "metadata": {
    "application/vnd.databricks.v1+cell": {
     "cellMetadata": {
      "byteLimit": 2048000,
      "rowLimit": 10000
     },
     "inputWidgets": {},
     "nuid": "467c2f5a-c33d-4217-9efe-49eae60fad0d",
     "showTitle": false,
     "title": ""
    }
   },
   "outputs": [],
   "source": [
    "from pyspark.sql import SparkSession\n",
    "from pyspark.sql.functions import col, concat_ws, split"
   ]
  },
  {
   "cell_type": "code",
   "execution_count": 0,
   "metadata": {
    "application/vnd.databricks.v1+cell": {
     "cellMetadata": {
      "byteLimit": 2048000,
      "rowLimit": 10000
     },
     "inputWidgets": {},
     "nuid": "179389f1-646a-4049-82ca-f9eee2927092",
     "showTitle": false,
     "title": ""
    }
   },
   "outputs": [
    {
     "output_type": "execute_result",
     "data": {
      "text/plain": [
       "pyspark.sql.session.SparkSession"
      ]
     },
     "execution_count": 100,
     "metadata": {},
     "output_type": "execute_result"
    }
   ],
   "source": [
    "SparkSession"
   ]
  },
  {
   "cell_type": "code",
   "execution_count": 0,
   "metadata": {
    "application/vnd.databricks.v1+cell": {
     "cellMetadata": {
      "byteLimit": 2048000,
      "rowLimit": 10000
     },
     "inputWidgets": {},
     "nuid": "02755e18-925c-44af-bdb5-aa3a3e449556",
     "showTitle": false,
     "title": ""
    }
   },
   "outputs": [],
   "source": [
    "spark = SparkSession.builder.appName('Youtube_Data_Analysis').getOrCreate()"
   ]
  },
  {
   "cell_type": "code",
   "execution_count": 0,
   "metadata": {
    "application/vnd.databricks.v1+cell": {
     "cellMetadata": {
      "byteLimit": 2048000,
      "rowLimit": 10000
     },
     "inputWidgets": {},
     "nuid": "2f01fc2f-9dfc-4dd5-87e9-cbcdccfb81cf",
     "showTitle": false,
     "title": ""
    }
   },
   "outputs": [
    {
     "output_type": "execute_result",
     "data": {
      "text/html": [
       "\n",
       "            <div>\n",
       "                <p><b>SparkSession - hive</b></p>\n",
       "                \n",
       "        <div>\n",
       "            <p><b>SparkContext</b></p>\n",
       "\n",
       "            <p><a href=\"/?o=3990051848774177#setting/sparkui/0829-055333-h8chlpvk/driver-4206547439400067944\">Spark UI</a></p>\n",
       "\n",
       "            <dl>\n",
       "              <dt>Version</dt>\n",
       "                <dd><code>v3.5.0</code></dd>\n",
       "              <dt>Master</dt>\n",
       "                <dd><code>spark://10.139.64.5:7077</code></dd>\n",
       "              <dt>AppName</dt>\n",
       "                <dd><code>Databricks Shell</code></dd>\n",
       "            </dl>\n",
       "        </div>\n",
       "        \n",
       "            </div>\n",
       "        "
      ],
      "text/plain": [
       "<pyspark.sql.session.SparkSession at 0x7fda0ade25f0>"
      ]
     },
     "execution_count": 102,
     "metadata": {},
     "output_type": "execute_result"
    }
   ],
   "source": [
    "spark"
   ]
  },
  {
   "cell_type": "code",
   "execution_count": 0,
   "metadata": {
    "application/vnd.databricks.v1+cell": {
     "cellMetadata": {
      "byteLimit": 2048000,
      "rowLimit": 10000
     },
     "inputWidgets": {},
     "nuid": "3d5bb3c1-af5b-4dd4-a7c8-7d3b0f6a9f2b",
     "showTitle": false,
     "title": ""
    }
   },
   "outputs": [
    {
     "output_type": "execute_result",
     "data": {
      "text/html": [
       "\n",
       "        <div>\n",
       "            <p><b>SparkContext</b></p>\n",
       "\n",
       "            <p><a href=\"/?o=3990051848774177#setting/sparkui/0829-055333-h8chlpvk/driver-4206547439400067944\">Spark UI</a></p>\n",
       "\n",
       "            <dl>\n",
       "              <dt>Version</dt>\n",
       "                <dd><code>v3.5.0</code></dd>\n",
       "              <dt>Master</dt>\n",
       "                <dd><code>spark://10.139.64.5:7077</code></dd>\n",
       "              <dt>AppName</dt>\n",
       "                <dd><code>Databricks Shell</code></dd>\n",
       "            </dl>\n",
       "        </div>\n",
       "        "
      ],
      "text/plain": [
       "<SparkContext master=spark://10.139.64.5:7077 appName=Databricks Shell>"
      ]
     },
     "execution_count": 103,
     "metadata": {},
     "output_type": "execute_result"
    }
   ],
   "source": [
    "spark.sparkContext"
   ]
  },
  {
   "cell_type": "code",
   "execution_count": 0,
   "metadata": {
    "application/vnd.databricks.v1+cell": {
     "cellMetadata": {
      "byteLimit": 2048000,
      "rowLimit": 10000
     },
     "inputWidgets": {},
     "nuid": "cfc3a807-5118-41c3-945f-3a1ee3534253",
     "showTitle": false,
     "title": ""
    }
   },
   "outputs": [],
   "source": [
    "from pyspark.sql.types import StructType,StructField,StringType,IntegerType\n",
    "from pyspark.sql.functions import *"
   ]
  },
  {
   "cell_type": "code",
   "execution_count": 0,
   "metadata": {
    "application/vnd.databricks.v1+cell": {
     "cellMetadata": {
      "byteLimit": 2048000,
      "rowLimit": 10000
     },
     "inputWidgets": {},
     "nuid": "6b43354e-5166-4606-9d06-d5365e3fdef1",
     "showTitle": false,
     "title": ""
    }
   },
   "outputs": [
    {
     "output_type": "execute_result",
     "data": {
      "text/html": [
       "<div>\n",
       "<style scoped>\n",
       "    .dataframe tbody tr th:only-of-type {\n",
       "        vertical-align: middle;\n",
       "    }\n",
       "\n",
       "    .dataframe tbody tr th {\n",
       "        vertical-align: top;\n",
       "    }\n",
       "\n",
       "    .dataframe thead th {\n",
       "        text-align: right;\n",
       "    }\n",
       "</style>\n",
       "<table border=\"1\" class=\"dataframe\">\n",
       "  <thead>\n",
       "    <tr style=\"text-align: right;\">\n",
       "      <th></th>\n",
       "      <th>_c0</th>\n",
       "      <th>_c1</th>\n",
       "      <th>_c2</th>\n",
       "      <th>_c3</th>\n",
       "      <th>_c4</th>\n",
       "      <th>_c5</th>\n",
       "      <th>_c6</th>\n",
       "      <th>_c7</th>\n",
       "      <th>_c8</th>\n",
       "      <th>_c9</th>\n",
       "      <th>_c10</th>\n",
       "      <th>_c11</th>\n",
       "      <th>_c12</th>\n",
       "      <th>_c13</th>\n",
       "      <th>_c14</th>\n",
       "      <th>_c15</th>\n",
       "      <th>_c16</th>\n",
       "      <th>_c17</th>\n",
       "      <th>_c18</th>\n",
       "      <th>_c19</th>\n",
       "      <th>_c20</th>\n",
       "      <th>_c21</th>\n",
       "      <th>_c22</th>\n",
       "    </tr>\n",
       "  </thead>\n",
       "  <tbody>\n",
       "    <tr>\n",
       "      <th>0</th>\n",
       "      <td>QuRYeRnAuXM</td>\n",
       "      <td>EvilSquirrelPictures</td>\n",
       "      <td>1135.0</td>\n",
       "      <td>Pets &amp; Animals</td>\n",
       "      <td>252.0</td>\n",
       "      <td>1075.0</td>\n",
       "      <td>4.96</td>\n",
       "      <td>46.0</td>\n",
       "      <td>86.0</td>\n",
       "      <td>gFa1YMEJFag</td>\n",
       "      <td>nRcovJn9xHg</td>\n",
       "      <td>3TYqkBJ9YRk</td>\n",
       "      <td>rSJ8QZWBegU</td>\n",
       "      <td>0TZqX5MbXMA</td>\n",
       "      <td>UEvVksP91kg</td>\n",
       "      <td>ZTopArY7Nbg</td>\n",
       "      <td>0RViGi2Rne8</td>\n",
       "      <td>HT_QlOJbDpg</td>\n",
       "      <td>YZev1imoxX8</td>\n",
       "      <td>8qQrrfUTmh0</td>\n",
       "      <td>zQ83d_D2MGs</td>\n",
       "      <td>u6_DQQjLsAw</td>\n",
       "      <td>73Wz9CQFDtE</td>\n",
       "    </tr>\n",
       "    <tr>\n",
       "      <th>1</th>\n",
       "      <td>3TYqkBJ9YRk</td>\n",
       "      <td>hggh22</td>\n",
       "      <td>1135.0</td>\n",
       "      <td>Comedy</td>\n",
       "      <td>169.0</td>\n",
       "      <td>228.0</td>\n",
       "      <td>5.00</td>\n",
       "      <td>5.0</td>\n",
       "      <td>3.0</td>\n",
       "      <td>QuRYeRnAuXM</td>\n",
       "      <td>gFa1YMEJFag</td>\n",
       "      <td>UEvVksP91kg</td>\n",
       "      <td>rSJ8QZWBegU</td>\n",
       "      <td>nRcovJn9xHg</td>\n",
       "      <td>sVkuOk4jmCo</td>\n",
       "      <td>ZTopArY7Nbg</td>\n",
       "      <td>HT_QlOJbDpg</td>\n",
       "      <td>0RViGi2Rne8</td>\n",
       "      <td>ShhClb6J-NA</td>\n",
       "      <td>g9e1alirMhc</td>\n",
       "      <td>YZev1imoxX8</td>\n",
       "      <td>I4yKEK9o8gA</td>\n",
       "      <td>zQ83d_D2MGs</td>\n",
       "    </tr>\n",
       "    <tr>\n",
       "      <th>2</th>\n",
       "      <td>rSJ8QZWBegU</td>\n",
       "      <td>TimeGem</td>\n",
       "      <td>1135.0</td>\n",
       "      <td>Entertainment</td>\n",
       "      <td>95.0</td>\n",
       "      <td>356.0</td>\n",
       "      <td>4.31</td>\n",
       "      <td>13.0</td>\n",
       "      <td>1.0</td>\n",
       "      <td>QuRYeRnAuXM</td>\n",
       "      <td>gFa1YMEJFag</td>\n",
       "      <td>UEvVksP91kg</td>\n",
       "      <td>3TYqkBJ9YRk</td>\n",
       "      <td>nRcovJn9xHg</td>\n",
       "      <td>sVkuOk4jmCo</td>\n",
       "      <td>ZTopArY7Nbg</td>\n",
       "      <td>gBcu22Vv1nY</td>\n",
       "      <td>HT_QlOJbDpg</td>\n",
       "      <td>0RViGi2Rne8</td>\n",
       "      <td>ShhClb6J-NA</td>\n",
       "      <td>g9e1alirMhc</td>\n",
       "      <td>YZev1imoxX8</td>\n",
       "      <td>I4yKEK9o8gA</td>\n",
       "    </tr>\n",
       "    <tr>\n",
       "      <th>3</th>\n",
       "      <td>nRcovJn9xHg</td>\n",
       "      <td>wooochacha</td>\n",
       "      <td>1135.0</td>\n",
       "      <td>Entertainment</td>\n",
       "      <td>118.0</td>\n",
       "      <td>1115.0</td>\n",
       "      <td>2.23</td>\n",
       "      <td>57.0</td>\n",
       "      <td>73.0</td>\n",
       "      <td>QuRYeRnAuXM</td>\n",
       "      <td>gFa1YMEJFag</td>\n",
       "      <td>UEvVksP91kg</td>\n",
       "      <td>3TYqkBJ9YRk</td>\n",
       "      <td>ZTopArY7Nbg</td>\n",
       "      <td>gBcu22Vv1nY</td>\n",
       "      <td>HT_QlOJbDpg</td>\n",
       "      <td>0RViGi2Rne8</td>\n",
       "      <td>ShhClb6J-NA</td>\n",
       "      <td>g9e1alirMhc</td>\n",
       "      <td>YZev1imoxX8</td>\n",
       "      <td>I4yKEK9o8gA</td>\n",
       "      <td>zQ83d_D2MGs</td>\n",
       "      <td>1GKaVzNDbuI</td>\n",
       "    </tr>\n",
       "    <tr>\n",
       "      <th>4</th>\n",
       "      <td>UEvVksP91kg</td>\n",
       "      <td>johnx113</td>\n",
       "      <td>1135.0</td>\n",
       "      <td>Entertainment</td>\n",
       "      <td>83.0</td>\n",
       "      <td>281.0</td>\n",
       "      <td>2.67</td>\n",
       "      <td>9.0</td>\n",
       "      <td>16.0</td>\n",
       "      <td>gFa1YMEJFag</td>\n",
       "      <td>QuRYeRnAuXM</td>\n",
       "      <td>3TYqkBJ9YRk</td>\n",
       "      <td>0TZqX5MbXMA</td>\n",
       "      <td>rSJ8QZWBegU</td>\n",
       "      <td>nRcovJn9xHg</td>\n",
       "      <td>sVkuOk4jmCo</td>\n",
       "      <td>ZTopArY7Nbg</td>\n",
       "      <td>HT_QlOJbDpg</td>\n",
       "      <td>0RViGi2Rne8</td>\n",
       "      <td>g9e1alirMhc</td>\n",
       "      <td>YZev1imoxX8</td>\n",
       "      <td>I4yKEK9o8gA</td>\n",
       "      <td>zQ83d_D2MGs</td>\n",
       "    </tr>\n",
       "    <tr>\n",
       "      <th>...</th>\n",
       "      <td>...</td>\n",
       "      <td>...</td>\n",
       "      <td>...</td>\n",
       "      <td>...</td>\n",
       "      <td>...</td>\n",
       "      <td>...</td>\n",
       "      <td>...</td>\n",
       "      <td>...</td>\n",
       "      <td>...</td>\n",
       "      <td>...</td>\n",
       "      <td>...</td>\n",
       "      <td>...</td>\n",
       "      <td>...</td>\n",
       "      <td>...</td>\n",
       "      <td>...</td>\n",
       "      <td>...</td>\n",
       "      <td>...</td>\n",
       "      <td>...</td>\n",
       "      <td>...</td>\n",
       "      <td>...</td>\n",
       "      <td>...</td>\n",
       "      <td>...</td>\n",
       "      <td>...</td>\n",
       "    </tr>\n",
       "    <tr>\n",
       "      <th>4095</th>\n",
       "      <td>esCvu46qDaA</td>\n",
       "      <td>RSMFD</td>\n",
       "      <td>863.0</td>\n",
       "      <td>Entertainment</td>\n",
       "      <td>63.0</td>\n",
       "      <td>116929.0</td>\n",
       "      <td>4.84</td>\n",
       "      <td>182.0</td>\n",
       "      <td>222.0</td>\n",
       "      <td>8t4m5JM5r6Y</td>\n",
       "      <td>vOskZNJJII8</td>\n",
       "      <td>q3qdBVDZrmE</td>\n",
       "      <td>mLDLe024T_I</td>\n",
       "      <td>bhLbFGVduTA</td>\n",
       "      <td>tJGDW674hVo</td>\n",
       "      <td>TecLbWk8A3w</td>\n",
       "      <td>3Yb5YTEVlEo</td>\n",
       "      <td>e4yx1s-l6f8</td>\n",
       "      <td>yB62b8S3Ra4</td>\n",
       "      <td>2GHiAEeFQs0</td>\n",
       "      <td>pxcDZ9AohLM</td>\n",
       "      <td>G8OlUZEnyOA</td>\n",
       "      <td>M80K51DosFo</td>\n",
       "    </tr>\n",
       "    <tr>\n",
       "      <th>4096</th>\n",
       "      <td>kOZ8bRAO7YQ</td>\n",
       "      <td>RockstarGames</td>\n",
       "      <td>0.0</td>\n",
       "      <td>UNA</td>\n",
       "      <td>63.0</td>\n",
       "      <td>199361.0</td>\n",
       "      <td>4.79</td>\n",
       "      <td>1256.0</td>\n",
       "      <td>2410.0</td>\n",
       "      <td>None</td>\n",
       "      <td>None</td>\n",
       "      <td>None</td>\n",
       "      <td>None</td>\n",
       "      <td>None</td>\n",
       "      <td>None</td>\n",
       "      <td>None</td>\n",
       "      <td>None</td>\n",
       "      <td>None</td>\n",
       "      <td>None</td>\n",
       "      <td>None</td>\n",
       "      <td>None</td>\n",
       "      <td>None</td>\n",
       "      <td>None</td>\n",
       "    </tr>\n",
       "    <tr>\n",
       "      <th>4097</th>\n",
       "      <td>GSsVZcKHues</td>\n",
       "      <td>GTASite</td>\n",
       "      <td>1024.0</td>\n",
       "      <td>Entertainment</td>\n",
       "      <td>123.0</td>\n",
       "      <td>486752.0</td>\n",
       "      <td>4.86</td>\n",
       "      <td>1098.0</td>\n",
       "      <td>1764.0</td>\n",
       "      <td>TecLbWk8A3w</td>\n",
       "      <td>vOskZNJJII8</td>\n",
       "      <td>_X5nHLOiAVo</td>\n",
       "      <td>cNION6wGuso</td>\n",
       "      <td>5-reBn0gUkg</td>\n",
       "      <td>PHLmbD_dLh4</td>\n",
       "      <td>bhLbFGVduTA</td>\n",
       "      <td>zwp3HEwA1oM</td>\n",
       "      <td>XjR5e2W8n8E</td>\n",
       "      <td>ka8xZhlMvps</td>\n",
       "      <td>pP3oC2pf_EU</td>\n",
       "      <td>YDgd4V0ILNw</td>\n",
       "      <td>q3qdBVDZrmE</td>\n",
       "      <td>hKSk1bW9qzw</td>\n",
       "    </tr>\n",
       "    <tr>\n",
       "      <th>4098</th>\n",
       "      <td>foKRqJGcbPQ</td>\n",
       "      <td>scrambledeggsTV</td>\n",
       "      <td>1100.0</td>\n",
       "      <td>Entertainment</td>\n",
       "      <td>136.0</td>\n",
       "      <td>13115.0</td>\n",
       "      <td>4.45</td>\n",
       "      <td>33.0</td>\n",
       "      <td>37.0</td>\n",
       "      <td>LzI9VyIjpDI</td>\n",
       "      <td>_X5nHLOiAVo</td>\n",
       "      <td>5-reBn0gUkg</td>\n",
       "      <td>e8bEzU2Tx7c</td>\n",
       "      <td>e4yx1s-l6f8</td>\n",
       "      <td>hKSk1bW9qzw</td>\n",
       "      <td>WWdESkWpKvI</td>\n",
       "      <td>2GHiAEeFQs0</td>\n",
       "      <td>GSsVZcKHues</td>\n",
       "      <td>q3qdBVDZrmE</td>\n",
       "      <td>IbEW4N3DmI0</td>\n",
       "      <td>odXW0Uaj8aU</td>\n",
       "      <td>z84ko4Xzn40</td>\n",
       "      <td>Qjj_uMubxP0</td>\n",
       "    </tr>\n",
       "    <tr>\n",
       "      <th>4099</th>\n",
       "      <td>-CYhSNHbeC8</td>\n",
       "      <td>rehab07</td>\n",
       "      <td>771.0</td>\n",
       "      <td>Entertainment</td>\n",
       "      <td>186.0</td>\n",
       "      <td>103556.0</td>\n",
       "      <td>4.30</td>\n",
       "      <td>277.0</td>\n",
       "      <td>220.0</td>\n",
       "      <td>wtVeF5bT6YQ</td>\n",
       "      <td>EOj-iWkcJPU</td>\n",
       "      <td>pg3j4IBMRZE</td>\n",
       "      <td>2GHiAEeFQs0</td>\n",
       "      <td>e4yx1s-l6f8</td>\n",
       "      <td>47EWHY3E5AM</td>\n",
       "      <td>uWIXSr5H_SI</td>\n",
       "      <td>cRqUsvTsbho</td>\n",
       "      <td>TecLbWk8A3w</td>\n",
       "      <td>yB62b8S3Ra4</td>\n",
       "      <td>27q5bD9e_ew</td>\n",
       "      <td>F5m4wyZxLq4</td>\n",
       "      <td>0n1plrwQwrk</td>\n",
       "      <td>GZ_ct8ad-dY</td>\n",
       "    </tr>\n",
       "  </tbody>\n",
       "</table>\n",
       "<p>4100 rows × 23 columns</p>\n",
       "</div>"
      ],
      "text/plain": [
       "              _c0                   _c1  ...         _c21         _c22\n",
       "0     QuRYeRnAuXM  EvilSquirrelPictures  ...  u6_DQQjLsAw  73Wz9CQFDtE\n",
       "1     3TYqkBJ9YRk                hggh22  ...  I4yKEK9o8gA  zQ83d_D2MGs\n",
       "2     rSJ8QZWBegU               TimeGem  ...  YZev1imoxX8  I4yKEK9o8gA\n",
       "3     nRcovJn9xHg            wooochacha  ...  zQ83d_D2MGs  1GKaVzNDbuI\n",
       "4     UEvVksP91kg              johnx113  ...  I4yKEK9o8gA  zQ83d_D2MGs\n",
       "...           ...                   ...  ...          ...          ...\n",
       "4095  esCvu46qDaA                 RSMFD  ...  G8OlUZEnyOA  M80K51DosFo\n",
       "4096  kOZ8bRAO7YQ         RockstarGames  ...         None         None\n",
       "4097  GSsVZcKHues               GTASite  ...  q3qdBVDZrmE  hKSk1bW9qzw\n",
       "4098  foKRqJGcbPQ       scrambledeggsTV  ...  z84ko4Xzn40  Qjj_uMubxP0\n",
       "4099  -CYhSNHbeC8               rehab07  ...  0n1plrwQwrk  GZ_ct8ad-dY\n",
       "\n",
       "[4100 rows x 23 columns]"
      ]
     },
     "execution_count": 105,
     "metadata": {},
     "output_type": "execute_result"
    }
   ],
   "source": [
    "# Load the CSV file without headers\n",
    "# Read the CSV file with space separator\n",
    "df = spark.read.csv('file:/Workspace/Users/d-user11@heu.ai/youtubedata.csv',header=False,inferSchema=True)\n",
    "df.toPandas()"
   ]
  },
  {
   "cell_type": "code",
   "execution_count": 0,
   "metadata": {
    "application/vnd.databricks.v1+cell": {
     "cellMetadata": {
      "byteLimit": 2048000,
      "rowLimit": 10000
     },
     "inputWidgets": {},
     "nuid": "950474b3-e219-4f8a-8a31-1a45047f1a3c",
     "showTitle": false,
     "title": ""
    }
   },
   "outputs": [],
   "source": [
    "# Define the column names\n",
    "column_names = [\n",
    "    \"Video ID\", \n",
    "    \"Video Uploader\", \n",
    "    \"Interval between YouTube Establishment and Video Upload\",\n",
    "    \"Video Category\", \n",
    "    \"Video Length\", \n",
    "    \"Number of Views\", \n",
    "    \"Rating on the Video\", \n",
    "    \"Number of Ratings\", \n",
    "    \"Number of Comments\", \n",
    "    \"Related Video IDs\"\n",
    "]\n",
    "\n",
    "\n",
    "# Rename the first 9 columns using the provided names\n",
    "for i in range(len(column_names)):\n",
    "    df = df.withColumnRenamed(f\"_c{i}\", column_names[i])    \n",
    "    "
   ]
  },
  {
   "cell_type": "code",
   "execution_count": 0,
   "metadata": {
    "application/vnd.databricks.v1+cell": {
     "cellMetadata": {
      "byteLimit": 2048000,
      "rowLimit": 10000
     },
     "inputWidgets": {},
     "nuid": "60e07c8c-48b0-4e0e-b448-306404e712fb",
     "showTitle": false,
     "title": ""
    }
   },
   "outputs": [
    {
     "output_type": "stream",
     "name": "stdout",
     "output_type": "stream",
     "text": [
      "+-----------+--------------------+-------------------------------------------------------+----------------+------------+---------------+-------------------+-----------------+------------------+-----------------+-----------+-----------+-----------+-----------+-----------+-----------+-----------+-----------+-----------+-----------+-----------+-----------+-----------+\n|   Video ID|      Video Uploader|Interval between YouTube Establishment and Video Upload|  Video Category|Video Length|Number of Views|Rating on the Video|Number of Ratings|Number of Comments|Related Video IDs|       _c10|       _c11|       _c12|       _c13|       _c14|       _c15|       _c16|       _c17|       _c18|       _c19|       _c20|       _c21|       _c22|\n+-----------+--------------------+-------------------------------------------------------+----------------+------------+---------------+-------------------+-----------------+------------------+-----------------+-----------+-----------+-----------+-----------+-----------+-----------+-----------+-----------+-----------+-----------+-----------+-----------+-----------+\n|QuRYeRnAuXM|EvilSquirrelPictures|                                                 1135.0|  Pets & Animals|         252|           1075|               4.96|               46|                86|      gFa1YMEJFag|nRcovJn9xHg|3TYqkBJ9YRk|rSJ8QZWBegU|0TZqX5MbXMA|UEvVksP91kg|ZTopArY7Nbg|0RViGi2Rne8|HT_QlOJbDpg|YZev1imoxX8|8qQrrfUTmh0|zQ83d_D2MGs|u6_DQQjLsAw|73Wz9CQFDtE|\n|3TYqkBJ9YRk|              hggh22|                                                 1135.0|          Comedy|         169|            228|                5.0|                5|                 3|      QuRYeRnAuXM|gFa1YMEJFag|UEvVksP91kg|rSJ8QZWBegU|nRcovJn9xHg|sVkuOk4jmCo|ZTopArY7Nbg|HT_QlOJbDpg|0RViGi2Rne8|ShhClb6J-NA|g9e1alirMhc|YZev1imoxX8|I4yKEK9o8gA|zQ83d_D2MGs|\n|rSJ8QZWBegU|             TimeGem|                                                 1135.0|   Entertainment|          95|            356|               4.31|               13|                 1|      QuRYeRnAuXM|gFa1YMEJFag|UEvVksP91kg|3TYqkBJ9YRk|nRcovJn9xHg|sVkuOk4jmCo|ZTopArY7Nbg|gBcu22Vv1nY|HT_QlOJbDpg|0RViGi2Rne8|ShhClb6J-NA|g9e1alirMhc|YZev1imoxX8|I4yKEK9o8gA|\n|nRcovJn9xHg|          wooochacha|                                                 1135.0|   Entertainment|         118|           1115|               2.23|               57|                73|      QuRYeRnAuXM|gFa1YMEJFag|UEvVksP91kg|3TYqkBJ9YRk|ZTopArY7Nbg|gBcu22Vv1nY|HT_QlOJbDpg|0RViGi2Rne8|ShhClb6J-NA|g9e1alirMhc|YZev1imoxX8|I4yKEK9o8gA|zQ83d_D2MGs|1GKaVzNDbuI|\n|UEvVksP91kg|            johnx113|                                                 1135.0|   Entertainment|          83|            281|               2.67|                9|                16|      gFa1YMEJFag|QuRYeRnAuXM|3TYqkBJ9YRk|0TZqX5MbXMA|rSJ8QZWBegU|nRcovJn9xHg|sVkuOk4jmCo|ZTopArY7Nbg|HT_QlOJbDpg|0RViGi2Rne8|g9e1alirMhc|YZev1imoxX8|I4yKEK9o8gA|zQ83d_D2MGs|\n|sVkuOk4jmCo|       marcosoycadiz|                                                 1135.0|  People & Blogs|          49|           1196|               3.67|                6|                 5|      yjt5v88-6Aw|sLrWjhvCoW8|dergWtU1tnE|Cs3TbaYxg_A|OOHsD-akNw0|9Vajm_u9TsI|ZW62z2-QfpA|4ki_fVDDlzs|WJ2WTPtijSc|8TknA5BqRBc|M2fcueuny7s|8Wd6y3Pb2yA|0aKz7qdtMj0|x50W-TW6yGg|\n|ZTopArY7Nbg|         TroyChannel|                                                 1136.0|   Entertainment|         145|             11|                0.0|                0|                 0|      THM3FYUNyr8|pQPhV1mzh-g|NeIGddkjxJI|8-vZvDjh_3g|N6RuQAW1ALc|Dc_MIs3NzIQ|LsSendGJARs|MHADThckgkE|OTJGrqVOubA|BjU-c_aBXtc|dT1Hmv_2Qg8|apqOIWiKaXc|vX0vqQuXI9g|Gb7ztQ-baqo|\n|0RViGi2Rne8|        OmnipotentSI|                                                 1135.0|   Entertainment|           9|            490|               2.31|               26|                15|      rSJ8QZWBegU|nRcovJn9xHg|0TZqX5MbXMA|UEvVksP91kg|gFa1YMEJFag|QuRYeRnAuXM|3TYqkBJ9YRk|HT_QlOJbDpg|ZTopArY7Nbg|g9e1alirMhc|YZev1imoxX8|I4yKEK9o8gA|zQ83d_D2MGs|1GKaVzNDbuI|\n|HT_QlOJbDpg|   dumbasstheredneck|                                                 1095.0|          Comedy|          14|           1349|               2.09|               22|                13|      cdbp6rCVzRs|jVxz9wKEa3A|mUoRI-VnV6w|bGRB0Pwx_iM|B09qqpGr4Xo|6Xdg_elOGaY|8-7axRRXpfE|VO_mUdKmyds|1vGH08qoclk|eP94rcWKMNM|jFGu4xEvWUc|e7SnPCWPFxE|G_my4iaIYIM|e9y0_BgZU7g|\n|ShhClb6J-NA|         thecrashguy|                                                 1136.0|   Entertainment|          61|             29|                0.0|                0|                 0|      8dEezTw8J_o|6DK-CJh6hTY|SArJyLS6T_Y|boRch04lh0I|yop2Ipym-ls|Ydnc_c4Afj0|HFaCubSrqdQ|tpUcCvJ9cio|8MrfxlBkHMQ|_CNGEzIuf_I|bKOzgNvNgTE|JJtHjzlBigU|fGkPWRrOTXA|oBqH_5mPxsc|\n|g9e1alirMhc|      iamdanielisaac|                                                  541.0|          Comedy|         152|         483053|               4.65|             2689|              2932|      _i6OD_y_-AI|1GKaVzNDbuI|Bd61LnxqSng|97cWs8tW8mY|I4yKEK9o8gA|IBqQWAjBgmE|myQpL8_M980|WWqed9u6rr4|-mQH9DloKD8|2l6vwAIAqNU|E3XaD3Yu3qA|pFUYi7dp1WU|Dto7-3aOt8w|hiSmlmXp-aU|\n|YZev1imoxX8|     threefirstnames|                                                 1135.0|   Entertainment|         253|             63|                5.0|                3|                 2|      ldZPDf2cwqI|-UvVtpmh4EQ|BzwpvskqHa4|OJtAoLrGA8Q|q5QOvQ8ZYUQ|MFmMssHR0Rc|vDuIB8Gv9GQ|3kITDVTeo-c|Dt5X1_3S_kM|P2OguaWyfzQ|vOAYUoiPkzA|_6ruNbrssO4|sSUu4ROj3FQ|n5Ngq0mKKzA|\n|I4yKEK9o8gA|           djlogitek|                                                  964.0| News & Politics|         173|         106929|               4.39|             1010|              1484|      g9e1alirMhc|1GKaVzNDbuI|qCUYgddlvRM|J0Qu6eyyr4c|8n-nT-luFIw|q8XToX7aSdg|dzUNvEfYDEQ|WWqed9u6rr4|2l6vwAIAqNU|VWYX-LiQggc|gMuxyRbNLFM|IBqQWAjBgmE|JZekosYOmXc|DomumdGQSg8|\n|1GKaVzNDbuI|             fatvids|                                                  690.0|          Comedy|         176|        2464486|                4.5|            13342|             11997|      Bd61LnxqSng|g9e1alirMhc|UrNqx1p95qs|sEJLOmVOpcU|WGV4u6GhGhw|Dto7-3aOt8w|I4yKEK9o8gA|p9CypIsNSvM|qJXYN3wFhgo|Vqiw-Kqtlr0|bnuaPr4hlCU|CKjha-rohzc|hSlo0T0CNI4|_i6OD_y_-AI|\n|yuZhwV24PmM|          weneedhelp|                                                 1082.0| News & Politics|         213|          46183|               4.71|              280|               247|      hU9iCANi02o|xq8aopATYyw|g9e1alirMhc|I4yKEK9o8gA|HuTqgqhxVMc|QoMCoMMgeO0|6h3G-lMZxjo|b4LuFQJmS1Y|7ZVpPGxuafA|bfZ_gXCHaMw|1GKaVzNDbuI|9Fr1dm2Qdls|WWqed9u6rr4|L3gQfz8GC0o|\n|zQ83d_D2MGs|   dumbasstheredneck|                                                 1095.0|          Comedy|          14|           1550|               1.57|               14|                 4|      HT_QlOJbDpg|cdbp6rCVzRs|gAHZ7DRyIgY|mUoRI-VnV6w|jFGu4xEvWUc|TEPH9ScDy1E|AK9_-sLF5M0|6Xdg_elOGaY|p4NVl4W6FHM|mCLw4iGZ7Ms|bGRB0Pwx_iM|ifTbWQW0w64|tPi04TrYskw|n00wAO4hg-U|\n|DomumdGQSg8|           imgrown18|                                                  910.0|          Comedy|         224|         392908|                4.8|             1261|               829|      lVTS0iuo1EY|eOIFF_5ORGo|n7rlp3SLtus|u_9vYy-TCCk|kpq0zL-oW4M|J5z4Vs26-TI|b-iTzU_ZD4k|CvCqT9hkZiA|s5CqcdpwEq8|pvVo1290j1w|6g0XGKuC-ek|7TXjtbl2y3U|hpsra8ojBHQ|pqhlG9qYsR8|\n|pFUYi7dp1WU|      StanleyJenkins|                                                 1106.0|          Comedy|         200|         110272|               4.07|             1011|               482|      _1haYY5pV18|ue5lVJuNlzQ|AkjUOT67hcU|Xw6xEYeUfj4|5e5tKtCoBfY|ZNfFc4-gV38|T4X8uj_SYPQ|IgVHe9CDQnU|l7Z818lnTK0|1piuJzS7H-4|1OErkBJ8Ha4|5MOriOpcgeQ|J5z4Vs26-TI|LpGZWsCapX4|\n|2l6vwAIAqNU|        makemagazine|                                                  460.0|Film & Animation|         294|          71966|               4.07|              260|               229|      g9e1alirMhc|hiSmlmXp-aU|I4yKEK9o8gA|EGzHBtoVvpc|-mQH9DloKD8|IBqQWAjBgmE|LY0-Ya2YEoE|voQACEw_9EE|IiDQwQQsrL8|DomumdGQSg8|97cWs8tW8mY|NVOFmu2ZIqI|NfOPi0QO0FQ|gqHPYTUTToc|\n|hiSmlmXp-aU|       bravenewfilms|                                                  440.0|   Entertainment|         168|         653840|               4.43|              198|               377|      ED6YaRl93CE|IBqQWAjBgmE|EGzHBtoVvpc|2l6vwAIAqNU|g9e1alirMhc|-mQH9DloKD8|I4yKEK9o8gA|1GKaVzNDbuI|wnDATe6MPrg|WWqed9u6rr4|97cWs8tW8mY|q65SsORdRO8|DomumdGQSg8|0GXjcE4gy7g|\n+-----------+--------------------+-------------------------------------------------------+----------------+------------+---------------+-------------------+-----------------+------------------+-----------------+-----------+-----------+-----------+-----------+-----------+-----------+-----------+-----------+-----------+-----------+-----------+-----------+-----------+\nonly showing top 20 rows\n\n"
     ]
    }
   ],
   "source": [
    "df.show()"
   ]
  },
  {
   "cell_type": "code",
   "execution_count": 0,
   "metadata": {
    "application/vnd.databricks.v1+cell": {
     "cellMetadata": {
      "byteLimit": 2048000,
      "rowLimit": 10000
     },
     "inputWidgets": {},
     "nuid": "60f8d83a-178d-49e3-9112-e3d241638789",
     "showTitle": false,
     "title": ""
    }
   },
   "outputs": [],
   "source": [
    "from pyspark.sql.functions import concat_ws, col\n",
    "\n",
    "# Columns to combine: from _c10 to _c22\n",
    "columns_to_combine = [col(f'_c{i}') for i in range(10, 23)]\n",
    "\n",
    "# Combine all relevant columns into a single column called \"Related Video IDs\"\n",
    "df = df.withColumn(\"Related Video IDs\", concat_ws(\" \", *columns_to_combine))\n",
    "\n",
    "# Drop the original _c10 to _c22 columns\n",
    "columns_to_drop = [f'_c{i}' for i in range(10, 23)]\n",
    "df = df.drop(*columns_to_drop)"
   ]
  },
  {
   "cell_type": "code",
   "execution_count": 0,
   "metadata": {
    "application/vnd.databricks.v1+cell": {
     "cellMetadata": {
      "byteLimit": 2048000,
      "rowLimit": 10000
     },
     "inputWidgets": {},
     "nuid": "11c42f38-5462-4c2d-a9ab-85742d87780c",
     "showTitle": false,
     "title": ""
    }
   },
   "outputs": [
    {
     "output_type": "stream",
     "name": "stdout",
     "output_type": "stream",
     "text": [
      "+-----------+--------------------+-------------------------------------------------------+----------------+------------+---------------+-------------------+-----------------+------------------+--------------------+\n|   Video ID|      Video Uploader|Interval between YouTube Establishment and Video Upload|  Video Category|Video Length|Number of Views|Rating on the Video|Number of Ratings|Number of Comments|   Related Video IDs|\n+-----------+--------------------+-------------------------------------------------------+----------------+------------+---------------+-------------------+-----------------+------------------+--------------------+\n|QuRYeRnAuXM|EvilSquirrelPictures|                                                 1135.0|  Pets & Animals|         252|           1075|               4.96|               46|                86|nRcovJn9xHg 3TYqk...|\n|3TYqkBJ9YRk|              hggh22|                                                 1135.0|          Comedy|         169|            228|                5.0|                5|                 3|gFa1YMEJFag UEvVk...|\n|rSJ8QZWBegU|             TimeGem|                                                 1135.0|   Entertainment|          95|            356|               4.31|               13|                 1|gFa1YMEJFag UEvVk...|\n|nRcovJn9xHg|          wooochacha|                                                 1135.0|   Entertainment|         118|           1115|               2.23|               57|                73|gFa1YMEJFag UEvVk...|\n|UEvVksP91kg|            johnx113|                                                 1135.0|   Entertainment|          83|            281|               2.67|                9|                16|QuRYeRnAuXM 3TYqk...|\n|sVkuOk4jmCo|       marcosoycadiz|                                                 1135.0|  People & Blogs|          49|           1196|               3.67|                6|                 5|sLrWjhvCoW8 dergW...|\n|ZTopArY7Nbg|         TroyChannel|                                                 1136.0|   Entertainment|         145|             11|                0.0|                0|                 0|pQPhV1mzh-g NeIGd...|\n|0RViGi2Rne8|        OmnipotentSI|                                                 1135.0|   Entertainment|           9|            490|               2.31|               26|                15|nRcovJn9xHg 0TZqX...|\n|HT_QlOJbDpg|   dumbasstheredneck|                                                 1095.0|          Comedy|          14|           1349|               2.09|               22|                13|jVxz9wKEa3A mUoRI...|\n|ShhClb6J-NA|         thecrashguy|                                                 1136.0|   Entertainment|          61|             29|                0.0|                0|                 0|6DK-CJh6hTY SArJy...|\n|g9e1alirMhc|      iamdanielisaac|                                                  541.0|          Comedy|         152|         483053|               4.65|             2689|              2932|1GKaVzNDbuI Bd61L...|\n|YZev1imoxX8|     threefirstnames|                                                 1135.0|   Entertainment|         253|             63|                5.0|                3|                 2|-UvVtpmh4EQ Bzwpv...|\n|I4yKEK9o8gA|           djlogitek|                                                  964.0| News & Politics|         173|         106929|               4.39|             1010|              1484|1GKaVzNDbuI qCUYg...|\n|1GKaVzNDbuI|             fatvids|                                                  690.0|          Comedy|         176|        2464486|                4.5|            13342|             11997|g9e1alirMhc UrNqx...|\n|yuZhwV24PmM|          weneedhelp|                                                 1082.0| News & Politics|         213|          46183|               4.71|              280|               247|xq8aopATYyw g9e1a...|\n|zQ83d_D2MGs|   dumbasstheredneck|                                                 1095.0|          Comedy|          14|           1550|               1.57|               14|                 4|cdbp6rCVzRs gAHZ7...|\n|DomumdGQSg8|           imgrown18|                                                  910.0|          Comedy|         224|         392908|                4.8|             1261|               829|eOIFF_5ORGo n7rlp...|\n|pFUYi7dp1WU|      StanleyJenkins|                                                 1106.0|          Comedy|         200|         110272|               4.07|             1011|               482|ue5lVJuNlzQ AkjUO...|\n|2l6vwAIAqNU|        makemagazine|                                                  460.0|Film & Animation|         294|          71966|               4.07|              260|               229|hiSmlmXp-aU I4yKE...|\n|hiSmlmXp-aU|       bravenewfilms|                                                  440.0|   Entertainment|         168|         653840|               4.43|              198|               377|IBqQWAjBgmE EGzHB...|\n+-----------+--------------------+-------------------------------------------------------+----------------+------------+---------------+-------------------+-----------------+------------------+--------------------+\nonly showing top 20 rows\n\n"
     ]
    }
   ],
   "source": [
    "\n",
    "# Show the result\n",
    "df.show()"
   ]
  },
  {
   "cell_type": "code",
   "execution_count": 0,
   "metadata": {
    "application/vnd.databricks.v1+cell": {
     "cellMetadata": {
      "byteLimit": 2048000,
      "rowLimit": 10000
     },
     "inputWidgets": {},
     "nuid": "c043dff4-d948-47bf-9249-b7f14af76776",
     "showTitle": false,
     "title": ""
    }
   },
   "outputs": [],
   "source": [
    "\n",
    "from pyspark.sql.functions import col, regexp_replace\n",
    "\n",
    "# Replace spaces with commas in the 'final_column' column\n",
    "df = df.withColumn('Related Video IDs', regexp_replace(col('Related Video IDs'), ' ', ','))"
   ]
  },
  {
   "cell_type": "code",
   "execution_count": 0,
   "metadata": {
    "application/vnd.databricks.v1+cell": {
     "cellMetadata": {
      "byteLimit": 2048000,
      "rowLimit": 10000
     },
     "inputWidgets": {},
     "nuid": "d3b3b937-c9ec-45f2-bc6b-fbe9830c6470",
     "showTitle": false,
     "title": ""
    }
   },
   "outputs": [
    {
     "output_type": "execute_result",
     "data": {
      "text/html": [
       "<div>\n",
       "<style scoped>\n",
       "    .dataframe tbody tr th:only-of-type {\n",
       "        vertical-align: middle;\n",
       "    }\n",
       "\n",
       "    .dataframe tbody tr th {\n",
       "        vertical-align: top;\n",
       "    }\n",
       "\n",
       "    .dataframe thead th {\n",
       "        text-align: right;\n",
       "    }\n",
       "</style>\n",
       "<table border=\"1\" class=\"dataframe\">\n",
       "  <thead>\n",
       "    <tr style=\"text-align: right;\">\n",
       "      <th></th>\n",
       "      <th>Video ID</th>\n",
       "      <th>Video Uploader</th>\n",
       "      <th>Interval between YouTube Establishment and Video Upload</th>\n",
       "      <th>Video Category</th>\n",
       "      <th>Video Length</th>\n",
       "      <th>Number of Views</th>\n",
       "      <th>Rating on the Video</th>\n",
       "      <th>Number of Ratings</th>\n",
       "      <th>Number of Comments</th>\n",
       "      <th>Related Video IDs</th>\n",
       "    </tr>\n",
       "  </thead>\n",
       "  <tbody>\n",
       "    <tr>\n",
       "      <th>0</th>\n",
       "      <td>QuRYeRnAuXM</td>\n",
       "      <td>EvilSquirrelPictures</td>\n",
       "      <td>1135.0</td>\n",
       "      <td>Pets &amp; Animals</td>\n",
       "      <td>252.0</td>\n",
       "      <td>1075.0</td>\n",
       "      <td>4.96</td>\n",
       "      <td>46.0</td>\n",
       "      <td>86.0</td>\n",
       "      <td>nRcovJn9xHg,3TYqkBJ9YRk,rSJ8QZWBegU,0TZqX5MbXM...</td>\n",
       "    </tr>\n",
       "    <tr>\n",
       "      <th>1</th>\n",
       "      <td>3TYqkBJ9YRk</td>\n",
       "      <td>hggh22</td>\n",
       "      <td>1135.0</td>\n",
       "      <td>Comedy</td>\n",
       "      <td>169.0</td>\n",
       "      <td>228.0</td>\n",
       "      <td>5.00</td>\n",
       "      <td>5.0</td>\n",
       "      <td>3.0</td>\n",
       "      <td>gFa1YMEJFag,UEvVksP91kg,rSJ8QZWBegU,nRcovJn9xH...</td>\n",
       "    </tr>\n",
       "    <tr>\n",
       "      <th>2</th>\n",
       "      <td>rSJ8QZWBegU</td>\n",
       "      <td>TimeGem</td>\n",
       "      <td>1135.0</td>\n",
       "      <td>Entertainment</td>\n",
       "      <td>95.0</td>\n",
       "      <td>356.0</td>\n",
       "      <td>4.31</td>\n",
       "      <td>13.0</td>\n",
       "      <td>1.0</td>\n",
       "      <td>gFa1YMEJFag,UEvVksP91kg,3TYqkBJ9YRk,nRcovJn9xH...</td>\n",
       "    </tr>\n",
       "    <tr>\n",
       "      <th>3</th>\n",
       "      <td>nRcovJn9xHg</td>\n",
       "      <td>wooochacha</td>\n",
       "      <td>1135.0</td>\n",
       "      <td>Entertainment</td>\n",
       "      <td>118.0</td>\n",
       "      <td>1115.0</td>\n",
       "      <td>2.23</td>\n",
       "      <td>57.0</td>\n",
       "      <td>73.0</td>\n",
       "      <td>gFa1YMEJFag,UEvVksP91kg,3TYqkBJ9YRk,ZTopArY7Nb...</td>\n",
       "    </tr>\n",
       "    <tr>\n",
       "      <th>4</th>\n",
       "      <td>UEvVksP91kg</td>\n",
       "      <td>johnx113</td>\n",
       "      <td>1135.0</td>\n",
       "      <td>Entertainment</td>\n",
       "      <td>83.0</td>\n",
       "      <td>281.0</td>\n",
       "      <td>2.67</td>\n",
       "      <td>9.0</td>\n",
       "      <td>16.0</td>\n",
       "      <td>QuRYeRnAuXM,3TYqkBJ9YRk,0TZqX5MbXMA,rSJ8QZWBeg...</td>\n",
       "    </tr>\n",
       "    <tr>\n",
       "      <th>...</th>\n",
       "      <td>...</td>\n",
       "      <td>...</td>\n",
       "      <td>...</td>\n",
       "      <td>...</td>\n",
       "      <td>...</td>\n",
       "      <td>...</td>\n",
       "      <td>...</td>\n",
       "      <td>...</td>\n",
       "      <td>...</td>\n",
       "      <td>...</td>\n",
       "    </tr>\n",
       "    <tr>\n",
       "      <th>4095</th>\n",
       "      <td>esCvu46qDaA</td>\n",
       "      <td>RSMFD</td>\n",
       "      <td>863.0</td>\n",
       "      <td>Entertainment</td>\n",
       "      <td>63.0</td>\n",
       "      <td>116929.0</td>\n",
       "      <td>4.84</td>\n",
       "      <td>182.0</td>\n",
       "      <td>222.0</td>\n",
       "      <td>vOskZNJJII8,q3qdBVDZrmE,mLDLe024T_I,bhLbFGVduT...</td>\n",
       "    </tr>\n",
       "    <tr>\n",
       "      <th>4096</th>\n",
       "      <td>kOZ8bRAO7YQ</td>\n",
       "      <td>RockstarGames</td>\n",
       "      <td>0.0</td>\n",
       "      <td>UNA</td>\n",
       "      <td>63.0</td>\n",
       "      <td>199361.0</td>\n",
       "      <td>4.79</td>\n",
       "      <td>1256.0</td>\n",
       "      <td>2410.0</td>\n",
       "      <td></td>\n",
       "    </tr>\n",
       "    <tr>\n",
       "      <th>4097</th>\n",
       "      <td>GSsVZcKHues</td>\n",
       "      <td>GTASite</td>\n",
       "      <td>1024.0</td>\n",
       "      <td>Entertainment</td>\n",
       "      <td>123.0</td>\n",
       "      <td>486752.0</td>\n",
       "      <td>4.86</td>\n",
       "      <td>1098.0</td>\n",
       "      <td>1764.0</td>\n",
       "      <td>vOskZNJJII8,_X5nHLOiAVo,cNION6wGuso,5-reBn0gUk...</td>\n",
       "    </tr>\n",
       "    <tr>\n",
       "      <th>4098</th>\n",
       "      <td>foKRqJGcbPQ</td>\n",
       "      <td>scrambledeggsTV</td>\n",
       "      <td>1100.0</td>\n",
       "      <td>Entertainment</td>\n",
       "      <td>136.0</td>\n",
       "      <td>13115.0</td>\n",
       "      <td>4.45</td>\n",
       "      <td>33.0</td>\n",
       "      <td>37.0</td>\n",
       "      <td>_X5nHLOiAVo,5-reBn0gUkg,e8bEzU2Tx7c,e4yx1s-l6f...</td>\n",
       "    </tr>\n",
       "    <tr>\n",
       "      <th>4099</th>\n",
       "      <td>-CYhSNHbeC8</td>\n",
       "      <td>rehab07</td>\n",
       "      <td>771.0</td>\n",
       "      <td>Entertainment</td>\n",
       "      <td>186.0</td>\n",
       "      <td>103556.0</td>\n",
       "      <td>4.30</td>\n",
       "      <td>277.0</td>\n",
       "      <td>220.0</td>\n",
       "      <td>EOj-iWkcJPU,pg3j4IBMRZE,2GHiAEeFQs0,e4yx1s-l6f...</td>\n",
       "    </tr>\n",
       "  </tbody>\n",
       "</table>\n",
       "<p>4100 rows × 10 columns</p>\n",
       "</div>"
      ],
      "text/plain": [
       "         Video ID  ...                                  Related Video IDs\n",
       "0     QuRYeRnAuXM  ...  nRcovJn9xHg,3TYqkBJ9YRk,rSJ8QZWBegU,0TZqX5MbXM...\n",
       "1     3TYqkBJ9YRk  ...  gFa1YMEJFag,UEvVksP91kg,rSJ8QZWBegU,nRcovJn9xH...\n",
       "2     rSJ8QZWBegU  ...  gFa1YMEJFag,UEvVksP91kg,3TYqkBJ9YRk,nRcovJn9xH...\n",
       "3     nRcovJn9xHg  ...  gFa1YMEJFag,UEvVksP91kg,3TYqkBJ9YRk,ZTopArY7Nb...\n",
       "4     UEvVksP91kg  ...  QuRYeRnAuXM,3TYqkBJ9YRk,0TZqX5MbXMA,rSJ8QZWBeg...\n",
       "...           ...  ...                                                ...\n",
       "4095  esCvu46qDaA  ...  vOskZNJJII8,q3qdBVDZrmE,mLDLe024T_I,bhLbFGVduT...\n",
       "4096  kOZ8bRAO7YQ  ...                                                   \n",
       "4097  GSsVZcKHues  ...  vOskZNJJII8,_X5nHLOiAVo,cNION6wGuso,5-reBn0gUk...\n",
       "4098  foKRqJGcbPQ  ...  _X5nHLOiAVo,5-reBn0gUkg,e8bEzU2Tx7c,e4yx1s-l6f...\n",
       "4099  -CYhSNHbeC8  ...  EOj-iWkcJPU,pg3j4IBMRZE,2GHiAEeFQs0,e4yx1s-l6f...\n",
       "\n",
       "[4100 rows x 10 columns]"
      ]
     },
     "execution_count": 111,
     "metadata": {},
     "output_type": "execute_result"
    }
   ],
   "source": [
    "df.toPandas()"
   ]
  },
  {
   "cell_type": "code",
   "execution_count": 0,
   "metadata": {
    "application/vnd.databricks.v1+cell": {
     "cellMetadata": {
      "byteLimit": 2048000,
      "rowLimit": 10000
     },
     "inputWidgets": {},
     "nuid": "1937ea4c-2ad4-478c-abf2-1ab6f6a8292d",
     "showTitle": false,
     "title": ""
    }
   },
   "outputs": [
    {
     "output_type": "execute_result",
     "data": {
      "text/plain": [
       "4100"
      ]
     },
     "execution_count": 112,
     "metadata": {},
     "output_type": "execute_result"
    }
   ],
   "source": [
    "df.count()"
   ]
  },
  {
   "cell_type": "code",
   "execution_count": 0,
   "metadata": {
    "application/vnd.databricks.v1+cell": {
     "cellMetadata": {
      "byteLimit": 2048000,
      "rowLimit": 10000
     },
     "inputWidgets": {},
     "nuid": "07d90758-a95b-4a03-b23d-4cbd1e167158",
     "showTitle": false,
     "title": ""
    }
   },
   "outputs": [],
   "source": [
    "# Drop Null Values "
   ]
  },
  {
   "cell_type": "code",
   "execution_count": 0,
   "metadata": {
    "application/vnd.databricks.v1+cell": {
     "cellMetadata": {
      "byteLimit": 2048000,
      "rowLimit": 10000
     },
     "inputWidgets": {},
     "nuid": "559ec36e-221b-4a99-9255-9d011df362cd",
     "showTitle": false,
     "title": ""
    }
   },
   "outputs": [],
   "source": [
    "df_cleaned=df.dropna(how=\"any\")"
   ]
  },
  {
   "cell_type": "code",
   "execution_count": 0,
   "metadata": {
    "application/vnd.databricks.v1+cell": {
     "cellMetadata": {
      "byteLimit": 2048000,
      "rowLimit": 10000
     },
     "inputWidgets": {},
     "nuid": "6d2a9fcc-8478-48cf-9881-f2e64c394828",
     "showTitle": false,
     "title": ""
    }
   },
   "outputs": [
    {
     "output_type": "execute_result",
     "data": {
      "text/plain": [
       "4066"
      ]
     },
     "execution_count": 115,
     "metadata": {},
     "output_type": "execute_result"
    }
   ],
   "source": [
    "df_cleaned.count()"
   ]
  },
  {
   "cell_type": "code",
   "execution_count": 0,
   "metadata": {
    "application/vnd.databricks.v1+cell": {
     "cellMetadata": {
      "byteLimit": 2048000,
      "rowLimit": 10000
     },
     "inputWidgets": {},
     "nuid": "2c345204-5387-4a93-b6ef-5c74b649a943",
     "showTitle": false,
     "title": ""
    }
   },
   "outputs": [
    {
     "output_type": "stream",
     "name": "stdout",
     "output_type": "stream",
     "text": [
      "root\n |-- Video ID: string (nullable = true)\n |-- Video Uploader: string (nullable = true)\n |-- Interval between YouTube Establishment and Video Upload: double (nullable = true)\n |-- Video Category: string (nullable = true)\n |-- Video Length: integer (nullable = true)\n |-- Number of Views: integer (nullable = true)\n |-- Rating on the Video: double (nullable = true)\n |-- Number of Ratings: integer (nullable = true)\n |-- Number of Comments: integer (nullable = true)\n |-- Related Video IDs: string (nullable = false)\n\n"
     ]
    }
   ],
   "source": [
    "df_cleaned.printSchema()"
   ]
  },
  {
   "cell_type": "code",
   "execution_count": 0,
   "metadata": {
    "application/vnd.databricks.v1+cell": {
     "cellMetadata": {
      "byteLimit": 2048000,
      "rowLimit": 10000
     },
     "inputWidgets": {},
     "nuid": "80c3f7fb-d836-4850-8742-967ab58411e1",
     "showTitle": false,
     "title": ""
    }
   },
   "outputs": [],
   "source": [
    "data=df_cleaned"
   ]
  },
  {
   "cell_type": "code",
   "execution_count": 0,
   "metadata": {
    "application/vnd.databricks.v1+cell": {
     "cellMetadata": {
      "byteLimit": 2048000,
      "rowLimit": 10000
     },
     "inputWidgets": {},
     "nuid": "d2cfc050-e356-4c4e-bc4b-67991284a782",
     "showTitle": false,
     "title": ""
    }
   },
   "outputs": [
    {
     "output_type": "execute_result",
     "data": {
      "text/plain": [
       "4066"
      ]
     },
     "execution_count": 118,
     "metadata": {},
     "output_type": "execute_result"
    }
   ],
   "source": [
    "data.count()"
   ]
  },
  {
   "cell_type": "code",
   "execution_count": 0,
   "metadata": {
    "application/vnd.databricks.v1+cell": {
     "cellMetadata": {
      "byteLimit": 2048000,
      "rowLimit": 10000
     },
     "inputWidgets": {},
     "nuid": "34d43ae8-1357-4292-84ec-9c36fac4c4fc",
     "showTitle": false,
     "title": ""
    }
   },
   "outputs": [
    {
     "output_type": "execute_result",
     "data": {
      "text/html": [
       "<div>\n",
       "<style scoped>\n",
       "    .dataframe tbody tr th:only-of-type {\n",
       "        vertical-align: middle;\n",
       "    }\n",
       "\n",
       "    .dataframe tbody tr th {\n",
       "        vertical-align: top;\n",
       "    }\n",
       "\n",
       "    .dataframe thead th {\n",
       "        text-align: right;\n",
       "    }\n",
       "</style>\n",
       "<table border=\"1\" class=\"dataframe\">\n",
       "  <thead>\n",
       "    <tr style=\"text-align: right;\">\n",
       "      <th></th>\n",
       "      <th>Video ID</th>\n",
       "      <th>Video Uploader</th>\n",
       "      <th>Interval between YouTube Establishment and Video Upload</th>\n",
       "      <th>Video Category</th>\n",
       "      <th>Video Length</th>\n",
       "      <th>Number of Views</th>\n",
       "      <th>Rating on the Video</th>\n",
       "      <th>Number of Ratings</th>\n",
       "      <th>Number of Comments</th>\n",
       "      <th>Related Video IDs</th>\n",
       "    </tr>\n",
       "  </thead>\n",
       "  <tbody>\n",
       "    <tr>\n",
       "      <th>0</th>\n",
       "      <td>QuRYeRnAuXM</td>\n",
       "      <td>EvilSquirrelPictures</td>\n",
       "      <td>1135.0</td>\n",
       "      <td>Pets &amp; Animals</td>\n",
       "      <td>252</td>\n",
       "      <td>1075</td>\n",
       "      <td>4.96</td>\n",
       "      <td>46</td>\n",
       "      <td>86</td>\n",
       "      <td>nRcovJn9xHg,3TYqkBJ9YRk,rSJ8QZWBegU,0TZqX5MbXM...</td>\n",
       "    </tr>\n",
       "    <tr>\n",
       "      <th>1</th>\n",
       "      <td>3TYqkBJ9YRk</td>\n",
       "      <td>hggh22</td>\n",
       "      <td>1135.0</td>\n",
       "      <td>Comedy</td>\n",
       "      <td>169</td>\n",
       "      <td>228</td>\n",
       "      <td>5.00</td>\n",
       "      <td>5</td>\n",
       "      <td>3</td>\n",
       "      <td>gFa1YMEJFag,UEvVksP91kg,rSJ8QZWBegU,nRcovJn9xH...</td>\n",
       "    </tr>\n",
       "    <tr>\n",
       "      <th>2</th>\n",
       "      <td>rSJ8QZWBegU</td>\n",
       "      <td>TimeGem</td>\n",
       "      <td>1135.0</td>\n",
       "      <td>Entertainment</td>\n",
       "      <td>95</td>\n",
       "      <td>356</td>\n",
       "      <td>4.31</td>\n",
       "      <td>13</td>\n",
       "      <td>1</td>\n",
       "      <td>gFa1YMEJFag,UEvVksP91kg,3TYqkBJ9YRk,nRcovJn9xH...</td>\n",
       "    </tr>\n",
       "    <tr>\n",
       "      <th>3</th>\n",
       "      <td>nRcovJn9xHg</td>\n",
       "      <td>wooochacha</td>\n",
       "      <td>1135.0</td>\n",
       "      <td>Entertainment</td>\n",
       "      <td>118</td>\n",
       "      <td>1115</td>\n",
       "      <td>2.23</td>\n",
       "      <td>57</td>\n",
       "      <td>73</td>\n",
       "      <td>gFa1YMEJFag,UEvVksP91kg,3TYqkBJ9YRk,ZTopArY7Nb...</td>\n",
       "    </tr>\n",
       "    <tr>\n",
       "      <th>4</th>\n",
       "      <td>UEvVksP91kg</td>\n",
       "      <td>johnx113</td>\n",
       "      <td>1135.0</td>\n",
       "      <td>Entertainment</td>\n",
       "      <td>83</td>\n",
       "      <td>281</td>\n",
       "      <td>2.67</td>\n",
       "      <td>9</td>\n",
       "      <td>16</td>\n",
       "      <td>QuRYeRnAuXM,3TYqkBJ9YRk,0TZqX5MbXMA,rSJ8QZWBeg...</td>\n",
       "    </tr>\n",
       "    <tr>\n",
       "      <th>...</th>\n",
       "      <td>...</td>\n",
       "      <td>...</td>\n",
       "      <td>...</td>\n",
       "      <td>...</td>\n",
       "      <td>...</td>\n",
       "      <td>...</td>\n",
       "      <td>...</td>\n",
       "      <td>...</td>\n",
       "      <td>...</td>\n",
       "      <td>...</td>\n",
       "    </tr>\n",
       "    <tr>\n",
       "      <th>4061</th>\n",
       "      <td>esCvu46qDaA</td>\n",
       "      <td>RSMFD</td>\n",
       "      <td>863.0</td>\n",
       "      <td>Entertainment</td>\n",
       "      <td>63</td>\n",
       "      <td>116929</td>\n",
       "      <td>4.84</td>\n",
       "      <td>182</td>\n",
       "      <td>222</td>\n",
       "      <td>vOskZNJJII8,q3qdBVDZrmE,mLDLe024T_I,bhLbFGVduT...</td>\n",
       "    </tr>\n",
       "    <tr>\n",
       "      <th>4062</th>\n",
       "      <td>kOZ8bRAO7YQ</td>\n",
       "      <td>RockstarGames</td>\n",
       "      <td>0.0</td>\n",
       "      <td>UNA</td>\n",
       "      <td>63</td>\n",
       "      <td>199361</td>\n",
       "      <td>4.79</td>\n",
       "      <td>1256</td>\n",
       "      <td>2410</td>\n",
       "      <td></td>\n",
       "    </tr>\n",
       "    <tr>\n",
       "      <th>4063</th>\n",
       "      <td>GSsVZcKHues</td>\n",
       "      <td>GTASite</td>\n",
       "      <td>1024.0</td>\n",
       "      <td>Entertainment</td>\n",
       "      <td>123</td>\n",
       "      <td>486752</td>\n",
       "      <td>4.86</td>\n",
       "      <td>1098</td>\n",
       "      <td>1764</td>\n",
       "      <td>vOskZNJJII8,_X5nHLOiAVo,cNION6wGuso,5-reBn0gUk...</td>\n",
       "    </tr>\n",
       "    <tr>\n",
       "      <th>4064</th>\n",
       "      <td>foKRqJGcbPQ</td>\n",
       "      <td>scrambledeggsTV</td>\n",
       "      <td>1100.0</td>\n",
       "      <td>Entertainment</td>\n",
       "      <td>136</td>\n",
       "      <td>13115</td>\n",
       "      <td>4.45</td>\n",
       "      <td>33</td>\n",
       "      <td>37</td>\n",
       "      <td>_X5nHLOiAVo,5-reBn0gUkg,e8bEzU2Tx7c,e4yx1s-l6f...</td>\n",
       "    </tr>\n",
       "    <tr>\n",
       "      <th>4065</th>\n",
       "      <td>-CYhSNHbeC8</td>\n",
       "      <td>rehab07</td>\n",
       "      <td>771.0</td>\n",
       "      <td>Entertainment</td>\n",
       "      <td>186</td>\n",
       "      <td>103556</td>\n",
       "      <td>4.30</td>\n",
       "      <td>277</td>\n",
       "      <td>220</td>\n",
       "      <td>EOj-iWkcJPU,pg3j4IBMRZE,2GHiAEeFQs0,e4yx1s-l6f...</td>\n",
       "    </tr>\n",
       "  </tbody>\n",
       "</table>\n",
       "<p>4066 rows × 10 columns</p>\n",
       "</div>"
      ],
      "text/plain": [
       "         Video ID  ...                                  Related Video IDs\n",
       "0     QuRYeRnAuXM  ...  nRcovJn9xHg,3TYqkBJ9YRk,rSJ8QZWBegU,0TZqX5MbXM...\n",
       "1     3TYqkBJ9YRk  ...  gFa1YMEJFag,UEvVksP91kg,rSJ8QZWBegU,nRcovJn9xH...\n",
       "2     rSJ8QZWBegU  ...  gFa1YMEJFag,UEvVksP91kg,3TYqkBJ9YRk,nRcovJn9xH...\n",
       "3     nRcovJn9xHg  ...  gFa1YMEJFag,UEvVksP91kg,3TYqkBJ9YRk,ZTopArY7Nb...\n",
       "4     UEvVksP91kg  ...  QuRYeRnAuXM,3TYqkBJ9YRk,0TZqX5MbXMA,rSJ8QZWBeg...\n",
       "...           ...  ...                                                ...\n",
       "4061  esCvu46qDaA  ...  vOskZNJJII8,q3qdBVDZrmE,mLDLe024T_I,bhLbFGVduT...\n",
       "4062  kOZ8bRAO7YQ  ...                                                   \n",
       "4063  GSsVZcKHues  ...  vOskZNJJII8,_X5nHLOiAVo,cNION6wGuso,5-reBn0gUk...\n",
       "4064  foKRqJGcbPQ  ...  _X5nHLOiAVo,5-reBn0gUkg,e8bEzU2Tx7c,e4yx1s-l6f...\n",
       "4065  -CYhSNHbeC8  ...  EOj-iWkcJPU,pg3j4IBMRZE,2GHiAEeFQs0,e4yx1s-l6f...\n",
       "\n",
       "[4066 rows x 10 columns]"
      ]
     },
     "execution_count": 119,
     "metadata": {},
     "output_type": "execute_result"
    }
   ],
   "source": [
    "data.toPandas()"
   ]
  },
  {
   "cell_type": "code",
   "execution_count": 0,
   "metadata": {
    "application/vnd.databricks.v1+cell": {
     "cellMetadata": {
      "byteLimit": 2048000,
      "rowLimit": 10000
     },
     "inputWidgets": {},
     "nuid": "0230ed95-b4c1-4c6e-80e9-ee21599a1bfd",
     "showTitle": false,
     "title": ""
    }
   },
   "outputs": [
    {
     "output_type": "execute_result",
     "data": {
      "text/html": [
       "<div>\n",
       "<style scoped>\n",
       "    .dataframe tbody tr th:only-of-type {\n",
       "        vertical-align: middle;\n",
       "    }\n",
       "\n",
       "    .dataframe tbody tr th {\n",
       "        vertical-align: top;\n",
       "    }\n",
       "\n",
       "    .dataframe thead th {\n",
       "        text-align: right;\n",
       "    }\n",
       "</style>\n",
       "<table border=\"1\" class=\"dataframe\">\n",
       "  <thead>\n",
       "    <tr style=\"text-align: right;\">\n",
       "      <th></th>\n",
       "      <th>summary</th>\n",
       "      <th>Video ID</th>\n",
       "      <th>Video Uploader</th>\n",
       "      <th>Interval between YouTube Establishment and Video Upload</th>\n",
       "      <th>Video Category</th>\n",
       "      <th>Video Length</th>\n",
       "      <th>Number of Views</th>\n",
       "      <th>Rating on the Video</th>\n",
       "      <th>Number of Ratings</th>\n",
       "      <th>Number of Comments</th>\n",
       "      <th>Related Video IDs</th>\n",
       "    </tr>\n",
       "  </thead>\n",
       "  <tbody>\n",
       "    <tr>\n",
       "      <th>0</th>\n",
       "      <td>count</td>\n",
       "      <td>4066</td>\n",
       "      <td>4066</td>\n",
       "      <td>4066</td>\n",
       "      <td>4066</td>\n",
       "      <td>4066</td>\n",
       "      <td>4066</td>\n",
       "      <td>4066</td>\n",
       "      <td>4066</td>\n",
       "      <td>4066</td>\n",
       "      <td>4066</td>\n",
       "    </tr>\n",
       "    <tr>\n",
       "      <th>1</th>\n",
       "      <td>mean</td>\n",
       "      <td>None</td>\n",
       "      <td>1.5376751983333333E9</td>\n",
       "      <td>956.7144613871127</td>\n",
       "      <td>None</td>\n",
       "      <td>232.90629611411705</td>\n",
       "      <td>194695.10944417116</td>\n",
       "      <td>3.7562592228234193</td>\n",
       "      <td>588.5696015740285</td>\n",
       "      <td>534.873831775701</td>\n",
       "      <td>None</td>\n",
       "    </tr>\n",
       "    <tr>\n",
       "      <th>2</th>\n",
       "      <td>stddev</td>\n",
       "      <td>None</td>\n",
       "      <td>3.76562331151571E9</td>\n",
       "      <td>214.1813221148061</td>\n",
       "      <td>None</td>\n",
       "      <td>219.475672454187</td>\n",
       "      <td>1488250.2854682289</td>\n",
       "      <td>1.6787591038040397</td>\n",
       "      <td>3767.893776063847</td>\n",
       "      <td>5032.528303622292</td>\n",
       "      <td>None</td>\n",
       "    </tr>\n",
       "    <tr>\n",
       "      <th>3</th>\n",
       "      <td>min</td>\n",
       "      <td>-08YZF87OBQ</td>\n",
       "      <td>000ILoveNaruto000</td>\n",
       "      <td>0.0</td>\n",
       "      <td>UNA</td>\n",
       "      <td>1</td>\n",
       "      <td>0</td>\n",
       "      <td>0.0</td>\n",
       "      <td>0</td>\n",
       "      <td>0</td>\n",
       "      <td></td>\n",
       "    </tr>\n",
       "    <tr>\n",
       "      <th>4</th>\n",
       "      <td>max</td>\n",
       "      <td>zzlDKaXAIgE</td>\n",
       "      <td>zzzzzzzzap</td>\n",
       "      <td>1136.0</td>\n",
       "      <td>Travel &amp; Events</td>\n",
       "      <td>5202</td>\n",
       "      <td>65341925</td>\n",
       "      <td>5.0</td>\n",
       "      <td>122129</td>\n",
       "      <td>259683</td>\n",
       "      <td>zzlDKaXAIgE,e_Oun_GTKDo,4ira1eUOQGY,RWS45QqP1l...</td>\n",
       "    </tr>\n",
       "  </tbody>\n",
       "</table>\n",
       "</div>"
      ],
      "text/plain": [
       "  summary  ...                                  Related Video IDs\n",
       "0   count  ...                                               4066\n",
       "1    mean  ...                                               None\n",
       "2  stddev  ...                                               None\n",
       "3     min  ...                                                   \n",
       "4     max  ...  zzlDKaXAIgE,e_Oun_GTKDo,4ira1eUOQGY,RWS45QqP1l...\n",
       "\n",
       "[5 rows x 11 columns]"
      ]
     },
     "execution_count": 120,
     "metadata": {},
     "output_type": "execute_result"
    }
   ],
   "source": [
    "data.describe().toPandas()"
   ]
  },
  {
   "cell_type": "code",
   "execution_count": 0,
   "metadata": {
    "application/vnd.databricks.v1+cell": {
     "cellMetadata": {
      "byteLimit": 2048000,
      "rowLimit": 10000
     },
     "inputWidgets": {},
     "nuid": "4302dcf8-c79b-40a3-8a7d-bcd16adcfaec",
     "showTitle": false,
     "title": ""
    }
   },
   "outputs": [
    {
     "output_type": "execute_result",
     "data": {
      "text/plain": [
       "0"
      ]
     },
     "execution_count": 121,
     "metadata": {},
     "output_type": "execute_result"
    }
   ],
   "source": [
    "null_count=data.filter(data[\"Related Video IDs\"].isNull()).count()\n",
    "null_count"
   ]
  },
  {
   "cell_type": "code",
   "execution_count": 0,
   "metadata": {
    "application/vnd.databricks.v1+cell": {
     "cellMetadata": {
      "byteLimit": 2048000,
      "rowLimit": 10000
     },
     "inputWidgets": {},
     "nuid": "d5f6589c-a698-4151-ad01-c995ad79e942",
     "showTitle": false,
     "title": ""
    }
   },
   "outputs": [
    {
     "output_type": "execute_result",
     "data": {
      "text/html": [
       "<div>\n",
       "<style scoped>\n",
       "    .dataframe tbody tr th:only-of-type {\n",
       "        vertical-align: middle;\n",
       "    }\n",
       "\n",
       "    .dataframe tbody tr th {\n",
       "        vertical-align: top;\n",
       "    }\n",
       "\n",
       "    .dataframe thead th {\n",
       "        text-align: right;\n",
       "    }\n",
       "</style>\n",
       "<table border=\"1\" class=\"dataframe\">\n",
       "  <thead>\n",
       "    <tr style=\"text-align: right;\">\n",
       "      <th></th>\n",
       "      <th>Related Video IDs</th>\n",
       "    </tr>\n",
       "  </thead>\n",
       "  <tbody>\n",
       "    <tr>\n",
       "      <th>0</th>\n",
       "      <td>nRcovJn9xHg,3TYqkBJ9YRk,rSJ8QZWBegU,0TZqX5MbXM...</td>\n",
       "    </tr>\n",
       "    <tr>\n",
       "      <th>1</th>\n",
       "      <td>gFa1YMEJFag,UEvVksP91kg,rSJ8QZWBegU,nRcovJn9xH...</td>\n",
       "    </tr>\n",
       "    <tr>\n",
       "      <th>2</th>\n",
       "      <td>gFa1YMEJFag,UEvVksP91kg,3TYqkBJ9YRk,nRcovJn9xH...</td>\n",
       "    </tr>\n",
       "    <tr>\n",
       "      <th>3</th>\n",
       "      <td>gFa1YMEJFag,UEvVksP91kg,3TYqkBJ9YRk,ZTopArY7Nb...</td>\n",
       "    </tr>\n",
       "    <tr>\n",
       "      <th>4</th>\n",
       "      <td>QuRYeRnAuXM,3TYqkBJ9YRk,0TZqX5MbXMA,rSJ8QZWBeg...</td>\n",
       "    </tr>\n",
       "    <tr>\n",
       "      <th>...</th>\n",
       "      <td>...</td>\n",
       "    </tr>\n",
       "    <tr>\n",
       "      <th>4061</th>\n",
       "      <td>vOskZNJJII8,q3qdBVDZrmE,mLDLe024T_I,bhLbFGVduT...</td>\n",
       "    </tr>\n",
       "    <tr>\n",
       "      <th>4062</th>\n",
       "      <td></td>\n",
       "    </tr>\n",
       "    <tr>\n",
       "      <th>4063</th>\n",
       "      <td>vOskZNJJII8,_X5nHLOiAVo,cNION6wGuso,5-reBn0gUk...</td>\n",
       "    </tr>\n",
       "    <tr>\n",
       "      <th>4064</th>\n",
       "      <td>_X5nHLOiAVo,5-reBn0gUkg,e8bEzU2Tx7c,e4yx1s-l6f...</td>\n",
       "    </tr>\n",
       "    <tr>\n",
       "      <th>4065</th>\n",
       "      <td>EOj-iWkcJPU,pg3j4IBMRZE,2GHiAEeFQs0,e4yx1s-l6f...</td>\n",
       "    </tr>\n",
       "  </tbody>\n",
       "</table>\n",
       "<p>4066 rows × 1 columns</p>\n",
       "</div>"
      ],
      "text/plain": [
       "                                      Related Video IDs\n",
       "0     nRcovJn9xHg,3TYqkBJ9YRk,rSJ8QZWBegU,0TZqX5MbXM...\n",
       "1     gFa1YMEJFag,UEvVksP91kg,rSJ8QZWBegU,nRcovJn9xH...\n",
       "2     gFa1YMEJFag,UEvVksP91kg,3TYqkBJ9YRk,nRcovJn9xH...\n",
       "3     gFa1YMEJFag,UEvVksP91kg,3TYqkBJ9YRk,ZTopArY7Nb...\n",
       "4     QuRYeRnAuXM,3TYqkBJ9YRk,0TZqX5MbXMA,rSJ8QZWBeg...\n",
       "...                                                 ...\n",
       "4061  vOskZNJJII8,q3qdBVDZrmE,mLDLe024T_I,bhLbFGVduT...\n",
       "4062                                                   \n",
       "4063  vOskZNJJII8,_X5nHLOiAVo,cNION6wGuso,5-reBn0gUk...\n",
       "4064  _X5nHLOiAVo,5-reBn0gUkg,e8bEzU2Tx7c,e4yx1s-l6f...\n",
       "4065  EOj-iWkcJPU,pg3j4IBMRZE,2GHiAEeFQs0,e4yx1s-l6f...\n",
       "\n",
       "[4066 rows x 1 columns]"
      ]
     },
     "execution_count": 122,
     "metadata": {},
     "output_type": "execute_result"
    }
   ],
   "source": [
    "data.select('Related Video IDs').toPandas()"
   ]
  },
  {
   "cell_type": "code",
   "execution_count": 0,
   "metadata": {
    "application/vnd.databricks.v1+cell": {
     "cellMetadata": {
      "byteLimit": 2048000,
      "rowLimit": 10000
     },
     "inputWidgets": {},
     "nuid": "9bad5ac5-a404-4057-a1e8-8419ace69272",
     "showTitle": false,
     "title": ""
    }
   },
   "outputs": [
    {
     "output_type": "execute_result",
     "data": {
      "text/plain": [
       "827"
      ]
     },
     "execution_count": 123,
     "metadata": {},
     "output_type": "execute_result"
    }
   ],
   "source": [
    "data[data['Related Video IDs']==''].count()"
   ]
  },
  {
   "cell_type": "code",
   "execution_count": 0,
   "metadata": {
    "application/vnd.databricks.v1+cell": {
     "cellMetadata": {
      "byteLimit": 2048000,
      "rowLimit": 10000
     },
     "inputWidgets": {},
     "nuid": "091d7f8d-1051-4126-8151-4cf043511938",
     "showTitle": false,
     "title": ""
    }
   },
   "outputs": [],
   "source": [
    "# Replace empty strings with null in 'Related Video IDs'\n",
    "data_cleaned = data.withColumn(\n",
    "    'Related Video IDs',\n",
    "    when(col('Related Video IDs') == '', None).otherwise(col('Related Video IDs'))\n",
    ")"
   ]
  },
  {
   "cell_type": "code",
   "execution_count": 0,
   "metadata": {
    "application/vnd.databricks.v1+cell": {
     "cellMetadata": {
      "byteLimit": 2048000,
      "rowLimit": 10000
     },
     "inputWidgets": {},
     "nuid": "80dce373-12ca-421d-b461-f69c58da3781",
     "showTitle": false,
     "title": ""
    }
   },
   "outputs": [
    {
     "output_type": "execute_result",
     "data": {
      "text/plain": [
       "0"
      ]
     },
     "execution_count": 125,
     "metadata": {},
     "output_type": "execute_result"
    }
   ],
   "source": [
    "data_cleaned[data_cleaned['Related Video IDs']==''].count()"
   ]
  },
  {
   "cell_type": "code",
   "execution_count": 0,
   "metadata": {
    "application/vnd.databricks.v1+cell": {
     "cellMetadata": {
      "byteLimit": 2048000,
      "rowLimit": 10000
     },
     "inputWidgets": {},
     "nuid": "9b51c18c-48df-4749-a5a8-34b6b1532851",
     "showTitle": false,
     "title": ""
    }
   },
   "outputs": [],
   "source": [
    "data=data_cleaned"
   ]
  },
  {
   "cell_type": "code",
   "execution_count": 0,
   "metadata": {
    "application/vnd.databricks.v1+cell": {
     "cellMetadata": {
      "byteLimit": 2048000,
      "rowLimit": 10000
     },
     "inputWidgets": {},
     "nuid": "b92ba7bb-3975-48a5-af60-8e8371950d9d",
     "showTitle": false,
     "title": ""
    }
   },
   "outputs": [
    {
     "output_type": "execute_result",
     "data": {
      "text/plain": [
       "4066"
      ]
     },
     "execution_count": 127,
     "metadata": {},
     "output_type": "execute_result"
    }
   ],
   "source": [
    "data.count()"
   ]
  },
  {
   "cell_type": "code",
   "execution_count": 0,
   "metadata": {
    "application/vnd.databricks.v1+cell": {
     "cellMetadata": {
      "byteLimit": 2048000,
      "rowLimit": 10000
     },
     "inputWidgets": {},
     "nuid": "7b664275-c2f8-42dd-bcd7-ebc0fbf51915",
     "showTitle": false,
     "title": ""
    }
   },
   "outputs": [
    {
     "output_type": "execute_result",
     "data": {
      "text/plain": [
       "DataFrame[Video ID: string, Video Uploader: string, Interval between YouTube Establishment and Video Upload: double, Video Category: string, Video Length: int, Number of Views: int, Rating on the Video: double, Number of Ratings: int, Number of Comments: int, Related Video IDs: string]"
      ]
     },
     "execution_count": 128,
     "metadata": {},
     "output_type": "execute_result"
    }
   ],
   "source": [
    "data.dropna()"
   ]
  },
  {
   "cell_type": "code",
   "execution_count": 0,
   "metadata": {
    "application/vnd.databricks.v1+cell": {
     "cellMetadata": {
      "byteLimit": 2048000,
      "rowLimit": 10000
     },
     "inputWidgets": {},
     "nuid": "6ea3a24d-d4dd-464a-bef1-0189fd5974ea",
     "showTitle": false,
     "title": ""
    }
   },
   "outputs": [
    {
     "output_type": "execute_result",
     "data": {
      "text/plain": [
       "4066"
      ]
     },
     "execution_count": 129,
     "metadata": {},
     "output_type": "execute_result"
    }
   ],
   "source": [
    "data.count()"
   ]
  },
  {
   "cell_type": "code",
   "execution_count": 0,
   "metadata": {
    "application/vnd.databricks.v1+cell": {
     "cellMetadata": {
      "byteLimit": 2048000,
      "rowLimit": 10000
     },
     "inputWidgets": {},
     "nuid": "bd35016c-10d8-484b-b371-075f36b3baed",
     "showTitle": false,
     "title": ""
    }
   },
   "outputs": [],
   "source": [
    "data = data.filter(col('Related Video IDs').isNotNull())"
   ]
  },
  {
   "cell_type": "code",
   "execution_count": 0,
   "metadata": {
    "application/vnd.databricks.v1+cell": {
     "cellMetadata": {
      "byteLimit": 2048000,
      "rowLimit": 10000
     },
     "inputWidgets": {},
     "nuid": "9ed47cda-4c7a-4527-ab14-b22389fc69af",
     "showTitle": false,
     "title": ""
    }
   },
   "outputs": [
    {
     "output_type": "execute_result",
     "data": {
      "text/plain": [
       "3239"
      ]
     },
     "execution_count": 131,
     "metadata": {},
     "output_type": "execute_result"
    }
   ],
   "source": [
    "data.count()"
   ]
  },
  {
   "cell_type": "code",
   "execution_count": 0,
   "metadata": {
    "application/vnd.databricks.v1+cell": {
     "cellMetadata": {
      "byteLimit": 2048000,
      "rowLimit": 10000
     },
     "inputWidgets": {},
     "nuid": "90641120-4a23-403f-8850-84e6f983b492",
     "showTitle": false,
     "title": ""
    }
   },
   "outputs": [
    {
     "output_type": "execute_result",
     "data": {
      "text/html": [
       "<div>\n",
       "<style scoped>\n",
       "    .dataframe tbody tr th:only-of-type {\n",
       "        vertical-align: middle;\n",
       "    }\n",
       "\n",
       "    .dataframe tbody tr th {\n",
       "        vertical-align: top;\n",
       "    }\n",
       "\n",
       "    .dataframe thead th {\n",
       "        text-align: right;\n",
       "    }\n",
       "</style>\n",
       "<table border=\"1\" class=\"dataframe\">\n",
       "  <thead>\n",
       "    <tr style=\"text-align: right;\">\n",
       "      <th></th>\n",
       "      <th>Video ID</th>\n",
       "      <th>Video Uploader</th>\n",
       "      <th>Interval between YouTube Establishment and Video Upload</th>\n",
       "      <th>Video Category</th>\n",
       "      <th>Video Length</th>\n",
       "      <th>Number of Views</th>\n",
       "      <th>Rating on the Video</th>\n",
       "      <th>Number of Ratings</th>\n",
       "      <th>Number of Comments</th>\n",
       "      <th>Related Video IDs</th>\n",
       "    </tr>\n",
       "  </thead>\n",
       "  <tbody>\n",
       "    <tr>\n",
       "      <th>0</th>\n",
       "      <td>QuRYeRnAuXM</td>\n",
       "      <td>EvilSquirrelPictures</td>\n",
       "      <td>1135.0</td>\n",
       "      <td>Pets &amp; Animals</td>\n",
       "      <td>252</td>\n",
       "      <td>1075</td>\n",
       "      <td>4.96</td>\n",
       "      <td>46</td>\n",
       "      <td>86</td>\n",
       "      <td>nRcovJn9xHg,3TYqkBJ9YRk,rSJ8QZWBegU,0TZqX5MbXM...</td>\n",
       "    </tr>\n",
       "    <tr>\n",
       "      <th>1</th>\n",
       "      <td>3TYqkBJ9YRk</td>\n",
       "      <td>hggh22</td>\n",
       "      <td>1135.0</td>\n",
       "      <td>Comedy</td>\n",
       "      <td>169</td>\n",
       "      <td>228</td>\n",
       "      <td>5.00</td>\n",
       "      <td>5</td>\n",
       "      <td>3</td>\n",
       "      <td>gFa1YMEJFag,UEvVksP91kg,rSJ8QZWBegU,nRcovJn9xH...</td>\n",
       "    </tr>\n",
       "    <tr>\n",
       "      <th>2</th>\n",
       "      <td>rSJ8QZWBegU</td>\n",
       "      <td>TimeGem</td>\n",
       "      <td>1135.0</td>\n",
       "      <td>Entertainment</td>\n",
       "      <td>95</td>\n",
       "      <td>356</td>\n",
       "      <td>4.31</td>\n",
       "      <td>13</td>\n",
       "      <td>1</td>\n",
       "      <td>gFa1YMEJFag,UEvVksP91kg,3TYqkBJ9YRk,nRcovJn9xH...</td>\n",
       "    </tr>\n",
       "    <tr>\n",
       "      <th>3</th>\n",
       "      <td>nRcovJn9xHg</td>\n",
       "      <td>wooochacha</td>\n",
       "      <td>1135.0</td>\n",
       "      <td>Entertainment</td>\n",
       "      <td>118</td>\n",
       "      <td>1115</td>\n",
       "      <td>2.23</td>\n",
       "      <td>57</td>\n",
       "      <td>73</td>\n",
       "      <td>gFa1YMEJFag,UEvVksP91kg,3TYqkBJ9YRk,ZTopArY7Nb...</td>\n",
       "    </tr>\n",
       "    <tr>\n",
       "      <th>4</th>\n",
       "      <td>UEvVksP91kg</td>\n",
       "      <td>johnx113</td>\n",
       "      <td>1135.0</td>\n",
       "      <td>Entertainment</td>\n",
       "      <td>83</td>\n",
       "      <td>281</td>\n",
       "      <td>2.67</td>\n",
       "      <td>9</td>\n",
       "      <td>16</td>\n",
       "      <td>QuRYeRnAuXM,3TYqkBJ9YRk,0TZqX5MbXMA,rSJ8QZWBeg...</td>\n",
       "    </tr>\n",
       "    <tr>\n",
       "      <th>...</th>\n",
       "      <td>...</td>\n",
       "      <td>...</td>\n",
       "      <td>...</td>\n",
       "      <td>...</td>\n",
       "      <td>...</td>\n",
       "      <td>...</td>\n",
       "      <td>...</td>\n",
       "      <td>...</td>\n",
       "      <td>...</td>\n",
       "      <td>...</td>\n",
       "    </tr>\n",
       "    <tr>\n",
       "      <th>3234</th>\n",
       "      <td>S95602a7cFE</td>\n",
       "      <td>mattCTB</td>\n",
       "      <td>1045.0</td>\n",
       "      <td>Entertainment</td>\n",
       "      <td>87</td>\n",
       "      <td>39885</td>\n",
       "      <td>4.51</td>\n",
       "      <td>63</td>\n",
       "      <td>131</td>\n",
       "      <td>bLAP45F4UCw,URIaUbRjIrU,x2TUkfeO-gM,Ydm5IedLYS...</td>\n",
       "    </tr>\n",
       "    <tr>\n",
       "      <th>3235</th>\n",
       "      <td>esCvu46qDaA</td>\n",
       "      <td>RSMFD</td>\n",
       "      <td>863.0</td>\n",
       "      <td>Entertainment</td>\n",
       "      <td>63</td>\n",
       "      <td>116929</td>\n",
       "      <td>4.84</td>\n",
       "      <td>182</td>\n",
       "      <td>222</td>\n",
       "      <td>vOskZNJJII8,q3qdBVDZrmE,mLDLe024T_I,bhLbFGVduT...</td>\n",
       "    </tr>\n",
       "    <tr>\n",
       "      <th>3236</th>\n",
       "      <td>GSsVZcKHues</td>\n",
       "      <td>GTASite</td>\n",
       "      <td>1024.0</td>\n",
       "      <td>Entertainment</td>\n",
       "      <td>123</td>\n",
       "      <td>486752</td>\n",
       "      <td>4.86</td>\n",
       "      <td>1098</td>\n",
       "      <td>1764</td>\n",
       "      <td>vOskZNJJII8,_X5nHLOiAVo,cNION6wGuso,5-reBn0gUk...</td>\n",
       "    </tr>\n",
       "    <tr>\n",
       "      <th>3237</th>\n",
       "      <td>foKRqJGcbPQ</td>\n",
       "      <td>scrambledeggsTV</td>\n",
       "      <td>1100.0</td>\n",
       "      <td>Entertainment</td>\n",
       "      <td>136</td>\n",
       "      <td>13115</td>\n",
       "      <td>4.45</td>\n",
       "      <td>33</td>\n",
       "      <td>37</td>\n",
       "      <td>_X5nHLOiAVo,5-reBn0gUkg,e8bEzU2Tx7c,e4yx1s-l6f...</td>\n",
       "    </tr>\n",
       "    <tr>\n",
       "      <th>3238</th>\n",
       "      <td>-CYhSNHbeC8</td>\n",
       "      <td>rehab07</td>\n",
       "      <td>771.0</td>\n",
       "      <td>Entertainment</td>\n",
       "      <td>186</td>\n",
       "      <td>103556</td>\n",
       "      <td>4.30</td>\n",
       "      <td>277</td>\n",
       "      <td>220</td>\n",
       "      <td>EOj-iWkcJPU,pg3j4IBMRZE,2GHiAEeFQs0,e4yx1s-l6f...</td>\n",
       "    </tr>\n",
       "  </tbody>\n",
       "</table>\n",
       "<p>3239 rows × 10 columns</p>\n",
       "</div>"
      ],
      "text/plain": [
       "         Video ID  ...                                  Related Video IDs\n",
       "0     QuRYeRnAuXM  ...  nRcovJn9xHg,3TYqkBJ9YRk,rSJ8QZWBegU,0TZqX5MbXM...\n",
       "1     3TYqkBJ9YRk  ...  gFa1YMEJFag,UEvVksP91kg,rSJ8QZWBegU,nRcovJn9xH...\n",
       "2     rSJ8QZWBegU  ...  gFa1YMEJFag,UEvVksP91kg,3TYqkBJ9YRk,nRcovJn9xH...\n",
       "3     nRcovJn9xHg  ...  gFa1YMEJFag,UEvVksP91kg,3TYqkBJ9YRk,ZTopArY7Nb...\n",
       "4     UEvVksP91kg  ...  QuRYeRnAuXM,3TYqkBJ9YRk,0TZqX5MbXMA,rSJ8QZWBeg...\n",
       "...           ...  ...                                                ...\n",
       "3234  S95602a7cFE  ...  bLAP45F4UCw,URIaUbRjIrU,x2TUkfeO-gM,Ydm5IedLYS...\n",
       "3235  esCvu46qDaA  ...  vOskZNJJII8,q3qdBVDZrmE,mLDLe024T_I,bhLbFGVduT...\n",
       "3236  GSsVZcKHues  ...  vOskZNJJII8,_X5nHLOiAVo,cNION6wGuso,5-reBn0gUk...\n",
       "3237  foKRqJGcbPQ  ...  _X5nHLOiAVo,5-reBn0gUkg,e8bEzU2Tx7c,e4yx1s-l6f...\n",
       "3238  -CYhSNHbeC8  ...  EOj-iWkcJPU,pg3j4IBMRZE,2GHiAEeFQs0,e4yx1s-l6f...\n",
       "\n",
       "[3239 rows x 10 columns]"
      ]
     },
     "execution_count": 132,
     "metadata": {},
     "output_type": "execute_result"
    }
   ],
   "source": [
    "data.toPandas()"
   ]
  },
  {
   "cell_type": "code",
   "execution_count": 0,
   "metadata": {
    "application/vnd.databricks.v1+cell": {
     "cellMetadata": {
      "byteLimit": 2048000,
      "rowLimit": 10000
     },
     "inputWidgets": {},
     "nuid": "38da9db7-ad98-438d-8922-6693d61c7af5",
     "showTitle": false,
     "title": ""
    }
   },
   "outputs": [],
   "source": [
    "# Define the directory path to save the CSV files in DBFS\n",
    "output_path = '/dbfs/Workspace/Users/d-user11@heu.ai/output.csv'\n",
    "\n",
    "# Export the DataFrame to a CSV file\n",
    "data.write.csv(output_path, header=True,mode='overwrite')"
   ]
  },
  {
   "cell_type": "code",
   "execution_count": 0,
   "metadata": {
    "application/vnd.databricks.v1+cell": {
     "cellMetadata": {
      "byteLimit": 2048000,
      "rowLimit": 10000
     },
     "inputWidgets": {},
     "nuid": "f153ad50-436a-4e80-8c25-f83bf232c49e",
     "showTitle": false,
     "title": ""
    }
   },
   "outputs": [
    {
     "output_type": "execute_result",
     "data": {
      "text/plain": [
       "[FileInfo(path='dbfs:/dbfs/Workspace/Users/d-user11@heu.ai/_SUCCESS', name='_SUCCESS', size=0, modificationTime=1724927607000),\n",
       " FileInfo(path='dbfs:/dbfs/Workspace/Users/d-user11@heu.ai/_committed_3854143736740846760', name='_committed_3854143736740846760', size=112, modificationTime=1724927153000),\n",
       " FileInfo(path='dbfs:/dbfs/Workspace/Users/d-user11@heu.ai/_committed_4262934571597625899', name='_committed_4262934571597625899', size=211, modificationTime=1724927607000),\n",
       " FileInfo(path='dbfs:/dbfs/Workspace/Users/d-user11@heu.ai/_started_3854143736740846760', name='_started_3854143736740846760', size=0, modificationTime=1724927152000),\n",
       " FileInfo(path='dbfs:/dbfs/Workspace/Users/d-user11@heu.ai/_started_4262934571597625899', name='_started_4262934571597625899', size=0, modificationTime=1724927606000),\n",
       " FileInfo(path='dbfs:/dbfs/Workspace/Users/d-user11@heu.ai/cleaneddata.csv/', name='cleaneddata.csv/', size=0, modificationTime=1724926558000),\n",
       " FileInfo(path='dbfs:/dbfs/Workspace/Users/d-user11@heu.ai/output.csv/', name='output.csv/', size=0, modificationTime=1724927653000),\n",
       " FileInfo(path='dbfs:/dbfs/Workspace/Users/d-user11@heu.ai/part-00000-tid-4262934571597625899-17c85058-a04b-40b4-8470-e8fcd1c685cb-103-1-c000.csv', name='part-00000-tid-4262934571597625899-17c85058-a04b-40b4-8470-e8fcd1c685cb-103-1-c000.csv', size=708016, modificationTime=1724927606000)]"
      ]
     },
     "execution_count": 139,
     "metadata": {},
     "output_type": "execute_result"
    }
   ],
   "source": [
    "# List files in a directory\n",
    "dbutils.fs.ls(\"/dbfs/Workspace/Users/d-user11@heu.ai/\")"
   ]
  },
  {
   "cell_type": "code",
   "execution_count": 0,
   "metadata": {
    "application/vnd.databricks.v1+cell": {
     "cellMetadata": {
      "byteLimit": 2048000,
      "rowLimit": 10000
     },
     "inputWidgets": {},
     "nuid": "55f695d4-1eff-49b6-a61e-059853459b70",
     "showTitle": false,
     "title": ""
    }
   },
   "outputs": [
    {
     "output_type": "execute_result",
     "data": {
      "text/html": [
       "<div>\n",
       "<style scoped>\n",
       "    .dataframe tbody tr th:only-of-type {\n",
       "        vertical-align: middle;\n",
       "    }\n",
       "\n",
       "    .dataframe tbody tr th {\n",
       "        vertical-align: top;\n",
       "    }\n",
       "\n",
       "    .dataframe thead th {\n",
       "        text-align: right;\n",
       "    }\n",
       "</style>\n",
       "<table border=\"1\" class=\"dataframe\">\n",
       "  <thead>\n",
       "    <tr style=\"text-align: right;\">\n",
       "      <th></th>\n",
       "      <th>Video ID</th>\n",
       "      <th>Video Uploader</th>\n",
       "      <th>Interval between YouTube Establishment and Video Upload</th>\n",
       "      <th>Video Category</th>\n",
       "      <th>Video Length</th>\n",
       "      <th>Number of Views</th>\n",
       "      <th>Rating on the Video</th>\n",
       "      <th>Number of Ratings</th>\n",
       "      <th>Number of Comments</th>\n",
       "      <th>Related Video IDs</th>\n",
       "    </tr>\n",
       "  </thead>\n",
       "  <tbody>\n",
       "    <tr>\n",
       "      <th>0</th>\n",
       "      <td>QuRYeRnAuXM</td>\n",
       "      <td>EvilSquirrelPictures</td>\n",
       "      <td>1135.0</td>\n",
       "      <td>Pets &amp; Animals</td>\n",
       "      <td>252</td>\n",
       "      <td>1075</td>\n",
       "      <td>4.96</td>\n",
       "      <td>46</td>\n",
       "      <td>86</td>\n",
       "      <td>nRcovJn9xHg,3TYqkBJ9YRk,rSJ8QZWBegU,0TZqX5MbXM...</td>\n",
       "    </tr>\n",
       "    <tr>\n",
       "      <th>1</th>\n",
       "      <td>3TYqkBJ9YRk</td>\n",
       "      <td>hggh22</td>\n",
       "      <td>1135.0</td>\n",
       "      <td>Comedy</td>\n",
       "      <td>169</td>\n",
       "      <td>228</td>\n",
       "      <td>5.00</td>\n",
       "      <td>5</td>\n",
       "      <td>3</td>\n",
       "      <td>gFa1YMEJFag,UEvVksP91kg,rSJ8QZWBegU,nRcovJn9xH...</td>\n",
       "    </tr>\n",
       "    <tr>\n",
       "      <th>2</th>\n",
       "      <td>rSJ8QZWBegU</td>\n",
       "      <td>TimeGem</td>\n",
       "      <td>1135.0</td>\n",
       "      <td>Entertainment</td>\n",
       "      <td>95</td>\n",
       "      <td>356</td>\n",
       "      <td>4.31</td>\n",
       "      <td>13</td>\n",
       "      <td>1</td>\n",
       "      <td>gFa1YMEJFag,UEvVksP91kg,3TYqkBJ9YRk,nRcovJn9xH...</td>\n",
       "    </tr>\n",
       "    <tr>\n",
       "      <th>3</th>\n",
       "      <td>nRcovJn9xHg</td>\n",
       "      <td>wooochacha</td>\n",
       "      <td>1135.0</td>\n",
       "      <td>Entertainment</td>\n",
       "      <td>118</td>\n",
       "      <td>1115</td>\n",
       "      <td>2.23</td>\n",
       "      <td>57</td>\n",
       "      <td>73</td>\n",
       "      <td>gFa1YMEJFag,UEvVksP91kg,3TYqkBJ9YRk,ZTopArY7Nb...</td>\n",
       "    </tr>\n",
       "    <tr>\n",
       "      <th>4</th>\n",
       "      <td>UEvVksP91kg</td>\n",
       "      <td>johnx113</td>\n",
       "      <td>1135.0</td>\n",
       "      <td>Entertainment</td>\n",
       "      <td>83</td>\n",
       "      <td>281</td>\n",
       "      <td>2.67</td>\n",
       "      <td>9</td>\n",
       "      <td>16</td>\n",
       "      <td>QuRYeRnAuXM,3TYqkBJ9YRk,0TZqX5MbXMA,rSJ8QZWBeg...</td>\n",
       "    </tr>\n",
       "    <tr>\n",
       "      <th>...</th>\n",
       "      <td>...</td>\n",
       "      <td>...</td>\n",
       "      <td>...</td>\n",
       "      <td>...</td>\n",
       "      <td>...</td>\n",
       "      <td>...</td>\n",
       "      <td>...</td>\n",
       "      <td>...</td>\n",
       "      <td>...</td>\n",
       "      <td>...</td>\n",
       "    </tr>\n",
       "    <tr>\n",
       "      <th>3234</th>\n",
       "      <td>S95602a7cFE</td>\n",
       "      <td>mattCTB</td>\n",
       "      <td>1045.0</td>\n",
       "      <td>Entertainment</td>\n",
       "      <td>87</td>\n",
       "      <td>39885</td>\n",
       "      <td>4.51</td>\n",
       "      <td>63</td>\n",
       "      <td>131</td>\n",
       "      <td>bLAP45F4UCw,URIaUbRjIrU,x2TUkfeO-gM,Ydm5IedLYS...</td>\n",
       "    </tr>\n",
       "    <tr>\n",
       "      <th>3235</th>\n",
       "      <td>esCvu46qDaA</td>\n",
       "      <td>RSMFD</td>\n",
       "      <td>863.0</td>\n",
       "      <td>Entertainment</td>\n",
       "      <td>63</td>\n",
       "      <td>116929</td>\n",
       "      <td>4.84</td>\n",
       "      <td>182</td>\n",
       "      <td>222</td>\n",
       "      <td>vOskZNJJII8,q3qdBVDZrmE,mLDLe024T_I,bhLbFGVduT...</td>\n",
       "    </tr>\n",
       "    <tr>\n",
       "      <th>3236</th>\n",
       "      <td>GSsVZcKHues</td>\n",
       "      <td>GTASite</td>\n",
       "      <td>1024.0</td>\n",
       "      <td>Entertainment</td>\n",
       "      <td>123</td>\n",
       "      <td>486752</td>\n",
       "      <td>4.86</td>\n",
       "      <td>1098</td>\n",
       "      <td>1764</td>\n",
       "      <td>vOskZNJJII8,_X5nHLOiAVo,cNION6wGuso,5-reBn0gUk...</td>\n",
       "    </tr>\n",
       "    <tr>\n",
       "      <th>3237</th>\n",
       "      <td>foKRqJGcbPQ</td>\n",
       "      <td>scrambledeggsTV</td>\n",
       "      <td>1100.0</td>\n",
       "      <td>Entertainment</td>\n",
       "      <td>136</td>\n",
       "      <td>13115</td>\n",
       "      <td>4.45</td>\n",
       "      <td>33</td>\n",
       "      <td>37</td>\n",
       "      <td>_X5nHLOiAVo,5-reBn0gUkg,e8bEzU2Tx7c,e4yx1s-l6f...</td>\n",
       "    </tr>\n",
       "    <tr>\n",
       "      <th>3238</th>\n",
       "      <td>-CYhSNHbeC8</td>\n",
       "      <td>rehab07</td>\n",
       "      <td>771.0</td>\n",
       "      <td>Entertainment</td>\n",
       "      <td>186</td>\n",
       "      <td>103556</td>\n",
       "      <td>4.30</td>\n",
       "      <td>277</td>\n",
       "      <td>220</td>\n",
       "      <td>EOj-iWkcJPU,pg3j4IBMRZE,2GHiAEeFQs0,e4yx1s-l6f...</td>\n",
       "    </tr>\n",
       "  </tbody>\n",
       "</table>\n",
       "<p>3239 rows × 10 columns</p>\n",
       "</div>"
      ],
      "text/plain": [
       "         Video ID  ...                                  Related Video IDs\n",
       "0     QuRYeRnAuXM  ...  nRcovJn9xHg,3TYqkBJ9YRk,rSJ8QZWBegU,0TZqX5MbXM...\n",
       "1     3TYqkBJ9YRk  ...  gFa1YMEJFag,UEvVksP91kg,rSJ8QZWBegU,nRcovJn9xH...\n",
       "2     rSJ8QZWBegU  ...  gFa1YMEJFag,UEvVksP91kg,3TYqkBJ9YRk,nRcovJn9xH...\n",
       "3     nRcovJn9xHg  ...  gFa1YMEJFag,UEvVksP91kg,3TYqkBJ9YRk,ZTopArY7Nb...\n",
       "4     UEvVksP91kg  ...  QuRYeRnAuXM,3TYqkBJ9YRk,0TZqX5MbXMA,rSJ8QZWBeg...\n",
       "...           ...  ...                                                ...\n",
       "3234  S95602a7cFE  ...  bLAP45F4UCw,URIaUbRjIrU,x2TUkfeO-gM,Ydm5IedLYS...\n",
       "3235  esCvu46qDaA  ...  vOskZNJJII8,q3qdBVDZrmE,mLDLe024T_I,bhLbFGVduT...\n",
       "3236  GSsVZcKHues  ...  vOskZNJJII8,_X5nHLOiAVo,cNION6wGuso,5-reBn0gUk...\n",
       "3237  foKRqJGcbPQ  ...  _X5nHLOiAVo,5-reBn0gUkg,e8bEzU2Tx7c,e4yx1s-l6f...\n",
       "3238  -CYhSNHbeC8  ...  EOj-iWkcJPU,pg3j4IBMRZE,2GHiAEeFQs0,e4yx1s-l6f...\n",
       "\n",
       "[3239 rows x 10 columns]"
      ]
     },
     "execution_count": 140,
     "metadata": {},
     "output_type": "execute_result"
    }
   ],
   "source": [
    "# Read a CSV file from DBFS\n",
    "dfo = spark.read.csv(\"/dbfs/Workspace/Users/d-user11@heu.ai/output.csv\", header=True, inferSchema=True)\n",
    "dfo.toPandas()\n",
    "\n"
   ]
  },
  {
   "cell_type": "code",
   "execution_count": 0,
   "metadata": {
    "application/vnd.databricks.v1+cell": {
     "cellMetadata": {
      "byteLimit": 2048000,
      "rowLimit": 10000
     },
     "inputWidgets": {},
     "nuid": "81eb02cb-36da-49fb-b792-1e9861bfb9cf",
     "showTitle": false,
     "title": ""
    }
   },
   "outputs": [],
   "source": [
    "# Analysis and Insights\n",
    "# 1. Top Video Categories\n",
    "# Objective: Find the top video categories with the maximum number of videos uploaded.\n",
    "\n"
   ]
  },
  {
   "cell_type": "code",
   "execution_count": 0,
   "metadata": {
    "application/vnd.databricks.v1+cell": {
     "cellMetadata": {},
     "inputWidgets": {},
     "nuid": "93092685-ee43-406a-b39c-c6c536f90bf3",
     "showTitle": false,
     "title": ""
    }
   },
   "outputs": [],
   "source": []
  }
 ],
 "metadata": {
  "application/vnd.databricks.v1+notebook": {
   "dashboards": [],
   "environmentMetadata": null,
   "language": "python",
   "notebookMetadata": {
    "pythonIndentUnit": 4
   },
   "notebookName": "PySpark_Youtube_Data_Analysis",
   "widgets": {}
  },
  "kernelspec": {
   "display_name": "Python 3",
   "language": "python",
   "name": "python3"
  },
  "language_info": {
   "codemirror_mode": {
    "name": "ipython",
    "version": 3
   },
   "file_extension": ".py",
   "mimetype": "text/x-python",
   "name": "python",
   "nbconvert_exporter": "python",
   "pygments_lexer": "ipython3",
   "version": "3.12.4"
  }
 },
 "nbformat": 4,
 "nbformat_minor": 0
}
